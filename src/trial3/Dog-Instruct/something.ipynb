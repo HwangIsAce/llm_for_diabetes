{
 "cells": [
  {
   "cell_type": "code",
   "execution_count": 2,
   "metadata": {},
   "outputs": [],
   "source": [
    "import json\n",
    "\n",
    "jsonl_file_path = \"/data/jaesung/llm_for_diabetes/src/trial3/diabetes_food_hub_script.jsonl\"\n",
    "json_file_path = \"/data/jaesung/llm_for_diabetes/src/trial3/Dog-Instruct/my_document.json\"\n",
    "\n",
    "data = []\n",
    "\n",
    "with open(jsonl_file_path, 'r', encoding='utf-8') as file:\n",
    "    for line in file:\n",
    "        record = json.loads(line)\n",
    "        if \"script\" in record:\n",
    "            data.append({\"text\": record['script']})\n",
    "\n",
    "with open(json_file_path, 'w', encoding='utf-8') as file:\n",
    "    json.dump(data, file, indent=4, ensure_ascii=False)"
   ]
  },
  {
   "cell_type": "code",
   "execution_count": null,
   "metadata": {},
   "outputs": [
    {
     "name": "stderr",
     "output_type": "stream",
     "text": [
      "0it [00:00, ?it/s]"
     ]
    },
    {
     "name": "stderr",
     "output_type": "stream",
     "text": [
      "421it [1:33:34, 13.34s/it]"
     ]
    },
    {
     "name": "stdout",
     "output_type": "stream",
     "text": [
      "Refined JSONL file saved at my_task_final.jsonl.\n"
     ]
    },
    {
     "name": "stderr",
     "output_type": "stream",
     "text": [
      "\n"
     ]
    }
   ],
   "source": [
    "import json\n",
    "import openai\n",
    "\n",
    "OPENAI_API_KEY = \"\" \n",
    "openai.api_key = OPENAI_API_KEY\n",
    "\n",
    "original_json_path = \"/data/jaesung/llm_for_diabetes/src/trial3/Dog-Instruct/my_document.json\"  \n",
    "dog_instruct_json_path = \"/data/jaesung/llm_for_diabetes/src/trial3/Dog-Instruct/my_task_limited_creativity.json\"\n",
    "output_jsonl_path = \"my_task_final.jsonl\" \n",
    "\n",
    "with open(original_json_path, \"r\", encoding=\"utf-8\") as f:\n",
    "    original_data = json.load(f)\n",
    "\n",
    "with open(dog_instruct_json_path, \"r\", encoding=\"utf-8\") as f:\n",
    "    dog_instruct_data = json.load(f)\n",
    "\n",
    "client = openai.OpenAI()\n",
    "\n",
    "def refine_text_with_gpt(original_text, dog_instruct_entry):    \n",
    "    prompt = f\"\"\"\n",
    "    Your task is to refine the given instruction, input, and output while ensuring they accurately reflect the original text. \n",
    "    Preserve the intent and structure of the Dog-Instruct JSON while filling in any missing details from the original text.\n",
    "\n",
    "    **Original Text (from the original JSON):**\n",
    "    {original_text}\n",
    "\n",
    "    **Current Dog-Instruct JSON (before refinement):**\n",
    "    - Instruction: {dog_instruct_entry[\"instruction\"]}\n",
    "    - Input: {dog_instruct_entry[\"input\"]}\n",
    "    - Output: {dog_instruct_entry[\"output\"]}\n",
    "\n",
    "    **Task Requirements:**\n",
    "    1. Preserve the existing instruction, input, and output structure from the Dog-Instruct JSON as much as possible.\n",
    "    2. Fill in any missing or incomplete details using the original text without changing the meaning.\n",
    "    3. Ensure that the response remains factual and does not introduce hallucinated content.\n",
    "    4. The instruction should remain clear and relevant to the input.\n",
    "    5. The input should contain meaningful content derived from the original text.\n",
    "    6. The output should be a well-formed response based on both the Dog-Instruct JSON and original text.\n",
    "\n",
    "    **Response Format (MUST be a valid JSON object without any additional text):**\n",
    "    ```json\n",
    "    {{\n",
    "      \"instruction\": \"...\",\n",
    "      \"input\": \"...\",\n",
    "      \"output\": \"...\"\n",
    "    }}\n",
    "    ```\n",
    "    DO NOT include any other text, explanation, or formatting outside the JSON block.\n",
    "    \"\"\"\n",
    "\n",
    "    response = openai.chat.completions.create(\n",
    "        model=\"gpt-4o\",\n",
    "        messages=[{\"role\": \"system\", \"content\": \"You are an AI assistant that refines structured JSON data.\"},\n",
    "                  {\"role\": \"user\", \"content\": prompt}],\n",
    "        temperature=0.2\n",
    "    )\n",
    "\n",
    "    response_text = response.choices[0].message.content.strip()\n",
    "    if response_text.startswith(\"```json\"):\n",
    "        response_text = response_text[7:]  # ```json 제거\n",
    "    if response_text.endswith(\"```\"):\n",
    "        response_text = response_text[:-3]  # ``` 제거\n",
    "    \n",
    "    # print(f\"GPT-4o Response:\\n{response_text}\\n\")  # 응답을 출력하여 디버깅\n",
    "\n",
    "    try:\n",
    "        return json.loads(response_text)  # JSON 변환 시도\n",
    "    except json.JSONDecodeError:\n",
    "        print(\"❌ JSONDecodeError 발생! API 응답이 올바른 JSON 형식이 아닙니다.\")\n",
    "        return None  # None을 반환하여 이후 코드에서 예외 처리 가능\n",
    "\n",
    "from tqdm import tqdm\n",
    "\n",
    "with open(output_jsonl_path, \"a\", encoding=\"utf-8\") as f:\n",
    "    for orig, dog in tqdm(zip(original_data[464+441:], dog_instruct_data[464+441:])):\n",
    "        fixed_entry = refine_text_with_gpt(orig[\"text\"], dog)\n",
    "        f.write(json.dumps(fixed_entry, ensure_ascii=False) + \"\\n\")\n",
    "\n",
    "print(f\"Refined JSONL file saved at {output_jsonl_path}.\")\n",
    "# error idx -463, 903, 904"
   ]
  },
  {
   "cell_type": "code",
   "execution_count": null,
   "metadata": {},
   "outputs": [],
   "source": []
  }
 ],
 "metadata": {
  "kernelspec": {
   "display_name": "dog_kernel",
   "language": "python",
   "name": "dog"
  },
  "language_info": {
   "codemirror_mode": {
    "name": "ipython",
    "version": 3
   },
   "file_extension": ".py",
   "mimetype": "text/x-python",
   "name": "python",
   "nbconvert_exporter": "python",
   "pygments_lexer": "ipython3",
   "version": "3.11.11"
  }
 },
 "nbformat": 4,
 "nbformat_minor": 2
}
