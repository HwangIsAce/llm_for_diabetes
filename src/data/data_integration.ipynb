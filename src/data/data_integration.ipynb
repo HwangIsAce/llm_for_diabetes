{
 "cells": [
  {
   "cell_type": "code",
   "execution_count": 1,
   "metadata": {},
   "outputs": [
    {
     "data": {
      "text/html": [
       "<div>\n",
       "<style scoped>\n",
       "    .dataframe tbody tr th:only-of-type {\n",
       "        vertical-align: middle;\n",
       "    }\n",
       "\n",
       "    .dataframe tbody tr th {\n",
       "        vertical-align: top;\n",
       "    }\n",
       "\n",
       "    .dataframe thead th {\n",
       "        text-align: right;\n",
       "    }\n",
       "</style>\n",
       "<table border=\"1\" class=\"dataframe\">\n",
       "  <thead>\n",
       "    <tr style=\"text-align: right;\">\n",
       "      <th></th>\n",
       "      <th>dataset</th>\n",
       "      <th>split_data</th>\n",
       "      <th>task</th>\n",
       "      <th>instruction</th>\n",
       "      <th>input</th>\n",
       "      <th>output</th>\n",
       "    </tr>\n",
       "  </thead>\n",
       "  <tbody>\n",
       "    <tr>\n",
       "      <th>0</th>\n",
       "      <td>medqa</td>\n",
       "      <td>train</td>\n",
       "      <td>qa_objective_1</td>\n",
       "      <td>Select the most appropriate answer for the giv...</td>\n",
       "      <td>A 42-year-old woman presents to the emergency ...</td>\n",
       "      <td>D) Ursodeoxycholic acid</td>\n",
       "    </tr>\n",
       "    <tr>\n",
       "      <th>1</th>\n",
       "      <td>medqa</td>\n",
       "      <td>train</td>\n",
       "      <td>qa_objective_1</td>\n",
       "      <td>Select the most appropriate answer for the giv...</td>\n",
       "      <td>A 69-year-old man presents to his dermatologis...</td>\n",
       "      <td>B) Immunosuppression</td>\n",
       "    </tr>\n",
       "  </tbody>\n",
       "</table>\n",
       "</div>"
      ],
      "text/plain": [
       "  dataset split_data            task  \\\n",
       "0   medqa      train  qa_objective_1   \n",
       "1   medqa      train  qa_objective_1   \n",
       "\n",
       "                                         instruction  \\\n",
       "0  Select the most appropriate answer for the giv...   \n",
       "1  Select the most appropriate answer for the giv...   \n",
       "\n",
       "                                               input                   output  \n",
       "0  A 42-year-old woman presents to the emergency ...  D) Ursodeoxycholic acid  \n",
       "1  A 69-year-old man presents to his dermatologis...     B) Immunosuppression  "
      ]
     },
     "execution_count": 1,
     "metadata": {},
     "output_type": "execute_result"
    }
   ],
   "source": [
    "## train\n",
    "\n",
    "import pandas as pd\n",
    "import json\n",
    "\n",
    "## data1\n",
    "file_path1 = \"/data/jaesung/llm_for_diabetes/src/data/data1_diabetes/train_instruction_dataset_v11.json\"\n",
    "with open(file_path1, 'r', encoding='utf-8') as f:\n",
    "    data1 = json.load(f)\n",
    "\n",
    "data1 = pd.DataFrame(data1)\n",
    "\n",
    "data1 = data1[['dataset', 'split_data', 'task', 'instruction', 'input', 'output']]\n",
    "\n",
    "data1.head(2)"
   ]
  },
  {
   "cell_type": "code",
   "execution_count": 2,
   "metadata": {},
   "outputs": [
    {
     "data": {
      "text/html": [
       "<div>\n",
       "<style scoped>\n",
       "    .dataframe tbody tr th:only-of-type {\n",
       "        vertical-align: middle;\n",
       "    }\n",
       "\n",
       "    .dataframe tbody tr th {\n",
       "        vertical-align: top;\n",
       "    }\n",
       "\n",
       "    .dataframe thead th {\n",
       "        text-align: right;\n",
       "    }\n",
       "</style>\n",
       "<table border=\"1\" class=\"dataframe\">\n",
       "  <thead>\n",
       "    <tr style=\"text-align: right;\">\n",
       "      <th></th>\n",
       "      <th>dataset</th>\n",
       "      <th>split_data</th>\n",
       "      <th>task</th>\n",
       "      <th>instruction</th>\n",
       "      <th>input</th>\n",
       "      <th>output</th>\n",
       "    </tr>\n",
       "  </thead>\n",
       "  <tbody>\n",
       "    <tr>\n",
       "      <th>0</th>\n",
       "      <td>diabetes_food_hub</td>\n",
       "      <td>train</td>\n",
       "      <td>dfh_info</td>\n",
       "      <td>Provide the nutrition facts for the given recipe.</td>\n",
       "      <td>Chicken Apple Crunch Salad</td>\n",
       "      <td>Amount per serving: 230, Total Fat: 10g, Chole...</td>\n",
       "    </tr>\n",
       "    <tr>\n",
       "      <th>1</th>\n",
       "      <td>diabetes_food_hub</td>\n",
       "      <td>train</td>\n",
       "      <td>dfh_info</td>\n",
       "      <td>List the measurements for all ingredients in t...</td>\n",
       "      <td>Chicken Apple Crunch Salad</td>\n",
       "      <td>- cooked chicken: 2 cup (473 ml)\\n- Gala apple...</td>\n",
       "    </tr>\n",
       "  </tbody>\n",
       "</table>\n",
       "</div>"
      ],
      "text/plain": [
       "             dataset split_data      task  \\\n",
       "0  diabetes_food_hub      train  dfh_info   \n",
       "1  diabetes_food_hub      train  dfh_info   \n",
       "\n",
       "                                         instruction  \\\n",
       "0  Provide the nutrition facts for the given recipe.   \n",
       "1  List the measurements for all ingredients in t...   \n",
       "\n",
       "                        input  \\\n",
       "0  Chicken Apple Crunch Salad   \n",
       "1  Chicken Apple Crunch Salad   \n",
       "\n",
       "                                              output  \n",
       "0  Amount per serving: 230, Total Fat: 10g, Chole...  \n",
       "1  - cooked chicken: 2 cup (473 ml)\\n- Gala apple...  "
      ]
     },
     "execution_count": 2,
     "metadata": {},
     "output_type": "execute_result"
    }
   ],
   "source": [
    "\n",
    "## data2 - dfh info\n",
    "file_path21 = \"/data/jaesung/llm_for_diabetes/src/data/data2_daily_diets/dfh_instrution_dataset_v3.json\"\n",
    "with open(file_path21, 'r', encoding='utf-8') as f:\n",
    "    data2_dfh = json.load(f)\n",
    "\n",
    "data2_dfh = pd.DataFrame(data2_dfh)\n",
    "data2_dfh['dataset'] = 'diabetes_food_hub'\n",
    "data2_dfh['split_data'] = 'train'\n",
    "data2_dfh['task'] = 'dfh_info'\n",
    "\n",
    "data2_dfh = data2_dfh[['dataset', 'split_data', 'task', 'instruction', 'input', 'output']]\n",
    "\n",
    "data2_dfh.head(2)"
   ]
  },
  {
   "cell_type": "code",
   "execution_count": 3,
   "metadata": {},
   "outputs": [
    {
     "data": {
      "text/html": [
       "<div>\n",
       "<style scoped>\n",
       "    .dataframe tbody tr th:only-of-type {\n",
       "        vertical-align: middle;\n",
       "    }\n",
       "\n",
       "    .dataframe tbody tr th {\n",
       "        vertical-align: top;\n",
       "    }\n",
       "\n",
       "    .dataframe thead th {\n",
       "        text-align: right;\n",
       "    }\n",
       "</style>\n",
       "<table border=\"1\" class=\"dataframe\">\n",
       "  <thead>\n",
       "    <tr style=\"text-align: right;\">\n",
       "      <th></th>\n",
       "      <th>dataset</th>\n",
       "      <th>split_data</th>\n",
       "      <th>task</th>\n",
       "      <th>instruction</th>\n",
       "      <th>input</th>\n",
       "      <th>output</th>\n",
       "    </tr>\n",
       "  </thead>\n",
       "  <tbody>\n",
       "    <tr>\n",
       "      <th>0</th>\n",
       "      <td>diabetes_food_hub</td>\n",
       "      <td>train</td>\n",
       "      <td>daily_diets</td>\n",
       "      <td>Recommend a daily diet based on the given nutr...</td>\n",
       "      <td>Ensure the daily carbohydrate intake does not ...</td>\n",
       "      <td>{'Breakfast': 'Parsley Dill Ricotta Dip', 'Lun...</td>\n",
       "    </tr>\n",
       "    <tr>\n",
       "      <th>1</th>\n",
       "      <td>diabetes_food_hub</td>\n",
       "      <td>train</td>\n",
       "      <td>daily_diets</td>\n",
       "      <td>Recommend a daily diet that includes a specifi...</td>\n",
       "      <td>Create a diet that includes boneless, skinless...</td>\n",
       "      <td>{'Breakfast': 'Parsley Dill Ricotta Dip', 'Lun...</td>\n",
       "    </tr>\n",
       "  </tbody>\n",
       "</table>\n",
       "</div>"
      ],
      "text/plain": [
       "             dataset split_data         task  \\\n",
       "0  diabetes_food_hub      train  daily_diets   \n",
       "1  diabetes_food_hub      train  daily_diets   \n",
       "\n",
       "                                         instruction  \\\n",
       "0  Recommend a daily diet based on the given nutr...   \n",
       "1  Recommend a daily diet that includes a specifi...   \n",
       "\n",
       "                                               input  \\\n",
       "0  Ensure the daily carbohydrate intake does not ...   \n",
       "1  Create a diet that includes boneless, skinless...   \n",
       "\n",
       "                                              output  \n",
       "0  {'Breakfast': 'Parsley Dill Ricotta Dip', 'Lun...  \n",
       "1  {'Breakfast': 'Parsley Dill Ricotta Dip', 'Lun...  "
      ]
     },
     "execution_count": 3,
     "metadata": {},
     "output_type": "execute_result"
    }
   ],
   "source": [
    "## data2 - daily_diets\n",
    "file_path22 = \"/data/jaesung/llm_for_diabetes/src/data/data2_daily_diets/daily_diets_drop_duplicated_and_sampled_train_instruction_dataset_v5.json\"\n",
    "with open(file_path22, 'r', encoding='utf-8') as f:\n",
    "    data2_daily_diets = json.load(f)\n",
    "\n",
    "data2_daily_diets = pd.DataFrame(data2_daily_diets)\n",
    "data2_daily_diets['dataset'] = 'diabetes_food_hub'\n",
    "data2_daily_diets['split_data'] = 'train'\n",
    "data2_daily_diets['task'] = 'daily_diets'\n",
    "\n",
    "data2_daily_diets = data2_daily_diets[['dataset', 'split_data', 'task', 'instruction', 'input', 'output']]\n",
    "\n",
    "data2_daily_diets.head(2)"
   ]
  },
  {
   "cell_type": "code",
   "execution_count": 4,
   "metadata": {},
   "outputs": [
    {
     "data": {
      "text/html": [
       "<div>\n",
       "<style scoped>\n",
       "    .dataframe tbody tr th:only-of-type {\n",
       "        vertical-align: middle;\n",
       "    }\n",
       "\n",
       "    .dataframe tbody tr th {\n",
       "        vertical-align: top;\n",
       "    }\n",
       "\n",
       "    .dataframe thead th {\n",
       "        text-align: right;\n",
       "    }\n",
       "</style>\n",
       "<table border=\"1\" class=\"dataframe\">\n",
       "  <thead>\n",
       "    <tr style=\"text-align: right;\">\n",
       "      <th></th>\n",
       "      <th>dataset</th>\n",
       "      <th>split_data</th>\n",
       "      <th>task</th>\n",
       "      <th>instruction</th>\n",
       "      <th>input</th>\n",
       "      <th>output</th>\n",
       "    </tr>\n",
       "  </thead>\n",
       "  <tbody>\n",
       "    <tr>\n",
       "      <th>0</th>\n",
       "      <td>diabetes_food_hub</td>\n",
       "      <td>train</td>\n",
       "      <td>alternative_diet</td>\n",
       "      <td>Based on the previous meal, suggest the next m...</td>\n",
       "      <td>Coffee, Latte, flavored</td>\n",
       "      <td>Bountiful Harvest Vegetable Salad is recommend...</td>\n",
       "    </tr>\n",
       "    <tr>\n",
       "      <th>1</th>\n",
       "      <td>diabetes_food_hub</td>\n",
       "      <td>train</td>\n",
       "      <td>alternative_diet</td>\n",
       "      <td>Based on the previous meal, suggest the next m...</td>\n",
       "      <td>Coffee, Latte, flavored</td>\n",
       "      <td>Bountiful Harvest Vegetable Salad is recommend...</td>\n",
       "    </tr>\n",
       "  </tbody>\n",
       "</table>\n",
       "</div>"
      ],
      "text/plain": [
       "             dataset split_data              task  \\\n",
       "0  diabetes_food_hub      train  alternative_diet   \n",
       "1  diabetes_food_hub      train  alternative_diet   \n",
       "\n",
       "                                         instruction                    input  \\\n",
       "0  Based on the previous meal, suggest the next m...  Coffee, Latte, flavored   \n",
       "1  Based on the previous meal, suggest the next m...  Coffee, Latte, flavored   \n",
       "\n",
       "                                              output  \n",
       "0  Bountiful Harvest Vegetable Salad is recommend...  \n",
       "1  Bountiful Harvest Vegetable Salad is recommend...  "
      ]
     },
     "execution_count": 4,
     "metadata": {},
     "output_type": "execute_result"
    }
   ],
   "source": [
    "## data3 - alternative_diet\n",
    "file_path3 = \"/data/jaesung/llm_for_diabetes/src/data/data3_multimodal/version1/snapme_train_instruction_dataset_v6.json\"\n",
    "with open(file_path3, 'r', encoding='utf-8') as f:\n",
    "    data3_alternative_diet = json.load(f)\n",
    "\n",
    "data3_alternative_diet = pd.DataFrame(data3_alternative_diet)\n",
    "data3_alternative_diet['dataset'] = 'diabetes_food_hub'\n",
    "data3_alternative_diet['split_data'] = 'train'\n",
    "data3_alternative_diet['task'] = 'alternative_diet'\n",
    "\n",
    "data3_alternative_diet = data3_alternative_diet[['dataset', 'split_data', 'task', 'instruction', 'input', 'output']]\n",
    "\n",
    "data3_alternative_diet.head(2)"
   ]
  },
  {
   "cell_type": "code",
   "execution_count": 5,
   "metadata": {},
   "outputs": [],
   "source": [
    "train = pd.concat([data1, data2_dfh, data2_daily_diets, data3_alternative_diet], axis=0)"
   ]
  },
  {
   "cell_type": "code",
   "execution_count": null,
   "metadata": {},
   "outputs": [],
   "source": []
  },
  {
   "cell_type": "code",
   "execution_count": 6,
   "metadata": {},
   "outputs": [
    {
     "data": {
      "text/html": [
       "<div>\n",
       "<style scoped>\n",
       "    .dataframe tbody tr th:only-of-type {\n",
       "        vertical-align: middle;\n",
       "    }\n",
       "\n",
       "    .dataframe tbody tr th {\n",
       "        vertical-align: top;\n",
       "    }\n",
       "\n",
       "    .dataframe thead th {\n",
       "        text-align: right;\n",
       "    }\n",
       "</style>\n",
       "<table border=\"1\" class=\"dataframe\">\n",
       "  <thead>\n",
       "    <tr style=\"text-align: right;\">\n",
       "      <th></th>\n",
       "      <th>dataset</th>\n",
       "      <th>split_data</th>\n",
       "      <th>task</th>\n",
       "      <th>instruction</th>\n",
       "      <th>input</th>\n",
       "      <th>output</th>\n",
       "    </tr>\n",
       "  </thead>\n",
       "  <tbody>\n",
       "    <tr>\n",
       "      <th>0</th>\n",
       "      <td>medqa</td>\n",
       "      <td>test</td>\n",
       "      <td>qa_objective_1</td>\n",
       "      <td>Select the most appropriate answer for the giv...</td>\n",
       "      <td>A 67-year-old man presents to his primary care...</td>\n",
       "      <td>D) Methylmalonic acid level</td>\n",
       "    </tr>\n",
       "    <tr>\n",
       "      <th>1</th>\n",
       "      <td>medqa</td>\n",
       "      <td>test</td>\n",
       "      <td>qa_objective_1</td>\n",
       "      <td>Select the most appropriate answer for the giv...</td>\n",
       "      <td>A 37-year-old woman presents to the emergency ...</td>\n",
       "      <td>C) Sphincterotomy</td>\n",
       "    </tr>\n",
       "  </tbody>\n",
       "</table>\n",
       "</div>"
      ],
      "text/plain": [
       "  dataset split_data            task  \\\n",
       "0   medqa       test  qa_objective_1   \n",
       "1   medqa       test  qa_objective_1   \n",
       "\n",
       "                                         instruction  \\\n",
       "0  Select the most appropriate answer for the giv...   \n",
       "1  Select the most appropriate answer for the giv...   \n",
       "\n",
       "                                               input  \\\n",
       "0  A 67-year-old man presents to his primary care...   \n",
       "1  A 37-year-old woman presents to the emergency ...   \n",
       "\n",
       "                        output  \n",
       "0  D) Methylmalonic acid level  \n",
       "1            C) Sphincterotomy  "
      ]
     },
     "execution_count": 6,
     "metadata": {},
     "output_type": "execute_result"
    }
   ],
   "source": [
    "## test\n",
    "\n",
    "import pandas as pd\n",
    "import json\n",
    "\n",
    "## data1\n",
    "file_path1 = \"/data/jaesung/llm_for_diabetes/src/data/data1_diabetes/test_instruction_dataset_v11.json\"\n",
    "with open(file_path1, 'r', encoding='utf-8') as f:\n",
    "    data1 = json.load(f)\n",
    "\n",
    "data1 = pd.DataFrame(data1)\n",
    "\n",
    "data1 = data1[['dataset', 'split_data', 'task', 'instruction', 'input', 'output']]\n",
    "\n",
    "data1.head(2)"
   ]
  },
  {
   "cell_type": "code",
   "execution_count": 7,
   "metadata": {},
   "outputs": [
    {
     "data": {
      "text/html": [
       "<div>\n",
       "<style scoped>\n",
       "    .dataframe tbody tr th:only-of-type {\n",
       "        vertical-align: middle;\n",
       "    }\n",
       "\n",
       "    .dataframe tbody tr th {\n",
       "        vertical-align: top;\n",
       "    }\n",
       "\n",
       "    .dataframe thead th {\n",
       "        text-align: right;\n",
       "    }\n",
       "</style>\n",
       "<table border=\"1\" class=\"dataframe\">\n",
       "  <thead>\n",
       "    <tr style=\"text-align: right;\">\n",
       "      <th></th>\n",
       "      <th>dataset</th>\n",
       "      <th>split_data</th>\n",
       "      <th>task</th>\n",
       "      <th>instruction</th>\n",
       "      <th>input</th>\n",
       "      <th>output</th>\n",
       "    </tr>\n",
       "  </thead>\n",
       "  <tbody>\n",
       "    <tr>\n",
       "      <th>0</th>\n",
       "      <td>diabetes_food_hub</td>\n",
       "      <td>test</td>\n",
       "      <td>daily_diets</td>\n",
       "      <td>Recommend a daily diet based on the given nutr...</td>\n",
       "      <td>Ensure the daily carbohydrate intake does not ...</td>\n",
       "      <td>{'Breakfast': 'Pumpkin Quiche with Quinoa Crus...</td>\n",
       "    </tr>\n",
       "    <tr>\n",
       "      <th>1</th>\n",
       "      <td>diabetes_food_hub</td>\n",
       "      <td>test</td>\n",
       "      <td>daily_diets</td>\n",
       "      <td>Recommend a daily diet that includes a specifi...</td>\n",
       "      <td>Create a diet that includes baby arugula.</td>\n",
       "      <td>{'Breakfast': 'Pumpkin Quiche with Quinoa Crus...</td>\n",
       "    </tr>\n",
       "  </tbody>\n",
       "</table>\n",
       "</div>"
      ],
      "text/plain": [
       "             dataset split_data         task  \\\n",
       "0  diabetes_food_hub       test  daily_diets   \n",
       "1  diabetes_food_hub       test  daily_diets   \n",
       "\n",
       "                                         instruction  \\\n",
       "0  Recommend a daily diet based on the given nutr...   \n",
       "1  Recommend a daily diet that includes a specifi...   \n",
       "\n",
       "                                               input  \\\n",
       "0  Ensure the daily carbohydrate intake does not ...   \n",
       "1          Create a diet that includes baby arugula.   \n",
       "\n",
       "                                              output  \n",
       "0  {'Breakfast': 'Pumpkin Quiche with Quinoa Crus...  \n",
       "1  {'Breakfast': 'Pumpkin Quiche with Quinoa Crus...  "
      ]
     },
     "execution_count": 7,
     "metadata": {},
     "output_type": "execute_result"
    }
   ],
   "source": [
    "## data2 - daily_diets\n",
    "file_path22 = \"/data/jaesung/llm_for_diabetes/src/data/data2_daily_diets/daily_diets_drop_duplicated_and_sampled_test_instruction_dataset_v5.json\"\n",
    "with open(file_path22, 'r', encoding='utf-8') as f:\n",
    "    data2_daily_diets = json.load(f)\n",
    "\n",
    "data2_daily_diets = pd.DataFrame(data2_daily_diets)\n",
    "data2_daily_diets['dataset'] = 'diabetes_food_hub'\n",
    "data2_daily_diets['split_data'] = 'test'\n",
    "data2_daily_diets['task'] = 'daily_diets'\n",
    "\n",
    "data2_daily_diets = data2_daily_diets[['dataset', 'split_data', 'task', 'instruction', 'input', 'output']]\n",
    "\n",
    "data2_daily_diets.head(2)"
   ]
  },
  {
   "cell_type": "code",
   "execution_count": 8,
   "metadata": {},
   "outputs": [
    {
     "data": {
      "text/html": [
       "<div>\n",
       "<style scoped>\n",
       "    .dataframe tbody tr th:only-of-type {\n",
       "        vertical-align: middle;\n",
       "    }\n",
       "\n",
       "    .dataframe tbody tr th {\n",
       "        vertical-align: top;\n",
       "    }\n",
       "\n",
       "    .dataframe thead th {\n",
       "        text-align: right;\n",
       "    }\n",
       "</style>\n",
       "<table border=\"1\" class=\"dataframe\">\n",
       "  <thead>\n",
       "    <tr style=\"text-align: right;\">\n",
       "      <th></th>\n",
       "      <th>dataset</th>\n",
       "      <th>split_data</th>\n",
       "      <th>task</th>\n",
       "      <th>instruction</th>\n",
       "      <th>input</th>\n",
       "      <th>output</th>\n",
       "    </tr>\n",
       "  </thead>\n",
       "  <tbody>\n",
       "    <tr>\n",
       "      <th>0</th>\n",
       "      <td>diabetes_food_hub</td>\n",
       "      <td>test</td>\n",
       "      <td>alternative_diet</td>\n",
       "      <td>Based on the previous meal, suggest the next m...</td>\n",
       "      <td>Mixed salad greens, raw</td>\n",
       "      <td>Greek Salmon and Veggie Packets is recommended...</td>\n",
       "    </tr>\n",
       "    <tr>\n",
       "      <th>1</th>\n",
       "      <td>diabetes_food_hub</td>\n",
       "      <td>test</td>\n",
       "      <td>alternative_diet</td>\n",
       "      <td>Based on the previous meal, suggest the next m...</td>\n",
       "      <td>Mixed salad greens, raw</td>\n",
       "      <td>Greek Salmon and Veggie Packets is recommended...</td>\n",
       "    </tr>\n",
       "  </tbody>\n",
       "</table>\n",
       "</div>"
      ],
      "text/plain": [
       "             dataset split_data              task  \\\n",
       "0  diabetes_food_hub       test  alternative_diet   \n",
       "1  diabetes_food_hub       test  alternative_diet   \n",
       "\n",
       "                                         instruction                    input  \\\n",
       "0  Based on the previous meal, suggest the next m...  Mixed salad greens, raw   \n",
       "1  Based on the previous meal, suggest the next m...  Mixed salad greens, raw   \n",
       "\n",
       "                                              output  \n",
       "0  Greek Salmon and Veggie Packets is recommended...  \n",
       "1  Greek Salmon and Veggie Packets is recommended...  "
      ]
     },
     "execution_count": 8,
     "metadata": {},
     "output_type": "execute_result"
    }
   ],
   "source": [
    "## data3 - alternative_diet\n",
    "file_path3 = \"/data/jaesung/llm_for_diabetes/src/data/data3_multimodal/version1/snapme_test_instruction_dataset_v6.json\"\n",
    "with open(file_path3, 'r', encoding='utf-8') as f:\n",
    "    data3_alternative_diet = json.load(f)\n",
    "\n",
    "data3_alternative_diet = pd.DataFrame(data3_alternative_diet)\n",
    "data3_alternative_diet['dataset'] = 'diabetes_food_hub'\n",
    "data3_alternative_diet['split_data'] = 'test'\n",
    "data3_alternative_diet['task'] = 'alternative_diet'\n",
    "\n",
    "data3_alternative_diet = data3_alternative_diet[['dataset', 'split_data', 'task', 'instruction', 'input', 'output']]\n",
    "\n",
    "data3_alternative_diet.head(2)"
   ]
  },
  {
   "cell_type": "code",
   "execution_count": 9,
   "metadata": {},
   "outputs": [],
   "source": [
    "\n",
    "test = pd.concat([data1, data2_daily_diets, data3_alternative_diet], axis=0)"
   ]
  },
  {
   "cell_type": "code",
   "execution_count": 10,
   "metadata": {},
   "outputs": [
    {
     "data": {
      "text/html": [
       "<div>\n",
       "<style scoped>\n",
       "    .dataframe tbody tr th:only-of-type {\n",
       "        vertical-align: middle;\n",
       "    }\n",
       "\n",
       "    .dataframe tbody tr th {\n",
       "        vertical-align: top;\n",
       "    }\n",
       "\n",
       "    .dataframe thead th {\n",
       "        text-align: right;\n",
       "    }\n",
       "</style>\n",
       "<table border=\"1\" class=\"dataframe\">\n",
       "  <thead>\n",
       "    <tr style=\"text-align: right;\">\n",
       "      <th></th>\n",
       "      <th>dataset</th>\n",
       "      <th>split_data</th>\n",
       "      <th>task</th>\n",
       "      <th>instruction</th>\n",
       "      <th>input</th>\n",
       "      <th>output</th>\n",
       "    </tr>\n",
       "  </thead>\n",
       "  <tbody>\n",
       "    <tr>\n",
       "      <th>0</th>\n",
       "      <td>medqa</td>\n",
       "      <td>train</td>\n",
       "      <td>qa_objective_1</td>\n",
       "      <td>Select the most appropriate answer for the giv...</td>\n",
       "      <td>A 42-year-old woman presents to the emergency ...</td>\n",
       "      <td>D) Ursodeoxycholic acid</td>\n",
       "    </tr>\n",
       "    <tr>\n",
       "      <th>1</th>\n",
       "      <td>medqa</td>\n",
       "      <td>train</td>\n",
       "      <td>qa_objective_1</td>\n",
       "      <td>Select the most appropriate answer for the giv...</td>\n",
       "      <td>A 69-year-old man presents to his dermatologis...</td>\n",
       "      <td>B) Immunosuppression</td>\n",
       "    </tr>\n",
       "    <tr>\n",
       "      <th>2</th>\n",
       "      <td>medqa</td>\n",
       "      <td>train</td>\n",
       "      <td>qa_objective_1</td>\n",
       "      <td>Select the most appropriate answer for the giv...</td>\n",
       "      <td>A 64-year-old female with a long-standing hist...</td>\n",
       "      <td>B) Deep peroneal nerve</td>\n",
       "    </tr>\n",
       "    <tr>\n",
       "      <th>3</th>\n",
       "      <td>medqa</td>\n",
       "      <td>train</td>\n",
       "      <td>qa_objective_1</td>\n",
       "      <td>Select the most appropriate answer for the giv...</td>\n",
       "      <td>An endocrinologist is working with a pharmaceu...</td>\n",
       "      <td>C) Sitagliptin</td>\n",
       "    </tr>\n",
       "    <tr>\n",
       "      <th>4</th>\n",
       "      <td>medqa</td>\n",
       "      <td>train</td>\n",
       "      <td>qa_objective_1</td>\n",
       "      <td>Select the most appropriate answer for the giv...</td>\n",
       "      <td>A pediatrician is investigating determinants o...</td>\n",
       "      <td>D) There is a positively correlated linear ass...</td>\n",
       "    </tr>\n",
       "  </tbody>\n",
       "</table>\n",
       "</div>"
      ],
      "text/plain": [
       "  dataset split_data            task  \\\n",
       "0   medqa      train  qa_objective_1   \n",
       "1   medqa      train  qa_objective_1   \n",
       "2   medqa      train  qa_objective_1   \n",
       "3   medqa      train  qa_objective_1   \n",
       "4   medqa      train  qa_objective_1   \n",
       "\n",
       "                                         instruction  \\\n",
       "0  Select the most appropriate answer for the giv...   \n",
       "1  Select the most appropriate answer for the giv...   \n",
       "2  Select the most appropriate answer for the giv...   \n",
       "3  Select the most appropriate answer for the giv...   \n",
       "4  Select the most appropriate answer for the giv...   \n",
       "\n",
       "                                               input  \\\n",
       "0  A 42-year-old woman presents to the emergency ...   \n",
       "1  A 69-year-old man presents to his dermatologis...   \n",
       "2  A 64-year-old female with a long-standing hist...   \n",
       "3  An endocrinologist is working with a pharmaceu...   \n",
       "4  A pediatrician is investigating determinants o...   \n",
       "\n",
       "                                              output  \n",
       "0                            D) Ursodeoxycholic acid  \n",
       "1                               B) Immunosuppression  \n",
       "2                             B) Deep peroneal nerve  \n",
       "3                                     C) Sitagliptin  \n",
       "4  D) There is a positively correlated linear ass...  "
      ]
     },
     "execution_count": 10,
     "metadata": {},
     "output_type": "execute_result"
    }
   ],
   "source": [
    "final = pd.concat([train, test], axis=0)\n",
    "\n",
    "final.head()"
   ]
  },
  {
   "cell_type": "code",
   "execution_count": 11,
   "metadata": {},
   "outputs": [
    {
     "data": {
      "text/plain": [
       "task\n",
       "daily_diets         10655\n",
       "alternative_diet     7046\n",
       "dfh_info             5344\n",
       "summarization        4000\n",
       "generation           4000\n",
       "nli                  1210\n",
       "qa_objective_3       1106\n",
       "qa_objective_1       1000\n",
       "qa_objective_2       1000\n",
       "re                    900\n",
       "ie                    548\n",
       "Name: count, dtype: int64"
      ]
     },
     "execution_count": 11,
     "metadata": {},
     "output_type": "execute_result"
    }
   ],
   "source": [
    "final[final['split_data']=='train']['task'].value_counts()"
   ]
  },
  {
   "cell_type": "code",
   "execution_count": 12,
   "metadata": {},
   "outputs": [],
   "source": [
    "final.reset_index(drop=True, inplace=True)\n",
    "\n",
    "final.to_json(\"/data/jaesung/llm_for_diabetes/src/data/instruction_dataset.json\", orient='columns', indent=4)"
   ]
  },
  {
   "cell_type": "code",
   "execution_count": 13,
   "metadata": {},
   "outputs": [
    {
     "name": "stdout",
     "output_type": "stream",
     "text": [
      "36809\n",
      "6269\n",
      "43078\n"
     ]
    }
   ],
   "source": [
    "print(len(train))\n",
    "print(len(test))\n",
    "print(len(final))"
   ]
  },
  {
   "cell_type": "code",
   "execution_count": 14,
   "metadata": {},
   "outputs": [
    {
     "data": {
      "text/html": [
       "<div>\n",
       "<style scoped>\n",
       "    .dataframe tbody tr th:only-of-type {\n",
       "        vertical-align: middle;\n",
       "    }\n",
       "\n",
       "    .dataframe tbody tr th {\n",
       "        vertical-align: top;\n",
       "    }\n",
       "\n",
       "    .dataframe thead th {\n",
       "        text-align: right;\n",
       "    }\n",
       "</style>\n",
       "<table border=\"1\" class=\"dataframe\">\n",
       "  <thead>\n",
       "    <tr style=\"text-align: right;\">\n",
       "      <th></th>\n",
       "      <th>dataset</th>\n",
       "      <th>split_data</th>\n",
       "      <th>task</th>\n",
       "      <th>instruction</th>\n",
       "      <th>input</th>\n",
       "      <th>output</th>\n",
       "    </tr>\n",
       "  </thead>\n",
       "  <tbody>\n",
       "    <tr>\n",
       "      <th>0</th>\n",
       "      <td>medqa</td>\n",
       "      <td>train</td>\n",
       "      <td>qa_objective_1</td>\n",
       "      <td>Select the most appropriate answer for the giv...</td>\n",
       "      <td>A 42-year-old woman presents to the emergency ...</td>\n",
       "      <td>D) Ursodeoxycholic acid</td>\n",
       "    </tr>\n",
       "    <tr>\n",
       "      <th>1</th>\n",
       "      <td>medqa</td>\n",
       "      <td>train</td>\n",
       "      <td>qa_objective_1</td>\n",
       "      <td>Select the most appropriate answer for the giv...</td>\n",
       "      <td>A 69-year-old man presents to his dermatologis...</td>\n",
       "      <td>B) Immunosuppression</td>\n",
       "    </tr>\n",
       "  </tbody>\n",
       "</table>\n",
       "</div>"
      ],
      "text/plain": [
       "  dataset split_data            task  \\\n",
       "0   medqa      train  qa_objective_1   \n",
       "1   medqa      train  qa_objective_1   \n",
       "\n",
       "                                         instruction  \\\n",
       "0  Select the most appropriate answer for the giv...   \n",
       "1  Select the most appropriate answer for the giv...   \n",
       "\n",
       "                                               input                   output  \n",
       "0  A 42-year-old woman presents to the emergency ...  D) Ursodeoxycholic acid  \n",
       "1  A 69-year-old man presents to his dermatologis...     B) Immunosuppression  "
      ]
     },
     "execution_count": 14,
     "metadata": {},
     "output_type": "execute_result"
    }
   ],
   "source": [
    "final.head(2)"
   ]
  },
  {
   "cell_type": "code",
   "execution_count": 15,
   "metadata": {},
   "outputs": [
    {
     "data": {
      "text/plain": [
       "task\n",
       "daily_diets         13320\n",
       "alternative_diet     8611\n",
       "dfh_info             5344\n",
       "summarization        4600\n",
       "generation           4600\n",
       "nli                  1394\n",
       "qa_objective_3       1236\n",
       "qa_objective_1       1150\n",
       "qa_objective_2       1150\n",
       "re                   1035\n",
       "ie                    638\n",
       "Name: count, dtype: int64"
      ]
     },
     "execution_count": 15,
     "metadata": {},
     "output_type": "execute_result"
    }
   ],
   "source": [
    "final['task'].value_counts()"
   ]
  },
  {
   "cell_type": "code",
   "execution_count": 16,
   "metadata": {},
   "outputs": [
    {
     "data": {
      "application/vnd.jupyter.widget-view+json": {
       "model_id": "0159bfd87c704bc0a76ff8c7872c05c2",
       "version_major": 2,
       "version_minor": 0
      },
      "text/plain": [
       "Uploading the dataset shards:   0%|          | 0/1 [00:00<?, ?it/s]"
      ]
     },
     "metadata": {},
     "output_type": "display_data"
    },
    {
     "data": {
      "application/vnd.jupyter.widget-view+json": {
       "model_id": "2413bff7d0af4ce2a2801bbb1f3ef4ae",
       "version_major": 2,
       "version_minor": 0
      },
      "text/plain": [
       "Creating parquet from Arrow format:   0%|          | 0/37 [00:00<?, ?ba/s]"
      ]
     },
     "metadata": {},
     "output_type": "display_data"
    },
    {
     "data": {
      "application/vnd.jupyter.widget-view+json": {
       "model_id": "062c0ab5c05a44edbedd452b5d1f5f51",
       "version_major": 2,
       "version_minor": 0
      },
      "text/plain": [
       "Uploading the dataset shards:   0%|          | 0/1 [00:00<?, ?it/s]"
      ]
     },
     "metadata": {},
     "output_type": "display_data"
    },
    {
     "data": {
      "application/vnd.jupyter.widget-view+json": {
       "model_id": "c104de92559c4dfea1fb01c110c75b0a",
       "version_major": 2,
       "version_minor": 0
      },
      "text/plain": [
       "Creating parquet from Arrow format:   0%|          | 0/7 [00:00<?, ?ba/s]"
      ]
     },
     "metadata": {},
     "output_type": "display_data"
    },
    {
     "data": {
      "text/plain": [
       "CommitInfo(commit_url='https://huggingface.co/datasets/passionMan/diabetes_v11/commit/9e296f7168ff3481754a308d2b183260a50b8f22', commit_message='Upload dataset', commit_description='', oid='9e296f7168ff3481754a308d2b183260a50b8f22', pr_url=None, repo_url=RepoUrl('https://huggingface.co/datasets/passionMan/diabetes_v11', endpoint='https://huggingface.co', repo_type='dataset', repo_id='passionMan/diabetes_v11'), pr_revision=None, pr_num=None)"
      ]
     },
     "execution_count": 16,
     "metadata": {},
     "output_type": "execute_result"
    }
   ],
   "source": [
    "from datasets import Dataset\n",
    "from dotenv import load_dotenv\n",
    "import os\n",
    "from datasets import Dataset, DatasetDict\n",
    "\n",
    "final['input'] = final['input'].apply(lambda x: json.dumps(x) if isinstance(x, dict) else x)\n",
    "final['output'] = final['output'].apply(lambda x: json.dumps(x) if isinstance(x, dict) else x)\n",
    "\n",
    "load_dotenv()\n",
    "\n",
    "hf_token = os.getenv(\"HF_TOKEN\")\n",
    "dataset = Dataset.from_pandas(final)\n",
    "\n",
    "train_df = final[final['split_data'] == 'train']\n",
    "test_df = final[final['split_data'] == 'test']\n",
    "\n",
    "train_dataset = Dataset.from_pandas(train_df)\n",
    "test_dataset = Dataset.from_pandas(test_df)\n",
    "\n",
    "dataset_dict = DatasetDict({\n",
    "    \"train\": train_dataset,\n",
    "    \"test\": test_dataset\n",
    "})\n",
    "\n",
    "dataset_dict.push_to_hub(\"passionMan/diabetes_v11\", token=hf_token) # Need to fix\n"
   ]
  },
  {
   "cell_type": "code",
   "execution_count": null,
   "metadata": {},
   "outputs": [],
   "source": []
  }
 ],
 "metadata": {
  "kernelspec": {
   "display_name": "meal_kernel",
   "language": "python",
   "name": "meal"
  },
  "language_info": {
   "codemirror_mode": {
    "name": "ipython",
    "version": 3
   },
   "file_extension": ".py",
   "mimetype": "text/x-python",
   "name": "python",
   "nbconvert_exporter": "python",
   "pygments_lexer": "ipython3",
   "version": "3.12.0"
  }
 },
 "nbformat": 4,
 "nbformat_minor": 2
}
