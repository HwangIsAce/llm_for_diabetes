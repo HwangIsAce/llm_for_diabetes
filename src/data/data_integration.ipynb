{
 "cells": [
  {
   "cell_type": "code",
   "execution_count": 1,
   "metadata": {},
   "outputs": [
    {
     "data": {
      "text/html": [
       "<div>\n",
       "<style scoped>\n",
       "    .dataframe tbody tr th:only-of-type {\n",
       "        vertical-align: middle;\n",
       "    }\n",
       "\n",
       "    .dataframe tbody tr th {\n",
       "        vertical-align: top;\n",
       "    }\n",
       "\n",
       "    .dataframe thead th {\n",
       "        text-align: right;\n",
       "    }\n",
       "</style>\n",
       "<table border=\"1\" class=\"dataframe\">\n",
       "  <thead>\n",
       "    <tr style=\"text-align: right;\">\n",
       "      <th></th>\n",
       "      <th>dataset</th>\n",
       "      <th>split_data</th>\n",
       "      <th>task</th>\n",
       "      <th>instruction</th>\n",
       "      <th>input</th>\n",
       "      <th>output</th>\n",
       "    </tr>\n",
       "  </thead>\n",
       "  <tbody>\n",
       "    <tr>\n",
       "      <th>0</th>\n",
       "      <td>medqa</td>\n",
       "      <td>train</td>\n",
       "      <td>qa1</td>\n",
       "      <td>You are given a multiple-choice medical questi...</td>\n",
       "      <td>A 52-year-old man presents to the emergency de...</td>\n",
       "      <td>A) Impaired venous blood flow</td>\n",
       "    </tr>\n",
       "    <tr>\n",
       "      <th>1</th>\n",
       "      <td>medqa</td>\n",
       "      <td>train</td>\n",
       "      <td>qa1</td>\n",
       "      <td>You are given a multiple-choice medical questi...</td>\n",
       "      <td>A 72-year-old woman with type 2 diabetes melli...</td>\n",
       "      <td>C) Inhibition of squalene epoxidase</td>\n",
       "    </tr>\n",
       "  </tbody>\n",
       "</table>\n",
       "</div>"
      ],
      "text/plain": [
       "  dataset split_data task                                        instruction  \\\n",
       "0   medqa      train  qa1  You are given a multiple-choice medical questi...   \n",
       "1   medqa      train  qa1  You are given a multiple-choice medical questi...   \n",
       "\n",
       "                                               input  \\\n",
       "0  A 52-year-old man presents to the emergency de...   \n",
       "1  A 72-year-old woman with type 2 diabetes melli...   \n",
       "\n",
       "                                output  \n",
       "0        A) Impaired venous blood flow  \n",
       "1  C) Inhibition of squalene epoxidase  "
      ]
     },
     "execution_count": 1,
     "metadata": {},
     "output_type": "execute_result"
    }
   ],
   "source": [
    "## train\n",
    "\n",
    "import pandas as pd\n",
    "import json\n",
    "\n",
    "## data1\n",
    "file_path1 = \"/data/jaesung/llm_for_diabetes/src/data/data1_diabetes/train_instruction_dataset_v13.json\"\n",
    "with open(file_path1, 'r', encoding='utf-8') as f:\n",
    "    data1 = json.load(f)\n",
    "\n",
    "data1 = pd.DataFrame(data1)\n",
    "\n",
    "data1 = data1[['dataset', 'split_data', 'task', 'instruction', 'input', 'output']]\n",
    "\n",
    "data1.head(2)"
   ]
  },
  {
   "cell_type": "code",
   "execution_count": 2,
   "metadata": {},
   "outputs": [
    {
     "data": {
      "text/html": [
       "<div>\n",
       "<style scoped>\n",
       "    .dataframe tbody tr th:only-of-type {\n",
       "        vertical-align: middle;\n",
       "    }\n",
       "\n",
       "    .dataframe tbody tr th {\n",
       "        vertical-align: top;\n",
       "    }\n",
       "\n",
       "    .dataframe thead th {\n",
       "        text-align: right;\n",
       "    }\n",
       "</style>\n",
       "<table border=\"1\" class=\"dataframe\">\n",
       "  <thead>\n",
       "    <tr style=\"text-align: right;\">\n",
       "      <th></th>\n",
       "      <th>dataset</th>\n",
       "      <th>split_data</th>\n",
       "      <th>task</th>\n",
       "      <th>instruction</th>\n",
       "      <th>input</th>\n",
       "      <th>output</th>\n",
       "    </tr>\n",
       "  </thead>\n",
       "  <tbody>\n",
       "    <tr>\n",
       "      <th>0</th>\n",
       "      <td>diabetes_food_hub</td>\n",
       "      <td>train</td>\n",
       "      <td>dfh_info</td>\n",
       "      <td>Provide the nutrition facts for the given recipe.</td>\n",
       "      <td>Chicken Apple Crunch Salad</td>\n",
       "      <td>Amount per serving: 230, Total Fat: 10g, Chole...</td>\n",
       "    </tr>\n",
       "    <tr>\n",
       "      <th>1</th>\n",
       "      <td>diabetes_food_hub</td>\n",
       "      <td>train</td>\n",
       "      <td>dfh_info</td>\n",
       "      <td>List the measurements for all ingredients in t...</td>\n",
       "      <td>Chicken Apple Crunch Salad</td>\n",
       "      <td>- cooked chicken: 2 cup (473 ml)\\n- Gala apple...</td>\n",
       "    </tr>\n",
       "  </tbody>\n",
       "</table>\n",
       "</div>"
      ],
      "text/plain": [
       "             dataset split_data      task  \\\n",
       "0  diabetes_food_hub      train  dfh_info   \n",
       "1  diabetes_food_hub      train  dfh_info   \n",
       "\n",
       "                                         instruction  \\\n",
       "0  Provide the nutrition facts for the given recipe.   \n",
       "1  List the measurements for all ingredients in t...   \n",
       "\n",
       "                        input  \\\n",
       "0  Chicken Apple Crunch Salad   \n",
       "1  Chicken Apple Crunch Salad   \n",
       "\n",
       "                                              output  \n",
       "0  Amount per serving: 230, Total Fat: 10g, Chole...  \n",
       "1  - cooked chicken: 2 cup (473 ml)\\n- Gala apple...  "
      ]
     },
     "execution_count": 2,
     "metadata": {},
     "output_type": "execute_result"
    }
   ],
   "source": [
    "\n",
    "## data2 - dfh info\n",
    "file_path21 = \"/data/jaesung/llm_for_diabetes/src/data/data2_daily_diets/dfh_instrution_dataset_v3.json\"\n",
    "with open(file_path21, 'r', encoding='utf-8') as f:\n",
    "    data2_dfh = json.load(f)\n",
    "\n",
    "data2_dfh = pd.DataFrame(data2_dfh)\n",
    "data2_dfh['dataset'] = 'diabetes_food_hub'\n",
    "data2_dfh['split_data'] = 'train'\n",
    "data2_dfh['task'] = 'dfh_info'\n",
    "\n",
    "data2_dfh = data2_dfh[['dataset', 'split_data', 'task', 'instruction', 'input', 'output']]\n",
    "\n",
    "data2_dfh.head(2)"
   ]
  },
  {
   "cell_type": "code",
   "execution_count": 3,
   "metadata": {},
   "outputs": [
    {
     "data": {
      "text/html": [
       "<div>\n",
       "<style scoped>\n",
       "    .dataframe tbody tr th:only-of-type {\n",
       "        vertical-align: middle;\n",
       "    }\n",
       "\n",
       "    .dataframe tbody tr th {\n",
       "        vertical-align: top;\n",
       "    }\n",
       "\n",
       "    .dataframe thead th {\n",
       "        text-align: right;\n",
       "    }\n",
       "</style>\n",
       "<table border=\"1\" class=\"dataframe\">\n",
       "  <thead>\n",
       "    <tr style=\"text-align: right;\">\n",
       "      <th></th>\n",
       "      <th>dataset</th>\n",
       "      <th>split_data</th>\n",
       "      <th>task</th>\n",
       "      <th>instruction</th>\n",
       "      <th>input</th>\n",
       "      <th>output</th>\n",
       "    </tr>\n",
       "  </thead>\n",
       "  <tbody>\n",
       "    <tr>\n",
       "      <th>0</th>\n",
       "      <td>diabetes_food_hub</td>\n",
       "      <td>train</td>\n",
       "      <td>daily_diets</td>\n",
       "      <td>Recommend a daily diet based on the given nutr...</td>\n",
       "      <td>Ensure the daily carbohydrate intake does not ...</td>\n",
       "      <td>{'Breakfast': 'Parsley Dill Ricotta Dip', 'Lun...</td>\n",
       "    </tr>\n",
       "    <tr>\n",
       "      <th>1</th>\n",
       "      <td>diabetes_food_hub</td>\n",
       "      <td>train</td>\n",
       "      <td>daily_diets</td>\n",
       "      <td>Recommend a daily diet that includes a specifi...</td>\n",
       "      <td>Create a diet that includes boneless, skinless...</td>\n",
       "      <td>{'Breakfast': 'Parsley Dill Ricotta Dip', 'Lun...</td>\n",
       "    </tr>\n",
       "  </tbody>\n",
       "</table>\n",
       "</div>"
      ],
      "text/plain": [
       "             dataset split_data         task  \\\n",
       "0  diabetes_food_hub      train  daily_diets   \n",
       "1  diabetes_food_hub      train  daily_diets   \n",
       "\n",
       "                                         instruction  \\\n",
       "0  Recommend a daily diet based on the given nutr...   \n",
       "1  Recommend a daily diet that includes a specifi...   \n",
       "\n",
       "                                               input  \\\n",
       "0  Ensure the daily carbohydrate intake does not ...   \n",
       "1  Create a diet that includes boneless, skinless...   \n",
       "\n",
       "                                              output  \n",
       "0  {'Breakfast': 'Parsley Dill Ricotta Dip', 'Lun...  \n",
       "1  {'Breakfast': 'Parsley Dill Ricotta Dip', 'Lun...  "
      ]
     },
     "execution_count": 3,
     "metadata": {},
     "output_type": "execute_result"
    }
   ],
   "source": [
    "## data2 - daily_diets\n",
    "file_path22 = \"/data/jaesung/llm_for_diabetes/src/data/data2_daily_diets/daily_diets_drop_duplicated_and_sampled_train_instruction_dataset_v5.json\"\n",
    "with open(file_path22, 'r', encoding='utf-8') as f:\n",
    "    data2_daily_diets = json.load(f)\n",
    "\n",
    "data2_daily_diets = pd.DataFrame(data2_daily_diets)\n",
    "data2_daily_diets['dataset'] = 'diabetes_food_hub'\n",
    "data2_daily_diets['split_data'] = 'train'\n",
    "data2_daily_diets['task'] = 'daily_diets'\n",
    "\n",
    "data2_daily_diets = data2_daily_diets[['dataset', 'split_data', 'task', 'instruction', 'input', 'output']]\n",
    "\n",
    "data2_daily_diets.head(2)"
   ]
  },
  {
   "cell_type": "code",
   "execution_count": 4,
   "metadata": {},
   "outputs": [
    {
     "data": {
      "text/html": [
       "<div>\n",
       "<style scoped>\n",
       "    .dataframe tbody tr th:only-of-type {\n",
       "        vertical-align: middle;\n",
       "    }\n",
       "\n",
       "    .dataframe tbody tr th {\n",
       "        vertical-align: top;\n",
       "    }\n",
       "\n",
       "    .dataframe thead th {\n",
       "        text-align: right;\n",
       "    }\n",
       "</style>\n",
       "<table border=\"1\" class=\"dataframe\">\n",
       "  <thead>\n",
       "    <tr style=\"text-align: right;\">\n",
       "      <th></th>\n",
       "      <th>dataset</th>\n",
       "      <th>split_data</th>\n",
       "      <th>task</th>\n",
       "      <th>instruction</th>\n",
       "      <th>input</th>\n",
       "      <th>output</th>\n",
       "    </tr>\n",
       "  </thead>\n",
       "  <tbody>\n",
       "    <tr>\n",
       "      <th>0</th>\n",
       "      <td>diabetes_food_hub</td>\n",
       "      <td>train</td>\n",
       "      <td>alternative_diet</td>\n",
       "      <td>Based on the previous meal, suggest the next m...</td>\n",
       "      <td>Coffee, Latte, flavored</td>\n",
       "      <td>Bountiful Harvest Vegetable Salad is recommend...</td>\n",
       "    </tr>\n",
       "    <tr>\n",
       "      <th>1</th>\n",
       "      <td>diabetes_food_hub</td>\n",
       "      <td>train</td>\n",
       "      <td>alternative_diet</td>\n",
       "      <td>Based on the previous meal, suggest the next m...</td>\n",
       "      <td>Coffee, Latte, flavored</td>\n",
       "      <td>Bountiful Harvest Vegetable Salad is recommend...</td>\n",
       "    </tr>\n",
       "  </tbody>\n",
       "</table>\n",
       "</div>"
      ],
      "text/plain": [
       "             dataset split_data              task  \\\n",
       "0  diabetes_food_hub      train  alternative_diet   \n",
       "1  diabetes_food_hub      train  alternative_diet   \n",
       "\n",
       "                                         instruction                    input  \\\n",
       "0  Based on the previous meal, suggest the next m...  Coffee, Latte, flavored   \n",
       "1  Based on the previous meal, suggest the next m...  Coffee, Latte, flavored   \n",
       "\n",
       "                                              output  \n",
       "0  Bountiful Harvest Vegetable Salad is recommend...  \n",
       "1  Bountiful Harvest Vegetable Salad is recommend...  "
      ]
     },
     "execution_count": 4,
     "metadata": {},
     "output_type": "execute_result"
    }
   ],
   "source": [
    "## data3 - alternative_diet\n",
    "file_path3 = \"/data/jaesung/llm_for_diabetes/src/data/data3_multimodal/version1/snapme_train_instruction_dataset_v6.json\"\n",
    "with open(file_path3, 'r', encoding='utf-8') as f:\n",
    "    data3_alternative_diet = json.load(f)\n",
    "\n",
    "data3_alternative_diet = pd.DataFrame(data3_alternative_diet)\n",
    "data3_alternative_diet['dataset'] = 'diabetes_food_hub'\n",
    "data3_alternative_diet['split_data'] = 'train'\n",
    "data3_alternative_diet['task'] = 'alternative_diet'\n",
    "\n",
    "data3_alternative_diet = data3_alternative_diet[['dataset', 'split_data', 'task', 'instruction', 'input', 'output']]\n",
    "\n",
    "data3_alternative_diet.head(2)"
   ]
  },
  {
   "cell_type": "code",
   "execution_count": 5,
   "metadata": {},
   "outputs": [],
   "source": [
    "train = pd.concat([data1, data2_dfh, data2_daily_diets, data3_alternative_diet], axis=0)"
   ]
  },
  {
   "cell_type": "code",
   "execution_count": null,
   "metadata": {},
   "outputs": [],
   "source": []
  },
  {
   "cell_type": "code",
   "execution_count": 6,
   "metadata": {},
   "outputs": [
    {
     "data": {
      "text/html": [
       "<div>\n",
       "<style scoped>\n",
       "    .dataframe tbody tr th:only-of-type {\n",
       "        vertical-align: middle;\n",
       "    }\n",
       "\n",
       "    .dataframe tbody tr th {\n",
       "        vertical-align: top;\n",
       "    }\n",
       "\n",
       "    .dataframe thead th {\n",
       "        text-align: right;\n",
       "    }\n",
       "</style>\n",
       "<table border=\"1\" class=\"dataframe\">\n",
       "  <thead>\n",
       "    <tr style=\"text-align: right;\">\n",
       "      <th></th>\n",
       "      <th>dataset</th>\n",
       "      <th>split_data</th>\n",
       "      <th>task</th>\n",
       "      <th>instruction</th>\n",
       "      <th>input</th>\n",
       "      <th>output</th>\n",
       "    </tr>\n",
       "  </thead>\n",
       "  <tbody>\n",
       "    <tr>\n",
       "      <th>0</th>\n",
       "      <td>medqa</td>\n",
       "      <td>test</td>\n",
       "      <td>qa1</td>\n",
       "      <td>You are given a multiple-choice medical questi...</td>\n",
       "      <td>A 60-year-old woman presents to the emergency ...</td>\n",
       "      <td>B) Creutzfeldt-Jakob disease</td>\n",
       "    </tr>\n",
       "    <tr>\n",
       "      <th>1</th>\n",
       "      <td>medqa</td>\n",
       "      <td>test</td>\n",
       "      <td>qa1</td>\n",
       "      <td>You are given a multiple-choice medical questi...</td>\n",
       "      <td>A 72-year-old male presents to a cardiac surge...</td>\n",
       "      <td>B) Femoral nerve</td>\n",
       "    </tr>\n",
       "  </tbody>\n",
       "</table>\n",
       "</div>"
      ],
      "text/plain": [
       "  dataset split_data task                                        instruction  \\\n",
       "0   medqa       test  qa1  You are given a multiple-choice medical questi...   \n",
       "1   medqa       test  qa1  You are given a multiple-choice medical questi...   \n",
       "\n",
       "                                               input  \\\n",
       "0  A 60-year-old woman presents to the emergency ...   \n",
       "1  A 72-year-old male presents to a cardiac surge...   \n",
       "\n",
       "                         output  \n",
       "0  B) Creutzfeldt-Jakob disease  \n",
       "1              B) Femoral nerve  "
      ]
     },
     "execution_count": 6,
     "metadata": {},
     "output_type": "execute_result"
    }
   ],
   "source": [
    "## test\n",
    "\n",
    "import pandas as pd\n",
    "import json\n",
    "\n",
    "## data1\n",
    "file_path1 = \"/data/jaesung/llm_for_diabetes/src/data/data1_diabetes/test_instruction_dataset_v13.json\"\n",
    "with open(file_path1, 'r', encoding='utf-8') as f:\n",
    "    data1 = json.load(f)\n",
    "\n",
    "data1 = pd.DataFrame(data1)\n",
    "\n",
    "data1 = data1[['dataset', 'split_data', 'task', 'instruction', 'input', 'output']]\n",
    "\n",
    "data1.head(2)"
   ]
  },
  {
   "cell_type": "code",
   "execution_count": 7,
   "metadata": {},
   "outputs": [
    {
     "data": {
      "text/html": [
       "<div>\n",
       "<style scoped>\n",
       "    .dataframe tbody tr th:only-of-type {\n",
       "        vertical-align: middle;\n",
       "    }\n",
       "\n",
       "    .dataframe tbody tr th {\n",
       "        vertical-align: top;\n",
       "    }\n",
       "\n",
       "    .dataframe thead th {\n",
       "        text-align: right;\n",
       "    }\n",
       "</style>\n",
       "<table border=\"1\" class=\"dataframe\">\n",
       "  <thead>\n",
       "    <tr style=\"text-align: right;\">\n",
       "      <th></th>\n",
       "      <th>dataset</th>\n",
       "      <th>split_data</th>\n",
       "      <th>task</th>\n",
       "      <th>instruction</th>\n",
       "      <th>input</th>\n",
       "      <th>output</th>\n",
       "    </tr>\n",
       "  </thead>\n",
       "  <tbody>\n",
       "    <tr>\n",
       "      <th>0</th>\n",
       "      <td>diabetes_food_hub</td>\n",
       "      <td>test</td>\n",
       "      <td>daily_diets</td>\n",
       "      <td>Recommend a daily diet based on the given nutr...</td>\n",
       "      <td>Ensure the daily carbohydrate intake does not ...</td>\n",
       "      <td>{'Breakfast': 'Pumpkin Quiche with Quinoa Crus...</td>\n",
       "    </tr>\n",
       "    <tr>\n",
       "      <th>1</th>\n",
       "      <td>diabetes_food_hub</td>\n",
       "      <td>test</td>\n",
       "      <td>daily_diets</td>\n",
       "      <td>Recommend a daily diet that includes a specifi...</td>\n",
       "      <td>Create a diet that includes baby arugula.</td>\n",
       "      <td>{'Breakfast': 'Pumpkin Quiche with Quinoa Crus...</td>\n",
       "    </tr>\n",
       "  </tbody>\n",
       "</table>\n",
       "</div>"
      ],
      "text/plain": [
       "             dataset split_data         task  \\\n",
       "0  diabetes_food_hub       test  daily_diets   \n",
       "1  diabetes_food_hub       test  daily_diets   \n",
       "\n",
       "                                         instruction  \\\n",
       "0  Recommend a daily diet based on the given nutr...   \n",
       "1  Recommend a daily diet that includes a specifi...   \n",
       "\n",
       "                                               input  \\\n",
       "0  Ensure the daily carbohydrate intake does not ...   \n",
       "1          Create a diet that includes baby arugula.   \n",
       "\n",
       "                                              output  \n",
       "0  {'Breakfast': 'Pumpkin Quiche with Quinoa Crus...  \n",
       "1  {'Breakfast': 'Pumpkin Quiche with Quinoa Crus...  "
      ]
     },
     "execution_count": 7,
     "metadata": {},
     "output_type": "execute_result"
    }
   ],
   "source": [
    "## data2 - daily_diets\n",
    "file_path22 = \"/data/jaesung/llm_for_diabetes/src/data/data2_daily_diets/daily_diets_drop_duplicated_and_sampled_test_instruction_dataset_v5.json\"\n",
    "with open(file_path22, 'r', encoding='utf-8') as f:\n",
    "    data2_daily_diets = json.load(f)\n",
    "\n",
    "data2_daily_diets = pd.DataFrame(data2_daily_diets)\n",
    "data2_daily_diets['dataset'] = 'diabetes_food_hub'\n",
    "data2_daily_diets['split_data'] = 'test'\n",
    "data2_daily_diets['task'] = 'daily_diets'\n",
    "\n",
    "data2_daily_diets = data2_daily_diets[['dataset', 'split_data', 'task', 'instruction', 'input', 'output']]\n",
    "\n",
    "data2_daily_diets.head(2)"
   ]
  },
  {
   "cell_type": "code",
   "execution_count": 8,
   "metadata": {},
   "outputs": [
    {
     "data": {
      "text/html": [
       "<div>\n",
       "<style scoped>\n",
       "    .dataframe tbody tr th:only-of-type {\n",
       "        vertical-align: middle;\n",
       "    }\n",
       "\n",
       "    .dataframe tbody tr th {\n",
       "        vertical-align: top;\n",
       "    }\n",
       "\n",
       "    .dataframe thead th {\n",
       "        text-align: right;\n",
       "    }\n",
       "</style>\n",
       "<table border=\"1\" class=\"dataframe\">\n",
       "  <thead>\n",
       "    <tr style=\"text-align: right;\">\n",
       "      <th></th>\n",
       "      <th>dataset</th>\n",
       "      <th>split_data</th>\n",
       "      <th>task</th>\n",
       "      <th>instruction</th>\n",
       "      <th>input</th>\n",
       "      <th>output</th>\n",
       "    </tr>\n",
       "  </thead>\n",
       "  <tbody>\n",
       "    <tr>\n",
       "      <th>0</th>\n",
       "      <td>diabetes_food_hub</td>\n",
       "      <td>test</td>\n",
       "      <td>alternative_diet</td>\n",
       "      <td>Based on the previous meal, suggest the next m...</td>\n",
       "      <td>Mixed salad greens, raw</td>\n",
       "      <td>Greek Salmon and Veggie Packets is recommended...</td>\n",
       "    </tr>\n",
       "    <tr>\n",
       "      <th>1</th>\n",
       "      <td>diabetes_food_hub</td>\n",
       "      <td>test</td>\n",
       "      <td>alternative_diet</td>\n",
       "      <td>Based on the previous meal, suggest the next m...</td>\n",
       "      <td>Mixed salad greens, raw</td>\n",
       "      <td>Greek Salmon and Veggie Packets is recommended...</td>\n",
       "    </tr>\n",
       "  </tbody>\n",
       "</table>\n",
       "</div>"
      ],
      "text/plain": [
       "             dataset split_data              task  \\\n",
       "0  diabetes_food_hub       test  alternative_diet   \n",
       "1  diabetes_food_hub       test  alternative_diet   \n",
       "\n",
       "                                         instruction                    input  \\\n",
       "0  Based on the previous meal, suggest the next m...  Mixed salad greens, raw   \n",
       "1  Based on the previous meal, suggest the next m...  Mixed salad greens, raw   \n",
       "\n",
       "                                              output  \n",
       "0  Greek Salmon and Veggie Packets is recommended...  \n",
       "1  Greek Salmon and Veggie Packets is recommended...  "
      ]
     },
     "execution_count": 8,
     "metadata": {},
     "output_type": "execute_result"
    }
   ],
   "source": [
    "## data3 - alternative_diet\n",
    "file_path3 = \"/data/jaesung/llm_for_diabetes/src/data/data3_multimodal/version1/snapme_test_instruction_dataset_v6.json\"\n",
    "with open(file_path3, 'r', encoding='utf-8') as f:\n",
    "    data3_alternative_diet = json.load(f)\n",
    "\n",
    "data3_alternative_diet = pd.DataFrame(data3_alternative_diet)\n",
    "data3_alternative_diet['dataset'] = 'diabetes_food_hub'\n",
    "data3_alternative_diet['split_data'] = 'test'\n",
    "data3_alternative_diet['task'] = 'alternative_diet'\n",
    "\n",
    "data3_alternative_diet = data3_alternative_diet[['dataset', 'split_data', 'task', 'instruction', 'input', 'output']]\n",
    "\n",
    "data3_alternative_diet.head(2)"
   ]
  },
  {
   "cell_type": "code",
   "execution_count": 9,
   "metadata": {},
   "outputs": [],
   "source": [
    "\n",
    "test = pd.concat([data1, data2_daily_diets, data3_alternative_diet], axis=0)"
   ]
  },
  {
   "cell_type": "code",
   "execution_count": 10,
   "metadata": {},
   "outputs": [
    {
     "data": {
      "text/plain": [
       "4891"
      ]
     },
     "execution_count": 10,
     "metadata": {},
     "output_type": "execute_result"
    }
   ],
   "source": [
    "test['instruction'].value_counts().sum()"
   ]
  },
  {
   "cell_type": "code",
   "execution_count": 11,
   "metadata": {},
   "outputs": [
    {
     "data": {
      "text/plain": [
       "instruction\n",
       "Analyze the relationship between the given premise and hypothesis. Classify this relationship by selecting only one of the following options: 'entailment', 'contradiction'. 'entailment': Choose this when the hypothesis logically follows from the premise. This means that if the premise is true, the hypothesis must also be true. 'contradiction': Choose this when the hypothesis directly contradicts the premise. This means that if the premise is true, the hypothesis must be false.    500\n",
       "Name: count, dtype: int64"
      ]
     },
     "execution_count": 11,
     "metadata": {},
     "output_type": "execute_result"
    }
   ],
   "source": [
    "train[train['task']=='nli']['instruction'].value_counts()"
   ]
  },
  {
   "cell_type": "code",
   "execution_count": 12,
   "metadata": {},
   "outputs": [],
   "source": [
    "import random\n",
    "import numpy as np\n",
    "\n",
    "temp = {\n",
    "    'original':{\n",
    "    'qa3': \"Choose the correct answer (Yes, No, or Maybe) for the given question based on the provided context.\",\n",
    "    'nli': \"Analyze the relationship between the given premise and hypothesis. Classify this relationship by selecting only one of the following options: 'entailment', 'contradiction'. 'entailment': Choose this when the hypothesis logically follows from the premise. This means that if the premise is true, the hypothesis must also be true. 'contradiction': Choose this when the hypothesis directly contradicts the premise. This means that if the premise is true, the hypothesis must be false.\",\n",
    "    'ie': \"Extract all chemical entities mentioned in the given text. The extracted entities must fall into one of the following categories: Chemical Compounds: Substances with a defined molecular structure, including organic and inorganic compounds. Examples: glucose, cholesterol, ATP, quercetin. Drugs & Pharmaceuticals: Medications and bioactive compounds used for treatment, diagnosis, or prevention of diseases. Examples: metformin, aspirin, atorvastatin, warfarin, paclitaxel. Metabolites & Bioactive Molecules: Naturally occurring molecules that play a role in biological processes. Examples: serotonin, cortisol, nitric oxide (NO), superoxide, kynurenine. Vitamins & Minerals: Essential nutrients required for biological functions. Examples: vitamin D, vitamin C, zinc, calcium, magnesium. Toxic & Environmental Chemicals: Pollutants and hazardous chemicals found in the environment. Examples: arsenic, polychlorinated biphenyls (PCB), dioxin (TCDD), bisphenol A (BPA). **Instructions:** Extract only named chemical entities that belong to the above categories. Do not extract general chemical properties (e.g., acidity, solubility) or chemical processes (e.g., oxidation, hydrolysis). Preserve the entity names as they appear in the original text, without modifications or abbreviations. Return only the extracted chemical entity names.\",\n",
    "    'summarization':\"Write a summary of the article that captures the main ideas and significant details.\",\n",
    "    'generation': \"Generate a comprehensive medical response based on the patient's query.\",\n",
    "    'daily':  'Recommend a daily diet that includes a specific ingredient.',\n",
    "    'alt': 'Based on the previous meal, suggest the next meal to maintain a balanced diet.',\n",
    " },\n",
    " 'new': {\n",
    "     'qa3': [\"Based on the provided context, determine whether the correct answer to the given question is Yes, No, or Maybe.\", \"Analyze the given context and select the most appropriate response (Yes, No, or Maybe) for the provided question.\"],\n",
    "     'nli': \"Examine the logical relationship between the given premise and hypothesis. Determine whether the hypothesis is logically supported by the premise ('entailment') or contradicts it ('contradiction'). Select 'entailment' if the hypothesis logically follows from the premise, meaning that if the premise is true, the hypothesis must also be true. Select 'contradiction' if the hypothesis directly opposes the premise, meaning that if the premise is true, the hypothesis must be false.\",\n",
    "     'ie': [\"Identify and extract all chemical entities present in the provided text. The extracted entities must belong to one of the following categories: Chemical Compounds: Defined molecular structures, including both organic and inorganic compounds (e.g., glucose, cholesterol, ATP, quercetin). Drugs & Pharmaceuticals: Medications and bioactive substances used for disease treatment, diagnosis, or prevention (e.g., metformin, aspirin, atorvastatin, warfarin, paclitaxel). Metabolites & Bioactive Molecules: Naturally occurring molecules involved in biological processes (e.g., serotonin, cortisol, nitric oxide, superoxide, kynurenine). Vitamins & Minerals: Essential nutrients required for biological functions (e.g., vitamin D, vitamin C, zinc, calcium, magnesium). Toxic & Environmental Chemicals: Pollutants and hazardous substances found in the environment (e.g., arsenic, polychlorinated biphenyls (PCB), dioxin (TCDD), bisphenol A (BPA)). Guidelines: Extract only named chemical entities falling within the above categories. Do not extract chemical properties (e.g., acidity, solubility) or chemical processes (e.g., oxidation, hydrolysis). Maintain the original entity names as they appear in the text, without modifications or abbreviations. The output should contain only the extracted chemical entity names.\", \"Identify and extract chemical entities from the given text. The extracted entities should strictly belong to one of the following categories: Chemical Compounds: Organic or inorganic substances with well-defined molecular structures (e.g., glucose, ATP, cholesterol). Pharmaceuticals & Drugs: Medications or bioactive agents used for disease treatment, prevention, or diagnosis (e.g., aspirin, metformin, warfarin). Bioactive Molecules & Metabolites: Naturally occurring compounds involved in biological mechanisms (e.g., serotonin, cortisol, nitric oxide). Vitamins & Minerals: Essential micronutrients required for physiological functions (e.g., vitamin C, zinc, calcium). Toxic & Environmental Chemicals: Pollutants or harmful substances present in the environment (e.g., arsenic, PCB, bisphenol A). Guidelines: Extract only valid chemical entity names under these categories. Do not include general chemical attributes (e.g., acidity, solubility) or processes (e.g., oxidation, hydrolysis). Ensure entity names remain unchanged from the original text, maintaining their exact format and spelling. The output should only contain the extracted chemical names, with no additional modifications or explanations.\"],\n",
    "     'summarization': [\"Extract the key insights from the given PubMed article and organize them into the following structured sections: Objective, Methods, Results, and Conclusion.\", \"Summarize the provided PubMed article by structuring the main points into four key fields: Objective, Methods, Results, and Conclusion.\", \"Generate a concise summary of the given PubMed article, categorizing the content into Objective, Methods, Results, and Conclusion for clarity.\"],\n",
    "     'generation': [\"As a medical AI assistant, your role is to generate an accurate and concise response to the patient's query, simulating a doctor's reply. Ensure that your response is both medically sound and relevant to the question.\", \"Generate a medically accurate and precise doctor’s response based on the given patient’s query. Your task as a medical AI assistant is to ensure that the response is professional and aligned with medical guidelines.\", \"You are tasked with generating an appropriate medical response to a patient’s question, simulating a doctor's reply. Ensure the response is factually correct, relevant, and follows medical best practices.\"],\n",
    "    'daily': [\"Create a daily meal plan that incorporates a given ingredient.\", \"Suggest a full-day diet that includes a specified ingredient in the meals.\", \"Design a daily dietary plan featuring a particular ingredient.\"],\n",
    "    'alt': [\"Recommend the next meal that ensures a nutritionally balanced diet, considering the previous meal.\", \"Suggest a suitable next meal to maintain dietary balance based on the prior meal.\", \"Provide a well-balanced meal recommendation that complements the last meal for overall nutritional harmony.\"], \n",
    " }}\n",
    "\n",
    "\n",
    "\n",
    "def replace_instruction(df, original, new, n):\n",
    "    mask = df['instruction'] == original\n",
    "    target_indices = df[mask].index.tolist()\n",
    "\n",
    "    num_to_replace = min(n, len(target_indices))\n",
    "\n",
    "    selected_indices = np.random.choice(target_indices, num_to_replace, replace=False)\n",
    "\n",
    "    df.loc[selected_indices, \"instruction\"] = new\n",
    "    return df\n",
    "\n",
    "# train\n",
    "train = replace_instruction(train, temp['original']['qa3'], temp['new']['qa3'][0], 150)\n",
    "train = replace_instruction(train, temp['original']['qa3'], temp['new']['qa3'][1], 150)\n",
    "\n",
    "train = replace_instruction(train, temp['original']['nli'], temp['new']['nli'], 250)\n",
    "\n",
    "train = replace_instruction(train, temp['original']['ie'], temp['new']['ie'][0], 120)\n",
    "train = replace_instruction(train, temp['original']['ie'], temp['new']['ie'][1], 120)\n",
    "\n",
    "train = replace_instruction(train, temp['original']['summarization'], temp['new']['summarization'][0], 130)\n",
    "train = replace_instruction(train, temp['original']['summarization'], temp['new']['summarization'][1], 130)\n",
    "train = replace_instruction(train, temp['original']['summarization'], temp['new']['summarization'][2], 130)\n",
    "\n",
    "train = replace_instruction(train, temp['original']['generation'], temp['new']['generation'][0], 130)\n",
    "train = replace_instruction(train, temp['original']['generation'], temp['new']['generation'][1], 130)\n",
    "train = replace_instruction(train, temp['original']['generation'], temp['new']['generation'][2], 130)\n",
    "\n",
    "train = replace_instruction(train, temp['original']['daily'], temp['new']['daily'][0], 2000)\n",
    "train = replace_instruction(train, temp['original']['daily'], temp['new']['daily'][1], 2000)\n",
    "train = replace_instruction(train, temp['original']['daily'], temp['new']['daily'][2], 2000)\n",
    "\n",
    "train = replace_instruction(train, temp['original']['alt'], temp['new']['alt'][0], 2000)\n",
    "train = replace_instruction(train, temp['original']['alt'], temp['new']['alt'][1], 2000)\n",
    "train = replace_instruction(train, temp['original']['alt'], temp['new']['alt'][2], 2000)\n",
    "\n",
    "# test\n",
    "test = replace_instruction(test, temp['original']['qa3'], temp['new']['qa3'][0], 30)\n",
    "test = replace_instruction(test, temp['original']['qa3'], temp['new']['qa3'][1], 30)\n",
    "\n",
    "test = replace_instruction(test, temp['original']['nli'], temp['new']['nli'], 35)\n",
    "\n",
    "test = replace_instruction(test, temp['original']['ie'], temp['new']['ie'][0], 20)\n",
    "test = replace_instruction(test, temp['original']['ie'], temp['new']['ie'][1], 20)\n",
    "\n",
    "test = replace_instruction(test, temp['original']['summarization'], temp['new']['summarization'][0], 25)\n",
    "test = replace_instruction(test, temp['original']['summarization'], temp['new']['summarization'][1], 25)\n",
    "test = replace_instruction(test, temp['original']['summarization'], temp['new']['summarization'][2], 25)\n",
    "\n",
    "test = replace_instruction(test, temp['original']['generation'], temp['new']['generation'][0], 25)\n",
    "test = replace_instruction(test, temp['original']['generation'], temp['new']['generation'][1], 25)\n",
    "test = replace_instruction(test, temp['original']['generation'], temp['new']['generation'][2], 25)\n",
    "\n",
    "test = replace_instruction(test, temp['original']['daily'], temp['new']['daily'][0], 395)\n",
    "test = replace_instruction(test, temp['original']['daily'], temp['new']['daily'][1], 395)\n",
    "test = replace_instruction(test, temp['original']['daily'], temp['new']['daily'][2], 395)\n",
    "\n",
    "test = replace_instruction(test, temp['original']['alt'], temp['new']['alt'][0], 395)\n",
    "test = replace_instruction(test, temp['original']['alt'], temp['new']['alt'][1], 395)\n",
    "test = replace_instruction(test, temp['original']['alt'], temp['new']['alt'][2], 395)"
   ]
  },
  {
   "cell_type": "code",
   "execution_count": 14,
   "metadata": {},
   "outputs": [
    {
     "data": {
      "text/plain": [
       "instruction\n",
       "Generate a medically accurate and precise doctor’s response based on the given patient’s query. Your task as a medical AI assistant is to ensure that the response is professional and aligned with medical guidelines.      25\n",
       "You are tasked with generating an appropriate medical response to a patient’s question, simulating a doctor's reply. Ensure the response is factually correct, relevant, and follows medical best practices.                 25\n",
       "Generate a comprehensive medical response based on the patient's query.                                                                                                                                                      25\n",
       "As a medical AI assistant, your role is to generate an accurate and concise response to the patient's query, simulating a doctor's reply. Ensure that your response is both medically sound and relevant to the question.    25\n",
       "Name: count, dtype: int64"
      ]
     },
     "execution_count": 14,
     "metadata": {},
     "output_type": "execute_result"
    }
   ],
   "source": [
    "test[test['task']=='generation']['instruction'].value_counts()"
   ]
  },
  {
   "cell_type": "code",
   "execution_count": 15,
   "metadata": {},
   "outputs": [
    {
     "data": {
      "text/plain": [
       "4891"
      ]
     },
     "execution_count": 15,
     "metadata": {},
     "output_type": "execute_result"
    }
   ],
   "source": [
    "test['instruction'].value_counts().sum()"
   ]
  },
  {
   "cell_type": "code",
   "execution_count": 16,
   "metadata": {},
   "outputs": [
    {
     "data": {
      "text/html": [
       "<div>\n",
       "<style scoped>\n",
       "    .dataframe tbody tr th:only-of-type {\n",
       "        vertical-align: middle;\n",
       "    }\n",
       "\n",
       "    .dataframe tbody tr th {\n",
       "        vertical-align: top;\n",
       "    }\n",
       "\n",
       "    .dataframe thead th {\n",
       "        text-align: right;\n",
       "    }\n",
       "</style>\n",
       "<table border=\"1\" class=\"dataframe\">\n",
       "  <thead>\n",
       "    <tr style=\"text-align: right;\">\n",
       "      <th></th>\n",
       "      <th>dataset</th>\n",
       "      <th>split_data</th>\n",
       "      <th>task</th>\n",
       "      <th>instruction</th>\n",
       "      <th>input</th>\n",
       "      <th>output</th>\n",
       "    </tr>\n",
       "  </thead>\n",
       "  <tbody>\n",
       "    <tr>\n",
       "      <th>0</th>\n",
       "      <td>medqa</td>\n",
       "      <td>train</td>\n",
       "      <td>qa1</td>\n",
       "      <td>You are given a multiple-choice medical questi...</td>\n",
       "      <td>A 52-year-old man presents to the emergency de...</td>\n",
       "      <td>A) Impaired venous blood flow</td>\n",
       "    </tr>\n",
       "    <tr>\n",
       "      <th>1</th>\n",
       "      <td>medqa</td>\n",
       "      <td>train</td>\n",
       "      <td>qa1</td>\n",
       "      <td>You are given a multiple-choice medical questi...</td>\n",
       "      <td>A 72-year-old woman with type 2 diabetes melli...</td>\n",
       "      <td>C) Inhibition of squalene epoxidase</td>\n",
       "    </tr>\n",
       "    <tr>\n",
       "      <th>2</th>\n",
       "      <td>medqa</td>\n",
       "      <td>train</td>\n",
       "      <td>qa1</td>\n",
       "      <td>You are given a multiple-choice medical questi...</td>\n",
       "      <td>A pediatrician is investigating determinants o...</td>\n",
       "      <td>D) There is a positively correlated linear ass...</td>\n",
       "    </tr>\n",
       "    <tr>\n",
       "      <th>3</th>\n",
       "      <td>medqa</td>\n",
       "      <td>train</td>\n",
       "      <td>qa1</td>\n",
       "      <td>You are given a multiple-choice medical questi...</td>\n",
       "      <td>You are conducting a systematic review on the ...</td>\n",
       "      <td>C) Standard deviation, mean, sample size</td>\n",
       "    </tr>\n",
       "    <tr>\n",
       "      <th>4</th>\n",
       "      <td>medqa</td>\n",
       "      <td>train</td>\n",
       "      <td>qa1</td>\n",
       "      <td>You are given a multiple-choice medical questi...</td>\n",
       "      <td>A 50-year-old woman with a history of schizoph...</td>\n",
       "      <td>C) Haloperidol</td>\n",
       "    </tr>\n",
       "  </tbody>\n",
       "</table>\n",
       "</div>"
      ],
      "text/plain": [
       "  dataset split_data task                                        instruction  \\\n",
       "0   medqa      train  qa1  You are given a multiple-choice medical questi...   \n",
       "1   medqa      train  qa1  You are given a multiple-choice medical questi...   \n",
       "2   medqa      train  qa1  You are given a multiple-choice medical questi...   \n",
       "3   medqa      train  qa1  You are given a multiple-choice medical questi...   \n",
       "4   medqa      train  qa1  You are given a multiple-choice medical questi...   \n",
       "\n",
       "                                               input  \\\n",
       "0  A 52-year-old man presents to the emergency de...   \n",
       "1  A 72-year-old woman with type 2 diabetes melli...   \n",
       "2  A pediatrician is investigating determinants o...   \n",
       "3  You are conducting a systematic review on the ...   \n",
       "4  A 50-year-old woman with a history of schizoph...   \n",
       "\n",
       "                                              output  \n",
       "0                      A) Impaired venous blood flow  \n",
       "1                C) Inhibition of squalene epoxidase  \n",
       "2  D) There is a positively correlated linear ass...  \n",
       "3           C) Standard deviation, mean, sample size  \n",
       "4                                     C) Haloperidol  "
      ]
     },
     "execution_count": 16,
     "metadata": {},
     "output_type": "execute_result"
    }
   ],
   "source": [
    "final = pd.concat([train, test], axis=0)\n",
    "\n",
    "final.head()"
   ]
  },
  {
   "cell_type": "code",
   "execution_count": null,
   "metadata": {},
   "outputs": [],
   "source": []
  },
  {
   "cell_type": "code",
   "execution_count": 17,
   "metadata": {},
   "outputs": [
    {
     "data": {
      "text/plain": [
       "task\n",
       "daily_diets         10655\n",
       "alternative_diet     7046\n",
       "dfh_info             5344\n",
       "qa3                   500\n",
       "qa2                   500\n",
       "qa1                   500\n",
       "nli                   500\n",
       "summarization         500\n",
       "generation            500\n",
       "ie                    416\n",
       "re                    300\n",
       "Name: count, dtype: int64"
      ]
     },
     "execution_count": 17,
     "metadata": {},
     "output_type": "execute_result"
    }
   ],
   "source": [
    "final[final['split_data']=='train']['task'].value_counts()"
   ]
  },
  {
   "cell_type": "code",
   "execution_count": 18,
   "metadata": {},
   "outputs": [
    {
     "data": {
      "text/plain": [
       "dataset\n",
       "diabetes_food_hub    23045\n",
       "medqa                  500\n",
       "medmcqa                500\n",
       "bionli                 500\n",
       "pubmedqa               500\n",
       "meddialog              500\n",
       "pubmed                 500\n",
       "chemdner               416\n",
       "ddi                    300\n",
       "Name: count, dtype: int64"
      ]
     },
     "execution_count": 18,
     "metadata": {},
     "output_type": "execute_result"
    }
   ],
   "source": [
    "final[final['split_data']=='train']['dataset'].value_counts()"
   ]
  },
  {
   "cell_type": "code",
   "execution_count": 19,
   "metadata": {},
   "outputs": [],
   "source": [
    "final.reset_index(drop=True, inplace=True)\n",
    "\n",
    "final.to_json(\"/data/jaesung/llm_for_diabetes/src/data/instruction_dataset.json\", orient='columns', indent=4)"
   ]
  },
  {
   "cell_type": "code",
   "execution_count": 20,
   "metadata": {},
   "outputs": [
    {
     "name": "stdout",
     "output_type": "stream",
     "text": [
      "26761\n",
      "4891\n",
      "31652\n"
     ]
    }
   ],
   "source": [
    "print(len(train))\n",
    "print(len(test))\n",
    "print(len(final))"
   ]
  },
  {
   "cell_type": "code",
   "execution_count": 21,
   "metadata": {},
   "outputs": [
    {
     "data": {
      "text/html": [
       "<div>\n",
       "<style scoped>\n",
       "    .dataframe tbody tr th:only-of-type {\n",
       "        vertical-align: middle;\n",
       "    }\n",
       "\n",
       "    .dataframe tbody tr th {\n",
       "        vertical-align: top;\n",
       "    }\n",
       "\n",
       "    .dataframe thead th {\n",
       "        text-align: right;\n",
       "    }\n",
       "</style>\n",
       "<table border=\"1\" class=\"dataframe\">\n",
       "  <thead>\n",
       "    <tr style=\"text-align: right;\">\n",
       "      <th></th>\n",
       "      <th>dataset</th>\n",
       "      <th>split_data</th>\n",
       "      <th>task</th>\n",
       "      <th>instruction</th>\n",
       "      <th>input</th>\n",
       "      <th>output</th>\n",
       "    </tr>\n",
       "  </thead>\n",
       "  <tbody>\n",
       "    <tr>\n",
       "      <th>0</th>\n",
       "      <td>medqa</td>\n",
       "      <td>train</td>\n",
       "      <td>qa1</td>\n",
       "      <td>You are given a multiple-choice medical questi...</td>\n",
       "      <td>A 52-year-old man presents to the emergency de...</td>\n",
       "      <td>A) Impaired venous blood flow</td>\n",
       "    </tr>\n",
       "    <tr>\n",
       "      <th>1</th>\n",
       "      <td>medqa</td>\n",
       "      <td>train</td>\n",
       "      <td>qa1</td>\n",
       "      <td>You are given a multiple-choice medical questi...</td>\n",
       "      <td>A 72-year-old woman with type 2 diabetes melli...</td>\n",
       "      <td>C) Inhibition of squalene epoxidase</td>\n",
       "    </tr>\n",
       "  </tbody>\n",
       "</table>\n",
       "</div>"
      ],
      "text/plain": [
       "  dataset split_data task                                        instruction  \\\n",
       "0   medqa      train  qa1  You are given a multiple-choice medical questi...   \n",
       "1   medqa      train  qa1  You are given a multiple-choice medical questi...   \n",
       "\n",
       "                                               input  \\\n",
       "0  A 52-year-old man presents to the emergency de...   \n",
       "1  A 72-year-old woman with type 2 diabetes melli...   \n",
       "\n",
       "                                output  \n",
       "0        A) Impaired venous blood flow  \n",
       "1  C) Inhibition of squalene epoxidase  "
      ]
     },
     "execution_count": 21,
     "metadata": {},
     "output_type": "execute_result"
    }
   ],
   "source": [
    "final.head(2)"
   ]
  },
  {
   "cell_type": "code",
   "execution_count": 22,
   "metadata": {},
   "outputs": [
    {
     "data": {
      "text/html": [
       "<div>\n",
       "<style scoped>\n",
       "    .dataframe tbody tr th:only-of-type {\n",
       "        vertical-align: middle;\n",
       "    }\n",
       "\n",
       "    .dataframe tbody tr th {\n",
       "        vertical-align: top;\n",
       "    }\n",
       "\n",
       "    .dataframe thead th {\n",
       "        text-align: right;\n",
       "    }\n",
       "</style>\n",
       "<table border=\"1\" class=\"dataframe\">\n",
       "  <thead>\n",
       "    <tr style=\"text-align: right;\">\n",
       "      <th></th>\n",
       "      <th>task</th>\n",
       "      <th>text_length</th>\n",
       "    </tr>\n",
       "  </thead>\n",
       "  <tbody>\n",
       "    <tr>\n",
       "      <th>0</th>\n",
       "      <td>alternative_diet</td>\n",
       "      <td>483.939380</td>\n",
       "    </tr>\n",
       "    <tr>\n",
       "      <th>1</th>\n",
       "      <td>daily_diets</td>\n",
       "      <td>312.196096</td>\n",
       "    </tr>\n",
       "    <tr>\n",
       "      <th>2</th>\n",
       "      <td>dfh_info</td>\n",
       "      <td>317.835704</td>\n",
       "    </tr>\n",
       "    <tr>\n",
       "      <th>3</th>\n",
       "      <td>generation</td>\n",
       "      <td>1596.248333</td>\n",
       "    </tr>\n",
       "    <tr>\n",
       "      <th>4</th>\n",
       "      <td>ie</td>\n",
       "      <td>2544.856833</td>\n",
       "    </tr>\n",
       "    <tr>\n",
       "      <th>5</th>\n",
       "      <td>nli</td>\n",
       "      <td>1843.633681</td>\n",
       "    </tr>\n",
       "    <tr>\n",
       "      <th>6</th>\n",
       "      <td>qa1</td>\n",
       "      <td>1265.381667</td>\n",
       "    </tr>\n",
       "    <tr>\n",
       "      <th>7</th>\n",
       "      <td>qa2</td>\n",
       "      <td>588.376667</td>\n",
       "    </tr>\n",
       "    <tr>\n",
       "      <th>8</th>\n",
       "      <td>qa3</td>\n",
       "      <td>1625.408333</td>\n",
       "    </tr>\n",
       "    <tr>\n",
       "      <th>9</th>\n",
       "      <td>re</td>\n",
       "      <td>990.000000</td>\n",
       "    </tr>\n",
       "    <tr>\n",
       "      <th>10</th>\n",
       "      <td>summarization</td>\n",
       "      <td>1677.866667</td>\n",
       "    </tr>\n",
       "  </tbody>\n",
       "</table>\n",
       "</div>"
      ],
      "text/plain": [
       "                task  text_length\n",
       "0   alternative_diet   483.939380\n",
       "1        daily_diets   312.196096\n",
       "2           dfh_info   317.835704\n",
       "3         generation  1596.248333\n",
       "4                 ie  2544.856833\n",
       "5                nli  1843.633681\n",
       "6                qa1  1265.381667\n",
       "7                qa2   588.376667\n",
       "8                qa3  1625.408333\n",
       "9                 re   990.000000\n",
       "10     summarization  1677.866667"
      ]
     },
     "execution_count": 22,
     "metadata": {},
     "output_type": "execute_result"
    }
   ],
   "source": [
    "import pandas as pd\n",
    "\n",
    "# 각 행의 길이를 계산하는 함수\n",
    "def calculate_text_length(row):\n",
    "    return len(str(row['instruction'])) + len(str(row['input'])) + len(str(row['output']))\n",
    "    # return len(str(row['output']))\n",
    "\n",
    "# 각 행에 대해 텍스트 길이를 계산\n",
    "final[\"text_length\"] = final.apply(calculate_text_length, axis=1)\n",
    "\n",
    "# 각 task별 평균 길이 계산\n",
    "task_length_avg = final.groupby(\"task\")[\"text_length\"].mean().reset_index()\n",
    "\n",
    "# 결과 출력\n",
    "# import ace_tools as tools\n",
    "# tools.display_dataframe_to_user(name=\"Task-wise Average Text Length\", dataframe=task_length_avg)\n",
    "task_length_avg\n"
   ]
  },
  {
   "cell_type": "code",
   "execution_count": 23,
   "metadata": {},
   "outputs": [
    {
     "data": {
      "text/plain": [
       "['Hi. I went through your post and investigations (attachment removed to protect patient identity). I would suggest a stepwise approach. Regards. For further queries consult an internal medicine physician online --> https://icliniq.com./ask-a-doctor-online/internal-medicine-physician',\n",
       " 'Hello. There will be secretions under the foreskin, which is called smegma. These get infected in men with an immune-compromised condition such as diabetes. In others, keeping the undersurface of foreskin clean once a day while having a bath is enough. It is not necessary to pull back foreskin every time you urinate. Even shaking the penis after urination does not affect smegma. In normal persons, cleaning the undersurface of foreskin once a day suffices.',\n",
       " 'Hello. According to your statement, you have been suffering from a few painful, hard bumps at the back right of the tongue, and in front of the right tonsil and feel uncomfortable during swallowing. Usually inflamed papillae or taste buds are small, painful bumps that appear after an injury from a bite or irritation from the hot foods. Herpes is a common viral infection that can develop blisters on the tongue or gums. Oral herpes is contagious and can spread through saliva, direct contact, sexual exposure, etc. Canker sores may appear on the tongue which are red, white or yellow in appearance and can feel raw and very painful. Some foods seem to trigger cankers sore. Again food intolerances and allergic reactions may cause bumps on the tongue and it may swollen. An infection in the mouth or on the tongue may cause swelling and pain at the site of the infection. People with syphilis sometimes develop tongue sore as an early symptom of the disease and can contract the infection through direct contact during vaginal, oral, or anal sex. People with oral thrush usually notice rough white patches on the tongue and there is often redness and a sour mouth as well. It can result from DM (diabetes mellitus), HIV, nutritional deficiencies, some medications like corticosteroid, etc. Even TB (tuberculosis), carcinoma can develop bumps on the tongue. Treatment depends on the causes of the bumps. You can use antifungal medication, antibiotics, antiviral medication, and maintain good oral hygiene. You should provide some additional history like smoking, substance abuse, previous disease, medications, history of sexual activities, fever. etc.',\n",
       " 'Hello. At 38 weeks of pregnancy when the head is a cephalic presentation but not yet fixed in the pelvis and there are no decelerations or fetal distress on CTG monitoring and if you do not have any high-risk factor-like IHCP or gestational hypertension with pre-eclampsia then there is actually no need to be induced before the labor starts naturally. There are certain set criteria for induction at 38 weeks or before as mentioned above, else at 39 weeks gestational diabetes, and at 40 weeks plus three days, if post diatoms and no labor initiated naturally, then induction should be done. I do not see any reason why you should be induced at present with AFI normal and heart rate acceptable. At this stage more than heart rate, CTG tracing is more important to assess the fetal well being. So please review with reports and ultrasound and CTG tracing or please furnish details of this being a high-risk pregnancy.',\n",
       " \"Hello. This is the age where you get posterior vitreous detachment. It is a naturally occurring age-related phenomenon where the vitreous jelly separates from one's retina and in this process, one might experience a ring-like floater and probably some flashes. Some warning signs you can watch out if there is something abnormal: If these occur, please consult a vitreoretinal expert ophthalmologist for a dilated fundus examination to rule out any areas of weakness in the retina. Till then, start Nepafenac eye drops once at bedtime to hasten the PVD process. For more information consult an eye care ophthalmologist online --> https://www.icliniq.com/ask-a-doctor-online/eye-care-ophthalmologist\"]"
      ]
     },
     "execution_count": 23,
     "metadata": {},
     "output_type": "execute_result"
    }
   ],
   "source": [
    "final[final['task']=='generation']['output'].tolist()[:5]"
   ]
  },
  {
   "cell_type": "code",
   "execution_count": 25,
   "metadata": {},
   "outputs": [
    {
     "data": {
      "application/vnd.jupyter.widget-view+json": {
       "model_id": "0cfdb6eb9e3b4fe5ba3a57bbd94cde97",
       "version_major": 2,
       "version_minor": 0
      },
      "text/plain": [
       "Uploading the dataset shards:   0%|          | 0/1 [00:00<?, ?it/s]"
      ]
     },
     "metadata": {},
     "output_type": "display_data"
    },
    {
     "data": {
      "application/vnd.jupyter.widget-view+json": {
       "model_id": "cea472b6e9dd47eab7d1e8bb082a79d6",
       "version_major": 2,
       "version_minor": 0
      },
      "text/plain": [
       "Creating parquet from Arrow format:   0%|          | 0/27 [00:00<?, ?ba/s]"
      ]
     },
     "metadata": {},
     "output_type": "display_data"
    },
    {
     "data": {
      "application/vnd.jupyter.widget-view+json": {
       "model_id": "c279f8bc1ede4b18bee9300be4ba8bba",
       "version_major": 2,
       "version_minor": 0
      },
      "text/plain": [
       "Uploading the dataset shards:   0%|          | 0/1 [00:00<?, ?it/s]"
      ]
     },
     "metadata": {},
     "output_type": "display_data"
    },
    {
     "data": {
      "application/vnd.jupyter.widget-view+json": {
       "model_id": "0351124e9a364335b1705c46e6d77cee",
       "version_major": 2,
       "version_minor": 0
      },
      "text/plain": [
       "Creating parquet from Arrow format:   0%|          | 0/5 [00:00<?, ?ba/s]"
      ]
     },
     "metadata": {},
     "output_type": "display_data"
    },
    {
     "data": {
      "text/plain": [
       "CommitInfo(commit_url='https://huggingface.co/datasets/passionMan/diabetes_v14/commit/f0c96d089e2063545a65e21fb96354c6f74c1c3f', commit_message='Upload dataset', commit_description='', oid='f0c96d089e2063545a65e21fb96354c6f74c1c3f', pr_url=None, repo_url=RepoUrl('https://huggingface.co/datasets/passionMan/diabetes_v14', endpoint='https://huggingface.co', repo_type='dataset', repo_id='passionMan/diabetes_v14'), pr_revision=None, pr_num=None)"
      ]
     },
     "execution_count": 25,
     "metadata": {},
     "output_type": "execute_result"
    }
   ],
   "source": [
    "from datasets import Dataset\n",
    "from dotenv import load_dotenv\n",
    "import os\n",
    "from datasets import Dataset, DatasetDict\n",
    "\n",
    "final['input'] = final['input'].apply(lambda x: json.dumps(x) if isinstance(x, dict) else x)\n",
    "final['output'] = final['output'].apply(lambda x: json.dumps(x) if isinstance(x, dict) else x)\n",
    "\n",
    "load_dotenv()\n",
    "\n",
    "hf_token = os.getenv(\"HF_TOKEN\")\n",
    "dataset = Dataset.from_pandas(final)\n",
    "\n",
    "train_df = final[final['split_data'] == 'train']\n",
    "test_df = final[final['split_data'] == 'test']\n",
    "\n",
    "train_dataset = Dataset.from_pandas(train_df)\n",
    "test_dataset = Dataset.from_pandas(test_df)\n",
    "\n",
    "dataset_dict = DatasetDict({\n",
    "    \"train\": train_dataset,\n",
    "    \"test\": test_dataset\n",
    "})\n",
    "\n",
    "dataset_dict.push_to_hub(\"passionMan/diabetes_v14\", token=hf_token) # Need to fix\n"
   ]
  },
  {
   "cell_type": "code",
   "execution_count": null,
   "metadata": {},
   "outputs": [],
   "source": []
  }
 ],
 "metadata": {
  "kernelspec": {
   "display_name": "meal_kernel",
   "language": "python",
   "name": "meal"
  },
  "language_info": {
   "codemirror_mode": {
    "name": "ipython",
    "version": 3
   },
   "file_extension": ".py",
   "mimetype": "text/x-python",
   "name": "python",
   "nbconvert_exporter": "python",
   "pygments_lexer": "ipython3",
   "version": "3.12.0"
  }
 },
 "nbformat": 4,
 "nbformat_minor": 2
}
