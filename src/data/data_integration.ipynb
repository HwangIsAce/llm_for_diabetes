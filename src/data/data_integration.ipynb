{
 "cells": [
  {
   "cell_type": "code",
   "execution_count": 1,
   "metadata": {},
   "outputs": [
    {
     "data": {
      "text/html": [
       "<div>\n",
       "<style scoped>\n",
       "    .dataframe tbody tr th:only-of-type {\n",
       "        vertical-align: middle;\n",
       "    }\n",
       "\n",
       "    .dataframe tbody tr th {\n",
       "        vertical-align: top;\n",
       "    }\n",
       "\n",
       "    .dataframe thead th {\n",
       "        text-align: right;\n",
       "    }\n",
       "</style>\n",
       "<table border=\"1\" class=\"dataframe\">\n",
       "  <thead>\n",
       "    <tr style=\"text-align: right;\">\n",
       "      <th></th>\n",
       "      <th>dataset</th>\n",
       "      <th>split_data</th>\n",
       "      <th>task</th>\n",
       "      <th>instruction</th>\n",
       "      <th>input</th>\n",
       "      <th>output</th>\n",
       "    </tr>\n",
       "  </thead>\n",
       "  <tbody>\n",
       "    <tr>\n",
       "      <th>0</th>\n",
       "      <td>medqa</td>\n",
       "      <td>train</td>\n",
       "      <td>qa1</td>\n",
       "      <td>You are given a multiple-choice medical questi...</td>\n",
       "      <td>A 52-year-old man presents to the emergency de...</td>\n",
       "      <td>A</td>\n",
       "    </tr>\n",
       "    <tr>\n",
       "      <th>1</th>\n",
       "      <td>medqa</td>\n",
       "      <td>train</td>\n",
       "      <td>qa1</td>\n",
       "      <td>You are given a multiple-choice medical questi...</td>\n",
       "      <td>A 72-year-old woman with type 2 diabetes melli...</td>\n",
       "      <td>C</td>\n",
       "    </tr>\n",
       "  </tbody>\n",
       "</table>\n",
       "</div>"
      ],
      "text/plain": [
       "  dataset split_data task                                        instruction  \\\n",
       "0   medqa      train  qa1  You are given a multiple-choice medical questi...   \n",
       "1   medqa      train  qa1  You are given a multiple-choice medical questi...   \n",
       "\n",
       "                                               input output  \n",
       "0  A 52-year-old man presents to the emergency de...      A  \n",
       "1  A 72-year-old woman with type 2 diabetes melli...      C  "
      ]
     },
     "execution_count": 1,
     "metadata": {},
     "output_type": "execute_result"
    }
   ],
   "source": [
    "## train\n",
    "\n",
    "import pandas as pd\n",
    "import json\n",
    "\n",
    "## data1\n",
    "file_path1 = \"/data/jaesung/llm_for_diabetes/src/data/data1_diabetes/train_instruction_dataset_v14.json\"\n",
    "with open(file_path1, 'r', encoding='utf-8') as f:\n",
    "    data1 = json.load(f)\n",
    "\n",
    "data1 = pd.DataFrame(data1)\n",
    "\n",
    "data1 = data1[['dataset', 'split_data', 'task', 'instruction', 'input', 'output']]\n",
    "\n",
    "data1.head(2)"
   ]
  },
  {
   "cell_type": "code",
   "execution_count": 2,
   "metadata": {},
   "outputs": [],
   "source": [
    "\n",
    "# ## data2 - dfh info\n",
    "# file_path21 = \"/data/jaesung/llm_for_diabetes/src/data/data2_daily_diets/dfh_instrution_dataset_v3.json\"\n",
    "# with open(file_path21, 'r', encoding='utf-8') as f:\n",
    "#     data2_dfh = json.load(f)\n",
    "\n",
    "# data2_dfh = pd.DataFrame(data2_dfh)\n",
    "# data2_dfh['dataset'] = 'diabetes_food_hub'\n",
    "# data2_dfh['split_data'] = 'train'\n",
    "# data2_dfh['task'] = 'dfh_info'\n",
    "\n",
    "# data2_dfh = data2_dfh[['dataset', 'split_data', 'task', 'instruction', 'input', 'output']]\n",
    "\n",
    "# data2_dfh.head(2)"
   ]
  },
  {
   "cell_type": "code",
   "execution_count": 3,
   "metadata": {},
   "outputs": [
    {
     "data": {
      "text/html": [
       "<div>\n",
       "<style scoped>\n",
       "    .dataframe tbody tr th:only-of-type {\n",
       "        vertical-align: middle;\n",
       "    }\n",
       "\n",
       "    .dataframe tbody tr th {\n",
       "        vertical-align: top;\n",
       "    }\n",
       "\n",
       "    .dataframe thead th {\n",
       "        text-align: right;\n",
       "    }\n",
       "</style>\n",
       "<table border=\"1\" class=\"dataframe\">\n",
       "  <thead>\n",
       "    <tr style=\"text-align: right;\">\n",
       "      <th></th>\n",
       "      <th>dataset</th>\n",
       "      <th>split_data</th>\n",
       "      <th>task</th>\n",
       "      <th>instruction</th>\n",
       "      <th>input</th>\n",
       "      <th>output</th>\n",
       "    </tr>\n",
       "  </thead>\n",
       "  <tbody>\n",
       "    <tr>\n",
       "      <th>0</th>\n",
       "      <td>diabetes_food_hub</td>\n",
       "      <td>train</td>\n",
       "      <td>daily_diets</td>\n",
       "      <td>Generate a structured daily meal plan for diab...</td>\n",
       "      <td>Ensure the daily carbohydrate intake does not ...</td>\n",
       "      <td>Breakfast: Maple-Pumpkin Spice Oatmeal Cookies...</td>\n",
       "    </tr>\n",
       "    <tr>\n",
       "      <th>1</th>\n",
       "      <td>diabetes_food_hub</td>\n",
       "      <td>train</td>\n",
       "      <td>daily_diets</td>\n",
       "      <td>Generate a structured daily meal plan for diab...</td>\n",
       "      <td>Create a meal plan that includes celery(small ...</td>\n",
       "      <td>Breakfast: Maple-Pumpkin Spice Oatmeal Cookies...</td>\n",
       "    </tr>\n",
       "  </tbody>\n",
       "</table>\n",
       "</div>"
      ],
      "text/plain": [
       "             dataset split_data         task  \\\n",
       "0  diabetes_food_hub      train  daily_diets   \n",
       "1  diabetes_food_hub      train  daily_diets   \n",
       "\n",
       "                                         instruction  \\\n",
       "0  Generate a structured daily meal plan for diab...   \n",
       "1  Generate a structured daily meal plan for diab...   \n",
       "\n",
       "                                               input  \\\n",
       "0  Ensure the daily carbohydrate intake does not ...   \n",
       "1  Create a meal plan that includes celery(small ...   \n",
       "\n",
       "                                              output  \n",
       "0  Breakfast: Maple-Pumpkin Spice Oatmeal Cookies...  \n",
       "1  Breakfast: Maple-Pumpkin Spice Oatmeal Cookies...  "
      ]
     },
     "execution_count": 3,
     "metadata": {},
     "output_type": "execute_result"
    }
   ],
   "source": [
    "## data2 - daily_diets\n",
    "file_path22 = \"/data/jaesung/llm_for_diabetes/src/data/data2_daily_diets/daily_diets_drop_duplicated_and_sampled_train_instruction_dataset_v7.json\"\n",
    "with open(file_path22, 'r', encoding='utf-8') as f:\n",
    "    data2_daily_diets = json.load(f)\n",
    "\n",
    "data2_daily_diets = pd.DataFrame(data2_daily_diets)\n",
    "data2_daily_diets['dataset'] = 'diabetes_food_hub'\n",
    "data2_daily_diets['split_data'] = 'train'\n",
    "data2_daily_diets['task'] = 'daily_diets'\n",
    "\n",
    "data2_daily_diets = data2_daily_diets[['dataset', 'split_data', 'task', 'instruction', 'input', 'output']]\n",
    "\n",
    "data2_daily_diets.head(2)"
   ]
  },
  {
   "cell_type": "code",
   "execution_count": 4,
   "metadata": {},
   "outputs": [
    {
     "data": {
      "text/html": [
       "<div>\n",
       "<style scoped>\n",
       "    .dataframe tbody tr th:only-of-type {\n",
       "        vertical-align: middle;\n",
       "    }\n",
       "\n",
       "    .dataframe tbody tr th {\n",
       "        vertical-align: top;\n",
       "    }\n",
       "\n",
       "    .dataframe thead th {\n",
       "        text-align: right;\n",
       "    }\n",
       "</style>\n",
       "<table border=\"1\" class=\"dataframe\">\n",
       "  <thead>\n",
       "    <tr style=\"text-align: right;\">\n",
       "      <th></th>\n",
       "      <th>dataset</th>\n",
       "      <th>split_data</th>\n",
       "      <th>task</th>\n",
       "      <th>instruction</th>\n",
       "      <th>input</th>\n",
       "      <th>output</th>\n",
       "    </tr>\n",
       "  </thead>\n",
       "  <tbody>\n",
       "    <tr>\n",
       "      <th>0</th>\n",
       "      <td>diabetes_food_hub</td>\n",
       "      <td>train</td>\n",
       "      <td>alternative_diet</td>\n",
       "      <td>Given the previous meal, recommend the next me...</td>\n",
       "      <td>Your last recorded meal was: Bread, whole whea...</td>\n",
       "      <td>Chopped Black Bean Chicken Salad is recommende...</td>\n",
       "    </tr>\n",
       "    <tr>\n",
       "      <th>1</th>\n",
       "      <td>diabetes_food_hub</td>\n",
       "      <td>train</td>\n",
       "      <td>alternative_diet</td>\n",
       "      <td>Given the previous meal, recommend the next me...</td>\n",
       "      <td>The previous meal was: Turkey, prepackaged or ...</td>\n",
       "      <td>Easy Broccoli and Shrimp Stir-Fry is recommend...</td>\n",
       "    </tr>\n",
       "  </tbody>\n",
       "</table>\n",
       "</div>"
      ],
      "text/plain": [
       "             dataset split_data              task  \\\n",
       "0  diabetes_food_hub      train  alternative_diet   \n",
       "1  diabetes_food_hub      train  alternative_diet   \n",
       "\n",
       "                                         instruction  \\\n",
       "0  Given the previous meal, recommend the next me...   \n",
       "1  Given the previous meal, recommend the next me...   \n",
       "\n",
       "                                               input  \\\n",
       "0  Your last recorded meal was: Bread, whole whea...   \n",
       "1  The previous meal was: Turkey, prepackaged or ...   \n",
       "\n",
       "                                              output  \n",
       "0  Chopped Black Bean Chicken Salad is recommende...  \n",
       "1  Easy Broccoli and Shrimp Stir-Fry is recommend...  "
      ]
     },
     "execution_count": 4,
     "metadata": {},
     "output_type": "execute_result"
    }
   ],
   "source": [
    "## data3 - alternative_diet\n",
    "file_path3 = \"/data/jaesung/llm_for_diabetes/src/data/data3_multimodal/version1/snapme_train_instruction_dataset_v8.json\"\n",
    "with open(file_path3, 'r', encoding='utf-8') as f:\n",
    "    data3_alternative_diet = json.load(f)\n",
    "\n",
    "data3_alternative_diet = pd.DataFrame(data3_alternative_diet)\n",
    "data3_alternative_diet['dataset'] = 'diabetes_food_hub'\n",
    "data3_alternative_diet['split_data'] = 'train'\n",
    "data3_alternative_diet['task'] = 'alternative_diet'\n",
    "\n",
    "data3_alternative_diet = data3_alternative_diet[['dataset', 'split_data', 'task', 'instruction', 'input', 'output']]\n",
    "\n",
    "data3_alternative_diet.head(2)"
   ]
  },
  {
   "cell_type": "code",
   "execution_count": 5,
   "metadata": {},
   "outputs": [],
   "source": [
    "train = pd.concat([data1, data2_daily_diets, data3_alternative_diet], axis=0)"
   ]
  },
  {
   "cell_type": "code",
   "execution_count": 6,
   "metadata": {},
   "outputs": [
    {
     "data": {
      "text/plain": [
       "5766"
      ]
     },
     "execution_count": 6,
     "metadata": {},
     "output_type": "execute_result"
    }
   ],
   "source": [
    "len(train)"
   ]
  },
  {
   "cell_type": "code",
   "execution_count": null,
   "metadata": {},
   "outputs": [],
   "source": []
  },
  {
   "cell_type": "code",
   "execution_count": null,
   "metadata": {},
   "outputs": [],
   "source": []
  },
  {
   "cell_type": "code",
   "execution_count": null,
   "metadata": {},
   "outputs": [],
   "source": []
  },
  {
   "cell_type": "code",
   "execution_count": 7,
   "metadata": {},
   "outputs": [
    {
     "data": {
      "text/html": [
       "<div>\n",
       "<style scoped>\n",
       "    .dataframe tbody tr th:only-of-type {\n",
       "        vertical-align: middle;\n",
       "    }\n",
       "\n",
       "    .dataframe tbody tr th {\n",
       "        vertical-align: top;\n",
       "    }\n",
       "\n",
       "    .dataframe thead th {\n",
       "        text-align: right;\n",
       "    }\n",
       "</style>\n",
       "<table border=\"1\" class=\"dataframe\">\n",
       "  <thead>\n",
       "    <tr style=\"text-align: right;\">\n",
       "      <th></th>\n",
       "      <th>dataset</th>\n",
       "      <th>split_data</th>\n",
       "      <th>task</th>\n",
       "      <th>instruction</th>\n",
       "      <th>input</th>\n",
       "      <th>output</th>\n",
       "    </tr>\n",
       "  </thead>\n",
       "  <tbody>\n",
       "    <tr>\n",
       "      <th>0</th>\n",
       "      <td>medqa</td>\n",
       "      <td>test</td>\n",
       "      <td>qa1</td>\n",
       "      <td>You are given a multiple-choice medical questi...</td>\n",
       "      <td>A 60-year-old woman presents to the emergency ...</td>\n",
       "      <td>B</td>\n",
       "    </tr>\n",
       "    <tr>\n",
       "      <th>1</th>\n",
       "      <td>medqa</td>\n",
       "      <td>test</td>\n",
       "      <td>qa1</td>\n",
       "      <td>You are given a multiple-choice medical questi...</td>\n",
       "      <td>A 72-year-old male presents to a cardiac surge...</td>\n",
       "      <td>B</td>\n",
       "    </tr>\n",
       "  </tbody>\n",
       "</table>\n",
       "</div>"
      ],
      "text/plain": [
       "  dataset split_data task                                        instruction  \\\n",
       "0   medqa       test  qa1  You are given a multiple-choice medical questi...   \n",
       "1   medqa       test  qa1  You are given a multiple-choice medical questi...   \n",
       "\n",
       "                                               input output  \n",
       "0  A 60-year-old woman presents to the emergency ...      B  \n",
       "1  A 72-year-old male presents to a cardiac surge...      B  "
      ]
     },
     "execution_count": 7,
     "metadata": {},
     "output_type": "execute_result"
    }
   ],
   "source": [
    "## test\n",
    "\n",
    "import pandas as pd\n",
    "import json\n",
    "\n",
    "## data1\n",
    "file_path1 = \"/data/jaesung/llm_for_diabetes/src/data/data1_diabetes/test_instruction_dataset_v14.json\"\n",
    "with open(file_path1, 'r', encoding='utf-8') as f:\n",
    "    data1 = json.load(f)\n",
    "\n",
    "data1 = pd.DataFrame(data1)\n",
    "\n",
    "data1 = data1[['dataset', 'split_data', 'task', 'instruction', 'input', 'output']]\n",
    "\n",
    "data1.head(2)"
   ]
  },
  {
   "cell_type": "code",
   "execution_count": 8,
   "metadata": {},
   "outputs": [
    {
     "data": {
      "text/html": [
       "<div>\n",
       "<style scoped>\n",
       "    .dataframe tbody tr th:only-of-type {\n",
       "        vertical-align: middle;\n",
       "    }\n",
       "\n",
       "    .dataframe tbody tr th {\n",
       "        vertical-align: top;\n",
       "    }\n",
       "\n",
       "    .dataframe thead th {\n",
       "        text-align: right;\n",
       "    }\n",
       "</style>\n",
       "<table border=\"1\" class=\"dataframe\">\n",
       "  <thead>\n",
       "    <tr style=\"text-align: right;\">\n",
       "      <th></th>\n",
       "      <th>dataset</th>\n",
       "      <th>split_data</th>\n",
       "      <th>task</th>\n",
       "      <th>instruction</th>\n",
       "      <th>input</th>\n",
       "      <th>output</th>\n",
       "    </tr>\n",
       "  </thead>\n",
       "  <tbody>\n",
       "    <tr>\n",
       "      <th>0</th>\n",
       "      <td>diabetes_food_hub</td>\n",
       "      <td>test</td>\n",
       "      <td>daily_diets</td>\n",
       "      <td>Generate a structured daily meal plan for diab...</td>\n",
       "      <td>Ensure the daily carbohydrate intake does not ...</td>\n",
       "      <td>Breakfast: Strawberry Yogurt Whips. Lunch: Tur...</td>\n",
       "    </tr>\n",
       "    <tr>\n",
       "      <th>1</th>\n",
       "      <td>diabetes_food_hub</td>\n",
       "      <td>test</td>\n",
       "      <td>daily_diets</td>\n",
       "      <td>Generate a structured daily meal plan for diab...</td>\n",
       "      <td>Create a meal plan that includes egg substitut...</td>\n",
       "      <td>Breakfast: Strawberry Yogurt Whips. Lunch: Tur...</td>\n",
       "    </tr>\n",
       "  </tbody>\n",
       "</table>\n",
       "</div>"
      ],
      "text/plain": [
       "             dataset split_data         task  \\\n",
       "0  diabetes_food_hub       test  daily_diets   \n",
       "1  diabetes_food_hub       test  daily_diets   \n",
       "\n",
       "                                         instruction  \\\n",
       "0  Generate a structured daily meal plan for diab...   \n",
       "1  Generate a structured daily meal plan for diab...   \n",
       "\n",
       "                                               input  \\\n",
       "0  Ensure the daily carbohydrate intake does not ...   \n",
       "1  Create a meal plan that includes egg substitut...   \n",
       "\n",
       "                                              output  \n",
       "0  Breakfast: Strawberry Yogurt Whips. Lunch: Tur...  \n",
       "1  Breakfast: Strawberry Yogurt Whips. Lunch: Tur...  "
      ]
     },
     "execution_count": 8,
     "metadata": {},
     "output_type": "execute_result"
    }
   ],
   "source": [
    "## data2 - daily_diets\n",
    "file_path22 = \"/data/jaesung/llm_for_diabetes/src/data/data2_daily_diets/daily_diets_drop_duplicated_and_sampled_test_instruction_dataset_v7.json\"\n",
    "with open(file_path22, 'r', encoding='utf-8') as f:\n",
    "    data2_daily_diets = json.load(f)\n",
    "\n",
    "data2_daily_diets = pd.DataFrame(data2_daily_diets)\n",
    "data2_daily_diets['dataset'] = 'diabetes_food_hub'\n",
    "data2_daily_diets['split_data'] = 'test'\n",
    "data2_daily_diets['task'] = 'daily_diets'\n",
    "\n",
    "data2_daily_diets = data2_daily_diets[['dataset', 'split_data', 'task', 'instruction', 'input', 'output']]\n",
    "\n",
    "data2_daily_diets.head(2)"
   ]
  },
  {
   "cell_type": "code",
   "execution_count": 9,
   "metadata": {},
   "outputs": [
    {
     "data": {
      "text/html": [
       "<div>\n",
       "<style scoped>\n",
       "    .dataframe tbody tr th:only-of-type {\n",
       "        vertical-align: middle;\n",
       "    }\n",
       "\n",
       "    .dataframe tbody tr th {\n",
       "        vertical-align: top;\n",
       "    }\n",
       "\n",
       "    .dataframe thead th {\n",
       "        text-align: right;\n",
       "    }\n",
       "</style>\n",
       "<table border=\"1\" class=\"dataframe\">\n",
       "  <thead>\n",
       "    <tr style=\"text-align: right;\">\n",
       "      <th></th>\n",
       "      <th>dataset</th>\n",
       "      <th>split_data</th>\n",
       "      <th>task</th>\n",
       "      <th>instruction</th>\n",
       "      <th>input</th>\n",
       "      <th>output</th>\n",
       "    </tr>\n",
       "  </thead>\n",
       "  <tbody>\n",
       "    <tr>\n",
       "      <th>0</th>\n",
       "      <td>diabetes_food_hub</td>\n",
       "      <td>test</td>\n",
       "      <td>alternative_diet</td>\n",
       "      <td>Given the previous meal, recommend the next me...</td>\n",
       "      <td>The prior meal was: Beans, string, green, cook...</td>\n",
       "      <td>Veggie and Chicken Pasta Salad is recommended....</td>\n",
       "    </tr>\n",
       "    <tr>\n",
       "      <th>1</th>\n",
       "      <td>diabetes_food_hub</td>\n",
       "      <td>test</td>\n",
       "      <td>alternative_diet</td>\n",
       "      <td>Given the previous meal, recommend the next me...</td>\n",
       "      <td>The meal consumed earlier was: Cereal, oat, NFS</td>\n",
       "      <td>Grilled Lime Chicken Fajitas is recommended. T...</td>\n",
       "    </tr>\n",
       "  </tbody>\n",
       "</table>\n",
       "</div>"
      ],
      "text/plain": [
       "             dataset split_data              task  \\\n",
       "0  diabetes_food_hub       test  alternative_diet   \n",
       "1  diabetes_food_hub       test  alternative_diet   \n",
       "\n",
       "                                         instruction  \\\n",
       "0  Given the previous meal, recommend the next me...   \n",
       "1  Given the previous meal, recommend the next me...   \n",
       "\n",
       "                                               input  \\\n",
       "0  The prior meal was: Beans, string, green, cook...   \n",
       "1    The meal consumed earlier was: Cereal, oat, NFS   \n",
       "\n",
       "                                              output  \n",
       "0  Veggie and Chicken Pasta Salad is recommended....  \n",
       "1  Grilled Lime Chicken Fajitas is recommended. T...  "
      ]
     },
     "execution_count": 9,
     "metadata": {},
     "output_type": "execute_result"
    }
   ],
   "source": [
    "## data3 - alternative_diet\n",
    "file_path3 = \"/data/jaesung/llm_for_diabetes/src/data/data3_multimodal/version1/snapme_test_instruction_dataset_v8.json\"\n",
    "with open(file_path3, 'r', encoding='utf-8') as f:\n",
    "    data3_alternative_diet = json.load(f)\n",
    "\n",
    "data3_alternative_diet = pd.DataFrame(data3_alternative_diet)\n",
    "data3_alternative_diet['dataset'] = 'diabetes_food_hub'\n",
    "data3_alternative_diet['split_data'] = 'test'\n",
    "data3_alternative_diet['task'] = 'alternative_diet'\n",
    "\n",
    "data3_alternative_diet = data3_alternative_diet[['dataset', 'split_data', 'task', 'instruction', 'input', 'output']]\n",
    "\n",
    "data3_alternative_diet.head(2)"
   ]
  },
  {
   "cell_type": "code",
   "execution_count": 10,
   "metadata": {},
   "outputs": [],
   "source": [
    "\n",
    "test = pd.concat([data1, data2_daily_diets, data3_alternative_diet], axis=0)"
   ]
  },
  {
   "cell_type": "code",
   "execution_count": null,
   "metadata": {},
   "outputs": [
    {
     "data": {
      "text/plain": [
       "1181"
      ]
     },
     "execution_count": 11,
     "metadata": {},
     "output_type": "execute_result"
    }
   ],
   "source": [
    "test['instruction'].value_counts().sum()"
   ]
  },
  {
   "cell_type": "code",
   "execution_count": null,
   "metadata": {},
   "outputs": [],
   "source": []
  },
  {
   "cell_type": "code",
   "execution_count": 12,
   "metadata": {},
   "outputs": [
    {
     "data": {
      "text/plain": [
       "instruction\n",
       "Given the previous meal, recommend the next meal that maintains a nutritionally balanced diet. The recommended meal must be selected only from the provided dataset and should not include any additional information.\\n\\nThe output must strictly follow this format:\\n\\n\"[Recommended meal] is recommended. The reason is: [Explanation]\"    954\n",
       "Name: count, dtype: int64"
      ]
     },
     "execution_count": 12,
     "metadata": {},
     "output_type": "execute_result"
    }
   ],
   "source": [
    "train[train['task']=='alternative_diet']['instruction'].value_counts()"
   ]
  },
  {
   "cell_type": "code",
   "execution_count": 13,
   "metadata": {},
   "outputs": [],
   "source": [
    "import random\n",
    "import numpy as np\n",
    "\n",
    "temp = {\n",
    "    'original':{\n",
    "    'qa3': \"Choose the correct answer (Yes, No, or Maybe) for the given question based on the provided context.\",\n",
    "    'nli': \"Analyze the logical relationship between the given premise and hypothesis. Your task is to classify this relationship into one of the following categories: Entailment: Select this when the hypothesis logically follows from the premise. In other words, if the premise is true, the hypothesis must also be true. Contradiction: Select this when the hypothesis directly contradicts the premise. This means that if the premise is true, the hypothesis must be false. Please choose only one option: 'entailment' or 'contradiction'.\", \n",
    "    'ie': \"Extract chemical entities from the given text, ensuring they belong to one of these categories: Chemical Compounds (e.g., glucose, ATP, cholesterol), Drugs & Pharmaceuticals (e.g., metformin, aspirin, paclitaxel), Metabolites & Bioactive Molecules (e.g., serotonin, nitric oxide, kynurenine), Vitamins & Minerals (e.g., vitamin D, zinc, calcium), Toxic & Environmental Chemicals (e.g., arsenic, BPA, dioxin). Guidelines: Extract only named entities from these categories. Exclude general chemical properties (e.g., acidity, solubility) and chemical processes (e.g., oxidation, hydrolysis). Keep entity names as they appear in the text. Return only the extracted names.\",\n",
    "    'generation': \"As a medical AI assistant, generate a professional and medically accurate response to the given patient query. Ensure that your response aligns with medical guidelines and provides clear, practical advice. Avoid assumptions and base your answer solely on the provided information.\",\n",
    "    'summarization': \"Extract and summarize the essential insights from the PubMed article, ensuring a well-structured response. Organize the summary into the following sections: Objective (research aim), Methods (study methodology), Results (main discoveries), and Conclusion (implications).\",\n",
    "    'daily':  [\"Generate a structured daily meal plan for diabetes management. The output must strictly follow this format:\\n\\nBreakfast: [meal]\\nLunch: [meal]\\nDinner: [meal]\\n\\nThe recommended meals must be selected only from the provided dataset and should not include any additional information. Then, provide a brief explanation of how the selected meals contribute to diabetes management. The explanation must come after the meals and should be no longer than three sentences.\", \"Generate a structured daily meal plan for diabetes management. The recommended meals must be selected only from the provided dataset and should not include any additional information.\\n\\nThe output must strictly follow this format:\\n\\nBreakfast: [meal]\\nLunch: [meal]\\nDinner: [meal]\\n\\nThen, provide a brief explanation of how the selected meals support blood sugar control. The explanation should be concise and relevant to diabetes management, focusing on how the selected meals balance macronutrients.\"],\n",
    "    'alt': \"Given the previous meal, recommend the next meal that maintains a nutritionally balanced diet. The recommended meal must be selected only from the provided dataset and should not include any additional information.\\n\\nThe output must strictly follow this format:\\n\\n\\\"[Recommended meal] is recommended. The reason is: [Explanation]\\\"\",\n",
    " },\n",
    " 'new': {\n",
    "     'qa3': [\"Based on the provided context, determine whether the correct answer to the given question is Yes, No, or Maybe.\", \"Analyze the given context and select the most appropriate response (Yes, No, or Maybe) for the provided question.\"],\n",
    "     'nli': \"Evaluate the logical connection between the given premise and hypothesis. Determine whether the hypothesis is supported by the premise or contradicts it. Choose from the following options: Entailment: If the premise is true, the hypothesis must also be true. Contradiction: If the premise is true, the hypothesis must be false. Select only one of the two: 'entailment' or 'contradiction'.\",\n",
    "     'ie': [\"Identify and extract chemical entities mentioned in the text, ensuring they fall into one of these predefined categories: Chemical Compounds (e.g., glucose, ATP, cholesterol), Pharmaceuticals & Drugs (e.g., metformin, aspirin, paclitaxel), Bioactive Molecules & Metabolites (e.g., serotonin, nitric oxide, kynurenine), Essential Vitamins & Minerals (e.g., vitamin D, zinc, calcium), Toxic & Environmental Chemicals (e.g., arsenic, BPA, dioxin). Only extract named entities within these categories while excluding general chemical properties (e.g., acidity, solubility) and chemical processes (e.g., oxidation, hydrolysis). Preserve the exact entity names from the text and return only those names.\", \"From the given text, extract chemical entities that belong to the following categories: Chemical Compounds (e.g., glucose, ATP, cholesterol), Medications & Pharmaceuticals (e.g., metformin, aspirin, paclitaxel), Metabolites & Bioactive Substances (e.g., serotonin, nitric oxide, kynurenine), Vitamins & Essential Minerals (e.g., vitamin D, zinc, calcium), Hazardous & Environmental Chemicals (e.g., arsenic, BPA, dioxin). Do not extract general chemical properties (e.g., acidity, solubility) or chemical reactions/processes (e.g., oxidation, hydrolysis). Maintain entity names exactly as they appear in the text and return only the extracted names.\"],\n",
    "     'generation': [\"As a virtual medical assistant, provide a well-structured and medically sound response to the patient's inquiry. Your reply should strictly follow established medical guidelines and deliver clear, actionable advice. Refrain from making assumptions and ensure that your response is entirely based on the given details.\", \"Respond to the patient's query as a professional medical AI, ensuring accuracy and adherence to medical standards. Offer clear, evidence-based guidance while avoiding speculation. Your response should rely only on the provided information and align with established medical protocols.\", \"As a medical AI system, generate a precise and medically verified response to the patient's question. Ensure that your answer follows established medical protocols and offers clear, practical recommendations. Do not make assumptions—base your response strictly on the provided details.\"],\n",
    "     'summarization': [\"Extract and summarize the essential insights from the PubMed article, ensuring a well-structured response. Organize the summary into the following sections: Objective (research aim), Methods (study methodology), Results (main discoveries), and Conclusion (implications).\", \"Provide a structured summary of the PubMed article by extracting its key points. The summary should include the following sections: Objective (research purpose), Methods (approach used), Results (main findings), and Conclusion (significance and implications).\", \"Summarize the key insights from the PubMed article in a structured format. Ensure the summary includes distinct sections: Objective (study goal), Methods (research design), Results (key outcomes), and Conclusion (interpretations and relevance).\"],\n",
    "    'daily': {'A': [\"Create a structured daily meal plan specifically for diabetes management. The output must strictly follow this format:\\n\\nBreakfast: [meal]\\nLunch: [meal]\\nDinner: [meal]\\n\\nAll recommended meals must be chosen only from the provided dataset, with no additional items included. After listing the meals, briefly explain how they support blood sugar control. The explanation should follow the meal list and be no longer than three sentences.\", \"Design a daily meal plan optimized for diabetes management. The output format must be strictly followed:\\n\\nBreakfast: [meal]\\nLunch: [meal]\\nDinner: [meal]\\n\\nMeals should be selected only from the provided dataset, without adding extra items. Then, include a short explanation (maximum three sentences) on how these meals help maintain stable blood sugar levels.\", \"Generate a diabetes-friendly daily meal plan that follows this format:\\n\\nBreakfast: [meal]\\nLunch: [meal]\\nDinner: [meal]\\n\\nAll recommended meals must come from the given dataset, without modifications or additions. After listing the meals, provide a concise, three-sentence explanation of how these choices contribute to blood sugar regulation.\"], 'B': [\"Create a structured daily meal plan tailored for diabetes management. The selected meals must come exclusively from the provided dataset and should not contain any additional items.\\n\\nThe output format must be strictly followed:\\n\\nBreakfast: [meal]\\nLunch: [meal]\\nDinner: [meal]\\n\\nFinally, briefly explain how these meals help regulate blood sugar. The explanation should be concise, focusing on macronutrient balance and diabetes management.\", \"Design a structured meal plan for managing diabetes, ensuring that all recommended meals are chosen only from the provided dataset without any modifications.\\n\\nThe format must be strictly maintained as follows:\\n\\nBreakfast: [meal]\\nLunch: [meal]\\nDinner: [meal]\\n\\nAfter listing the meals, include a short explanation on how they support blood sugar stability, emphasizing their macronutrient composition.\", \"Generate a structured daily meal plan specifically for diabetes control. The meals must be selected strictly from the given dataset and must not include any extra items.\\n\\nEnsure the output follows this format:\\n\\nBreakfast: [meal]\\nLunch: [meal]\\nDinner: [meal]\\n\\nThen, provide a concise explanation of how the chosen meals contribute to maintaining stable blood sugar levels, focusing on their macronutrient balance.\"]},\n",
    "    'alt': [\"Based on the previous meal, recommend the next meal that maintains a nutritionally balanced diet. The recommended meal must be selected only from the provided dataset and should not include any additional information.\\n\\nThe output must follow this exact format:\\n\\n\\\"[Recommended meal] is recommended. The reason is: [Explanation]\\\"\", \"Recommend the next meal that ensures a balanced nutritional intake, considering the previous meal. The selection must be strictly from the provided dataset, without adding any external meals or details.\\n\\nThe output must strictly adhere to this format:\\n\\n\\\"[Recommended meal] is recommended. The reason is: [Explanation]\\\"\", \"Given the previous meal, choose the next meal that supports a well-balanced diet. The selected meal must be exclusively from the provided dataset and should not include any modifications or extra details.\\n\\nEnsure that the output strictly follows this format:\\n\\n\\\"[Recommended meal] is recommended. The reason is: [Explanation]\\\"\"], \n",
    " }}\n",
    "\n",
    "def replace_instruction(df, original, new, n):\n",
    "    mask = df['instruction'] == original\n",
    "    target_indices = df[mask].index.tolist()\n",
    "\n",
    "    num_to_replace = min(n, len(target_indices))\n",
    "\n",
    "    selected_indices = np.random.choice(target_indices, num_to_replace, replace=False)\n",
    "\n",
    "    df.loc[selected_indices, \"instruction\"] = new\n",
    "    return df\n",
    "\n",
    "# train\n",
    "train = replace_instruction(train, temp['original']['qa3'], temp['new']['qa3'][0], 166)\n",
    "train = replace_instruction(train, temp['original']['qa3'], temp['new']['qa3'][1], 166)\n",
    "\n",
    "train = replace_instruction(train, temp['original']['nli'], temp['new']['nli'], 250)\n",
    "\n",
    "train = replace_instruction(train, temp['original']['ie'], temp['new']['ie'][0], 166)\n",
    "train = replace_instruction(train, temp['original']['ie'], temp['new']['ie'][1], 166)\n",
    "\n",
    "train = replace_instruction(train, temp['original']['summarization'], temp['new']['summarization'][0], 125)\n",
    "train = replace_instruction(train, temp['original']['summarization'], temp['new']['summarization'][1], 125)\n",
    "train = replace_instruction(train, temp['original']['summarization'], temp['new']['summarization'][2], 125)\n",
    "\n",
    "train = replace_instruction(train, temp['original']['generation'], temp['new']['generation'][0], 125)\n",
    "train = replace_instruction(train, temp['original']['generation'], temp['new']['generation'][1], 125)\n",
    "train = replace_instruction(train, temp['original']['generation'], temp['new']['generation'][2], 125)\n",
    "\n",
    "train = replace_instruction(train, temp['original']['daily'][0], temp['new']['daily']['A'][0], 125)\n",
    "train = replace_instruction(train, temp['original']['daily'][0], temp['new']['daily']['A'][1], 125)\n",
    "train = replace_instruction(train, temp['original']['daily'][0], temp['new']['daily']['A'][2], 125)\n",
    "\n",
    "train = replace_instruction(train, temp['original']['daily'][1], temp['new']['daily']['B'][0], 125)\n",
    "train = replace_instruction(train, temp['original']['daily'][1], temp['new']['daily']['B'][1], 125)\n",
    "train = replace_instruction(train, temp['original']['daily'][1], temp['new']['daily']['B'][2], 125)\n",
    "\n",
    "train = replace_instruction(train, temp['original']['alt'], temp['new']['alt'][0], 300)\n",
    "train = replace_instruction(train, temp['original']['alt'], temp['new']['alt'][1], 300)\n",
    "train = replace_instruction(train, temp['original']['alt'], temp['new']['alt'][2], 300)\n",
    "\n",
    "# test\n",
    "test = replace_instruction(test, temp['original']['qa3'], temp['new']['qa3'][0], 33)\n",
    "test = replace_instruction(test, temp['original']['qa3'], temp['new']['qa3'][1], 33)\n",
    "\n",
    "test = replace_instruction(test, temp['original']['nli'], temp['new']['nli'], 30)\n",
    "\n",
    "test = replace_instruction(test, temp['original']['ie'], temp['new']['ie'][0], 15)\n",
    "test = replace_instruction(test, temp['original']['ie'], temp['new']['ie'][1], 15)\n",
    "\n",
    "test = replace_instruction(test, temp['original']['summarization'], temp['new']['summarization'][0], 25)\n",
    "test = replace_instruction(test, temp['original']['summarization'], temp['new']['summarization'][1], 25)\n",
    "test = replace_instruction(test, temp['original']['summarization'], temp['new']['summarization'][2], 25)\n",
    "\n",
    "test = replace_instruction(test, temp['original']['generation'], temp['new']['generation'][0], 25)\n",
    "test = replace_instruction(test, temp['original']['generation'], temp['new']['generation'][1], 25)\n",
    "test = replace_instruction(test, temp['original']['generation'], temp['new']['generation'][2], 25)\n",
    "\n",
    "test = replace_instruction(test, temp['original']['daily'][0], temp['new']['daily']['A'][0], 35)\n",
    "test = replace_instruction(test, temp['original']['daily'][0], temp['new']['daily']['A'][1], 35)\n",
    "test = replace_instruction(test, temp['original']['daily'][0], temp['new']['daily']['A'][2], 35)\n",
    "\n",
    "test = replace_instruction(test, temp['original']['daily'][1], temp['new']['daily']['B'][0], 35)\n",
    "test = replace_instruction(test, temp['original']['daily'][1], temp['new']['daily']['B'][1], 35)\n",
    "test = replace_instruction(test, temp['original']['daily'][1], temp['new']['daily']['B'][2], 35)\n",
    "\n",
    "test = replace_instruction(test, temp['original']['alt'], temp['new']['alt'][0], 60)\n",
    "test = replace_instruction(test, temp['original']['alt'], temp['new']['alt'][1], 60)\n",
    "test = replace_instruction(test, temp['original']['alt'], temp['new']['alt'][2], 60)"
   ]
  },
  {
   "cell_type": "code",
   "execution_count": 14,
   "metadata": {},
   "outputs": [
    {
     "data": {
      "text/plain": [
       "1181"
      ]
     },
     "execution_count": 14,
     "metadata": {},
     "output_type": "execute_result"
    }
   ],
   "source": [
    "test['instruction'].value_counts().sum()"
   ]
  },
  {
   "cell_type": "code",
   "execution_count": 15,
   "metadata": {},
   "outputs": [
    {
     "data": {
      "text/html": [
       "<div>\n",
       "<style scoped>\n",
       "    .dataframe tbody tr th:only-of-type {\n",
       "        vertical-align: middle;\n",
       "    }\n",
       "\n",
       "    .dataframe tbody tr th {\n",
       "        vertical-align: top;\n",
       "    }\n",
       "\n",
       "    .dataframe thead th {\n",
       "        text-align: right;\n",
       "    }\n",
       "</style>\n",
       "<table border=\"1\" class=\"dataframe\">\n",
       "  <thead>\n",
       "    <tr style=\"text-align: right;\">\n",
       "      <th></th>\n",
       "      <th>dataset</th>\n",
       "      <th>split_data</th>\n",
       "      <th>task</th>\n",
       "      <th>instruction</th>\n",
       "      <th>input</th>\n",
       "      <th>output</th>\n",
       "    </tr>\n",
       "  </thead>\n",
       "  <tbody>\n",
       "    <tr>\n",
       "      <th>0</th>\n",
       "      <td>medqa</td>\n",
       "      <td>train</td>\n",
       "      <td>qa1</td>\n",
       "      <td>You are given a multiple-choice medical questi...</td>\n",
       "      <td>A 52-year-old man presents to the emergency de...</td>\n",
       "      <td>A</td>\n",
       "    </tr>\n",
       "    <tr>\n",
       "      <th>1</th>\n",
       "      <td>medqa</td>\n",
       "      <td>train</td>\n",
       "      <td>qa1</td>\n",
       "      <td>You are given a multiple-choice medical questi...</td>\n",
       "      <td>A 72-year-old woman with type 2 diabetes melli...</td>\n",
       "      <td>C</td>\n",
       "    </tr>\n",
       "    <tr>\n",
       "      <th>2</th>\n",
       "      <td>medqa</td>\n",
       "      <td>train</td>\n",
       "      <td>qa1</td>\n",
       "      <td>You are given a multiple-choice medical questi...</td>\n",
       "      <td>A pediatrician is investigating determinants o...</td>\n",
       "      <td>D</td>\n",
       "    </tr>\n",
       "    <tr>\n",
       "      <th>3</th>\n",
       "      <td>medqa</td>\n",
       "      <td>train</td>\n",
       "      <td>qa1</td>\n",
       "      <td>You are given a multiple-choice medical questi...</td>\n",
       "      <td>You are conducting a systematic review on the ...</td>\n",
       "      <td>C</td>\n",
       "    </tr>\n",
       "    <tr>\n",
       "      <th>4</th>\n",
       "      <td>medqa</td>\n",
       "      <td>train</td>\n",
       "      <td>qa1</td>\n",
       "      <td>You are given a multiple-choice medical questi...</td>\n",
       "      <td>A 50-year-old woman with a history of schizoph...</td>\n",
       "      <td>C</td>\n",
       "    </tr>\n",
       "  </tbody>\n",
       "</table>\n",
       "</div>"
      ],
      "text/plain": [
       "  dataset split_data task                                        instruction  \\\n",
       "0   medqa      train  qa1  You are given a multiple-choice medical questi...   \n",
       "1   medqa      train  qa1  You are given a multiple-choice medical questi...   \n",
       "2   medqa      train  qa1  You are given a multiple-choice medical questi...   \n",
       "3   medqa      train  qa1  You are given a multiple-choice medical questi...   \n",
       "4   medqa      train  qa1  You are given a multiple-choice medical questi...   \n",
       "\n",
       "                                               input output  \n",
       "0  A 52-year-old man presents to the emergency de...      A  \n",
       "1  A 72-year-old woman with type 2 diabetes melli...      C  \n",
       "2  A pediatrician is investigating determinants o...      D  \n",
       "3  You are conducting a systematic review on the ...      C  \n",
       "4  A 50-year-old woman with a history of schizoph...      C  "
      ]
     },
     "execution_count": 15,
     "metadata": {},
     "output_type": "execute_result"
    }
   ],
   "source": [
    "final = pd.concat([train, test], axis=0)\n",
    "\n",
    "final.head()"
   ]
  },
  {
   "cell_type": "code",
   "execution_count": 18,
   "metadata": {},
   "outputs": [
    {
     "data": {
      "text/plain": [
       "dataset\n",
       "diabetes_food_hub    2050\n",
       "medqa                 500\n",
       "medmcqa               500\n",
       "bionli                500\n",
       "pubmedqa              500\n",
       "meddialog             500\n",
       "pubmed                500\n",
       "chemdner              416\n",
       "ddi                   300\n",
       "Name: count, dtype: int64"
      ]
     },
     "execution_count": 18,
     "metadata": {},
     "output_type": "execute_result"
    }
   ],
   "source": [
    "final[final['split_data']=='train']['dataset'].value_counts()"
   ]
  },
  {
   "cell_type": "code",
   "execution_count": 19,
   "metadata": {},
   "outputs": [],
   "source": [
    "final.reset_index(drop=True, inplace=True)\n",
    "\n",
    "final.to_json(\"/data/jaesung/llm_for_diabetes/src/data/instruction_dataset.json\", orient='columns', indent=4)"
   ]
  },
  {
   "cell_type": "code",
   "execution_count": 20,
   "metadata": {},
   "outputs": [
    {
     "name": "stdout",
     "output_type": "stream",
     "text": [
      "5766\n",
      "1181\n",
      "6947\n"
     ]
    }
   ],
   "source": [
    "print(len(train))\n",
    "print(len(test))\n",
    "print(len(final))"
   ]
  },
  {
   "cell_type": "code",
   "execution_count": 21,
   "metadata": {},
   "outputs": [
    {
     "data": {
      "text/html": [
       "<div>\n",
       "<style scoped>\n",
       "    .dataframe tbody tr th:only-of-type {\n",
       "        vertical-align: middle;\n",
       "    }\n",
       "\n",
       "    .dataframe tbody tr th {\n",
       "        vertical-align: top;\n",
       "    }\n",
       "\n",
       "    .dataframe thead th {\n",
       "        text-align: right;\n",
       "    }\n",
       "</style>\n",
       "<table border=\"1\" class=\"dataframe\">\n",
       "  <thead>\n",
       "    <tr style=\"text-align: right;\">\n",
       "      <th></th>\n",
       "      <th>dataset</th>\n",
       "      <th>split_data</th>\n",
       "      <th>task</th>\n",
       "      <th>instruction</th>\n",
       "      <th>input</th>\n",
       "      <th>output</th>\n",
       "    </tr>\n",
       "  </thead>\n",
       "  <tbody>\n",
       "    <tr>\n",
       "      <th>0</th>\n",
       "      <td>medqa</td>\n",
       "      <td>train</td>\n",
       "      <td>qa1</td>\n",
       "      <td>You are given a multiple-choice medical questi...</td>\n",
       "      <td>A 52-year-old man presents to the emergency de...</td>\n",
       "      <td>A</td>\n",
       "    </tr>\n",
       "    <tr>\n",
       "      <th>1</th>\n",
       "      <td>medqa</td>\n",
       "      <td>train</td>\n",
       "      <td>qa1</td>\n",
       "      <td>You are given a multiple-choice medical questi...</td>\n",
       "      <td>A 72-year-old woman with type 2 diabetes melli...</td>\n",
       "      <td>C</td>\n",
       "    </tr>\n",
       "  </tbody>\n",
       "</table>\n",
       "</div>"
      ],
      "text/plain": [
       "  dataset split_data task                                        instruction  \\\n",
       "0   medqa      train  qa1  You are given a multiple-choice medical questi...   \n",
       "1   medqa      train  qa1  You are given a multiple-choice medical questi...   \n",
       "\n",
       "                                               input output  \n",
       "0  A 52-year-old man presents to the emergency de...      A  \n",
       "1  A 72-year-old woman with type 2 diabetes melli...      C  "
      ]
     },
     "execution_count": 21,
     "metadata": {},
     "output_type": "execute_result"
    }
   ],
   "source": [
    "final.head(2)"
   ]
  },
  {
   "cell_type": "code",
   "execution_count": 22,
   "metadata": {},
   "outputs": [
    {
     "data": {
      "text/html": [
       "<div>\n",
       "<style scoped>\n",
       "    .dataframe tbody tr th:only-of-type {\n",
       "        vertical-align: middle;\n",
       "    }\n",
       "\n",
       "    .dataframe tbody tr th {\n",
       "        vertical-align: top;\n",
       "    }\n",
       "\n",
       "    .dataframe thead th {\n",
       "        text-align: right;\n",
       "    }\n",
       "</style>\n",
       "<table border=\"1\" class=\"dataframe\">\n",
       "  <thead>\n",
       "    <tr style=\"text-align: right;\">\n",
       "      <th></th>\n",
       "      <th>task</th>\n",
       "      <th>text_length</th>\n",
       "    </tr>\n",
       "  </thead>\n",
       "  <tbody>\n",
       "    <tr>\n",
       "      <th>0</th>\n",
       "      <td>alternative_diet</td>\n",
       "      <td>825.737500</td>\n",
       "    </tr>\n",
       "    <tr>\n",
       "      <th>1</th>\n",
       "      <td>daily_diets</td>\n",
       "      <td>1008.959124</td>\n",
       "    </tr>\n",
       "    <tr>\n",
       "      <th>2</th>\n",
       "      <td>generation</td>\n",
       "      <td>1707.473333</td>\n",
       "    </tr>\n",
       "    <tr>\n",
       "      <th>3</th>\n",
       "      <td>ie</td>\n",
       "      <td>1878.856833</td>\n",
       "    </tr>\n",
       "    <tr>\n",
       "      <th>4</th>\n",
       "      <td>nli</td>\n",
       "      <td>1886.128472</td>\n",
       "    </tr>\n",
       "    <tr>\n",
       "      <th>5</th>\n",
       "      <td>qa1</td>\n",
       "      <td>1237.005000</td>\n",
       "    </tr>\n",
       "    <tr>\n",
       "      <th>6</th>\n",
       "      <td>qa2</td>\n",
       "      <td>564.811667</td>\n",
       "    </tr>\n",
       "    <tr>\n",
       "      <th>7</th>\n",
       "      <td>qa3</td>\n",
       "      <td>1625.408333</td>\n",
       "    </tr>\n",
       "    <tr>\n",
       "      <th>8</th>\n",
       "      <td>re</td>\n",
       "      <td>990.000000</td>\n",
       "    </tr>\n",
       "    <tr>\n",
       "      <th>9</th>\n",
       "      <td>summarization</td>\n",
       "      <td>1749.850000</td>\n",
       "    </tr>\n",
       "  </tbody>\n",
       "</table>\n",
       "</div>"
      ],
      "text/plain": [
       "               task  text_length\n",
       "0  alternative_diet   825.737500\n",
       "1       daily_diets  1008.959124\n",
       "2        generation  1707.473333\n",
       "3                ie  1878.856833\n",
       "4               nli  1886.128472\n",
       "5               qa1  1237.005000\n",
       "6               qa2   564.811667\n",
       "7               qa3  1625.408333\n",
       "8                re   990.000000\n",
       "9     summarization  1749.850000"
      ]
     },
     "execution_count": 22,
     "metadata": {},
     "output_type": "execute_result"
    }
   ],
   "source": [
    "import pandas as pd\n",
    "\n",
    "# 각 행의 길이를 계산하는 함수\n",
    "def calculate_text_length(row):\n",
    "    return len(str(row['instruction'])) + len(str(row['input'])) + len(str(row['output']))\n",
    "    # return len(str(row['output']))\n",
    "\n",
    "# 각 행에 대해 텍스트 길이를 계산\n",
    "final[\"text_length\"] = final.apply(calculate_text_length, axis=1)\n",
    "\n",
    "# 각 task별 평균 길이 계산\n",
    "task_length_avg = final.groupby(\"task\")[\"text_length\"].mean().reset_index()\n",
    "\n",
    "# 결과 출력\n",
    "# import ace_tools as tools\n",
    "# tools.display_dataframe_to_user(name=\"Task-wise Average Text Length\", dataframe=task_length_avg)\n",
    "task_length_avg\n"
   ]
  },
  {
   "cell_type": "code",
   "execution_count": 23,
   "metadata": {},
   "outputs": [
    {
     "data": {
      "text/plain": [
       "['Hi. I went through your post and investigations (attachment removed to protect patient identity). I would suggest a stepwise approach. Regards. For further queries consult an internal medicine physician online --> https://icliniq.com./ask-a-doctor-online/internal-medicine-physician',\n",
       " 'Hello. There will be secretions under the foreskin, which is called smegma. These get infected in men with an immune-compromised condition such as diabetes. In others, keeping the undersurface of foreskin clean once a day while having a bath is enough. It is not necessary to pull back foreskin every time you urinate. Even shaking the penis after urination does not affect smegma. In normal persons, cleaning the undersurface of foreskin once a day suffices.',\n",
       " 'Hello. According to your statement, you have been suffering from a few painful, hard bumps at the back right of the tongue, and in front of the right tonsil and feel uncomfortable during swallowing. Usually inflamed papillae or taste buds are small, painful bumps that appear after an injury from a bite or irritation from the hot foods. Herpes is a common viral infection that can develop blisters on the tongue or gums. Oral herpes is contagious and can spread through saliva, direct contact, sexual exposure, etc. Canker sores may appear on the tongue which are red, white or yellow in appearance and can feel raw and very painful. Some foods seem to trigger cankers sore. Again food intolerances and allergic reactions may cause bumps on the tongue and it may swollen. An infection in the mouth or on the tongue may cause swelling and pain at the site of the infection. People with syphilis sometimes develop tongue sore as an early symptom of the disease and can contract the infection through direct contact during vaginal, oral, or anal sex. People with oral thrush usually notice rough white patches on the tongue and there is often redness and a sour mouth as well. It can result from DM (diabetes mellitus), HIV, nutritional deficiencies, some medications like corticosteroid, etc. Even TB (tuberculosis), carcinoma can develop bumps on the tongue. Treatment depends on the causes of the bumps. You can use antifungal medication, antibiotics, antiviral medication, and maintain good oral hygiene. You should provide some additional history like smoking, substance abuse, previous disease, medications, history of sexual activities, fever. etc.',\n",
       " 'Hello. At 38 weeks of pregnancy when the head is a cephalic presentation but not yet fixed in the pelvis and there are no decelerations or fetal distress on CTG monitoring and if you do not have any high-risk factor-like IHCP or gestational hypertension with pre-eclampsia then there is actually no need to be induced before the labor starts naturally. There are certain set criteria for induction at 38 weeks or before as mentioned above, else at 39 weeks gestational diabetes, and at 40 weeks plus three days, if post diatoms and no labor initiated naturally, then induction should be done. I do not see any reason why you should be induced at present with AFI normal and heart rate acceptable. At this stage more than heart rate, CTG tracing is more important to assess the fetal well being. So please review with reports and ultrasound and CTG tracing or please furnish details of this being a high-risk pregnancy.',\n",
       " \"Hello. This is the age where you get posterior vitreous detachment. It is a naturally occurring age-related phenomenon where the vitreous jelly separates from one's retina and in this process, one might experience a ring-like floater and probably some flashes. Some warning signs you can watch out if there is something abnormal: If these occur, please consult a vitreoretinal expert ophthalmologist for a dilated fundus examination to rule out any areas of weakness in the retina. Till then, start Nepafenac eye drops once at bedtime to hasten the PVD process. For more information consult an eye care ophthalmologist online --> https://www.icliniq.com/ask-a-doctor-online/eye-care-ophthalmologist\"]"
      ]
     },
     "execution_count": 23,
     "metadata": {},
     "output_type": "execute_result"
    }
   ],
   "source": [
    "final[final['task']=='generation']['output'].tolist()[:5]"
   ]
  },
  {
   "cell_type": "code",
   "execution_count": 24,
   "metadata": {},
   "outputs": [
    {
     "data": {
      "application/vnd.jupyter.widget-view+json": {
       "model_id": "96cb9c404b084a37bfe56f8ab906940d",
       "version_major": 2,
       "version_minor": 0
      },
      "text/plain": [
       "Pushing dataset shards to the dataset hub:   0%|          | 0/1 [00:00<?, ?it/s]"
      ]
     },
     "metadata": {},
     "output_type": "display_data"
    },
    {
     "data": {
      "application/vnd.jupyter.widget-view+json": {
       "model_id": "ae3b4827f97d40fdaecb35b22cdce272",
       "version_major": 2,
       "version_minor": 0
      },
      "text/plain": [
       "Creating parquet from Arrow format:   0%|          | 0/6 [00:00<?, ?ba/s]"
      ]
     },
     "metadata": {},
     "output_type": "display_data"
    },
    {
     "data": {
      "application/vnd.jupyter.widget-view+json": {
       "model_id": "df0e34655a1f4dc3be38828b595a1665",
       "version_major": 2,
       "version_minor": 0
      },
      "text/plain": [
       "Pushing dataset shards to the dataset hub:   0%|          | 0/1 [00:00<?, ?it/s]"
      ]
     },
     "metadata": {},
     "output_type": "display_data"
    },
    {
     "data": {
      "application/vnd.jupyter.widget-view+json": {
       "model_id": "027f085ce396403f84243467bb2151f3",
       "version_major": 2,
       "version_minor": 0
      },
      "text/plain": [
       "Creating parquet from Arrow format:   0%|          | 0/2 [00:00<?, ?ba/s]"
      ]
     },
     "metadata": {},
     "output_type": "display_data"
    }
   ],
   "source": [
    "from datasets import Dataset\n",
    "from dotenv import load_dotenv\n",
    "import os\n",
    "from datasets import Dataset, DatasetDict\n",
    "\n",
    "final['input'] = final['input'].apply(lambda x: json.dumps(x) if isinstance(x, dict) else x)\n",
    "final['output'] = final['output'].apply(lambda x: json.dumps(x) if isinstance(x, dict) else x)\n",
    "\n",
    "load_dotenv()\n",
    "\n",
    "hf_token = os.getenv(\"HF_TOKEN_WRITE\")\n",
    "dataset = Dataset.from_pandas(final)\n",
    "\n",
    "train_df = final[final['split_data'] == 'train']\n",
    "test_df = final[final['split_data'] == 'test']\n",
    "\n",
    "train_dataset = Dataset.from_pandas(train_df)\n",
    "test_dataset = Dataset.from_pandas(test_df)\n",
    "\n",
    "dataset_dict = DatasetDict({\n",
    "    \"train\": train_dataset,\n",
    "    \"test\": test_dataset\n",
    "})\n",
    "\n",
    "dataset_dict.push_to_hub(\"passionMan/diabetes_v17\", token=hf_token) # Need to fix\n"
   ]
  },
  {
   "cell_type": "code",
   "execution_count": null,
   "metadata": {},
   "outputs": [],
   "source": []
  }
 ],
 "metadata": {
  "kernelspec": {
   "display_name": "meal_kernel",
   "language": "python",
   "name": "meal"
  },
  "language_info": {
   "codemirror_mode": {
    "name": "ipython",
    "version": 3
   },
   "file_extension": ".py",
   "mimetype": "text/x-python",
   "name": "python",
   "nbconvert_exporter": "python",
   "pygments_lexer": "ipython3",
   "version": "3.12.0"
  }
 },
 "nbformat": 4,
 "nbformat_minor": 2
}
