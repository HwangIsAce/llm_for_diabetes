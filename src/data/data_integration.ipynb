{
 "cells": [
  {
   "cell_type": "code",
   "execution_count": null,
   "metadata": {},
   "outputs": [
    {
     "data": {
      "text/html": [
       "<div>\n",
       "<style scoped>\n",
       "    .dataframe tbody tr th:only-of-type {\n",
       "        vertical-align: middle;\n",
       "    }\n",
       "\n",
       "    .dataframe tbody tr th {\n",
       "        vertical-align: top;\n",
       "    }\n",
       "\n",
       "    .dataframe thead th {\n",
       "        text-align: right;\n",
       "    }\n",
       "</style>\n",
       "<table border=\"1\" class=\"dataframe\">\n",
       "  <thead>\n",
       "    <tr style=\"text-align: right;\">\n",
       "      <th></th>\n",
       "      <th>dataset</th>\n",
       "      <th>split_data</th>\n",
       "      <th>task</th>\n",
       "      <th>instruction</th>\n",
       "      <th>input</th>\n",
       "      <th>output</th>\n",
       "    </tr>\n",
       "  </thead>\n",
       "  <tbody>\n",
       "    <tr>\n",
       "      <th>0</th>\n",
       "      <td>bionli</td>\n",
       "      <td>train</td>\n",
       "      <td>nli</td>\n",
       "      <td>Read the given premise and hypothesis. Decide ...</td>\n",
       "      <td>[PRE] Obesity and age are risk factors for fel...</td>\n",
       "      <td>entailment</td>\n",
       "    </tr>\n",
       "    <tr>\n",
       "      <th>1</th>\n",
       "      <td>bionli</td>\n",
       "      <td>train</td>\n",
       "      <td>nli</td>\n",
       "      <td>Given a premise and a hypothesis, determine th...</td>\n",
       "      <td>[PRE] Obesity is a risk factor for developing ...</td>\n",
       "      <td>entailment</td>\n",
       "    </tr>\n",
       "  </tbody>\n",
       "</table>\n",
       "</div>"
      ],
      "text/plain": [
       "  dataset split_data task                                        instruction  \\\n",
       "0  bionli      train  nli  Read the given premise and hypothesis. Decide ...   \n",
       "1  bionli      train  nli  Given a premise and a hypothesis, determine th...   \n",
       "\n",
       "                                               input      output  \n",
       "0  [PRE] Obesity and age are risk factors for fel...  entailment  \n",
       "1  [PRE] Obesity is a risk factor for developing ...  entailment  "
      ]
     },
     "execution_count": 1,
     "metadata": {},
     "output_type": "execute_result"
    }
   ],
   "source": [
    "## train\n",
    "\n",
    "import pandas as pd\n",
    "import json\n",
    "\n",
    "## data1\n",
    "file_path1 = \"src/data/data1_diabetes/train_instruction_dataset.json\"\n",
    "with open(file_path1, 'r', encoding='utf-8') as f:\n",
    "    data1 = json.load(f)\n",
    "\n",
    "data1 = pd.DataFrame(data1)\n",
    "\n",
    "data1 = data1[['dataset', 'split_data', 'task', 'instruction', 'input', 'output']]\n",
    "\n",
    "data1.head(2)"
   ]
  },
  {
   "cell_type": "code",
   "execution_count": null,
   "metadata": {},
   "outputs": [
    {
     "data": {
      "text/html": [
       "<div>\n",
       "<style scoped>\n",
       "    .dataframe tbody tr th:only-of-type {\n",
       "        vertical-align: middle;\n",
       "    }\n",
       "\n",
       "    .dataframe tbody tr th {\n",
       "        vertical-align: top;\n",
       "    }\n",
       "\n",
       "    .dataframe thead th {\n",
       "        text-align: right;\n",
       "    }\n",
       "</style>\n",
       "<table border=\"1\" class=\"dataframe\">\n",
       "  <thead>\n",
       "    <tr style=\"text-align: right;\">\n",
       "      <th></th>\n",
       "      <th>dataset</th>\n",
       "      <th>split_data</th>\n",
       "      <th>task</th>\n",
       "      <th>instruction</th>\n",
       "      <th>input</th>\n",
       "      <th>output</th>\n",
       "    </tr>\n",
       "  </thead>\n",
       "  <tbody>\n",
       "    <tr>\n",
       "      <th>0</th>\n",
       "      <td>diabetes_food_hub</td>\n",
       "      <td>train</td>\n",
       "      <td>dfh_info</td>\n",
       "      <td>Provide the nutrition facts for the given recipe.</td>\n",
       "      <td>Chicken Apple Crunch Salad</td>\n",
       "      <td>Amount per serving: 230, Total Fat: 10g, Chole...</td>\n",
       "    </tr>\n",
       "    <tr>\n",
       "      <th>1</th>\n",
       "      <td>diabetes_food_hub</td>\n",
       "      <td>train</td>\n",
       "      <td>dfh_info</td>\n",
       "      <td>List the measurements for all ingredients in t...</td>\n",
       "      <td>Chicken Apple Crunch Salad</td>\n",
       "      <td>- cooked chicken: 2 cup (473 ml)\\n- Gala apple...</td>\n",
       "    </tr>\n",
       "  </tbody>\n",
       "</table>\n",
       "</div>"
      ],
      "text/plain": [
       "             dataset split_data      task  \\\n",
       "0  diabetes_food_hub      train  dfh_info   \n",
       "1  diabetes_food_hub      train  dfh_info   \n",
       "\n",
       "                                         instruction  \\\n",
       "0  Provide the nutrition facts for the given recipe.   \n",
       "1  List the measurements for all ingredients in t...   \n",
       "\n",
       "                        input  \\\n",
       "0  Chicken Apple Crunch Salad   \n",
       "1  Chicken Apple Crunch Salad   \n",
       "\n",
       "                                              output  \n",
       "0  Amount per serving: 230, Total Fat: 10g, Chole...  \n",
       "1  - cooked chicken: 2 cup (473 ml)\\n- Gala apple...  "
      ]
     },
     "execution_count": 2,
     "metadata": {},
     "output_type": "execute_result"
    }
   ],
   "source": [
    "\n",
    "## data2 - dfh info\n",
    "file_path21 = \"src/data/data2_daily_diets/dfh_instrution_dataset.json\"\n",
    "with open(file_path21, 'r', encoding='utf-8') as f:\n",
    "    data2_dfh = json.load(f)\n",
    "\n",
    "data2_dfh = pd.DataFrame(data2_dfh)\n",
    "data2_dfh['dataset'] = 'diabetes_food_hub'\n",
    "data2_dfh['split_data'] = 'train'\n",
    "data2_dfh['task'] = 'dfh_info'\n",
    "\n",
    "data2_dfh = data2_dfh[['dataset', 'split_data', 'task', 'instruction', 'input', 'output']]\n",
    "\n",
    "data2_dfh.head(2)"
   ]
  },
  {
   "cell_type": "code",
   "execution_count": null,
   "metadata": {},
   "outputs": [
    {
     "data": {
      "text/html": [
       "<div>\n",
       "<style scoped>\n",
       "    .dataframe tbody tr th:only-of-type {\n",
       "        vertical-align: middle;\n",
       "    }\n",
       "\n",
       "    .dataframe tbody tr th {\n",
       "        vertical-align: top;\n",
       "    }\n",
       "\n",
       "    .dataframe thead th {\n",
       "        text-align: right;\n",
       "    }\n",
       "</style>\n",
       "<table border=\"1\" class=\"dataframe\">\n",
       "  <thead>\n",
       "    <tr style=\"text-align: right;\">\n",
       "      <th></th>\n",
       "      <th>dataset</th>\n",
       "      <th>split_data</th>\n",
       "      <th>task</th>\n",
       "      <th>instruction</th>\n",
       "      <th>input</th>\n",
       "      <th>output</th>\n",
       "    </tr>\n",
       "  </thead>\n",
       "  <tbody>\n",
       "    <tr>\n",
       "      <th>0</th>\n",
       "      <td>diabetes_food_hub</td>\n",
       "      <td>train</td>\n",
       "      <td>daily_diets</td>\n",
       "      <td>Recommend a daily diet based on the given nutr...</td>\n",
       "      <td>Ensure the daily carbohydrate intake does not ...</td>\n",
       "      <td>{'Breakfast': 'Turkey Meatball “Wonton” Soup w...</td>\n",
       "    </tr>\n",
       "    <tr>\n",
       "      <th>1</th>\n",
       "      <td>diabetes_food_hub</td>\n",
       "      <td>train</td>\n",
       "      <td>daily_diets</td>\n",
       "      <td>Recommend a daily diet that includes a specifi...</td>\n",
       "      <td>Create a diet that includes baby bok choy(root...</td>\n",
       "      <td>{'Breakfast': 'Turkey Meatball “Wonton” Soup w...</td>\n",
       "    </tr>\n",
       "  </tbody>\n",
       "</table>\n",
       "</div>"
      ],
      "text/plain": [
       "             dataset split_data         task  \\\n",
       "0  diabetes_food_hub      train  daily_diets   \n",
       "1  diabetes_food_hub      train  daily_diets   \n",
       "\n",
       "                                         instruction  \\\n",
       "0  Recommend a daily diet based on the given nutr...   \n",
       "1  Recommend a daily diet that includes a specifi...   \n",
       "\n",
       "                                               input  \\\n",
       "0  Ensure the daily carbohydrate intake does not ...   \n",
       "1  Create a diet that includes baby bok choy(root...   \n",
       "\n",
       "                                              output  \n",
       "0  {'Breakfast': 'Turkey Meatball “Wonton” Soup w...  \n",
       "1  {'Breakfast': 'Turkey Meatball “Wonton” Soup w...  "
      ]
     },
     "execution_count": 3,
     "metadata": {},
     "output_type": "execute_result"
    }
   ],
   "source": [
    "## data2 - daily_diets\n",
    "file_path22 = \"src/data/data2_daily_diets/daily_diets_drop_duplicated_and_sampled_train_instruction_dataset.json\"\n",
    "with open(file_path22, 'r', encoding='utf-8') as f:\n",
    "    data2_daily_diets = json.load(f)\n",
    "\n",
    "data2_daily_diets = pd.DataFrame(data2_daily_diets)\n",
    "data2_daily_diets['dataset'] = 'diabetes_food_hub'\n",
    "data2_daily_diets['split_data'] = 'train'\n",
    "data2_daily_diets['task'] = 'daily_diets'\n",
    "\n",
    "data2_daily_diets = data2_daily_diets[['dataset', 'split_data', 'task', 'instruction', 'input', 'output']]\n",
    "\n",
    "data2_daily_diets.head(2)"
   ]
  },
  {
   "cell_type": "code",
   "execution_count": null,
   "metadata": {},
   "outputs": [
    {
     "data": {
      "text/html": [
       "<div>\n",
       "<style scoped>\n",
       "    .dataframe tbody tr th:only-of-type {\n",
       "        vertical-align: middle;\n",
       "    }\n",
       "\n",
       "    .dataframe tbody tr th {\n",
       "        vertical-align: top;\n",
       "    }\n",
       "\n",
       "    .dataframe thead th {\n",
       "        text-align: right;\n",
       "    }\n",
       "</style>\n",
       "<table border=\"1\" class=\"dataframe\">\n",
       "  <thead>\n",
       "    <tr style=\"text-align: right;\">\n",
       "      <th></th>\n",
       "      <th>dataset</th>\n",
       "      <th>split_data</th>\n",
       "      <th>task</th>\n",
       "      <th>instruction</th>\n",
       "      <th>input</th>\n",
       "      <th>output</th>\n",
       "    </tr>\n",
       "  </thead>\n",
       "  <tbody>\n",
       "    <tr>\n",
       "      <th>0</th>\n",
       "      <td>diabetes_food_hub</td>\n",
       "      <td>train</td>\n",
       "      <td>alternative_diet</td>\n",
       "      <td>Based on the previous meal, suggest the next m...</td>\n",
       "      <td>Cheese, Parmesan, dry grated</td>\n",
       "      <td>Grilled Lime Chicken Fajitas is recommended. T...</td>\n",
       "    </tr>\n",
       "    <tr>\n",
       "      <th>1</th>\n",
       "      <td>diabetes_food_hub</td>\n",
       "      <td>train</td>\n",
       "      <td>alternative_diet</td>\n",
       "      <td>Based on the previous meal, suggest the next m...</td>\n",
       "      <td>Tomatoes, raw</td>\n",
       "      <td>Bountiful Harvest Vegetable Salad is recommend...</td>\n",
       "    </tr>\n",
       "  </tbody>\n",
       "</table>\n",
       "</div>"
      ],
      "text/plain": [
       "             dataset split_data              task  \\\n",
       "0  diabetes_food_hub      train  alternative_diet   \n",
       "1  diabetes_food_hub      train  alternative_diet   \n",
       "\n",
       "                                         instruction  \\\n",
       "0  Based on the previous meal, suggest the next m...   \n",
       "1  Based on the previous meal, suggest the next m...   \n",
       "\n",
       "                          input  \\\n",
       "0  Cheese, Parmesan, dry grated   \n",
       "1                 Tomatoes, raw   \n",
       "\n",
       "                                              output  \n",
       "0  Grilled Lime Chicken Fajitas is recommended. T...  \n",
       "1  Bountiful Harvest Vegetable Salad is recommend...  "
      ]
     },
     "execution_count": 4,
     "metadata": {},
     "output_type": "execute_result"
    }
   ],
   "source": [
    "## data3 - alternative_diet\n",
    "file_path3 = \"src/data/data3_multimodal/snapme_train_instruction_dataset.json\"\n",
    "with open(file_path3, 'r', encoding='utf-8') as f:\n",
    "    data3_alternative_diet = json.load(f)\n",
    "\n",
    "data3_alternative_diet = pd.DataFrame(data3_alternative_diet)\n",
    "data3_alternative_diet['dataset'] = 'diabetes_food_hub'\n",
    "data3_alternative_diet['split_data'] = 'train'\n",
    "data3_alternative_diet['task'] = 'alternative_diet'\n",
    "\n",
    "data3_alternative_diet = data3_alternative_diet[['dataset', 'split_data', 'task', 'instruction', 'input', 'output']]\n",
    "\n",
    "data3_alternative_diet.head(2)"
   ]
  },
  {
   "cell_type": "code",
   "execution_count": 5,
   "metadata": {},
   "outputs": [],
   "source": [
    "train = pd.concat([data1, data2_dfh, data2_daily_diets, data3_alternative_diet], axis=0)"
   ]
  },
  {
   "cell_type": "code",
   "execution_count": null,
   "metadata": {},
   "outputs": [],
   "source": []
  },
  {
   "cell_type": "code",
   "execution_count": null,
   "metadata": {},
   "outputs": [
    {
     "data": {
      "text/html": [
       "<div>\n",
       "<style scoped>\n",
       "    .dataframe tbody tr th:only-of-type {\n",
       "        vertical-align: middle;\n",
       "    }\n",
       "\n",
       "    .dataframe tbody tr th {\n",
       "        vertical-align: top;\n",
       "    }\n",
       "\n",
       "    .dataframe thead th {\n",
       "        text-align: right;\n",
       "    }\n",
       "</style>\n",
       "<table border=\"1\" class=\"dataframe\">\n",
       "  <thead>\n",
       "    <tr style=\"text-align: right;\">\n",
       "      <th></th>\n",
       "      <th>dataset</th>\n",
       "      <th>split_data</th>\n",
       "      <th>task</th>\n",
       "      <th>instruction</th>\n",
       "      <th>input</th>\n",
       "      <th>output</th>\n",
       "    </tr>\n",
       "  </thead>\n",
       "  <tbody>\n",
       "    <tr>\n",
       "      <th>0</th>\n",
       "      <td>bionli</td>\n",
       "      <td>test</td>\n",
       "      <td>nli</td>\n",
       "      <td>Evaluate if the hypothesis can be inferred fro...</td>\n",
       "      <td>[PRE] To investigate the mechanism of thyroid ...</td>\n",
       "      <td>contradiction</td>\n",
       "    </tr>\n",
       "    <tr>\n",
       "      <th>1</th>\n",
       "      <td>bionli</td>\n",
       "      <td>test</td>\n",
       "      <td>nli</td>\n",
       "      <td>Classify the relationship between the premise ...</td>\n",
       "      <td>[PRE] Cold exposure reverses the diabetogenic ...</td>\n",
       "      <td>contradiction</td>\n",
       "    </tr>\n",
       "  </tbody>\n",
       "</table>\n",
       "</div>"
      ],
      "text/plain": [
       "  dataset split_data task                                        instruction  \\\n",
       "0  bionli       test  nli  Evaluate if the hypothesis can be inferred fro...   \n",
       "1  bionli       test  nli  Classify the relationship between the premise ...   \n",
       "\n",
       "                                               input         output  \n",
       "0  [PRE] To investigate the mechanism of thyroid ...  contradiction  \n",
       "1  [PRE] Cold exposure reverses the diabetogenic ...  contradiction  "
      ]
     },
     "execution_count": 6,
     "metadata": {},
     "output_type": "execute_result"
    }
   ],
   "source": [
    "## test\n",
    "\n",
    "import pandas as pd\n",
    "import json\n",
    "\n",
    "## data1\n",
    "file_path1 = \"src/data/data1_diabetes/test_instruction_dataset.json\"\n",
    "with open(file_path1, 'r', encoding='utf-8') as f:\n",
    "    data1 = json.load(f)\n",
    "\n",
    "data1 = pd.DataFrame(data1)\n",
    "\n",
    "data1 = data1[['dataset', 'split_data', 'task', 'instruction', 'input', 'output']]\n",
    "\n",
    "data1.head(2)"
   ]
  },
  {
   "cell_type": "code",
   "execution_count": null,
   "metadata": {},
   "outputs": [
    {
     "data": {
      "text/html": [
       "<div>\n",
       "<style scoped>\n",
       "    .dataframe tbody tr th:only-of-type {\n",
       "        vertical-align: middle;\n",
       "    }\n",
       "\n",
       "    .dataframe tbody tr th {\n",
       "        vertical-align: top;\n",
       "    }\n",
       "\n",
       "    .dataframe thead th {\n",
       "        text-align: right;\n",
       "    }\n",
       "</style>\n",
       "<table border=\"1\" class=\"dataframe\">\n",
       "  <thead>\n",
       "    <tr style=\"text-align: right;\">\n",
       "      <th></th>\n",
       "      <th>dataset</th>\n",
       "      <th>split_data</th>\n",
       "      <th>task</th>\n",
       "      <th>instruction</th>\n",
       "      <th>input</th>\n",
       "      <th>output</th>\n",
       "    </tr>\n",
       "  </thead>\n",
       "  <tbody>\n",
       "    <tr>\n",
       "      <th>0</th>\n",
       "      <td>diabetes_food_hub</td>\n",
       "      <td>test</td>\n",
       "      <td>daily_diets</td>\n",
       "      <td>Recommend a daily diet based on the given nutr...</td>\n",
       "      <td>Ensure the daily carbohydrate intake does not ...</td>\n",
       "      <td>{'Breakfast': 'Chicken and Cucumber Lettuce Wr...</td>\n",
       "    </tr>\n",
       "    <tr>\n",
       "      <th>1</th>\n",
       "      <td>diabetes_food_hub</td>\n",
       "      <td>test</td>\n",
       "      <td>daily_diets</td>\n",
       "      <td>Recommend a daily diet that includes a specifi...</td>\n",
       "      <td>Create a diet that includes Parmesan cheese(gr...</td>\n",
       "      <td>{'Breakfast': 'Chicken and Cucumber Lettuce Wr...</td>\n",
       "    </tr>\n",
       "  </tbody>\n",
       "</table>\n",
       "</div>"
      ],
      "text/plain": [
       "             dataset split_data         task  \\\n",
       "0  diabetes_food_hub       test  daily_diets   \n",
       "1  diabetes_food_hub       test  daily_diets   \n",
       "\n",
       "                                         instruction  \\\n",
       "0  Recommend a daily diet based on the given nutr...   \n",
       "1  Recommend a daily diet that includes a specifi...   \n",
       "\n",
       "                                               input  \\\n",
       "0  Ensure the daily carbohydrate intake does not ...   \n",
       "1  Create a diet that includes Parmesan cheese(gr...   \n",
       "\n",
       "                                              output  \n",
       "0  {'Breakfast': 'Chicken and Cucumber Lettuce Wr...  \n",
       "1  {'Breakfast': 'Chicken and Cucumber Lettuce Wr...  "
      ]
     },
     "execution_count": 7,
     "metadata": {},
     "output_type": "execute_result"
    }
   ],
   "source": [
    "## data2 - daily_diets\n",
    "file_path22 = \"src/data/data2_daily_diets/daily_diets_drop_duplicated_and_sampled_test_instruction_dataset.json\"\n",
    "with open(file_path22, 'r', encoding='utf-8') as f:\n",
    "    data2_daily_diets = json.load(f)\n",
    "\n",
    "data2_daily_diets = pd.DataFrame(data2_daily_diets)\n",
    "data2_daily_diets['dataset'] = 'diabetes_food_hub'\n",
    "data2_daily_diets['split_data'] = 'test'\n",
    "data2_daily_diets['task'] = 'daily_diets'\n",
    "\n",
    "data2_daily_diets = data2_daily_diets[['dataset', 'split_data', 'task', 'instruction', 'input', 'output']]\n",
    "\n",
    "data2_daily_diets.head(2)"
   ]
  },
  {
   "cell_type": "code",
   "execution_count": null,
   "metadata": {},
   "outputs": [
    {
     "data": {
      "text/html": [
       "<div>\n",
       "<style scoped>\n",
       "    .dataframe tbody tr th:only-of-type {\n",
       "        vertical-align: middle;\n",
       "    }\n",
       "\n",
       "    .dataframe tbody tr th {\n",
       "        vertical-align: top;\n",
       "    }\n",
       "\n",
       "    .dataframe thead th {\n",
       "        text-align: right;\n",
       "    }\n",
       "</style>\n",
       "<table border=\"1\" class=\"dataframe\">\n",
       "  <thead>\n",
       "    <tr style=\"text-align: right;\">\n",
       "      <th></th>\n",
       "      <th>dataset</th>\n",
       "      <th>split_data</th>\n",
       "      <th>task</th>\n",
       "      <th>instruction</th>\n",
       "      <th>input</th>\n",
       "      <th>output</th>\n",
       "    </tr>\n",
       "  </thead>\n",
       "  <tbody>\n",
       "    <tr>\n",
       "      <th>0</th>\n",
       "      <td>diabetes_food_hub</td>\n",
       "      <td>test</td>\n",
       "      <td>alternative_diet</td>\n",
       "      <td>Based on the previous meal, suggest the next m...</td>\n",
       "      <td>Flax seeds</td>\n",
       "      <td>Orange, Asparagus, and Avocado Salad is recomm...</td>\n",
       "    </tr>\n",
       "    <tr>\n",
       "      <th>1</th>\n",
       "      <td>diabetes_food_hub</td>\n",
       "      <td>test</td>\n",
       "      <td>alternative_diet</td>\n",
       "      <td>Based on the previous meal, suggest the next m...</td>\n",
       "      <td>Lettuce, arugula, raw</td>\n",
       "      <td>Budget-Friendly Vegetable Stew with Whole Whea...</td>\n",
       "    </tr>\n",
       "  </tbody>\n",
       "</table>\n",
       "</div>"
      ],
      "text/plain": [
       "             dataset split_data              task  \\\n",
       "0  diabetes_food_hub       test  alternative_diet   \n",
       "1  diabetes_food_hub       test  alternative_diet   \n",
       "\n",
       "                                         instruction                  input  \\\n",
       "0  Based on the previous meal, suggest the next m...             Flax seeds   \n",
       "1  Based on the previous meal, suggest the next m...  Lettuce, arugula, raw   \n",
       "\n",
       "                                              output  \n",
       "0  Orange, Asparagus, and Avocado Salad is recomm...  \n",
       "1  Budget-Friendly Vegetable Stew with Whole Whea...  "
      ]
     },
     "execution_count": 8,
     "metadata": {},
     "output_type": "execute_result"
    }
   ],
   "source": [
    "## data3 - alternative_diet\n",
    "file_path3 = \"src/data/data3_multimodal/snapme_test_instruction_dataset.json\"\n",
    "with open(file_path3, 'r', encoding='utf-8') as f:\n",
    "    data3_alternative_diet = json.load(f)\n",
    "\n",
    "data3_alternative_diet = pd.DataFrame(data3_alternative_diet)\n",
    "data3_alternative_diet['dataset'] = 'diabetes_food_hub'\n",
    "data3_alternative_diet['split_data'] = 'test'\n",
    "data3_alternative_diet['task'] = 'alternative_diet'\n",
    "\n",
    "data3_alternative_diet = data3_alternative_diet[['dataset', 'split_data', 'task', 'instruction', 'input', 'output']]\n",
    "\n",
    "data3_alternative_diet.head(2)"
   ]
  },
  {
   "cell_type": "code",
   "execution_count": 9,
   "metadata": {},
   "outputs": [],
   "source": [
    "\n",
    "test = pd.concat([data1, data2_daily_diets, data3_alternative_diet], axis=0)"
   ]
  },
  {
   "cell_type": "code",
   "execution_count": 12,
   "metadata": {},
   "outputs": [
    {
     "data": {
      "text/html": [
       "<div>\n",
       "<style scoped>\n",
       "    .dataframe tbody tr th:only-of-type {\n",
       "        vertical-align: middle;\n",
       "    }\n",
       "\n",
       "    .dataframe tbody tr th {\n",
       "        vertical-align: top;\n",
       "    }\n",
       "\n",
       "    .dataframe thead th {\n",
       "        text-align: right;\n",
       "    }\n",
       "</style>\n",
       "<table border=\"1\" class=\"dataframe\">\n",
       "  <thead>\n",
       "    <tr style=\"text-align: right;\">\n",
       "      <th></th>\n",
       "      <th>dataset</th>\n",
       "      <th>split_data</th>\n",
       "      <th>task</th>\n",
       "      <th>instruction</th>\n",
       "      <th>input</th>\n",
       "      <th>output</th>\n",
       "    </tr>\n",
       "  </thead>\n",
       "  <tbody>\n",
       "    <tr>\n",
       "      <th>0</th>\n",
       "      <td>bionli</td>\n",
       "      <td>train</td>\n",
       "      <td>nli</td>\n",
       "      <td>Read the given premise and hypothesis. Decide ...</td>\n",
       "      <td>[PRE] Obesity and age are risk factors for fel...</td>\n",
       "      <td>entailment</td>\n",
       "    </tr>\n",
       "    <tr>\n",
       "      <th>1</th>\n",
       "      <td>bionli</td>\n",
       "      <td>train</td>\n",
       "      <td>nli</td>\n",
       "      <td>Given a premise and a hypothesis, determine th...</td>\n",
       "      <td>[PRE] Obesity is a risk factor for developing ...</td>\n",
       "      <td>entailment</td>\n",
       "    </tr>\n",
       "    <tr>\n",
       "      <th>2</th>\n",
       "      <td>bionli</td>\n",
       "      <td>train</td>\n",
       "      <td>nli</td>\n",
       "      <td>Analyze the relationship between the given pre...</td>\n",
       "      <td>[PRE] LY2881835 is a selective, potent, and ef...</td>\n",
       "      <td>entailment</td>\n",
       "    </tr>\n",
       "    <tr>\n",
       "      <th>3</th>\n",
       "      <td>bionli</td>\n",
       "      <td>train</td>\n",
       "      <td>nli</td>\n",
       "      <td>Does the premise logically support the hypothe...</td>\n",
       "      <td>[PRE] To elucidate the acute metabolic actions...</td>\n",
       "      <td>contradiction</td>\n",
       "    </tr>\n",
       "    <tr>\n",
       "      <th>4</th>\n",
       "      <td>bionli</td>\n",
       "      <td>train</td>\n",
       "      <td>nli</td>\n",
       "      <td>Classify the relationship between the premise ...</td>\n",
       "      <td>[PRE] Hyperglycemia was reported to enhance an...</td>\n",
       "      <td>entailment</td>\n",
       "    </tr>\n",
       "  </tbody>\n",
       "</table>\n",
       "</div>"
      ],
      "text/plain": [
       "  dataset split_data task                                        instruction  \\\n",
       "0  bionli      train  nli  Read the given premise and hypothesis. Decide ...   \n",
       "1  bionli      train  nli  Given a premise and a hypothesis, determine th...   \n",
       "2  bionli      train  nli  Analyze the relationship between the given pre...   \n",
       "3  bionli      train  nli  Does the premise logically support the hypothe...   \n",
       "4  bionli      train  nli  Classify the relationship between the premise ...   \n",
       "\n",
       "                                               input         output  \n",
       "0  [PRE] Obesity and age are risk factors for fel...     entailment  \n",
       "1  [PRE] Obesity is a risk factor for developing ...     entailment  \n",
       "2  [PRE] LY2881835 is a selective, potent, and ef...     entailment  \n",
       "3  [PRE] To elucidate the acute metabolic actions...  contradiction  \n",
       "4  [PRE] Hyperglycemia was reported to enhance an...     entailment  "
      ]
     },
     "execution_count": 12,
     "metadata": {},
     "output_type": "execute_result"
    }
   ],
   "source": [
    "final = pd.concat([train, test], axis=0)\n",
    "\n",
    "final.head()"
   ]
  },
  {
   "cell_type": "code",
   "execution_count": null,
   "metadata": {},
   "outputs": [],
   "source": [
    "final.reset_index(drop=True, inplace=True)\n",
    "\n",
    "final.to_json(\"src/data/instruction_dataset.json\", orient='columns', indent=4)"
   ]
  },
  {
   "cell_type": "code",
   "execution_count": 13,
   "metadata": {},
   "outputs": [
    {
     "name": "stdout",
     "output_type": "stream",
     "text": [
      "29785\n",
      "6245\n",
      "36030\n"
     ]
    }
   ],
   "source": [
    "print(len(train))\n",
    "print(len(test))\n",
    "print(len(final))"
   ]
  },
  {
   "cell_type": "code",
   "execution_count": 17,
   "metadata": {},
   "outputs": [
    {
     "data": {
      "text/html": [
       "<div>\n",
       "<style scoped>\n",
       "    .dataframe tbody tr th:only-of-type {\n",
       "        vertical-align: middle;\n",
       "    }\n",
       "\n",
       "    .dataframe tbody tr th {\n",
       "        vertical-align: top;\n",
       "    }\n",
       "\n",
       "    .dataframe thead th {\n",
       "        text-align: right;\n",
       "    }\n",
       "</style>\n",
       "<table border=\"1\" class=\"dataframe\">\n",
       "  <thead>\n",
       "    <tr style=\"text-align: right;\">\n",
       "      <th></th>\n",
       "      <th>dataset</th>\n",
       "      <th>split_data</th>\n",
       "      <th>task</th>\n",
       "      <th>instruction</th>\n",
       "      <th>input</th>\n",
       "      <th>output</th>\n",
       "    </tr>\n",
       "  </thead>\n",
       "  <tbody>\n",
       "    <tr>\n",
       "      <th>0</th>\n",
       "      <td>bionli</td>\n",
       "      <td>train</td>\n",
       "      <td>nli</td>\n",
       "      <td>Read the given premise and hypothesis. Decide ...</td>\n",
       "      <td>[PRE] Obesity and age are risk factors for fel...</td>\n",
       "      <td>entailment</td>\n",
       "    </tr>\n",
       "    <tr>\n",
       "      <th>1</th>\n",
       "      <td>bionli</td>\n",
       "      <td>train</td>\n",
       "      <td>nli</td>\n",
       "      <td>Given a premise and a hypothesis, determine th...</td>\n",
       "      <td>[PRE] Obesity is a risk factor for developing ...</td>\n",
       "      <td>entailment</td>\n",
       "    </tr>\n",
       "  </tbody>\n",
       "</table>\n",
       "</div>"
      ],
      "text/plain": [
       "  dataset split_data task                                        instruction  \\\n",
       "0  bionli      train  nli  Read the given premise and hypothesis. Decide ...   \n",
       "1  bionli      train  nli  Given a premise and a hypothesis, determine th...   \n",
       "\n",
       "                                               input      output  \n",
       "0  [PRE] Obesity and age are risk factors for fel...  entailment  \n",
       "1  [PRE] Obesity is a risk factor for developing ...  entailment  "
      ]
     },
     "execution_count": 17,
     "metadata": {},
     "output_type": "execute_result"
    }
   ],
   "source": [
    "final.head(2)"
   ]
  },
  {
   "cell_type": "code",
   "execution_count": null,
   "metadata": {},
   "outputs": [
    {
     "data": {
      "application/vnd.jupyter.widget-view+json": {
       "model_id": "f3954f2d9bd046dca75b4c6d3f2bd5de",
       "version_major": 2,
       "version_minor": 0
      },
      "text/plain": [
       "Uploading the dataset shards:   0%|          | 0/1 [00:00<?, ?it/s]"
      ]
     },
     "metadata": {},
     "output_type": "display_data"
    },
    {
     "data": {
      "application/vnd.jupyter.widget-view+json": {
       "model_id": "e109500a447e4edeba1af58865be9d01",
       "version_major": 2,
       "version_minor": 0
      },
      "text/plain": [
       "Creating parquet from Arrow format:   0%|          | 0/30 [00:00<?, ?ba/s]"
      ]
     },
     "metadata": {},
     "output_type": "display_data"
    },
    {
     "data": {
      "application/vnd.jupyter.widget-view+json": {
       "model_id": "57bdcd7c44a348a9a0c2c31ddc42f1c8",
       "version_major": 2,
       "version_minor": 0
      },
      "text/plain": [
       "Uploading the dataset shards:   0%|          | 0/1 [00:00<?, ?it/s]"
      ]
     },
     "metadata": {},
     "output_type": "display_data"
    },
    {
     "data": {
      "application/vnd.jupyter.widget-view+json": {
       "model_id": "58cb4710bf4e401891ab30bfd50b4751",
       "version_major": 2,
       "version_minor": 0
      },
      "text/plain": [
       "Creating parquet from Arrow format:   0%|          | 0/7 [00:00<?, ?ba/s]"
      ]
     },
     "metadata": {},
     "output_type": "display_data"
    },
    {
     "data": {
      "text/plain": [
       "CommitInfo(commit_url='https://huggingface.co/datasets/passionMan/diabetes_v3/commit/f5c03d53de49567216962fb9a76b2cd893972d9f', commit_message='Upload dataset', commit_description='', oid='f5c03d53de49567216962fb9a76b2cd893972d9f', pr_url=None, repo_url=RepoUrl('https://huggingface.co/datasets/passionMan/diabetes_v3', endpoint='https://huggingface.co', repo_type='dataset', repo_id='passionMan/diabetes_v3'), pr_revision=None, pr_num=None)"
      ]
     },
     "execution_count": 23,
     "metadata": {},
     "output_type": "execute_result"
    }
   ],
   "source": [
    "from datasets import Dataset\n",
    "from dotenv import load_dotenv\n",
    "import os\n",
    "from datasets import Dataset, DatasetDict\n",
    "\n",
    "final['input'] = final['input'].apply(lambda x: json.dumps(x) if isinstance(x, dict) else x)\n",
    "final['output'] = final['output'].apply(lambda x: json.dumps(x) if isinstance(x, dict) else x)\n",
    "\n",
    "load_dotenv()\n",
    "\n",
    "hf_token = os.getenv(\"HF_TOKEN\")\n",
    "dataset = Dataset.from_pandas(final)\n",
    "\n",
    "train_df = final[final['split_data'] == 'train']\n",
    "test_df = final[final['split_data'] == 'test']\n",
    "\n",
    "train_dataset = Dataset.from_pandas(train_df)\n",
    "test_dataset = Dataset.from_pandas(test_df)\n",
    "\n",
    "dataset_dict = DatasetDict({\n",
    "    \"train\": train_dataset,\n",
    "    \"test\": test_dataset\n",
    "})\n",
    "\n",
    "dataset_dict.push_to_hub(\"passionMan/diabetes_v3\", token=hf_token)\n"
   ]
  },
  {
   "cell_type": "code",
   "execution_count": null,
   "metadata": {},
   "outputs": [],
   "source": []
  }
 ],
 "metadata": {
  "kernelspec": {
   "display_name": "meal_kernel",
   "language": "python",
   "name": "meal"
  },
  "language_info": {
   "codemirror_mode": {
    "name": "ipython",
    "version": 3
   },
   "file_extension": ".py",
   "mimetype": "text/x-python",
   "name": "python",
   "nbconvert_exporter": "python",
   "pygments_lexer": "ipython3",
   "version": "3.12.0"
  }
 },
 "nbformat": 4,
 "nbformat_minor": 2
}
