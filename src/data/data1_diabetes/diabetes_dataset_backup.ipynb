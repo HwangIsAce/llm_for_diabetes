{
 "cells": [
  {
   "cell_type": "markdown",
   "metadata": {},
   "source": [
    "1) raw dataset\n",
    "2) keywords based extraction\n",
    "3) train/test split\n",
    "4) sample a specific number of samples (high cardinality)\n",
    "5) paste the instruction"
   ]
  },
  {
   "cell_type": "code",
   "execution_count": 1,
   "metadata": {},
   "outputs": [
    {
     "data": {
      "application/vnd.jupyter.widget-view+json": {
       "model_id": "3b227da10d9b4583ac8fdd018b0d018f",
       "version_major": 2,
       "version_minor": 0
      },
      "text/plain": [
       "VBox(children=(HTML(value='<center> <img\\nsrc=https://huggingface.co/front/assets/huggingface_logo-noborder.sv…"
      ]
     },
     "metadata": {},
     "output_type": "display_data"
    },
    {
     "name": "stderr",
     "output_type": "stream",
     "text": [
      "Note: Environment variable`HF_TOKEN` is set and is the current active token independently from the token you've just configured.\n"
     ]
    }
   ],
   "source": [
    "from huggingface_hub import logout, notebook_login\n",
    "# logout()\n",
    "notebook_login()"
   ]
  },
  {
   "cell_type": "code",
   "execution_count": 2,
   "metadata": {},
   "outputs": [
    {
     "data": {
      "text/plain": [
       "DatasetDict({\n",
       "    train: Dataset({\n",
       "        features: ['entities', 'text', 'split'],\n",
       "        num_rows: 19440\n",
       "    })\n",
       "})"
      ]
     },
     "execution_count": 2,
     "metadata": {},
     "output_type": "execute_result"
    }
   ],
   "source": [
    "from datasets import load_dataset\n",
    "\n",
    "chemdner =load_dataset(\"kjappelbaum/chemnlp-chemdner\")\n",
    "chemdner"
   ]
  },
  {
   "cell_type": "code",
   "execution_count": 7,
   "metadata": {},
   "outputs": [
    {
     "name": "stdout",
     "output_type": "stream",
     "text": [
      "['malondialdehite', 'dihydrochloride', 'nitrate', 'STZ', 'nitrite', 'N-[3(aminomethyl) benzyl]-acetamidine', 'acetylcholine', 'nitric oxide', 'noradrenaline', 'streptozotocin']\n",
      "['glucose', 'cholesterol', 'triglycerides']\n",
      "['glucose', 'Myo-inositol', 'inositol', 'myo-inositol']\n",
      "['glucose']\n",
      "['aspirin', 'nitrates']\n",
      "['glucose', 'biotin', 'acetyl-CoA', 'Biotin']\n",
      "['glucose']\n",
      "[]\n",
      "[]\n",
      "[]\n",
      "[]\n",
      "[]\n",
      "['triglycerides']\n",
      "['vildagliptin', 'glucose']\n",
      "['vildagliptin', 'glucose']\n",
      "[]\n",
      "['glucose', 'cholesterol', 'triglyceride']\n",
      "[]\n",
      "[]\n",
      "[]\n",
      "['statins']\n",
      "['BTZs', 'BTZ', 'ATP', 'benzothiazepinones']\n",
      "['GlcNAcstatin', 'imidazole', 'Asp', 'aspartate', '2-acetamino', 'nitrogen']\n",
      "['hydroxybutyrate', 'vitamin C', 'glucose', 'resazurin', 'folic acid']\n",
      "[]\n",
      "[]\n",
      "[]\n",
      "['streptozotocin', 'methacholine', 'Superoxide']\n",
      "['glucose']\n",
      "[]\n",
      "['zinc']\n",
      "['nucleic acid', 'guanine']\n",
      "['iron']\n",
      "[]\n",
      "[]\n",
      "['N(G)-nitro-L-arginine', 'NO', '10-DEBC', 'LY294002', 'ser', 'thiazolidinediones', 'pioglitazone', 'glitazones', 'Thiazolidinediones', 'thiazolidinedione', 'GW9662', 'LNNA', 'troglitazone', 'rosiglitazone', 'phenylephrine', 'KCl']\n",
      "['glucose']\n",
      "[]\n",
      "[]\n",
      "[]\n",
      "[]\n",
      "['phenylethyl benzamide']\n",
      "['retinoid', 'Retinaldehyde', 'NAD', 'retinol', 'retinaldehyde', 'aldehyde', 'UVI2008', 'retinoids', '4-methyl', 'carboxyl', 'retinoic acid']\n",
      "['oleic and stearic acid', 'fatty acids', 'palmitic acid']\n",
      "['glucose', 'carbohydrate', 'CARB']\n",
      "[]\n",
      "['paclitaxel', 'Taxol', 'SB202190', 'metformin', 'platinum', 'Metformin']\n",
      "['nitrite', 'nitrate', 'N(ε)-carboxymethyllisine', 'nitric oxide']\n",
      "['glucose']\n",
      "['glucose']\n",
      "[]\n",
      "[]\n",
      "['statins', 'simvastatin', 'statin', 'Statin', 'atorvastatin']\n",
      "['glucose', 'bile acid']\n",
      "['glucose', 'bile acid', 'metformin', 'Colesevelam']\n",
      "['chromium picolinate', 'Ca', 'Cr(III)', '[Cr(pic)(3)]', 'Cu', 'Fe', 'Cr3', 'Zn', 'Cr3 ([Cr(3)O(propionate)(6)(H(2)O)(3)](+))', 'Cr', 'Mg', 'CrCl(3)']\n",
      "['trigonelline', 'NADPH', 'TRG', 'glutathione', '8-hydroxydeoxyguanosine', 'thiobarbituric acid', 'carbohydrate', 'oxygen']\n",
      "[]\n",
      "['glucose', 'cholesterol', 'triglycerides']\n",
      "['streptozotocin', 'superoxide', 'glutathione', 'malondialdehyde']\n",
      "['lucidone', 'glucose', 'triglyceride', 'Lucidone', 'cholesterol']\n",
      "['glucose', 'metformin']\n",
      "[]\n",
      "['glucose']\n",
      "['glucose', 'oxygen']\n",
      "['NO', 'Fisetin', 'STZ', 'DPPH', 'glucose', 'bioflavonoid', 'nitric oxide', 'ABTS', 'streptozotocin', 'fisetin']\n",
      "[]\n",
      "[]\n",
      "['NO', 'chrysin', 'ACh', 'STZ', 'Chrysin', 'flavonoids', 'glucose', 'luteolin', 'acetylcholine', 'streptozotocin', 'cholesterol', 'TGs', 'phenylephrine', 'triglycerides', 'KCl']\n",
      "[]\n",
      "['telmisartan', 'olmesartan']\n",
      "['glucose', 'telmisartan', 'olmesartan']\n",
      "[]\n",
      "[]\n",
      "['Glucose']\n",
      "['glucose']\n",
      "['ascorbic acid', 'NAC', 'AuF', 'AD4', 'disulfide', 'auranofin', 'NAc-Cys-Pro-Cys amide']\n",
      "[]\n",
      "['Qsymia', 'Belviq', 'orlistat', 'sibutramine']\n",
      "['streptozotocin', 'glucose', 'curcumin', 'Curcumin']\n",
      "['polyphenols', 'Lisinopril', 'Captropril', 'hibiscus acid', 'Anthocyanins', 'cholesterol', 'anthocyanins', 'triglycerides']\n",
      "['glucose', 'sugar']\n",
      "['glucose']\n",
      "['thiazolidinediones', 'pioglitazone']\n",
      "[]\n",
      "[]\n",
      "['resolvins', 'eicosapentaenoic acid', 'EPA', 'polyunsaturated fatty acids', '17-HDHA', 'resolvin D1', 'glucose', 'DHA', 'docosahexaenoic acid', 'protectin D1', '17-hydroxydocosahexaenoic acid']\n",
      "['palinurin', 'ATP', 'sesquiterpene']\n",
      "['glucose']\n",
      "['11β-hydroxysteroid', 'glucose', 'cortisol', 'cortisone']\n",
      "['Caffeine', 'caffeine']\n",
      "['NAD(+)']\n",
      "['metformin']\n",
      "['glucose', 'metformin']\n",
      "['celecoxib', 'Fatty acids']\n",
      "[]\n",
      "['glucose', '25-hydroxycholecalciferol']\n",
      "['glucose', '25-hydroxycholecalciferol', '25-OHD', 'vitamin D', 'Vitamin D', 'cholesterol', 'triglycerides']\n",
      "[]\n",
      "['glucose', 'methylglyoxal', 'carbonyl', 'procyanidins', 'catechin']\n",
      "['Biguanides', 'guanidine', 'biguanide', 'metformin', 'biguanides']\n",
      "['EtOAc', 'berberine']\n",
      "['sulfonylurea', 'metformin', 'sulfonylureas']\n",
      "['metformin']\n",
      "['glucose', 'metformin']\n",
      "['glucose', 'triglycerides']\n",
      "['Ca(2+)', 'tacrolimus', 'FK506', 'Ca2+', 'rapamycin', 'sirolimus']\n",
      "['α,β-unsaturated-γ-lactone', 'furan', 'bicyclic furanosesquiterpene', 'sesquiterpenes', 'dehydroeuryspongin A', 'euryspongins A-C']\n",
      "['tunicamycin', 'oxygen']\n",
      "['scoparone', 'arcapillin', 'isorhamnetin 3-glucoiside', 'isorhamnetin 3-robinobioside', 'daphnetin', 'scopoletin', '3,5-dicaffeoylquinic acid', 'isoscopolin', 'phenolic', 'acarbose', 'linarin', 'hyperoside', '3,4-dicaffeoylquinic acid', 'flavonoids', '6-methoxy artemicapin C', 'cirsilineol', 'quercetin', '3-caffeoylquinic acid', '4,5-dicaffeoylquinic acid', '3,5-dicaffeoylquinic acid methyl ester', '1,5-dicaffeoylquinic acid', 'isorhamnetin', 'esculin', 'chromone', 'umbelliferone', '7-methoxy coumarin', 'scopolin', 'tyrosine', 'esculetin', 'methanol', 'dicaffeoylquinic acids', 'capillarisin', 'coumarins']\n",
      "['calcium', 'cAMP', 'nucleotide']\n",
      "['glucose']\n",
      "[]\n",
      "['glucose', 'calcium', 'triglyceride', 'streptozotocin', 'cholesterol']\n",
      "['quinone', 'NAD(P)H']\n",
      "['STZ', 'glucose', 'quinone', 'NAD(P)H', 'streptozotocin']\n",
      "['glucose']\n",
      "['l-glutamine', 'STZ', 'sugar', 'glucose', 'sitagliptin', 'nicotinamide', 'glutathione', 'NTM', 'amide', 'streptozotocin', 'amino acid', 'malondialdehyde']\n",
      "['glucose', 'phlorotannins', 'polyphenols', 'tyrosine']\n",
      "['oxygen']\n",
      "[]\n",
      "['glucose', 'lauric acid', 'metformin']\n",
      "['glucose', 'amoxicillin', 'carbohydrate', 'omeprazole', 'clarithromycin']\n",
      "['Iron']\n",
      "['iron', 'Iron']\n",
      "[]\n",
      "['leucine', 'nitric oxide', 'proline']\n",
      "['alogliptin']\n",
      "['alogliptin', 'sulfonylureas', 'thiazolidinediones', 'aloglipin', 'metformin']\n",
      "['ethanol']\n",
      "['MDA', 'ethanol', 'EtOH', 'glucose']\n",
      "[]\n",
      "[]\n",
      "['tyrosine']\n",
      "['glucose']\n",
      "[]\n",
      "['AZD1656']\n",
      "['glucose', 'AZD1656']\n",
      "[]\n",
      "['glucose']\n",
      "['glucose', 'metformin']\n",
      "[]\n",
      "['testosterone', 'dehydroepiandrosterone sulfate', 'steroid']\n",
      "['11β-hydroxysteroid', 'cortisol', 'cortisone']\n",
      "['pioglitazone']\n",
      "['glucose', 'Pioglitazone', 'pioglitazone', 'TZD']\n",
      "['phosphatidylinositol-4,5-bisphosphate', 'PI(4,5)P2', 'glucose', 'PI(4)P', 'phosphatidylinositol 4-phosphate']\n",
      "['statins', 'rivaroxaban', 'clopidogrel', 'polyunsaturated fatty acids', 'apixaban', 'aspirin', 'alcohol', 'aldosterone', 'dabigatran', 'Vernakalant', 'dronedarone', 'warfarin']\n",
      "['resveratrol']\n",
      "['resveratrol', 'glucose', 'RES']\n",
      "['NH2']\n",
      "[]\n",
      "['sodium arsenite', 'arsenic', 'hydroxysteroid']\n",
      "['glucose']\n",
      "['glucose', 'oxygen', '5-HMF']\n",
      "['glucose', 'phosphatidylinositol']\n",
      "[]\n",
      "[]\n",
      "['superoxide', 'STZ', 'glucose', 'Embelin', 'embelin', 'glutathione', 'streptozotocin', 'benzoquinone', 'malondialdehyde']\n",
      "['clofibric acid', 'tetrazole', 'glucose', 'Asp', '(1)H', 'nicotinamide', 'NADP(+)', '(13)C', '11β-hydroxysteroid', 'Tyr', 'Ser', 'clofibrate']\n",
      "['benzoquinones', 'tyrosine', 'vanadium']\n",
      "[]\n",
      "[]\n",
      "[]\n",
      "[]\n",
      "['triacylglycerol', 'Met', 'metformin']\n",
      "[]\n",
      "['glucose']\n",
      "['glucose', 'yo pro-1', 'propidium iodide']\n",
      "['Idescarpin', '1-hydroxy-6-oxo-2-cyclohexenecarboxylate', 'methanol', 'n-BuOH', 'idescarpin', 'CHCl3', '6-(oxymethyl)-2-hydroxyphenyl-O-β-d-glucopyranosyl-(1→6)-β-d-glucopyranoside']\n",
      "['cholesterol']\n",
      "['Thr', 'acetyl-CoA', 'AMP', 'dexamethasone', 'diacylglyderide', 'Dexamethasone', '11β-hydroxysteroid', 'CORT', '11DHC', 'corticosterone', '11-dehydrocorticosterone', 'Ser']\n",
      "[]\n",
      "[]\n",
      "['serine', 'glucose', 'threonine']\n",
      "['STZ', 'glucose', 'glucose-6 phosphate', 'carbohydrate', 'streptozotocin', 'cholesterol', 'triglycerides']\n",
      "[]\n",
      "['eosin', 'glucose', 'hematoxylin']\n",
      "['glucose']\n",
      "[]\n",
      "[]\n",
      "[]\n",
      "['glucose']\n",
      "['oleic acid', 'estrogen', 'testosterone', 'estradiol', 'TZDs', 'TZD', 'pioglitazone', 'Thiazolidinediones', 'rosiglitazone']\n",
      "[]\n",
      "[]\n",
      "[]\n",
      "[]\n",
      "['glucose']\n",
      "['cysteines']\n",
      "['glutamates', 'serine', 'cysteine', 'tyrosine', 'glutamate', 'Cysteines', 'Lysine', 'disulfide', 'cysteines']\n",
      "['glucose', 'aldosterone', 'cortisol']\n",
      "[]\n",
      "['glucose', 'cholesterol', 'triacylglycerol']\n",
      "[]\n",
      "['ATP', 'fatty acids', 'AMP', 'nucleotide', 'monosodium uric acid', 'metformin', 'oxygen']\n",
      "['sugar', 'GW0742', 'leucine', 'nucleotide', 'high-fructose corn syrup', 'HFCS-55']\n",
      "[]\n",
      "[]\n",
      "[]\n",
      "['sulfonylurea']\n",
      "['glucose', 'sulfonylurea', 'sulfonylureas']\n",
      "['fatty acid']\n",
      "['fatty acid', 'fatty acids', 'N-acetylcysteine']\n",
      "['glucose']\n",
      "['vitamin B(12)']\n",
      "['pentacyclic triterpenoids']\n",
      "['oleanolic acid', 'ursane', 'pentacyclic triterpenoids', 'ursolic acid', 'pentacyclic triterpenes', 'betulinic acid', 'glucose', 'betulin', 'Pentacyclic triterpenoids', 'lupane', 'oleanane', 'glycyrrhizin', 'lupeol', 'glycyrrhetinic acid']\n",
      "['phenolic', 'Fe(2+)', '(•)OH', 'carbohydrate']\n",
      "['streptozotocin', 'glucose', 'triglyceride']\n",
      "['hypotaurine', 'sulfur amino acids', 'methionine', 'homocysteine', 'S-adenosylhomocysteine', 'cysteine', 'S-adenosylmethionine', 'polyamine', 'putrescine', 'spermidine', 'Glutathione', 'γ-glutamylcysteine', 'sulfur amino acid', 'sulfur']\n",
      "['glucose', 'fructose']\n",
      "[]\n",
      "['2-Phenoxy-nicotinamides']\n",
      "[]\n",
      "[]\n",
      "['streptozotocin']\n",
      "['curcumin', 'N-methyl-D-aspartate', 'glutamate', 'α-amino-3-hydroxy-5-methyl-4-isoxazole propionate', 'glutathione', 'aspartate', 'Curcumin', 'streptozotocin']\n",
      "['lactate', 'butyrate']\n",
      "['glucose']\n",
      "['glucose', 'carbachol', 'sulfonylureas']\n",
      "['L-thyroxine', 'calcium', 'thyroid hormone', 'phosphate', 'triglyceride', 'cholesterol']\n",
      "['cholesterol', 'doxorubicin']\n",
      "['Bombesin']\n",
      "['bombesin', 'PD98059', 'Wortmannin', 'glucose', 'Phe', 'rapamycin', 'β-Ala', 'D-Phe', 'Nle']\n",
      "['glucose']\n",
      "['glucose']\n",
      "['tryptophan', '5-hydroxytryptamine', '5-HT', 'indoleamine', 'H2O2', 'kynurenine']\n",
      "[]\n",
      "['glucose']\n",
      "['glucose', 'Zoledronic Acid', 'zoledronic acid', 'alendronate']\n",
      "['carbohydrates']\n",
      "['glucose', 'triglyceride', 'carbohydrate', 'dextrose', 'cholesterol']\n",
      "[]\n",
      "['carboxy', 'lysine']\n",
      "[]\n",
      "[]\n",
      "['LiCl', 'isothiazolidine-1,1-dione', '3-hydroxychromone', 'SB-415286']\n",
      "['tolylfluanid', 'acetyl-coenzyme A', 'Cort', 'serine', 'leucine', 'phenylsulfamide', 'corticosterone']\n",
      "['thymidine']\n",
      "['palmitate', 'glucose']\n",
      "[]\n",
      "[]\n",
      "[]\n",
      "['Ca(2+)', 'eplerenone', 'aldosterone', 'nitric oxide', 'spironolactone', 'Ser']\n",
      "['1,2,3,4,6 Penta-O-galloyl-β-d-glucose']\n",
      "['gallotannin', 'carbenoxolone', 'glucose', 'PGG', 'corticosterone', '1,2,3,4,6 penta-O-galloyl-β-d-glucose', 'CBX']\n",
      "[]\n",
      "['glucose', 'fatty acid', 'sodium', '11-β-hydroxysteroid']\n",
      "['2-aminoethylaminomethyl', '4-methyl-quinazoline-2-yl-methyl', 'xanthine', 'methylene']\n",
      "['glucose', 'Glucose']\n",
      "[]\n",
      "[]\n",
      "['Manganese']\n",
      "['superoxide', 'Manganese', 'glucose', 'Mn', 'manganese', 'iron']\n",
      "['Dex', 'dexamethasone', '[(3)H]thymidine', 'steroid']\n",
      "['sitagliptin']\n",
      "['sitagliptin', 'metformin', 'sulfonylureas']\n",
      "['Cholesterol']\n",
      "[]\n",
      "[]\n",
      "['glucose']\n",
      "['glucose']\n",
      "['cholesterol']\n",
      "[]\n",
      "[]\n",
      "['homocysteine', 'metformin', 'Vitamin B12']\n",
      "['homocysteine', 'folate', 'metformin', 'vitamin B12', 'Hcy']\n",
      "['cholesterol', 'creatinine']\n",
      "['25(OH)D(3)', 'calcium', 'vitamin D', 'aspartate', '25-hydroxyvitamin D(3)', 'cholesterol', 'triglycerides']\n",
      "['dapsone', 'glucose', 'oxygen']\n",
      "['Farnesylthiosalisylic acid', 'FTS']\n",
      "['glucose', 'carbonitrile', 'Rosiglitazone']\n",
      "['6-methyl pyridone']\n",
      "['aspirin', 'cholesterol']\n",
      "[]\n",
      "['glucose']\n",
      "['glucose']\n",
      "['glucose', 'cholesterol', 'triacylglycerol']\n",
      "['curcumin', 'polyphenols', 'quercetin', 'epigallocatechin gallate']\n",
      "['polyphenols', 'curcumin', 'epigallocatechin gallate', 'glucose', 'Polyphenols', 'quercetin']\n",
      "['STZ', 'vanadium', 'vanadium-flavonol', 'streptozotocin', 'sodium orthovanadate']\n",
      "[]\n",
      "['glucose', 'tyrosine']\n",
      "[]\n",
      "['glucose']\n",
      "[]\n",
      "[]\n",
      "[]\n",
      "['oxysterols', 'glutathione']\n",
      "['estrogen', 'hydrogen peroxide', 'daidzein', 'isoliquirtigenin', 'kaempferol', 'genistein', 'resveratrol', 'coumestrol', 'ICI182780', 'manganese superoxide', 'apigenin', 'glycitin']\n",
      "['superoxide', 'MDA', 'Glycyrrhizin', 'Glycyrrhizic acid', 'triterpenoid saponin glycoside', 'DCFH-DA', '2,7-dichlorodihydrofluorescin diacetate', 'oxygen', 'malondialdehyde']\n",
      "['BELVIQ', 'lorcaserin', 'serotonin']\n",
      "['glucose']\n",
      "['25(OH)D', 'calcium', '24,25-dihydroxyvitamin D', '1,25-dihydroxyvitamin D', 'vitamin D', '25-hydroxyvitamin D']\n",
      "[]\n",
      "['Cilostazol', 'cilostazol', 'dUTP']\n",
      "[]\n",
      "[]\n",
      "['sitagliptin']\n",
      "[]\n",
      "[]\n",
      "['glucose', '(S)-3-[4-(1-{3,5-dimethyl-4-[4-(trifluoromethyl)-1H-pyrazol-1-yl]phenoxy}butyl)benzamido]propanoic acid']\n",
      "['glucose', 'Glutamine', 'glutamine']\n",
      "['CHO', 'carbohydrates']\n",
      "['streptozotocin', 'ethanol', 'glucose', 'carbohydrate']\n",
      "['glucose', 'cyclic AMP']\n",
      "['sphingolipid', 'cholesterol', 'sphingomyelin']\n",
      "['calcium', 'boron', 'NaB', 'sodium pentaborate pentahydrate']\n",
      "['Fatty Acid', 'glucose', 'calcium', 'cyclic AMP']\n",
      "['Metformin', 'metformin']\n",
      "['streptozotocin', 'glucose', 'berberine']\n",
      "['arginine']\n",
      "['glucose']\n",
      "['Glucose']\n",
      "['glucose']\n",
      "['superoxide', 'glucose', 'glutathione', 'Fe', 'iron']\n",
      "['fructosamine', 'glucose']\n",
      "['glucose']\n",
      "['tyrosine']\n",
      "['alogliptin', 'linagliptin', 'glucose', 'sitagliptin', 'vildagliptin', 'saxagliptin']\n",
      "['glucose']\n",
      "['ortho- and para-hydroxyatorvastatin', 'atorvastatin', 'CP-778\\u2009875', 'atorvastatin acid', '5-(N-(4-((4-ethylbenzyl)thio)phenyl)sulfamoyl)-2-methyl benzoic acid']\n",
      "['vildagliptin', 'glucose']\n",
      "[]\n",
      "['polygonatone D', 'AMP', 'homoisoflavonoids', 'acetyl-CoA', \"(3R)-5,7-dihydroxyl-6-methyl-8-methoxyl-3-(4'-hydroxylbenzyl)-chroman-4-one\", 'dihydrochalcone', \"(3R)-5,7-dihydroxyl-6-methyl-3-(4'-hydroxylbenzyl)-chroman-4-one\", 'polygonatones A-D', \"(3R)-5,7-dihydroxyl-6,8-dimethyl-3-(4'-hydroxylbenzyl)-chroman-4-one\", 'Adenosine monophosphate']\n",
      "['superoxide', 'PBDEs', 'polybrominated diphenyl ethers', 'glucose', \"2,2',3,3',4,4',5,5',6,6'-decabromodiphenyl ether\", 'BDE209', 'reduced glutathione']\n",
      "['streptozotocin']\n",
      "['polyphenols', 'ellagic acid', 'polyphenol', 'midazolam', 'sugar', 'quercetin', 'carbohydrate', 'warfarin']\n",
      "['glucose', 'metformin']\n",
      "['streptozotocin', 'estrogen', 'sugar']\n",
      "['heme']\n",
      "['vitamin C', 'Se', 'glutathione', 'Vitamin C', 'selenium', 'streptozotocin', 'urea', 'creatinine', 'vitamin E']\n",
      "['Manganese', 'cyclophosphamide']\n",
      "['glucose', 'manganese', 'cyclophosphamide']\n",
      "['carbohydrate']\n",
      "['Glucose', 'glucose', 'carbohydrate', 'carbohydrates', 'cholesterol', 'triglycerides']\n",
      "['Deoxyglucose', 'MTT', 'glucose', 'Friedelin', 'lanosterol', 'friedelin', 'Oil Red O']\n",
      "[]\n",
      "['vitamin D']\n",
      "['25-hydroxyvitamin D₃', '25(OH)D₃', 'calcium', '1,25(OH)₂D₃', 'vitamin D₃', 'vitamin D', 'Vitamin D', '1,25-dihydroxyvitamin D₃']\n",
      "['25-hydroxyvitamin D']\n",
      "['Vitamin D', '25(OH)D', 'vitamin D', '25-hydroxyvitamin D']\n",
      "['Rosi', 'glucose', 'thiazolidinedione', 'Rosiglitazone']\n",
      "[]\n",
      "['alanine', 'fructose', 'STZ', 'glucose', 'triterpenoid', 'aspartate', 'carbohydrate', 'glucose-6-phosphate', 'streptozotocin', 'Asiatic acid', 'pyruvate', 'glibenclamide']\n",
      "[]\n",
      "['ATP', 'glucose-6-phosphate']\n",
      "[]\n",
      "[]\n",
      "['streptozotocin', 'STZ']\n",
      "['glucose', 'fatty acids', 'triglycerides']\n",
      "['glucose', 'somatostatin', 'potassium', 'RY796']\n",
      "['glinides', 'glitazones', 'metformin', 'sulfonylureas']\n",
      "['saponins', 'tyrosine', 'triterpenes']\n",
      "['NO', '[s]-2,9-dihydroxy-1,10-dimethoxyaporphine', 'superoxide', 'peroxynitrite', 'STZ', 'Boldine', 'DHE', 'nitrotyrosine', 'glucose', 'acetylcholine', 'nitric oxide', 'β-NAPDH', 'NAD(P)H', 'streptozotocin', 'boldine']\n",
      "['resveratrol', 'glucose', 'Resveratrol']\n",
      "['sesamol', 'glucose', 'paroxetine', 'serotonin', 'Paroxetine', 'acetylcholine', 'streptozotocin', 'oxygen']\n",
      "['glucose', 'amino acids', 'steroid', 'carbohydrates']\n",
      "[]\n",
      "[]\n",
      "['palmitate', 'glucose']\n",
      "['norcamphor', 'Spiroimidazolidine-2,4-dione', '3-(arylsulfonyl)spiroimidazolidine-2,4-diones', 'arylsulfonyl chlorides', 'aldose', 'spiroiminoimidazolidine-2,4-dione']\n",
      "['Ceramides', 'sphingolipid', 'sphingolipids', 'palmitate', 'saturated fatty acids', 'ceramide', 'C16 ceramide']\n",
      "['DNJ', 'sorbitol', '2-amino-2-deoxy-D-mannitol', '1-Deoxynojirimycin']\n",
      "['tolbutamide', 'superoxide', 'STZ', 'MDA', 'glucose', 'GSH', 'triglycerides', 'glutathione', 'Secoisolariciresinol diglucoside', 'streptozotocin', 'cholesterol', 'SDG', 'malondialdehyde']\n",
      "['glucose']\n",
      "['glucose', 'Glucose', 'calcium', 'glucose-6-phosphate']\n",
      "['tacrolimus']\n",
      "['15-O-desmethyl tacrolimus', 'nucleotide', 'tacrolimus', '13-O-desmethyl tacrolimus']\n",
      "['His', 'glucose', '(1)H', 'thiazolidine-2,4-dione', '(13)C', 'barbituric acid', 'Tyr', 'Ser']\n",
      "['glucose', 'palmatine']\n",
      "['glucose', 'free fatty acid', 'TUG-424']\n",
      "['carnosine', 'amines', 'glucose', 'aldehydes', 'histidine', 'oxo- and hydroxy-aldehydes', 'glutathione', 'thiols', 'aldehyde', 'unsaturated aldehydes', 'Histidine', 'carbohydrates', 'carbohydrate', 'Aldehydes', 'histamine', 'carbonyl']\n",
      "['glucose', 'oxygen']\n",
      "[]\n",
      "['alcohol']\n",
      "['alcohol', 'free fatty acid', 'pioglitazone', 'vitamin E']\n",
      "['Bile acids', 'pregnane', 'glucose', 'androstane', 'Bile-acid', 'vitamin D', 'bile acid']\n",
      "['streptozocin', \"5'-AMP\", 'cyclic adenosine monophosphate', 'STZ', 'dexamethasone', 'glucose', 'phosphoenol-pyruvate', 'procyanidins', 'cAMP', 'catechin']\n",
      "['glucose', 'cholesterol', 'triglycerides']\n",
      "['Glucose', '25-Hydroxyvitamin D']\n",
      "['25(OH)D', 'glucose', '25[OH]D', 'vitamin D', '25-hydroxyvitamin D']\n",
      "[]\n",
      "['Lactate', 'superoxide', 'Glucose', 'ATP', 'lactate', 'glucose', 'ebselen', 'H(2)O(2)', 'glutathione', 'tempol', 'oxygen']\n",
      "[]\n",
      "['glucose']\n",
      "['glucose', 'DHMEQ']\n",
      "[]\n",
      "[]\n",
      "[]\n",
      "['glucose']\n",
      "['carbohydrate']\n",
      "['NO', 'Catalpol', 'NADPH', 'catalpol', 'oxygen']\n",
      "[]\n",
      "[]\n",
      "['prednisolone']\n",
      "['fructosamine']\n",
      "[]\n",
      "[]\n",
      "[]\n",
      "['glucose', 'carbohydrates']\n",
      "[]\n",
      "['cholesterol']\n",
      "[]\n",
      "['palmitate', 'AMD3100', 'NADPH', 'streptozotocin']\n",
      "[]\n",
      "[]\n",
      "[]\n",
      "[]\n",
      "[]\n",
      "['Macelignan', 'macelignan']\n",
      "['glucose', 'fatty acid']\n",
      "['pregnane', 'alcohol']\n",
      "['glucose', 'MSDC-0160', 'thiazolidinediones', 'pioglitazone', 'pioglitazone HCl']\n",
      "['glucose']\n",
      "[]\n",
      "['fibrates', 'fatty acid', 'nicotinic acid', 'triglyceride', 'cholesterol', 'triglycerides']\n",
      "['paracetamol', 'alloxan']\n",
      "['alanine', 'superoxide', 'paracetamol', 'GSH', 'bilirubin', 'glucose', 'glutathione', 'alloxan', 'aspartate', 'creatinine', 'urea', 'cholesterol', 'silymarin', 'triglycerides', 'glibenclamide']\n",
      "[]\n",
      "['glucose']\n",
      "['serine', 'glucose', 'tyrosine']\n",
      "[]\n",
      "[]\n",
      "['NO', 'lactic', 'superoxide', 'eosin', 'glucose', 'kinsenoside', 'hematoxylin', 'nitric oxide', 'streptozotocin', 'cholesterol', 'methenamine']\n",
      "['glucose']\n",
      "[]\n",
      "[]\n",
      "['creatinine']\n",
      "['(125)I', 'Ca(2+)', 'Arg', 'K(+)', 'amino acid', 'Lys']\n",
      "['glucose', 'Glucose']\n",
      "[]\n",
      "['glucose']\n",
      "[]\n",
      "[]\n",
      "['glutathione', 'pentosidine', 'superoxide']\n",
      "[]\n",
      "['glucose', 'cholesterol']\n",
      "['glucose', 'rapamycin', 'NADPH']\n",
      "['glucose']\n",
      "['glucose', 'symmetric dimethylarginine', 'SDMA', 'nitric oxide', 'ADMA', 'asymmetric dimethylarginine']\n",
      "[]\n",
      "['glucose']\n",
      "['glucose', 'calcium', 'fatty acids', 'diacylglycerol']\n",
      "[]\n",
      "[]\n",
      "[]\n",
      "[]\n",
      "[]\n",
      "['streptozotocin', 'glucose']\n",
      "['creatinine']\n",
      "[]\n",
      "['glucose']\n",
      "['streptozotocin', 'STZ']\n",
      "['tamoxifen', 'niacin', 'epinephrine', 'thiazolidinediones', 'fingolimod', 'timolol', 'taxanes', 'prostaglandin']\n"
     ]
    },
    {
     "data": {
      "text/plain": [
       "456"
      ]
     },
     "execution_count": 7,
     "metadata": {},
     "output_type": "execute_result"
    }
   ],
   "source": [
    "cnt = 0\n",
    "for i, v in enumerate(chemdner['train']['text']):\n",
    "    if 'diabetes' in v:\n",
    "        print(chemdner['train']['entities'][i])\n",
    "        cnt += 1\n",
    "cnt"
   ]
  },
  {
   "cell_type": "code",
   "execution_count": 2,
   "metadata": {},
   "outputs": [
    {
     "data": {
      "application/vnd.jupyter.widget-view+json": {
       "model_id": "a88558c275464653a69d25907214ab4d",
       "version_major": 2,
       "version_minor": 0
      },
      "text/plain": [
       "README.md:   0%|          | 0.00/621 [00:00<?, ?B/s]"
      ]
     },
     "metadata": {},
     "output_type": "display_data"
    },
    {
     "data": {
      "application/vnd.jupyter.widget-view+json": {
       "model_id": "d2d25079ae6a49b0ae7652a4a21bc682",
       "version_major": 2,
       "version_minor": 0
      },
      "text/plain": [
       "train-00000-of-00001.parquet:   0%|          | 0.00/7.40M [00:00<?, ?B/s]"
      ]
     },
     "metadata": {},
     "output_type": "display_data"
    },
    {
     "data": {
      "application/vnd.jupyter.widget-view+json": {
       "model_id": "c4c725f274884b62881f42326b2dce52",
       "version_major": 2,
       "version_minor": 0
      },
      "text/plain": [
       "test-00000-of-00001.parquet:   0%|          | 0.00/2.23M [00:00<?, ?B/s]"
      ]
     },
     "metadata": {},
     "output_type": "display_data"
    },
    {
     "data": {
      "application/vnd.jupyter.widget-view+json": {
       "model_id": "69c3f7b0a21542e292f3b42e7316882b",
       "version_major": 2,
       "version_minor": 0
      },
      "text/plain": [
       "valid-00000-of-00001.parquet:   0%|          | 0.00/2.80M [00:00<?, ?B/s]"
      ]
     },
     "metadata": {},
     "output_type": "display_data"
    },
    {
     "data": {
      "application/vnd.jupyter.widget-view+json": {
       "model_id": "bcf592d2ef3e48dd940f395349ed76ec",
       "version_major": 2,
       "version_minor": 0
      },
      "text/plain": [
       "Generating train split:   0%|          | 0/18779 [00:00<?, ? examples/s]"
      ]
     },
     "metadata": {},
     "output_type": "display_data"
    },
    {
     "data": {
      "application/vnd.jupyter.widget-view+json": {
       "model_id": "c873c54847654199bd1cfded89000b7c",
       "version_major": 2,
       "version_minor": 0
      },
      "text/plain": [
       "Generating test split:   0%|          | 0/5761 [00:00<?, ? examples/s]"
      ]
     },
     "metadata": {},
     "output_type": "display_data"
    },
    {
     "data": {
      "application/vnd.jupyter.widget-view+json": {
       "model_id": "c0fc0f520cfd4a41ad472aa98cf3bc95",
       "version_major": 2,
       "version_minor": 0
      },
      "text/plain": [
       "Generating valid split:   0%|          | 0/7244 [00:00<?, ? examples/s]"
      ]
     },
     "metadata": {},
     "output_type": "display_data"
    },
    {
     "data": {
      "application/vnd.jupyter.widget-view+json": {
       "model_id": "4f2b0275d4d447b2b0f159ccf333c267",
       "version_major": 2,
       "version_minor": 0
      },
      "text/plain": [
       "README.md:   0%|          | 0.00/564 [00:00<?, ?B/s]"
      ]
     },
     "metadata": {},
     "output_type": "display_data"
    },
    {
     "data": {
      "application/vnd.jupyter.widget-view+json": {
       "model_id": "b50dc0473f074cc0906d55a84b6cf5cd",
       "version_major": 2,
       "version_minor": 0
      },
      "text/plain": [
       "train-00000-of-00001.parquet:   0%|          | 0.00/1.47M [00:00<?, ?B/s]"
      ]
     },
     "metadata": {},
     "output_type": "display_data"
    },
    {
     "data": {
      "application/vnd.jupyter.widget-view+json": {
       "model_id": "5d37fb5d89354faba8ae9f7d370f8177",
       "version_major": 2,
       "version_minor": 0
      },
      "text/plain": [
       "validation-00000-of-00001.parquet:   0%|          | 0.00/159k [00:00<?, ?B/s]"
      ]
     },
     "metadata": {},
     "output_type": "display_data"
    },
    {
     "data": {
      "application/vnd.jupyter.widget-view+json": {
       "model_id": "a7614654edae4a04958764ca3e8da4f9",
       "version_major": 2,
       "version_minor": 0
      },
      "text/plain": [
       "test-00000-of-00001.parquet:   0%|          | 0.00/188k [00:00<?, ?B/s]"
      ]
     },
     "metadata": {},
     "output_type": "display_data"
    },
    {
     "data": {
      "application/vnd.jupyter.widget-view+json": {
       "model_id": "462f3751db7d42489bb1214b5d9aac7f",
       "version_major": 2,
       "version_minor": 0
      },
      "text/plain": [
       "Generating train split:   0%|          | 0/15023 [00:00<?, ? examples/s]"
      ]
     },
     "metadata": {},
     "output_type": "display_data"
    },
    {
     "data": {
      "application/vnd.jupyter.widget-view+json": {
       "model_id": "f429c97ac72d4978a506d8966430b256",
       "version_major": 2,
       "version_minor": 0
      },
      "text/plain": [
       "Generating validation split:   0%|          | 0/1669 [00:00<?, ? examples/s]"
      ]
     },
     "metadata": {},
     "output_type": "display_data"
    },
    {
     "data": {
      "application/vnd.jupyter.widget-view+json": {
       "model_id": "725a9034413b4b118f424b614a24b13a",
       "version_major": 2,
       "version_minor": 0
      },
      "text/plain": [
       "Generating test split:   0%|          | 0/1854 [00:00<?, ? examples/s]"
      ]
     },
     "metadata": {},
     "output_type": "display_data"
    }
   ],
   "source": [
    "## dataset load\n",
    "\n",
    "from datasets import load_dataset\n",
    "\n",
    "# qa datasets\n",
    "medqa = load_dataset(\"GBaker/MedQA-USMLE-4-options\")\n",
    "# medqa = load_dataset(\"bigbio/med_qa\")\n",
    "medmcqa = load_dataset(\"openlifescienceai/medmcqa\")\n",
    "pubmedqa = load_dataset(\"bigbio/pubmed_qa\", trust_remote_code=True)\n",
    "# mfc = load_dataset(\"veggiebird/medical-flashcards\")\n",
    "# pubmedqa = load_dataset(\"qiaojin/PubMedQA\", \"pqa_artificial\")\n",
    "# bioasq = load_dataset(\"rag-datasets/rag-mini-bioasq\", \"question-answer-passages\")\n",
    "# mednli = load_dataset(\"bigbio/mednli\")\n",
    "\n",
    "# nli datasets\n",
    "# mednli = load_dataset(\"cnut1648/mnli_resampled_as_mednli\")\n",
    "bionli = load_dataset(\"clinicalnlplab/BioNLI_test\")\n",
    "\n",
    "# information extraction datasets\n",
    "# cie_mse = load_dataset(\"mitclinicalml/clinical-ie\", \"medication_status\", trust_remote_code=True) # medication status extraction\n",
    "# cie_ccr = load_dataset(\"mitclinicalml/clinical-ie\", \"coreference\", trust_remote_code=True) # clinical coreference resolution\n",
    "\n",
    "# medmentions = load_dataset(\"bigbio/medmentions\", trust_remote_code=True) train-108, test-37\n",
    "# bc5cdr = load_dataset(\"bigbio/bc5cdr\", trust_remote_code=True)\n",
    "\n",
    "# chemdisgene = load_dataset(\"bigbio/chem_dis_gene\", trust_remote_code=True)\n",
    "# biored = load_dataset(\"bigbio/biored\", trust_remote_code=True)\n",
    "# biorelex = load_dataset(\"bigbio/biorelex\", trust_remote_code=True)\n",
    "biorel = load_dataset(\"DFKI-SLT/BioRel\")\n",
    "ddi = load_dataset(\"YufeiHFUT/DDI2013\")\n",
    "medner = load_dataset(\"RozyShindra/MED_NER\")\n",
    "# biorex = load_dataset(\"bigbio/biorelex\", trust_remote_code=True)\n",
    "# phee = load_dataset(\"sarus-tech/phee\")\n",
    "# medal = load_dataset(\"bigbio/medal\", trust_remote_code=True)\n",
    "# chemdner = load_dataset(\"bigbio/chemdner\", trust_remote_code=True)\n",
    "# chemdner =load_dataset(\"kjappelbaum/chemnlp-chemdner\")\n",
    "\n",
    "# generation task about clinical skills datasets\n",
    "# medichat = load_dataset(\"Mostafijur/medichat_conversation\", \"medichat_subset1\") # ~ medichat_subset15 # conv2note\n",
    "icliniq = load_dataset(\"lavita/ChatDoctor-iCliniq\")\n",
    "# mediqa = load_dataset(\"jonathankang/EN-MEDIQA\")\n",
    "pubmed = load_dataset(\"ccdv/pubmed-summarization\")"
   ]
  },
  {
   "cell_type": "code",
   "execution_count": 3,
   "metadata": {},
   "outputs": [],
   "source": [
    "icliniq = icliniq['train'].train_test_split(test_size=0.3, seed=42)\n",
    "# pubmedqa = pubmedqa['train'].train_test_split(test_size=0.3, seed=42)"
   ]
  },
  {
   "cell_type": "code",
   "execution_count": 4,
   "metadata": {},
   "outputs": [
    {
     "name": "stdout",
     "output_type": "stream",
     "text": [
      "medqa\n",
      "DatasetDict({\n",
      "    train: Dataset({\n",
      "        features: ['question', 'answer', 'options', 'meta_info', 'answer_idx', 'metamap_phrases'],\n",
      "        num_rows: 10178\n",
      "    })\n",
      "    test: Dataset({\n",
      "        features: ['question', 'answer', 'options', 'meta_info', 'answer_idx', 'metamap_phrases'],\n",
      "        num_rows: 1273\n",
      "    })\n",
      "})\n",
      "------------------------------------------------------------------------------------------------------------------------------------------------------------\n",
      "medmcqa\n",
      "DatasetDict({\n",
      "    train: Dataset({\n",
      "        features: ['id', 'question', 'opa', 'opb', 'opc', 'opd', 'cop', 'choice_type', 'exp', 'subject_name', 'topic_name'],\n",
      "        num_rows: 182822\n",
      "    })\n",
      "    test: Dataset({\n",
      "        features: ['id', 'question', 'opa', 'opb', 'opc', 'opd', 'cop', 'choice_type', 'exp', 'subject_name', 'topic_name'],\n",
      "        num_rows: 6150\n",
      "    })\n",
      "    validation: Dataset({\n",
      "        features: ['id', 'question', 'opa', 'opb', 'opc', 'opd', 'cop', 'choice_type', 'exp', 'subject_name', 'topic_name'],\n",
      "        num_rows: 4183\n",
      "    })\n",
      "})\n",
      "------------------------------------------------------------------------------------------------------------------------------------------------------------\n",
      "pubmedqa\n",
      "DatasetDict({\n",
      "    train: Dataset({\n",
      "        features: ['QUESTION', 'CONTEXTS', 'LABELS', 'MESHES', 'YEAR', 'reasoning_required_pred', 'reasoning_free_pred', 'final_decision', 'LONG_ANSWER'],\n",
      "        num_rows: 200000\n",
      "    })\n",
      "    validation: Dataset({\n",
      "        features: ['QUESTION', 'CONTEXTS', 'LABELS', 'MESHES', 'YEAR', 'reasoning_required_pred', 'reasoning_free_pred', 'final_decision', 'LONG_ANSWER'],\n",
      "        num_rows: 11269\n",
      "    })\n",
      "})\n",
      "------------------------------------------------------------------------------------------------------------------------------------------------------------\n",
      "bionli\n",
      "DatasetDict({\n",
      "    train: Dataset({\n",
      "        features: ['id', 'query', 'answer', 'choices', 'gold'],\n",
      "        num_rows: 5544\n",
      "    })\n",
      "    validation: Dataset({\n",
      "        features: ['id', 'query', 'answer', 'choices', 'gold'],\n",
      "        num_rows: 12806\n",
      "    })\n",
      "    test: Dataset({\n",
      "        features: ['id', 'query', 'answer', 'choices', 'gold'],\n",
      "        num_rows: 6308\n",
      "    })\n",
      "})\n",
      "------------------------------------------------------------------------------------------------------------------------------------------------------------\n",
      "biorel\n",
      "DatasetDict({\n",
      "    train: Dataset({\n",
      "        features: ['text', 'relation', 'h', 't'],\n",
      "        num_rows: 534277\n",
      "    })\n",
      "    validation: Dataset({\n",
      "        features: ['text', 'relation', 'h', 't'],\n",
      "        num_rows: 114506\n",
      "    })\n",
      "    test: Dataset({\n",
      "        features: ['text', 'relation', 'h', 't'],\n",
      "        num_rows: 114565\n",
      "    })\n",
      "})\n",
      "------------------------------------------------------------------------------------------------------------------------------------------------------------\n",
      "DDI\n",
      "DatasetDict({\n",
      "    train: Dataset({\n",
      "        features: ['id', 'conversations', 'text'],\n",
      "        num_rows: 18779\n",
      "    })\n",
      "    test: Dataset({\n",
      "        features: ['id', 'conversations', 'text'],\n",
      "        num_rows: 5761\n",
      "    })\n",
      "    valid: Dataset({\n",
      "        features: ['id', 'conversations', 'text'],\n",
      "        num_rows: 7244\n",
      "    })\n",
      "})\n",
      "------------------------------------------------------------------------------------------------------------------------------------------------------------\n",
      "MedNER\n",
      "DatasetDict({\n",
      "    train: Dataset({\n",
      "        features: ['id', 'tokens', 'ner_tags'],\n",
      "        num_rows: 15023\n",
      "    })\n",
      "    validation: Dataset({\n",
      "        features: ['id', 'tokens', 'ner_tags'],\n",
      "        num_rows: 1669\n",
      "    })\n",
      "    test: Dataset({\n",
      "        features: ['id', 'tokens', 'ner_tags'],\n",
      "        num_rows: 1854\n",
      "    })\n",
      "})\n",
      "------------------------------------------------------------------------------------------------------------------------------------------------------------\n",
      "icliniq\n",
      "DatasetDict({\n",
      "    train: Dataset({\n",
      "        features: ['input', 'answer_icliniq', 'answer_chatgpt', 'answer_chatdoctor'],\n",
      "        num_rows: 5124\n",
      "    })\n",
      "    test: Dataset({\n",
      "        features: ['input', 'answer_icliniq', 'answer_chatgpt', 'answer_chatdoctor'],\n",
      "        num_rows: 2197\n",
      "    })\n",
      "})\n",
      "------------------------------------------------------------------------------------------------------------------------------------------------------------\n",
      "pubmed\n",
      "DatasetDict({\n",
      "    train: Dataset({\n",
      "        features: ['article', 'abstract'],\n",
      "        num_rows: 119924\n",
      "    })\n",
      "    validation: Dataset({\n",
      "        features: ['article', 'abstract'],\n",
      "        num_rows: 6633\n",
      "    })\n",
      "    test: Dataset({\n",
      "        features: ['article', 'abstract'],\n",
      "        num_rows: 6658\n",
      "    })\n",
      "})\n"
     ]
    }
   ],
   "source": [
    "print(\"medqa\")\n",
    "print(medqa)\n",
    "print('------------------------------------------------------------------------------'* 2) \n",
    "print(\"medmcqa\")\n",
    "print(medmcqa)\n",
    "print('------------------------------------------------------------------------------'* 2) \n",
    "print(\"pubmedqa\")\n",
    "print(pubmedqa)\n",
    "print('------------------------------------------------------------------------------'* 2) \n",
    "# print(\"mednli\")\n",
    "# print(mednli)\n",
    "# print('------------------------------------------------------------------------------'* 2) \n",
    "print(\"bionli\")\n",
    "print(bionli)\n",
    "print('------------------------------------------------------------------------------'* 2) \n",
    "# print(\"cie_mse\")\n",
    "# print(cie_mse)\n",
    "# print('------------------------------------------------------------------------------'* 2) \n",
    "# print(\"cie_ccr\")\n",
    "# print(cie_ccr)\n",
    "# print('------------------------------------------------------------------------------'* 2) \n",
    "# print(\"medmentions\")\n",
    "# print(medmentions)\n",
    "# print('------------------------------------------------------------------------------'* 2) \n",
    "# print(\"bc5cdr\")\n",
    "# print(bc5cdr)\n",
    "# print('------------------------------------------------------------------------------'* 2) \n",
    "# print(\"chem-dis-gene\")\n",
    "# print(chemdisgene)\n",
    "# print('------------------------------------------------------------------------------'* 2) \n",
    "# print(\"biored\")\n",
    "# print(biored)\n",
    "# print('------------------------------------------------------------------------------'* 2) \n",
    "# print(\"biorelex\")\n",
    "# print(biorelex)\n",
    "# print('------------------------------------------------------------------------------'* 2) \n",
    "print(\"biorel\")\n",
    "print(biorel)\n",
    "print('------------------------------------------------------------------------------'* 2)\n",
    "print(\"DDI\")\n",
    "print(ddi)\n",
    "print('------------------------------------------------------------------------------'* 2)\n",
    "print(\"MedNER\")\n",
    "print(medner)\n",
    "print('------------------------------------------------------------------------------'* 2)\n",
    "# print(\"biorex\")\n",
    "# print(biorex)\n",
    "# print('------------------------------------------------------------------------------'* 2) \n",
    "# print(\"medichat\")\n",
    "# print(medichat)\n",
    "# print('------------------------------------------------------------------------------'* 2) \n",
    "print(\"icliniq\")\n",
    "print(icliniq)\n",
    "print('------------------------------------------------------------------------------'* 2) \n",
    "# print(\"mediqa\")\n",
    "# print(mediqa)\n",
    "# print('------------------------------------------------------------------------------'* 2) \n",
    "print(\"pubmed\")\n",
    "print(pubmed)"
   ]
  },
  {
   "cell_type": "code",
   "execution_count": 5,
   "metadata": {},
   "outputs": [],
   "source": [
    "# from datasets import DatasetDict\n",
    "\n",
    "# # 각 split에 대해 새로운 키를 추가하는 함수\n",
    "# def add_new_key_to_dataset(dataset_dict):\n",
    "#     new_splits = {}\n",
    "#     for split_name, dataset in dataset_dict.items():\n",
    "#         # 각 row에 대해 새로운 키 추가\n",
    "#         def add_new_key(row):\n",
    "#             if \"passages\" in row and isinstance(row[\"passages\"], list):\n",
    "#                 # passages의 첫 번째 요소에서 text 추출\n",
    "#                 first_text = row[\"passages\"][0].get(\"text\", \"\") if row[\"passages\"] else None\n",
    "#                 row[\"text\"] = first_text  # 새로운 키 추가\n",
    "#             else:\n",
    "#                 row[\"text\"] = None  # passages가 없으면 None 추가\n",
    "#             return row\n",
    "        \n",
    "#         # map을 사용하여 데이터셋 업데이트\n",
    "#         updated_dataset = dataset.map(add_new_key)\n",
    "#         new_splits[split_name] = updated_dataset\n",
    "    \n",
    "#     return DatasetDict(new_splits)\n",
    "\n",
    "# # DatasetDict 형태의 데이터셋 처리\n",
    "# chemdner_updated = add_new_key_to_dataset(chemdner)\n",
    "\n",
    "# chemdner_updated['train']['text'][:5]\n"
   ]
  },
  {
   "cell_type": "code",
   "execution_count": 18,
   "metadata": {},
   "outputs": [
    {
     "data": {
      "application/vnd.jupyter.widget-view+json": {
       "model_id": "4e4393efd78d49e68bb89e80557a7edc",
       "version_major": 2,
       "version_minor": 0
      },
      "text/plain": [
       "Map:   0%|          | 0/13996 [00:00<?, ? examples/s]"
      ]
     },
     "metadata": {},
     "output_type": "display_data"
    },
    {
     "data": {
      "application/vnd.jupyter.widget-view+json": {
       "model_id": "0b856450222c4ffdbe731c53f13c120c",
       "version_major": 2,
       "version_minor": 0
      },
      "text/plain": [
       "Map:   0%|          | 0/1556 [00:00<?, ? examples/s]"
      ]
     },
     "metadata": {},
     "output_type": "display_data"
    },
    {
     "data": {
      "application/vnd.jupyter.widget-view+json": {
       "model_id": "898ff74261e04e59bffec5672d0ce26d",
       "version_major": 2,
       "version_minor": 0
      },
      "text/plain": [
       "Map:   0%|          | 0/3888 [00:00<?, ? examples/s]"
      ]
     },
     "metadata": {},
     "output_type": "display_data"
    }
   ],
   "source": [
    "from datasets import DatasetDict\n",
    "\n",
    "split_datasets = chemdner['train'].train_test_split(test_size=0.2)  \n",
    "train_valid_split = split_datasets['train'].train_test_split(test_size=0.1) \n",
    "\n",
    "chemdner_split = DatasetDict({\n",
    "    \"train\": train_valid_split[\"train\"],\n",
    "    \"validation\": train_valid_split[\"test\"],\n",
    "    \"test\": split_datasets[\"test\"]\n",
    "})\n",
    "\n",
    "def format_data(example):\n",
    "    return {\"text\": example[\"text\"], \"entities\": example[\"entities\"]}\n",
    "\n",
    "chemdner_updated = DatasetDict({\n",
    "    \"train\": chemdner_split[\"train\"].map(format_data, remove_columns=chemdner_split[\"train\"].column_names),\n",
    "    \"validation\": chemdner_split[\"validation\"].map(format_data, remove_columns=chemdner_split[\"validation\"].column_names),\n",
    "    \"test\": chemdner_split[\"test\"].map(format_data, remove_columns=chemdner_split[\"test\"].column_names)\n",
    "})"
   ]
  },
  {
   "cell_type": "code",
   "execution_count": 19,
   "metadata": {},
   "outputs": [
    {
     "data": {
      "text/plain": [
       "DatasetDict({\n",
       "    train: Dataset({\n",
       "        features: ['entities', 'text'],\n",
       "        num_rows: 13996\n",
       "    })\n",
       "    validation: Dataset({\n",
       "        features: ['entities', 'text'],\n",
       "        num_rows: 1556\n",
       "    })\n",
       "    test: Dataset({\n",
       "        features: ['entities', 'text'],\n",
       "        num_rows: 3888\n",
       "    })\n",
       "})"
      ]
     },
     "execution_count": 19,
     "metadata": {},
     "output_type": "execute_result"
    }
   ],
   "source": [
    "chemdner_updated"
   ]
  },
  {
   "cell_type": "code",
   "execution_count": 22,
   "metadata": {},
   "outputs": [
    {
     "name": "stdout",
     "output_type": "stream",
     "text": [
      "medqa (train): 10178 rows processed and appended to all_data_filtered_by_keywords.csv\n",
      "medqa (test): 1273 rows processed and appended to all_data_filtered_by_keywords.csv\n",
      "medmcqa (train): 182822 rows processed and appended to all_data_filtered_by_keywords.csv\n",
      "medmcqa (test): 6150 rows processed and appended to all_data_filtered_by_keywords.csv\n",
      "medmcqa (validation): 4183 rows processed and appended to all_data_filtered_by_keywords.csv\n",
      "pubmedqa (train): 200000 rows processed and appended to all_data_filtered_by_keywords.csv\n",
      "pubmedqa (validation): 11269 rows processed and appended to all_data_filtered_by_keywords.csv\n",
      "mfc (train): 90949 rows processed and appended to all_data_filtered_by_keywords.csv\n",
      "mfc (test): 10106 rows processed and appended to all_data_filtered_by_keywords.csv\n",
      "bionli (train): 11088 rows processed and appended to all_data_filtered_by_keywords.csv\n",
      "bionli (validation): 25612 rows processed and appended to all_data_filtered_by_keywords.csv\n",
      "bionli (test): 12616 rows processed and appended to all_data_filtered_by_keywords.csv\n",
      "biorel (train): 534277 rows processed and appended to all_data_filtered_by_keywords.csv\n",
      "biorel (validation): 114506 rows processed and appended to all_data_filtered_by_keywords.csv\n",
      "biorel (test): 114565 rows processed and appended to all_data_filtered_by_keywords.csv\n",
      "chemdner (train): 13996 rows processed and appended to all_data_filtered_by_keywords.csv\n",
      "chemdner (validation): 1556 rows processed and appended to all_data_filtered_by_keywords.csv\n",
      "chemdner (test): 3888 rows processed and appended to all_data_filtered_by_keywords.csv\n",
      "medal (train): 3000000 rows processed and appended to all_data_filtered_by_keywords.csv\n",
      "medal (test): 1000000 rows processed and appended to all_data_filtered_by_keywords.csv\n",
      "medal (validation): 1000000 rows processed and appended to all_data_filtered_by_keywords.csv\n",
      "icliniq (train): 10248 rows processed and appended to all_data_filtered_by_keywords.csv\n",
      "icliniq (test): 4394 rows processed and appended to all_data_filtered_by_keywords.csv\n",
      "pubmed (train): 119924 rows processed and appended to all_data_filtered_by_keywords.csv\n",
      "pubmed (validation): 6633 rows processed and appended to all_data_filtered_by_keywords.csv\n",
      "pubmed (test): 6658 rows processed and appended to all_data_filtered_by_keywords.csv\n"
     ]
    }
   ],
   "source": [
    "import pandas as pd\n",
    "import os\n",
    "import json\n",
    "import ast\n",
    "\n",
    "keywords = [keyword.lower() for keyword in [\n",
    "    \"Diabetes\",\n",
    "    \"Diabetes Mellitus\", \"Diabetes Mellitus, Experimental\", \"Diabetes Mellitus, Type 1\",\n",
    "    \"Wolfram Syndrome\", \"Diabetes Mellitus, Type 2\", \"Diabetes Mellitus, Lipoatrophic\",\n",
    "    \"Diabetes, Gestational\", \"Donohue Syndrome\", \"Latent Autoimmune Diabetes in Adults\",\n",
    "    \"Prediabetic State\", \"Diabetes Complications\", \"Diabesity\", \"Diabetic Angiopathies\",\n",
    "    \"Diabetic Cardiomyopathies\", \"Diabetic Coma\", \"Diabetic Ketoacidosis\",\n",
    "    \"Diabetic Nephropathies\", \"Diabetic Neuropathies\", \"Fetal Macrosomia\"\n",
    "]]\n",
    "\n",
    "def contains_keywords(text, keywords):\n",
    "    if not text or not isinstance(text, str): \n",
    "        return False\n",
    "    text_lower = text.lower()  # 입력 텍스트를 소문자로 변환\n",
    "    return any(keyword.lower() in text_lower for keyword in keywords)\n",
    "\n",
    "def process_dataset_split(dataset_name, split_name, dataset, text_columns, output_file, keywords=[\"diabetes\", \"insulin\"]):\n",
    "    rows = []\n",
    "    for i in range(len(dataset)):\n",
    "        row = dataset[i]\n",
    "\n",
    "        for col in text_columns:\n",
    "            if col in row:\n",
    "                text = row[col]\n",
    "\n",
    "            elif col == \"abstract\" and \"passages\" in row:\n",
    "                if isinstance(row[\"passages\"], list):\n",
    "                    text = \" \".join([p[\"text\"] for p in row[\"passages\"] if p.get(\"type\") == \"abstract\"])\n",
    "                else:\n",
    "                    text = \"\"\n",
    "            else:\n",
    "                text = \"\"\n",
    "\n",
    "            if not text:\n",
    "                continue\n",
    "\n",
    "            is_related = 1 if contains_keywords(text, keywords) else 0\n",
    "\n",
    "            rows.append({\n",
    "                \"dataset\": dataset_name,\n",
    "                \"split_data\": split_name,\n",
    "                \"features\": row,  \n",
    "                \"input\": text,\n",
    "                \"output\": is_related\n",
    "            })\n",
    "\n",
    "    if rows:  \n",
    "        df = pd.DataFrame(rows)\n",
    "        df.to_csv(output_file, mode=\"a\", header=not os.path.exists(output_file), index=False)\n",
    "        print(f\"{dataset_name} ({split_name}): {len(rows)} rows processed and appended to {output_file}\")\n",
    "    else:\n",
    "        print(f\"{dataset_name} ({split_name}): No rows processed.\")\n",
    "\n",
    "datasets = {\n",
    "    \"medqa\": {\"splits\": medqa, \"columns\": [\"question\"]},\n",
    "    \"medmcqa\": {\"splits\": medmcqa, \"columns\": [\"question\"]},\n",
    "    \"pubmedqa\": {\"splits\": pubmedqa, \"columns\": [\"QUESTION\"]},\n",
    "    \"mfc\": {\"splits\": mfc_updated, \"columns\": ['instruction', 'input', 'output']},\n",
    "    # \"mednli\": {\"splits\": mednli, \"columns\": [\"premise\", \"hypothesis\"]},\n",
    "    \"bionli\": {\"splits\": bionli, \"columns\": [\"query\", \"answer\"]},\n",
    "    # \"cie_mse\": {\"splits\": cie_mse, \"columns\": [\"snippet\"]},\n",
    "    # \"cie_ccr\": {\"splits\": cie_ccr, \"columns\": [\"snippet\"]},\n",
    "    # \"medmentions: {\"splits\": medmentions, \"columns\": [\"passages\"]},\n",
    "    # \"bc5cdr\": {\"splits\": bc5cdr, \"columns\": [\"passages\"]},\n",
    "    # \"chemdisgene\": {\"splits\": chemdisgene, \"columns\": [\"passages\"]},\n",
    "    # \"biored\": {\"splits\": biored, \"columns\": [\"passages\"]},\n",
    "    # \"biorelex\": {\"splits\": biorelex, \"columns\": [\"text\"]},\n",
    "    \"biorel\": {\"splits\": biorel, \"columns\": [\"text\"]},\n",
    "    \"chemdner\": {\"splits\": chemdner_updated, \"columns\": [\"text\"]},\n",
    "    \"medal\": {\"splits\": medal, \"columns\": [\"text\"]},\n",
    "    # \"biorex\": {\"splits\": biorex, \"columns\": [\"text\"]},\n",
    "    # \"medichat\": {\"splits\": medichat, \"columns\": [\"conversation\"]},\n",
    "    \"icliniq\": {\"splits\": icliniq, \"columns\": [\"input\", \"answer_icliniq\"]},\n",
    "    \"pubmed\": {\"splits\": pubmed, \"columns\": [\"abstract\"]},\n",
    "}\n",
    "\n",
    "\n",
    "output_file = os.path.join(\"all_data_filtered_by_keywords.csv\")\n",
    "\n",
    "for dataset_name, details in datasets.items():\n",
    "    splits = details[\"splits\"]\n",
    "    text_columns = details[\"columns\"] \n",
    "\n",
    "    for split_name, split_data in splits.items():\n",
    "        process_dataset_split(dataset_name, split_name, split_data, text_columns, output_file, keywords=keywords)\n"
   ]
  },
  {
   "cell_type": "code",
   "execution_count": 1,
   "metadata": {},
   "outputs": [],
   "source": [
    "import pandas as pd\n",
    "\n",
    "all_df = pd.read_csv(\"/data/jaesung/llm_for_diabetes/src/data/data1_diabetes/all_data_filtered_by_keywords.csv\")"
   ]
  },
  {
   "cell_type": "code",
   "execution_count": 2,
   "metadata": {},
   "outputs": [
    {
     "data": {
      "text/html": [
       "<div>\n",
       "<style scoped>\n",
       "    .dataframe tbody tr th:only-of-type {\n",
       "        vertical-align: middle;\n",
       "    }\n",
       "\n",
       "    .dataframe tbody tr th {\n",
       "        vertical-align: top;\n",
       "    }\n",
       "\n",
       "    .dataframe thead th {\n",
       "        text-align: right;\n",
       "    }\n",
       "</style>\n",
       "<table border=\"1\" class=\"dataframe\">\n",
       "  <thead>\n",
       "    <tr style=\"text-align: right;\">\n",
       "      <th></th>\n",
       "      <th>dataset</th>\n",
       "      <th>split_data</th>\n",
       "      <th>features</th>\n",
       "      <th>input</th>\n",
       "      <th>output</th>\n",
       "    </tr>\n",
       "  </thead>\n",
       "  <tbody>\n",
       "    <tr>\n",
       "      <th>1329594</th>\n",
       "      <td>chemdner</td>\n",
       "      <td>train</td>\n",
       "      <td>{'entities': ['dextromethorphan', 'dextrorphan...</td>\n",
       "      <td>There is considerable evidence that drug dispo...</td>\n",
       "      <td>0</td>\n",
       "    </tr>\n",
       "    <tr>\n",
       "      <th>1329595</th>\n",
       "      <td>chemdner</td>\n",
       "      <td>train</td>\n",
       "      <td>{'entities': [], 'text': 'Monitoring Controlle...</td>\n",
       "      <td>Monitoring Controlled Release of Payload from ...</td>\n",
       "      <td>0</td>\n",
       "    </tr>\n",
       "    <tr>\n",
       "      <th>1329596</th>\n",
       "      <td>chemdner</td>\n",
       "      <td>train</td>\n",
       "      <td>{'entities': [], 'text': 'Increased expression...</td>\n",
       "      <td>Increased expression of P450scc and CYP17 in d...</td>\n",
       "      <td>0</td>\n",
       "    </tr>\n",
       "    <tr>\n",
       "      <th>1329597</th>\n",
       "      <td>chemdner</td>\n",
       "      <td>train</td>\n",
       "      <td>{'entities': [], 'text': 'Alteration of proteo...</td>\n",
       "      <td>Alteration of proteoglycan sulfation affects b...</td>\n",
       "      <td>0</td>\n",
       "    </tr>\n",
       "    <tr>\n",
       "      <th>1329598</th>\n",
       "      <td>chemdner</td>\n",
       "      <td>train</td>\n",
       "      <td>{'entities': ['DFO-Bz-NCS', 'N-suc-DFO', 'desf...</td>\n",
       "      <td>Positron emission tomography with (89)Zr can b...</td>\n",
       "      <td>0</td>\n",
       "    </tr>\n",
       "    <tr>\n",
       "      <th>...</th>\n",
       "      <td>...</td>\n",
       "      <td>...</td>\n",
       "      <td>...</td>\n",
       "      <td>...</td>\n",
       "      <td>...</td>\n",
       "    </tr>\n",
       "    <tr>\n",
       "      <th>1349029</th>\n",
       "      <td>chemdner</td>\n",
       "      <td>test</td>\n",
       "      <td>{'entities': ['amino acid', 'phenolics', 'Poly...</td>\n",
       "      <td>Polyphenol oxidase (PPO) catalyses oxidation o...</td>\n",
       "      <td>0</td>\n",
       "    </tr>\n",
       "    <tr>\n",
       "      <th>1349030</th>\n",
       "      <td>chemdner</td>\n",
       "      <td>test</td>\n",
       "      <td>{'entities': ['chalcogenide'], 'text': 'The ch...</td>\n",
       "      <td>The chemistry, material processing and fundame...</td>\n",
       "      <td>0</td>\n",
       "    </tr>\n",
       "    <tr>\n",
       "      <th>1349031</th>\n",
       "      <td>chemdner</td>\n",
       "      <td>test</td>\n",
       "      <td>{'entities': ['Cyclohexapeptides', 'Nocardiami...</td>\n",
       "      <td>Nocardiamides A and B, Two Cyclohexapeptides f...</td>\n",
       "      <td>0</td>\n",
       "    </tr>\n",
       "    <tr>\n",
       "      <th>1349032</th>\n",
       "      <td>chemdner</td>\n",
       "      <td>test</td>\n",
       "      <td>{'entities': ['phenanthroline', 'nucleosides',...</td>\n",
       "      <td>Rigid 5'-6-locked phenanthroline-derived nucle...</td>\n",
       "      <td>0</td>\n",
       "    </tr>\n",
       "    <tr>\n",
       "      <th>1349033</th>\n",
       "      <td>chemdner</td>\n",
       "      <td>test</td>\n",
       "      <td>{'entities': ['chebulinic acid'], 'text': 'Ant...</td>\n",
       "      <td>Anti-secretory and cyto-protective effects of ...</td>\n",
       "      <td>0</td>\n",
       "    </tr>\n",
       "  </tbody>\n",
       "</table>\n",
       "<p>19440 rows × 5 columns</p>\n",
       "</div>"
      ],
      "text/plain": [
       "          dataset split_data  \\\n",
       "1329594  chemdner      train   \n",
       "1329595  chemdner      train   \n",
       "1329596  chemdner      train   \n",
       "1329597  chemdner      train   \n",
       "1329598  chemdner      train   \n",
       "...           ...        ...   \n",
       "1349029  chemdner       test   \n",
       "1349030  chemdner       test   \n",
       "1349031  chemdner       test   \n",
       "1349032  chemdner       test   \n",
       "1349033  chemdner       test   \n",
       "\n",
       "                                                  features  \\\n",
       "1329594  {'entities': ['dextromethorphan', 'dextrorphan...   \n",
       "1329595  {'entities': [], 'text': 'Monitoring Controlle...   \n",
       "1329596  {'entities': [], 'text': 'Increased expression...   \n",
       "1329597  {'entities': [], 'text': 'Alteration of proteo...   \n",
       "1329598  {'entities': ['DFO-Bz-NCS', 'N-suc-DFO', 'desf...   \n",
       "...                                                    ...   \n",
       "1349029  {'entities': ['amino acid', 'phenolics', 'Poly...   \n",
       "1349030  {'entities': ['chalcogenide'], 'text': 'The ch...   \n",
       "1349031  {'entities': ['Cyclohexapeptides', 'Nocardiami...   \n",
       "1349032  {'entities': ['phenanthroline', 'nucleosides',...   \n",
       "1349033  {'entities': ['chebulinic acid'], 'text': 'Ant...   \n",
       "\n",
       "                                                     input  output  \n",
       "1329594  There is considerable evidence that drug dispo...       0  \n",
       "1329595  Monitoring Controlled Release of Payload from ...       0  \n",
       "1329596  Increased expression of P450scc and CYP17 in d...       0  \n",
       "1329597  Alteration of proteoglycan sulfation affects b...       0  \n",
       "1329598  Positron emission tomography with (89)Zr can b...       0  \n",
       "...                                                    ...     ...  \n",
       "1349029  Polyphenol oxidase (PPO) catalyses oxidation o...       0  \n",
       "1349030  The chemistry, material processing and fundame...       0  \n",
       "1349031  Nocardiamides A and B, Two Cyclohexapeptides f...       0  \n",
       "1349032  Rigid 5'-6-locked phenanthroline-derived nucle...       0  \n",
       "1349033  Anti-secretory and cyto-protective effects of ...       0  \n",
       "\n",
       "[19440 rows x 5 columns]"
      ]
     },
     "execution_count": 2,
     "metadata": {},
     "output_type": "execute_result"
    }
   ],
   "source": [
    "all_df[all_df['dataset']=='chemdner']"
   ]
  },
  {
   "cell_type": "code",
   "execution_count": 3,
   "metadata": {},
   "outputs": [],
   "source": [
    "# data_filtered_by_keyword\n",
    "diabetes = all_df[all_df['output'] == 1]"
   ]
  },
  {
   "cell_type": "code",
   "execution_count": 4,
   "metadata": {},
   "outputs": [
    {
     "data": {
      "text/html": [
       "<div>\n",
       "<style scoped>\n",
       "    .dataframe tbody tr th:only-of-type {\n",
       "        vertical-align: middle;\n",
       "    }\n",
       "\n",
       "    .dataframe tbody tr th {\n",
       "        vertical-align: top;\n",
       "    }\n",
       "\n",
       "    .dataframe thead th {\n",
       "        text-align: right;\n",
       "    }\n",
       "</style>\n",
       "<table border=\"1\" class=\"dataframe\">\n",
       "  <thead>\n",
       "    <tr style=\"text-align: right;\">\n",
       "      <th></th>\n",
       "      <th>dataset</th>\n",
       "      <th>split_data</th>\n",
       "      <th>features</th>\n",
       "      <th>input</th>\n",
       "      <th>output</th>\n",
       "    </tr>\n",
       "  </thead>\n",
       "  <tbody>\n",
       "    <tr>\n",
       "      <th>15</th>\n",
       "      <td>medqa</td>\n",
       "      <td>train</td>\n",
       "      <td>{'question': 'A 68-year-old man presents to th...</td>\n",
       "      <td>A 68-year-old man presents to the emergency de...</td>\n",
       "      <td>1</td>\n",
       "    </tr>\n",
       "    <tr>\n",
       "      <th>17</th>\n",
       "      <td>medqa</td>\n",
       "      <td>train</td>\n",
       "      <td>{'question': 'A 68-year-old man comes to the p...</td>\n",
       "      <td>A 68-year-old man comes to the physician becau...</td>\n",
       "      <td>1</td>\n",
       "    </tr>\n",
       "  </tbody>\n",
       "</table>\n",
       "</div>"
      ],
      "text/plain": [
       "   dataset split_data                                           features  \\\n",
       "15   medqa      train  {'question': 'A 68-year-old man presents to th...   \n",
       "17   medqa      train  {'question': 'A 68-year-old man comes to the p...   \n",
       "\n",
       "                                                input  output  \n",
       "15  A 68-year-old man presents to the emergency de...       1  \n",
       "17  A 68-year-old man comes to the physician becau...       1  "
      ]
     },
     "execution_count": 4,
     "metadata": {},
     "output_type": "execute_result"
    }
   ],
   "source": [
    "diabetes.head(2)"
   ]
  },
  {
   "cell_type": "code",
   "execution_count": 5,
   "metadata": {},
   "outputs": [
    {
     "data": {
      "text/plain": [
       "dataset   split_data\n",
       "bionli    test            139\n",
       "          train           159\n",
       "          validation      357\n",
       "biorel    test            639\n",
       "          train          3004\n",
       "          validation      588\n",
       "chemdner  test            102\n",
       "          train           375\n",
       "          validation       43\n",
       "icliniq   test            105\n",
       "          train           221\n",
       "medal     test          18472\n",
       "          train         56258\n",
       "          validation    18716\n",
       "medmcqa   test             22\n",
       "          train           762\n",
       "          validation       15\n",
       "medqa     test            121\n",
       "          train          1025\n",
       "mfc       test             88\n",
       "          train           680\n",
       "pubmed    test            362\n",
       "          train          6062\n",
       "          validation      353\n",
       "pubmedqa  train          4073\n",
       "          validation      242\n",
       "Name: output, dtype: int64"
      ]
     },
     "execution_count": 5,
     "metadata": {},
     "output_type": "execute_result"
    }
   ],
   "source": [
    "diabetes.groupby(['dataset', 'split_data'])['output'].agg('count')"
   ]
  },
  {
   "cell_type": "code",
   "execution_count": 6,
   "metadata": {},
   "outputs": [],
   "source": [
    "from sklearn.model_selection import train_test_split\n",
    "\n",
    "def re_train_test_split_unique(dataframe, train_ratio=0.8):\n",
    "    new_rows = []\n",
    "\n",
    "    grouped = dataframe.groupby('dataset')\n",
    "\n",
    "    for dataset_name, group in grouped:\n",
    "        if dataset_name not in ['bionli', 'biorel', 'icliniq', 'medmcqa', 'medqa', 'pubmed', 'pubmedqa', 'chemdner', 'medal', 'mfc']:\n",
    "            continue\n",
    "\n",
    "        # 중복 제거\n",
    "        group = group.drop_duplicates(subset='features')\n",
    "\n",
    "        train_data, test_data = train_test_split(\n",
    "            group,\n",
    "            test_size=1-train_ratio,\n",
    "            random_state=42,\n",
    "        )\n",
    "\n",
    "        train_data = train_data.copy()\n",
    "        train_data['split_data'] = 'train'\n",
    "\n",
    "        test_data = test_data.copy()\n",
    "        test_data['split_data'] = 'test'\n",
    "\n",
    "        new_rows.append(train_data)\n",
    "        new_rows.append(test_data)\n",
    "\n",
    "    result_df = pd.concat(new_rows, ignore_index=True)\n",
    "    return result_df\n",
    "\n",
    "diabetes2 = re_train_test_split_unique(diabetes, train_ratio=0.85)"
   ]
  },
  {
   "cell_type": "code",
   "execution_count": 7,
   "metadata": {},
   "outputs": [
    {
     "data": {
      "text/plain": [
       "dataset   split_data\n",
       "bionli    test             78\n",
       "          train           439\n",
       "biorel    test            634\n",
       "          train          3592\n",
       "chemdner  test             79\n",
       "          train           441\n",
       "icliniq   test             42\n",
       "          train           237\n",
       "medal     test          14017\n",
       "          train         79429\n",
       "medmcqa   test            120\n",
       "          train           679\n",
       "medqa     test            172\n",
       "          train           974\n",
       "mfc       test             79\n",
       "          train           446\n",
       "pubmed    test           1016\n",
       "          train          5756\n",
       "pubmedqa  test            648\n",
       "          train          3667\n",
       "Name: output, dtype: int64"
      ]
     },
     "execution_count": 7,
     "metadata": {},
     "output_type": "execute_result"
    }
   ],
   "source": [
    "diabetes2.groupby(['dataset', 'split_data'])['output'].agg('count')"
   ]
  },
  {
   "cell_type": "code",
   "execution_count": 8,
   "metadata": {},
   "outputs": [
    {
     "data": {
      "text/plain": [
       "['25(OH)D(3)',\n",
       " 'calcium',\n",
       " 'vitamin D',\n",
       " 'aspartate',\n",
       " '25-hydroxyvitamin D(3)',\n",
       " 'cholesterol',\n",
       " 'triglycerides']"
      ]
     },
     "execution_count": 8,
     "metadata": {},
     "output_type": "execute_result"
    }
   ],
   "source": [
    "import ast\n",
    "ast.literal_eval(diabetes2[diabetes2['dataset']=='chemdner']['features'].iloc[1]).get('entities', None)"
   ]
  },
  {
   "cell_type": "code",
   "execution_count": 9,
   "metadata": {},
   "outputs": [
    {
     "data": {
      "text/plain": [
       "{'instruction': 'Answer this question truthfully',\n",
       " 'input': 'What are some treatment options for central diabetes insipidus?',\n",
       " 'output': 'Some treatment options for central diabetes insipidus include hydration and desmopressin, which is an ADH analog.',\n",
       " '__index_level_0__': 15260}"
      ]
     },
     "execution_count": 9,
     "metadata": {},
     "output_type": "execute_result"
    }
   ],
   "source": [
    "ast.literal_eval(diabetes2[diabetes2['dataset']=='mfc']['features'].iloc[5])"
   ]
  },
  {
   "cell_type": "code",
   "execution_count": 10,
   "metadata": {},
   "outputs": [],
   "source": [
    "import ast\n",
    "import pandas as pd\n",
    "\n",
    "def add_input_to_for_sampling(dataframe):\n",
    "    dataframe = dataframe.copy()\n",
    "    \n",
    "    # INPUT 값을 추출하여 새로운 컬럼에 추가\n",
    "    def extract_for_sampling(row):\n",
    "        if row['dataset'] == 'bionli':\n",
    "            features = ast.literal_eval(row['features']) \n",
    "            query = features.get('query', '') \n",
    "            input_text = query.split(\"INPUT: \")[1].split(\"[HYP]\")[0].strip() if \"INPUT: \" in query else None\n",
    "            answer = features.get('answer', None)\n",
    "            return {'input': input_text, 'output': answer}\n",
    "        elif row['dataset'] == 'mfc':\n",
    "            features = ast.literal_eval(row['features'])\n",
    "            input_text = features.get('input', None)\n",
    "            answer = features.get('output', None)\n",
    "            return {'input': input_text, 'output': answer}\n",
    "        elif row['dataset'] == 'chemdner':\n",
    "            features = ast.literal_eval(row['features'])\n",
    "            input_text = features.get('text', None)\n",
    "            answer = features.get('entities', None)\n",
    "            if isinstance(answer, list) and len(answer) > 0:\n",
    "                answer = answer[0]\n",
    "            else:\n",
    "                answer = ''\n",
    "            return {'input': input_text, 'output': answer}\n",
    "        elif row['dataset'] == 'medal':\n",
    "            features = ast.literal_eval(row['features'])\n",
    "            location = features['location'][0]\n",
    "            input_text = f\"Biomedical Term: {features.get('text', None).split(' ')[location]} \\nContext: {features.get('text', None)}\"\n",
    "            answer = features.get('label', None)[0]\n",
    "            return {'input': input_text, 'output': answer}\n",
    "        elif row['dataset'] == 'biorel':\n",
    "            features = ast.literal_eval(row['features'])\n",
    "            text = features.get('text', None)\n",
    "            relation = features.get('relation', None)\n",
    "            return {'input': text, 'output': relation}\n",
    "        elif row['dataset'] == 'icliniq':\n",
    "            features = ast.literal_eval(row['features'])\n",
    "            input_text = features.get('input', None)\n",
    "            answer_iclinq = features.get('answer_iclinq', None)\n",
    "            return {'input': input_text, 'output': answer_iclinq}\n",
    "        elif row['dataset'] == 'medmcqa':\n",
    "            features = ast.literal_eval(row['features'])\n",
    "            input_text = features.get('question', None)\n",
    "            answer = \", \".join([\n",
    "                features.get('opa', ''),\n",
    "                features.get('opb', ''),\n",
    "                features.get('opc', ''),\n",
    "                features.get('opd', ''),\n",
    "            ]).strip()\n",
    "            return {'input': input_text, 'output': answer}\n",
    "        elif row['dataset'] == 'medqa':\n",
    "            features = ast.literal_eval(row['features'])\n",
    "            input_text = features.get('question', None)\n",
    "            answer = features.get('answer', None)\n",
    "            return {'input': input_text, 'output': answer}\n",
    "        elif row['dataset'] == 'pubmed':\n",
    "            features = ast.literal_eval(row['features'])\n",
    "            input_text = features.get('article', None)\n",
    "            abstract = features.get('abstract', None)\n",
    "            return {'input': input_text, 'output': abstract}\n",
    "        elif row['dataset'] == 'pubmedqa':\n",
    "            features = ast.literal_eval(row['features'])\n",
    "            question = features.get('QUESTION', None)\n",
    "            answer = features.get('LONG_ANSWER', None)\n",
    "            return {'input': question, 'output': answer}\n",
    "\n",
    "    dataframe['for_sampling'] = dataframe.apply(extract_for_sampling, axis=1)\n",
    "\n",
    "    # chemdner 의 \"\" 비율 줄이기\n",
    "    chemdner_df = dataframe[dataframe['dataset'] == 'chemdner'].copy()\n",
    "    empty_outputs = chemdner_df[chemdner_df['for_sampling'].apply(lambda x: x['output'] == '')]\n",
    "    non_empty_outputs = chemdner_df[chemdner_df['for_sampling'].apply(lambda x: x['output'] != '')]\n",
    "    target_empty_size = int(len(non_empty_outputs) * 0.2 / 0.8) \n",
    "    sampled_empty_outputs = empty_outputs.sample(n=min(target_empty_size, len(empty_outputs)), random_state=42)\n",
    "    balanced_chemdner_df = pd.concat([non_empty_outputs, sampled_empty_outputs])\n",
    "    other_datasets = dataframe[dataframe['dataset'] != 'chemdner']\n",
    "    final_dataframe = pd.concat([other_datasets, balanced_chemdner_df])\n",
    "    \n",
    "    return final_dataframe\n",
    "\n",
    "diabetes3 = add_input_to_for_sampling(diabetes2)"
   ]
  },
  {
   "cell_type": "code",
   "execution_count": 11,
   "metadata": {},
   "outputs": [
    {
     "data": {
      "text/plain": [
       "85"
      ]
     },
     "execution_count": 11,
     "metadata": {},
     "output_type": "execute_result"
    }
   ],
   "source": [
    "len([v['output'] for v in diabetes3[diabetes3['dataset']=='chemdner']['for_sampling'].tolist() if v['output'] ==\"\"])"
   ]
  },
  {
   "cell_type": "code",
   "execution_count": 12,
   "metadata": {},
   "outputs": [
    {
     "data": {
      "text/html": [
       "<div>\n",
       "<style scoped>\n",
       "    .dataframe tbody tr th:only-of-type {\n",
       "        vertical-align: middle;\n",
       "    }\n",
       "\n",
       "    .dataframe tbody tr th {\n",
       "        vertical-align: top;\n",
       "    }\n",
       "\n",
       "    .dataframe thead th {\n",
       "        text-align: right;\n",
       "    }\n",
       "</style>\n",
       "<table border=\"1\" class=\"dataframe\">\n",
       "  <thead>\n",
       "    <tr style=\"text-align: right;\">\n",
       "      <th></th>\n",
       "      <th>dataset</th>\n",
       "      <th>split_data</th>\n",
       "      <th>features</th>\n",
       "      <th>input</th>\n",
       "      <th>output</th>\n",
       "      <th>for_sampling</th>\n",
       "    </tr>\n",
       "  </thead>\n",
       "  <tbody>\n",
       "    <tr>\n",
       "      <th>0</th>\n",
       "      <td>bionli</td>\n",
       "      <td>train</td>\n",
       "      <td>{'id': 'BioNLI32473710', 'query': '\\nTASK: Ple...</td>\n",
       "      <td>\\nTASK: Please classify the relationship betwe...</td>\n",
       "      <td>1</td>\n",
       "      <td>{'input': '[PRE] Endothelial injury is regarde...</td>\n",
       "    </tr>\n",
       "    <tr>\n",
       "      <th>1</th>\n",
       "      <td>bionli</td>\n",
       "      <td>train</td>\n",
       "      <td>{'id': 'BioNLI6357913', 'query': '\\nTASK: Plea...</td>\n",
       "      <td>\\nTASK: Please classify the relationship betwe...</td>\n",
       "      <td>1</td>\n",
       "      <td>{'input': '[PRE] Hepatic glucose production an...</td>\n",
       "    </tr>\n",
       "  </tbody>\n",
       "</table>\n",
       "</div>"
      ],
      "text/plain": [
       "  dataset split_data                                           features  \\\n",
       "0  bionli      train  {'id': 'BioNLI32473710', 'query': '\\nTASK: Ple...   \n",
       "1  bionli      train  {'id': 'BioNLI6357913', 'query': '\\nTASK: Plea...   \n",
       "\n",
       "                                               input  output  \\\n",
       "0  \\nTASK: Please classify the relationship betwe...       1   \n",
       "1  \\nTASK: Please classify the relationship betwe...       1   \n",
       "\n",
       "                                        for_sampling  \n",
       "0  {'input': '[PRE] Endothelial injury is regarde...  \n",
       "1  {'input': '[PRE] Hepatic glucose production an...  "
      ]
     },
     "execution_count": 12,
     "metadata": {},
     "output_type": "execute_result"
    }
   ],
   "source": [
    "diabetes3.head(2)"
   ]
  },
  {
   "cell_type": "code",
   "execution_count": 13,
   "metadata": {},
   "outputs": [
    {
     "data": {
      "text/html": [
       "<div>\n",
       "<style scoped>\n",
       "    .dataframe tbody tr th:only-of-type {\n",
       "        vertical-align: middle;\n",
       "    }\n",
       "\n",
       "    .dataframe tbody tr th {\n",
       "        vertical-align: top;\n",
       "    }\n",
       "\n",
       "    .dataframe thead th {\n",
       "        text-align: right;\n",
       "    }\n",
       "</style>\n",
       "<table border=\"1\" class=\"dataframe\">\n",
       "  <thead>\n",
       "    <tr style=\"text-align: right;\">\n",
       "      <th></th>\n",
       "      <th>dataset</th>\n",
       "      <th>split_data</th>\n",
       "      <th>features</th>\n",
       "      <th>input</th>\n",
       "      <th>output</th>\n",
       "      <th>for_sampling</th>\n",
       "    </tr>\n",
       "  </thead>\n",
       "  <tbody>\n",
       "    <tr>\n",
       "      <th>517</th>\n",
       "      <td>biorel</td>\n",
       "      <td>train</td>\n",
       "      <td>{'text': 'primary prevention of both insulin-d...</td>\n",
       "      <td>primary prevention of both insulin-dependent d...</td>\n",
       "      <td>1</td>\n",
       "      <td>{'input': 'primary prevention of both insulin-...</td>\n",
       "    </tr>\n",
       "    <tr>\n",
       "      <th>518</th>\n",
       "      <td>biorel</td>\n",
       "      <td>train</td>\n",
       "      <td>{'text': 'sera and immunoglobulin g from 10/10...</td>\n",
       "      <td>sera and immunoglobulin g from 10/104 diabetic...</td>\n",
       "      <td>1</td>\n",
       "      <td>{'input': 'sera and immunoglobulin g from 10/1...</td>\n",
       "    </tr>\n",
       "  </tbody>\n",
       "</table>\n",
       "</div>"
      ],
      "text/plain": [
       "    dataset split_data                                           features  \\\n",
       "517  biorel      train  {'text': 'primary prevention of both insulin-d...   \n",
       "518  biorel      train  {'text': 'sera and immunoglobulin g from 10/10...   \n",
       "\n",
       "                                                 input  output  \\\n",
       "517  primary prevention of both insulin-dependent d...       1   \n",
       "518  sera and immunoglobulin g from 10/104 diabetic...       1   \n",
       "\n",
       "                                          for_sampling  \n",
       "517  {'input': 'primary prevention of both insulin-...  \n",
       "518  {'input': 'sera and immunoglobulin g from 10/1...  "
      ]
     },
     "execution_count": 13,
     "metadata": {},
     "output_type": "execute_result"
    }
   ],
   "source": [
    "diabetes3[diabetes3['dataset']=='biorel'].head(2)"
   ]
  },
  {
   "cell_type": "code",
   "execution_count": 14,
   "metadata": {},
   "outputs": [
    {
     "data": {
      "text/plain": [
       "4226"
      ]
     },
     "execution_count": 14,
     "metadata": {},
     "output_type": "execute_result"
    }
   ],
   "source": [
    "len(diabetes3[diabetes3['dataset']=='biorel'])"
   ]
  },
  {
   "cell_type": "code",
   "execution_count": 15,
   "metadata": {},
   "outputs": [
    {
     "data": {
      "text/plain": [
       "112451"
      ]
     },
     "execution_count": 15,
     "metadata": {},
     "output_type": "execute_result"
    }
   ],
   "source": [
    "len(diabetes3)"
   ]
  },
  {
   "cell_type": "code",
   "execution_count": 16,
   "metadata": {},
   "outputs": [],
   "source": [
    "import pandas as pd\n",
    "import ast \n",
    "\n",
    "def filter_na_relations(dataframe):\n",
    "    def is_valid_relation(features_str):\n",
    "        try:\n",
    "            features_dict = ast.literal_eval(features_str)\n",
    "            return features_dict.get('relation') is not None and features_dict['relation'] != 'NA'\n",
    "        except Exception as e:\n",
    "            return False\n",
    "\n",
    "    biorel_filtered = dataframe[dataframe['dataset'] == 'biorel']\n",
    "    biorel_filtered = biorel_filtered[biorel_filtered['features'].apply(is_valid_relation)]\n",
    "\n",
    "    others = dataframe[dataframe['dataset'] != 'biorel']\n",
    "\n",
    "    result = pd.concat([biorel_filtered, others], ignore_index=True)\n",
    "    return result\n",
    "\n",
    "diabetes3 = filter_na_relations(diabetes3)\n"
   ]
  },
  {
   "cell_type": "code",
   "execution_count": 17,
   "metadata": {},
   "outputs": [
    {
     "data": {
      "text/plain": [
       "3550"
      ]
     },
     "execution_count": 17,
     "metadata": {},
     "output_type": "execute_result"
    }
   ],
   "source": [
    "len(diabetes3[diabetes3['dataset']=='biorel'])"
   ]
  },
  {
   "cell_type": "code",
   "execution_count": 18,
   "metadata": {},
   "outputs": [
    {
     "data": {
      "text/plain": [
       "111775"
      ]
     },
     "execution_count": 18,
     "metadata": {},
     "output_type": "execute_result"
    }
   ],
   "source": [
    "len(diabetes3)"
   ]
  },
  {
   "cell_type": "code",
   "execution_count": 19,
   "metadata": {},
   "outputs": [
    {
     "data": {
      "text/plain": [
       "\"{'text': 'primary prevention of both insulin-dependent diabetes mellitus ( iddm ) and niddm has become increasingly important because of their significant morbidity and mortality and the human and economic costs associated with diabetes and its complications .', 'relation': 'has_nichd_parent', 'h': {'id': 'C0011854', 'name': 'insulin-dependent', 'pos': [27, 44]}, 't': {'id': 'C0011849', 'name': 'niddm', 'pos': [76, 81]}}\""
      ]
     },
     "execution_count": 19,
     "metadata": {},
     "output_type": "execute_result"
    }
   ],
   "source": [
    "diabetes3[diabetes3['dataset']=='biorel']['features'].iloc[0]"
   ]
  },
  {
   "cell_type": "code",
   "execution_count": 20,
   "metadata": {},
   "outputs": [
    {
     "data": {
      "text/plain": [
       "111775"
      ]
     },
     "execution_count": 20,
     "metadata": {},
     "output_type": "execute_result"
    }
   ],
   "source": [
    "len(diabetes3)"
   ]
  },
  {
   "cell_type": "code",
   "execution_count": 21,
   "metadata": {},
   "outputs": [
    {
     "name": "stderr",
     "output_type": "stream",
     "text": [
      "/data/jaesung/anaconda3/envs/faiss_gpu/lib/python3.9/site-packages/tqdm/auto.py:21: TqdmWarning: IProgress not found. Please update jupyter and ipywidgets. See https://ipywidgets.readthedocs.io/en/stable/user_install.html\n",
      "  from .autonotebook import tqdm as notebook_tqdm\n"
     ]
    },
    {
     "name": "stdout",
     "output_type": "stream",
     "text": [
      "Loading SentenceTransformer model on GPU...\n"
     ]
    },
    {
     "name": "stderr",
     "output_type": "stream",
     "text": [
      "Processing datasets:   0%|          | 0/9 [00:00<?, ?it/s]"
     ]
    },
    {
     "name": "stdout",
     "output_type": "stream",
     "text": [
      "Generating embeddings for dataset: bionli (439 rows)\n"
     ]
    },
    {
     "name": "stderr",
     "output_type": "stream",
     "text": [
      "Batches: 100%|██████████| 1/1 [00:01<00:00,  1.03s/it]\n"
     ]
    },
    {
     "name": "stdout",
     "output_type": "stream",
     "text": [
      "Embedding generation took 1.08 seconds for 439 rows\n",
      "Applying MMR for dataset: bionli\n"
     ]
    },
    {
     "name": "stderr",
     "output_type": "stream",
     "text": [
      "Processing datasets:  11%|█         | 1/9 [00:01<00:10,  1.33s/it]"
     ]
    },
    {
     "name": "stdout",
     "output_type": "stream",
     "text": [
      "Generating embeddings for dataset: mfc (446 rows)\n"
     ]
    },
    {
     "name": "stderr",
     "output_type": "stream",
     "text": [
      "Batches: 100%|██████████| 1/1 [00:00<00:00,  3.06it/s]\n"
     ]
    },
    {
     "name": "stdout",
     "output_type": "stream",
     "text": [
      "Embedding generation took 0.38 seconds for 446 rows\n",
      "Applying MMR for dataset: mfc\n"
     ]
    },
    {
     "name": "stderr",
     "output_type": "stream",
     "text": [
      "Processing datasets:  22%|██▏       | 2/9 [00:01<00:06,  1.07it/s]"
     ]
    },
    {
     "name": "stdout",
     "output_type": "stream",
     "text": [
      "Generating embeddings for dataset: chemdner (367 rows)\n"
     ]
    },
    {
     "name": "stderr",
     "output_type": "stream",
     "text": [
      "Batches: 100%|██████████| 1/1 [00:00<00:00,  3.91it/s]\n",
      "Processing datasets:  33%|███▎      | 3/9 [00:02<00:04,  1.33it/s]"
     ]
    },
    {
     "name": "stdout",
     "output_type": "stream",
     "text": [
      "Embedding generation took 0.33 seconds for 367 rows\n",
      "Applying MMR for dataset: chemdner\n",
      "Generating embeddings for dataset: icliniq (237 rows)\n"
     ]
    },
    {
     "name": "stderr",
     "output_type": "stream",
     "text": [
      "Batches: 100%|██████████| 1/1 [00:00<00:00,  5.41it/s]\n",
      "Processing datasets:  44%|████▍     | 4/9 [00:02<00:02,  1.73it/s]"
     ]
    },
    {
     "name": "stdout",
     "output_type": "stream",
     "text": [
      "Embedding generation took 0.21 seconds for 237 rows\n",
      "Applying MMR for dataset: icliniq\n",
      "Generating embeddings for dataset: medal (79429 rows)\n"
     ]
    },
    {
     "name": "stderr",
     "output_type": "stream",
     "text": [
      "Batches: 100%|██████████| 20/20 [00:50<00:00,  2.51s/it]\n"
     ]
    },
    {
     "name": "stdout",
     "output_type": "stream",
     "text": [
      "Embedding generation took 56.28 seconds for 79429 rows\n",
      "Applying MMR for dataset: medal\n"
     ]
    },
    {
     "name": "stderr",
     "output_type": "stream",
     "text": [
      "Processing datasets:  56%|█████▌    | 5/9 [17:21<24:59, 374.87s/it]"
     ]
    },
    {
     "name": "stdout",
     "output_type": "stream",
     "text": [
      "Generating embeddings for dataset: medmcqa (679 rows)\n"
     ]
    },
    {
     "name": "stderr",
     "output_type": "stream",
     "text": [
      "Batches: 100%|██████████| 1/1 [00:00<00:00,  2.10it/s]\n"
     ]
    },
    {
     "name": "stdout",
     "output_type": "stream",
     "text": [
      "Embedding generation took 0.50 seconds for 679 rows\n",
      "Applying MMR for dataset: medmcqa\n"
     ]
    },
    {
     "name": "stderr",
     "output_type": "stream",
     "text": [
      "Processing datasets:  67%|██████▋   | 6/9 [17:22<12:23, 247.86s/it]"
     ]
    },
    {
     "name": "stdout",
     "output_type": "stream",
     "text": [
      "Generating embeddings for dataset: medqa (974 rows)\n"
     ]
    },
    {
     "name": "stderr",
     "output_type": "stream",
     "text": [
      "Batches: 100%|██████████| 1/1 [00:00<00:00,  1.59it/s]\n"
     ]
    },
    {
     "name": "stdout",
     "output_type": "stream",
     "text": [
      "Embedding generation took 0.70 seconds for 974 rows\n",
      "Applying MMR for dataset: medqa\n"
     ]
    },
    {
     "name": "stderr",
     "output_type": "stream",
     "text": [
      "Processing datasets:  78%|███████▊  | 7/9 [17:24<05:34, 167.45s/it]"
     ]
    },
    {
     "name": "stdout",
     "output_type": "stream",
     "text": [
      "Generating embeddings for dataset: pubmedqa (3667 rows)\n"
     ]
    },
    {
     "name": "stderr",
     "output_type": "stream",
     "text": [
      "Batches: 100%|██████████| 1/1 [00:02<00:00,  2.20s/it]\n"
     ]
    },
    {
     "name": "stdout",
     "output_type": "stream",
     "text": [
      "Embedding generation took 2.32 seconds for 3667 rows\n",
      "Applying MMR for dataset: pubmedqa\n"
     ]
    },
    {
     "name": "stderr",
     "output_type": "stream",
     "text": [
      "Processing datasets:  89%|████████▉ | 8/9 [17:40<01:59, 119.08s/it]"
     ]
    },
    {
     "name": "stdout",
     "output_type": "stream",
     "text": [
      "Generating embeddings for dataset: pubmed (5756 rows)\n"
     ]
    },
    {
     "name": "stderr",
     "output_type": "stream",
     "text": [
      "Batches: 100%|██████████| 2/2 [00:09<00:00,  4.94s/it]\n"
     ]
    },
    {
     "name": "stdout",
     "output_type": "stream",
     "text": [
      "Embedding generation took 16.03 seconds for 5756 rows\n",
      "Applying MMR for dataset: pubmed\n"
     ]
    },
    {
     "name": "stderr",
     "output_type": "stream",
     "text": [
      "Processing datasets: 100%|██████████| 9/9 [18:39<00:00, 124.34s/it]\n"
     ]
    },
    {
     "name": "stdout",
     "output_type": "stream",
     "text": [
      "  dataset split_data                                           features  \\\n",
      "0  bionli      train  {'id': 'BioNLI18619553', 'query': '\\nTASK: Ple...   \n",
      "1  bionli      train  {'id': 'BioNLI21146692', 'query': \"\\nTASK: Ple...   \n",
      "2  bionli      train  {'id': 'BioNLI25180937', 'query': '\\nTASK: Ple...   \n",
      "3  bionli      train  {'id': 'BioNLI11849256', 'query': '\\nTASK: Ple...   \n",
      "4  bionli      train  {'id': 'BioNLI10591418', 'query': '\\nTASK: Ple...   \n",
      "\n",
      "                                               input  output  \\\n",
      "0  \\nTASK: Please classify the relationship betwe...       1   \n",
      "1  \\nTASK: Please classify the relationship betwe...       1   \n",
      "2  \\nTASK: Please classify the relationship betwe...       1   \n",
      "3  \\nTASK: Please classify the relationship betwe...       1   \n",
      "4  \\nTASK: Please classify the relationship betwe...       1   \n",
      "\n",
      "                                        for_sampling  \n",
      "0  {'input': '[PRE] Previously, we demonstrated t...  \n",
      "1  {'input': '[PRE] A risk score for atrial fibri...  \n",
      "2  {'input': '[PRE] It is well known the particip...  \n",
      "3  {'input': '[PRE] A 32-year-old woman presented...  \n",
      "4  {'input': '[PRE] The main objective of this st...  \n",
      "총 샘플링된 행 수: 11342\n"
     ]
    }
   ],
   "source": [
    "import os\n",
    "import pandas as pd\n",
    "import numpy as np\n",
    "import time\n",
    "from sentence_transformers import SentenceTransformer\n",
    "import faiss\n",
    "from tqdm import tqdm\n",
    "import random\n",
    "import torch\n",
    "\n",
    "os.environ[\"CUDA_VISIBLE_DEVICES\"] = \"0\"\n",
    "\n",
    "def set_seed(seed=42):\n",
    "    random.seed(seed)\n",
    "    np.random.seed(seed)\n",
    "    torch.manual_seed(seed)\n",
    "    if torch.cuda.is_available():\n",
    "        torch.cuda.manual_seed_all(seed)\n",
    "\n",
    "def mmr(query_embedding, doc_embeddings, diversity, top_n):\n",
    "    faiss.normalize_L2(doc_embeddings)\n",
    "    faiss.normalize_L2(query_embedding.reshape(1, -1))\n",
    "\n",
    "    selected_indices = []\n",
    "    candidate_indices = list(range(len(doc_embeddings)))\n",
    "\n",
    "    for _ in range(top_n):\n",
    "        if not candidate_indices:\n",
    "            break\n",
    "\n",
    "        if len(selected_indices) == 0:\n",
    "            selected_idx = candidate_indices[np.argmax(np.dot(doc_embeddings[candidate_indices], query_embedding.T))]\n",
    "        else:\n",
    "            selected_embeddings = doc_embeddings[selected_indices]\n",
    "            similarity_to_selected = np.dot(doc_embeddings[candidate_indices], selected_embeddings.T)\n",
    "            diversity_scores = np.max(similarity_to_selected, axis=1)\n",
    "            relevance_scores = np.dot(doc_embeddings[candidate_indices], query_embedding.T).flatten()\n",
    "            mmr_scores = (1 - diversity) * relevance_scores - diversity * diversity_scores\n",
    "            selected_idx = candidate_indices[np.argmax(mmr_scores)]\n",
    "\n",
    "        selected_indices.append(selected_idx)\n",
    "        candidate_indices.remove(selected_idx)\n",
    "\n",
    "    return selected_indices\n",
    "\n",
    "def mmr_sampling(dataframe, sampling_dict, embedding_model='all-MiniLM-L6-v2', batch_size=64, diversity=0.7, seed=42):\n",
    "    set_seed(seed)\n",
    "\n",
    "    print(\"Loading SentenceTransformer model on GPU...\")\n",
    "    model = SentenceTransformer(embedding_model, device=\"cuda:0\")\n",
    "\n",
    "    sampled_rows = []\n",
    "\n",
    "    for dataset_name, sample_count in tqdm(sampling_dict.items(), desc=\"Processing datasets\"):\n",
    "        subset = dataframe[(dataframe['dataset'] == dataset_name) & (dataframe['split_data'] == 'train')].copy()\n",
    "        num_rows = len(subset)\n",
    "        if num_rows == 0:\n",
    "            print(f\"No data found for dataset: {dataset_name}\")\n",
    "            continue\n",
    "\n",
    "        print(f\"Generating embeddings for dataset: {dataset_name} ({num_rows} rows)\")\n",
    "        start_time = time.time()\n",
    "\n",
    "        embeddings = model.encode(\n",
    "            subset['for_sampling'].astype(str).tolist(),\n",
    "            batch_size=batch_size,\n",
    "            convert_to_numpy=True,\n",
    "            show_progress_bar=True\n",
    "        )\n",
    "\n",
    "        elapsed_time = time.time() - start_time\n",
    "        print(f\"Embedding generation took {elapsed_time:.2f} seconds for {num_rows} rows\")\n",
    "\n",
    "        query_embedding = np.mean(embeddings, axis=0)\n",
    "\n",
    "        print(f\"Applying MMR for dataset: {dataset_name}\")\n",
    "        selected_indices = mmr(query_embedding, embeddings, diversity, sample_count)\n",
    "        sampled_subset = subset.iloc[selected_indices]\n",
    "        sampled_rows.append(sampled_subset)\n",
    "\n",
    "    return pd.concat(sampled_rows, ignore_index=True)\n",
    "\n",
    "# 샘플링 설정\n",
    "sampling_config = {\n",
    "    'bionli': 439,\n",
    "    'mfc': 446,\n",
    "    'chemdner': 441, \n",
    "    'icliniq': 237,\n",
    "    'medal': 3000,\n",
    "    'medmcqa': 679,\n",
    "    'medqa': 974,\n",
    "    'pubmedqa': 2000,\n",
    "    'pubmed': 3200,\n",
    "}\n",
    "\n",
    "set_seed(42)\n",
    "\n",
    "# 샘플링 실행\n",
    "sampled_train = mmr_sampling(diabetes3, sampling_config, batch_size=4096, diversity=0.7, seed=42)\n",
    "\n",
    "# 결과 확인\n",
    "print(sampled_train.head())\n",
    "print(f\"총 샘플링된 행 수: {len(sampled_train)}\")\n",
    "\n",
    "# 결과 저장\n",
    "sampled_train.to_csv(\"final_combined_train_sample.csv\")\n"
   ]
  },
  {
   "cell_type": "code",
   "execution_count": 22,
   "metadata": {},
   "outputs": [
    {
     "name": "stdout",
     "output_type": "stream",
     "text": [
      "Loading SentenceTransformer model on GPU...\n"
     ]
    },
    {
     "name": "stderr",
     "output_type": "stream",
     "text": [
      "Processing datasets:   0%|          | 0/9 [00:00<?, ?it/s]"
     ]
    },
    {
     "name": "stdout",
     "output_type": "stream",
     "text": [
      "Generating embeddings for dataset: bionli (78 rows)\n"
     ]
    },
    {
     "name": "stderr",
     "output_type": "stream",
     "text": [
      "Batches: 100%|██████████| 1/1 [00:00<00:00, 11.08it/s]\n",
      "Processing datasets:  11%|█         | 1/9 [00:00<00:01,  7.63it/s]"
     ]
    },
    {
     "name": "stdout",
     "output_type": "stream",
     "text": [
      "Embedding generation took 0.10 seconds for 78 rows\n",
      "Applying MMR for dataset: bionli\n",
      "Generating embeddings for dataset: mfc (79 rows)\n"
     ]
    },
    {
     "name": "stderr",
     "output_type": "stream",
     "text": [
      "Batches: 100%|██████████| 1/1 [00:00<00:00, 12.73it/s]\n",
      "Processing datasets:  22%|██▏       | 2/9 [00:00<00:00,  8.18it/s]"
     ]
    },
    {
     "name": "stdout",
     "output_type": "stream",
     "text": [
      "Embedding generation took 0.09 seconds for 79 rows\n",
      "Applying MMR for dataset: mfc\n",
      "Generating embeddings for dataset: chemdner (59 rows)\n"
     ]
    },
    {
     "name": "stderr",
     "output_type": "stream",
     "text": [
      "Batches: 100%|██████████| 1/1 [00:00<00:00, 15.35it/s]\n"
     ]
    },
    {
     "name": "stdout",
     "output_type": "stream",
     "text": [
      "Embedding generation took 0.08 seconds for 59 rows\n",
      "Applying MMR for dataset: chemdner\n",
      "Generating embeddings for dataset: icliniq (42 rows)\n"
     ]
    },
    {
     "name": "stderr",
     "output_type": "stream",
     "text": [
      "Batches: 100%|██████████| 1/1 [00:00<00:00, 21.43it/s]\n"
     ]
    },
    {
     "name": "stdout",
     "output_type": "stream",
     "text": [
      "Embedding generation took 0.06 seconds for 42 rows\n",
      "Applying MMR for dataset: icliniq\n"
     ]
    },
    {
     "name": "stderr",
     "output_type": "stream",
     "text": [
      "Processing datasets:  44%|████▍     | 4/9 [00:00<00:00,  9.52it/s]"
     ]
    },
    {
     "name": "stdout",
     "output_type": "stream",
     "text": [
      "Generating embeddings for dataset: medal (14017 rows)\n"
     ]
    },
    {
     "name": "stderr",
     "output_type": "stream",
     "text": [
      "Batches: 100%|██████████| 4/4 [00:09<00:00,  2.26s/it]\n"
     ]
    },
    {
     "name": "stdout",
     "output_type": "stream",
     "text": [
      "Embedding generation took 10.11 seconds for 14017 rows\n",
      "Applying MMR for dataset: medal\n"
     ]
    },
    {
     "name": "stderr",
     "output_type": "stream",
     "text": [
      "Processing datasets:  56%|█████▌    | 5/9 [00:22<00:27,  6.91s/it]"
     ]
    },
    {
     "name": "stdout",
     "output_type": "stream",
     "text": [
      "Generating embeddings for dataset: medmcqa (120 rows)\n"
     ]
    },
    {
     "name": "stderr",
     "output_type": "stream",
     "text": [
      "Batches: 100%|██████████| 1/1 [00:00<00:00,  7.75it/s]\n",
      "Processing datasets:  67%|██████▋   | 6/9 [00:22<00:14,  4.86s/it]"
     ]
    },
    {
     "name": "stdout",
     "output_type": "stream",
     "text": [
      "Embedding generation took 0.14 seconds for 120 rows\n",
      "Applying MMR for dataset: medmcqa\n",
      "Generating embeddings for dataset: medqa (172 rows)\n"
     ]
    },
    {
     "name": "stderr",
     "output_type": "stream",
     "text": [
      "Batches: 100%|██████████| 1/1 [00:00<00:00,  5.35it/s]\n",
      "Processing datasets:  78%|███████▊  | 7/9 [00:23<00:06,  3.47s/it]"
     ]
    },
    {
     "name": "stdout",
     "output_type": "stream",
     "text": [
      "Embedding generation took 0.21 seconds for 172 rows\n",
      "Applying MMR for dataset: medqa\n",
      "Generating embeddings for dataset: pubmedqa (648 rows)\n"
     ]
    },
    {
     "name": "stderr",
     "output_type": "stream",
     "text": [
      "Batches: 100%|██████████| 1/1 [00:00<00:00,  2.48it/s]\n"
     ]
    },
    {
     "name": "stdout",
     "output_type": "stream",
     "text": [
      "Embedding generation took 0.45 seconds for 648 rows\n",
      "Applying MMR for dataset: pubmedqa\n"
     ]
    },
    {
     "name": "stderr",
     "output_type": "stream",
     "text": [
      "Processing datasets:  89%|████████▉ | 8/9 [00:23<00:02,  2.68s/it]"
     ]
    },
    {
     "name": "stdout",
     "output_type": "stream",
     "text": [
      "Generating embeddings for dataset: pubmed (1016 rows)\n"
     ]
    },
    {
     "name": "stderr",
     "output_type": "stream",
     "text": [
      "Batches: 100%|██████████| 1/1 [00:01<00:00,  1.86s/it]\n"
     ]
    },
    {
     "name": "stdout",
     "output_type": "stream",
     "text": [
      "Embedding generation took 3.09 seconds for 1016 rows\n",
      "Applying MMR for dataset: pubmed\n"
     ]
    },
    {
     "name": "stderr",
     "output_type": "stream",
     "text": [
      "Processing datasets: 100%|██████████| 9/9 [00:27<00:00,  3.10s/it]\n"
     ]
    },
    {
     "name": "stdout",
     "output_type": "stream",
     "text": [
      "  dataset split_data                                           features  \\\n",
      "0  bionli       test  {'id': 'BioNLI2523305', 'query': '\\nTASK: Plea...   \n",
      "1  bionli       test  {'id': 'BioNLI27261558', 'query': '\\nTASK: Ple...   \n",
      "2  bionli       test  {'id': 'BioNLI29566115', 'query': '\\nTASK: Ple...   \n",
      "3  bionli       test  {'id': 'BioNLI19605952', 'query': '\\nTASK: Ple...   \n",
      "4  bionli       test  {'id': 'BioNLI20861020', 'query': '\\nTASK: Ple...   \n",
      "\n",
      "                                               input  output  \\\n",
      "0  \\nTASK: Please classify the relationship betwe...       1   \n",
      "1  \\nTASK: Please classify the relationship betwe...       1   \n",
      "2  \\nTASK: Please classify the relationship betwe...       1   \n",
      "3  \\nTASK: Please classify the relationship betwe...       1   \n",
      "4  \\nTASK: Please classify the relationship betwe...       1   \n",
      "\n",
      "                                        for_sampling  \n",
      "0  {'input': '[PRE] To determine the role of hypo...  \n",
      "1  {'input': '[PRE] The excessive or prolonged pr...  \n",
      "2  {'input': '[PRE] Endothelial malfunctions in p...  \n",
      "3  {'input': '[PRE] The aim of this investigation...  \n",
      "4  {'input': '[PRE] Uncoupling of NO production f...  \n",
      "총 샘플링된 행 수: 2190\n"
     ]
    }
   ],
   "source": [
    "import os\n",
    "import pandas as pd\n",
    "import numpy as np\n",
    "import time\n",
    "from sentence_transformers import SentenceTransformer\n",
    "import faiss\n",
    "from tqdm import tqdm\n",
    "import random\n",
    "import torch\n",
    "\n",
    "os.environ[\"CUDA_VISIBLE_DEVICES\"] = \"0\"\n",
    "\n",
    "def set_seed(seed=42):\n",
    "    random.seed(seed)\n",
    "    np.random.seed(seed)\n",
    "    torch.manual_seed(seed)\n",
    "    if torch.cuda.is_available():\n",
    "        torch.cuda.manual_seed_all(seed)\n",
    "\n",
    "def mmr(query_embedding, doc_embeddings, diversity, top_n):\n",
    "    faiss.normalize_L2(doc_embeddings)\n",
    "    faiss.normalize_L2(query_embedding.reshape(1, -1))\n",
    "\n",
    "    selected_indices = []\n",
    "    candidate_indices = list(range(len(doc_embeddings)))\n",
    "\n",
    "    for _ in range(top_n):\n",
    "        if not candidate_indices:\n",
    "            break\n",
    "\n",
    "        if len(selected_indices) == 0:\n",
    "            selected_idx = candidate_indices[np.argmax(np.dot(doc_embeddings[candidate_indices], query_embedding.T))]\n",
    "        else:\n",
    "            selected_embeddings = doc_embeddings[selected_indices]\n",
    "            similarity_to_selected = np.dot(doc_embeddings[candidate_indices], selected_embeddings.T)\n",
    "            diversity_scores = np.max(similarity_to_selected, axis=1)\n",
    "            relevance_scores = np.dot(doc_embeddings[candidate_indices], query_embedding.T).flatten()\n",
    "            mmr_scores = (1 - diversity) * relevance_scores - diversity * diversity_scores\n",
    "            selected_idx = candidate_indices[np.argmax(mmr_scores)]\n",
    "\n",
    "        selected_indices.append(selected_idx)\n",
    "        candidate_indices.remove(selected_idx)\n",
    "\n",
    "    return selected_indices\n",
    "\n",
    "def mmr_sampling(dataframe, sampling_dict, embedding_model='all-MiniLM-L6-v2', batch_size=64, diversity=0.7, seed=42):\n",
    "    set_seed(seed)\n",
    "\n",
    "    print(\"Loading SentenceTransformer model on GPU...\")\n",
    "    model = SentenceTransformer(embedding_model, device=\"cuda:0\")\n",
    "\n",
    "    sampled_rows = []\n",
    "\n",
    "    for dataset_name, sample_count in tqdm(sampling_dict.items(), desc=\"Processing datasets\"):\n",
    "        subset = dataframe[(dataframe['dataset'] == dataset_name) & (dataframe['split_data'] == 'test')].copy()\n",
    "        num_rows = len(subset)\n",
    "        if num_rows == 0:\n",
    "            print(f\"No data found for dataset: {dataset_name}\")\n",
    "            continue\n",
    "\n",
    "        print(f\"Generating embeddings for dataset: {dataset_name} ({num_rows} rows)\")\n",
    "        start_time = time.time()\n",
    "\n",
    "        embeddings = model.encode(\n",
    "            subset['for_sampling'].astype(str).tolist(),\n",
    "            batch_size=batch_size,\n",
    "            convert_to_numpy=True,\n",
    "            show_progress_bar=True\n",
    "        )\n",
    "\n",
    "        elapsed_time = time.time() - start_time\n",
    "        print(f\"Embedding generation took {elapsed_time:.2f} seconds for {num_rows} rows\")\n",
    "\n",
    "        query_embedding = np.mean(embeddings, axis=0)\n",
    "\n",
    "        print(f\"Applying MMR for dataset: {dataset_name}\")\n",
    "        selected_indices = mmr(query_embedding, embeddings, diversity, sample_count)\n",
    "        sampled_subset = subset.iloc[selected_indices]\n",
    "        sampled_rows.append(sampled_subset)\n",
    "\n",
    "    return pd.concat(sampled_rows, ignore_index=True)\n",
    "\n",
    "# 샘플링 설정\n",
    "sampling_config = {\n",
    "    'bionli': 78,\n",
    "    'mfc': 79,\n",
    "    'chemdner': 79, \n",
    "    'icliniq': 42,\n",
    "    'medal': 600,\n",
    "    'medmcqa': 120,\n",
    "    'medqa': 172,\n",
    "    'pubmedqa': 400,\n",
    "    'pubmed': 640,\n",
    "}\n",
    "\n",
    "set_seed(42)\n",
    "\n",
    "# 샘플링 실행\n",
    "sampled_test = mmr_sampling(diabetes3, sampling_config, batch_size=4096, diversity=0.7, seed=42)\n",
    "\n",
    "# 결과 확인\n",
    "print(sampled_test.head())\n",
    "print(f\"총 샘플링된 행 수: {len(sampled_test)}\")\n",
    "\n",
    "# 결과 저장\n",
    "sampled_test.to_csv(\"final_combined_test_sample.csv\")\n"
   ]
  },
  {
   "cell_type": "code",
   "execution_count": null,
   "metadata": {},
   "outputs": [],
   "source": []
  },
  {
   "cell_type": "code",
   "execution_count": 23,
   "metadata": {},
   "outputs": [],
   "source": [
    "import pandas as pd\n",
    "\n",
    "final_combined_train_sample = pd.read_csv(\"/data/jaesung/llm_for_diabetes/src/data/data1_diabetes/final_combined_train_sample.csv\")\n",
    "final_combined_test_sample = pd.read_csv(\"/data/jaesung/llm_for_diabetes/src/data/data1_diabetes/final_combined_test_sample.csv\")"
   ]
  },
  {
   "cell_type": "code",
   "execution_count": 24,
   "metadata": {},
   "outputs": [
    {
     "name": "stdout",
     "output_type": "stream",
     "text": [
      "Train/Test 겹치는 feature 개수: 0\n"
     ]
    }
   ],
   "source": [
    "# 중복 제거 후 겹치는 개수 확인\n",
    "train_unique = final_combined_train_sample.drop_duplicates(subset='features')\n",
    "test_unique = final_combined_test_sample.drop_duplicates(subset='features')\n",
    "\n",
    "# train/test 겹치는 개수 계산\n",
    "overlapping_count = len(pd.merge(train_unique, test_unique, on='features'))\n",
    "print(f\"Train/Test 겹치는 feature 개수: {overlapping_count}\")\n"
   ]
  },
  {
   "cell_type": "code",
   "execution_count": 32,
   "metadata": {},
   "outputs": [],
   "source": [
    "import numpy as np\n",
    "\n",
    "final_combined_train_sample['task'] = None\n",
    "\n",
    "# bionli\n",
    "final_combined_train_sample.loc[final_combined_train_sample['dataset'] == 'bionli', 'task'] = 'nli'\n",
    "\n",
    "# mfc\n",
    "final_combined_train_sample.loc[final_combined_train_sample['dataset'] == 'mfc', 'task'] = 'qa_subjective'\n",
    "\n",
    "# chemdner\n",
    "final_combined_train_sample.loc[final_combined_train_sample['dataset'] == 'chemdner', 'task'] = 'ner'\n",
    "\n",
    "# medal\n",
    "final_combined_train_sample.loc[final_combined_train_sample['dataset'] == 'medal', 'task'] = 'ned'\n",
    "\n",
    "# # biorel\n",
    "# biorel_indices = final_combined_train_sample[final_combined_train_sample['dataset'] == 'biorel'].index\n",
    "# biorel_splits = np.array_split(biorel_indices, 1)\n",
    "\n",
    "# biorel_tasks = [\n",
    "#     'ie_extract_relation',\n",
    "#     # 'ie_classify_relation',\n",
    "#     # 'ie_identify_relation_exist',\n",
    "#     # 'ie_generate_relation_pair'\n",
    "# ]\n",
    "\n",
    "# for split, task in zip(biorel_splits, biorel_tasks):\n",
    "#     final_combined_train_sample.loc[split, 'task'] = task\n",
    "\n",
    "# icliniq\n",
    "final_combined_train_sample.loc[final_combined_train_sample['dataset'] == 'icliniq', 'task'] = 'generation'\n",
    "\n",
    "# medqa\n",
    "final_combined_train_sample.loc[final_combined_train_sample['dataset'] == 'medqa', 'task'] = 'qa_objective_1'\n",
    "\n",
    "# medmcqa\n",
    "final_combined_train_sample.loc[final_combined_train_sample['dataset'] == 'medmcqa', 'task'] = 'qa_objective_2'\n",
    "\n",
    "# pubmedqa\n",
    "final_combined_train_sample.loc[final_combined_train_sample['dataset'] == 'pubmedqa', 'task'] = 'qa_objective_3'\n",
    "\n",
    "# pubmed\n",
    "final_combined_train_sample.loc[final_combined_train_sample['dataset'] == 'pubmed', 'task'] = 'summarization'"
   ]
  },
  {
   "cell_type": "code",
   "execution_count": 33,
   "metadata": {},
   "outputs": [],
   "source": [
    "import numpy as np\n",
    "\n",
    "final_combined_test_sample['task'] = None\n",
    "\n",
    "# bionli\n",
    "final_combined_test_sample.loc[final_combined_test_sample['dataset'] == 'bionli', 'task'] = 'nli' \n",
    "\n",
    "# mfc\n",
    "final_combined_test_sample.loc[final_combined_test_sample['dataset'] == 'mfc', 'task'] = 'qa_subjective'\n",
    "\n",
    "# chemdner\n",
    "final_combined_test_sample.loc[final_combined_test_sample['dataset'] == 'chemdner', 'task'] = 'ner'\n",
    "\n",
    "# medal\n",
    "final_combined_test_sample.loc[final_combined_test_sample['dataset'] == 'medal', 'task'] = 'ned'\n",
    "\n",
    "# # biorel\n",
    "# biorel_indices = final_combined_test_sample[final_combined_test_sample['dataset'] == 'biorel'].index\n",
    "# biorel_splits = np.array_split(biorel_indices, 1)\n",
    "\n",
    "# biorel_tasks = [\n",
    "#     'ie_extract_relation',\n",
    "#     # 'ie_classify_relation',\n",
    "#     # 'ie_identify_relation_exist',\n",
    "#     # 'ie_generate_relation_pair'\n",
    "# ]\n",
    "\n",
    "# for split, task in zip(biorel_splits, biorel_tasks):\n",
    "#     final_combined_test_sample.loc[split, 'task'] = task\n",
    "\n",
    "# icliniq\n",
    "final_combined_test_sample.loc[final_combined_test_sample['dataset'] == 'icliniq', 'task'] = 'generation'\n",
    "\n",
    "# medqa\n",
    "final_combined_test_sample.loc[final_combined_test_sample['dataset'] == 'medqa', 'task'] = 'qa_objective_1'\n",
    "\n",
    "# medmcqa\n",
    "final_combined_test_sample.loc[final_combined_test_sample['dataset'] == 'medmcqa', 'task'] = 'qa_objective_2'\n",
    "\n",
    "# pubmedqa\n",
    "final_combined_test_sample.loc[final_combined_test_sample['dataset'] == 'pubmedqa', 'task'] = 'qa_objective_3'\n",
    "\n",
    "# pubmed\n",
    "final_combined_test_sample.loc[final_combined_test_sample['dataset'] == 'pubmed', 'task'] = 'summarization'\n"
   ]
  },
  {
   "cell_type": "code",
   "execution_count": 34,
   "metadata": {},
   "outputs": [
    {
     "data": {
      "text/plain": [
       "\"{'abstract_id': 13669467, 'text': 'orf is caused by the orf virus orfv and is a nonsystemic widespread disease afflicting sheep goats wild ruminants and humans recent outbreaks in sheep and goats in jilin and other RNA chinese provinces raise concerns about orf control in china thirtyfive hybridoma clones were constructed from splenocytes of balbc mice immunized with NK OV protein these hybridomas were used to produce antibodies targeting orfv proteins immunological characterization of these monoclonal antibodies mab showed that the fd hybridoma line produced mab that can recognize the and kda bands from total viral lysate this hybridoma was further characterized by immunoprecipitation and peptide sequencing the results indicate that fd specifically recognizes OV encoded protein orfv a late expression virion core protein that plays important roles in progeny virus particle assembly morphogenesis and maturity further experiments demonstrate that this mab did not react with other viral proteins of orfv orthopoxviruses but reacted strongly to different field isolates of orf viruses from china additionally this antiorfv mab possesses orfv NT capability CS alignments and phylogenetic analysis determined that orfv of na clustereon hypokalemia and worsening control of her preexisting type diabetes in this report we detail our clinical DUE that confirmed cs caused by an ectopic adrenocorticotropic hormone secreting RT surgical and radiation therapies were not pursued because of her poor FS and limited life expectancy and medical treatment of cs was indicated for symptom relief MIF treatment provided rapid improvement in glycemic control insulin resistance and hypertension as well as significant diminishment of her myopathy and fatigue hypokalemia was managed with an oral potassium replacement and dose escalation of spironolactone no other significant adverse effects were observed despite successful palliation of cushings signs and PS the patient died of progression of her CA this case demonstrates the safety and tau of mifepristone treatment in a pediatric patient with symptomatic ectopic cs we conclude that in appropriate pediatric patients with cs glucocorticoid receptor antagonism with mifepristone should be considered to control the effects of hypercortisolism and to improve SQ of life', 'location': [109], 'label': ['orf virus']}\""
      ]
     },
     "execution_count": 34,
     "metadata": {},
     "output_type": "execute_result"
    }
   ],
   "source": [
    "final_combined_train_sample[final_combined_train_sample['dataset'] == 'medal']['features'].iloc[2]"
   ]
  },
  {
   "cell_type": "code",
   "execution_count": 35,
   "metadata": {},
   "outputs": [],
   "source": [
    "import random\n",
    "\n",
    "instruction_mapping = {\n",
    "    'nli': [\n",
    "        \"Please classify the relationship between the given premise and hypothesis into one of the following labels: entailment, contradiction, or neutral. return only the label.\"\n",
    "        # \"Given a premise and a hypothesis, determine their relationship: entailment, contradiction, or neutral.\",\n",
    "        # \"Read the given premise and hypothesis. Decide if the hypothesis logically follows from the premise.\",\n",
    "        # \"Classify the relationship between the premise and the hypothesis into one of three categories: entailment, contradiction, or neutral.\",\n",
    "        # \"Analyze the relationship between the given premise and hypothesis. Categorize it as entailment, contradiction, or neutral.\",\n",
    "        # \"Does the premise logically support the hypothesis? Answer as entailment, contradiction, or neutral.\",\n",
    "        # \"Evaluate if the hypothesis can be inferred from the premise. Label it as entailment, contradiction, or neutral.\",\n",
    "        # \"Does the hypothesis contradict the premise or is it entailed by it? If neither, classify it as neutral.\",\n",
    "        # \"For the given premise and hypothesis, determine their logical relationship: entailment, contradiction, or neutral.\"\n",
    "    ],\n",
    "    'qa_subjective':  [\n",
    "        \"Answer this question truthfully.\"\n",
    "    ],\n",
    "    'ned': [\n",
    "        \"Identify the expanded version of the given biomedical abbreviation.\",\n",
    "        # \"Find the full term for the given biomedical abbreviation in the provided context.\",\n",
    "        # \"Identify the expanded form of the given biomedical abbreviation using the context.\",\n",
    "        # \"Extract the full name of the given biomedical term (abbreviation) from the provided text.\",\n",
    "        # \"Determine the correct expansion of the biomedical abbreviation based on the given context.\",\n",
    "        # \"Given a biomedical abbreviation, find its full form using the provided context.\",\n",
    "    ],\n",
    "    'ner': [\n",
    "        # \"Extract all chemical compounds, drugs, and metabolites associated with diabetes from the given text.\",\n",
    "        # \"Identify chemical compounds and drug names mentioned in the biomedical text related to diabetes.\",\n",
    "        \"List the names of chemicals and drugs that appear in the following biomedical passage related to diabetes.\",\n",
    "    ],\n",
    "    # 'ie_extract_relation': [\n",
    "    #     # \"Extract exactly two biomedical entities (head and tail) that are directly related from the following text. Ensure no additional or irrelevant entities are included.\"\n",
    "    #     # \"Extract exactly two biomedical entity pairs (head and tail entities) from the following text.\"\n",
    "    #     # \"Generate all possible entity pairs from the text.\",\n",
    "    #     # \"Predict the relationship between the given entities in the given sentence. \"\n",
    "    #     # \"Extract the relationship described between the given entities in the text.\",\n",
    "    #     # \"Identify the type of relationship that connects the specified entities based on the provided text.\",\n",
    "    #     # \"Determine the specific relationship mentioned between the entities in the text.\",\n",
    "    #     # \"From the text, describe the relationship that exists between the provided entities.\"\n",
    "    # ],\n",
    "    'generation': [\n",
    "        # \"What are the next steps or follow-up actions suggested in the doctor’s response?\",\n",
    "        \"Generate a comprehensive medical response based on the patient's query.\",\n",
    "        # \"Provide a concise and actionable answer to the patient's question.\",\n",
    "        # \"What advice or recommendations does the doctor provide in response to the patient's concerns?\",\n",
    "        # \"What follow-up steps does the doctor suggest in their response?\"\n",
    "    ],\n",
    "    'qa_objective_1': [\n",
    "        \"Select the most appropriate answer for the given medical question from the provided options.\"\n",
    "    ],\n",
    "    'qa_objective_2': [\n",
    "        \"Select the most appropriate answer for the given medical question from the provided options.\",\n",
    "        # \"Identify the correct answer to the medical question from the four given options.\",\n",
    "        # \"Pick the correct choice for the given medical question based on the provided options.\",\n",
    "        # \"Determine the correct option that best answers the given medical question.\",\n",
    "        # \"Choose the answer that accurately addresses the given medical query from the options provided.\",\n",
    "        # \"From the provided choices, select the option that correctly answers the medical question.\",\n",
    "        # \"Based on the medical question, select the most accurate answer from the given options.\",\n",
    "        # \"Identify the best answer for the given medical question from the options below.\",\n",
    "        # \"Select the correct answer that corresponds to the given medical question.\",\n",
    "        # \"Determine the appropriate choice for the medical question from the list of options.\"\n",
    "    ],\n",
    "    'qa_objective_3': [\n",
    "        \"Choose the correct anser (Yes, No, or Maybe) for the given question based on the proviced context.\"\n",
    "        # \"Generate a detailed answer to the question using the provided context.\",\n",
    "        # \"Create a comprehensive explanation for the question based on the given information.\",\n",
    "        # \"Write a long and detailed response to the question using the context provided.\",\n",
    "        # \"Using the context, provide an in-depth answer to the question with relevant details.\"\n",
    "    ],\n",
    "    'summarization': [\n",
    "        # \"Summarize the given article into a concise abstract that highlights the key findings and conclusions.\",\n",
    "        # \"Generate a brief and coherent abstract from the provided article text.\",\n",
    "        \"Write a summary of the article that captures the main ideas and significant details.\",\n",
    "        # \"Condense the given article into a clear and concise abstract that represents its core content.\"\n",
    "    ]\n",
    "}\n",
    "\n",
    "def assign_correct_instruction(row):\n",
    "    task = row['task']\n",
    "    if task in instruction_mapping:\n",
    "        return random.choice(instruction_mapping[task])\n",
    "    return \"Instruction not found\"\n",
    "\n",
    "final_combined_train_sample['instruction'] = final_combined_train_sample.apply(assign_correct_instruction, axis=1)\n",
    "final_combined_test_sample['instruction'] = final_combined_test_sample.apply(assign_correct_instruction, axis=1)"
   ]
  },
  {
   "cell_type": "code",
   "execution_count": 36,
   "metadata": {},
   "outputs": [
    {
     "data": {
      "text/plain": [
       "['orf virus']"
      ]
     },
     "execution_count": 36,
     "metadata": {},
     "output_type": "execute_result"
    }
   ],
   "source": [
    "import ast\n",
    "\n",
    "ast.literal_eval(final_combined_train_sample[final_combined_train_sample['dataset']=='medal']['features'].iloc[2]).get('label', None)"
   ]
  },
  {
   "cell_type": "code",
   "execution_count": 37,
   "metadata": {},
   "outputs": [],
   "source": [
    "import ast\n",
    "\n",
    "def parse_features(row):\n",
    "    try:\n",
    "        return ast.literal_eval(row)\n",
    "    except (ValueError, SyntaxError):\n",
    "        return {}\n",
    " \n",
    "def generate_input_output(row):\n",
    "    input_value = \"\"; output_value = \"\"\n",
    "\n",
    "    task = row['task']\n",
    "    features = parse_features(row['features'])\n",
    "\n",
    "    if row['dataset']=='bionli' and task=='nli':\n",
    "        query = features.get('query', '') \n",
    "        input_value = query.split(\"INPUT: \")[1].split(\"[HYP]\")[0].strip() if \"INPUT: \" in query else None\n",
    "        output_value = features.get('answer', None)\n",
    "    elif row['dataset']== 'mfc' and task=='qa_subjective':\n",
    "        input_value = features.get('input', None)\n",
    "        output_value = features.get('output', None)\n",
    "    elif row['dataset']=='chemdner' and task=='ner':\n",
    "        input_value = features.get('text', None)\n",
    "        output_value = ', '.join(features.get('entities', []))\n",
    "    elif row['dataset']=='medal' and task=='ned':\n",
    "        location = features.get('location')[0]\n",
    "        input_value = f\"Biomedical Term: {features.get('text', None).split(' ')[location]} \\nContext: {features.get('text', None)}\"\n",
    "        output_value = features.get('label', None)[0]\n",
    "    # elif row['dataset']=='biorel' and task=='ie_extract_relation':\n",
    "    #     input_value = features.get('text', None)\n",
    "    #     h_value = features.get('h', {}).get('name', None)\n",
    "    #     t_value = features.get('t', {}).get('name', None)\n",
    "    #     output_value = f\"{h_value}, {t_value}\"\n",
    "    #     # output_value = features.get('relation', None)\n",
    "    elif row['dataset']=='icliniq' and task=='generation':\n",
    "        input_value = features.get('input', None)\n",
    "        output_value = features.get('answer_icliniq', None)\n",
    "    elif row['dataset']=='medqa' and task=='qa_objective_1':\n",
    "        question = features.get('question', None)\n",
    "        options = features.get('options', None)\n",
    "        answer = features.get('answer', None)\n",
    "        answer_idx = features.get('answer_idx', None)\n",
    "\n",
    "        input_value = (\n",
    "            f\"{question} Please select one of the following: A) {options['A']}, B) {options['B']}, C) {options['C']}, D) {options['D']}.\"\n",
    "        )\n",
    "        output_value = (\n",
    "            f\"{answer_idx}) {answer}\"\n",
    "        )\n",
    "    elif row['dataset']=='medmcqa' and task=='qa_objective_2': \n",
    "        question = features.get('question', None)\n",
    "        options = {\n",
    "            'A': features.get('opa', '').strip(),\n",
    "            'B': features.get('opb', '').strip(),\n",
    "            'C': features.get('opc', '').strip(),\n",
    "            'D': features.get('opd', '').strip(),\n",
    "        }\n",
    "        answer_num = features.get('cop', None)\n",
    "        answer_idx = 'A' if answer_num == 0 else 'B' if answer_num == 1 else 'C' if answer_num == 2 else 'D'\n",
    "        answer = features.get('opa', '').strip() if answer_num == 0 else features.get('opb', '').strip() if answer_num == 1 else features.get('opc', '').strip() if answer_num == 2 else features.get('opd', '').strip()\n",
    "\n",
    "        input_value = (\n",
    "            f\"{question} Please select one of the following: A) {options['A']}, B) {options['B']}, C) {options['C']}, D) {options['D']}.\"\n",
    "        )\n",
    "        output_value = (\n",
    "            f\"{answer_idx}) {answer}\"\n",
    "        )\n",
    "\n",
    "    elif row['dataset']=='pubmedqa' and task=='qa_objective_3':\n",
    "        question = features.get('QUESTION', '').strip()\n",
    "        context = \" \".join(features.get('CONTEXTS'))\n",
    "        # answer = features.get('LONG_ANSWER', '').strip() \n",
    "        answer = features.get('final_decision', '').strip()\n",
    "\n",
    "        input_value = (\n",
    "            f\"Question: {question} \"\n",
    "            f\"Context: {context}\"\n",
    "        )\n",
    "        output_value = f\"{answer}\"\n",
    "\n",
    "    elif row['dataset']=='pubmed' and task=='summarization':\n",
    "        article = features.get('article', '').strip()  \n",
    "        abstract = features.get('abstract', '').strip() \n",
    "        \n",
    "        input_value = f\"{article}\"\n",
    "        output_value = abstract\n",
    "    return input_value, output_value\n",
    "\n",
    "final_combined_train_sample[['input', 'output']] = final_combined_train_sample.apply(\n",
    "    lambda row: pd.Series(generate_input_output(row)), axis=1\n",
    ")\n",
    "\n",
    "final_combined_test_sample[['input', 'output']] = final_combined_test_sample.apply(\n",
    "    lambda row: pd.Series(generate_input_output(row)), axis=1\n",
    ")"
   ]
  },
  {
   "cell_type": "code",
   "execution_count": 38,
   "metadata": {},
   "outputs": [
    {
     "name": "stdout",
     "output_type": "stream",
     "text": [
      "['bionli' 'mfc' 'chemdner' 'icliniq' 'medal' 'medmcqa' 'medqa' 'pubmedqa'\n",
      " 'pubmed']\n",
      "\n",
      "['nli' 'qa_subjective' 'ner' 'generation' 'ned' 'qa_objective_2'\n",
      " 'qa_objective_1' 'qa_objective_3' 'summarization']\n"
     ]
    }
   ],
   "source": [
    "print(final_combined_train_sample['dataset'].unique())\n",
    "print('')\n",
    "print(final_combined_train_sample['task'].unique())"
   ]
  },
  {
   "cell_type": "code",
   "execution_count": 39,
   "metadata": {},
   "outputs": [
    {
     "data": {
      "text/plain": [
       "output\n",
       "contradiction    282\n",
       "entailment       157\n",
       "Name: count, dtype: int64"
      ]
     },
     "execution_count": 39,
     "metadata": {},
     "output_type": "execute_result"
    }
   ],
   "source": [
    "final_combined_train_sample[final_combined_train_sample['dataset']=='bionli']['output'].value_counts()"
   ]
  },
  {
   "cell_type": "code",
   "execution_count": 40,
   "metadata": {},
   "outputs": [
    {
     "data": {
      "text/html": [
       "<div>\n",
       "<style scoped>\n",
       "    .dataframe tbody tr th:only-of-type {\n",
       "        vertical-align: middle;\n",
       "    }\n",
       "\n",
       "    .dataframe tbody tr th {\n",
       "        vertical-align: top;\n",
       "    }\n",
       "\n",
       "    .dataframe thead th {\n",
       "        text-align: right;\n",
       "    }\n",
       "</style>\n",
       "<table border=\"1\" class=\"dataframe\">\n",
       "  <thead>\n",
       "    <tr style=\"text-align: right;\">\n",
       "      <th></th>\n",
       "      <th>Unnamed: 0</th>\n",
       "      <th>dataset</th>\n",
       "      <th>split_data</th>\n",
       "      <th>features</th>\n",
       "      <th>input</th>\n",
       "      <th>output</th>\n",
       "      <th>for_sampling</th>\n",
       "      <th>task</th>\n",
       "      <th>instruction</th>\n",
       "    </tr>\n",
       "  </thead>\n",
       "  <tbody>\n",
       "    <tr>\n",
       "      <th>885</th>\n",
       "      <td>885</td>\n",
       "      <td>chemdner</td>\n",
       "      <td>train</td>\n",
       "      <td>{'entities': ['glucose'], 'text': 'We characte...</td>\n",
       "      <td>We characterised 62 non-diabetic, middle-aged,...</td>\n",
       "      <td>glucose</td>\n",
       "      <td>{'input': 'We characterised 62 non-diabetic, m...</td>\n",
       "      <td>ner</td>\n",
       "      <td>List the names of chemicals and drugs that app...</td>\n",
       "    </tr>\n",
       "    <tr>\n",
       "      <th>886</th>\n",
       "      <td>886</td>\n",
       "      <td>chemdner</td>\n",
       "      <td>train</td>\n",
       "      <td>{'entities': ['norcamphor', 'Spiroimidazolidin...</td>\n",
       "      <td>The desired 3-(arylsulfonyl)spiroimidazolidine...</td>\n",
       "      <td>norcamphor, Spiroimidazolidine-2,4-dione, 3-(a...</td>\n",
       "      <td>{'input': 'The desired 3-(arylsulfonyl)spiroim...</td>\n",
       "      <td>ner</td>\n",
       "      <td>List the names of chemicals and drugs that app...</td>\n",
       "    </tr>\n",
       "  </tbody>\n",
       "</table>\n",
       "</div>"
      ],
      "text/plain": [
       "     Unnamed: 0   dataset split_data  \\\n",
       "885         885  chemdner      train   \n",
       "886         886  chemdner      train   \n",
       "\n",
       "                                              features  \\\n",
       "885  {'entities': ['glucose'], 'text': 'We characte...   \n",
       "886  {'entities': ['norcamphor', 'Spiroimidazolidin...   \n",
       "\n",
       "                                                 input  \\\n",
       "885  We characterised 62 non-diabetic, middle-aged,...   \n",
       "886  The desired 3-(arylsulfonyl)spiroimidazolidine...   \n",
       "\n",
       "                                                output  \\\n",
       "885                                            glucose   \n",
       "886  norcamphor, Spiroimidazolidine-2,4-dione, 3-(a...   \n",
       "\n",
       "                                          for_sampling task  \\\n",
       "885  {'input': 'We characterised 62 non-diabetic, m...  ner   \n",
       "886  {'input': 'The desired 3-(arylsulfonyl)spiroim...  ner   \n",
       "\n",
       "                                           instruction  \n",
       "885  List the names of chemicals and drugs that app...  \n",
       "886  List the names of chemicals and drugs that app...  "
      ]
     },
     "execution_count": 40,
     "metadata": {},
     "output_type": "execute_result"
    }
   ],
   "source": [
    "final_combined_train_sample[final_combined_train_sample['dataset']=='chemdner'].head(2)"
   ]
  },
  {
   "cell_type": "code",
   "execution_count": 41,
   "metadata": {},
   "outputs": [],
   "source": [
    "import pandas as pd\n",
    "\n",
    "final_df = pd.concat([final_combined_train_sample, final_combined_test_sample])"
   ]
  },
  {
   "cell_type": "code",
   "execution_count": 42,
   "metadata": {},
   "outputs": [],
   "source": [
    "final_combined_train_sample.to_json(\"/data/jaesung/llm_for_diabetes/src/data/data1_diabetes/train_instruction_dataset.json\", orient=\"columns\", indent=4)\n",
    "final_combined_test_sample.to_json(\"/data/jaesung/llm_for_diabetes/src/data/data1_diabetes/test_instruction_dataset.json\", orient=\"columns\", indent=4)"
   ]
  },
  {
   "cell_type": "code",
   "execution_count": 43,
   "metadata": {},
   "outputs": [
    {
     "data": {
      "text/html": [
       "<div>\n",
       "<style scoped>\n",
       "    .dataframe tbody tr th:only-of-type {\n",
       "        vertical-align: middle;\n",
       "    }\n",
       "\n",
       "    .dataframe tbody tr th {\n",
       "        vertical-align: top;\n",
       "    }\n",
       "\n",
       "    .dataframe thead th {\n",
       "        text-align: right;\n",
       "    }\n",
       "</style>\n",
       "<table border=\"1\" class=\"dataframe\">\n",
       "  <thead>\n",
       "    <tr style=\"text-align: right;\">\n",
       "      <th></th>\n",
       "      <th>Unnamed: 0</th>\n",
       "      <th>dataset</th>\n",
       "      <th>split_data</th>\n",
       "      <th>features</th>\n",
       "      <th>input</th>\n",
       "      <th>output</th>\n",
       "      <th>for_sampling</th>\n",
       "      <th>task</th>\n",
       "      <th>instruction</th>\n",
       "    </tr>\n",
       "  </thead>\n",
       "  <tbody>\n",
       "    <tr>\n",
       "      <th>0</th>\n",
       "      <td>0</td>\n",
       "      <td>bionli</td>\n",
       "      <td>train</td>\n",
       "      <td>{'id': 'BioNLI18619553', 'query': '\\nTASK: Ple...</td>\n",
       "      <td>[PRE] Previously, we demonstrated that lipocal...</td>\n",
       "      <td>contradiction</td>\n",
       "      <td>{'input': '[PRE] Previously, we demonstrated t...</td>\n",
       "      <td>nli</td>\n",
       "      <td>Please classify the relationship between the g...</td>\n",
       "    </tr>\n",
       "    <tr>\n",
       "      <th>1</th>\n",
       "      <td>1</td>\n",
       "      <td>bionli</td>\n",
       "      <td>train</td>\n",
       "      <td>{'id': 'BioNLI21146692', 'query': \"\\nTASK: Ple...</td>\n",
       "      <td>[PRE] A risk score for atrial fibrillation (AF...</td>\n",
       "      <td>contradiction</td>\n",
       "      <td>{'input': \"[PRE] A risk score for atrial fibri...</td>\n",
       "      <td>nli</td>\n",
       "      <td>Please classify the relationship between the g...</td>\n",
       "    </tr>\n",
       "  </tbody>\n",
       "</table>\n",
       "</div>"
      ],
      "text/plain": [
       "   Unnamed: 0 dataset split_data  \\\n",
       "0           0  bionli      train   \n",
       "1           1  bionli      train   \n",
       "\n",
       "                                            features  \\\n",
       "0  {'id': 'BioNLI18619553', 'query': '\\nTASK: Ple...   \n",
       "1  {'id': 'BioNLI21146692', 'query': \"\\nTASK: Ple...   \n",
       "\n",
       "                                               input         output  \\\n",
       "0  [PRE] Previously, we demonstrated that lipocal...  contradiction   \n",
       "1  [PRE] A risk score for atrial fibrillation (AF...  contradiction   \n",
       "\n",
       "                                        for_sampling task  \\\n",
       "0  {'input': '[PRE] Previously, we demonstrated t...  nli   \n",
       "1  {'input': \"[PRE] A risk score for atrial fibri...  nli   \n",
       "\n",
       "                                         instruction  \n",
       "0  Please classify the relationship between the g...  \n",
       "1  Please classify the relationship between the g...  "
      ]
     },
     "execution_count": 43,
     "metadata": {},
     "output_type": "execute_result"
    }
   ],
   "source": [
    "final_combined_train_sample.head(2)"
   ]
  },
  {
   "cell_type": "code",
   "execution_count": null,
   "metadata": {},
   "outputs": [],
   "source": []
  },
  {
   "cell_type": "code",
   "execution_count": null,
   "metadata": {},
   "outputs": [],
   "source": []
  },
  {
   "cell_type": "code",
   "execution_count": null,
   "metadata": {},
   "outputs": [],
   "source": []
  },
  {
   "cell_type": "code",
   "execution_count": null,
   "metadata": {},
   "outputs": [],
   "source": []
  },
  {
   "cell_type": "code",
   "execution_count": 116,
   "metadata": {},
   "outputs": [],
   "source": [
    "import json\n",
    "\n",
    "with open(\"/data/jaesung/llm_for_diabetes/src/data/data1_diabetes/test_instruction_dataset_v9.json\",  'r', encoding='utf-8') as f:\n",
    "    data1 = json.load(f)"
   ]
  },
  {
   "cell_type": "code",
   "execution_count": 117,
   "metadata": {},
   "outputs": [
    {
     "data": {
      "text/html": [
       "<div>\n",
       "<style scoped>\n",
       "    .dataframe tbody tr th:only-of-type {\n",
       "        vertical-align: middle;\n",
       "    }\n",
       "\n",
       "    .dataframe tbody tr th {\n",
       "        vertical-align: top;\n",
       "    }\n",
       "\n",
       "    .dataframe thead th {\n",
       "        text-align: right;\n",
       "    }\n",
       "</style>\n",
       "<table border=\"1\" class=\"dataframe\">\n",
       "  <thead>\n",
       "    <tr style=\"text-align: right;\">\n",
       "      <th></th>\n",
       "      <th>Unnamed: 0</th>\n",
       "      <th>dataset</th>\n",
       "      <th>split_data</th>\n",
       "      <th>features</th>\n",
       "      <th>input</th>\n",
       "      <th>output</th>\n",
       "      <th>for_sampling</th>\n",
       "      <th>task</th>\n",
       "      <th>instruction</th>\n",
       "    </tr>\n",
       "  </thead>\n",
       "  <tbody>\n",
       "    <tr>\n",
       "      <th>0</th>\n",
       "      <td>0</td>\n",
       "      <td>bionli</td>\n",
       "      <td>test</td>\n",
       "      <td>{'id': 'BioNLI2523305', 'query': '\\nTASK: Plea...</td>\n",
       "      <td>[PRE] To determine the role of hypoinsulinemia...</td>\n",
       "      <td>contradiction</td>\n",
       "      <td>{'input': '[PRE] To determine the role of hypo...</td>\n",
       "      <td>nli</td>\n",
       "      <td>Please classify the relationship between the g...</td>\n",
       "    </tr>\n",
       "    <tr>\n",
       "      <th>1</th>\n",
       "      <td>1</td>\n",
       "      <td>bionli</td>\n",
       "      <td>test</td>\n",
       "      <td>{'id': 'BioNLI27261558', 'query': '\\nTASK: Ple...</td>\n",
       "      <td>[PRE] The excessive or prolonged production of...</td>\n",
       "      <td>contradiction</td>\n",
       "      <td>{'input': '[PRE] The excessive or prolonged pr...</td>\n",
       "      <td>nli</td>\n",
       "      <td>Please classify the relationship between the g...</td>\n",
       "    </tr>\n",
       "  </tbody>\n",
       "</table>\n",
       "</div>"
      ],
      "text/plain": [
       "   Unnamed: 0 dataset  ... task                                        instruction\n",
       "0           0  bionli  ...  nli  Please classify the relationship between the g...\n",
       "1           1  bionli  ...  nli  Please classify the relationship between the g...\n",
       "\n",
       "[2 rows x 9 columns]"
      ]
     },
     "execution_count": 117,
     "metadata": {},
     "output_type": "execute_result"
    }
   ],
   "source": [
    "import pandas as pd\n",
    "\n",
    "df = pd.DataFrame(data1)\n",
    "df.head(2)"
   ]
  },
  {
   "cell_type": "code",
   "execution_count": 118,
   "metadata": {},
   "outputs": [],
   "source": [
    "terms = []\n",
    "for v in df[(df['task']=='ner')]['output'].tolist():\n",
    "    tmp = v.split(', ')\n",
    "\n",
    "    for t in tmp:\n",
    "        if t not in terms:\n",
    "            terms.append(t)\n"
   ]
  },
  {
   "cell_type": "code",
   "execution_count": 91,
   "metadata": {},
   "outputs": [],
   "source": [
    "terms.extend(df[df['task']=='ned']['output'].tolist())\n",
    "terms = list(set(terms))"
   ]
  },
  {
   "cell_type": "code",
   "execution_count": 119,
   "metadata": {},
   "outputs": [
    {
     "data": {
      "application/vnd.jupyter.widget-view+json": {
       "model_id": "fca6ee9db8e34b499c18fbb46a290cc8",
       "version_major": 2,
       "version_minor": 0
      },
      "text/plain": [
       "README.md:   0%|          | 0.00/416 [00:00<?, ?B/s]"
      ]
     },
     "metadata": {},
     "output_type": "display_data"
    },
    {
     "data": {
      "application/vnd.jupyter.widget-view+json": {
       "model_id": "8deb594e3c2c4ecbad4132607dfd2256",
       "version_major": 2,
       "version_minor": 0
      },
      "text/plain": [
       "valid-00000-of-00001.parquet:   0%|          | 0.00/2.85M [00:00<?, ?B/s]"
      ]
     },
     "metadata": {},
     "output_type": "display_data"
    },
    {
     "data": {
      "application/vnd.jupyter.widget-view+json": {
       "model_id": "c2bcab55418b456087a71379c83fd582",
       "version_major": 2,
       "version_minor": 0
      },
      "text/plain": [
       "Generating valid split:   0%|          | 0/7244 [00:00<?, ? examples/s]"
      ]
     },
     "metadata": {},
     "output_type": "display_data"
    },
    {
     "data": {
      "text/plain": [
       "DatasetDict({\n",
       "    valid: Dataset({\n",
       "        features: ['id', 'conversations', 'text'],\n",
       "        num_rows: 7244\n",
       "    })\n",
       "})"
      ]
     },
     "execution_count": 119,
     "metadata": {},
     "output_type": "execute_result"
    }
   ],
   "source": [
    "ddi = load_dataset(\"clinicalnlplab/DDI2013_dev\") \n",
    "ddi"
   ]
  },
  {
   "cell_type": "code",
   "execution_count": 121,
   "metadata": {},
   "outputs": [],
   "source": [
    "import pandas as pd\n",
    "\n",
    "hcm_train_tmp = pd.DataFrame(ddi['valid']) # 원본 데이터프레임의 특정 부분 사용\n",
    "\n",
    "# 특정 단어 리스트\n",
    "keywords = set(terms)  # 검색 속도 향상을 위해 set 변환\n",
    "\n",
    "# 포함된 키워드 찾기 함수 (단어 단위 매칭)\n",
    "def find_matching_keywords(text, keywords):\n",
    "    words = set(text.lower().split())  # 문장을 단어 리스트로 변환 후 set으로 저장\n",
    "    return words & keywords  # 교집합을 찾아 해당 단어 반환\n",
    "\n",
    "# 데이터셋에서 실제 등장한 용어들을 저장할 set\n",
    "found_terms = set()\n",
    "\n",
    "# src 컬럼과 tgt 컬럼에서 실제 등장한 단어 찾기\n",
    "for col in [\"text\"]:\n",
    "    found_terms.update(hcm_train_tmp[col].apply(lambda x: find_matching_keywords(x, keywords)).explode().dropna())\n",
    "\n",
    "# terms 리스트 중 등장하지 않은 용어 찾기\n",
    "unused_terms = keywords - found_terms\n",
    "\n",
    "# 특정 단어 포함된 행 개수 출력\n",
    "print(f\"데이터셋에서 등장하지 않은 용어 개수: {len(unused_terms)}\")\n",
    "print(f\"등장하지 않은 용어 리스트: {unused_terms}\")\n"
   ]
  },
  {
   "cell_type": "code",
   "execution_count": 128,
   "metadata": {},
   "outputs": [],
   "source": [
    "import pandas as pd\n",
    "\n",
    "df = pd.DataFrame(ddi['valid'])  # Pandas DataFrame으로 변환\n",
    "\n",
    "count = ((df['text'].str.contains('insulin'))).sum()\n"
   ]
  },
  {
   "cell_type": "code",
   "execution_count": 129,
   "metadata": {},
   "outputs": [
    {
     "data": {
      "text/plain": [
       "549"
      ]
     },
     "execution_count": 129,
     "metadata": {},
     "output_type": "execute_result"
    }
   ],
   "source": [
    "\n",
    "count"
   ]
  },
  {
   "cell_type": "code",
   "execution_count": 124,
   "metadata": {},
   "outputs": [
    {
     "data": {
      "text/plain": [
       "131"
      ]
     },
     "execution_count": 124,
     "metadata": {},
     "output_type": "execute_result"
    }
   ],
   "source": [
    "len(terms)"
   ]
  },
  {
   "cell_type": "code",
   "execution_count": 123,
   "metadata": {},
   "outputs": [
    {
     "data": {
      "text/plain": [
       "118"
      ]
     },
     "execution_count": 123,
     "metadata": {},
     "output_type": "execute_result"
    }
   ],
   "source": [
    "len(unused_terms)"
   ]
  },
  {
   "cell_type": "code",
   "execution_count": 112,
   "metadata": {},
   "outputs": [
    {
     "data": {
      "text/plain": [
       "DatasetDict({\n",
       "    train: Dataset({\n",
       "        features: ['id', 'qid', 'pmid', 'question', 'text'],\n",
       "        num_rows: 42518\n",
       "    })\n",
       "})"
      ]
     },
     "execution_count": 112,
     "metadata": {},
     "output_type": "execute_result"
    }
   ],
   "source": [
    "bioasq = load_dataset(\"pankajrajdeo/BioASQ\")\n",
    "bioasq"
   ]
  },
  {
   "cell_type": "code",
   "execution_count": 113,
   "metadata": {},
   "outputs": [],
   "source": [
    "import pandas as pd\n",
    "\n",
    "hcm_train_tmp = pd.DataFrame(bioasq['train']) # 원본 데이터프레임의 특정 부분 사용\n",
    "\n",
    "# 특정 단어 리스트\n",
    "keywords = set(terms)  # 검색 속도 향상을 위해 set 변환\n",
    "\n",
    "# 포함된 키워드 찾기 함수 (단어 단위 매칭)\n",
    "def find_matching_keywords(text, keywords):\n",
    "    words = set(text.lower().split())  # 문장을 단어 리스트로 변환 후 set으로 저장\n",
    "    return words & keywords  # 교집합을 찾아 해당 단어 반환\n",
    "\n",
    "# 데이터셋에서 실제 등장한 용어들을 저장할 set\n",
    "found_terms = set()\n",
    "\n",
    "# src 컬럼과 tgt 컬럼에서 실제 등장한 단어 찾기\n",
    "for col in [\"question\", \"text\"]:\n",
    "    found_terms.update(hcm_train_tmp[col].apply(lambda x: find_matching_keywords(x, keywords)).explode().dropna())\n",
    "\n",
    "# terms 리스트 중 등장하지 않은 용어 찾기\n",
    "unused_terms = keywords - found_terms\n",
    "\n",
    "# 특정 단어 포함된 행 개수 출력\n",
    "print(f\"데이터셋에서 등장하지 않은 용어 개수: {len(unused_terms)}\")\n",
    "print(f\"등장하지 않은 용어 리스트: {unused_terms}\")\n"
   ]
  },
  {
   "cell_type": "code",
   "execution_count": 114,
   "metadata": {},
   "outputs": [
    {
     "data": {
      "text/plain": [
       "131"
      ]
     },
     "execution_count": 114,
     "metadata": {},
     "output_type": "execute_result"
    }
   ],
   "source": [
    "len(terms)"
   ]
  },
  {
   "cell_type": "code",
   "execution_count": 115,
   "metadata": {},
   "outputs": [
    {
     "data": {
      "text/plain": [
       "70"
      ]
     },
     "execution_count": 115,
     "metadata": {},
     "output_type": "execute_result"
    }
   ],
   "source": [
    "len(unused_terms)"
   ]
  },
  {
   "cell_type": "code",
   "execution_count": 102,
   "metadata": {},
   "outputs": [
    {
     "data": {
      "text/plain": [
       "{'',\n",
       " '(1)H',\n",
       " '(125)I',\n",
       " '(13)C',\n",
       " \"(3R)-5,7-dihydroxyl-6,8-dimethyl-3-(4'-hydroxylbenzyl)-chroman-4-one\",\n",
       " \"(3R)-5,7-dihydroxyl-6-methyl-3-(4'-hydroxylbenzyl)-chroman-4-one\",\n",
       " \"(3R)-5,7-dihydroxyl-6-methyl-8-methoxyl-3-(4'-hydroxylbenzyl)-chroman-4-one\",\n",
       " '(S)-3-[4-(1-{3,5-dimethyl-4-[4-(trifluoromethyl)-1H-pyrazol-1-yl]phenoxy}butyl)benzamido]propanoic acid',\n",
       " '(•)OH',\n",
       " '1,2,3,4,6 penta-O-galloyl-β-d-glucose',\n",
       " '1,25(OH)₂D₃',\n",
       " '1,25-dihydroxyvitamin D',\n",
       " '1,25-dihydroxyvitamin D₃',\n",
       " '1,5-dicaffeoylquinic acid',\n",
       " '1-Deoxynojirimycin',\n",
       " '1-hydroxy-6-oxo-2-cyclohexenecarboxylate',\n",
       " '10-DEBC',\n",
       " '11-dehydrocorticosterone',\n",
       " '11-β-hydroxysteroid',\n",
       " '11DHC',\n",
       " '13-O-desmethyl tacrolimus',\n",
       " '15-O-desmethyl tacrolimus',\n",
       " '17-HDHA',\n",
       " '17-hydroxydocosahexaenoic acid',\n",
       " '2,7-dichlorodihydrofluorescin diacetate',\n",
       " '2-Phenoxy-nicotinamides',\n",
       " '2-acetamino',\n",
       " '2-amino-2-deoxy-D-mannitol',\n",
       " '2-aminoethylaminomethyl',\n",
       " '24,25-dihydroxyvitamin D',\n",
       " '25(OH)D',\n",
       " '25(OH)D(3)',\n",
       " '25(OH)D₃',\n",
       " '25-Hydroxyvitamin D',\n",
       " '25-hydroxycholecalciferol',\n",
       " '25-hydroxyvitamin D',\n",
       " '25-hydroxyvitamin D(3)',\n",
       " '25-hydroxyvitamin D₃',\n",
       " '25[OH]D',\n",
       " '3,4-dicaffeoylquinic acid',\n",
       " '3,5-dicaffeoylquinic acid',\n",
       " '3,5-dicaffeoylquinic acid methyl ester',\n",
       " '3-(arylsulfonyl)spiroimidazolidine-2,4-diones',\n",
       " '3-caffeoylquinic acid',\n",
       " '3-hydroxychromone',\n",
       " '4,5-dicaffeoylquinic acid',\n",
       " '4-methyl-quinazoline-2-yl-methyl',\n",
       " \"5'-AMP\",\n",
       " '5-(N-(4-((4-ethylbenzyl)thio)phenyl)sulfamoyl)-2-methyl benzoic acid',\n",
       " '5-HMF',\n",
       " '5-HT',\n",
       " '6-(oxymethyl)-2-hydroxyphenyl-O-β-d-glucopyranosyl-(1→6)-β-d-glucopyranoside',\n",
       " '6-methoxy artemicapin C',\n",
       " '6-methyl pyridone',\n",
       " '7-methoxy coumarin',\n",
       " 'ABTS',\n",
       " 'AD4',\n",
       " 'ADMA',\n",
       " 'AMD3100',\n",
       " 'AMP',\n",
       " 'ATP',\n",
       " 'Adenosine monophosphate',\n",
       " 'Aldehydes',\n",
       " 'Anthocyanins',\n",
       " 'Arg',\n",
       " 'Asiatic acid',\n",
       " 'Asp',\n",
       " 'AuF',\n",
       " 'BELVIQ',\n",
       " 'BTZ',\n",
       " 'BTZs',\n",
       " 'Belviq',\n",
       " 'Biguanides',\n",
       " 'Bile acids',\n",
       " 'Bile-acid',\n",
       " 'Biotin',\n",
       " 'Bombesin',\n",
       " 'CARB',\n",
       " 'CBX',\n",
       " 'CHCl3',\n",
       " 'CHO',\n",
       " 'CORT',\n",
       " 'CP-778\\u2009875',\n",
       " 'Ca',\n",
       " 'Ca(2+)',\n",
       " 'Ca2+',\n",
       " 'Caffeine',\n",
       " 'Captropril',\n",
       " 'Carbohydrate',\n",
       " 'Catalpol',\n",
       " 'Chrysin',\n",
       " 'Cilostazol',\n",
       " 'Colesevelam',\n",
       " 'Cr',\n",
       " 'Cr(III)',\n",
       " 'Cr3',\n",
       " 'Cr3 ([Cr(3)O(propionate)(6)(H(2)O)(3)](+))',\n",
       " 'CrCl(3)',\n",
       " 'Cu',\n",
       " 'Curcumin',\n",
       " 'Cysteines',\n",
       " 'D-Phe',\n",
       " 'DCFH-DA',\n",
       " 'DHA',\n",
       " 'DHMEQ',\n",
       " 'DNJ',\n",
       " 'DPPH',\n",
       " 'Deoxyglucose',\n",
       " 'Dex',\n",
       " 'Dexamethasone',\n",
       " 'EPA',\n",
       " 'Embelin',\n",
       " 'EtOAc',\n",
       " 'EtOH',\n",
       " 'FK506',\n",
       " 'Fatty Acid',\n",
       " 'Fatty acids',\n",
       " 'Fe',\n",
       " 'Fe(2+)',\n",
       " 'Fisetin',\n",
       " 'Friedelin',\n",
       " 'GSH',\n",
       " 'GW0742',\n",
       " 'GW9662',\n",
       " 'GlcNAcstatin',\n",
       " 'Glucose',\n",
       " 'Glutamine',\n",
       " 'Glutathione',\n",
       " 'Glycyrrhizic acid',\n",
       " 'Glycyrrhizin',\n",
       " 'H(2)O(2)',\n",
       " 'H2O2',\n",
       " 'HFCS-55',\n",
       " 'Hcy',\n",
       " 'His',\n",
       " 'Histidine',\n",
       " 'Idescarpin',\n",
       " 'Iron',\n",
       " 'K(+)',\n",
       " 'KCl',\n",
       " 'L-thyroxine',\n",
       " 'LNNA',\n",
       " 'LY294002',\n",
       " 'Lactate',\n",
       " 'LiCl',\n",
       " 'Lisinopril',\n",
       " 'Lucidone',\n",
       " 'Luteolin',\n",
       " 'Lys',\n",
       " 'Lysine',\n",
       " 'MDA',\n",
       " 'MTT',\n",
       " 'Macelignan',\n",
       " 'Manganese',\n",
       " 'Metformin',\n",
       " 'Mg',\n",
       " 'Mn',\n",
       " 'Myo-inositol',\n",
       " 'N(G)-nitro-L-arginine',\n",
       " 'N-[3(aminomethyl) benzyl]-acetamidine',\n",
       " 'N-acetylcysteine',\n",
       " 'NAC',\n",
       " 'NAD',\n",
       " 'NAD(+)',\n",
       " 'NAD(P)H',\n",
       " 'NADP(+)',\n",
       " 'NADPH',\n",
       " 'NAc-Cys-Pro-Cys amide',\n",
       " 'NH2',\n",
       " 'NO',\n",
       " 'NTM',\n",
       " 'Nle',\n",
       " 'Oil Red O',\n",
       " 'PD98059',\n",
       " 'PGG',\n",
       " 'PI(4)P',\n",
       " 'PI(4,5)P2',\n",
       " 'Paroxetine',\n",
       " 'Pentacyclic triterpenoids',\n",
       " 'Phe',\n",
       " 'Pioglitazone',\n",
       " 'Polyphenols',\n",
       " 'Qsymia',\n",
       " 'RES',\n",
       " 'RY796',\n",
       " 'Resveratrol',\n",
       " 'Retinaldehyde',\n",
       " 'Rosi',\n",
       " 'Rosiglitazone',\n",
       " 'S-adenosylhomocysteine',\n",
       " 'S-adenosylmethionine',\n",
       " 'SB-415286',\n",
       " 'SB202190',\n",
       " 'SDG',\n",
       " 'SDMA',\n",
       " 'SH',\n",
       " 'STZ',\n",
       " 'Se',\n",
       " 'Secoisolariciresinol diglucoside',\n",
       " 'Ser',\n",
       " 'Sitagliptin',\n",
       " 'Spiroimidazolidine-2,4-dione',\n",
       " 'Statin',\n",
       " 'Statins',\n",
       " 'Sulfonylureas',\n",
       " 'Superoxide',\n",
       " 'TRG',\n",
       " 'TZD',\n",
       " 'TZDs',\n",
       " 'Taxol',\n",
       " 'Thiazolidinediones',\n",
       " 'Thr',\n",
       " 'Triglycerides',\n",
       " 'Tyr',\n",
       " 'UVI2008',\n",
       " 'Vernakalant',\n",
       " 'Vitamin B12',\n",
       " 'Vitamin C',\n",
       " 'Vitamin D',\n",
       " 'Wortmannin',\n",
       " 'Zn',\n",
       " 'Zoledronic Acid',\n",
       " '[(3)H]thymidine',\n",
       " '[Cr(pic)(3)]',\n",
       " 'acetyl-CoA',\n",
       " 'aldose',\n",
       " 'aloglipin',\n",
       " 'amino acid',\n",
       " 'arcapillin',\n",
       " 'arylsulfonyl chlorides',\n",
       " 'ascorbic acid',\n",
       " 'asymmetric dimethylarginine',\n",
       " 'atorvastatin acid',\n",
       " 'auranofin',\n",
       " 'barbituric acid',\n",
       " 'benzoquinones',\n",
       " 'benzothiazepinones',\n",
       " 'betulin',\n",
       " 'betulinic acid',\n",
       " 'bicyclic furanosesquiterpene',\n",
       " 'bile acid',\n",
       " 'cAMP',\n",
       " 'capillarisin',\n",
       " 'carbenoxolone',\n",
       " 'carnosine',\n",
       " 'catalpol',\n",
       " 'chromium picolinate',\n",
       " 'cirsilineol',\n",
       " 'clofibric acid',\n",
       " 'cyclic AMP',\n",
       " 'cyclic adenosine monophosphate',\n",
       " 'dUTP',\n",
       " 'daphnetin',\n",
       " 'dehydroepiandrosterone sulfate',\n",
       " 'dehydroeuryspongin A',\n",
       " 'diacylglyderide',\n",
       " 'dicaffeoylquinic acids',\n",
       " 'dihydrochalcone',\n",
       " 'docosahexaenoic acid',\n",
       " 'ebselen',\n",
       " 'eicosapentaenoic acid',\n",
       " 'epigallocatechin gallate',\n",
       " 'esculetin',\n",
       " 'esculin',\n",
       " 'euryspongins A-C',\n",
       " 'fatty acid',\n",
       " 'fatty acids',\n",
       " 'folic acid',\n",
       " 'free fatty acid',\n",
       " 'friedelin',\n",
       " 'gallotannin',\n",
       " 'glucose-6 phosphate',\n",
       " 'glycyrrhetinic acid',\n",
       " 'glycyrrhizin',\n",
       " 'hibiscus acid',\n",
       " 'high-fructose corn syrup',\n",
       " 'homoisoflavonoids',\n",
       " 'hyperoside',\n",
       " 'hypotaurine',\n",
       " 'idescarpin',\n",
       " 'isorhamnetin',\n",
       " 'isorhamnetin 3-glucoiside',\n",
       " 'isorhamnetin 3-robinobioside',\n",
       " 'isoscopolin',\n",
       " 'isothiazolidine-1,1-dione',\n",
       " 'kaempferol-3-O-(2-rhamnosyl) rutinoside',\n",
       " 'kaempferol-3-O-rutinoside',\n",
       " 'l-glutamine',\n",
       " 'lauric acid',\n",
       " 'linarin',\n",
       " 'lucidone',\n",
       " 'lupane',\n",
       " 'lupeol',\n",
       " 'macelignan',\n",
       " 'malondialdehite',\n",
       " 'methylglyoxal',\n",
       " 'n-BuOH',\n",
       " 'nicotinic acid',\n",
       " 'nitric oxide',\n",
       " 'norcamphor',\n",
       " 'nucleic acid',\n",
       " 'oleanane',\n",
       " 'oleanolic acid',\n",
       " 'oleic acid',\n",
       " 'ortho- and para-hydroxyatorvastatin',\n",
       " 'oxo- and hydroxy-aldehydes',\n",
       " 'palinurin',\n",
       " 'palmatine',\n",
       " 'pentacyclic triterpenes',\n",
       " 'pentacyclic triterpenoids',\n",
       " 'phosphatidylinositol 4-phosphate',\n",
       " 'phosphoenol-pyruvate',\n",
       " 'polygonatone D',\n",
       " 'polygonatones A-D',\n",
       " 'polyunsaturated fatty acids',\n",
       " 'propidium iodide',\n",
       " 'protectin D1',\n",
       " 'quercetin-3-O-(2-rhamnosyl) rutinoside',\n",
       " 'quercetin-3-O-rutinoside',\n",
       " 'resazurin',\n",
       " 'resolvin D1',\n",
       " 'retinaldehyde',\n",
       " 'retinoic acid',\n",
       " 'scoparone',\n",
       " 'scopoletin',\n",
       " 'scopolin',\n",
       " 'sesamol',\n",
       " 'sesquiterpenes',\n",
       " 'sodium orthovanadate',\n",
       " 'spiroiminoimidazolidine-2,4-dione',\n",
       " 'sulfur amino acid',\n",
       " 'sulfur amino acids',\n",
       " 'symmetric dimethylarginine',\n",
       " 'tetrazole',\n",
       " 'thiazolidine-2,4-dione',\n",
       " 'thiobarbituric acid',\n",
       " 'thyroid hormone',\n",
       " 'trigonelline',\n",
       " 'triterpenes',\n",
       " 'triterpenoid saponin glycoside',\n",
       " 'umbelliferone',\n",
       " 'unsaturated aldehydes',\n",
       " 'ursane',\n",
       " 'ursolic acid',\n",
       " 'vanadium-flavonol',\n",
       " 'vitamin B(12)',\n",
       " 'vitamin B12',\n",
       " 'vitamin C',\n",
       " 'vitamin D',\n",
       " 'vitamin D₃',\n",
       " 'vitamin E',\n",
       " 'yo pro-1',\n",
       " 'zoledronic acid',\n",
       " 'α,β-unsaturated-γ-lactone',\n",
       " 'β-Ala',\n",
       " 'γ-glutamylcysteine'}"
      ]
     },
     "execution_count": 102,
     "metadata": {},
     "output_type": "execute_result"
    }
   ],
   "source": [
    "unused_terms"
   ]
  },
  {
   "cell_type": "code",
   "execution_count": 92,
   "metadata": {},
   "outputs": [
    {
     "data": {
      "text/plain": [
       "4355"
      ]
     },
     "execution_count": 92,
     "metadata": {},
     "output_type": "execute_result"
    }
   ],
   "source": [
    "import pandas as pd\n",
    "from datasets import load_dataset\n",
    "\n",
    "hcm = load_dataset(\"lighteval/med_dialog\", 'healthcaremagic')\n",
    "\n",
    "hcm_train = pd.DataFrame(hcm['train'])  # Pandas DataFrame으로 변환\n",
    "\n",
    "count = ((hcm_train['tgt'].str.contains('diabetes')) | (hcm_train['src'].str.contains('diabetes')))\n",
    "count.sum()"
   ]
  },
  {
   "cell_type": "code",
   "execution_count": 47,
   "metadata": {},
   "outputs": [
    {
     "data": {
      "text/html": [
       "<div>\n",
       "<style scoped>\n",
       "    .dataframe tbody tr th:only-of-type {\n",
       "        vertical-align: middle;\n",
       "    }\n",
       "\n",
       "    .dataframe tbody tr th {\n",
       "        vertical-align: top;\n",
       "    }\n",
       "\n",
       "    .dataframe thead th {\n",
       "        text-align: right;\n",
       "    }\n",
       "</style>\n",
       "<table border=\"1\" class=\"dataframe\">\n",
       "  <thead>\n",
       "    <tr style=\"text-align: right;\">\n",
       "      <th></th>\n",
       "      <th>tgt</th>\n",
       "      <th>src</th>\n",
       "      <th>id</th>\n",
       "    </tr>\n",
       "  </thead>\n",
       "  <tbody>\n",
       "    <tr>\n",
       "      <th>1</th>\n",
       "      <td>What causes low blood sugar in new born baby?</td>\n",
       "      <td>Patient: Hi, my sister delivered a baby boy ju...</td>\n",
       "      <td>167469</td>\n",
       "    </tr>\n",
       "    <tr>\n",
       "      <th>18</th>\n",
       "      <td>What is the prognosis while on Insulin pump th...</td>\n",
       "      <td>Patient: My endocrine specialist gave me a dia...</td>\n",
       "      <td>191264</td>\n",
       "    </tr>\n",
       "    <tr>\n",
       "      <th>29</th>\n",
       "      <td>Suggest treatment for swollen and painful knee</td>\n",
       "      <td>Patient: I had a complete knee replacement in ...</td>\n",
       "      <td>136003</td>\n",
       "    </tr>\n",
       "    <tr>\n",
       "      <th>50</th>\n",
       "      <td>Fatty liver, raised SGPT and SGOT. Curable?</td>\n",
       "      <td>Patient: Hello Doctor, I have recently diagnos...</td>\n",
       "      <td>59826</td>\n",
       "    </tr>\n",
       "    <tr>\n",
       "      <th>52</th>\n",
       "      <td>Is there a correlation between carotid blockag...</td>\n",
       "      <td>Patient: I am a 64 diabetic male without any s...</td>\n",
       "      <td>21961</td>\n",
       "    </tr>\n",
       "    <tr>\n",
       "      <th>...</th>\n",
       "      <td>...</td>\n",
       "      <td>...</td>\n",
       "      <td>...</td>\n",
       "    </tr>\n",
       "    <tr>\n",
       "      <th>180782</th>\n",
       "      <td>Is stem cell treatment viable here?</td>\n",
       "      <td>Patient: My father was diebetic from last 25 y...</td>\n",
       "      <td>46956</td>\n",
       "    </tr>\n",
       "    <tr>\n",
       "      <th>180801</th>\n",
       "      <td>Suggest treatment for swollen and painful leg</td>\n",
       "      <td>Patient: My father in law is 70 but was walkin...</td>\n",
       "      <td>136876</td>\n",
       "    </tr>\n",
       "    <tr>\n",
       "      <th>180821</th>\n",
       "      <td>What cause the wrist pain while bending backward?</td>\n",
       "      <td>Patient: I ve had wrist pain on and off for ye...</td>\n",
       "      <td>125026</td>\n",
       "    </tr>\n",
       "    <tr>\n",
       "      <th>180863</th>\n",
       "      <td>Diabetes, high blood pressure, high serum crea...</td>\n",
       "      <td>Patient: I am on diabetic and high bp treatmen...</td>\n",
       "      <td>51234</td>\n",
       "    </tr>\n",
       "    <tr>\n",
       "      <th>180899</th>\n",
       "      <td>What causes tremors in body,poor balance and t...</td>\n",
       "      <td>Patient: I have the shakes in my body. Poor ba...</td>\n",
       "      <td>145553</td>\n",
       "    </tr>\n",
       "  </tbody>\n",
       "</table>\n",
       "<p>4355 rows × 3 columns</p>\n",
       "</div>"
      ],
      "text/plain": [
       "                                                      tgt  ...      id\n",
       "1           What causes low blood sugar in new born baby?  ...  167469\n",
       "18      What is the prognosis while on Insulin pump th...  ...  191264\n",
       "29         Suggest treatment for swollen and painful knee  ...  136003\n",
       "50            Fatty liver, raised SGPT and SGOT. Curable?  ...   59826\n",
       "52      Is there a correlation between carotid blockag...  ...   21961\n",
       "...                                                   ...  ...     ...\n",
       "180782                Is stem cell treatment viable here?  ...   46956\n",
       "180801      Suggest treatment for swollen and painful leg  ...  136876\n",
       "180821  What cause the wrist pain while bending backward?  ...  125026\n",
       "180863  Diabetes, high blood pressure, high serum crea...  ...   51234\n",
       "180899  What causes tremors in body,poor balance and t...  ...  145553\n",
       "\n",
       "[4355 rows x 3 columns]"
      ]
     },
     "execution_count": 47,
     "metadata": {},
     "output_type": "execute_result"
    }
   ],
   "source": [
    "hcm_train[count]"
   ]
  },
  {
   "cell_type": "code",
   "execution_count": 51,
   "metadata": {},
   "outputs": [],
   "source": [
    "import pandas as pd\n",
    "import re\n",
    "\n",
    "hcm_train_tmp = hcm_train[count]  # 원본 데이터프레임의 특정 부분 사용\n",
    "\n",
    "# 특정 단어 리스트\n",
    "keywords = set(terms)  # 검색 속도 향상을 위해 set 변환\n",
    "\n",
    "# 포함된 키워드 찾기 함수 (단어 단위 매칭)\n",
    "def find_matching_keywords(text, keywords):\n",
    "    words = set(text.lower().split())  # 문장을 단어 리스트로 변환 후 set으로 저장\n",
    "    return list(words & keywords)  # 교집합을 찾아 해당 단어 반환\n",
    "\n",
    "# 특정 단어가 포함된 행 필터링\n",
    "filtered_rows = hcm_train_tmp[\n",
    "    hcm_train_tmp[\"src\"].apply(lambda x: bool(find_matching_keywords(x, keywords))) |\n",
    "    hcm_train_tmp[\"tgt\"].apply(lambda x: bool(find_matching_keywords(x, keywords)))\n",
    "].copy()  # 원본 변경을 방지하기 위해 copy()\n",
    "\n",
    "# 각 행별로 포함된 키워드 찾기\n",
    "filtered_rows[\"matched_keywords_src\"] = filtered_rows[\"src\"].apply(lambda x: find_matching_keywords(x, keywords))\n",
    "filtered_rows[\"matched_keywords_tgt\"] = filtered_rows[\"tgt\"].apply(lambda x: find_matching_keywords(x, keywords))\n",
    "\n",
    "# 특정 단어 포함된 행 개수 출력\n",
    "cnt = filtered_rows.shape[0]\n",
    "print(f\"특정 단어들이 포함된 행 개수: {cnt}\")\n"
   ]
  },
  {
   "cell_type": "code",
   "execution_count": 52,
   "metadata": {},
   "outputs": [
    {
     "data": {
      "text/plain": [
       "3516"
      ]
     },
     "execution_count": 52,
     "metadata": {},
     "output_type": "execute_result"
    }
   ],
   "source": [
    "cnt"
   ]
  },
  {
   "cell_type": "code",
   "execution_count": 53,
   "metadata": {},
   "outputs": [
    {
     "data": {
      "text/html": [
       "<div>\n",
       "<style scoped>\n",
       "    .dataframe tbody tr th:only-of-type {\n",
       "        vertical-align: middle;\n",
       "    }\n",
       "\n",
       "    .dataframe tbody tr th {\n",
       "        vertical-align: top;\n",
       "    }\n",
       "\n",
       "    .dataframe thead th {\n",
       "        text-align: right;\n",
       "    }\n",
       "</style>\n",
       "<table border=\"1\" class=\"dataframe\">\n",
       "  <thead>\n",
       "    <tr style=\"text-align: right;\">\n",
       "      <th></th>\n",
       "      <th>tgt</th>\n",
       "      <th>src</th>\n",
       "      <th>id</th>\n",
       "      <th>matched_keywords_src</th>\n",
       "      <th>matched_keywords_tgt</th>\n",
       "    </tr>\n",
       "  </thead>\n",
       "  <tbody>\n",
       "    <tr>\n",
       "      <th>1</th>\n",
       "      <td>What causes low blood sugar in new born baby?</td>\n",
       "      <td>Patient: Hi, my sister delivered a baby boy ju...</td>\n",
       "      <td>167469</td>\n",
       "      <td>[sugar, after]</td>\n",
       "      <td>[sugar]</td>\n",
       "    </tr>\n",
       "    <tr>\n",
       "      <th>18</th>\n",
       "      <td>What is the prognosis while on Insulin pump th...</td>\n",
       "      <td>Patient: My endocrine specialist gave me a dia...</td>\n",
       "      <td>191264</td>\n",
       "      <td>[glucose]</td>\n",
       "      <td>[]</td>\n",
       "    </tr>\n",
       "    <tr>\n",
       "      <th>29</th>\n",
       "      <td>Suggest treatment for swollen and painful knee</td>\n",
       "      <td>Patient: I had a complete knee replacement in ...</td>\n",
       "      <td>136003</td>\n",
       "      <td>[function]</td>\n",
       "      <td>[]</td>\n",
       "    </tr>\n",
       "    <tr>\n",
       "      <th>50</th>\n",
       "      <td>Fatty liver, raised SGPT and SGOT. Curable?</td>\n",
       "      <td>Patient: Hello Doctor, I have recently diagnos...</td>\n",
       "      <td>59826</td>\n",
       "      <td>[bilirubin, completely, cholesterol]</td>\n",
       "      <td>[]</td>\n",
       "    </tr>\n",
       "    <tr>\n",
       "      <th>52</th>\n",
       "      <td>Is there a correlation between carotid blockag...</td>\n",
       "      <td>Patient: I am a 64 diabetic male without any s...</td>\n",
       "      <td>21961</td>\n",
       "      <td>[correlation, symptoms]</td>\n",
       "      <td>[correlation]</td>\n",
       "    </tr>\n",
       "    <tr>\n",
       "      <th>64</th>\n",
       "      <td>What are the possibilities of heart attack ins...</td>\n",
       "      <td>Patient: Male 27 y/r 5 6 217lbs pain in left &amp;...</td>\n",
       "      <td>25303</td>\n",
       "      <td>[factors, after, ischemic]</td>\n",
       "      <td>[]</td>\n",
       "    </tr>\n",
       "    <tr>\n",
       "      <th>198</th>\n",
       "      <td>What causes sensitivity in penis even for a sl...</td>\n",
       "      <td>Patient: When Im sitting around at times my se...</td>\n",
       "      <td>192859</td>\n",
       "      <td>[after]</td>\n",
       "      <td>[]</td>\n",
       "    </tr>\n",
       "    <tr>\n",
       "      <th>284</th>\n",
       "      <td>Suffering from white spots on whole body. Diag...</td>\n",
       "      <td>Patient: Hi , I am deepa 28 years old and suff...</td>\n",
       "      <td>97803</td>\n",
       "      <td>[arsenic, factors, effective]</td>\n",
       "      <td>[]</td>\n",
       "    </tr>\n",
       "    <tr>\n",
       "      <th>353</th>\n",
       "      <td>What would cause high FBS levels in a person w...</td>\n",
       "      <td>Patient: Hi, I recently tested for diabetes wi...</td>\n",
       "      <td>191258</td>\n",
       "      <td>[symptoms, glucose]</td>\n",
       "      <td>[]</td>\n",
       "    </tr>\n",
       "    <tr>\n",
       "      <th>416</th>\n",
       "      <td>What does cortical thinning in right kidney wi...</td>\n",
       "      <td>Patient: There is mild cortical thinning invol...</td>\n",
       "      <td>46720</td>\n",
       "      <td>[function, correlation, cortex]</td>\n",
       "      <td>[]</td>\n",
       "    </tr>\n",
       "  </tbody>\n",
       "</table>\n",
       "</div>"
      ],
      "text/plain": [
       "                                                   tgt  ... matched_keywords_tgt\n",
       "1        What causes low blood sugar in new born baby?  ...              [sugar]\n",
       "18   What is the prognosis while on Insulin pump th...  ...                   []\n",
       "29      Suggest treatment for swollen and painful knee  ...                   []\n",
       "50         Fatty liver, raised SGPT and SGOT. Curable?  ...                   []\n",
       "52   Is there a correlation between carotid blockag...  ...        [correlation]\n",
       "64   What are the possibilities of heart attack ins...  ...                   []\n",
       "198  What causes sensitivity in penis even for a sl...  ...                   []\n",
       "284  Suffering from white spots on whole body. Diag...  ...                   []\n",
       "353  What would cause high FBS levels in a person w...  ...                   []\n",
       "416  What does cortical thinning in right kidney wi...  ...                   []\n",
       "\n",
       "[10 rows x 5 columns]"
      ]
     },
     "execution_count": 53,
     "metadata": {},
     "output_type": "execute_result"
    }
   ],
   "source": [
    "filtered_rows[:10]"
   ]
  },
  {
   "cell_type": "code",
   "execution_count": 54,
   "metadata": {},
   "outputs": [],
   "source": [
    "import pandas as pd\n",
    "\n",
    "hcm_train_tmp = hcm_train[count]  # 원본 데이터프레임의 특정 부분 사용\n",
    "\n",
    "# 특정 단어 리스트\n",
    "keywords = set(terms)  # 검색 속도 향상을 위해 set 변환\n",
    "\n",
    "# 포함된 키워드 찾기 함수 (단어 단위 매칭)\n",
    "def find_matching_keywords(text, keywords):\n",
    "    words = set(text.lower().split())  # 문장을 단어 리스트로 변환 후 set으로 저장\n",
    "    return words & keywords  # 교집합을 찾아 해당 단어 반환\n",
    "\n",
    "# 데이터셋에서 실제 등장한 용어들을 저장할 set\n",
    "found_terms = set()\n",
    "\n",
    "# src 컬럼과 tgt 컬럼에서 실제 등장한 단어 찾기\n",
    "for col in [\"src\", \"tgt\"]:\n",
    "    found_terms.update(hcm_train_tmp[col].apply(lambda x: find_matching_keywords(x, keywords)).explode().dropna())\n",
    "\n",
    "# terms 리스트 중 등장하지 않은 용어 찾기\n",
    "unused_terms = keywords - found_terms\n",
    "\n",
    "# 특정 단어 포함된 행 개수 출력\n",
    "print(f\"데이터셋에서 등장하지 않은 용어 개수: {len(unused_terms)}\")\n",
    "print(f\"등장하지 않은 용어 리스트: {unused_terms}\")\n"
   ]
  },
  {
   "cell_type": "code",
   "execution_count": 56,
   "metadata": {},
   "outputs": [
    {
     "data": {
      "text/plain": [
       "2741"
      ]
     },
     "execution_count": 56,
     "metadata": {},
     "output_type": "execute_result"
    }
   ],
   "source": [
    "len(unused_terms)"
   ]
  },
  {
   "cell_type": "code",
   "execution_count": 57,
   "metadata": {},
   "outputs": [
    {
     "data": {
      "text/plain": [
       "2917"
      ]
     },
     "execution_count": 57,
     "metadata": {},
     "output_type": "execute_result"
    }
   ],
   "source": [
    "len(terms)"
   ]
  },
  {
   "cell_type": "code",
   "execution_count": 87,
   "metadata": {},
   "outputs": [
    {
     "data": {
      "text/plain": [
       "125"
      ]
     },
     "execution_count": 87,
     "metadata": {},
     "output_type": "execute_result"
    }
   ],
   "source": [
    "terms1 = list(set(biorel['test']['relation']))\n",
    "\n",
    "terms2 = list(set(biorel['train']['relation']))\n",
    "intersection_count = len(set(terms1) & set(terms2))\n",
    "intersection_count"
   ]
  },
  {
   "cell_type": "code",
   "execution_count": 78,
   "metadata": {},
   "outputs": [
    {
     "data": {
      "text/plain": [
       "['process initiates biological process',\n",
       " 'is component of chemotherapy regimen',\n",
       " 'cdrh parent of',\n",
       " 'is normal cell origin of disease',\n",
       " 'has ingredient',\n",
       " 'biological process has result chemical or drug',\n",
       " 'may diagnose',\n",
       " 'therapeutic class of',\n",
       " 'disease may have finding',\n",
       " 'process includes biological process',\n",
       " 'disease may have associated disease',\n",
       " 'special category includes neoplasm',\n",
       " 'gene found in organism',\n",
       " 'disease has associated anatomic site',\n",
       " 'tradename of',\n",
       " 'is chemical classification of gene product',\n",
       " 'is associated anatomy of gene product',\n",
       " 'may be finding of disease',\n",
       " 'partially excised anatomy has procedure',\n",
       " 'complex has physical part',\n",
       " 'biological process has associated location',\n",
       " 'gene product plays role in biological process',\n",
       " 'is structural domain or motif of gene product',\n",
       " 'gene product has organism source',\n",
       " 'may treat',\n",
       " 'chemical or drug initiates biological process',\n",
       " 'has active metabolites',\n",
       " 'has salt form',\n",
       " 'gene product is biomarker of',\n",
       " 'chemical or drug affects gene product',\n",
       " 'target anatomy has procedure',\n",
       " 'conceptual part of',\n",
       " 'is location of anatomic structure',\n",
       " 'is physiologic effect of chemical or drug',\n",
       " 'is not primary anatomic site of disease',\n",
       " 'disease has abnormal cell',\n",
       " 'is abnormal cell of disease',\n",
       " 'may be prevented by',\n",
       " 'procedure has partially excised anatomy',\n",
       " 'disease excludes normal cell origin',\n",
       " 'has tradename',\n",
       " 'anatomic structure is physical part of',\n",
       " 'is not normal cell origin of disease',\n",
       " 'organism has gene',\n",
       " 'nichd parent of',\n",
       " 'has therapeutic class',\n",
       " 'has free acid or base form',\n",
       " 'procedure has completely excised anatomy',\n",
       " 'may be treated by',\n",
       " 'gene product malfunction associated with disease',\n",
       " 'has nichd parent',\n",
       " 'gene product expressed in tissue',\n",
       " 'disease has primary anatomic site',\n",
       " 'contraindicated with disease',\n",
       " 'has chemical structure',\n",
       " 'procedure has excised anatomy',\n",
       " 'is metastatic anatomic site of disease',\n",
       " 'induces',\n",
       " 'disease has metastatic anatomic site',\n",
       " 'chemical structure of',\n",
       " 'biological process has result biological process',\n",
       " 'disease has normal cell origin',\n",
       " 'disease has associated disease',\n",
       " 'is marked by gene product',\n",
       " 'is primary anatomic site of disease',\n",
       " 'ingredient of',\n",
       " 'gene product has structural domain or motif',\n",
       " 'disease has finding',\n",
       " 'gene product has biochemical function',\n",
       " 'gene mapped to disease',\n",
       " 'pathogenesis of disease involves gene',\n",
       " 'tissue is expression site of gene product',\n",
       " 'has physiologic effect',\n",
       " 'contraindicating class of',\n",
       " 'biological process has initiator process',\n",
       " 'has cdrh parent',\n",
       " 'NA',\n",
       " 'is associated anatomic site of',\n",
       " 'gene product affected by chemical or drug',\n",
       " 'has contraindicated drug',\n",
       " 'is biochemical function of gene product',\n",
       " 'chemical or drug is product of biological process',\n",
       " 'chemotherapy regimen has component',\n",
       " 'disease excludes primary anatomic site',\n",
       " 'disease has normal tissue origin',\n",
       " 'biological process is part of process',\n",
       " 'is finding of disease',\n",
       " 'is associated disease of',\n",
       " 'gene product has chemical classification',\n",
       " 'biological process results from biological process',\n",
       " 'is normal tissue origin of disease',\n",
       " 'process involves gene',\n",
       " 'physiologic effect of',\n",
       " 'biological process has initiator chemical or drug',\n",
       " 'anatomy originated from biological process',\n",
       " 'gene product has associated anatomy',\n",
       " 'has conceptual part',\n",
       " 'is location of biological process',\n",
       " 'may be diagnosed by',\n",
       " 'gene plays role in process',\n",
       " 'concept in subset',\n",
       " 'anatomic structure has location',\n",
       " 'gene product is physical part of',\n",
       " 'has mechanism of action',\n",
       " 'is organism source of gene product',\n",
       " 'may prevent',\n",
       " 'associated with malfunction of gene product',\n",
       " 'completely excised anatomy has procedure',\n",
       " 'has contraindicating class',\n",
       " 'may be associated disease of disease',\n",
       " 'biological process has result anatomy',\n",
       " 'induced by',\n",
       " 'excised anatomy has procedure',\n",
       " 'gene product encoded by gene',\n",
       " 'biological process involves gene product',\n",
       " 'disease has associated gene',\n",
       " 'has physical part of anatomic structure',\n",
       " 'gene encodes gene product',\n",
       " 'mechanism of action of',\n",
       " 'subset includes concept',\n",
       " 'gene associated with disease',\n",
       " 'biomarker type includes gene product',\n",
       " 'procedure has target anatomy',\n",
       " 'product component of',\n",
       " 'active metabolites of']"
      ]
     },
     "execution_count": 78,
     "metadata": {},
     "output_type": "execute_result"
    }
   ],
   "source": [
    "terms = [term.replace(\"_\", \" \") for term in terms]\n",
    "# terms"
   ]
  },
  {
   "cell_type": "code",
   "execution_count": 84,
   "metadata": {},
   "outputs": [
    {
     "data": {
      "text/plain": [
       "125"
      ]
     },
     "execution_count": 84,
     "metadata": {},
     "output_type": "execute_result"
    }
   ],
   "source": [
    "len(terms)"
   ]
  },
  {
   "cell_type": "code",
   "execution_count": 79,
   "metadata": {},
   "outputs": [
    {
     "data": {
      "text/plain": [
       "DatasetDict({\n",
       "    train: Dataset({\n",
       "        features: ['input', 'instruction', 'output'],\n",
       "        num_rows: 79245\n",
       "    })\n",
       "    validation: Dataset({\n",
       "        features: ['input', 'instruction', 'output'],\n",
       "        num_rows: 9906\n",
       "    })\n",
       "    test: Dataset({\n",
       "        features: ['input', 'instruction', 'output'],\n",
       "        num_rows: 9906\n",
       "    })\n",
       "})"
      ]
     },
     "execution_count": 79,
     "metadata": {},
     "output_type": "execute_result"
    }
   ],
   "source": [
    "umls = load_dataset(\"avaliev/umls\")\n",
    "\n",
    "umls"
   ]
  },
  {
   "cell_type": "code",
   "execution_count": 80,
   "metadata": {},
   "outputs": [
    {
     "data": {
      "text/plain": [
       "Dataset({\n",
       "    features: ['input', 'instruction', 'output'],\n",
       "    num_rows: 79245\n",
       "})"
      ]
     },
     "execution_count": 80,
     "metadata": {},
     "output_type": "execute_result"
    }
   ],
   "source": [
    "umls['train']"
   ]
  },
  {
   "cell_type": "code",
   "execution_count": 81,
   "metadata": {},
   "outputs": [],
   "source": [
    "import pandas as pd\n",
    "\n",
    "umls =pd.DataFrame(umls['train'])\n",
    "\n",
    "# 특정 단어 리스트\n",
    "keywords = set(terms)  # 검색 속도 향상을 위해 set 변환\n",
    "\n",
    "# 포함된 키워드 찾기 함수 (단어 단위 매칭)\n",
    "def find_matching_keywords(text, keywords):\n",
    "    words = set(text.lower().split())  # 문장을 단어 리스트로 변환 후 set으로 저장\n",
    "    return words & keywords  # 교집합을 찾아 해당 단어 반환\n",
    "\n",
    "# 데이터셋에서 실제 등장한 용어들을 저장할 set\n",
    "found_terms = set()\n",
    "\n",
    "# src 컬럼과 tgt 컬럼에서 실제 등장한 단어 찾기\n",
    "for col in [\"input\", \"instruction\", \"output\"]:\n",
    "    found_terms.update(umls[col].apply(lambda x: find_matching_keywords(x, keywords)).explode().dropna())\n",
    "\n",
    "# terms 리스트 중 등장하지 않은 용어 찾기\n",
    "unused_terms = keywords - found_terms\n",
    "\n",
    "# 특정 단어 포함된 행 개수 출력\n",
    "print(f\"데이터셋에서 등장하지 않은 용어 개수: {len(unused_terms)}\")\n",
    "print(f\"등장하지 않은 용어 리스트: {unused_terms}\")\n"
   ]
  },
  {
   "cell_type": "code",
   "execution_count": 82,
   "metadata": {},
   "outputs": [
    {
     "data": {
      "text/plain": [
       "124"
      ]
     },
     "execution_count": 82,
     "metadata": {},
     "output_type": "execute_result"
    }
   ],
   "source": [
    "len(unused_terms)"
   ]
  },
  {
   "cell_type": "code",
   "execution_count": 83,
   "metadata": {},
   "outputs": [
    {
     "data": {
      "text/plain": [
       "125"
      ]
     },
     "execution_count": 83,
     "metadata": {},
     "output_type": "execute_result"
    }
   ],
   "source": [
    "len(terms)"
   ]
  },
  {
   "cell_type": "code",
   "execution_count": null,
   "metadata": {},
   "outputs": [],
   "source": []
  }
 ],
 "metadata": {
  "kernelspec": {
   "display_name": "meal_kernel",
   "language": "python",
   "name": "meal"
  },
  "language_info": {
   "codemirror_mode": {
    "name": "ipython",
    "version": 3
   },
   "file_extension": ".py",
   "mimetype": "text/x-python",
   "name": "python",
   "nbconvert_exporter": "python",
   "pygments_lexer": "ipython3",
   "version": "3.12.0"
  }
 },
 "nbformat": 4,
 "nbformat_minor": 2
}
