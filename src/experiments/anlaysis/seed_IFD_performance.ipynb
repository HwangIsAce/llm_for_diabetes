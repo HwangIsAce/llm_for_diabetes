{
 "cells": [
  {
   "cell_type": "code",
   "execution_count": 5,
   "metadata": {},
   "outputs": [],
   "source": [
    "# data load"
   ]
  },
  {
   "cell_type": "code",
   "execution_count": 9,
   "metadata": {},
   "outputs": [],
   "source": [
    "import json\n",
    "import pandas as pd\n",
    "# \n",
    "file_paths = [\n",
    "    \"/data/jaesung/llm_for_diabetes/src/trial8/anlaysis/response/bio_mistral.jsonl\",\n",
    "    # \"/data/jaesung/llm_for_diabetes/src/trial/CoT_collection/model_response/test_1.jsonl\"\n",
    "]\n",
    "\n",
    "data = []\n",
    "for file_path in file_paths:\n",
    "    with open(file_path, 'r', encoding='utf-8') as f:\n",
    "        for line in f:\n",
    "            data.append(json.loads(line))\n",
    "\n",
    "df = pd.DataFrame(data)"
   ]
  },
  {
   "cell_type": "code",
   "execution_count": 2,
   "metadata": {},
   "outputs": [
    {
     "name": "stdout",
     "output_type": "stream",
     "text": [
      "GPT-based Accuracy: 0.3600\n"
     ]
    }
   ],
   "source": [
    "# medqa\n",
    "\n",
    "import openai\n",
    "import pandas as pd\n",
    "import os\n",
    "from dotenv import load_dotenv\n",
    "\n",
    "# 환경 변수 로드 (API 키 설정)\n",
    "load_dotenv()\n",
    "openai.api_key = os.getenv(\"OPENAI_API_KEY\")\n",
    "\n",
    "def check_answer_correctness(true_answer, model_answer):\n",
    "    \"\"\"\n",
    "    GPT-3.5-turbo를 사용하여 true_answer와 model_answer가 같은 의미인지 판별\n",
    "    \"\"\"\n",
    "    prompt = f\"\"\"\n",
    "    You are evaluating the correctness of an AI-generated medical answer.\n",
    "    Compare the following two answers and determine if they mean the same thing.\n",
    "\n",
    "    **Correct Answer**: {true_answer}\n",
    "    **Model Output**: {model_answer}\n",
    "\n",
    "    If the model output correctly conveys the same answer as the correct answer, respond only with \"YES\".\n",
    "    If the model output is incorrect or has a different meaning, respond only with \"NO\".\n",
    "    \"\"\"\n",
    "    try:\n",
    "        client = openai.OpenAI()\n",
    "        response = client.chat.completions.create(\n",
    "            model=\"gpt-4o\",\n",
    "            messages=[{\"role\": \"user\", \"content\": prompt}]\n",
    "        )\n",
    "        result = response.choices[0].message.content.strip()\n",
    "        return result == \"YES\"  # GPT 응답이 YES면 정답 처리\n",
    "    except Exception as e:\n",
    "        print(f\"Error during GPT evaluation: {e}\")\n",
    "        return False  # 오류 발생 시 오답 처리\n",
    "\n",
    "# 데이터 로드 및 필터링\n",
    "qa1 = df[df['task'] == 'qa1']\n",
    "\n",
    "# 정답 판별 수행\n",
    "correct_count = 0\n",
    "total_count = len(qa1)\n",
    "\n",
    "for _, row in qa1.iterrows():\n",
    "    true_answer = row['output'].strip()\n",
    "    model_answer = row['model_output_32'].strip()\n",
    "    is_correct = check_answer_correctness(true_answer, model_answer)\n",
    "    if is_correct:\n",
    "        correct_count += 1\n",
    "\n",
    "# Accuracy 계산\n",
    "accuracy = correct_count / total_count if total_count > 0 else 0\n",
    "print(f\"GPT-based Accuracy: {accuracy:.4f}\")"
   ]
  },
  {
   "cell_type": "code",
   "execution_count": 3,
   "metadata": {},
   "outputs": [
    {
     "name": "stdout",
     "output_type": "stream",
     "text": [
      "GPT-based Accuracy: 0.4200\n"
     ]
    }
   ],
   "source": [
    "# medmcqa\n",
    "\n",
    "import pandas as pd\n",
    "\n",
    "import openai\n",
    "import pandas as pd\n",
    "import os\n",
    "from dotenv import load_dotenv\n",
    "\n",
    "# 환경 변수 로드 (API 키 설정)\n",
    "load_dotenv()\n",
    "openai.api_key = os.getenv(\"OPENAI_API_KEY\")\n",
    "\n",
    "def check_answer_correctness(true_answer, model_answer):\n",
    "    \"\"\"\n",
    "    GPT-3.5-turbo를 사용하여 true_answer와 model_answer가 같은 의미인지 판별\n",
    "    \"\"\"\n",
    "    prompt = f\"\"\"\n",
    "    You are evaluating the correctness of an AI-generated medical answer.\n",
    "    Compare the following two answers and determine if they mean the same thing.\n",
    "\n",
    "    **Correct Answer**: {true_answer}\n",
    "    **Model Output**: {model_answer}\n",
    "\n",
    "    If the model output correctly conveys the same answer as the correct answer, respond only with \"YES\".\n",
    "    If the model output is incorrect or has a different meaning, respond only with \"NO\".\n",
    "    \"\"\"\n",
    "    try:\n",
    "        client = openai.OpenAI()\n",
    "        response = client.chat.completions.create(\n",
    "            model=\"gpt-4o\",\n",
    "            messages=[{\"role\": \"user\", \"content\": prompt}]\n",
    "        )\n",
    "        result = response.choices[0].message.content.strip()\n",
    "        return result == \"YES\"  # GPT 응답이 YES면 정답 처리\n",
    "    except Exception as e:\n",
    "        print(f\"Error during GPT evaluation: {e}\")\n",
    "        return False  # 오류 발생 시 오답 처리\n",
    "\n",
    "# 데이터 로드 및 필터링\n",
    "qa2 = df[df['task'] == 'qa2']\n",
    "\n",
    "# 정답 판별 수행\n",
    "correct_count = 0\n",
    "total_count = len(qa2)\n",
    "\n",
    "for _, row in qa2.iterrows():\n",
    "    true_answer = row['output'].strip()\n",
    "    model_answer = row['model_output_32'].strip()\n",
    "    is_correct = check_answer_correctness(true_answer, model_answer)\n",
    "    if is_correct:\n",
    "        correct_count += 1\n",
    "\n",
    "# Accuracy 계산\n",
    "accuracy = correct_count / total_count if total_count > 0 else 0\n",
    "print(f\"GPT-based Accuracy: {accuracy:.4f}\")\n"
   ]
  },
  {
   "cell_type": "code",
   "execution_count": 4,
   "metadata": {},
   "outputs": [
    {
     "name": "stdout",
     "output_type": "stream",
     "text": [
      "GPT-based Accuracy: 0.7900\n"
     ]
    }
   ],
   "source": [
    "# pubmedqa\n",
    "\n",
    "import openai\n",
    "import pandas as pd\n",
    "import os\n",
    "from dotenv import load_dotenv\n",
    "\n",
    "# 환경 변수 로드 (API 키 설정)\n",
    "load_dotenv()\n",
    "openai.api_key = os.getenv(\"OPENAI_API_KEY\")\n",
    "\n",
    "def check_answer_correctness(true_answer, model_answer):\n",
    "    \"\"\"\n",
    "    GPT-3.5-turbo를 사용하여 true_answer와 model_answer가 같은 의미인지 판별\n",
    "    \"\"\"\n",
    "    prompt = f\"\"\"\n",
    "    You are evaluating the correctness of an AI-generated medical answer.\n",
    "    Compare the following two answers and determine if they mean the same thing.\n",
    "\n",
    "    **Correct Answer**: {true_answer}\n",
    "    **Model Output**: {model_answer}\n",
    "\n",
    "    If the model output correctly conveys the same answer as the correct answer, respond only with \"YES\".\n",
    "    If the model output is incorrect or has a different meaning, respond only with \"NO\".\n",
    "    \"\"\"\n",
    "    try:\n",
    "        client = openai.OpenAI()\n",
    "        response = client.chat.completions.create(\n",
    "            model=\"gpt-4o\",\n",
    "            messages=[{\"role\": \"user\", \"content\": prompt}]\n",
    "        )\n",
    "        result = response.choices[0].message.content.strip()\n",
    "        return result == \"YES\"  # GPT 응답이 YES면 정답 처리\n",
    "    except Exception as e:\n",
    "        print(f\"Error during GPT evaluation: {e}\")\n",
    "        return False  # 오류 발생 시 오답 처리\n",
    "\n",
    "# 데이터 로드 및 필터링\n",
    "qa3 = df[df['task'] == 'qa3']\n",
    "\n",
    "# 정답 판별 수행\n",
    "correct_count = 0\n",
    "total_count = len(qa3)\n",
    "\n",
    "for _, row in qa3.iterrows():\n",
    "    true_answer = row['output'].strip()\n",
    "    model_answer = row['model_output_32'].strip()\n",
    "    is_correct = check_answer_correctness(true_answer, model_answer)\n",
    "    if is_correct:\n",
    "        correct_count += 1\n",
    "\n",
    "# Accuracy 계산\n",
    "accuracy = correct_count / total_count if total_count > 0 else 0\n",
    "print(f\"GPT-based Accuracy: {accuracy:.4f}\")\n"
   ]
  },
  {
   "cell_type": "code",
   "execution_count": 5,
   "metadata": {},
   "outputs": [
    {
     "name": "stdout",
     "output_type": "stream",
     "text": [
      "GPT-based Accuracy: 0.4800\n"
     ]
    }
   ],
   "source": [
    "# bionli\n",
    "\n",
    "import openai\n",
    "import pandas as pd\n",
    "import os\n",
    "from dotenv import load_dotenv\n",
    "\n",
    "# 환경 변수 로드 (API 키 설정)\n",
    "load_dotenv()\n",
    "openai.api_key = os.getenv(\"OPENAI_API_KEY\")\n",
    "\n",
    "def check_answer_correctness(true_answer, model_answer):\n",
    "    \"\"\"\n",
    "    GPT-3.5-turbo를 사용하여 true_answer와 model_answer가 같은 의미인지 판별\n",
    "    \"\"\"\n",
    "    prompt = f\"\"\"\n",
    "    You are evaluating the correctness of an AI-generated medical answer.\n",
    "    Compare the following two answers and determine if they mean the same thing.\n",
    "\n",
    "    **Correct Answer**: {true_answer}\n",
    "    **Model Output**: {model_answer}\n",
    "\n",
    "    If the model output correctly conveys the same answer as the correct answer, respond only with \"YES\".\n",
    "    If the model output is incorrect or has a different meaning, respond only with \"NO\".\n",
    "    \"\"\"\n",
    "    try:\n",
    "        client = openai.OpenAI()\n",
    "        response = client.chat.completions.create(\n",
    "            model=\"gpt-4o\",\n",
    "            messages=[{\"role\": \"user\", \"content\": prompt}]\n",
    "        )\n",
    "        result = response.choices[0].message.content.strip()\n",
    "        return result == \"YES\"  # GPT 응답이 YES면 정답 처리\n",
    "    except Exception as e:\n",
    "        print(f\"Error during GPT evaluation: {e}\")\n",
    "        return False  # 오류 발생 시 오답 처리\n",
    "\n",
    "# 데이터 로드 및 필터링\n",
    "nli = df[df['task'] == 'nli']\n",
    "\n",
    "# 정답 판별 수행\n",
    "correct_count = 0\n",
    "total_count = len(nli)\n",
    "\n",
    "for _, row in nli.iterrows():\n",
    "    true_answer = row['output'].strip()\n",
    "    model_answer = row['model_output_32'].strip()\n",
    "    is_correct = check_answer_correctness(true_answer, model_answer)\n",
    "    if is_correct:\n",
    "        correct_count += 1\n",
    "\n",
    "# Accuracy 계산\n",
    "accuracy = correct_count / total_count if total_count > 0 else 0\n",
    "print(f\"GPT-based Accuracy: {accuracy:.4f}\")\n"
   ]
  },
  {
   "cell_type": "code",
   "execution_count": 6,
   "metadata": {},
   "outputs": [
    {
     "name": "stderr",
     "output_type": "stream",
     "text": [
      "Evaluating drug/effect pairs: 100%|██████████| 100/100 [00:00<00:00, 22387.53it/s]"
     ]
    },
    {
     "name": "stdout",
     "output_type": "stream",
     "text": [
      "\n",
      "📊 Drug/Effect Pair Evaluation (Strict Match, cleaned)\n",
      "✅ Precision: 0.3500\n",
      "✅ Recall   : 0.3500\n",
      "✅ F1 Score : 0.3500\n"
     ]
    },
    {
     "name": "stderr",
     "output_type": "stream",
     "text": [
      "\n"
     ]
    }
   ],
   "source": [
    "import pandas as pd\n",
    "import re\n",
    "from tqdm import tqdm\n",
    "\n",
    "def extract_drug_effect_clean(text):\n",
    "    \"\"\"\n",
    "    output 또는 model_output_32에서 drug와 effect 값을 추출하고,\n",
    "    \\n이나 특수 토큰 이후의 설명은 제거한다.\n",
    "    \"\"\"\n",
    "    if pd.isna(text) or not isinstance(text, str):\n",
    "        return {\"drug\": None, \"effect\": None}\n",
    "    \n",
    "    text = text.lower().strip()\n",
    "\n",
    "    # drug 추출\n",
    "    drug_match = re.search(r'drug:\\s*([^,\\n|<]+)', text)\n",
    "    drug = drug_match.group(1).strip() if drug_match else None\n",
    "\n",
    "    # effect 추출\n",
    "    effect_match = re.search(r'effect:\\s*([^\\n|<]+)', text)\n",
    "    effect = effect_match.group(1).strip() if effect_match else None\n",
    "\n",
    "    return {\"drug\": drug, \"effect\": effect}\n",
    "\n",
    "# ✅ 're2' task만 필터링\n",
    "re_df = df[df['task'] == 're2'].reset_index(drop=True)\n",
    "\n",
    "# ✅ 통계 변수 초기화\n",
    "true_positive, false_positive, false_negative = 0, 0, 0\n",
    "\n",
    "# ✅ 평가 루프\n",
    "for _, row in tqdm(re_df.iterrows(), total=len(re_df), desc=\"Evaluating drug/effect pairs\"):\n",
    "    true_vals = extract_drug_effect_clean(row['output'])\n",
    "    pred_vals = extract_drug_effect_clean(row['model_output_32'])\n",
    "\n",
    "    if true_vals[\"drug\"] and true_vals[\"effect\"]:\n",
    "        if true_vals == pred_vals:\n",
    "            true_positive += 1\n",
    "        else:\n",
    "            false_negative += 1\n",
    "            if pred_vals[\"drug\"] or pred_vals[\"effect\"]:\n",
    "                false_positive += 1\n",
    "    elif pred_vals[\"drug\"] or pred_vals[\"effect\"]:\n",
    "        false_positive += 1\n",
    "\n",
    "# ✅ 지표 계산\n",
    "precision = true_positive / (true_positive + false_positive) if (true_positive + false_positive) > 0 else 0\n",
    "recall = true_positive / (true_positive + false_negative) if (true_positive + false_negative) > 0 else 0\n",
    "f1 = 2 * precision * recall / (precision + recall) if (precision + recall) > 0 else 0\n",
    "\n",
    "# ✅ 출력\n",
    "print(\"\\n📊 Drug/Effect Pair Evaluation (Strict Match, cleaned)\")\n",
    "print(f\"✅ Precision: {precision:.4f}\")\n",
    "print(f\"✅ Recall   : {recall:.4f}\")\n",
    "print(f\"✅ F1 Score : {f1:.4f}\")\n"
   ]
  },
  {
   "cell_type": "code",
   "execution_count": 7,
   "metadata": {},
   "outputs": [
    {
     "name": "stdout",
     "output_type": "stream",
     "text": [
      "Precision: 0.0000\n",
      "Recall: 0.0000\n",
      "F1-score: 0.0000\n"
     ]
    }
   ],
   "source": [
    "import ast\n",
    "import pandas as pd\n",
    "from collections import Counter\n",
    "\n",
    "# 'ie' 태스크 필터링\n",
    "ie = df[df['task'] == 'ie'].copy()\n",
    "\n",
    "# 문자열 형태를 안전하게 리스트로 파싱하는 함수\n",
    "def safe_eval(val):\n",
    "    if isinstance(val, list):  \n",
    "        return [str(i).strip().lower() for i in val]\n",
    "    elif isinstance(val, str) and val.strip():  \n",
    "        try:\n",
    "            parsed = ast.literal_eval(val)\n",
    "            if isinstance(parsed, list):\n",
    "                return [str(i).strip().lower() for i in parsed]\n",
    "            else:\n",
    "                return [str(parsed).strip().lower()]\n",
    "        except:\n",
    "            return [val.strip().lower()]\n",
    "    return []\n",
    "\n",
    "# output과 model_output 모두 리스트 형태로 파싱\n",
    "ie[\"output\"] = ie[\"output\"].apply(safe_eval)\n",
    "ie[\"model_output_32\"] = ie[\"model_output_32\"].apply(safe_eval)\n",
    "\n",
    "# Precision, Recall, F1-score 계산 함수\n",
    "def calculate_scores(y_true, y_pred):\n",
    "    all_precisions, all_recalls, all_f1s = [], [], []\n",
    "\n",
    "    for true_vals, pred_vals in zip(y_true, y_pred):\n",
    "        if not true_vals and not pred_vals:\n",
    "            all_precisions.append(1.0)\n",
    "            all_recalls.append(1.0)\n",
    "            all_f1s.append(1.0)\n",
    "            continue\n",
    "\n",
    "        true_count = Counter(true_vals)\n",
    "        pred_count = Counter(pred_vals)\n",
    "\n",
    "        TP = sum(min(true_count[k], pred_count[k]) for k in true_count.keys() & pred_count.keys())\n",
    "        FP = sum(pred_count[k] - true_count.get(k, 0) for k in pred_count.keys())\n",
    "        FN = sum(true_count[k] - pred_count.get(k, 0) for k in true_count.keys())\n",
    "\n",
    "        precision = TP / (TP + FP) if (TP + FP) > 0 else 0\n",
    "        recall = TP / (TP + FN) if (TP + FN) > 0 else 0\n",
    "        f1 = 2 * (precision * recall) / (precision + recall) if (precision + recall) > 0 else 0\n",
    "\n",
    "        all_precisions.append(precision)\n",
    "        all_recalls.append(recall)\n",
    "        all_f1s.append(f1)\n",
    "\n",
    "    return sum(all_precisions) / len(all_precisions), sum(all_recalls) / len(all_recalls), sum(all_f1s) / len(all_f1s)\n",
    "\n",
    "def calculate_scores_ignore_duplicates(y_true, y_pred):\n",
    "    all_precisions, all_recalls, all_f1s = [], [], []\n",
    "\n",
    "    for true_vals, pred_vals in zip(y_true, y_pred):\n",
    "        true_set = set(true_vals)\n",
    "        pred_set = set(pred_vals)\n",
    "\n",
    "        TP = len(true_set & pred_set)\n",
    "        FP = len(pred_set - true_set)\n",
    "        FN = len(true_set - pred_set)\n",
    "\n",
    "        precision = TP / (TP + FP) if (TP + FP) > 0 else 0\n",
    "        recall = TP / (TP + FN) if (TP + FN) > 0 else 0\n",
    "        f1 = 2 * (precision * recall) / (precision + recall) if (precision + recall) > 0 else 0\n",
    "\n",
    "        all_precisions.append(precision)\n",
    "        all_recalls.append(recall)\n",
    "        all_f1s.append(f1)\n",
    "\n",
    "    return sum(all_precisions) / len(all_precisions), sum(all_recalls) / len(all_recalls), sum(all_f1s) / len(all_f1s)\n",
    "\n",
    "\n",
    "# 점수 계산\n",
    "precision, recall, f1 = calculate_scores_ignore_duplicates(ie[\"output\"], ie[\"model_output_32\"])\n",
    "\n",
    "# 출력\n",
    "print(f\"Precision: {precision:.4f}\")\n",
    "print(f\"Recall: {recall:.4f}\")\n",
    "print(f\"F1-score: {f1:.4f}\")\n"
   ]
  },
  {
   "cell_type": "code",
   "execution_count": 10,
   "metadata": {},
   "outputs": [
    {
     "name": "stdout",
     "output_type": "stream",
     "text": [
      "Evaluation result:\n",
      "- Coherence: 5.0  \n",
      "  - The model's response logically aligns with the context provided in the input. It accurately summarizes the narrative, maintaining the logical sequence of events and medical information discussed between the doctor and the patient.\n",
      "\n",
      "- Completeness: 4.5  \n",
      "  - The model's response is quite comprehensive and covers most of the critical elements needed to sufficiently answer the question presented by the input. It conveys key medical history, symptoms, test results, and the proposed plan regarding monitoring the patient's condition. However, the model introduces a term (\"diffuse pontine myelinolysis\") that doesn't exactly match the \"DPHL\" mentioned in both the input and true answer. However, this slight inconsistency does not significantly hinder completeness.\n",
      "\n",
      "- Naturalness: 4.5  \n",
      "  - The model's response is fluent and uses clear, human-like language. It conveys the information in a structured, professional manner typical of medical summaries. However, there is a slight abruptness at the end of the response, which might affect its smoothness slightly compared to typical human communication.\n"
     ]
    },
    {
     "name": "stderr",
     "output_type": "stream",
     "text": [
      "Some weights of RobertaModel were not initialized from the model checkpoint at roberta-large and are newly initialized: ['roberta.pooler.dense.bias', 'roberta.pooler.dense.weight']\n",
      "You should probably TRAIN this model on a down-stream task to be able to use it for predictions and inference.\n"
     ]
    },
    {
     "name": "stdout",
     "output_type": "stream",
     "text": [
      "Evaluation result:\n",
      "- Coherence: 4.5  \n",
      "  The model's response logically aligns well with the input dialogue, capturing the critical elements of the patient's condition and the doctor’s observations.\n",
      "\n",
      "- Completeness: 4.0  \n",
      "  While the model captures many key details, such as the patient's symptoms, blood pressure, and fetal position, it omits some specifics like the antenatal care details and the exact gestational age noted in the input (\"33 weeks and 5 days\") which are present in the true answer.\n",
      "\n",
      "- Naturalness: 4.8  \n",
      "  The model’s response is fluent and sounds quite human-like, with clear and concise language that reflects a professional medical summary.\n"
     ]
    },
    {
     "name": "stderr",
     "output_type": "stream",
     "text": [
      "Some weights of RobertaModel were not initialized from the model checkpoint at roberta-large and are newly initialized: ['roberta.pooler.dense.bias', 'roberta.pooler.dense.weight']\n",
      "You should probably TRAIN this model on a down-stream task to be able to use it for predictions and inference.\n"
     ]
    },
    {
     "name": "stdout",
     "output_type": "stream",
     "text": [
      "Evaluation result:\n",
      "- Coherence: 2.0\n",
      "- Completeness: 1.5\n",
      "- Naturalness: 3.5\n",
      "\n",
      "**Explanation**:\n",
      "- **Coherence**: The model's response does not logically align with the context provided. The patient is described inaccurately (58-year-old vs. 73-year-old, mentions of fever, cough, and sputum not present in the input). These inconsistencies indicate a major coherence issue.\n",
      "  \n",
      "- **Completeness**: The response only partially captures the question's requirements. Key details about the medical findings (such as lab results, biopsy findings, and diagnosis of PTCL, NOS, stage IVB) are missing, resulting in a low score for completeness.\n",
      "\n",
      "- **Naturalness**: The response is somewhat fluent and human-like in structure and wording. Although it incorrectly introduces symptoms not mentioned, it reasonably resembles a typical medical clinical note or response. The primary issue impacting scores here is the incorrect inclusion of additional symptoms, but it overall reads naturally.\n"
     ]
    },
    {
     "name": "stderr",
     "output_type": "stream",
     "text": [
      "Some weights of RobertaModel were not initialized from the model checkpoint at roberta-large and are newly initialized: ['roberta.pooler.dense.bias', 'roberta.pooler.dense.weight']\n",
      "You should probably TRAIN this model on a down-stream task to be able to use it for predictions and inference.\n"
     ]
    },
    {
     "name": "stdout",
     "output_type": "stream",
     "text": [
      "Evaluation result:\n",
      "- Coherence: 4.0\n",
      "\n",
      "The model's response provides an overview of the patient's symptoms, medical history, and medications, aligning with the given conversation. However, it omits certain details from the conversation that might be clinically significant, such as vital signs and specific details from the physical examination, which are mentioned in the context.\n",
      "\n",
      "- Completeness: 3.5\n",
      "\n",
      "The response captures the key elements of the patient’s presentation, including the chief complaint and relevant medical history. However, it misses out on some important clinical details (e.g., vital signs and physical examination findings) that were discussed in the conversation, making the summary less comprehensive.\n",
      "\n",
      "- Naturalness: 3.5\n",
      "\n",
      "While the response is clinically formatted and medically sound, it reads more like a structured medical note rather than a naturally flowing narrative. It lacks a conversational tone, which makes it sound less human-like and more like a structured report.\n"
     ]
    },
    {
     "name": "stderr",
     "output_type": "stream",
     "text": [
      "Some weights of RobertaModel were not initialized from the model checkpoint at roberta-large and are newly initialized: ['roberta.pooler.dense.bias', 'roberta.pooler.dense.weight']\n",
      "You should probably TRAIN this model on a down-stream task to be able to use it for predictions and inference.\n"
     ]
    },
    {
     "name": "stdout",
     "output_type": "stream",
     "text": [
      "Evaluation result:\n",
      "- Coherence: 4.0  \n",
      "  The model's response is generally coherent with the input context but introduces a minor discrepancy regarding the patient's age. Additionally, it omits some details about the initial examinations and medical history provided in the true answer. \n",
      "\n",
      "- Completeness: 4.5  \n",
      "  The response covers most major aspects of the patient's condition and treatment, including the initial injury, the diagnosis, treatment steps, and the subsequent nonunion issue. It misses some specific details from the true answer, such as the patient's history of controlled diabetes mellitus and hypertension.\n",
      "\n",
      "- Naturalness: 4.8  \n",
      "  The model's response is fluent and maintains a professional and clear tone similar to a medical report. It is structured well and sounds human-like, although the use of medical jargon might make it less accessible to non-expert readers.\n"
     ]
    },
    {
     "name": "stderr",
     "output_type": "stream",
     "text": [
      "Some weights of RobertaModel were not initialized from the model checkpoint at roberta-large and are newly initialized: ['roberta.pooler.dense.bias', 'roberta.pooler.dense.weight']\n",
      "You should probably TRAIN this model on a down-stream task to be able to use it for predictions and inference.\n"
     ]
    },
    {
     "name": "stdout",
     "output_type": "stream",
     "text": [
      "Evaluation result:\n",
      "- Coherence: 4.5  \n",
      "  The model's response is well-aligned with the context provided. It captures the details of the patient's symptoms, medical history, and treatments accurately. There is a minor deviation in the model's statement where the patient denied a history of tonsillitis, which is not the case in the input.\n",
      "\n",
      "- Completeness: 4.0  \n",
      "  The model provides a thorough response that covers most of the key elements from the input. However, it misses a few personal details such as the patient's occupation, marital status, and family information present in the true answer, which may be relevant depending on the context.\n",
      "\n",
      "- Naturalness: 4.8  \n",
      "  The model's response is fluent and reads naturally. The language used is professional, appropriate for a medical report, and generally sounds human-like with good grammar and structure.\n"
     ]
    },
    {
     "name": "stderr",
     "output_type": "stream",
     "text": [
      "Some weights of RobertaModel were not initialized from the model checkpoint at roberta-large and are newly initialized: ['roberta.pooler.dense.bias', 'roberta.pooler.dense.weight']\n",
      "You should probably TRAIN this model on a down-stream task to be able to use it for predictions and inference.\n"
     ]
    },
    {
     "name": "stdout",
     "output_type": "stream",
     "text": [
      "Evaluation result:\n",
      "- Coherence: 3.0\n",
      "\n",
      "The model's response maintains some coherence with the given context but contains notable inaccuracies. For instance, it incorrectly identifies the diagnosis as \"Streptococcus pneumoniae endocarditis (SPE)\" instead of simply \"SPE\" which refers to septic pulmonary embolism in the true scenario. It correctly notes the presence of pulmonary nodules and a positive blood culture for P. micra but introduces inaccuracies in the diagnosis and patient's age, affecting the overall coherence with the input conversation.\n",
      "\n",
      "- Completeness: 3.5\n",
      "\n",
      "The model's response provides several important details, such as the initial symptoms, diagnosis with pulmonary nodules, and results of the blood culture. However, it fails to mention relevant information such as the normal liver and renal functions, the absence of vegetation on echocardiography, and the specifics of the treatment (e.g., dosage and administration frequency), thus only partially answering the question.\n",
      "\n",
      "- Naturalness: 4.0\n",
      "\n",
      "The response is generally fluent and structured in a human-like manner. The sentences flow logically from one to another, making it relatively easy to read despite the inaccuracies. Minor issues such as mismatches with the provided input slightly detract from its naturalness.\n"
     ]
    },
    {
     "name": "stderr",
     "output_type": "stream",
     "text": [
      "Some weights of RobertaModel were not initialized from the model checkpoint at roberta-large and are newly initialized: ['roberta.pooler.dense.bias', 'roberta.pooler.dense.weight']\n",
      "You should probably TRAIN this model on a down-stream task to be able to use it for predictions and inference.\n"
     ]
    },
    {
     "name": "stdout",
     "output_type": "stream",
     "text": [
      "Evaluation result:\n",
      "- Coherence: 3.0\n",
      "\n",
      "The model's response is mostly coherent and logically aligns with the information given, but there is a significant error. The response inaccurately states that the patient was diagnosed with \"lupus cerebritis,\" whereas the true diagnosis was \"LPE.\" This discrepancy affects the coherence significantly.\n",
      "\n",
      "- Completeness: 4.0\n",
      "\n",
      "The response covers most of the key points from the conversation, including symptoms, diagnostics, complications, and treatment. However, it misses some details such as the patient's age and maternity history from the true answer. Additionally, it provides an incorrect diagnosis, which impacts the completeness regarding clinical accuracy.\n",
      "\n",
      "- Naturalness: 4.5\n",
      "\n",
      "The model's response is fluent and reads naturally, closely resembling a human summary of the provided information. The structure and language are clear and concise, although the incorrect information slightly affects how naturally the response would fit in a clinical setting.\n"
     ]
    },
    {
     "name": "stderr",
     "output_type": "stream",
     "text": [
      "Some weights of RobertaModel were not initialized from the model checkpoint at roberta-large and are newly initialized: ['roberta.pooler.dense.bias', 'roberta.pooler.dense.weight']\n",
      "You should probably TRAIN this model on a down-stream task to be able to use it for predictions and inference.\n"
     ]
    },
    {
     "name": "stdout",
     "output_type": "stream",
     "text": [
      "Evaluation result:\n",
      "- Coherence: 4.5\n",
      "\n",
      "The model's response is coherent with the context provided. It summarizes the patient's history, the conditions diagnosed, and the proposed treatment (renal replacement therapy) accurately. However, it repeats information that the doctor already mentioned, which slightly affects the flow of a summary.\n",
      "\n",
      "- Completeness: 4.0\n",
      "\n",
      "The model's response covers most of the essential information regarding the patient's medical condition and the treatment plan. However, it lacks some details present in the true answer such as specifics about the tests conducted and treatment during hospitalization. A more thorough inclusion of such details would improve completeness.\n",
      "\n",
      "- Naturalness: 4.5\n",
      "\n",
      "The response is written in a fluent and clear manner, maintaining a professional tone suitable for a medical summary. However, it lacks the empathetic and human touch that might be expected in a real-life interaction summary, such as the acknowledgment of the patient’s understanding or concerns.\n"
     ]
    },
    {
     "name": "stderr",
     "output_type": "stream",
     "text": [
      "Some weights of RobertaModel were not initialized from the model checkpoint at roberta-large and are newly initialized: ['roberta.pooler.dense.bias', 'roberta.pooler.dense.weight']\n",
      "You should probably TRAIN this model on a down-stream task to be able to use it for predictions and inference.\n"
     ]
    },
    {
     "name": "stdout",
     "output_type": "stream",
     "text": [
      "Evaluation result:\n",
      "- Coherence: 4.5  \n",
      "  - The model's response logically aligns with the input context, capturing many key details accurately. However, it omits some nuances like the patient's medical history concerning hypertension and diabetes, and it slightly deviates in the sequence of events (implying the patient passed away following the clinic visit, rather than during hospitalization).\n",
      "  \n",
      "- Completeness: 4.0  \n",
      "  - The response sufficiently answers the question by summarizing the main events, including the surgery, the antibiotic treatment, and side effects. It misses a few specific details, such as the patient's age and the full medical history, and the fact that the site infection was the cause of hospitalization.\n",
      "\n",
      "- Naturalness: 4.8  \n",
      "  - The model's response is fluent and structured in a clear, human-like manner. It reads like a concise medical report, which suits the context provided, but it might benefit from a slightly more conversational tone in some parts when reflecting a dialogue scenario.\n"
     ]
    },
    {
     "name": "stderr",
     "output_type": "stream",
     "text": [
      "Some weights of RobertaModel were not initialized from the model checkpoint at roberta-large and are newly initialized: ['roberta.pooler.dense.bias', 'roberta.pooler.dense.weight']\n",
      "You should probably TRAIN this model on a down-stream task to be able to use it for predictions and inference.\n"
     ]
    },
    {
     "name": "stdout",
     "output_type": "stream",
     "text": [
      "Evaluation result:\n",
      "- Coherence: 4.0\n",
      "  - The model's response captures the key medical details and management steps described in the input, demonstrating logical alignment. However, the age and some specific phrasing differ slightly from the original dialogue (\"Age: 56 years old\" vs. \"A 45-year-old gentleman\").\n",
      "  \n",
      "- Completeness: 4.5\n",
      "  - The model adequately addresses the critical components of the patient's condition, diagnosis, and the management provided, closely matching the true answer. However, it omits minor details like the specific location of the hospital or the complete travel details to the cardiology center (\"3 hours later (340km by road)\").\n",
      "\n",
      "- Naturalness: 3.5\n",
      "  - The response is structured more like a clinical summary or report than natural dialogue. While it is clear and fluent, the style is more formal and structured than one might expect from a natural conversational context.\n"
     ]
    },
    {
     "name": "stderr",
     "output_type": "stream",
     "text": [
      "Some weights of RobertaModel were not initialized from the model checkpoint at roberta-large and are newly initialized: ['roberta.pooler.dense.bias', 'roberta.pooler.dense.weight']\n",
      "You should probably TRAIN this model on a down-stream task to be able to use it for predictions and inference.\n"
     ]
    },
    {
     "name": "stdout",
     "output_type": "stream",
     "text": [
      "Evaluation result:\n",
      "- Coherence: 4.5  \n",
      "  The model's response logically aligns with the context provided, reflecting the important events of the patient's medical history. The only minor issue is the patient's age, which is stated as 60 years old, while the true answer mentions 57. \n",
      "\n",
      "- Completeness: 4.0  \n",
      "  The model's response covers most details sufficiently, including the medical history and significant events from the initial ICU presentation and subsequent discharge. However, it omits a few specific details such as the exact timing of events (e.g., nine days after discharge) and the use of Lovenox for thrombosis prophylaxis.\n",
      "\n",
      "- Naturalness: 5.0  \n",
      "  The response sounds fluent and human-like, maintaining a professional tone consistent with medical documentation. The language is clear and precise, appropriate for summarizing a medical case.\n"
     ]
    },
    {
     "name": "stderr",
     "output_type": "stream",
     "text": [
      "Some weights of RobertaModel were not initialized from the model checkpoint at roberta-large and are newly initialized: ['roberta.pooler.dense.bias', 'roberta.pooler.dense.weight']\n",
      "You should probably TRAIN this model on a down-stream task to be able to use it for predictions and inference.\n"
     ]
    },
    {
     "name": "stdout",
     "output_type": "stream",
     "text": [
      "Evaluation result:\n",
      "- Coherence: 3.0  \n",
      "  The model's response maintains coherence with the sequence of events described in the input dialogue but inaccurately summarizes some facts, such as the final diagnosis, which affects alignment with the provided context. The patient was diagnosed with PGA (granuloma annulare), not psoriasis.\n",
      "\n",
      "- Completeness: 3.5  \n",
      "  The response covers several key aspects of the patient's presentation, such as symptoms onset, treatment with prednisone, and referral to a dermatologist. However, critical details like the biopsy results, specific diagnosis of PGA, and other symptoms like polyarthralgia and myalgia are missing, reducing the comprehensiveness of the answer.\n",
      "\n",
      "- Naturalness: 4.5  \n",
      "  The language used in the model's response is fluent and generally human-like, sounding natural in a clinical summary context. However, there are minor areas where more detailed or nuanced language could enhance the naturalness further.\n"
     ]
    },
    {
     "name": "stderr",
     "output_type": "stream",
     "text": [
      "Some weights of RobertaModel were not initialized from the model checkpoint at roberta-large and are newly initialized: ['roberta.pooler.dense.bias', 'roberta.pooler.dense.weight']\n",
      "You should probably TRAIN this model on a down-stream task to be able to use it for predictions and inference.\n"
     ]
    },
    {
     "name": "stdout",
     "output_type": "stream",
     "text": [
      "Evaluation result:\n",
      "- Coherence: 3.0  \n",
      "  * The model's response partially aligns with the input context. It correctly identifies the patient's medical conditions and medications but introduces an incorrect diagnosis of coronary heart disease, which was not mentioned in the dialogue. It also fails to address the specific questions posed in the interaction.\n",
      "\n",
      "- Completeness: 2.0  \n",
      "  * The response does not sufficiently answer the question of what happened to the patient. It misses crucial details about the events that occurred during the operation and the cause of death, which are present in the input dialogue and true answer.\n",
      "\n",
      "- Naturalness: 4.0  \n",
      "  * The response is generally fluent and human-like, although the abrupt switch to a medical record-like format reduces its naturalness slightly. However, it reads coherently in terms of language use.\n"
     ]
    },
    {
     "name": "stderr",
     "output_type": "stream",
     "text": [
      "Some weights of RobertaModel were not initialized from the model checkpoint at roberta-large and are newly initialized: ['roberta.pooler.dense.bias', 'roberta.pooler.dense.weight']\n",
      "You should probably TRAIN this model on a down-stream task to be able to use it for predictions and inference.\n"
     ]
    },
    {
     "name": "stdout",
     "output_type": "stream",
     "text": [
      "Evaluation result:\n",
      "- Coherence: 5.0\n",
      "    \n",
      "  The model's response logically aligns with the context provided. It accurately reflects the details of the patient's medical history, the prenatal arrangements, and the condition of the fetus's father as described in the original conversation.\n",
      "\n",
      "- Completeness: 4.5\n",
      "\n",
      "  The model's response sufficiently answers the question, covering the core details about the patient's condition, the father's condition, and the prenatal plans. However, it lacks some minor details present in the True Answer, such as the specifics of how the patient's condition first became apparent.\n",
      "\n",
      "- Naturalness: 4.5\n",
      "\n",
      "  The model's response is fluent and human-like. The language used is clear, and the information is presented in a structured and easy-to-understand manner. However, it has a slightly more formal tone compared to a completely natural conversational response.\n"
     ]
    },
    {
     "name": "stderr",
     "output_type": "stream",
     "text": [
      "Some weights of RobertaModel were not initialized from the model checkpoint at roberta-large and are newly initialized: ['roberta.pooler.dense.bias', 'roberta.pooler.dense.weight']\n",
      "You should probably TRAIN this model on a down-stream task to be able to use it for predictions and inference.\n"
     ]
    },
    {
     "name": "stdout",
     "output_type": "stream",
     "text": [
      "Evaluation result:\n",
      "- Coherence: 3.5  \n",
      "  The model's response aligns to some extent with the context provided, highlighting the patient's symptoms and the timeline. However, it incorrectly provides the patient's age as 50 instead of aligning with the true answer's age of 70 and misses other specific details about examinations and findings.\n",
      "\n",
      "- Completeness: 3.0  \n",
      "  The response covers the primary symptoms but lacks depth in the examination findings, tests conducted, and procedural details mentioned in the true answer.\n",
      "\n",
      "- Naturalness: 4.5  \n",
      "  The model's response is fluent and sounds human-like. The language used is natural and easily understandable, making it seem like a summary one could expect in medical documentation.\n"
     ]
    },
    {
     "name": "stderr",
     "output_type": "stream",
     "text": [
      "Some weights of RobertaModel were not initialized from the model checkpoint at roberta-large and are newly initialized: ['roberta.pooler.dense.bias', 'roberta.pooler.dense.weight']\n",
      "You should probably TRAIN this model on a down-stream task to be able to use it for predictions and inference.\n"
     ]
    },
    {
     "name": "stdout",
     "output_type": "stream",
     "text": [
      "Evaluation result:\n",
      "- Coherence: 2.0  \n",
      "  The model's response contains a critical error regarding the patient's gender and age, stating \"48-year-old male\" instead of the correct \"65-year-old woman.\" This inconsistency with the input context significantly affects coherence.\n",
      "\n",
      "- Completeness: 4.0  \n",
      "  The response provides a detailed account of the patient's medical history and treatment timeline, capturing most of the essential elements from the input. However, some details, like the absence of travel history and living in Spain since 2000, are missing, which slightly impacts completeness.\n",
      "\n",
      "- Naturalness: 4.5  \n",
      "  The language and structure of the model's response are fluent and human-like, closely resembling a natural summary of a medical consultation, despite the factual discrepancy.\n"
     ]
    },
    {
     "name": "stderr",
     "output_type": "stream",
     "text": [
      "Some weights of RobertaModel were not initialized from the model checkpoint at roberta-large and are newly initialized: ['roberta.pooler.dense.bias', 'roberta.pooler.dense.weight']\n",
      "You should probably TRAIN this model on a down-stream task to be able to use it for predictions and inference.\n"
     ]
    },
    {
     "name": "stdout",
     "output_type": "stream",
     "text": [
      "Evaluation result:\n",
      "- Coherence: 4.5\n",
      "\n",
      "The model's response aligns well with the context provided. It accurately summarizes the conversation between the doctor and the patient, recounting the patient's medical history and recent events. However, it differs slightly in age details. The model mentions the patient as a 58-year-old female, while the true answer states that she is a 45-year-old African American female. The coherence is high but slightly affected by this inconsistency.\n",
      "\n",
      "- Completeness: 4.0\n",
      "\n",
      "The model captures most of the essential information from the conversation, including the renal mass diagnosis, lack of urinary symptoms, past medical history, biopsy results, nephrectomy, and recommendation for follow-up. However, it misses the part about the patient's admission for malnutrition and dehydration due to an anastomotic leak, as well as subsequent events following this complication.\n",
      "\n",
      "- Naturalness: 5.0\n",
      "\n",
      "The response is fluent and human-like, presenting the information in a coherent, structured manner typical of clinical summaries. The language used is appropriate for the context and reads naturally.\n"
     ]
    },
    {
     "name": "stderr",
     "output_type": "stream",
     "text": [
      "Some weights of RobertaModel were not initialized from the model checkpoint at roberta-large and are newly initialized: ['roberta.pooler.dense.bias', 'roberta.pooler.dense.weight']\n",
      "You should probably TRAIN this model on a down-stream task to be able to use it for predictions and inference.\n"
     ]
    },
    {
     "name": "stdout",
     "output_type": "stream",
     "text": [
      "Evaluation result:\n",
      "- Coherence: 2.0\n",
      "\n",
      "The model's response contains significant inaccuracies that do not align with the context provided in the input. For instance, the model describes the patient as a \"10-year-old male,\" whereas the true context specifies a 27-month-old boy. Additionally, the patient is mentioned to have a history of asthma and allergic rhinitis, which is not present in the input dialogue.\n",
      "\n",
      "- Completeness: 3.0\n",
      "\n",
      "While the model's response does cover some of the key information regarding the diagnosis of partial DI and the prescribed treatment, it fails to capture essential details such as the patient's age, specific symptoms, and results from the evaluations. It lacks the depth and detail provided in the true answer.\n",
      "\n",
      "- Naturalness: 4.0\n",
      "\n",
      "The language used in the model's response is generally fluent and human-like, resembling a typical summary one might expect in a medical context. However, inaccuracies regarding the patient's background could impact the perceived professionalism and naturalness.\n"
     ]
    },
    {
     "name": "stderr",
     "output_type": "stream",
     "text": [
      "Some weights of RobertaModel were not initialized from the model checkpoint at roberta-large and are newly initialized: ['roberta.pooler.dense.bias', 'roberta.pooler.dense.weight']\n",
      "You should probably TRAIN this model on a down-stream task to be able to use it for predictions and inference.\n"
     ]
    },
    {
     "name": "stdout",
     "output_type": "stream",
     "text": [
      "Evaluation result:\n",
      "- Coherence: 4.5  \n",
      "  * The model's response logically aligns with the context provided in the conversation between the doctor and the patient. It accurately summarizes the core events and diagnoses discussed. However, it might lose a slight amount of coherence since it doesn't mention the patient's age, which is a minor but relevant detail.\n",
      "\n",
      "- Completeness: 4.0  \n",
      "  * The response covers the primary aspects of the patient's diagnosis and treatment for both COVID-19 and mucormycosis. It slightly lacks detail compared to the true answer, notably missing the specifics of the blood pressure, the precise oxygen saturation measurement repeated from earlier, as well as specifics like the destruction of the left orbital floor and medial wall. There is also no mention of the specialist involved and precise treatment dosages which are present in the true answer.\n",
      "\n",
      "- Naturalness: 4.7  \n",
      "  * The model's response reads fluently and is structured in a clear, human-like manner. The language used is appropriate for a medical summary, balancing technical terminology with readable prose. There's a slight room for improvement in terms of adding more natural language transitions or elaborations that could slightly flesh out the narrative.\n",
      "\n"
     ]
    },
    {
     "name": "stderr",
     "output_type": "stream",
     "text": [
      "Some weights of RobertaModel were not initialized from the model checkpoint at roberta-large and are newly initialized: ['roberta.pooler.dense.bias', 'roberta.pooler.dense.weight']\n",
      "You should probably TRAIN this model on a down-stream task to be able to use it for predictions and inference.\n"
     ]
    },
    {
     "name": "stdout",
     "output_type": "stream",
     "text": [
      "Evaluation result:\n",
      "- Coherence: 4.0\n",
      "  - The model's response logically aligns with the context, providing the patient's name, age, diagnosis, and the treatment he received, which matches the provided conversation. However, it does not capture some details such as the patient's symptoms or his medical history.\n",
      "\n",
      "- Completeness: 2.5\n",
      "  - The model response lacks completeness. While it mentions the diagnosis and treatment, it fails to cover significant aspects like the patient's symptoms at the beginning, his medical history, and details from the physical examination, which are present in the true answer.\n",
      "\n",
      "- Naturalness: 3.0\n",
      "  - The response is somewhat mechanical and lacks fluidity. It reads more like a bulleted summary than a natural, conversational sentence structure that a human might use.\n"
     ]
    },
    {
     "name": "stderr",
     "output_type": "stream",
     "text": [
      "Some weights of RobertaModel were not initialized from the model checkpoint at roberta-large and are newly initialized: ['roberta.pooler.dense.bias', 'roberta.pooler.dense.weight']\n",
      "You should probably TRAIN this model on a down-stream task to be able to use it for predictions and inference.\n"
     ]
    },
    {
     "name": "stdout",
     "output_type": "stream",
     "text": [
      "Evaluation result:\n",
      "Based on the evaluation criteria provided, here is the assessment of the model's response:\n",
      "\n",
      "- **Coherence: 1.0**  \n",
      "  The model's response, which appears to be a series of concatenated patient IDs, does not logically align with the input context. It does not provide any information relevant to the conversation between the doctor and the patient, thus lacking coherence.\n",
      "\n",
      "- **Completeness: 1.0**  \n",
      "  The model's response completely fails to answer the patient's question or provide any relevant information about the medical condition or background discussed in the input. It lacks context and information, making it incomplete.\n",
      "\n",
      "- **Naturalness: 1.0**  \n",
      "  The response is a sequence of numbers rather than a coherent, human-like sentence or explanation. It does not exhibit any characteristics of natural or fluent language, thus scoring very low on naturalness.\n",
      "\n",
      "In summary, the model's response is entirely inappropriate for the context and fails on all evaluation metrics.\n"
     ]
    },
    {
     "name": "stderr",
     "output_type": "stream",
     "text": [
      "Some weights of RobertaModel were not initialized from the model checkpoint at roberta-large and are newly initialized: ['roberta.pooler.dense.bias', 'roberta.pooler.dense.weight']\n",
      "You should probably TRAIN this model on a down-stream task to be able to use it for predictions and inference.\n"
     ]
    },
    {
     "name": "stdout",
     "output_type": "stream",
     "text": [
      "Evaluation result:\n",
      "- Coherence: 4.0\n",
      "\n",
      "The model's response generally aligns with the context provided in the input. It accurately recounts the medical history and current condition mentioned in the conversation. However, there is a significant error in the model's output; it mentions the patient as a \"68-year-old male\" rather than an \"86-year-old woman.\" This discrepancy affects the coherence of the response as it does not match the true demographic details.\n",
      "\n",
      "- Completeness: 3.5\n",
      "\n",
      "The model's response covers most of the key points from the conversation, such as the patient's medical history, current symptoms, and some recent tests performed. However, the response gets cut off before completing the description of the colonoscopy and its findings, unlike the complete information provided in the true answer. Additionally, it incorrectly mentions that the patient is not taking anticoagulation therapy, which affects the completeness in terms of accurately conveying all pertinent details.\n",
      "\n",
      "- Naturalness: 4.5\n",
      "\n",
      "The language in the model's response is fluent and generally sounds natural and human-like. It logically structures the patient's information and maintains a formal tone appropriate for medical context. However, minor repetition and redundancy, such as restating the past medical history, slightly detract from the overall naturalness.\n"
     ]
    },
    {
     "name": "stderr",
     "output_type": "stream",
     "text": [
      "Some weights of RobertaModel were not initialized from the model checkpoint at roberta-large and are newly initialized: ['roberta.pooler.dense.bias', 'roberta.pooler.dense.weight']\n",
      "You should probably TRAIN this model on a down-stream task to be able to use it for predictions and inference.\n"
     ]
    },
    {
     "name": "stdout",
     "output_type": "stream",
     "text": [
      "Evaluation result:\n",
      "- Coherence: 4.5\n",
      "  - The model's response logically aligns with the context provided, accurately summarizing the key details of the patient's medical situation and subsequent treatment. However, there is a discrepancy in the patient's age, which might affect full coherence with the input.\n",
      "\n",
      "- Completeness: 4.8\n",
      "  - The response covers nearly all critical aspects mentioned in the input, including medical history, diagnosis, treatment, side effects, and outcome. The omission of changing medications from meropenem to erythromycin and ciprofloxacin slightly reduces completeness.\n",
      "\n",
      "- Naturalness: 4.7\n",
      "  - The response is fluent, structured, and sounds human-like. The brief and clear nature of medical details contributes to a natural-sounding summary. However, it lacks some of the conversational elements present in patient-doctor interaction, which slightly affects the overall naturalness feel.\n"
     ]
    },
    {
     "name": "stderr",
     "output_type": "stream",
     "text": [
      "Some weights of RobertaModel were not initialized from the model checkpoint at roberta-large and are newly initialized: ['roberta.pooler.dense.bias', 'roberta.pooler.dense.weight']\n",
      "You should probably TRAIN this model on a down-stream task to be able to use it for predictions and inference.\n"
     ]
    },
    {
     "name": "stdout",
     "output_type": "stream",
     "text": [
      "Evaluation result:\n",
      "- Coherence: 4.5  \n",
      "  The model's response is coherent and logically aligns with the context provided in the input. It accurately summarizes key aspects of the patient's condition and history as discussed in the dialogue.\n",
      "\n",
      "- Completeness: 3.5  \n",
      "  The model captures the essential points from the dialogue, including the patient's symptoms, treatment, and medical history. However, it misses the mention of allopurinol and the detailed description of the laboratory data, which are present in the true answer.\n",
      "\n",
      "- Naturalness: 4.7  \n",
      "  The model's response is fluent and reads naturally, like a summary provided by a healthcare professional. The language is clear and professional, closely resembling human-like communication.\n"
     ]
    },
    {
     "name": "stderr",
     "output_type": "stream",
     "text": [
      "Some weights of RobertaModel were not initialized from the model checkpoint at roberta-large and are newly initialized: ['roberta.pooler.dense.bias', 'roberta.pooler.dense.weight']\n",
      "You should probably TRAIN this model on a down-stream task to be able to use it for predictions and inference.\n"
     ]
    },
    {
     "name": "stdout",
     "output_type": "stream",
     "text": [
      "Evaluation result:\n",
      "- Coherence: 3.0  \n",
      "  - The model's response is coherent to an extent as it captures some key details from the input, such as the bilateral upper extremity weakness, pain, and patient's medication history. However, it includes inaccuracies, such as stating that the patient denied any recent vaccinations, which conflicts with the input where the patient confirmed receiving an MMR vaccine two weeks ago.\n",
      "\n",
      "- Completeness: 2.5  \n",
      "  - The model's response covers some elements of the patient's condition and history but misses several crucial details. It omits relevant aspects such as the tingling sensation in the feet, the results of the physical examination (e.g., gag reflex absence, muscle strength grades), and the treatment plan with intravenous immunoglobulin.\n",
      "\n",
      "- Naturalness: 4.0  \n",
      "  - The response sounds relatively fluent and human-like, with appropriate sentence structure and terminology for a medical summary. However, the inaccuracies and omissions detract from its overall effectiveness.\n"
     ]
    },
    {
     "name": "stderr",
     "output_type": "stream",
     "text": [
      "Some weights of RobertaModel were not initialized from the model checkpoint at roberta-large and are newly initialized: ['roberta.pooler.dense.bias', 'roberta.pooler.dense.weight']\n",
      "You should probably TRAIN this model on a down-stream task to be able to use it for predictions and inference.\n"
     ]
    },
    {
     "name": "stdout",
     "output_type": "stream",
     "text": [
      "Evaluation result:\n",
      "- Coherence: 4.5  \n",
      "  The model's response aligns well with the dialogue, capturing key details like the patient's symptoms, treatments, and diagnosis. There are some minor discrepancies, such as the patient's age, which affects coherence slightly.\n",
      "\n",
      "- Completeness: 4.0  \n",
      "  The summary includes most of the critical information, such as the diagnosis, symptoms, and examination outcome. However, it omits some specific details noted in the true answer, such as the patient's medical history, occupation, and absence of certain symptoms, leading to a slight reduction in completeness.\n",
      "\n",
      "- Naturalness: 4.8  \n",
      "  The language used in the model's response is fluent, concise, and human-like. It effectively mimics a medical summary format, maintaining a clear and professional tone.\n"
     ]
    },
    {
     "name": "stderr",
     "output_type": "stream",
     "text": [
      "Some weights of RobertaModel were not initialized from the model checkpoint at roberta-large and are newly initialized: ['roberta.pooler.dense.bias', 'roberta.pooler.dense.weight']\n",
      "You should probably TRAIN this model on a down-stream task to be able to use it for predictions and inference.\n"
     ]
    },
    {
     "name": "stdout",
     "output_type": "stream",
     "text": [
      "Evaluation result:\n",
      "- Coherence: 4.0  \n",
      "  - The model's response is logically aligned with the context of the provided input. However, some details, such as the unexpected complications during the procedure, are missing.\n",
      "\n",
      "- Completeness: 3.0  \n",
      "  - The response covers the initial procedure but does not adequately address the complications and follow-up actions (such as the pericardial effusion, tamponade, CPR, and fat embolization) discussed in the input. \n",
      "\n",
      "- Naturalness: 4.5  \n",
      "  - The response is fluent and sounds natural, consistent with typical medical documentation style. However, a more conversational and patient-friendly tone might improve its suitability for the context provided.\n"
     ]
    },
    {
     "name": "stderr",
     "output_type": "stream",
     "text": [
      "Some weights of RobertaModel were not initialized from the model checkpoint at roberta-large and are newly initialized: ['roberta.pooler.dense.bias', 'roberta.pooler.dense.weight']\n",
      "You should probably TRAIN this model on a down-stream task to be able to use it for predictions and inference.\n"
     ]
    },
    {
     "name": "stdout",
     "output_type": "stream",
     "text": [
      "Evaluation result:\n",
      "- Coherence: 3.0\n",
      "\n",
      "The model's response only partially aligns with the context provided in the input. It makes several incorrect statements about the patient's age, family history, and BMI. Additionally, it misses some relevant details discussed in the conversation, like the specific details of the complete negative workup. Therefore, coherence is compromised.\n",
      "\n",
      "- Completeness: 3.5\n",
      "\n",
      "The model's response includes some relevant details from the dialogue, such as the patient's symptoms, medication, anxiety disorder, and some lab results. However, it contains significant inaccuracies, such as attributing a family history of diabetes mellitus to the patient without mention in the input, and incorrectly listing the patient's age and BMI. The response is more focused on medical diagnostic aspects and test lists, missing out some critical context specifics from the conversation like referral details and personal insights on anxiety, reducing completeness.\n",
      "\n",
      "- Naturalness: 4.0\n",
      "\n",
      "The response is generally fluent and human-like in style, using appropriate medical terminology and structure for a medical summary. However, the numerous tests enumerated in the response make it sound somewhat verbose and mechanical, which could slightly detract from its naturalness. Nonetheless, the language used remains formal and contextually appropriate.\n"
     ]
    },
    {
     "name": "stderr",
     "output_type": "stream",
     "text": [
      "Some weights of RobertaModel were not initialized from the model checkpoint at roberta-large and are newly initialized: ['roberta.pooler.dense.bias', 'roberta.pooler.dense.weight']\n",
      "You should probably TRAIN this model on a down-stream task to be able to use it for predictions and inference.\n"
     ]
    },
    {
     "name": "stdout",
     "output_type": "stream",
     "text": [
      "Evaluation result:\n",
      "- Coherence: 2.0\n",
      "\n",
      "The model's response fails to accurately reflect the details and findings described in the input context. Key issues include the incorrect age of the patient and the misinterpretation of diagnostic results, mistakenly concluding a vertebrobasilar stroke was identified, despite the lack of such conclusive evidence from the CT scan.\n",
      "\n",
      "- Completeness: 3.0\n",
      "\n",
      "While the response captures some primary aspects such as the presentation of symptoms and the use of antiplatelet therapy, it omits several critical details from the input, like the sequence of symptom relief, specific test results, and the treatment with nimodipine.\n",
      "\n",
      "- Naturalness: 4.0\n",
      "\n",
      "The response is presented fluently and reads naturally, resembling a concise medical case summary. However, the accuracy issues affect its perceived authenticity and reliability in this context.\n"
     ]
    },
    {
     "name": "stderr",
     "output_type": "stream",
     "text": [
      "Some weights of RobertaModel were not initialized from the model checkpoint at roberta-large and are newly initialized: ['roberta.pooler.dense.bias', 'roberta.pooler.dense.weight']\n",
      "You should probably TRAIN this model on a down-stream task to be able to use it for predictions and inference.\n"
     ]
    },
    {
     "name": "stdout",
     "output_type": "stream",
     "text": [
      "Evaluation result:\n",
      "- Coherence: 2.0\n",
      "  - The model's response inaccurately identifies the patient as a 45-year-old male, while the true answer describes a 55-year-old female. This discrepancy reflects a lack of coherence with the input context.\n",
      "  \n",
      "- Completeness: 4.0\n",
      "  - Although the model includes most of the relevant details about the patient's insulin regimen, medical complications, and mental state changes, it incorrectly identifies the patient as male, which affects the completeness in terms of demographic details.\n",
      "\n",
      "- Naturalness: 4.5\n",
      "  - The model's language is fluent and reads like a human-like medical summary. However, the inclusion of incorrect demographic information slightly impacts the naturalness.\n"
     ]
    },
    {
     "name": "stderr",
     "output_type": "stream",
     "text": [
      "Some weights of RobertaModel were not initialized from the model checkpoint at roberta-large and are newly initialized: ['roberta.pooler.dense.bias', 'roberta.pooler.dense.weight']\n",
      "You should probably TRAIN this model on a down-stream task to be able to use it for predictions and inference.\n"
     ]
    },
    {
     "name": "stdout",
     "output_type": "stream",
     "text": [
      "Evaluation result:\n",
      "- Coherence: 2.0  \n",
      "  The model's response does not fully align with the context provided. The patient’s age and gender are inaccurately noted, and the diagnosis of Guillain-Barré syndrome is incorrectly stated as it was not conclusively diagnosed, only suspected. The model introduces a suspected urinary tract infection which is not mentioned in the initial context.\n",
      "\n",
      "- Completeness: 3.5  \n",
      "  While the model covers several key elements from the input, such as the patient’s symptoms, treatment, and worsening condition, it omits critical details like the fact that the MRI could not be performed due to the patient's weight, and the true diagnosis was still under consideration. Additionally, the cerebrospinal fluid test is not mentioned.\n",
      "\n",
      "- Naturalness: 4.5  \n",
      "  The model's response is generally fluent and human-like, maintaining a formal tone appropriate to a medical context. However, minor discrepancies and inaccuracies in the content affect the overall natural flow when considering the need for precise medical information.\n"
     ]
    },
    {
     "name": "stderr",
     "output_type": "stream",
     "text": [
      "Some weights of RobertaModel were not initialized from the model checkpoint at roberta-large and are newly initialized: ['roberta.pooler.dense.bias', 'roberta.pooler.dense.weight']\n",
      "You should probably TRAIN this model on a down-stream task to be able to use it for predictions and inference.\n"
     ]
    },
    {
     "name": "stdout",
     "output_type": "stream",
     "text": [
      "Evaluation result:\n",
      "- Coherence: 4.0  \n",
      "  The model's response contains relevant information extracted from the given dialogue, aligning well with the context. However, the model introduces a \"Patient ID,\" \"Age: 29 years,\" and \"Gender: Female,\" which are not explicitly mentioned in the provided conversation and therefore may be considered as assumptions or mistakes, potentially affecting coherence.\n",
      "\n",
      "- Completeness: 4.5  \n",
      "  The model response includes a comprehensive summary of the patient's medical history, current medication, physical examination, and laboratory findings. It captures most of the important details from the conversation, though it omits some demographic details like the ethnicity mentioned in the model's response. The slight discrepancy in details like age and ethnicity may impact the completeness minimally.\n",
      "\n",
      "- Naturalness: 3.5  \n",
      "  The model's response reads more like a structured medical note rather than a conversational recap, which makes it feel less natural and human-like. While the language is clear and formal, mirroring medical documentation style, it lacks conversational flow. This affects its naturalness as a conversational response.\n"
     ]
    },
    {
     "name": "stderr",
     "output_type": "stream",
     "text": [
      "Some weights of RobertaModel were not initialized from the model checkpoint at roberta-large and are newly initialized: ['roberta.pooler.dense.bias', 'roberta.pooler.dense.weight']\n",
      "You should probably TRAIN this model on a down-stream task to be able to use it for predictions and inference.\n"
     ]
    },
    {
     "name": "stdout",
     "output_type": "stream",
     "text": [
      "Evaluation result:\n",
      "- Coherence: 4.5\n",
      "\n",
      "The model's response logically aligns with the context of the conversation between the doctor and the patient. It accurately reflects the patient's condition, the tests performed, and the findings, although it slightly misidentifies the patient's age and sex.\n",
      "\n",
      "- Completeness: 4.0\n",
      "\n",
      "The model's response adequately answers the question by summarizing the patient’s condition and the results of the medical investigations. However, it omits some details, such as the patient not having leukocytosis, normal inflammatory markers, and the specifics of renal function and other laboratory results.\n",
      "\n",
      "- Naturalness: 4.5\n",
      "\n",
      "The model's language is fluent and sounds natural. It adequately uses medical terminology in a manner consistent with how a medical professional might summarize the case. However, the repetitive use of \"Patient\" to begin several sentences could slightly detract from naturalness.\n"
     ]
    },
    {
     "name": "stderr",
     "output_type": "stream",
     "text": [
      "Some weights of RobertaModel were not initialized from the model checkpoint at roberta-large and are newly initialized: ['roberta.pooler.dense.bias', 'roberta.pooler.dense.weight']\n",
      "You should probably TRAIN this model on a down-stream task to be able to use it for predictions and inference.\n"
     ]
    },
    {
     "name": "stdout",
     "output_type": "stream",
     "text": [
      "Evaluation result:\n",
      "- Coherence: 4.5  \n",
      "  - The model's response is largely coherent with the input dialogue. It correctly identifies the patient's history with Type 2 diabetes and peripheral neuropathy, the presenting symptoms of a swollen and painful left foot, and the X-ray results. However, it lacks detail about the absence of trauma, which was mentioned in the input.\n",
      "\n",
      "- Completeness: 4.0  \n",
      "  - The response satisfactorily addresses the main points such as the medical findings and treatment instructions but lacks specific details, including the patient's age and lack of recent trauma to the foot, and does not note the potential complications that were discussed.\n",
      "\n",
      "- Naturalness: 4.7  \n",
      "  - The summary is mostly fluent and professional, aligning well with typical medical documentation. However, it omits some nuances like conversational elements which would make it sound slightly more natural in a clinical summary context.\n"
     ]
    },
    {
     "name": "stderr",
     "output_type": "stream",
     "text": [
      "Some weights of RobertaModel were not initialized from the model checkpoint at roberta-large and are newly initialized: ['roberta.pooler.dense.bias', 'roberta.pooler.dense.weight']\n",
      "You should probably TRAIN this model on a down-stream task to be able to use it for predictions and inference.\n"
     ]
    },
    {
     "name": "stdout",
     "output_type": "stream",
     "text": [
      "Evaluation result:\n",
      "- Coherence: 4.5  \n",
      "  The model's response logically aligns with the context and maintains a consistent narrative. However, it misses small details such as \"impending conization\" which was in the True Answer.\n",
      "\n",
      "- Completeness: 4.5  \n",
      "  The model's response is comprehensive and includes most of the key points from the dialogue. It omits some specific details like \"Sudanese\" nationality and \"impending conization,\" which are minor but could be relevant.\n",
      "\n",
      "- Naturalness: 5.0  \n",
      "  The language used in the model's response is fluent and human-like, capturing the medical scenario effectively.\n"
     ]
    },
    {
     "name": "stderr",
     "output_type": "stream",
     "text": [
      "Some weights of RobertaModel were not initialized from the model checkpoint at roberta-large and are newly initialized: ['roberta.pooler.dense.bias', 'roberta.pooler.dense.weight']\n",
      "You should probably TRAIN this model on a down-stream task to be able to use it for predictions and inference.\n"
     ]
    },
    {
     "name": "stdout",
     "output_type": "stream",
     "text": [
      "Evaluation result:\n",
      "- Coherence: 4.5  \n",
      "  The model's response is mostly coherent with the input context, accurately reflecting the patient's condition, symptoms, and medical history. However, there is a slight inconsistency in the patient's age.\n",
      "\n",
      "- Completeness: 4.0  \n",
      "  The model captures most of the relevant details from the input, including symptoms, laboratory results, and treatment plan. However, it omits specific details such as no acute distress, oral purpura spots, cervical lymphadenopathy absence, and other examination findings, as well as the patient's age and some baseline data.\n",
      "\n",
      "- Naturalness: 4.8  \n",
      "  The response is fluently written and maintains a human-like quality, making it easy to read and understand. The language used aligns well with how a medical professional might summarize a case.\n"
     ]
    },
    {
     "name": "stderr",
     "output_type": "stream",
     "text": [
      "Some weights of RobertaModel were not initialized from the model checkpoint at roberta-large and are newly initialized: ['roberta.pooler.dense.bias', 'roberta.pooler.dense.weight']\n",
      "You should probably TRAIN this model on a down-stream task to be able to use it for predictions and inference.\n"
     ]
    },
    {
     "name": "stdout",
     "output_type": "stream",
     "text": [
      "Evaluation result:\n",
      "- Coherence: 3.0\n",
      "\n",
      "The model's response presents inconsistencies with the input dialogue. It incorrectly identifies the patient as a 25-year-old male, whereas both the dialogue and true answer mention the patient as a 45-year-old female. Additionally, the response inaccurately locates the pain in the \"right posterior mandible\" whereas the input specifies the teeth #14 and #15 on the maxilla.\n",
      "\n",
      "- Completeness: 3.5\n",
      "\n",
      "The response covers several key aspects mentioned in the dialogue, such as the pain in teeth #14 and #15, the extraoral swelling, and the lack of significant medical history. However, critical details like the results of radiographic and CT scans, the conclusion that the swelling isn't of dental origin, and the referral to a specialist for further evaluation are omitted.\n",
      "\n",
      "- Naturalness: 4.5\n",
      "\n",
      "The model's response is mostly fluent and reads like a human-written summary. The language is clear and succinct, though it misses certain technical nuances, which doesn't significantly impact its naturalness.\n"
     ]
    },
    {
     "name": "stderr",
     "output_type": "stream",
     "text": [
      "Some weights of RobertaModel were not initialized from the model checkpoint at roberta-large and are newly initialized: ['roberta.pooler.dense.bias', 'roberta.pooler.dense.weight']\n",
      "You should probably TRAIN this model on a down-stream task to be able to use it for predictions and inference.\n"
     ]
    },
    {
     "name": "stdout",
     "output_type": "stream",
     "text": [
      "Evaluation result:\n",
      "- Coherence: 4.0\n",
      "\n",
      "The model's response is mostly coherent with the provided context. It accurately captures the patient's medical history and the sequence of events leading to the deterioration of the patient's condition. However, there is a discrepancy regarding the result of the brain computer tomography, which the model states was reported as normal, whereas the context does not provide such information. This inconsistency slightly affects coherence.\n",
      "\n",
      "- Completeness: 4.5\n",
      "\n",
      "The model provides a comprehensive overview of the patient's condition and the series of events, including the symptoms, medical history, and outcomes. However, it omits some specific details present in the true answer, such as the age of the patient being 62 instead of 65 and the absence of vomiting. Despite these minor omissions, the answer largely covers the critical aspects of the case.\n",
      "\n",
      "- Naturalness: 4.5\n",
      "\n",
      "The response reads fluently and mimics human-like medical reporting. The language and structure are appropriate for a professional medical summary, contributing to a high score for naturalness. However, the response slightly reads more as a structured report than a natural conversational explanation, which may affect the perception of naturalness marginally.\n"
     ]
    },
    {
     "name": "stderr",
     "output_type": "stream",
     "text": [
      "Some weights of RobertaModel were not initialized from the model checkpoint at roberta-large and are newly initialized: ['roberta.pooler.dense.bias', 'roberta.pooler.dense.weight']\n",
      "You should probably TRAIN this model on a down-stream task to be able to use it for predictions and inference.\n"
     ]
    },
    {
     "name": "stdout",
     "output_type": "stream",
     "text": [
      "Evaluation result:\n",
      "- Coherence: 4.5\n",
      "\n",
      "The model's response logically aligns with the context provided in the input. It accurately summarizes the conversation between the doctor and the patient, though it lacks some specific details from the true answer, such as the age difference and complete neuropathy, which is why it's not a perfect score.\n",
      "\n",
      "- Completeness: 4.0\n",
      "\n",
      "The model's response sufficiently answers the question by summarizing the key events but misses a few details compared to the true answer, like the patient's exact age and the initial presentation of advanced cellulitis and fluctuance with palpation. These omissions lead to a slightly lower score for completeness.\n",
      "\n",
      "- Naturalness: 5.0\n",
      "\n",
      "The response sounds fluent and human-like. The language used is clear, professional, and appropriate for a medical context.\n"
     ]
    },
    {
     "name": "stderr",
     "output_type": "stream",
     "text": [
      "Some weights of RobertaModel were not initialized from the model checkpoint at roberta-large and are newly initialized: ['roberta.pooler.dense.bias', 'roberta.pooler.dense.weight']\n",
      "You should probably TRAIN this model on a down-stream task to be able to use it for predictions and inference.\n"
     ]
    },
    {
     "name": "stdout",
     "output_type": "stream",
     "text": [
      "Evaluation result:\n",
      "- Coherence: 4.5  \n",
      "  - The model's response logically aligns with the context provided in the input. It accurately summarizes the sequence of medical events and conditions experienced by the patient as discussed in the conversation between the doctor and patient. There is, however, a minor discrepancy regarding the age of the patient, which affects perfect alignment with the context.\n",
      "\n",
      "- Completeness: 3.5  \n",
      "  - The model's response covers major points discussed in the input, such as the patient's medical history, surgical complications, and episodes of cardiopulmonary arrest. However, it omits specific details like the patient's age, initial presentation of diplopia, osteoporosis, endocrinological test results, and some post-operative details, leading to an incomplete depiction of the case.\n",
      "\n",
      "- Naturalness: 4.7  \n",
      "  - The model's response sounds fluent and human-like. It cohesively presents the medical summary in a structured manner typical of a medical case report. There are no grammatical errors or awkward phrasing, contributing to a natural sounding narrative.\n"
     ]
    },
    {
     "name": "stderr",
     "output_type": "stream",
     "text": [
      "Some weights of RobertaModel were not initialized from the model checkpoint at roberta-large and are newly initialized: ['roberta.pooler.dense.bias', 'roberta.pooler.dense.weight']\n",
      "You should probably TRAIN this model on a down-stream task to be able to use it for predictions and inference.\n"
     ]
    },
    {
     "name": "stdout",
     "output_type": "stream",
     "text": [
      "Evaluation result:\n",
      "- Coherence: 4.5  \n",
      "  The model's response is largely coherent with the context provided. It accurately describes the patient's medical history, treatments, and test results in a logical sequence. The main discrepancy is in the omission of the specific tumor size and family history details which slightly impacts coherence with the context.\n",
      "\n",
      "- Completeness: 4.0  \n",
      "  The response is mostly complete in terms of covering key elements from the input, such as the medical and treatment history. However, it misses some additional details present in the true answer, like the patient's exact age, the tumor size, and detailed family history. These omissions prevent it from achieving full completeness.\n",
      "\n",
      "- Naturalness: 4.7  \n",
      "  The response sounds fluent and human-like, with no awkward phrasing or grammatical errors. It communicates the medical information in a clear and concise manner typical of a well-structured report, although it lacks slight natural variability seen in human dialogue.\n"
     ]
    },
    {
     "name": "stderr",
     "output_type": "stream",
     "text": [
      "Some weights of RobertaModel were not initialized from the model checkpoint at roberta-large and are newly initialized: ['roberta.pooler.dense.bias', 'roberta.pooler.dense.weight']\n",
      "You should probably TRAIN this model on a down-stream task to be able to use it for predictions and inference.\n"
     ]
    },
    {
     "name": "stdout",
     "output_type": "stream",
     "text": [
      "Evaluation result:\n",
      "- Coherence: 4.0\n",
      "\n",
      "The model's response generally aligns with the context but has a significant factual error regarding the patient's gender and age. These inconsistencies affect the logical alignment with the given conversation and the true answer.\n",
      "\n",
      "- Completeness: 4.5\n",
      "\n",
      "The model's response includes most of the critical information from the scenario provided, such as the medical conditions, treatment, and recovery. However, it omits certain details, like the consideration of medication-related osteonecrosis of the jaw (MRONJ) as a differential diagnosis, and doesn't mention the patient's exact past medication dosage or gender, which could be considered important in a medical summary context.\n",
      "\n",
      "- Naturalness: 4.8\n",
      "\n",
      "The model's response is largely fluent and human-like, with clear and concise language typical of medical summaries. It is professional and easily understandable, but the factual errors slightly detract from perfect naturalness, as they represent a gap in accurate human-like understanding.\n"
     ]
    },
    {
     "name": "stderr",
     "output_type": "stream",
     "text": [
      "Some weights of RobertaModel were not initialized from the model checkpoint at roberta-large and are newly initialized: ['roberta.pooler.dense.bias', 'roberta.pooler.dense.weight']\n",
      "You should probably TRAIN this model on a down-stream task to be able to use it for predictions and inference.\n"
     ]
    },
    {
     "name": "stdout",
     "output_type": "stream",
     "text": [
      "Evaluation result:\n",
      "- Coherence: 4.5  \n",
      "  The model's response is coherent with the context provided, accurately reflecting most of the critical information. However, it incorrectly mentions that the patient had a fever, which was explicitly denied in the dialogue.\n",
      "\n",
      "- Completeness: 4.3  \n",
      "  The model's response covers most aspects of the patient's condition, including the history of COPD, the patient's symptoms, and the examination findings. However, it omits details such as the patient's age discrepancy and the patient's lack of consciousness for a day, and the extent of his smoking history.\n",
      "\n",
      "- Naturalness: 4.8  \n",
      "  The response reads fluently and maintains a professional, clinical tone consistent with medical documentation. It appears human-like and appropriate for the context.\n"
     ]
    },
    {
     "name": "stderr",
     "output_type": "stream",
     "text": [
      "Some weights of RobertaModel were not initialized from the model checkpoint at roberta-large and are newly initialized: ['roberta.pooler.dense.bias', 'roberta.pooler.dense.weight']\n",
      "You should probably TRAIN this model on a down-stream task to be able to use it for predictions and inference.\n"
     ]
    },
    {
     "name": "stdout",
     "output_type": "stream",
     "text": [
      "Evaluation result:\n",
      "- Coherence: 4.0  \n",
      "  - The model's response is mostly coherent with the provided context, accurately summarizing the patient's medical history, symptoms, diagnosis, and treatment. However, the patient's age is reported differently (68 years instead of 58 years).\n",
      "\n",
      "- Completeness: 4.5  \n",
      "  - The response is quite complete, covering the significant aspects of the patient's medical condition and treatment. However, some specific details like the exact blood pressure and post-operative timeline (6 months) are not mentioned.\n",
      "\n",
      "- Naturalness: 4.8  \n",
      "  - The model's response is fluent and reads naturally, sounding like it was written by a human. The clinical summary style is appropriate for the context, but the age inconsistency slightly affects the overall naturalness.\n"
     ]
    },
    {
     "name": "stderr",
     "output_type": "stream",
     "text": [
      "Some weights of RobertaModel were not initialized from the model checkpoint at roberta-large and are newly initialized: ['roberta.pooler.dense.bias', 'roberta.pooler.dense.weight']\n",
      "You should probably TRAIN this model on a down-stream task to be able to use it for predictions and inference.\n"
     ]
    },
    {
     "name": "stdout",
     "output_type": "stream",
     "text": [
      "Evaluation result:\n",
      "- Coherence: 4.0\n",
      "\n",
      "The model's response is generally coherent with the given dialogue. It accurately reflects the sequence of events related to the patient's medical history and treatments discussed in the conversation. However, it is missing some specific details, such as the exact type and staging of the cancer mentioned in the True Answer.\n",
      "\n",
      "- Completeness: 3.5\n",
      "\n",
      "The response covers most of the critical elements from the dialogue: the past treatments, the ineffectiveness of therapies, and the current evaluation for further treatment options. However, it lacks certain specifics present in the True Answer, like the age of the patient (currently 67 years old, treatment age was 64), specific cancer staging details, tumor resection details, and testing results for hepatitis B and C.\n",
      "\n",
      "- Naturalness: 4.5\n",
      "\n",
      "The response reads fluently and is structured in a human-like manner. It summarizes the patient's history concisely and logically, and it does not exhibit any awkward or unnatural language. However, a small reduction in score is due to the mechanical listing of facts rather than a more narrative style, which could slightly detract from naturalness.\n"
     ]
    },
    {
     "name": "stderr",
     "output_type": "stream",
     "text": [
      "Some weights of RobertaModel were not initialized from the model checkpoint at roberta-large and are newly initialized: ['roberta.pooler.dense.bias', 'roberta.pooler.dense.weight']\n",
      "You should probably TRAIN this model on a down-stream task to be able to use it for predictions and inference.\n"
     ]
    },
    {
     "name": "stdout",
     "output_type": "stream",
     "text": [
      "Evaluation result:\n",
      "- Coherence: 5.0\n",
      "  - The model's response logically aligns with the context provided in the input. It captures the essential details about the patient's condition and history, reflecting an accurate understanding of the dialogue between the doctor and the patient.\n",
      "\n",
      "- Completeness: 4.5\n",
      "  - The model effectively summarizes the patient's history, symptoms, and current state. However, it does not explicitly address the specific question asked by the patient regarding the long-term effects of Cushing's syndrome, which are highlighted in the final doctor-patient exchange.\n",
      "\n",
      "- Naturalness: 4.7\n",
      "  - The language used in the model's response is fluent and human-like. It reads similarly to a medical summary or report, albeit slightly more clinical than conversational, which is suitable for the context. However, it cuts off at the end, losing a bit of the natural flow.\n"
     ]
    },
    {
     "name": "stderr",
     "output_type": "stream",
     "text": [
      "Some weights of RobertaModel were not initialized from the model checkpoint at roberta-large and are newly initialized: ['roberta.pooler.dense.bias', 'roberta.pooler.dense.weight']\n",
      "You should probably TRAIN this model on a down-stream task to be able to use it for predictions and inference.\n"
     ]
    },
    {
     "name": "stdout",
     "output_type": "stream",
     "text": [
      "Evaluation result:\n",
      "- Coherence: 5.0\n",
      "  - The model's response logically aligns with the context provided in the input. The details about the patient's symptoms, diagnosis history, treatment, and test results are accurately reflected.\n",
      "\n",
      "- Completeness: 4.5\n",
      "  - The model's response captures most of the essential information from the interaction, including the patient's symptoms, test results, and treatment plan. However, it omits mentioning the specific temperature difference values for the thermography study, which is a minor detail included in the true answer.\n",
      "\n",
      "- Naturalness: 5.0\n",
      "  - The response is fluent and human-like, using medical terms appropriately and maintaining a professional tone. The language mirrors the type of summary one would expect from a healthcare professional's report.\n"
     ]
    },
    {
     "name": "stderr",
     "output_type": "stream",
     "text": [
      "Some weights of RobertaModel were not initialized from the model checkpoint at roberta-large and are newly initialized: ['roberta.pooler.dense.bias', 'roberta.pooler.dense.weight']\n",
      "You should probably TRAIN this model on a down-stream task to be able to use it for predictions and inference.\n"
     ]
    },
    {
     "name": "stdout",
     "output_type": "stream",
     "text": [
      "Evaluation result:\n",
      "- Coherence: 4.5\n",
      "\n",
      "  The model's response is largely coherent in terms of aligning with the patient-doctor dialogue. It captures most of the patient's history, findings from diagnostic tests, treatment, and outcome. However, it misses a couple of details such as the patient's exact age and past procedures like bilateral percutaneous nephrolithotripsy and left kidney double-J stenting, which slightly affects coherence.\n",
      "\n",
      "- Completeness: 3.5\n",
      "\n",
      "  The response adequately covers the main points regarding the patient's condition, tests, treatment, and outcome. However, it omits some details mentioned in the true answer, such as the exact age of the patient, the absence of certain symptoms, the findings from intraoperative and histologic examinations, and the clearance of surgical margins. These omissions make the response less complete.\n",
      "\n",
      "- Naturalness: 5.0\n",
      "\n",
      "  The model's response is fluent and structured in a manner similar to how a medical professional would document a patient's history and clinical findings. It reads naturally and is easy to understand, maintaining a formal tone that is appropriate for the context provided.\n"
     ]
    },
    {
     "name": "stderr",
     "output_type": "stream",
     "text": [
      "Some weights of RobertaModel were not initialized from the model checkpoint at roberta-large and are newly initialized: ['roberta.pooler.dense.bias', 'roberta.pooler.dense.weight']\n",
      "You should probably TRAIN this model on a down-stream task to be able to use it for predictions and inference.\n"
     ]
    },
    {
     "name": "stdout",
     "output_type": "stream",
     "text": [
      "Evaluation result:\n",
      "- Coherence: 4.0\n",
      "\n",
      "The model's response is mostly coherent with the input context but contains a factual error regarding the patient's age. The response mentions a 30-year-old female, while the true answer and conversational context indicate that the patient is 37-years-old.\n",
      "\n",
      "- Completeness: 3.5\n",
      "\n",
      "The model provides a detailed and structured response, covering several important points such as admission reasons, medical history, and treatments. However, it lacks details about specific treatments that took place during the hospital stay and after cesarean delivery (e.g., reduced glutathione sodium for liver function improvement and the normalization of blood pressure after 14 days). The timeline of discharge and readmission is not perfectly aligned with the conversational context.\n",
      "\n",
      "- Naturalness: 4.5\n",
      "\n",
      "The model's response is fluent and logically structured but resembles a clinical summary rather than a conversational answer. While it maintains clarity and formality suitable for medical documentation, it slightly lacks the conversational tone expected in the dialogue style with the patient and doctor.\n"
     ]
    },
    {
     "name": "stderr",
     "output_type": "stream",
     "text": [
      "Some weights of RobertaModel were not initialized from the model checkpoint at roberta-large and are newly initialized: ['roberta.pooler.dense.bias', 'roberta.pooler.dense.weight']\n",
      "You should probably TRAIN this model on a down-stream task to be able to use it for predictions and inference.\n"
     ]
    },
    {
     "name": "stdout",
     "output_type": "stream",
     "text": [
      "Evaluation result:\n",
      "- Coherence: 4.5\n",
      "  - The model's response is largely coherent with the context provided. It accurately reflects the sequence of medical events and findings, though it slightly simplifies certain details, such as the specifics of the RCA aneurysmal dilatation in the true answer.\n",
      "\n",
      "- Completeness: 4.0\n",
      "  - The response is quite complete, summarizing the patient's history, medical findings, treatments, and outcomes. However, it omits some specifics that are present in the true answer, such as exact medication dosages and some finer details of the diagnostic findings.\n",
      "\n",
      "- Naturalness: 4.8\n",
      "  - The language used in the model's response is fluent and reads like a well-structured medical report. It is concise and uses appropriate clinical terminology, making it sound human-like and professional.\n",
      "\n",
      "Overall, the model provided a competent summary with minor omissions regarding specific clinical details.\n"
     ]
    },
    {
     "name": "stderr",
     "output_type": "stream",
     "text": [
      "Some weights of RobertaModel were not initialized from the model checkpoint at roberta-large and are newly initialized: ['roberta.pooler.dense.bias', 'roberta.pooler.dense.weight']\n",
      "You should probably TRAIN this model on a down-stream task to be able to use it for predictions and inference.\n"
     ]
    },
    {
     "name": "stdout",
     "output_type": "stream",
     "text": [
      "Evaluation result:\n",
      "- Coherence: 4.5  \n",
      "  The model's response is generally coherent and aligns with the context provided, though it lacks some specificities and errors related to the patient's age.\n",
      "\n",
      "- Completeness: 4.0  \n",
      "  While the model provides a fairly comprehensive summary of the events, it fails to mention specific observations such as the \"tiger hide\" appearance or certain procedural details like the midline shift and specific symptoms, which are present in the true answer.\n",
      "\n",
      "- Naturalness: 4.7  \n",
      "  The response is fluent and resembles how a human might summarize a medical case, maintaining a clear and professional tone. Minor inconsistencies in tense don't significantly detract from this aspect.\n"
     ]
    },
    {
     "name": "stderr",
     "output_type": "stream",
     "text": [
      "Some weights of RobertaModel were not initialized from the model checkpoint at roberta-large and are newly initialized: ['roberta.pooler.dense.bias', 'roberta.pooler.dense.weight']\n",
      "You should probably TRAIN this model on a down-stream task to be able to use it for predictions and inference.\n"
     ]
    },
    {
     "name": "stdout",
     "output_type": "stream",
     "text": [
      "Evaluation result:\n",
      "- Coherence: 4.5\n",
      "\n",
      "The model's response is mostly coherent with the context provided. It accurately details the symptoms, test results, and follow-up actions. The discrepancies include the incorrect patient gender and age, which slightly affects the coherence.\n",
      "\n",
      "- Completeness: 4.7\n",
      "\n",
      "The model's response is quite complete, addressing all major symptoms, tests, and next steps mentioned in the input. However, it leaves out specific details like the patient experiencing tenesmus or the mention of the patient's cultural background.\n",
      "\n",
      "- Naturalness: 5.0\n",
      "\n",
      "The model's response is fluent and human-like, maintaining a professional tone consistent with a medical setting. It provides a clear and concise summary that one would expect from a healthcare professional.\n"
     ]
    },
    {
     "name": "stderr",
     "output_type": "stream",
     "text": [
      "Some weights of RobertaModel were not initialized from the model checkpoint at roberta-large and are newly initialized: ['roberta.pooler.dense.bias', 'roberta.pooler.dense.weight']\n",
      "You should probably TRAIN this model on a down-stream task to be able to use it for predictions and inference.\n"
     ]
    },
    {
     "name": "stdout",
     "output_type": "stream",
     "text": [
      "Evaluation result:\n",
      "- Coherence: 4.5  \n",
      "  The model's response aligns well with the provided context. It accurately reflects the conversation's flow and maintains logical consistency with the details mentioned, such as the patient's history, symptoms, diagnosis, and treatment.\n",
      "\n",
      "- Completeness: 4.0  \n",
      "  The model successfully covers most of the critical points discussed in the original dialogue, including the key medical findings, procedures, and outcomes. However, it does make a few omissions, such as the exact measurements and specific numerical values for hormone levels and the size of the mass that were present in the true answer.\n",
      "\n",
      "- Naturalness: 4.7  \n",
      "  The language used by the model is fluent and human-like. It reads well, with appropriate medical terminology and a clear narrative structure, making it sound professional and easy to understand.\n"
     ]
    },
    {
     "name": "stderr",
     "output_type": "stream",
     "text": [
      "Some weights of RobertaModel were not initialized from the model checkpoint at roberta-large and are newly initialized: ['roberta.pooler.dense.bias', 'roberta.pooler.dense.weight']\n",
      "You should probably TRAIN this model on a down-stream task to be able to use it for predictions and inference.\n"
     ]
    },
    {
     "name": "stdout",
     "output_type": "stream",
     "text": [
      "Evaluation result:\n",
      "- Coherence: 4.5  \n",
      "  The model's response is coherent with the initial context, accurately summarizing the patient's symptoms, absence of medical history, and denying substance use. However, it fails to mention the spinal results and the oral contraceptive treatment, which were also part of the context.\n",
      "\n",
      "- Completeness: 3.0  \n",
      "  The response captures some key details, such as the sudden onset of back pain, tingling, and patient history. However, it omits important findings from the MRI, the specific neurological examination results, and other relevant details like the oral contraceptive treatment and blood pressure.\n",
      "\n",
      "- Naturalness: 4.8  \n",
      "  The response is fluent and sounds human-like, with a clear structure and appropriate use of language to convey the patient's situation.\n"
     ]
    },
    {
     "name": "stderr",
     "output_type": "stream",
     "text": [
      "Some weights of RobertaModel were not initialized from the model checkpoint at roberta-large and are newly initialized: ['roberta.pooler.dense.bias', 'roberta.pooler.dense.weight']\n",
      "You should probably TRAIN this model on a down-stream task to be able to use it for predictions and inference.\n"
     ]
    },
    {
     "name": "stdout",
     "output_type": "stream",
     "text": [
      "Evaluation result:\n",
      "- Coherence: 4.5  \n",
      "The model's response aligns logically with the context of the input conversation, detailing the sequence of events and treatments accurately. However, it slightly lacks the conversational elements seen in the interaction between the doctor and patient.\n",
      "\n",
      "- Completeness: 4.0  \n",
      "The model's response includes most salient points, such as the application of the plant paste, treatment in the burn unit, and follow-up care instructions. Yet, it omits some specific details present in the true answer, such as the recommendation by a neighbor and the exact timeline for when the lesions healed.\n",
      "\n",
      "- Naturalness: 3.5  \n",
      "While the response is generally fluent and clear, it is more factual and clinical in tone, lacking the natural back-and-forth flow and expressiveness of a conversation between a doctor and patient. It reads more like a clinical summary than a dialogue, which affects its naturalness.\n"
     ]
    },
    {
     "name": "stderr",
     "output_type": "stream",
     "text": [
      "Some weights of RobertaModel were not initialized from the model checkpoint at roberta-large and are newly initialized: ['roberta.pooler.dense.bias', 'roberta.pooler.dense.weight']\n",
      "You should probably TRAIN this model on a down-stream task to be able to use it for predictions and inference.\n"
     ]
    },
    {
     "name": "stdout",
     "output_type": "stream",
     "text": [
      "Evaluation result:\n",
      "- **Coherence: 1.0**\n",
      "\n",
      "  The model's response is highly incoherent. It outputs a string of apparently random numbers, which does not align with the context or the subject matter provided in the input. There is no logical connection between the model's response and the input dialogue or true answer.\n",
      "\n",
      "- **Completeness: 1.0**\n",
      "\n",
      "  The response fails entirely to address the question or provide any relevant information. It does not answer the question with any pertinent details related to the patient's situation, symptoms, diagnosis, or outcome as described in the input and true answer.\n",
      "\n",
      "- **Naturalness: 1.0**\n",
      "\n",
      "  The response lacks any sense of natural language or human-like fluency. It consists solely of a sequence of numbers, which does not mirror normal human speech or writing. Thus, it fails to satisfy the naturalness criterion.\n"
     ]
    },
    {
     "name": "stderr",
     "output_type": "stream",
     "text": [
      "Some weights of RobertaModel were not initialized from the model checkpoint at roberta-large and are newly initialized: ['roberta.pooler.dense.bias', 'roberta.pooler.dense.weight']\n",
      "You should probably TRAIN this model on a down-stream task to be able to use it for predictions and inference.\n"
     ]
    },
    {
     "name": "stdout",
     "output_type": "stream",
     "text": [
      "Evaluation result:\n",
      "- **Coherence: 4.5**  \n",
      "  The model's response logically aligns with the context provided in the input text. It accurately reflects the details discussed in the conversation, such as the patient's medical history, surgical procedure, and postoperative conditions. However, it omits specific details like the patient's age and BMI, which are present in the True Answer.\n",
      "\n",
      "- **Completeness: 4.0**  \n",
      "  The model's response is mostly complete, capturing the key details regarding the patient's condition and medical history as discussed in the conversation. However, it does not include the patient's age and BMI, which are part of the True Answer. Also, certain aspects like the specific time frame when the ophthalmologic examination was conducted (seven months before surgery) are missing.\n",
      "\n",
      "- **Naturalness: 4.8**  \n",
      "  The language used in the model's response is fluent and resembles human-like articulation. It maintains a formal and professional tone appropriate for medical documentation. There are no grammatical errors, and the sentence structure is coherent and clear.\n"
     ]
    },
    {
     "name": "stderr",
     "output_type": "stream",
     "text": [
      "Some weights of RobertaModel were not initialized from the model checkpoint at roberta-large and are newly initialized: ['roberta.pooler.dense.bias', 'roberta.pooler.dense.weight']\n",
      "You should probably TRAIN this model on a down-stream task to be able to use it for predictions and inference.\n"
     ]
    },
    {
     "name": "stdout",
     "output_type": "stream",
     "text": [
      "Evaluation result:\n",
      "- Coherence: 3.5\n",
      "\n",
      "The model's response is generally coherent and aligns with the context but contains some inconsistencies, such as stating that the patient is 65 years old instead of 81 years old, which affects overall coherence. Additionally, the model doesn't clearly integrate the dialogue-based context as the true answer and focuses more on summarizing the clinical data.\n",
      "\n",
      "- Completeness: 4.0\n",
      "\n",
      "The model's response includes most of the essential clinical information present in the true answer, such as the patient's vital signs, history of hypertension and diabetes, lithium intake, and diagnostic results. However, some procedural details and observations during the treatment that were noted by the doctor in the dialogue are not as thoroughly detailed as in the true answer.\n",
      "\n",
      "- Naturalness: 4.0\n",
      "\n",
      "The response is generally fluent and reads like a clinical summary one might expect from medical documentation. However, it feels more mechanical and lacks the conversational tone present in the dialogue, which slightly reduces its perceived human-like quality.\n"
     ]
    },
    {
     "name": "stderr",
     "output_type": "stream",
     "text": [
      "Some weights of RobertaModel were not initialized from the model checkpoint at roberta-large and are newly initialized: ['roberta.pooler.dense.bias', 'roberta.pooler.dense.weight']\n",
      "You should probably TRAIN this model on a down-stream task to be able to use it for predictions and inference.\n"
     ]
    },
    {
     "name": "stdout",
     "output_type": "stream",
     "text": [
      "Evaluation result:\n",
      "- **Coherence: 2.5**  \n",
      "  The model's response doesn't directly answer the question and introduces additional, unrelated details that are not present in the provided context. It fails to align logically with the conversation that focuses primarily on the patient's medical history, recent pregnancies, and treatments rather than personal details like education or ethnicity.\n",
      "\n",
      "- **Completeness: 2.0**  \n",
      "  The model's response does not answer the question of summarizing the patient's medical history and current condition related to pregnancy. It misses essential clinical details such as the patient's current treatment, immunologic profile abnormalities, and ongoing pregnancy monitoring, which are crucial elements discussed in the interaction.\n",
      "\n",
      "- **Naturalness: 3.0**  \n",
      "  The format of the response is structured in a clinical checklist manner, lacking a conversational tone and showing minimal fluency expected of natural dialogue. It reads more like a data entry than a human-like interaction, which affects its perceived naturalness.\n"
     ]
    },
    {
     "name": "stderr",
     "output_type": "stream",
     "text": [
      "Some weights of RobertaModel were not initialized from the model checkpoint at roberta-large and are newly initialized: ['roberta.pooler.dense.bias', 'roberta.pooler.dense.weight']\n",
      "You should probably TRAIN this model on a down-stream task to be able to use it for predictions and inference.\n"
     ]
    },
    {
     "name": "stdout",
     "output_type": "stream",
     "text": [
      "Evaluation result:\n",
      "- Coherence: 4.0\n",
      "\n",
      "The model's response is generally coherent with the context provided in the input, capturing key details about the patient's condition, medical history, and test results. However, there is a discrepancy in coherence regarding the patient's age and gender. The input indicates a conversation with a patient who is 32 years old and male, whereas the model's response incorrectly states the patient is 56 years old and female.\n",
      "\n",
      "- Completeness: 4.5\n",
      "\n",
      "The model thoroughly addresses most of the information contained in the input, detailing the symptoms, tests, and medical history relevant to the patient's condition. However, the follow-up appointment mentioned in the conversation is omitted, leading to a slightly incomplete overview.\n",
      "\n",
      "- Naturalness: 4.5\n",
      "\n",
      "The model's response is structured well and uses terminology and phrasing consistent with medical summaries. It is fluent and easily understandable, thereby capturing a human-like quality. The format, while structured, still aligns with a professional medical summary.\n"
     ]
    },
    {
     "name": "stderr",
     "output_type": "stream",
     "text": [
      "Some weights of RobertaModel were not initialized from the model checkpoint at roberta-large and are newly initialized: ['roberta.pooler.dense.bias', 'roberta.pooler.dense.weight']\n",
      "You should probably TRAIN this model on a down-stream task to be able to use it for predictions and inference.\n"
     ]
    },
    {
     "name": "stdout",
     "output_type": "stream",
     "text": [
      "Evaluation result:\n",
      "- **Coherence: 4.0**  \n",
      "  The model's response generally aligns with the context. It captures key details like the patient's auditory hallucinations, delusions, anxiety, and the details of her personal and medical history. However, there are some inaccuracies or invented details such as the mention of the patient believing she was being poisoned and delusions of reference, which were not mentioned in the input.\n",
      "\n",
      "- **Completeness: 4.5**  \n",
      "  The response is mostly complete, covering the main points mentioned in the patient-physician dialogue, such as auditory hallucinations, delusions, and medical history. However, certain details from the input, like the mention of the patient's irritability, insertion of an intrauterine contraceptive device, and absence of menstrual bleeding, were not included in the model's response.\n",
      "\n",
      "- **Naturalness: 4.5**  \n",
      "  The language of the model's response is fluent and reads like a human-written summary. It is well-structured and clear, making it easy to follow. It also appropriately uses medical terminology in a way that feels natural for a clinical context.\n"
     ]
    },
    {
     "name": "stderr",
     "output_type": "stream",
     "text": [
      "Some weights of RobertaModel were not initialized from the model checkpoint at roberta-large and are newly initialized: ['roberta.pooler.dense.bias', 'roberta.pooler.dense.weight']\n",
      "You should probably TRAIN this model on a down-stream task to be able to use it for predictions and inference.\n"
     ]
    },
    {
     "name": "stdout",
     "output_type": "stream",
     "text": [
      "Evaluation result:\n",
      "- Coherence: 4.5\n",
      "  - The model's response is mostly coherent, tracking the input conversation closely. The patient's history, symptoms, and examination details are logically aligned with the provided context. However, there is an inconsistency with the age of the patient, which is a minor deviation.\n",
      "\n",
      "- Completeness: 4.7\n",
      "  - The response is quite comprehensive, covering significant aspects of the patient's medical history, current symptoms, examination findings, and the doctor's intention to admit the patient for further treatment. It omits the respiratory rate, but this doesn’t significantly impact the overall response's completeness.\n",
      "\n",
      "- Naturalness: 4.8\n",
      "  - The language used in the model's response is clear, professional, and fluent, resembling how a clinician might document a case. It exhibits a human-like articulation, though it maintains a structured tone consistent with clinical summaries.\n"
     ]
    },
    {
     "name": "stderr",
     "output_type": "stream",
     "text": [
      "Some weights of RobertaModel were not initialized from the model checkpoint at roberta-large and are newly initialized: ['roberta.pooler.dense.bias', 'roberta.pooler.dense.weight']\n",
      "You should probably TRAIN this model on a down-stream task to be able to use it for predictions and inference.\n"
     ]
    },
    {
     "name": "stdout",
     "output_type": "stream",
     "text": [
      "Evaluation result:\n",
      "- Coherence: 4.0\n",
      "\n",
      "The model's response mostly aligns with the context provided. However, there is a noticeable discrepancy in the patient's age as the model describes them as 52 instead of 71. Additionally, the model inaccurately states \"the patient's head CT scan showed a stable right upper lobe cavitary lesion,\" which is clinically incorrect, since CT head scans do not show lung details. Nonetheless, key details such as symptoms, medical history, lab findings, mass detection, diagnosis, and treatment are coherent with the input passage.\n",
      "\n",
      "- Completeness: 4.5\n",
      "\n",
      "The model's response is largely complete regarding the information provided in the dialogue. It includes the symptoms, medical history, diagnostic findings, and the treatment and follow-up measures taken. However, it omits some specific details, such as the negative cerebrospinal fluid (CSF) cultures and the monthly frequency of visits during follow-ups. It also does not mention steps in the differential diagnosis process.\n",
      "\n",
      "- Naturalness: 4.8\n",
      "\n",
      "The model's response is highly natural and fluent, effectively resembling the summation medical professionals might produce in a clinical setting. The language is clear, concise, and appropriate for a clinical summary. The minor discrepancy in the naturalness stems from including extraneous discharge details not directly discussed in the input, though they do not largely diminish the response’s natural flow.\n"
     ]
    },
    {
     "name": "stderr",
     "output_type": "stream",
     "text": [
      "Some weights of RobertaModel were not initialized from the model checkpoint at roberta-large and are newly initialized: ['roberta.pooler.dense.bias', 'roberta.pooler.dense.weight']\n",
      "You should probably TRAIN this model on a down-stream task to be able to use it for predictions and inference.\n"
     ]
    },
    {
     "name": "stdout",
     "output_type": "stream",
     "text": [
      "Evaluation result:\n",
      "- Coherence: 3.5  \n",
      "  The model's response aligns fairly well with the input context, capturing the main points such as the kidney transplant, symptoms presented, and the denial of certain symptoms. However, there are discrepancies, such as the patient's gender and details about nausea and chills that were not mentioned in the input context.\n",
      "\n",
      "- Completeness: 3.0  \n",
      "  The model's response answers the fundamental aspects of the situation but lacks some detailed points found in the true answer, such as the mention of specific medications, the history of liver disease, or the gender of the patient. It also omits progressive drowsiness, which was part of the true condition.\n",
      "\n",
      "- Naturalness: 4.0  \n",
      "  The response is generally fluent and human-like, structuring the patient's medical history and current symptoms clearly. However, some phrasing, such as \"denied any recent travel or sick contacts,\" might seem slightly less natural in capturing the patient's dialogue based on the provided context.\n"
     ]
    },
    {
     "name": "stderr",
     "output_type": "stream",
     "text": [
      "Some weights of RobertaModel were not initialized from the model checkpoint at roberta-large and are newly initialized: ['roberta.pooler.dense.bias', 'roberta.pooler.dense.weight']\n",
      "You should probably TRAIN this model on a down-stream task to be able to use it for predictions and inference.\n"
     ]
    },
    {
     "name": "stdout",
     "output_type": "stream",
     "text": [
      "Evaluation result:\n",
      "- Coherence: 4.0\n",
      "  - The model's response is logically consistent with the conversation context. It accurately reflects the patient's medical history, symptoms, and diagnostic results mentioned during the dialogue. The main discrepancy is the mention of the patient's age, which does not match the true answer.\n",
      "\n",
      "- Completeness: 4.5\n",
      "  - The response sufficiently addresses the majority of points discussed in the conversation. However, it omits the detail about malodorous breath and the description of the mass being pliable and adherent. These details are present in the true answer but missing in the model's response.\n",
      "\n",
      "- Naturalness: 4.5\n",
      "  - The response is mostly fluent and human-like. It reads clearly and maintains a professional tone similar to how a clinical summary would be articulated by a medical professional. There are no significant issues in the language or syntax used.\n"
     ]
    },
    {
     "name": "stderr",
     "output_type": "stream",
     "text": [
      "Some weights of RobertaModel were not initialized from the model checkpoint at roberta-large and are newly initialized: ['roberta.pooler.dense.bias', 'roberta.pooler.dense.weight']\n",
      "You should probably TRAIN this model on a down-stream task to be able to use it for predictions and inference.\n"
     ]
    },
    {
     "name": "stdout",
     "output_type": "stream",
     "text": [
      "Evaluation result:\n",
      "- Coherence: 2.0   \n",
      "  The model's response is generally coherent in structure, but there are important discrepancies from the context. The patient's demographics are incorrect, and the sequence of medical events is not accurately aligned with the provided information.  \n",
      "\n",
      "- Completeness: 3.0  \n",
      "  The response captures some elements of the situation, such as the comorbid conditions and the issues related to phosphate repletion, but it lacks several details present in the true answer. It misses specific demographic details and the overall sequence of events is simplified and not entirely correct.\n",
      "\n",
      "- Naturalness: 4.0  \n",
      "  The response is written in a natural and fluent manner. It sounds human-like, with the structure and wording being clear and appropriate for a medical summary. However, despite its naturalness, the factual inaccuracies affect the perceived quality.\n"
     ]
    },
    {
     "name": "stderr",
     "output_type": "stream",
     "text": [
      "Some weights of RobertaModel were not initialized from the model checkpoint at roberta-large and are newly initialized: ['roberta.pooler.dense.bias', 'roberta.pooler.dense.weight']\n",
      "You should probably TRAIN this model on a down-stream task to be able to use it for predictions and inference.\n"
     ]
    },
    {
     "name": "stdout",
     "output_type": "stream",
     "text": [
      "Evaluation result:\n",
      "- Coherence: 4.5  \n",
      "  The model's response is coherent with the given input. It logically follows from the conversation and accurately reflects the patient's condition, medical history, and test results as discussed.\n",
      "\n",
      "- Completeness: 3.5  \n",
      "  The model's response addresses the key points mentioned in the input, such as the infection and treatment plan. However, it lacks certain details present in the true answer, such as the patient's background, previous medical history, and specific medical treatments. This makes the response less complete compared to the true answer but still sufficiently answers the question based on the data provided in the conversation.\n",
      "\n",
      "- Naturalness: 4.0  \n",
      "  The response is reasonably fluent and human-like. It presents information in a clear and structured manner, resembling a medical report or summary, which is appropriate for the context. However, it lacks some conversational or personalized elements that might be expected in a natural dialogue format.\n"
     ]
    },
    {
     "name": "stderr",
     "output_type": "stream",
     "text": [
      "Some weights of RobertaModel were not initialized from the model checkpoint at roberta-large and are newly initialized: ['roberta.pooler.dense.bias', 'roberta.pooler.dense.weight']\n",
      "You should probably TRAIN this model on a down-stream task to be able to use it for predictions and inference.\n"
     ]
    },
    {
     "name": "stdout",
     "output_type": "stream",
     "text": [
      "Evaluation result:\n",
      "- Coherence: 5.0  \n",
      "  The model's response logically aligns with the context provided in the input. It accurately reflects the sequence and details of events discussed between the doctor and the patient.\n",
      "\n",
      "- Completeness: 4.5  \n",
      "  The model's response captures most of the important details from the input, including medical history, examination findings, treatment, and follow-up. However, it omits specific details such as the patient's age (mistakenly reported as 28), the situation occurring in front of his family, and information from his family, which were part of the true answer.\n",
      "\n",
      "- Naturalness: 5.0  \n",
      "  The response sounds fluent and human-like. It clearly conveys the clinical situation in a coherent and professional manner typical of medical documentation.\n"
     ]
    },
    {
     "name": "stderr",
     "output_type": "stream",
     "text": [
      "Some weights of RobertaModel were not initialized from the model checkpoint at roberta-large and are newly initialized: ['roberta.pooler.dense.bias', 'roberta.pooler.dense.weight']\n",
      "You should probably TRAIN this model on a down-stream task to be able to use it for predictions and inference.\n"
     ]
    },
    {
     "name": "stdout",
     "output_type": "stream",
     "text": [
      "Evaluation result:\n",
      "Based on the provided input and judging from the metrics outlined, here are the evaluations for the model's response:\n",
      "\n",
      "- **Coherence: 1.0**\n",
      "  - The model's response is a string of numbers (probably a mistake or an error), which does not logically align with the context provided in the input. There is no meaningful connection between the question asked and the response given.\n",
      "\n",
      "- **Completeness: 1.0**\n",
      "  - The response does not answer any part of the question. It fails to address the cause of the patient's symptoms or provide any relevant information about the patient's condition or treatment, thus leaving the core inquiry unfulfilled.\n",
      "\n",
      "- **Naturalness: 1.0**\n",
      "  - The response is entirely unnatural, as it does not consist of human language or convey any sort of human-like fluency. The response does not resemble a conversation or an intelligible output in any form. \n",
      "\n",
      "The model's response does not meet any expectation of coherence, completeness, or naturalness due to the apparent error in output.\n"
     ]
    },
    {
     "name": "stderr",
     "output_type": "stream",
     "text": [
      "Some weights of RobertaModel were not initialized from the model checkpoint at roberta-large and are newly initialized: ['roberta.pooler.dense.bias', 'roberta.pooler.dense.weight']\n",
      "You should probably TRAIN this model on a down-stream task to be able to use it for predictions and inference.\n"
     ]
    },
    {
     "name": "stdout",
     "output_type": "stream",
     "text": [
      "Evaluation result:\n",
      "- Coherence: 4.5\n",
      "  - The model's response logically aligns with the context provided in the input. It accurately summarizes the key points, such as the patient's medical history, the details of the mass, and the results of the biopsy. However, it incorrectly states the patient's age as 60 years old, while this specific detail is missing in the input.\n",
      "\n",
      "- Completeness: 4.0\n",
      "  - The model's response captures most of the critical information from the input, including the history of breast mass, family medical history, findings from the breast exam, and the pathology results. It misses out on some specific details such as the patient's exact age and ethnicity, and does not mention that the patient is postmenopausal, which are present in the true answer. \n",
      "\n",
      "- Naturalness: 4.8\n",
      "  - The response sounds fluent and human-like, maintaining a clear and professional tone appropriate for a medical context. The sentence structure and language used are consistent with how a clinician would summarize the case.\n"
     ]
    },
    {
     "name": "stderr",
     "output_type": "stream",
     "text": [
      "Some weights of RobertaModel were not initialized from the model checkpoint at roberta-large and are newly initialized: ['roberta.pooler.dense.bias', 'roberta.pooler.dense.weight']\n",
      "You should probably TRAIN this model on a down-stream task to be able to use it for predictions and inference.\n"
     ]
    },
    {
     "name": "stdout",
     "output_type": "stream",
     "text": [
      "Evaluation result:\n",
      "- Coherence: 2.0\n",
      "  - The model's response exhibits some lack of coherence with the input context. Notably, the patient's gender is incorrectly identified as female, while the true answer and context indicate a male patient. Such discrepancies can lead to confusion. Additionally, the patient's age is inaccurately referenced, as the true answer mentions a 61-year-old, contradicting the model's reference to a 50-year-old.\n",
      "  \n",
      "- Completeness: 4.0\n",
      "  - The model's response is generally thorough, capturing most relevant details present in the input context. The treatment history, MRI findings, and the progression of the condition are well-covered. However, there is a missing mention of the specific time frame in October 2019 for the referral to the clinic, which is included in the true answer. Additionally, the specific sex hormones tested (FSH, LH, E, P, T) are not detailed.\n",
      "  \n",
      "- Naturalness: 4.5\n",
      "  - The response is fluent and reads quite naturally. It uses medically appropriate terminology and constructs sentences similarly to a human practitioner. However, minor errors like the gender and age discrepancy slightly detract from the overall natural presentation as listeners/readers might notice these inconsistencies.\n"
     ]
    },
    {
     "name": "stderr",
     "output_type": "stream",
     "text": [
      "Some weights of RobertaModel were not initialized from the model checkpoint at roberta-large and are newly initialized: ['roberta.pooler.dense.bias', 'roberta.pooler.dense.weight']\n",
      "You should probably TRAIN this model on a down-stream task to be able to use it for predictions and inference.\n"
     ]
    },
    {
     "name": "stdout",
     "output_type": "stream",
     "text": [
      "Evaluation result:\n",
      "- Coherence: 4.0\n",
      "\n",
      "The model's response generally aligns with the context provided in the input. The key events and medical information are consistent with the details described in the conversation. However, there is a factual discrepancy regarding the patient's age, which affects the overall coherence.\n",
      "\n",
      "- Completeness: 4.0\n",
      "\n",
      "The response captures most of the critical details regarding the patient's medical condition, history, treatments, and incidents during hospitalization, such as the suicide attempt and subsequent medical findings. However, it leaves out some specifics, like the exact procedures for infection control and the detailed outcome from the operating room, which were present in the true answer.\n",
      "\n",
      "- Naturalness: 4.5\n",
      "\n",
      "The model's response is fluent and reads in a human-like manner. The language is clear, well-structured, and easy to follow, maintaining a professional tone appropriate for summarizing a medical case. Minor adjustments and additions could further improve the naturalness.\n"
     ]
    },
    {
     "name": "stderr",
     "output_type": "stream",
     "text": [
      "Some weights of RobertaModel were not initialized from the model checkpoint at roberta-large and are newly initialized: ['roberta.pooler.dense.bias', 'roberta.pooler.dense.weight']\n",
      "You should probably TRAIN this model on a down-stream task to be able to use it for predictions and inference.\n"
     ]
    },
    {
     "name": "stdout",
     "output_type": "stream",
     "text": [
      "Evaluation result:\n",
      "- Coherence: 4.5  \n",
      "  The model's response logically aligns with the context provided in the input. It accurately reflects the patient's clinical history, the diagnosis, and treatment plan discussed by the doctor. However, it introduces some additional elements such as patient ID and insurance details that were not mentioned in the input.\n",
      "  \n",
      "- Completeness: 4.8  \n",
      "  The model's response sufficiently answers the question encompassing most of the information from the provided context including symptoms, past medical history, treatments, and outcomes. The only slight omission is the detail about missing 2 HD sessions due to transportation issues, which was mentioned in the true answer.\n",
      "  \n",
      "- Naturalness: 4.5  \n",
      "  The model's response is fluent and human-like. However, the inclusion of administrative details such as patient ID and insurance, while informative, makes the response slightly less conversational compared to a typical human interaction.\n"
     ]
    },
    {
     "name": "stderr",
     "output_type": "stream",
     "text": [
      "Some weights of RobertaModel were not initialized from the model checkpoint at roberta-large and are newly initialized: ['roberta.pooler.dense.bias', 'roberta.pooler.dense.weight']\n",
      "You should probably TRAIN this model on a down-stream task to be able to use it for predictions and inference.\n"
     ]
    },
    {
     "name": "stdout",
     "output_type": "stream",
     "text": [
      "Evaluation result:\n",
      "- Coherence: 3.0\n",
      "\n",
      "The model's response aligns with the context but contains inaccuracies. It mentions that the patient was admitted to the hospital in March 2021 for COVID-19, which does not match the input or the true answer. This discrepancy reduces the coherence of the response.\n",
      "\n",
      "- Completeness: 2.5\n",
      "\n",
      "The model's response provides a reasonably detailed account of the patient's medical history, but it is repetitive and misses specific details in the true answer. Moreover, the inaccurate timeline weakens its ability to sufficiently answer the overall context.\n",
      "\n",
      "- Naturalness: 3.5\n",
      "\n",
      "The model's response is somewhat repetitive, affecting its fluency and readability, which makes it sound less human-like. However, individual sentences are structured well and mostly maintain a natural form.\n"
     ]
    },
    {
     "name": "stderr",
     "output_type": "stream",
     "text": [
      "Some weights of RobertaModel were not initialized from the model checkpoint at roberta-large and are newly initialized: ['roberta.pooler.dense.bias', 'roberta.pooler.dense.weight']\n",
      "You should probably TRAIN this model on a down-stream task to be able to use it for predictions and inference.\n"
     ]
    },
    {
     "name": "stdout",
     "output_type": "stream",
     "text": [
      "Evaluation result:\n",
      "- Coherence: 4.5  \n",
      "  The model's response logically aligns with the context provided. It captures the main points and follows the sequence of events described in the input, though it does not capture all of the nuances and specifics from the dialogue.\n",
      "\n",
      "- Completeness: 4.0  \n",
      "  The response sufficiently answers the question by summarizing key elements of the patient's case. However, it lacks certain details from the true answer, such as the specific timing of events or the details of the patient's post-discharge outcome. \n",
      "\n",
      "- Naturalness: 3.5  \n",
      "  The response is clear and uses medically appropriate language. However, it resembles more of a clinical summary than a dialogue, which might detract slightly from the naturalness when comparing it to the conversational format of the input.\n"
     ]
    },
    {
     "name": "stderr",
     "output_type": "stream",
     "text": [
      "Some weights of RobertaModel were not initialized from the model checkpoint at roberta-large and are newly initialized: ['roberta.pooler.dense.bias', 'roberta.pooler.dense.weight']\n",
      "You should probably TRAIN this model on a down-stream task to be able to use it for predictions and inference.\n"
     ]
    },
    {
     "name": "stdout",
     "output_type": "stream",
     "text": [
      "Evaluation result:\n",
      "- Coherence: 3.5  \n",
      "  The model's response is somewhat coherent with the input as it accurately describes some of the patient's medical history and condition upon admission. However, there are inaccuracies, such as the patient's age (60 instead of 52) and the lack of mention of star fruit juice consumption, which were crucial details in the input.\n",
      "\n",
      "- Completeness: 3.0  \n",
      "  The model's response covers some essential details such as the patient's symptoms and initial lab results. However, it omits other significant information, such as the progression of the condition, treatments given, and specific findings from the renal biopsy. Thus, the answer is not completely addressing the input context.\n",
      "\n",
      "- Naturalness: 4.5  \n",
      "  The model's response is fluently written and sounds human-like. It maintains the formal and clinical tone expected in a medical setting, although occasional use of medical jargon adds some complexity, which is typical for such contexts.\n"
     ]
    },
    {
     "name": "stderr",
     "output_type": "stream",
     "text": [
      "Some weights of RobertaModel were not initialized from the model checkpoint at roberta-large and are newly initialized: ['roberta.pooler.dense.bias', 'roberta.pooler.dense.weight']\n",
      "You should probably TRAIN this model on a down-stream task to be able to use it for predictions and inference.\n"
     ]
    },
    {
     "name": "stdout",
     "output_type": "stream",
     "text": [
      "Evaluation result:\n",
      "- Coherence: 4.8  \n",
      "  The model's response logically aligns with the context provided in the input. It accurately summarizes the patient's medical history and diagnoses. However, it omits some minor details such as the specific genetic mutations and the patient's other chronic conditions, which could be slightly misleading.\n",
      "\n",
      "- Completeness: 4.5  \n",
      "  The response covers most of the essential information, including the major treatments and diagnoses. However, it leaves out specific details about the genetic mutations (PIK3CA and KRAS), other medical conditions (hypertension, dyslipidaemia, etc.), and specifics of the treatment like the third line therapies, which are mentioned in the true answer.\n",
      "\n",
      "- Naturalness: 4.9  \n",
      "  The response is fluent and sounds human-like. It uses medical terminology appropriately and maintains a formal tone suitable for a medical summary, which enhances its naturalness.\n"
     ]
    },
    {
     "name": "stderr",
     "output_type": "stream",
     "text": [
      "Some weights of RobertaModel were not initialized from the model checkpoint at roberta-large and are newly initialized: ['roberta.pooler.dense.bias', 'roberta.pooler.dense.weight']\n",
      "You should probably TRAIN this model on a down-stream task to be able to use it for predictions and inference.\n"
     ]
    },
    {
     "name": "stdout",
     "output_type": "stream",
     "text": [
      "Evaluation result:\n",
      "- Coherence: 3.5\n",
      "\n",
      "The model's response aligns somewhat with the context given, as it accurately describes the patient’s conditions, treatments, and key medical events. However, it lacks distinction between the provided input and the true patient details from the true answer, such as the patient's age, gender, and ethnicity. This results in a generic response that doesn't fully incorporate the specific nuances of the earlier dialog.\n",
      "\n",
      "- Completeness: 4.0\n",
      "\n",
      "The model's response covers the majority of the critical details shared in the input, including the patient's attempt at suicide, the treatments associated with diabetes and schizophrenia, and the emergency treatment received. However, it misses some details from the true answer, notably numerical details about medication dosages and specifics of the emergency examination, which could enhance the completeness of the response.\n",
      "\n",
      "- Naturalness: 3.5\n",
      "\n",
      "The language used in the model's response is fairly structured and medical, which aligns with the context of a clinical report but may not fully capture a natural conversation tone one might expect between a patient and doctor. It's clear and grammatical, yet somewhat repetitive and lacking the warmth or empathy a human-like interaction could include.\n"
     ]
    },
    {
     "name": "stderr",
     "output_type": "stream",
     "text": [
      "Some weights of RobertaModel were not initialized from the model checkpoint at roberta-large and are newly initialized: ['roberta.pooler.dense.bias', 'roberta.pooler.dense.weight']\n",
      "You should probably TRAIN this model on a down-stream task to be able to use it for predictions and inference.\n"
     ]
    },
    {
     "name": "stdout",
     "output_type": "stream",
     "text": [
      "Evaluation result:\n",
      "- Coherence: 4.5\n",
      "\n",
      "  The model's response logically aligns with the context provided, accurately reflecting the patient's medical history, current symptoms, and the planned medical procedures. However, there are minor differences, such as the patient's age and some specific medical details that slightly detract from coherence.\n",
      "\n",
      "- Completeness: 4.8\n",
      "\n",
      "  The response sufficiently captures the critical aspects of the patient's medical situation, the examinations conducted, and the proposed medical strategy. The minor variation in age does not significantly impact the completeness of the information regarding the medical situation and treatment plan.\n",
      "\n",
      "- Naturalness: 4.7\n",
      "\n",
      "  The language used in the model's response is fluent and human-like, presenting medical details clearly and concisely. There are no awkward phrasings or grammatical errors, maintaining a professional tone consistent with a clinical setting. However, the response still somewhat resembles a report, slightly reducing the conversational naturalness.\n"
     ]
    },
    {
     "name": "stderr",
     "output_type": "stream",
     "text": [
      "Some weights of RobertaModel were not initialized from the model checkpoint at roberta-large and are newly initialized: ['roberta.pooler.dense.bias', 'roberta.pooler.dense.weight']\n",
      "You should probably TRAIN this model on a down-stream task to be able to use it for predictions and inference.\n"
     ]
    },
    {
     "name": "stdout",
     "output_type": "stream",
     "text": [
      "Evaluation result:\n",
      "- **Coherence**: 4.5  \n",
      "  The model's response is generally coherent with the input context. It accurately reflects the patient's medical history and condition as discussed through the dialogue. However, it inaccurately specifies the patient's age as \"60-year-old male\" instead of 73 years old.\n",
      "\n",
      "- **Completeness**: 4.0  \n",
      "  The model's response covers most of the relevant details about the patient's condition, including the diagnosis and key findings from the examination. However, it misses some specific details such as the results from the neck lymph nodes or certain specific imaging findings (e.g., SUVmax values) described in the true answer. Also, the model does not mention the results of specific tests like the bone marrow puncture test or the detailed immunostaining findings.\n",
      "\n",
      "- **Naturalness**: 4.5  \n",
      "  The response is generally fluent and reads in a human-like manner, clearly summarizing the patient's condition. It succinctly outlines the patient's history and current medical status without awkward phrasing. However, the language is slightly clinical and might seem formal compared to a more conversational tone.\n"
     ]
    },
    {
     "name": "stderr",
     "output_type": "stream",
     "text": [
      "Some weights of RobertaModel were not initialized from the model checkpoint at roberta-large and are newly initialized: ['roberta.pooler.dense.bias', 'roberta.pooler.dense.weight']\n",
      "You should probably TRAIN this model on a down-stream task to be able to use it for predictions and inference.\n"
     ]
    },
    {
     "name": "stdout",
     "output_type": "stream",
     "text": [
      "Evaluation result:\n",
      "- Coherence: 4.5  \n",
      "The model's response is coherent with the context provided. It accurately reflects the medical history, the procedures conducted, and the postoperative findings. A minor inconsistency is the patient's age, which is mentioned as 58 instead of 78, as in the true answer.\n",
      "\n",
      "- Completeness: 4.8  \n",
      "The model's response is comprehensive and includes almost all key details such as the medical history, diagnosis, surgical procedure, findings, and postoperative advice. The only minor omissions are the mention of ascites and that the X-ray was in the \"upright\" position.\n",
      "\n",
      "- Naturalness: 4.7  \n",
      "The response is generally fluent and reads like a well-structured medical summary. Some phrasing could be more conversational, but it maintains a professional tone appropriate for a clinical context.\n"
     ]
    },
    {
     "name": "stderr",
     "output_type": "stream",
     "text": [
      "Some weights of RobertaModel were not initialized from the model checkpoint at roberta-large and are newly initialized: ['roberta.pooler.dense.bias', 'roberta.pooler.dense.weight']\n",
      "You should probably TRAIN this model on a down-stream task to be able to use it for predictions and inference.\n"
     ]
    },
    {
     "name": "stdout",
     "output_type": "stream",
     "text": [
      "Evaluation result:\n",
      "- Coherence: 3.0\n",
      "\n",
      "The model’s response has several coherence issues with the given context. Firstly, it incorrectly identifies the patient as a 45-year-old male, whereas the true answer describes a 66-year-old female. While the rest of the model's response aligns with the medical findings and events listed in the original conversation, such inaccuracies in patient details disrupt logical coherence.\n",
      "\n",
      "- Completeness: 4.5\n",
      "\n",
      "The model's response adequately covers the key medical details and sequence of events presented in the dialogue. It addresses the main points such as the symptoms, test results, diagnosis, and treatment plan. However, the incorrect patient demographics somewhat reduce its completeness. \n",
      "\n",
      "- Naturalness: 4.5\n",
      "\n",
      "The response maintains a clear, concise, and professional tone consistent with the style of medical summaries. It reads fluently and is constructed in a human-like manner, suitable for clinical documentation, albeit with some repetition in phrasing.\n"
     ]
    },
    {
     "name": "stderr",
     "output_type": "stream",
     "text": [
      "Some weights of RobertaModel were not initialized from the model checkpoint at roberta-large and are newly initialized: ['roberta.pooler.dense.bias', 'roberta.pooler.dense.weight']\n",
      "You should probably TRAIN this model on a down-stream task to be able to use it for predictions and inference.\n"
     ]
    },
    {
     "name": "stdout",
     "output_type": "stream",
     "text": [
      "Evaluation result:\n",
      "- Coherence: 3.5  \n",
      "  The model's response logically follows the context of the input dialogue, but there are significant discrepancies in details such as the patient's age, gender, and ethnicity, which affect overall coherence. These errors could confuse readers about the patient's profile.\n",
      "\n",
      "- Completeness: 4.0  \n",
      "  The model's response covers most of the key clinical findings, treatments, and diagnoses discussed in the input. However, details such as the patient's basic demographic information (age, gender, ethnicity) are incorrect, and there are additions to the laboratory findings not explicitly mentioned in the provided context, like specific blood test results.\n",
      "\n",
      "- Naturalness: 4.5  \n",
      "  The language used by the model is fluent and reads naturally. The structure and phrasing are fairly professional and reflect a typical medical case summary, making it sound human-like. The model's output captures a clinical tone suitable for the context.\n"
     ]
    },
    {
     "name": "stderr",
     "output_type": "stream",
     "text": [
      "Some weights of RobertaModel were not initialized from the model checkpoint at roberta-large and are newly initialized: ['roberta.pooler.dense.bias', 'roberta.pooler.dense.weight']\n",
      "You should probably TRAIN this model on a down-stream task to be able to use it for predictions and inference.\n"
     ]
    },
    {
     "name": "stdout",
     "output_type": "stream",
     "text": [
      "Evaluation result:\n",
      "- Coherence: 3.0  \n",
      "  - The model's response logically aligns with the context provided; however, the model incorrectly identifies the patient as a 65-year-old male instead of an 85-year-old woman. This error in demographic detail affects coherence significantly.\n",
      "\n",
      "- Completeness: 5.0  \n",
      "  - The model's response sufficiently covers all the major details and events mentioned in the conversation, adequately answering the question about the patient's presentation, findings, and management.\n",
      "\n",
      "- Naturalness: 4.5  \n",
      "  - The model's response is fluent and mostly human-like. It reads like a coherent summary of medical notes, though it could be slightly more concise or use less technical language to feel more natural in a conversational context.\n"
     ]
    },
    {
     "name": "stderr",
     "output_type": "stream",
     "text": [
      "Some weights of RobertaModel were not initialized from the model checkpoint at roberta-large and are newly initialized: ['roberta.pooler.dense.bias', 'roberta.pooler.dense.weight']\n",
      "You should probably TRAIN this model on a down-stream task to be able to use it for predictions and inference.\n"
     ]
    },
    {
     "name": "stdout",
     "output_type": "stream",
     "text": [
      "Evaluation result:\n",
      "- Coherence: 3.0  \n",
      "The model's response generally aligns with the input but incorrectly identifies the patient as female and uses a different age, which affects the response's alignment and logical consistency with the context provided.\n",
      "\n",
      "- Completeness: 3.0  \n",
      "The model captures most of the essential information, such as the type 1 diabetes history, insulin use, hyperglycemia, and its possible connection with fluocinonide cream. However, it misses some specific details from the true answer, such as the specific daily insulin dosage and certain medical evaluations conducted during the hospital stay.\n",
      "\n",
      "- Naturalness: 4.5  \n",
      "The language used in the model's response is fluent and human-like, effectively summarizing the interaction in a clear narrative form. However, there is a slight unnaturalness due to the inconsistency in the patient's gender and age, which can cause confusion to the reader.\n"
     ]
    },
    {
     "name": "stderr",
     "output_type": "stream",
     "text": [
      "Some weights of RobertaModel were not initialized from the model checkpoint at roberta-large and are newly initialized: ['roberta.pooler.dense.bias', 'roberta.pooler.dense.weight']\n",
      "You should probably TRAIN this model on a down-stream task to be able to use it for predictions and inference.\n"
     ]
    },
    {
     "name": "stdout",
     "output_type": "stream",
     "text": [
      "Evaluation result:\n",
      "- Coherence: 4.0  \n",
      "  The model's response is coherent with the input, accurately capturing key details about the patient's medical history, the procedure, and the challenges faced. However, it makes an error in mentioning the patient's gender and age, which slightly affects coherence.\n",
      "\n",
      "- Completeness: 4.5  \n",
      "  The response effectively covers the major components of the input, including the patient's medical conditions, echocardiography results, details of the TAVI procedure, and the complication encountered. It lacks some minor specifics present in the true answer, like the references to supplementary materials, but these omissions don't significantly impact the completeness of the main clinical details.\n",
      "\n",
      "- Naturalness: 4.8  \n",
      "  The response is written in a clear and fluent manner, closely resembling a human medical summary. It correctly uses medical terminology and sentence structures typical of clinical documentation. The error regarding the patient's gender and age is the main reason it isn’t rated a perfect score.\n"
     ]
    },
    {
     "name": "stderr",
     "output_type": "stream",
     "text": [
      "Some weights of RobertaModel were not initialized from the model checkpoint at roberta-large and are newly initialized: ['roberta.pooler.dense.bias', 'roberta.pooler.dense.weight']\n",
      "You should probably TRAIN this model on a down-stream task to be able to use it for predictions and inference.\n"
     ]
    },
    {
     "name": "stdout",
     "output_type": "stream",
     "text": [
      "Evaluation result:\n",
      "- Coherence: 4.5  \n",
      "  The model's response logically aligns with the conversation context. It accurately reflects the patient's symptoms and the medical assessments and interventions described in the dialogue. However, it mistakenly identifies the patient as a 45-year-old male.\n",
      "\n",
      "- Completeness: 4.0  \n",
      "  The model's response includes most of the key elements from the conversation, such as the medical interventions and the potential complications. However, it lacks some specific details, like the results of the CT cerebral angiogram and the specific outcome of the surgery mentioned in the true answer.\n",
      "\n",
      "- Naturalness: 4.5  \n",
      "  The language used by the model is clear and sounds professional and fluent, matching the tone of a medical setting. It effectively summarizes the situation in a way that is easy for a human reader to understand. However, the response is somewhat clinical and lacks a more conversational tone.\n"
     ]
    },
    {
     "name": "stderr",
     "output_type": "stream",
     "text": [
      "Some weights of RobertaModel were not initialized from the model checkpoint at roberta-large and are newly initialized: ['roberta.pooler.dense.bias', 'roberta.pooler.dense.weight']\n",
      "You should probably TRAIN this model on a down-stream task to be able to use it for predictions and inference.\n"
     ]
    },
    {
     "name": "stdout",
     "output_type": "stream",
     "text": [
      "Evaluation result:\n",
      "- Coherence: 4.5  \n",
      "  The model's response aligns well with the context, summarizing key medical interventions and conditions experienced by the patient. However, the model omits specifics such as the Glasgow Coma Scale score and certain test results.\n",
      "\n",
      "- Completeness: 4.0  \n",
      "  The model covers a significant portion of the patient's diagnosis and treatment plan but lacks specific details about the patient's initial presentation (e.g., Glasgow Coma Scale, blood pressure details) and the cardiology team's decision regarding cardiac catheterization, which are present in the true answer.\n",
      "\n",
      "- Naturalness: 4.5  \n",
      "  The response is fluent and reads naturally, conveying the medical details in a clear and professional manner. However, the absence of patient interaction style or more conversational elements seen in the input context slightly reduces its naturalness in a clinical dialogue context.\n"
     ]
    },
    {
     "name": "stderr",
     "output_type": "stream",
     "text": [
      "Some weights of RobertaModel were not initialized from the model checkpoint at roberta-large and are newly initialized: ['roberta.pooler.dense.bias', 'roberta.pooler.dense.weight']\n",
      "You should probably TRAIN this model on a down-stream task to be able to use it for predictions and inference.\n"
     ]
    },
    {
     "name": "stdout",
     "output_type": "stream",
     "text": [
      "Evaluation result:\n",
      "- Coherence: 4.5  \n",
      "  The model's response is mostly coherent with the given input; however, it introduces an error by mentioning fever, which the patient clearly stated they did not have. Aside from this, the response accurately reflects the dialogue provided.\n",
      "\n",
      "- Completeness: 4.0  \n",
      "  The model's response provides a detailed account of the patient's medical history and current condition. However, it lacks specific details such as age discrepancy and some background details like the patient's occupation and spirometry results.\n",
      "\n",
      "- Naturalness: 4.5  \n",
      "  The response reads fluently and mimics how a human might summarize medical information. It employs medical terminology appropriately, although there is a slight robotic quality that might not completely reflect how a doctor would naturally summarize during a face-to-face conversation.\n"
     ]
    },
    {
     "name": "stderr",
     "output_type": "stream",
     "text": [
      "Some weights of RobertaModel were not initialized from the model checkpoint at roberta-large and are newly initialized: ['roberta.pooler.dense.bias', 'roberta.pooler.dense.weight']\n",
      "You should probably TRAIN this model on a down-stream task to be able to use it for predictions and inference.\n"
     ]
    },
    {
     "name": "stdout",
     "output_type": "stream",
     "text": [
      "Evaluation result:\n",
      "- Coherence: 4.5\n",
      "\n",
      "The model's response is generally coherent and logically aligns with the context provided in the input. However, there is a discrepancy in the patient's age, as the model incorrectly stated the patient to be 68 years old while the true answer indicates the patient was 90 years old. Aside from this inconsistency, the response accurately matches the context.\n",
      "\n",
      "- Completeness: 4.8\n",
      "\n",
      "The model's response sufficiently answers the questions and includes nearly all relevant details from the input. It summarizes the patient's current situation, diagnosis, and the advised actions. However, it does not mention the specific method (Simpson method) used for measuring the ejection fraction as included in the true answer.\n",
      "\n",
      "- Naturalness: 5.0\n",
      "\n",
      "The response sounds fluent and human-like. The language used is appropriate for summarizing a medical scenario, and it presents the information in a clear and professional manner that is consistent with a medical context.\n"
     ]
    },
    {
     "name": "stderr",
     "output_type": "stream",
     "text": [
      "Some weights of RobertaModel were not initialized from the model checkpoint at roberta-large and are newly initialized: ['roberta.pooler.dense.bias', 'roberta.pooler.dense.weight']\n",
      "You should probably TRAIN this model on a down-stream task to be able to use it for predictions and inference.\n"
     ]
    },
    {
     "name": "stdout",
     "output_type": "stream",
     "text": [
      "Evaluation result:\n",
      "- Coherence: 2.5\n",
      "\n",
      "The model's response lacks coherence due to several errors and inconsistencies with the input context. It inaccurately describes the patient as a female, whereas the input specifies a male patient. Additionally, it incorrectly reports that the patient was lost to follow-up multiple times, which is not supported by the input information. This lack of alignment with the input context significantly reduces coherence.\n",
      "\n",
      "- Completeness: 2.0\n",
      "\n",
      "The model's response is incomplete because it repeats information unnecessarily and omits critical details. It fails to acknowledge the patient's death, which is a vital part of the narrative from the input. Moreover, the model redundantly reiterates the details of the patient's follow-up visits without offering additional or new insights, leading to an incomplete capturing of all significant events.\n",
      "\n",
      "- Naturalness: 3.0\n",
      "\n",
      "While the response is generally fluent and uses appropriate medical terminology, it becomes repetitive and somewhat mechanical. The repeated information detracts from the natural flow of the narrative. However, when varied, the sentence structure and vocabulary do maintain a level of fluency that somewhat mimics human communication.\n"
     ]
    },
    {
     "name": "stderr",
     "output_type": "stream",
     "text": [
      "Some weights of RobertaModel were not initialized from the model checkpoint at roberta-large and are newly initialized: ['roberta.pooler.dense.bias', 'roberta.pooler.dense.weight']\n",
      "You should probably TRAIN this model on a down-stream task to be able to use it for predictions and inference.\n"
     ]
    },
    {
     "name": "stdout",
     "output_type": "stream",
     "text": [
      "Evaluation result:\n",
      "- Coherence: 4.5\n",
      "\n",
      "The model's response aligns well with the context provided. It accurately summarizes the sequence of events and medical history as described in the dialogue, indicating strong coherence. The details concerning the symptoms, diagnosis, treatment, and outcome are consistent with the context. Minor discrepancies, such as the age of the patient not being specified, prevent a perfect score.\n",
      "\n",
      "- Completeness: 4.0\n",
      "\n",
      "The model provides a comprehensive summary of the patient's medical history, symptoms, diagnosis, and treatment. However, it lacks specific details present in the true answer, such as the initial lab findings (hemoglobin and serum creatinine levels) and some specifics from the renal biopsy, which are important for a complete understanding of the case. Therefore, it slightly falls short of a perfect level of completeness.\n",
      "\n",
      "- Naturalness: 4.8\n",
      "\n",
      "The response is fluent and reads naturally, closely resembling how a human might summarize the given information. The language is clear and professional, reflecting a typical clinical summary. The structure of the response is also naturally flowing. A couple of stylistic variations could enhance the naturalness, but overall it's quite human-like.\n"
     ]
    },
    {
     "name": "stderr",
     "output_type": "stream",
     "text": [
      "Some weights of RobertaModel were not initialized from the model checkpoint at roberta-large and are newly initialized: ['roberta.pooler.dense.bias', 'roberta.pooler.dense.weight']\n",
      "You should probably TRAIN this model on a down-stream task to be able to use it for predictions and inference.\n"
     ]
    },
    {
     "name": "stdout",
     "output_type": "stream",
     "text": [
      "평균 점수:\n",
      "Coherence       3.772043\n",
      "Completeness    3.727957\n",
      "Naturalness     4.281720\n",
      "BLEURT          0.515251\n",
      "BERTScore_F1    0.732733\n",
      "dtype: float64\n"
     ]
    }
   ],
   "source": [
    "# summarization\n",
    "\n",
    "import openai\n",
    "import pandas as pd\n",
    "import re\n",
    "from sklearn.metrics import f1_score\n",
    "from bert_score import score as bert_score\n",
    "from transformers import AutoTokenizer, AutoModelForSequenceClassification\n",
    "import torch\n",
    "import os\n",
    "from dotenv import load_dotenv\n",
    "\n",
    "load_dotenv()\n",
    "openai.api_key = os.getenv(\"OPENAI_API_KEY\")\n",
    "\n",
    "# BLEURT 모델 로드\n",
    "bleurt_model_name = \"Elron/bleurt-large-512\"\n",
    "tokenizer = AutoTokenizer.from_pretrained(bleurt_model_name)\n",
    "bleurt_model = AutoModelForSequenceClassification.from_pretrained(bleurt_model_name)\n",
    "bleurt_model.eval()\n",
    "\n",
    "device = torch.device(\"cuda\" if torch.cuda.is_available() else \"cpu\")\n",
    "bleurt_model = bleurt_model.to(device)\n",
    "\n",
    "MAX_CONTEXT_LENGTH = 8192\n",
    "\n",
    "# GPT-4 평가 함수\n",
    "def evaluate_with_gpt4(input_text, model_output, true_output):\n",
    "    input_text = str(input_text)[:MAX_CONTEXT_LENGTH]\n",
    "    model_output = str(model_output)[:MAX_CONTEXT_LENGTH]\n",
    "    true_output = str(true_output)[:MAX_CONTEXT_LENGTH]\n",
    "\n",
    "    prompt = f\"\"\"\n",
    "    You are tasked with evaluating the quality of a QA model's responses based on the following metrics:\n",
    "    1. **Coherence**: Does the model's response logically align with the context provided in the input?\n",
    "    2. **Completeness**: Does the model's response sufficiently answer the question in the input?\n",
    "    3. **Naturalness**: Does the model's response sound fluent and human-like?\n",
    "\n",
    "    **Input**:\n",
    "    {input_text}\n",
    "\n",
    "    **Model's Response**:\n",
    "    {model_output}\n",
    "\n",
    "    **True Answer**:\n",
    "    {true_output}\n",
    "\n",
    "    Please rate each metric on a scale from 1 to 5. \n",
    "    Example response format:\n",
    "    - Coherence: X.X\n",
    "    - Completeness: X.X\n",
    "    - Naturalness: X.X\n",
    "    \"\"\"\n",
    "    try:\n",
    "        client = openai.OpenAI()\n",
    "        response = client.chat.completions.create(\n",
    "            model=\"gpt-4o\",\n",
    "            messages=[\n",
    "                {\"role\": \"system\", \"content\": \"You are an expert evaluator for Summarization models.\"},\n",
    "                {\"role\": \"user\", \"content\": prompt}\n",
    "            ]\n",
    "        )\n",
    "        return response.choices[0].message.content\n",
    "    except Exception as e:\n",
    "        print(\"Error with GPT-4 API:\", e)\n",
    "        return None\n",
    "\n",
    "# GPT-4 점수 추출\n",
    "def extract_scores(evaluation):\n",
    "    if evaluation is None:\n",
    "        return {\"Coherence\": 0.0, \"Completeness\": 0.0, \"Naturalness\": 0.0}\n",
    "    coherence = re.search(r\"Coherence: (\\d\\.\\d)\", evaluation)\n",
    "    completeness = re.search(r\"Completeness: (\\d\\.\\d)\", evaluation)\n",
    "    naturalness = re.search(r\"Naturalness: (\\d\\.\\d)\", evaluation)\n",
    "    \n",
    "    return {\n",
    "        \"Coherence\": float(coherence.group(1)) if coherence else 0.0,\n",
    "        \"Completeness\": float(completeness.group(1)) if completeness else 0.0,\n",
    "        \"Naturalness\": float(naturalness.group(1)) if naturalness else 0.0\n",
    "    }\n",
    "\n",
    "# BLEURT 점수 계산\n",
    "def calculate_bleurt(y_true, y_pred):\n",
    "    inputs = tokenizer(y_pred, y_true, return_tensors=\"pt\", padding=True, truncation=True, max_length=512)\n",
    "    inputs = {key: value.to(device) for key, value in inputs.items()}\n",
    "    \n",
    "    with torch.no_grad():\n",
    "        scores = bleurt_model(**inputs).logits\n",
    "\n",
    "    if scores.numel() == 1:\n",
    "        return float(scores.squeeze().item())  \n",
    "    return [float(score) for score in scores.squeeze().tolist()]  \n",
    "\n",
    "# BLEURT 및 BERTScore 계산\n",
    "def calculate_bleurt_and_bertscore(y_true, y_pred):\n",
    "    bleurt_score_value = calculate_bleurt(y_true, y_pred)\n",
    "    _, _, bert_f1 = bert_score(y_pred, y_true, lang=\"en\", rescale_with_baseline=True)\n",
    "    bert_f1_avg = sum(bert_f1) / len(bert_f1) if len(bert_f1) > 0 else 0\n",
    "\n",
    "    return {\n",
    "        \"BLEURT\": bleurt_score_value if isinstance(bleurt_score_value, float) else sum(bleurt_score_value) / len(bleurt_score_value),\n",
    "        \"BERTScore_F1\": bert_f1_avg\n",
    "    }\n",
    "\n",
    "# 점수 정규화 함수\n",
    "def normalize_scores(df, column):\n",
    "    if column not in df.columns:\n",
    "        print(f\"Warning: Column {column} not found in DataFrame. Skipping normalization.\")\n",
    "        return df\n",
    "    df[column] = df[column].apply(lambda x: float(x) if isinstance(x, torch.Tensor) else x)\n",
    "    min_val, max_val = df[column].min(), df[column].max()\n",
    "    df[column] = df[column].apply(lambda x: (x - min_val) / (max_val - min_val) if max_val > min_val else 0.5)\n",
    "    return df\n",
    "\n",
    "summarization = df[df['task'] == 'summarization']\n",
    "results = []\n",
    "\n",
    "for _, row in summarization.iterrows():\n",
    "    input_text = str(row['input'])\n",
    "    model_output = str(row['model_output_512'])\n",
    "    true_output = str(row['output'])\n",
    "    \n",
    "    evaluation = evaluate_with_gpt4(input_text, model_output, true_output)\n",
    "    print(f\"Evaluation result:\\n{evaluation}\")\n",
    "    \n",
    "    scores = extract_scores(evaluation)\n",
    "    metric_scores = calculate_bleurt_and_bertscore([true_output], [model_output])\n",
    "\n",
    "    results.append({\n",
    "        \"input\": input_text,\n",
    "        \"model_output\": model_output,\n",
    "        \"true_output\": true_output,\n",
    "        \"evaluation\": evaluation,\n",
    "        \"Coherence\": scores[\"Coherence\"],\n",
    "        \"Completeness\": scores[\"Completeness\"],\n",
    "        \"Naturalness\": scores[\"Naturalness\"],\n",
    "        \"BLEURT\": metric_scores.get(\"BLEURT\", 0.0),  # 기본값 설정\n",
    "        \"BERTScore_F1\": metric_scores.get(\"BERTScore_F1\", 0.0)\n",
    "    })\n",
    "\n",
    "evaluation_df = pd.DataFrame(results)\n",
    "\n",
    "# 'BLEURT' 컬럼이 존재하는지 확인 후 정규화 수행\n",
    "evaluation_df = normalize_scores(evaluation_df, \"BLEURT\")\n",
    "evaluation_df = normalize_scores(evaluation_df, \"BERTScore_F1\")\n",
    "\n",
    "average_scores = evaluation_df[[\"Coherence\", \"Completeness\", \"Naturalness\", \"BLEURT\", \"BERTScore_F1\"]].mean()\n",
    "print(\"평균 점수:\")\n",
    "print(average_scores)\n"
   ]
  },
  {
   "cell_type": "code",
   "execution_count": 8,
   "metadata": {},
   "outputs": [
    {
     "name": "stdout",
     "output_type": "stream",
     "text": [
      "Evaluation result:\n",
      "- Coherence: 1.0\n",
      "- Completeness: 1.0\n",
      "- Naturalness: 1.0\n",
      "\n",
      "The model's response \"Dear patient, </s>\" is not coherent with the input as it does not logically align or follow the context provided. It is incomplete as it fails to answer the question or provide any advice regarding managing blood sugar levels, and it lacks naturalness, appearing abruptly truncated and non-fluent.\n"
     ]
    },
    {
     "name": "stderr",
     "output_type": "stream",
     "text": [
      "Some weights of RobertaModel were not initialized from the model checkpoint at roberta-large and are newly initialized: ['roberta.pooler.dense.bias', 'roberta.pooler.dense.weight']\n",
      "You should probably TRAIN this model on a down-stream task to be able to use it for predictions and inference.\n"
     ]
    },
    {
     "name": "stdout",
     "output_type": "stream",
     "text": [
      "Evaluation result:\n",
      "- Coherence: 1.0\n",
      "- Completeness: 1.0\n",
      "- Naturalness: 1.0\n",
      "\n",
      "**Evaluation Explanation:**\n",
      "\n",
      "The model's response lacks content and does not provide any information to address the user's question. It only includes a generic greeting without addressing the query or providing any logical or meaningful context. \n",
      "\n",
      "1. **Coherence**: The rating is 1.0 because the response does not align at all with the input context. There is no logical connection between the user’s detailed medical query and the model's incomplete response.\n",
      "\n",
      "2. **Completeness**: The rating is 1.0 because the model's response fails to answer the question asked by the user. It provides no information or advice about the possibility of pancreatic cancer or an explanation of the insulin level changes.\n",
      "\n",
      "3. **Naturalness**: The rating is 1.0 as the response is abrupt and wholly unhelpful. The greeting is standard, but the lack of any additional content makes it sound unnatural and not human-like. \n",
      "\n",
      "Overall, the model's output is inadequate under all evaluation metrics.\n"
     ]
    },
    {
     "name": "stderr",
     "output_type": "stream",
     "text": [
      "Some weights of RobertaModel were not initialized from the model checkpoint at roberta-large and are newly initialized: ['roberta.pooler.dense.bias', 'roberta.pooler.dense.weight']\n",
      "You should probably TRAIN this model on a down-stream task to be able to use it for predictions and inference.\n"
     ]
    },
    {
     "name": "stdout",
     "output_type": "stream",
     "text": [
      "Evaluation result:\n",
      "- Coherence: 4.0\n",
      "\n",
      "  The response aligns with the context provided, discussing the two treatment options (Lucentis and Accentrix) mentioned in the input. However, it assumes that the case involves AMD, even though the input doesn't specify this condition. Hence, coherence is slightly affected by the assumption not explicitly supported by the input.\n",
      "\n",
      "- Completeness: 3.0\n",
      "\n",
      "  While the response provides a detailed explanation about the medications mentioned, including their typical use and FDA approval status, it doesn't sufficiently address the heart of the question, which is guidance on choosing between two treatment plans. It suggests consulting the original doctor but doesn’t provide a strong direction on selecting a treatment plan based on provided details as much as it could.\n",
      "\n",
      "- Naturalness: 4.5\n",
      "\n",
      "  The response is fluent and reads quite naturally, resembling a human-like explanation. The use of medical terms is appropriate, given the context, though it might be slightly more technical than necessary for a general audience. Overall, the response is articulate and well-structured.\n"
     ]
    },
    {
     "name": "stderr",
     "output_type": "stream",
     "text": [
      "Some weights of RobertaModel were not initialized from the model checkpoint at roberta-large and are newly initialized: ['roberta.pooler.dense.bias', 'roberta.pooler.dense.weight']\n",
      "You should probably TRAIN this model on a down-stream task to be able to use it for predictions and inference.\n"
     ]
    },
    {
     "name": "stdout",
     "output_type": "stream",
     "text": [
      "Evaluation result:\n",
      "- Coherence: 4.5\n",
      "\n",
      "The model's response logically aligns with the context provided in the input. It acknowledges the issue of erectile dysfunction and provides a brief explanation of the condition, which is relevant and coherent with the user's query.\n",
      "\n",
      "- Completeness: 2.0\n",
      "\n",
      "The model's response does not sufficiently answer the question in the input. While it explains what erectile dysfunction is, it does not offer any actionable advice or suggestions for treatment options, unlike the True Answer which provides a more comprehensive response including questions about medical history, alternative treatments, and specific drugs.\n",
      "\n",
      "- Naturalness: 4.5\n",
      "\n",
      "The model's response sounds fluent and human-like. The language used is clear and professional, which is expected in communication from a doctor to a patient. However, it lacks the warmth or direct advice one might expect in a personal response, slightly affecting the naturalness.\n"
     ]
    },
    {
     "name": "stderr",
     "output_type": "stream",
     "text": [
      "Some weights of RobertaModel were not initialized from the model checkpoint at roberta-large and are newly initialized: ['roberta.pooler.dense.bias', 'roberta.pooler.dense.weight']\n",
      "You should probably TRAIN this model on a down-stream task to be able to use it for predictions and inference.\n"
     ]
    },
    {
     "name": "stdout",
     "output_type": "stream",
     "text": [
      "Evaluation result:\n",
      "- Coherence: 2.0\n",
      "\n",
      "    The response lacks coherence with respect to the specific context of the question. The user asked if the white spots on the gums are related to diabetes or if they indicate a serious problem. However, the model’s answer jumps to the conclusion that these are \"white gum plaque\" without addressing whether they are related to diabetes or are indicative of a more serious condition. The explanation given does not align with the concern about diabetes.\n",
      "\n",
      "- Completeness: 2.0\n",
      "\n",
      "    The model's response partially addresses the question by providing information about what white spots could be. However, it completely misses the connection (or lack thereof) to diabetes. It doesn’t explore other potential causes or the severity of the issue, nor does it suggest consulting a professional for a more accurate diagnosis, which is a key part of a well-rounded answer to health queries.\n",
      "\n",
      "- Naturalness: 4.0\n",
      "\n",
      "    The response sounds quite natural and smoothly explains the concept of plaque. The language used is clear and human-like. However, it slightly lacks the empathetic and cautious tonality expected in medical advice, dropping the score a bit.\n"
     ]
    },
    {
     "name": "stderr",
     "output_type": "stream",
     "text": [
      "Some weights of RobertaModel were not initialized from the model checkpoint at roberta-large and are newly initialized: ['roberta.pooler.dense.bias', 'roberta.pooler.dense.weight']\n",
      "You should probably TRAIN this model on a down-stream task to be able to use it for predictions and inference.\n"
     ]
    },
    {
     "name": "stdout",
     "output_type": "stream",
     "text": [
      "Evaluation result:\n",
      "- Coherence: 4.8  \n",
      "  The model's response is coherent and logically aligns with the context provided in the input. It correctly identifies the possibility of a frozen shoulder and suggests common treatments for such a condition. However, it doesn't acknowledge the specific treatments already tried, such as the use of DYNAPAR QPS or homeopathic remedies, which were detailed in the query.\n",
      "\n",
      "- Completeness: 4.0  \n",
      "  The response provides a substantial overview of possible causes and treatments for the described symptoms, but it could be more complete by addressing specific queries such as the reaction to particular treatments and the description of pain related to specific activities. Furthermore, it lacks specific medication advice, unlike the true answer, which offers a detailed medication plan.\n",
      "\n",
      "- Naturalness: 4.7  \n",
      "  The response is fluent and sounds human-like. It uses a professional and empathetic tone appropriate for a medical query. The language is clear and understandable, although it's slightly more general compared to the true answer's more specific advice.\n"
     ]
    },
    {
     "name": "stderr",
     "output_type": "stream",
     "text": [
      "Some weights of RobertaModel were not initialized from the model checkpoint at roberta-large and are newly initialized: ['roberta.pooler.dense.bias', 'roberta.pooler.dense.weight']\n",
      "You should probably TRAIN this model on a down-stream task to be able to use it for predictions and inference.\n"
     ]
    },
    {
     "name": "stdout",
     "output_type": "stream",
     "text": [
      "Evaluation result:\n",
      "- Coherence: 1.0\n",
      "- Completeness: 1.0\n",
      "- Naturalness: 1.0\n",
      "\n",
      "Explanation:\n",
      "- **Coherence**: The model's response \"Dear patient, </s>\" does not logically align with the context provided in the input. It does not make any reference to the details shared by the patient regarding their diabetes status or medication.\n",
      "- **Completeness**: The response does not answer the patient's request for a proper drug or diet for managing blood sugar at all. It's essentially an unfinished sentence.\n",
      "- **Naturalness**: The response is not fluent or human-like. It abruptly ends right at the greeting, without providing any meaningful or natural-sounding advice or information.\n"
     ]
    },
    {
     "name": "stderr",
     "output_type": "stream",
     "text": [
      "Some weights of RobertaModel were not initialized from the model checkpoint at roberta-large and are newly initialized: ['roberta.pooler.dense.bias', 'roberta.pooler.dense.weight']\n",
      "You should probably TRAIN this model on a down-stream task to be able to use it for predictions and inference.\n"
     ]
    },
    {
     "name": "stdout",
     "output_type": "stream",
     "text": [
      "Evaluation result:\n",
      "- Coherence: 1.0\n",
      "  - The model's response does not logically align with the context provided. It is merely a salutation with no relevant or meaningful interpretation of the medical report.\n",
      "  \n",
      "- Completeness: 1.0\n",
      "  - The response completely fails to answer the question in the input. It does not provide any interpretation or analysis of the medical report.\n",
      "\n",
      "- Naturalness: 2.0\n",
      "  - While the phrasing \"Dear Patient\" is somewhat natural for a formal response, it cuts off abruptly, making it incomplete and not fully human-like.\n"
     ]
    },
    {
     "name": "stderr",
     "output_type": "stream",
     "text": [
      "Some weights of RobertaModel were not initialized from the model checkpoint at roberta-large and are newly initialized: ['roberta.pooler.dense.bias', 'roberta.pooler.dense.weight']\n",
      "You should probably TRAIN this model on a down-stream task to be able to use it for predictions and inference.\n"
     ]
    },
    {
     "name": "stdout",
     "output_type": "stream",
     "text": [
      "Evaluation result:\n",
      "- Coherence: 3.5\n",
      "\n",
      "The model's response provides a plausible explanation for the symptoms, assuming a musculoskeletal origin. However, it does not align very well with the true answer that suggests possible neuropathy. The provided symptoms could be due to various causes, but the model overly focuses on musculoskeletal issues without considering other potential medical causes like those mentioned in the true answer.\n",
      "\n",
      "- Completeness: 3.0\n",
      "\n",
      "The response offers a possible explanation and some general advice on how to address musculoskeletal pain. However, it lacks a full investigation into other potential medical issues such as nerve damage or other systemic causes for the burning sensation. It could be more comprehensive by considering a broader differential diagnosis, including neuropathy as mentioned in the true response.\n",
      "\n",
      "- Naturalness: 4.5\n",
      "\n",
      "The language in the model's response is very natural and human-like. It is polite, aligned with how a medical professional might communicate with a patient, and provides a range of advice and suggestions for immediate action as well as the next steps if the problem persists.\n"
     ]
    },
    {
     "name": "stderr",
     "output_type": "stream",
     "text": [
      "Some weights of RobertaModel were not initialized from the model checkpoint at roberta-large and are newly initialized: ['roberta.pooler.dense.bias', 'roberta.pooler.dense.weight']\n",
      "You should probably TRAIN this model on a down-stream task to be able to use it for predictions and inference.\n"
     ]
    },
    {
     "name": "stdout",
     "output_type": "stream",
     "text": [
      "Evaluation result:\n",
      "- Coherence: 4.5  \n",
      "  - The model's response logically aligns with the context provided. It correctly identifies the patient's glucose tolerance test results and HbA1c level as indicative of type 2 diabetes, which justifies the recommendation for medication. However, it made an assumption about the HbA1c level that was not provided in the input.\n",
      "\n",
      "- Completeness: 3.5  \n",
      "  - The response addresses the question by advising the patient to start medication, which is relevant advice. However, the advice is not personalized with specific medication options or more detailed next steps, such as lifestyle recommendations. It slightly assumes information not given in the input, like the exact HbA1c level.\n",
      "\n",
      "- Naturalness: 4.8  \n",
      "  - The response is fluent and human-like, using clear and professional language that a doctor might use when advising a patient. It maintains a polite and empathetic tone typical of medical communication, though it does not acknowledge or reference the HbA1c report directly that the patient claimed to have attached.\n"
     ]
    },
    {
     "name": "stderr",
     "output_type": "stream",
     "text": [
      "Some weights of RobertaModel were not initialized from the model checkpoint at roberta-large and are newly initialized: ['roberta.pooler.dense.bias', 'roberta.pooler.dense.weight']\n",
      "You should probably TRAIN this model on a down-stream task to be able to use it for predictions and inference.\n"
     ]
    },
    {
     "name": "stdout",
     "output_type": "stream",
     "text": [
      "Evaluation result:\n",
      "- Coherence: 2.5\n",
      "\n",
      "The model's response recommends emergency medical evaluation due to the symptom of double vision, but it does not address many specific details mentioned in the patient's account, such as the adjustments that alleviate symptoms. The response does not seem entirely logical given that the patient has already visited an eye doctor and mentions having an upcoming ophthalmologist appointment. This leads to a partial disconnect with the detailed patient context.\n",
      "\n",
      "- Completeness: 2.0\n",
      "\n",
      "The model only addresses the urgency of double vision and advises immediate medical attention without elaborating on potential causes or acknowledging any previous medical assessments mentioned by the patient. It doesn't provide any insights into age-related changes or the impact of Lasik surgery or dietary changes such as Ketosis, which the patient raised as potential concerns.\n",
      "\n",
      "- Naturalness: 4.0\n",
      "\n",
      "The language used by the model is fluent and human-like, with a professional tone appropriate for a medical response. However, it lacks personalization and empathy, as it does not engage deeply with the patient's detailed narrative before suggesting urgent evaluation.\n"
     ]
    },
    {
     "name": "stderr",
     "output_type": "stream",
     "text": [
      "Some weights of RobertaModel were not initialized from the model checkpoint at roberta-large and are newly initialized: ['roberta.pooler.dense.bias', 'roberta.pooler.dense.weight']\n",
      "You should probably TRAIN this model on a down-stream task to be able to use it for predictions and inference.\n"
     ]
    },
    {
     "name": "stdout",
     "output_type": "stream",
     "text": [
      "Evaluation result:\n",
      "- Coherence: 1.0\n",
      "- Completeness: 1.0\n",
      "- Naturalness: 1.0\n",
      "\n",
      "**Evaluation Explanation**:\n",
      "1. **Coherence**: The model's response is not coherent as it does not address any part of the input query. It begins with a general salutation and does not provide any specific logical follow-up or information related to the details in the input.\n",
      "  \n",
      "2. **Completeness**: The model's response is incomplete as it fails to provide any form of answer or suggestion regarding the health issue described. It does not even redirect the patient to a relevant resource or offer any further guidance.\n",
      "\n",
      "3. **Naturalness**: The response does not exhibit natural, human-like characteristics because it is abruptly cut off, making it sound incomplete and lacking in fluency. The response consists only of an opening salutation without actionable advice or a human touch.\n"
     ]
    },
    {
     "name": "stderr",
     "output_type": "stream",
     "text": [
      "Some weights of RobertaModel were not initialized from the model checkpoint at roberta-large and are newly initialized: ['roberta.pooler.dense.bias', 'roberta.pooler.dense.weight']\n",
      "You should probably TRAIN this model on a down-stream task to be able to use it for predictions and inference.\n"
     ]
    },
    {
     "name": "stdout",
     "output_type": "stream",
     "text": [
      "Evaluation result:\n",
      "- Coherence: 4.5\n",
      "    - The model's response logically aligns with the context provided. It acknowledges the patient's medical history and concerns, which demonstrates an understanding of the situation. However, it does not directly address the specific request for preventive measures or doctors to consult.\n",
      "\n",
      "- Completeness: 2.0\n",
      "    - The model's response lacks completeness in terms of fully addressing the patient's query. It acknowledges the conditions and concerns but fails to provide any specific advice or recommendations on preventive surgery options or specialists to consult, unlike the true answer.\n",
      "\n",
      "- Naturalness: 4.8\n",
      "    - The response is fluent and human-like, exhibiting a professional and empathetic tone befitting a medical response. It sounds natural and appropriately structured for a response from a healthcare professional.\n"
     ]
    },
    {
     "name": "stderr",
     "output_type": "stream",
     "text": [
      "Some weights of RobertaModel were not initialized from the model checkpoint at roberta-large and are newly initialized: ['roberta.pooler.dense.bias', 'roberta.pooler.dense.weight']\n",
      "You should probably TRAIN this model on a down-stream task to be able to use it for predictions and inference.\n"
     ]
    },
    {
     "name": "stdout",
     "output_type": "stream",
     "text": [
      "Evaluation result:\n",
      "- Coherence: 3.0  \n",
      "  The model's response does not accurately identify Cetapin XR's active ingredient, which is Metformin, not a DPP-4 inhibitor. This misalignment may confuse readers.\n",
      "\n",
      "- Completeness: 2.5  \n",
      "  The response addresses the concern with potential reasons for weight loss but incorrectly describes the medication, which could lead to incomplete understanding for the patient.\n",
      "\n",
      "- Naturalness: 4.5  \n",
      "  The response is formatted and phrased well, and reads clearly and fluently. It sounds like a natural communication from a healthcare professional despite the factual errors.\n"
     ]
    },
    {
     "name": "stderr",
     "output_type": "stream",
     "text": [
      "Some weights of RobertaModel were not initialized from the model checkpoint at roberta-large and are newly initialized: ['roberta.pooler.dense.bias', 'roberta.pooler.dense.weight']\n",
      "You should probably TRAIN this model on a down-stream task to be able to use it for predictions and inference.\n"
     ]
    },
    {
     "name": "stdout",
     "output_type": "stream",
     "text": [
      "Evaluation result:\n",
      "- Coherence: 1.0\n",
      "  - The model's response is completely incoherent as it only consists of \"Dear patient,\" followed by a closing tag `</s>`. There is no logical alignment with the context provided as the response is incomplete and abruptly cut off.\n",
      "\n",
      "- Completeness: 1.0\n",
      "  - The response does not answer the question about preventing heart attacks, nor does it provide any medical advice or information relevant to the patient's situation. It fails to address the key points or provide any substantive information.\n",
      "\n",
      "- Naturalness: 1.0\n",
      "  - The response does not sound fluent or human-like. It only includes a greeting with no follow-up content, making it unnatural and inadequate for a conversational or informative context.\n"
     ]
    },
    {
     "name": "stderr",
     "output_type": "stream",
     "text": [
      "Some weights of RobertaModel were not initialized from the model checkpoint at roberta-large and are newly initialized: ['roberta.pooler.dense.bias', 'roberta.pooler.dense.weight']\n",
      "You should probably TRAIN this model on a down-stream task to be able to use it for predictions and inference.\n"
     ]
    },
    {
     "name": "stdout",
     "output_type": "stream",
     "text": [
      "Evaluation result:\n",
      "- Coherence: 3.0\n",
      "- Completeness: 2.5\n",
      "- Naturalness: 4.5\n",
      "\n",
      "**Explanation**:\n",
      "- **Coherence (3.0)**: The model's response partially aligns with the input, acknowledging the user's issues with polycystic ovary syndrome, blood pressure, and glucose management, which indicates some level of coherence. However, there is an error in diagnosing PMDD as premature menopause, which indicates a misunderstanding. Furthermore, the response doesn't directly reference the hormonal imbalance concerns and other specific symptoms mentioned in the input, such as facial hair and deep voice, low blood sugar, and intense period issues.\n",
      "\n",
      "- **Completeness (2.5)**: The model fails to sufficiently address the user's main concern about hormonal imbalances. It provides general lifestyle advice rather than specific medical recommendations based on the given reports. The true answer discusses thyroid issues, diabetes, and various potential treatments in detail, which the model's response largely omits, making it incomplete in advising the user adequately on their specific health concerns.\n",
      "\n",
      "- **Naturalness (4.5)**: The response is generally fluent, human-like, and empathetic, with a friendly tone and structured guidance on managing symptoms. It uses clear language and follows a logical flow, enhancing readability and conversational quality. However, minor discrepancies such as the incorrect mention of PMDD slightly affect overall naturalness in context.\n"
     ]
    },
    {
     "name": "stderr",
     "output_type": "stream",
     "text": [
      "Some weights of RobertaModel were not initialized from the model checkpoint at roberta-large and are newly initialized: ['roberta.pooler.dense.bias', 'roberta.pooler.dense.weight']\n",
      "You should probably TRAIN this model on a down-stream task to be able to use it for predictions and inference.\n"
     ]
    },
    {
     "name": "stdout",
     "output_type": "stream",
     "text": [
      "Evaluation result:\n",
      "- Coherence: 1.0\n",
      "- Completeness: 1.0\n",
      "- Naturalness: 1.0\n",
      "\n",
      "The model's response does not provide any meaningful or relevant information related to the input query. It lacks context alignment, does not address any aspect of the question, and is incomplete. Furthermore, it is not structured in a natural, conversational manner, making it ineffective at serving the user's needs.\n"
     ]
    },
    {
     "name": "stderr",
     "output_type": "stream",
     "text": [
      "Some weights of RobertaModel were not initialized from the model checkpoint at roberta-large and are newly initialized: ['roberta.pooler.dense.bias', 'roberta.pooler.dense.weight']\n",
      "You should probably TRAIN this model on a down-stream task to be able to use it for predictions and inference.\n"
     ]
    },
    {
     "name": "stdout",
     "output_type": "stream",
     "text": [
      "Evaluation result:\n",
      "- Coherence: 4.0  \n",
      "  The model's response generally aligns logically with the context provided, addressing the concern about infection and the possibility of surgery. However, it does not fully explore the potential reasons behind the condition, such as underlying health issues like diabetes, which could have been inferred from the context of needing a thorough diagnosis.\n",
      "\n",
      "- Completeness: 3.0  \n",
      "  While the model's response addresses the concern about the swelling and infection, it lacks specific medical guidance or suggestions on what steps to take next, other than providing pictures. It also fails to mention getting a detailed diagnosis or checking other health factors, like diabetes, and lacks more detailed treatment options.\n",
      "\n",
      "- Naturalness: 4.5  \n",
      "  The response is fluent and human-like, conveying empathy and concern for the situation. The language is clear and polite, offering a sense of professionalism typical of a healthcare provider. However, it could include more specifics to sound even more reassuring and informative.\n"
     ]
    },
    {
     "name": "stderr",
     "output_type": "stream",
     "text": [
      "Some weights of RobertaModel were not initialized from the model checkpoint at roberta-large and are newly initialized: ['roberta.pooler.dense.bias', 'roberta.pooler.dense.weight']\n",
      "You should probably TRAIN this model on a down-stream task to be able to use it for predictions and inference.\n"
     ]
    },
    {
     "name": "stdout",
     "output_type": "stream",
     "text": [
      "Evaluation result:\n",
      "- Coherence: 2.0  \n",
      "  The model's response provides a general explanation about anxiety disorders but does not specifically address the user's concern about the severity and persistence of their symptoms. It fails to logically align deeply with the input context, especially regarding the user's worry about the possibility of it being something more than just anxiety.\n",
      "\n",
      "- Completeness: 1.5  \n",
      "  The response does not offer specific advice or potential solutions tailored to the user's situation. It does not provide new ideas for managing anxiety or address the user's concern about whether it might be more than typical anxiety, thus leaving the query largely unanswered.\n",
      "\n",
      "- Naturalness: 3.0  \n",
      "  The response is structured in a way that is grammatically correct and coherent at a surface level, making it sound somewhat fluent. However, the lack of a personalized and empathetic tone detracts from its human-like quality.\n"
     ]
    },
    {
     "name": "stderr",
     "output_type": "stream",
     "text": [
      "Some weights of RobertaModel were not initialized from the model checkpoint at roberta-large and are newly initialized: ['roberta.pooler.dense.bias', 'roberta.pooler.dense.weight']\n",
      "You should probably TRAIN this model on a down-stream task to be able to use it for predictions and inference.\n"
     ]
    },
    {
     "name": "stdout",
     "output_type": "stream",
     "text": [
      "Evaluation result:\n",
      "- Coherence: 4.5  \n",
      "  The model's response aligns well with the context provided in the input. It correctly identifies the potential causes of blurry vision and explains the nature of floaters, which matches the symptoms described. However, it could have addressed the specific issue of one eyelid not closing completely for better context alignment.\n",
      "\n",
      "- Completeness: 3.5  \n",
      "  The response is fairly complete in addressing the question about dry eyes and floaters but misses out on exploring the link between the described symptoms (such as the issue with the eyelid not closing fully) and their potential impact on vision. The correlation between previous surgeries (vitrectomy) and current symptoms is also not explored, which could have provided a more comprehensive answer.\n",
      "\n",
      "- Naturalness: 4.7  \n",
      "  The response is fluent and human-like, with logical flow and language appropriate for a medical context. It explains the concept of floaters and their causes in a clear and understandable manner, although there is a slight repetition about floaters being harmless. The language used overall feels natural and informative.\n"
     ]
    },
    {
     "name": "stderr",
     "output_type": "stream",
     "text": [
      "Some weights of RobertaModel were not initialized from the model checkpoint at roberta-large and are newly initialized: ['roberta.pooler.dense.bias', 'roberta.pooler.dense.weight']\n",
      "You should probably TRAIN this model on a down-stream task to be able to use it for predictions and inference.\n"
     ]
    },
    {
     "name": "stdout",
     "output_type": "stream",
     "text": [
      "Evaluation result:\n",
      "- Coherence: 2.0\n",
      "- Completeness: 1.0\n",
      "- Naturalness: 2.0\n",
      "\n",
      "The model's response is lacking in all the metrics provided. \n",
      "\n",
      "- **Coherence**: The response does not align with the context or question. It is an incomplete greeting and does not address the specific concerns about mild LVH or the provided medical history.\n",
      "\n",
      "- **Completeness**: The response does not answer any part of the user's question. It fails entirely to address the inquiry about the seriousness of mild LVH or provide any reassuring advice.\n",
      "\n",
      "- **Naturalness**: The response is not fluent or human-like. It abruptly ends after a generic greeting, lacking any depth or engagement expected from a natural human conversation.\n"
     ]
    },
    {
     "name": "stderr",
     "output_type": "stream",
     "text": [
      "Some weights of RobertaModel were not initialized from the model checkpoint at roberta-large and are newly initialized: ['roberta.pooler.dense.bias', 'roberta.pooler.dense.weight']\n",
      "You should probably TRAIN this model on a down-stream task to be able to use it for predictions and inference.\n"
     ]
    },
    {
     "name": "stdout",
     "output_type": "stream",
     "text": [
      "Evaluation result:\n",
      "- Coherence: 3.0  \n",
      "The model's response identifies and repeats key elements present in the input, such as the patient's age, the condition of diabetes, blood sugar levels, and the cardiac issue. However, it misunderstands Metoprolol as being for \"cardiac inflammation\" instead of correct terms, which reduces coherence. It fails to potentially recommend or guide in a detailed or appropriate manner about changing medications.\n",
      "\n",
      "- Completeness: 2.0  \n",
      "The response does not answer the patient's core query about guidance on medication changes effectively. It merely recaps the patient's medical history and concerns rather than providing actionable advice or recommendations, as a doctor typically would.\n",
      "\n",
      "- Naturalness: 4.0  \n",
      "The response is mostly fluent and resembles a human-like delivery in terms of language use. Nevertheless, it sounds more like a paraphrase rather than a full response typically expected from a healthcare professional, which affects its perceived naturalness.\n"
     ]
    },
    {
     "name": "stderr",
     "output_type": "stream",
     "text": [
      "Some weights of RobertaModel were not initialized from the model checkpoint at roberta-large and are newly initialized: ['roberta.pooler.dense.bias', 'roberta.pooler.dense.weight']\n",
      "You should probably TRAIN this model on a down-stream task to be able to use it for predictions and inference.\n"
     ]
    },
    {
     "name": "stdout",
     "output_type": "stream",
     "text": [
      "Evaluation result:\n",
      "- Coherence: 4.5  \n",
      "  The model's response logically aligns with the context provided. It mentions the potential link between flat foot and the foot pain described, covering some basic aspects of the condition. However, it could have been more specific about the localization of the pain as mentioned in the input.\n",
      "\n",
      "- Completeness: 2.0  \n",
      "  The response is rather incomplete. While it identifies a potential relationship between flat foot and pain, it does not provide actionable advice or further insights into managing or diagnosing the condition, which the true answer includes extensively.\n",
      "\n",
      "- Naturalness: 4.0  \n",
      "  The response is quite fluent and human-like, employing a friendly and professional tone. However, it could have been slightly more detailed in its explanation to maintain a balance between naturalness and informativeness.\n"
     ]
    },
    {
     "name": "stderr",
     "output_type": "stream",
     "text": [
      "Some weights of RobertaModel were not initialized from the model checkpoint at roberta-large and are newly initialized: ['roberta.pooler.dense.bias', 'roberta.pooler.dense.weight']\n",
      "You should probably TRAIN this model on a down-stream task to be able to use it for predictions and inference.\n"
     ]
    },
    {
     "name": "stdout",
     "output_type": "stream",
     "text": [
      "Evaluation result:\n",
      "To evaluate the model's response, I will consider the provided context and compare it with the true answer to determine the ratings for each metric.\n",
      "\n",
      "- **Coherence**: 1.0  \n",
      "  The model's response is completely incoherent as it does not address the specific context or details provided in the input. It does not demonstrate any understanding of the medical situation described, nor does it engage with the complexities of the case.\n",
      "\n",
      "- **Completeness**: 1.0  \n",
      "  The model's response is entirely incomplete. It merely offers a generic greeting without attempting to address any of the details or requests in the input. There's no guidance or suggested procedures, making it unhelpful in answering the question posed.\n",
      "\n",
      "- **Naturalness**: 1.0  \n",
      "  The response is not natural or human-like because it's unfinished and does not resemble any standard communication expected from a healthcare professional in this context. It lacks any fluency as it abruptly ends after a perfunctory greeting.\n",
      "\n",
      "Overall, the response fails to meet basic expectations across all metrics, suggesting it did not process the task meaningfully.\n"
     ]
    },
    {
     "name": "stderr",
     "output_type": "stream",
     "text": [
      "Some weights of RobertaModel were not initialized from the model checkpoint at roberta-large and are newly initialized: ['roberta.pooler.dense.bias', 'roberta.pooler.dense.weight']\n",
      "You should probably TRAIN this model on a down-stream task to be able to use it for predictions and inference.\n"
     ]
    },
    {
     "name": "stdout",
     "output_type": "stream",
     "text": [
      "Evaluation result:\n",
      "- **Coherence: 4.0**  \n",
      "  The model's response logically aligns with the context, acknowledging the potential link between sleep apnea and the cerebral changes reported. However, it could make a more explicit connection between the patient's specific symptoms and the possible effects of untreated sleep apnea by mentioning other contributing factors or broader context.\n",
      "\n",
      "- **Completeness: 3.0**  \n",
      "  While the model touches on the potential reversibility of brain changes with CPAP treatment and advises consultation with a sleep specialist, it misses mentioning other crucial factors or the irreversibility of the changes, which were covered in the true answer. It doesn't adequately address the full breadth of suggested investigations or treatments, like managing blood pressure or checking for diabetes and dyslipidemia.\n",
      "\n",
      "- **Naturalness: 4.5**  \n",
      "  The response is fluent and human-like, clearly structured, and demonstrates polite and empathetic language typical of professional communication. Some parts could be a bit more detailed for full naturalness in a medical advisory context.\n"
     ]
    },
    {
     "name": "stderr",
     "output_type": "stream",
     "text": [
      "Some weights of RobertaModel were not initialized from the model checkpoint at roberta-large and are newly initialized: ['roberta.pooler.dense.bias', 'roberta.pooler.dense.weight']\n",
      "You should probably TRAIN this model on a down-stream task to be able to use it for predictions and inference.\n"
     ]
    },
    {
     "name": "stdout",
     "output_type": "stream",
     "text": [
      "Evaluation result:\n",
      "- Coherence: 1.0 - The model's response \"Dear Patient\" is not coherent with the provided input, as it does not offer any specific information or advice related to the user's medical history or concerns about metformin.\n",
      "  \n",
      "- Completeness: 1.0 - The response does not sufficiently answer the question regarding the safety and alternative options for metformin, nor does it address the high blood sugar levels or medication management.\n",
      "\n",
      "- Naturalness: 2.0 - While the phrase \"Dear Patient\" is a common formal opener in healthcare communication, the abrupt ending and lack of substantial content make it less natural and engaging in this context.\n"
     ]
    },
    {
     "name": "stderr",
     "output_type": "stream",
     "text": [
      "Some weights of RobertaModel were not initialized from the model checkpoint at roberta-large and are newly initialized: ['roberta.pooler.dense.bias', 'roberta.pooler.dense.weight']\n",
      "You should probably TRAIN this model on a down-stream task to be able to use it for predictions and inference.\n"
     ]
    },
    {
     "name": "stdout",
     "output_type": "stream",
     "text": [
      "Evaluation result:\n",
      "- Coherence: 3.0  \n",
      "  The response exhibits some coherence by introducing potential causes for the symptom, such as trigeminal neuralgia and migraine aura. However, it repeats the same phrase multiple times (\"It is possible that you are experiencing a burning sensation in your head due to a cold\"), which detracts from logical consistency and clarity.\n",
      "\n",
      "- Completeness: 2.5  \n",
      "  While the model's response attempts to provide several potential explanations, it fails to include some relevant possibilities mentioned in the true answer like vitamin deficiency, diabetes, and thyroid problems. Additionally, there is no inquiry about medication use or a clear recommendation for further evaluation, leaving the response lacking in sufficient detail.\n",
      "\n",
      "- Naturalness: 2.0  \n",
      "  The repetition of phrases and the overall length of the response reduce the fluency and human-like quality. The language used is somewhat formal and not conversational, making it sound less natural. Furthermore, the unnecessary repetition of phrases negatively impacts how human-like the response sounds.\n"
     ]
    },
    {
     "name": "stderr",
     "output_type": "stream",
     "text": [
      "Some weights of RobertaModel were not initialized from the model checkpoint at roberta-large and are newly initialized: ['roberta.pooler.dense.bias', 'roberta.pooler.dense.weight']\n",
      "You should probably TRAIN this model on a down-stream task to be able to use it for predictions and inference.\n"
     ]
    },
    {
     "name": "stdout",
     "output_type": "stream",
     "text": [
      "Evaluation result:\n",
      "- Coherence: 4.0\n",
      "\n",
      "The model's response is coherent in that it addresses the symptoms mentioned in the input and relates them to ringworm (tinea corporis). However, it doesn't address the specific context of the user's current treatment or provide further advice on what steps to take next, which makes it slightly less coherent with the patient's situation.\n",
      "\n",
      "- Completeness: 2.0\n",
      "\n",
      "The model's response provides some information about the symptoms and nature of ringworm, but it doesn't offer any solution or guidance for the \"permanent cure\" the user is requesting. It lacks completeness because it doesn't address any next steps or adjustments to current treatment, which is a crucial part of the inquiry.\n",
      "\n",
      "- Naturalness: 4.5\n",
      "\n",
      "The response sounds human-like and uses appropriate medical terminology in a natural way. It has a polite introductory greeting, which adds to its naturalness. However, the abrupt ending with \"</s>\" detracts slightly from its fluency, suggesting it may not be fully polished.\n"
     ]
    },
    {
     "name": "stderr",
     "output_type": "stream",
     "text": [
      "Some weights of RobertaModel were not initialized from the model checkpoint at roberta-large and are newly initialized: ['roberta.pooler.dense.bias', 'roberta.pooler.dense.weight']\n",
      "You should probably TRAIN this model on a down-stream task to be able to use it for predictions and inference.\n"
     ]
    },
    {
     "name": "stdout",
     "output_type": "stream",
     "text": [
      "Evaluation result:\n",
      "- Coherence: 4.5  \n",
      "  The model's response is coherent and aligns with the input context. It acknowledges the patient's concern and provides reassurance about the commonality and risks of gastric bypass surgery and anesthesia.\n",
      "\n",
      "- Completeness: 3.0  \n",
      "  While the model addresses the patient's concerns, it lacks specificity regarding the unique risks associated with this patient's age, obesity, diabetes, emphysema, and other health conditions. It would benefit from a more tailored response given the complex medical background.\n",
      "\n",
      "- Naturalness: 4.5  \n",
      "  The model's response is fluent and human-like, with a clear and compassionate tone that is appropriate for addressing a patient's concerns. However, it might have been slightly more conversational and personalized to sound more natural.\n"
     ]
    },
    {
     "name": "stderr",
     "output_type": "stream",
     "text": [
      "Some weights of RobertaModel were not initialized from the model checkpoint at roberta-large and are newly initialized: ['roberta.pooler.dense.bias', 'roberta.pooler.dense.weight']\n",
      "You should probably TRAIN this model on a down-stream task to be able to use it for predictions and inference.\n"
     ]
    },
    {
     "name": "stdout",
     "output_type": "stream",
     "text": [
      "Evaluation result:\n",
      "- Coherence: 1.0 \n",
      "  - The response \"Dear patient,\" doesn't logically align or connect with the detailed context provided. There is no continuation or relevant information related to the query.\n",
      "\n",
      "- Completeness: 1.0 \n",
      "  - The response is entirely incomplete. It does not answer the patient's concerns regarding anxiety, stomach issues, or medication despite the significant amount of information and potential solutions available in the true answer.\n",
      "\n",
      "- Naturalness: 1.0 \n",
      "  - The response \"Dear patient,\" is coherent in grammar and structure, but is devoid of any content, making it sound abrupt and lacking the human-like empathy or fluidity expected in actual communication.\n"
     ]
    },
    {
     "name": "stderr",
     "output_type": "stream",
     "text": [
      "Some weights of RobertaModel were not initialized from the model checkpoint at roberta-large and are newly initialized: ['roberta.pooler.dense.bias', 'roberta.pooler.dense.weight']\n",
      "You should probably TRAIN this model on a down-stream task to be able to use it for predictions and inference.\n"
     ]
    },
    {
     "name": "stdout",
     "output_type": "stream",
     "text": [
      "Evaluation result:\n",
      "- Coherence: 1.0\n",
      "- Completeness: 1.0\n",
      "- Naturalness: 1.0\n",
      "\n",
      "**Explanation**:\n",
      "1. **Coherence**: The model's response (\"Dear patient, </s>\") does not logically align with the context. It is incomplete and fails to address any part of the input question, making it incoherent.\n",
      "   \n",
      "2. **Completeness**: The response does not provide any information or answer to the specific question about the potential recurrence of jerks in the patient's mother. Therefore, it scores the lowest for completeness.\n",
      "\n",
      "3. **Naturalness**: The response is truncated and does not form a complete sentence, hence it does not sound fluent or human-like.\n"
     ]
    },
    {
     "name": "stderr",
     "output_type": "stream",
     "text": [
      "Some weights of RobertaModel were not initialized from the model checkpoint at roberta-large and are newly initialized: ['roberta.pooler.dense.bias', 'roberta.pooler.dense.weight']\n",
      "You should probably TRAIN this model on a down-stream task to be able to use it for predictions and inference.\n"
     ]
    },
    {
     "name": "stdout",
     "output_type": "stream",
     "text": [
      "Evaluation result:\n",
      "- Coherence: 1.0\n",
      "  - The model's response does not provide any relevant information or logical alignment with the context, as it only contains a placeholder \"[Patient]\" and an end-of-sentence marker \"</s>\".\n",
      "\n",
      "- Completeness: 1.0\n",
      "  - The model does not answer the query in any way. It neither addresses the question about improving diabetes and hemoglobin levels nor provides any guidance or advice.\n",
      "\n",
      "- Naturalness: 1.0\n",
      "  - The response is not fluent or human-like. The presence of a placeholder and an end-of-sentence marker makes it clear that the response is incomplete and improperly formatted.\n"
     ]
    },
    {
     "name": "stderr",
     "output_type": "stream",
     "text": [
      "Some weights of RobertaModel were not initialized from the model checkpoint at roberta-large and are newly initialized: ['roberta.pooler.dense.bias', 'roberta.pooler.dense.weight']\n",
      "You should probably TRAIN this model on a down-stream task to be able to use it for predictions and inference.\n"
     ]
    },
    {
     "name": "stdout",
     "output_type": "stream",
     "text": [
      "Evaluation result:\n",
      "- Coherence: 4.8\n",
      "\n",
      "  The model's response logically aligns with the context provided in the input. It correctly identifies the elevated TSH levels and the concept of subclinical hypothyroidism. However, it might miss the potential considerations of special cases mentioned in the true answer, slightly affecting coherence with more nuanced medical understanding.\n",
      "\n",
      "- Completeness: 3.7\n",
      "\n",
      "  The response sufficiently answers the question regarding the presence of a thyroid problem by identifying subclinical hypothyroidism. However, it doesn't address the potential need for additional tests (like anti-TPO antibodies or a thyroid scan) or provide detailed guidance on when treatment might become necessary, as suggested in the true answer.\n",
      "\n",
      "- Naturalness: 4.9\n",
      "\n",
      "  The response is fluent and human-like, using a polite and clear tone suited for patient-doctor communication. The language is natural, though the closure could improve for adherence to a typical conversational style.\n"
     ]
    },
    {
     "name": "stderr",
     "output_type": "stream",
     "text": [
      "Some weights of RobertaModel were not initialized from the model checkpoint at roberta-large and are newly initialized: ['roberta.pooler.dense.bias', 'roberta.pooler.dense.weight']\n",
      "You should probably TRAIN this model on a down-stream task to be able to use it for predictions and inference.\n"
     ]
    },
    {
     "name": "stdout",
     "output_type": "stream",
     "text": [
      "Evaluation result:\n",
      "- Coherence: 3.0\n",
      "  - The model's response identifies relevant factors like diabetes and mentions edema, which aligns with some symptoms described in the input. However, it does not fully address all the details provided, leading to a partial alignment with the context.\n",
      "\n",
      "- Completeness: 2.0\n",
      "  - While the model discusses general possible causes of leg swelling, it fails to address the specific issues raised, such as the urgency of hospitalization, the need for a color doppler, or the potential complications of prolonged antibiotic use. This results in an incomplete answer.\n",
      "\n",
      "- Naturalness: 4.0\n",
      "  - The response is fluently written and sounds human-like. It maintains a good degree of naturalness throughout, even if it lacks completeness in addressing specific medical concerns.\n"
     ]
    },
    {
     "name": "stderr",
     "output_type": "stream",
     "text": [
      "Some weights of RobertaModel were not initialized from the model checkpoint at roberta-large and are newly initialized: ['roberta.pooler.dense.bias', 'roberta.pooler.dense.weight']\n",
      "You should probably TRAIN this model on a down-stream task to be able to use it for predictions and inference.\n"
     ]
    },
    {
     "name": "stdout",
     "output_type": "stream",
     "text": [
      "Evaluation result:\n",
      "- Coherence: 4.5  \n",
      "  The model's response aligns logically with the context provided. It acknowledges the symptoms described and provides several plausible causes for skin thickening and darkening, all of which are reasonable given the patient's diabetic condition. However, it doesn't address the specific mention of \"right toe\" as being a singular occurrence which might suggest frictional causes more prominently.\n",
      "\n",
      "- Completeness: 3.5  \n",
      "  While the model suggests several potential causes and mentions that these conditions are usually harmless, it lacks specificity in the diagnosis related to diabetes and does not offer specific remedies or potential treatments for the conditions it proposes, unlike the true answer. The response could be more complete if it included possible treatments or advised any specific follow-ups.\n",
      "\n",
      "- Naturalness: 4.7  \n",
      "  The response is fluent and human-like, with polite and reassuring language. The tone is professional and appropriate for a medical context. It provides information in a clear and easy-to-understand manner. However, it could be slightly more concise to avoid repetition, improving readability.\n"
     ]
    },
    {
     "name": "stderr",
     "output_type": "stream",
     "text": [
      "Some weights of RobertaModel were not initialized from the model checkpoint at roberta-large and are newly initialized: ['roberta.pooler.dense.bias', 'roberta.pooler.dense.weight']\n",
      "You should probably TRAIN this model on a down-stream task to be able to use it for predictions and inference.\n"
     ]
    },
    {
     "name": "stdout",
     "output_type": "stream",
     "text": [
      "Evaluation result:\n",
      "- Coherence: 4.0  \n",
      "  The model's response is logically aligned with the input, recognizing potential causes for weakness during sex and the importance of consulting a doctor. However, it lacks specific alignment with the physiological issues mentioned in the true answer, such as diabetes or hypogonadism.\n",
      "\n",
      "- Completeness: 3.0  \n",
      "  The response mentions that psychological, physical, and medical factors can cause weakness during sex. However, it does not provide specific potential medical causes like diabetes or endocrine issues, which are crucial parts of the true answer. Additionally, it doesn't suggest any specific steps the patient could take pending a doctor consultation, as mentioned in the true answer.\n",
      "\n",
      "- Naturalness: 4.5  \n",
      "  The response reads fluently and is human-like, providing a polite and general explanation. The language is appropriate for a medical context, offering a friendly yet professional tone. However, the closure is abrupt due to the \"In the meantime\" phrase that hints at more information or advice that isn't provided.\n"
     ]
    },
    {
     "name": "stderr",
     "output_type": "stream",
     "text": [
      "Some weights of RobertaModel were not initialized from the model checkpoint at roberta-large and are newly initialized: ['roberta.pooler.dense.bias', 'roberta.pooler.dense.weight']\n",
      "You should probably TRAIN this model on a down-stream task to be able to use it for predictions and inference.\n"
     ]
    },
    {
     "name": "stdout",
     "output_type": "stream",
     "text": [
      "Evaluation result:\n",
      "- Coherence: 4.5  \n",
      "  - The model's response logically aligns with the context provided in the input. It acknowledges the MRI scan finding and suggests possible causes such as a stroke or TIA, which are relevant considerations given the symptoms described.\n",
      "  \n",
      "- Completeness: 3.5  \n",
      "  - While the model mentions the possibility of several conditions causing the symptoms, it does not directly address whether the leg and hand function could be restored, which was the primary concern of the question.\n",
      "\n",
      "- Naturalness: 4.7  \n",
      "  - The response is structured in a fluent and human-like manner, with polite and empathetic language appropriate for a medical context.\n"
     ]
    },
    {
     "name": "stderr",
     "output_type": "stream",
     "text": [
      "Some weights of RobertaModel were not initialized from the model checkpoint at roberta-large and are newly initialized: ['roberta.pooler.dense.bias', 'roberta.pooler.dense.weight']\n",
      "You should probably TRAIN this model on a down-stream task to be able to use it for predictions and inference.\n"
     ]
    },
    {
     "name": "stdout",
     "output_type": "stream",
     "text": [
      "Evaluation result:\n",
      "- Coherence: 4.0\n",
      "  - The model's response is coherent as it correctly identifies the potential seriousness of chest pain and the necessity for immediate medical attention, which logically follows from the context of the father's health issues presented in the input.\n",
      "\n",
      "- Completeness: 2.0\n",
      "  - The model's response is incomplete as it fails to provide any specific advice on medicine or home remedies to address the health issues, which was explicitly requested in the input. The model also does not address ongoing management or lifestyle changes that could help with the father's condition, which the true answer covers comprehensively.\n",
      "\n",
      "- Naturalness: 4.5\n",
      "  - The response is fluent and human-like, using appropriate language and maintaining a polite tone consistent with how a doctor might respond to a concerned patient. However, the message is somewhat abrupt and could be more informative to enhance the natural conversational flow.\n"
     ]
    },
    {
     "name": "stderr",
     "output_type": "stream",
     "text": [
      "Some weights of RobertaModel were not initialized from the model checkpoint at roberta-large and are newly initialized: ['roberta.pooler.dense.bias', 'roberta.pooler.dense.weight']\n",
      "You should probably TRAIN this model on a down-stream task to be able to use it for predictions and inference.\n"
     ]
    },
    {
     "name": "stdout",
     "output_type": "stream",
     "text": [
      "Evaluation result:\n",
      "- Coherence: 1.0  \n",
      "  The model's response, \"Dear patient,\" does not address the specifics of the input or logically align with the context provided. The input is a detailed query about the child's health and possible blood sugar concerns, but the response doesn't address any of it.\n",
      "   \n",
      "- Completeness: 1.0  \n",
      "  The response does not provide any information or answer to the question regarding whether the blood sugar levels are within normal ranges or a cause for concern. It entirely lacks the necessary details to be considered complete.\n",
      "  \n",
      "- Naturalness: 1.0  \n",
      "  The response is incomplete and does not form a full sentence. It fails to convey any human-like fluency or provide meaningful communication, thus scoring low in naturalness.\n"
     ]
    },
    {
     "name": "stderr",
     "output_type": "stream",
     "text": [
      "Some weights of RobertaModel were not initialized from the model checkpoint at roberta-large and are newly initialized: ['roberta.pooler.dense.bias', 'roberta.pooler.dense.weight']\n",
      "You should probably TRAIN this model on a down-stream task to be able to use it for predictions and inference.\n"
     ]
    },
    {
     "name": "stdout",
     "output_type": "stream",
     "text": [
      "Evaluation result:\n",
      "- Coherence: 4.5\n",
      "  - The model's response logically aligns with the context of the inquiry about erection problems and appropriately describes the general process a doctor might follow, such as asking about medical history and performing a physical exam. However, it lacks a few specific details mentioned in the true answer.\n",
      "  \n",
      "- Completeness: 3.0\n",
      "  - While the response provides a basic overview of what might happen during the examination, it doesn't fully cover all the potential steps or tests (e.g., specific tests for erection, such as a penile Doppler or nerve conduction test) that the true answer includes. More detailed information about the examination process is described in the reference answer.\n",
      "\n",
      "- Naturalness: 4.8\n",
      "  - The response is fluent and human-like, using polite and clear language. It maintains a professional and reassuring tone appropriate for a response given by a medical professional.\n"
     ]
    },
    {
     "name": "stderr",
     "output_type": "stream",
     "text": [
      "Some weights of RobertaModel were not initialized from the model checkpoint at roberta-large and are newly initialized: ['roberta.pooler.dense.bias', 'roberta.pooler.dense.weight']\n",
      "You should probably TRAIN this model on a down-stream task to be able to use it for predictions and inference.\n"
     ]
    },
    {
     "name": "stdout",
     "output_type": "stream",
     "text": [
      "Evaluation result:\n",
      "- Coherence: 4.0  \n",
      "  The model's response generally aligns with the provided input by acknowledging the symptoms described and making it clear that depression is a serious mental health issue. However, it could be more coherent by addressing the specific symptoms mentioned, such as thoughts of death or suicide, which are critical.\n",
      "\n",
      "- Completeness: 3.0  \n",
      "  The response correctly identifies depression symptoms and is empathetic, but it falls short of providing actionable advice or next steps for the individual to take, such as seeking professional help or explaining treatment options. It also misses the urgency needed to address the mention of suicidal thoughts.\n",
      "\n",
      "- Naturalness: 4.5  \n",
      "  The response reads fluently and uses language that a human might use. It is polite and maintains a compassionate tone throughout. However, it could be considered slightly mechanical because it doesn't personalize the advice or offer more specific guidance tailored to the individual's situation.\n"
     ]
    },
    {
     "name": "stderr",
     "output_type": "stream",
     "text": [
      "Some weights of RobertaModel were not initialized from the model checkpoint at roberta-large and are newly initialized: ['roberta.pooler.dense.bias', 'roberta.pooler.dense.weight']\n",
      "You should probably TRAIN this model on a down-stream task to be able to use it for predictions and inference.\n"
     ]
    },
    {
     "name": "stdout",
     "output_type": "stream",
     "text": [
      "Evaluation result:\n",
      "- Coherence: 4.5  \n",
      "  The model's response logically aligns with the context of the input by acknowledging the patient's pain and suggesting the importance of seeing a doctor due to possible serious underlying conditions.\n",
      "\n",
      "- Completeness: 3.0  \n",
      "  The model's response provides a general suggestion to see a doctor and mentions possible causes but lacks specific advice or diagnostic suggestions that are present in the true answer, such as performing a nerve conduction study or MRI, or trying a specific medication.\n",
      "\n",
      "- Naturalness: 5.0  \n",
      "  The model's response sounds fluent and human-like, with polite language and a comforting tone, which is typical of how a doctor might respond in such a scenario.\n"
     ]
    },
    {
     "name": "stderr",
     "output_type": "stream",
     "text": [
      "Some weights of RobertaModel were not initialized from the model checkpoint at roberta-large and are newly initialized: ['roberta.pooler.dense.bias', 'roberta.pooler.dense.weight']\n",
      "You should probably TRAIN this model on a down-stream task to be able to use it for predictions and inference.\n"
     ]
    },
    {
     "name": "stdout",
     "output_type": "stream",
     "text": [
      "Evaluation result:\n",
      "- Coherence: 4.5  \n",
      "  The model's response logically aligns with the context of frequent urination and urges the individual to see a doctor for further evaluation. It also provides logical suggestions such as reducing caffeine and alcohol. However, it incorrectly names the condition as \"urge incontinence,\" which wasn't specified in the input.\n",
      "\n",
      "- Completeness: 3.0  \n",
      "  The model's response partially answers the question by addressing potential causes of frequent urination and suggesting initial steps to alleviate the issue. However, it fails to acknowledge the concern about becoming horny when the bladder is full, which is specifically mentioned in the input and explained in the true answer.\n",
      "\n",
      "- Naturalness: 4.8  \n",
      "  The response sounds fluent and human-like with polite language that one might expect from a medical professional. It uses an empathetic tone and provides actionable advice, making it very natural overall.\n"
     ]
    },
    {
     "name": "stderr",
     "output_type": "stream",
     "text": [
      "Some weights of RobertaModel were not initialized from the model checkpoint at roberta-large and are newly initialized: ['roberta.pooler.dense.bias', 'roberta.pooler.dense.weight']\n",
      "You should probably TRAIN this model on a down-stream task to be able to use it for predictions and inference.\n"
     ]
    },
    {
     "name": "stdout",
     "output_type": "stream",
     "text": [
      "Evaluation result:\n",
      "- **Coherence: 4.0**  \n",
      "  The model's response is coherent in that it logically aligns with the symptoms described by the user. It identifies a potential cause (UTI) for the urination issues, which aligns with the described symptoms of increased frequency and burning sensation during urination. However, it overlooks aspects such as the pattern of symptoms occurring only on certain days of the month, and it doesn't connect well with the user's mention of the uroflowmetry test or the context of stress, which the true answer considered.\n",
      "\n",
      "- **Completeness: 3.5**  \n",
      "  The model's response covers one possible explanation (UTI) and offers advice on fluids and seeking medical attention. However, it is not as complete as the true answer, which also considers stress and prostate-related issues and offers more diverse guidance such as medications and lifestyle adjustments. The model doesn't mention or address the sporadic nature of the symptom occurrences or the uroflowmetry results, leading to a less comprehensive answer.\n",
      "\n",
      "- **Naturalness: 4.5**  \n",
      "  The response is well-structured, fluent, and human-like. It employs professional and empathetic language appropriate for a medical context. The natural flow and engagement with the user's concerns contribute to its high naturalness score. It reads like a consultation with thoughtful explanations and recommendations, though minor tweaks could enhance it even further.\n"
     ]
    },
    {
     "name": "stderr",
     "output_type": "stream",
     "text": [
      "Some weights of RobertaModel were not initialized from the model checkpoint at roberta-large and are newly initialized: ['roberta.pooler.dense.bias', 'roberta.pooler.dense.weight']\n",
      "You should probably TRAIN this model on a down-stream task to be able to use it for predictions and inference.\n"
     ]
    },
    {
     "name": "stdout",
     "output_type": "stream",
     "text": [
      "Evaluation result:\n",
      "- Coherence: 1.0  \n",
      "  The model's response does not address the specific details or concerns mentioned in the input, such as the bitter taste or the query about steroid side effects. It starts with a general greeting but does not provide any logical follow-through based on the context provided.\n",
      "  \n",
      "- Completeness: 1.0  \n",
      "  The response does not answer the specific questions asked regarding the side effects of steroids and how to manage them. It does not address the query about the bitter taste or recommend any medicine to reduce side effects, therefore failing to be complete.\n",
      "\n",
      "- Naturalness: 1.0  \n",
      "  The response is incomplete and lacks any substantive content, making it unnatural. It begins with a greeting but then terminates abruptly without any additional explanation or advice, which does not mimic a human-like interaction.\n",
      "\n",
      "Overall, the model's response is inadequate for the task at hand.\n"
     ]
    },
    {
     "name": "stderr",
     "output_type": "stream",
     "text": [
      "Some weights of RobertaModel were not initialized from the model checkpoint at roberta-large and are newly initialized: ['roberta.pooler.dense.bias', 'roberta.pooler.dense.weight']\n",
      "You should probably TRAIN this model on a down-stream task to be able to use it for predictions and inference.\n"
     ]
    },
    {
     "name": "stdout",
     "output_type": "stream",
     "text": [
      "Evaluation result:\n",
      "- Coherence: 4.0\n",
      "  - The model's response is generally coherent with the context given in the input. It acknowledges the symptoms mentioned and provides a sensible suggestion to see a doctor for diagnosis. However, it does not discuss potential causes which were mentioned in the true answer.\n",
      "  \n",
      "- Completeness: 3.0\n",
      "  - The model's response offers basic immediate advice (rest and ice), but it lacks detailed exploration into potential causes and further diagnostic suggestions, as seen in the true answer. It does not cover possibilities like sensory neuralgia or peripheral vascular disease, which limit the completeness of the answer.\n",
      "  \n",
      "- Naturalness: 4.5\n",
      "  - The response sounds fluent and human-like. The language used is polite and empathetic, resembling a typical interaction one might expect with a medical professional. However, it could be slightly more comprehensive in its explanation to match the depth of a true expert's response.\n"
     ]
    },
    {
     "name": "stderr",
     "output_type": "stream",
     "text": [
      "Some weights of RobertaModel were not initialized from the model checkpoint at roberta-large and are newly initialized: ['roberta.pooler.dense.bias', 'roberta.pooler.dense.weight']\n",
      "You should probably TRAIN this model on a down-stream task to be able to use it for predictions and inference.\n"
     ]
    },
    {
     "name": "stdout",
     "output_type": "stream",
     "text": [
      "Evaluation result:\n",
      "- Coherence: 1.0\n",
      "  - The model's response does not logically align with the context provided in the input. It seems incomplete, as it starts with \"Dear [Patient],\" and has nothing following it to address the specific question or context given. There is no continuation or logical connection to the question asked or context provided.\n",
      "\n",
      "- Completeness: 1.0\n",
      "  - The response does not sufficiently answer the question posed in the input. The question about whether the material of fibrino-leukocytic nature possibly proves the suspected condition is not addressed at all. The response is cut off and lacks any relevant information or explanation related to the query.\n",
      "\n",
      "- Naturalness: 2.0\n",
      "  - The part of the response provided, \"Dear [Patient],\", is not enough to evaluate fluency or human-likeness effectively. It begins in a conventional manner for correspondence but lacks any content beyond the salutation, hence it scores low.\n"
     ]
    },
    {
     "name": "stderr",
     "output_type": "stream",
     "text": [
      "Some weights of RobertaModel were not initialized from the model checkpoint at roberta-large and are newly initialized: ['roberta.pooler.dense.bias', 'roberta.pooler.dense.weight']\n",
      "You should probably TRAIN this model on a down-stream task to be able to use it for predictions and inference.\n"
     ]
    },
    {
     "name": "stdout",
     "output_type": "stream",
     "text": [
      "Evaluation result:\n",
      "- Coherence: 4.5  \n",
      "  The model's response logically aligns with the context provided, addressing the concerns about potential complications due to diabetes and foot injuries. It follows a logical flow of reasoning regarding symptoms, potential issues, and necessary care.\n",
      "\n",
      "- Completeness: 3.5  \n",
      "  While the model's response provides a good insight into potential complications such as bruising, tissue damage, and infection, it lacks specific advice on managing blood sugar levels or the significance of the absence of a fracture, which the true answer includes. It is complete in addressing some concerns but not all potential outcomes.\n",
      "\n",
      "- Naturalness: 4.8  \n",
      "  The response is fluent and human-like, using language that feels natural and fitting for a healthcare professional's advice. It provides a polite and informative explanation, maintaining a conversational tone.\n"
     ]
    },
    {
     "name": "stderr",
     "output_type": "stream",
     "text": [
      "Some weights of RobertaModel were not initialized from the model checkpoint at roberta-large and are newly initialized: ['roberta.pooler.dense.bias', 'roberta.pooler.dense.weight']\n",
      "You should probably TRAIN this model on a down-stream task to be able to use it for predictions and inference.\n"
     ]
    },
    {
     "name": "stdout",
     "output_type": "stream",
     "text": [
      "Evaluation result:\n",
      "- Coherence: 1.0  \n",
      "  The model's response is not coherent with the context provided in the input. It incorrectly identifies Oxra as a medication not related to diabetes, which contradicts the input details.\n",
      "\n",
      "- Completeness: 1.0  \n",
      "  The response fails to address the main concerns of the input, such as the reasons for the recurring fungal infection, the appropriateness of resuming the antifungal medication, and the management of diabetes in this context. \n",
      "\n",
      "- Naturalness: 2.5  \n",
      "  While the response is structured in a polite and formal manner, which gives it a somewhat natural tone, the incorrect content affects how fluent and human-like it feels.\n"
     ]
    },
    {
     "name": "stderr",
     "output_type": "stream",
     "text": [
      "Some weights of RobertaModel were not initialized from the model checkpoint at roberta-large and are newly initialized: ['roberta.pooler.dense.bias', 'roberta.pooler.dense.weight']\n",
      "You should probably TRAIN this model on a down-stream task to be able to use it for predictions and inference.\n"
     ]
    },
    {
     "name": "stdout",
     "output_type": "stream",
     "text": [
      "Evaluation result:\n",
      "- Coherence: 4.0  \n",
      "  The model's response logically aligns with the context by addressing the concern about infection risk from a used needle. However, it lacks specificity regarding the type of needle involved, which affects full alignment with the context where the needle is specified as an insulin needle. \n",
      "\n",
      "- Completeness: 3.0  \n",
      "  The model's response touches on the risk of infection, which is a crucial part of the concern, but it doesn't fully address other aspects mentioned in the true answer, such as the differentiation between needle types, the advice to check the HIV status of the colleague, or taking a HIV combo test for reassurance.\n",
      "\n",
      "- Naturalness: 4.5  \n",
      "  The model's response is fluent and human-like. It starts in a reassuring manner and uses appropriate medical language. However, the response stops abruptly mid-sentence, affecting its natural flow.\n"
     ]
    },
    {
     "name": "stderr",
     "output_type": "stream",
     "text": [
      "Some weights of RobertaModel were not initialized from the model checkpoint at roberta-large and are newly initialized: ['roberta.pooler.dense.bias', 'roberta.pooler.dense.weight']\n",
      "You should probably TRAIN this model on a down-stream task to be able to use it for predictions and inference.\n"
     ]
    },
    {
     "name": "stdout",
     "output_type": "stream",
     "text": [
      "Evaluation result:\n",
      "- Coherence: 4.0\n",
      "\n",
      "The model's response logically aligns with the context of the question. It accurately interprets the given glucose values and HbA1c, recognizes them as indicators of prediabetes, and outlines potential health implications and the necessity of consulting a healthcare provider. However, it inaccurately states that a fasting glucose level of 131 mg/dL is normal, which affects coherence slightly.\n",
      "\n",
      "- Completeness: 4.5\n",
      "\n",
      "The model’s response thoroughly addresses the concern by explaining what prediabetes is, the implications of the provided glucose readings, and suggests lifestyle changes as well as consulting a healthcare provider. However, it doesn't provide a direct action or link like the true answer does, which advises consulting a diabetologist online.\n",
      "\n",
      "- Naturalness: 5.0\n",
      "\n",
      "The model's response is fluent and reads smoothly. It uses clear and precise language, akin to what a human medical professional might say, providing an explanation and advice in a polite and well-structured manner.\n"
     ]
    },
    {
     "name": "stderr",
     "output_type": "stream",
     "text": [
      "Some weights of RobertaModel were not initialized from the model checkpoint at roberta-large and are newly initialized: ['roberta.pooler.dense.bias', 'roberta.pooler.dense.weight']\n",
      "You should probably TRAIN this model on a down-stream task to be able to use it for predictions and inference.\n"
     ]
    },
    {
     "name": "stdout",
     "output_type": "stream",
     "text": [
      "Evaluation result:\n",
      "- Coherence: 4.5  \n",
      "  The model's response logically aligns with the input context, acknowledging the concern about rising HbA1c levels and emphasizing the importance of consulting with a healthcare professional about treatment options.\n",
      "\n",
      "- Completeness: 3.0  \n",
      "  While the response addresses concerns about safety and recommends consulting a physician for further advice, it does not provide specific supplement recommendations or detailed lifestyle changes like the true answer does.\n",
      "\n",
      "- Naturalness: 4.8  \n",
      "  The response is fluent and sounds human-like, maintaining a professional tone typical of medical advice from a healthcare provider.\n"
     ]
    },
    {
     "name": "stderr",
     "output_type": "stream",
     "text": [
      "Some weights of RobertaModel were not initialized from the model checkpoint at roberta-large and are newly initialized: ['roberta.pooler.dense.bias', 'roberta.pooler.dense.weight']\n",
      "You should probably TRAIN this model on a down-stream task to be able to use it for predictions and inference.\n"
     ]
    },
    {
     "name": "stdout",
     "output_type": "stream",
     "text": [
      "Evaluation result:\n",
      "- Coherence: 1.0\n",
      "- Completeness: 1.0\n",
      "- Naturalness: 1.0\n",
      "\n",
      "**Explanation**: \n",
      "- **Coherence**: The model's response \"Dear patient\" does not align with the context or provide any logical continuation of the provided medical details. It is essentially a non-response.\n",
      "- **Completeness**: The response does not attempt to address or answer the content of the query, making it incomplete.\n",
      "- **Naturalness**: A human-like, fluent response would contain more than just an opening address and would engage with the actual question or provide advice. This response lacks such qualities.\n"
     ]
    },
    {
     "name": "stderr",
     "output_type": "stream",
     "text": [
      "Some weights of RobertaModel were not initialized from the model checkpoint at roberta-large and are newly initialized: ['roberta.pooler.dense.bias', 'roberta.pooler.dense.weight']\n",
      "You should probably TRAIN this model on a down-stream task to be able to use it for predictions and inference.\n"
     ]
    },
    {
     "name": "stdout",
     "output_type": "stream",
     "text": [
      "Evaluation result:\n",
      "- Coherence: 4.5  \n",
      "  The response is generally coherent as it acknowledges the situation with the grandfather, references the complexity of making a treatment decision given his age and medical history, and expressed empathy for the situation. However, it lacks specific details that align closely with the context provided (such as the medical conditions and the doctors' dilemma about procedures).\n",
      "\n",
      "- Completeness: 2.0  \n",
      "  The response is not complete as it does not provide any medical advice or suggest a suitable procedure, which was the core of the input request. The model fails to address the specific medical question asked about choosing between angioplasty or bypass surgery, thus leaving the queried issue unresolved.\n",
      "\n",
      "- Naturalness: 4.8  \n",
      "  The response is fluent and sounds very human-like. It is polite and appropriately structured, with empathy and clarity in communication. However, it lacks the specific details of a medical response, slightly affecting its perceived naturalness for the context.\n"
     ]
    },
    {
     "name": "stderr",
     "output_type": "stream",
     "text": [
      "Some weights of RobertaModel were not initialized from the model checkpoint at roberta-large and are newly initialized: ['roberta.pooler.dense.bias', 'roberta.pooler.dense.weight']\n",
      "You should probably TRAIN this model on a down-stream task to be able to use it for predictions and inference.\n"
     ]
    },
    {
     "name": "stdout",
     "output_type": "stream",
     "text": [
      "Evaluation result:\n",
      "- Coherence: 3.5  \n",
      "  The model's response aligns with the medical context by suggesting further antihypertensive medication and acknowledging the patient's issues with diuretics and the individual's medical history. However, it incorrectly states a target BP for diabetic patients as less than 140/90, which is higher than what the patient’s doctors recommended (120/70).\n",
      "\n",
      "- Completeness: 3.0  \n",
      "  The model provides some useful information regarding alternative medication options like amlodipine and losartan, but it lacks comprehensiveness. It doesn't mention lifestyle modifications, beta blockers, alpha blockers, or Hydralazine, which were included in the True Answer. \n",
      "\n",
      "- Naturalness: 4.5  \n",
      "  The response is well-articulated and quite natural. It uses appropriate medical terminology clearly, which makes it sound professional and human-like, although there is a slight overemphasis on consulting the primary care physician rather than providing more direct recommendations, which somewhat affects the conversational tone.\n"
     ]
    },
    {
     "name": "stderr",
     "output_type": "stream",
     "text": [
      "Some weights of RobertaModel were not initialized from the model checkpoint at roberta-large and are newly initialized: ['roberta.pooler.dense.bias', 'roberta.pooler.dense.weight']\n",
      "You should probably TRAIN this model on a down-stream task to be able to use it for predictions and inference.\n"
     ]
    },
    {
     "name": "stdout",
     "output_type": "stream",
     "text": [
      "Evaluation result:\n",
      "- Coherence: 1.0\n",
      "- Completeness: 1.0\n",
      "- Naturalness: 1.0\n",
      "\n",
      "The model's response is completely insufficient across all metrics as it fails to provide any relevant information or advice to address the user's concerns. It lacks coherence as it does not align with the medical details provided; it lacks completeness as it does not attempt to answer the question; and it lacks naturalness due to its abrupt and incomplete nature.\n"
     ]
    },
    {
     "name": "stderr",
     "output_type": "stream",
     "text": [
      "Some weights of RobertaModel were not initialized from the model checkpoint at roberta-large and are newly initialized: ['roberta.pooler.dense.bias', 'roberta.pooler.dense.weight']\n",
      "You should probably TRAIN this model on a down-stream task to be able to use it for predictions and inference.\n"
     ]
    },
    {
     "name": "stdout",
     "output_type": "stream",
     "text": [
      "Evaluation result:\n",
      "- Coherence: 4.5  \n",
      "  - The model's response logically aligns with the input context. It appropriately addresses the concerns about diabetes, typhoid, and the blood clot in the brain, emphasizing the urgency of the situation.\n",
      "  \n",
      "- Completeness: 3.5  \n",
      "  - While the response covers suggestions for managing diabetes and emphasizes the importance of seeking medical attention, it lacks specifics about the headache's potential seriousness due to intracranial issues mentioned in the true answer. The connection between the headache and the potential for intracranial complications or the need for a neurosurgeon consultation is not addressed as thoroughly as it could be.\n",
      "\n",
      "- Naturalness: 4.8  \n",
      "  - The response is fluent, polite, and sounds very human-like. The structure and tone are professional and appropriate for a medical setting. Some redundancy in sentence structure slightly reduces naturalness but overall maintains a high standard.\n"
     ]
    },
    {
     "name": "stderr",
     "output_type": "stream",
     "text": [
      "Some weights of RobertaModel were not initialized from the model checkpoint at roberta-large and are newly initialized: ['roberta.pooler.dense.bias', 'roberta.pooler.dense.weight']\n",
      "You should probably TRAIN this model on a down-stream task to be able to use it for predictions and inference.\n"
     ]
    },
    {
     "name": "stdout",
     "output_type": "stream",
     "text": [
      "Evaluation result:\n",
      "- Coherence: 2.0\n",
      "    - The model's response doesn't provide any new information or recommendations for the patient's recurring jock itch problem. It only repeats some known causes of jock itch generally, rather than directly addressing the recurrence issue mentioned by the patient.\n",
      "  \n",
      "- Completeness: 1.5\n",
      "    - The response fails to provide any actionable advice or further recommendations for treatment, unlike the true answer, which suggests specific treatment options and lifestyle adjustments. The model's response is incomplete as it does not address the patient's request for a new prescription or solutions.\n",
      "\n",
      "- Naturalness: 3.5\n",
      "    - While the response is polite and somewhat human-like, it lacks sufficient detail and fails to engage with the specifics of the patient's concerns, which slightly detracts from the naturalness. It sounds more like a generic response than one tailored to the individual's situation.\n"
     ]
    },
    {
     "name": "stderr",
     "output_type": "stream",
     "text": [
      "Some weights of RobertaModel were not initialized from the model checkpoint at roberta-large and are newly initialized: ['roberta.pooler.dense.bias', 'roberta.pooler.dense.weight']\n",
      "You should probably TRAIN this model on a down-stream task to be able to use it for predictions and inference.\n"
     ]
    },
    {
     "name": "stdout",
     "output_type": "stream",
     "text": [
      "Evaluation result:\n",
      "- Coherence: 1.0  \n",
      "  The model's response does not address the context or the specific details and questions provided in the input. It fails to logically align with the discussion about potential nasal surgery and biopsy inquiry.\n",
      "\n",
      "- Completeness: 1.0  \n",
      "  The model's response offers no substantial information or answer to the question about the need for a biopsy and the severity level of the condition. It essentially leaves the query completely unanswered.\n",
      "\n",
      "- Naturalness: 2.0  \n",
      "  While the response starts in a polite manner, it is abrupt and clearly incomplete, which detracts from its naturalness. A human-like response would continue with relevant information or guidance rather than stopping right after the salutation.\n"
     ]
    },
    {
     "name": "stderr",
     "output_type": "stream",
     "text": [
      "Some weights of RobertaModel were not initialized from the model checkpoint at roberta-large and are newly initialized: ['roberta.pooler.dense.bias', 'roberta.pooler.dense.weight']\n",
      "You should probably TRAIN this model on a down-stream task to be able to use it for predictions and inference.\n"
     ]
    },
    {
     "name": "stdout",
     "output_type": "stream",
     "text": [
      "Evaluation result:\n",
      "- Coherence: 1.0\n",
      "- Completeness: 1.0\n",
      "- Naturalness: 1.0\n",
      "\n",
      "The model's response \"Dear Patient,\" is incomplete and fails to provide any meaningful or relevant information in relation to the input query. This response lacks coherence as it does not logically align with the specific health details and requests mentioned in the input. It is also entirely lacking in detail, thereby failing the completeness criterion. Additionally, the abrupt halt after the salutation, without any follow-up, does not sound natural or human-like, leading to a low naturalness score.\n"
     ]
    },
    {
     "name": "stderr",
     "output_type": "stream",
     "text": [
      "Some weights of RobertaModel were not initialized from the model checkpoint at roberta-large and are newly initialized: ['roberta.pooler.dense.bias', 'roberta.pooler.dense.weight']\n",
      "You should probably TRAIN this model on a down-stream task to be able to use it for predictions and inference.\n"
     ]
    },
    {
     "name": "stdout",
     "output_type": "stream",
     "text": [
      "Evaluation result:\n",
      "- Coherence: 4.0  \n",
      "    - The model's response is generally coherent with the input, as it acknowledges the patient's concern about the medication and its usage. It advises the patient to follow the physician’s recommendations and provides information about the safety and purpose of the newly prescribed medication.\n",
      "\n",
      "- Completeness: 2.5  \n",
      "    - While the model mentions the importance of following the physician's prescription and provides assurance on the safety of Tazloc-H 40 mg, it does not address the patient's concerns about the differences between past and new medications or their questions about the heart rate management with Prolomet XL. The true answer provided much more detailed advice and context, offering a more complete response.\n",
      "\n",
      "- Naturalness: 4.5  \n",
      "    - The model's response is fluent and uses language that is clear and generally human-like. The structure and tone are appropriate for a medical inquiry response, though slightly more detail and personalization could improve the naturalness somewhat.\n"
     ]
    },
    {
     "name": "stderr",
     "output_type": "stream",
     "text": [
      "Some weights of RobertaModel were not initialized from the model checkpoint at roberta-large and are newly initialized: ['roberta.pooler.dense.bias', 'roberta.pooler.dense.weight']\n",
      "You should probably TRAIN this model on a down-stream task to be able to use it for predictions and inference.\n"
     ]
    },
    {
     "name": "stdout",
     "output_type": "stream",
     "text": [
      "Evaluation result:\n",
      "- Coherence: 3.0  \n",
      "  The model recognizes the significance of lymphadenopathy and advises consulting a healthcare professional. However, it fails to address the specific details and concerns outlined in the input, such as the potential causes of symptoms and suggested next steps for diagnosis and care.\n",
      "\n",
      "- Completeness: 2.0  \n",
      "  The response is generic and lacks thorough analysis or suggestions specific to the symptoms provided. It doesn't adequately answer the patient's request for suggestions regarding their multiple symptoms and test results.\n",
      "\n",
      "- Naturalness: 4.0  \n",
      "  The model's response is polite and written in a professional tone, which maintains a reasonable level of natural communication. However, it could be considered somewhat mechanical due to its lack of personalization or detailed advice in response to the input.\n",
      "\n",
      "Overall, while the model's response is linguistically coherent and pleasant, it lacks depth and specificity in addressing the patient's concerns comprehensively.\n"
     ]
    },
    {
     "name": "stderr",
     "output_type": "stream",
     "text": [
      "Some weights of RobertaModel were not initialized from the model checkpoint at roberta-large and are newly initialized: ['roberta.pooler.dense.bias', 'roberta.pooler.dense.weight']\n",
      "You should probably TRAIN this model on a down-stream task to be able to use it for predictions and inference.\n"
     ]
    },
    {
     "name": "stdout",
     "output_type": "stream",
     "text": [
      "Evaluation result:\n",
      "- Coherence: 4.5\n",
      "  - The model's response logically aligns with the context as it acknowledges the blood sugar reading and correctly identifies it as a level that should be further evaluated for diabetes. However, the information about the diagnostic criteria could be slightly misleading, as a level of 125 mg/dL indicates prediabetes rather than diabetes.\n",
      "  \n",
      "- Completeness: 3.5\n",
      "  - The model's response focuses on the diagnostic aspect and advises consulting a physician, which is appropriate. However, it does not offer additional advice on dietary or lifestyle modifications, which could be beneficial for someone with a high blood sugar reading.\n",
      "\n",
      "- Naturalness: 4.8\n",
      "  - The response is fluent and professional, closely mimicking a human-like response from a healthcare professional. It is polite and concise, maintaining a natural tone throughout.\n"
     ]
    },
    {
     "name": "stderr",
     "output_type": "stream",
     "text": [
      "Some weights of RobertaModel were not initialized from the model checkpoint at roberta-large and are newly initialized: ['roberta.pooler.dense.bias', 'roberta.pooler.dense.weight']\n",
      "You should probably TRAIN this model on a down-stream task to be able to use it for predictions and inference.\n"
     ]
    },
    {
     "name": "stdout",
     "output_type": "stream",
     "text": [
      "Evaluation result:\n",
      "- Coherence: 4.5  \n",
      "  The model's response is coherent as it stays relevant to the context of an ingrown nail and offers general advice about consulting a podiatrist if home remedies have not worked.\n",
      "\n",
      "- Completeness: 3.5  \n",
      "  The response suggests seeing a podiatrist and mentions the possibility of surgical intervention, which covers a part of the necessary guidance. However, it lacks specific self-care measures and possible additional treatments like the true answer, thus not entirely complete in addressing all aspects of the problem.\n",
      "\n",
      "- Naturalness: 4.8  \n",
      "  The response is fluent, polite, and structured in a human-like manner. It begins with an acknowledgment, provides advice, and concludes with an emphasis on seeking medical attention. The language used is clear and professional.\n"
     ]
    },
    {
     "name": "stderr",
     "output_type": "stream",
     "text": [
      "Some weights of RobertaModel were not initialized from the model checkpoint at roberta-large and are newly initialized: ['roberta.pooler.dense.bias', 'roberta.pooler.dense.weight']\n",
      "You should probably TRAIN this model on a down-stream task to be able to use it for predictions and inference.\n"
     ]
    },
    {
     "name": "stdout",
     "output_type": "stream",
     "text": [
      "Evaluation result:\n",
      "- Coherence: 1.0\n",
      "  - The model's response does not align with the context as it stops abruptly after a brief salutation and does not attempt to address the question or provide any relevant information.\n",
      "\n",
      "- Completeness: 1.0\n",
      "  - The response is entirely incomplete as it does not offer any answer or information related to the input question. It consists solely of a greeting with no further content.\n",
      "\n",
      "- Naturalness: 2.0\n",
      "  - While the salutation \"Dear Patient\" sounds somewhat natural and human-like, the response is not a complete sentence and lacks structure, leading to a low score. It does not resemble a fluent or complete answer.\n"
     ]
    },
    {
     "name": "stderr",
     "output_type": "stream",
     "text": [
      "Some weights of RobertaModel were not initialized from the model checkpoint at roberta-large and are newly initialized: ['roberta.pooler.dense.bias', 'roberta.pooler.dense.weight']\n",
      "You should probably TRAIN this model on a down-stream task to be able to use it for predictions and inference.\n"
     ]
    },
    {
     "name": "stdout",
     "output_type": "stream",
     "text": [
      "Evaluation result:\n",
      "Based on the provided inputs and the model's response, here is the evaluation:\n",
      "\n",
      "- **Coherence: 1.0**  \n",
      "  The model's response, \"Dear Patient,\" does not logically align with the context. It does not address the question or acknowledge any of the medical details provided.\n",
      "\n",
      "- **Completeness: 1.0**  \n",
      "  The response is incomplete as it fails to answer the question or provide any explanation of the medical situation. No information or guidance is offered regarding the C-reactive protein levels or the shoulder and wrist pain.\n",
      "\n",
      "- **Naturalness: 1.0**  \n",
      "  Although the phrase \"Dear Patient,\" is grammatically correct, it lacks substance and does not flow as part of a natural conversation. The response is extremely brief, abrupt, and does not simulate a typical human interaction in this context.\n",
      "\n",
      "Overall, the model's response is insufficient across all three metrics.\n"
     ]
    },
    {
     "name": "stderr",
     "output_type": "stream",
     "text": [
      "Some weights of RobertaModel were not initialized from the model checkpoint at roberta-large and are newly initialized: ['roberta.pooler.dense.bias', 'roberta.pooler.dense.weight']\n",
      "You should probably TRAIN this model on a down-stream task to be able to use it for predictions and inference.\n"
     ]
    },
    {
     "name": "stdout",
     "output_type": "stream",
     "text": [
      "Evaluation result:\n",
      "Based on the evaluation criteria provided, here is how the model’s response rates:\n",
      "\n",
      "- **Coherence: 1.0**\n",
      "  - The model's response is not coherent with the context provided. It addresses the patient as \"Dear Patient,\" but does not provide any relevant or logical follow-up to the detailed medical query presented. It lacks an understanding of the information given in the input.\n",
      "\n",
      "- **Completeness: 1.0**\n",
      "  - The response is highly incomplete as it does not answer the question nor address any of the medical concerns or symptoms described by the user. It fails to provide any guidance, suggestions, or insights related to the symptoms or potential next steps.\n",
      "\n",
      "- **Naturalness: 2.0**\n",
      "  - While the phrase \"Dear Patient,\" is syntactically correct and sounds polite, it is not a complete or natural response in the context of the query. The brevity and lack of content make it seem unnatural in a medical consultation scenario where more detailed communication is expected.\n",
      "\n",
      "Overall, the model's response fails to meet the requirements laid out by the input and the metrics for evaluation.\n"
     ]
    },
    {
     "name": "stderr",
     "output_type": "stream",
     "text": [
      "Some weights of RobertaModel were not initialized from the model checkpoint at roberta-large and are newly initialized: ['roberta.pooler.dense.bias', 'roberta.pooler.dense.weight']\n",
      "You should probably TRAIN this model on a down-stream task to be able to use it for predictions and inference.\n"
     ]
    },
    {
     "name": "stdout",
     "output_type": "stream",
     "text": [
      "Evaluation result:\n",
      "- Coherence: 4.5  \n",
      "  - The model's response logically aligns with the context, acknowledging the father's health conditions and the complexities involved with the placement of an AV fistula in the forearm due to a partial amputation. However, it doesn't address alternative placement options, which were mentioned in the context.\n",
      "\n",
      "- Completeness: 3.0  \n",
      "  - The model's response lacks completeness as it doesn't fully address the query about alternative fistula placement options, such as the chest area, or discuss other possible locations like the leg or mention the central line option briefly covered in the true answer.\n",
      "\n",
      "- Naturalness: 4.8  \n",
      "  - The response is fluent and human-like, with empathetic language and a clear explanation of the AV fistula procedure, making it sound natural and comforting to a relative of a patient seeking medical advice.\n"
     ]
    },
    {
     "name": "stderr",
     "output_type": "stream",
     "text": [
      "Some weights of RobertaModel were not initialized from the model checkpoint at roberta-large and are newly initialized: ['roberta.pooler.dense.bias', 'roberta.pooler.dense.weight']\n",
      "You should probably TRAIN this model on a down-stream task to be able to use it for predictions and inference.\n"
     ]
    },
    {
     "name": "stdout",
     "output_type": "stream",
     "text": [
      "Evaluation result:\n",
      "- Coherence: 4.0  \n",
      "  The model’s response starts logically by explaining what mild concentric LVH is and its potential causes. It aligns with the context provided about the patient's condition and lifestyle history (hypertension and alcohol consumption).\n",
      "\n",
      "- Completeness: 2.5  \n",
      "  The model's response lacks completeness as it doesn't directly answer whether mild concentric LVH will regress with diet and exercise. It provides background information but does not address the central query regarding potential regression or management strategies through lifestyle changes.\n",
      "\n",
      "- Naturalness: 4.5  \n",
      "  The response is fluent and human-like, using polite and understandable language. It is structured in a way that maintains a professional tone appropriate for a patient inquiry.\n"
     ]
    },
    {
     "name": "stderr",
     "output_type": "stream",
     "text": [
      "Some weights of RobertaModel were not initialized from the model checkpoint at roberta-large and are newly initialized: ['roberta.pooler.dense.bias', 'roberta.pooler.dense.weight']\n",
      "You should probably TRAIN this model on a down-stream task to be able to use it for predictions and inference.\n"
     ]
    },
    {
     "name": "stdout",
     "output_type": "stream",
     "text": [
      "Evaluation result:\n",
      "- Coherence: 4.0\n",
      "  - The model's response logically aligns with the provided context. It acknowledges the multiple health conditions and potential interactions or side effects from the medications, which is pertinent given the list of health issues and current symptoms described.\n",
      "  \n",
      "- Completeness: 2.5\n",
      "  - The response lacks specific advice about the medications, particularly regarding potential bad interactions or unnecessary drugs, which was a key part of the query. While it suggests monitoring for side effects and consulting healthcare providers, it doesn't directly address the concerns about TB treatment or specifics of drug interactions like the true answer does.\n",
      "\n",
      "- Naturalness: 4.5\n",
      "  - The response is fluent and sounds human-like. It demonstrates empathy and a helpful tone, encouraging the involvement of healthcare providers and support from family, contributing to its naturalness.\n"
     ]
    },
    {
     "name": "stderr",
     "output_type": "stream",
     "text": [
      "Some weights of RobertaModel were not initialized from the model checkpoint at roberta-large and are newly initialized: ['roberta.pooler.dense.bias', 'roberta.pooler.dense.weight']\n",
      "You should probably TRAIN this model on a down-stream task to be able to use it for predictions and inference.\n"
     ]
    },
    {
     "name": "stdout",
     "output_type": "stream",
     "text": [
      "Evaluation result:\n",
      "- Coherence: 3.5  \n",
      "  The model’s response logically addresses the context of the ANA test but doesn't fully align with the specific concerns raised about the life-threatening nature of the current hepatitis E condition.\n",
      "\n",
      "- Completeness: 2.5  \n",
      "  The response fails to directly address the user's key concerns about potential complications and whether the situation is life-threatening, focusing instead on the ANA test explanation, which might not be the most relevant aspect given the inquiry.\n",
      "\n",
      "- Naturalness: 4.0  \n",
      "  The response is fluent and human-like, with polite language and a reassuring tone that is typical in professional healthcare communication; however, the repetition of the information about the ANA test could detract slightly from the flow.\n",
      "\n"
     ]
    },
    {
     "name": "stderr",
     "output_type": "stream",
     "text": [
      "Some weights of RobertaModel were not initialized from the model checkpoint at roberta-large and are newly initialized: ['roberta.pooler.dense.bias', 'roberta.pooler.dense.weight']\n",
      "You should probably TRAIN this model on a down-stream task to be able to use it for predictions and inference.\n"
     ]
    },
    {
     "name": "stdout",
     "output_type": "stream",
     "text": [
      "Evaluation result:\n",
      "- Coherence: 4.0  \n",
      "  The model's response logically aligns with the provided context. It acknowledges the knee pain and suggests potential factors, including diabetes, which aligns with the patient’s medical history.\n",
      "\n",
      "- Completeness: 2.0  \n",
      "  The response addresses the inquiry about the knee pain but does not provide any specific guidance or next steps for the patient. It lacks an actionable recommendation or diagnostic suggestion besides generic causes.\n",
      "\n",
      "- Naturalness: 4.5  \n",
      "  The response is fluent and reads as if a human wrote it, with polite and empathetic language typically expected in doctor-patient communications.\n"
     ]
    },
    {
     "name": "stderr",
     "output_type": "stream",
     "text": [
      "Some weights of RobertaModel were not initialized from the model checkpoint at roberta-large and are newly initialized: ['roberta.pooler.dense.bias', 'roberta.pooler.dense.weight']\n",
      "You should probably TRAIN this model on a down-stream task to be able to use it for predictions and inference.\n"
     ]
    },
    {
     "name": "stdout",
     "output_type": "stream",
     "text": [
      "Evaluation result:\n",
      "- Coherence: 4.5  \n",
      "  - The model's response is mostly coherent with the context provided, acknowledging the presence of a gallstone and suggesting a course of action based on the size. However, it doesn't directly address the severe abdominal pain mentioned by the user.\n",
      "\n",
      "- Completeness: 3.5  \n",
      "  - The model gives a well-rounded general response about gallstones and potential future actions. However, it lacks a detailed inquiry into the nature of the present pain and does not suggest other possible causes or recommend immediate actions that could address current discomfort, such as providing pain relief or suggesting further investigations as seen in the true answer.\n",
      "\n",
      "- Naturalness: 4.7  \n",
      "  - The language is fluent, polite, and professional, sounding very much like a human doctor might respond. The use of reassuring language and structure contributes to a natural flow.\n"
     ]
    },
    {
     "name": "stderr",
     "output_type": "stream",
     "text": [
      "Some weights of RobertaModel were not initialized from the model checkpoint at roberta-large and are newly initialized: ['roberta.pooler.dense.bias', 'roberta.pooler.dense.weight']\n",
      "You should probably TRAIN this model on a down-stream task to be able to use it for predictions and inference.\n"
     ]
    },
    {
     "name": "stdout",
     "output_type": "stream",
     "text": [
      "Evaluation result:\n",
      "To effectively evaluate the given model response against the true answer, let's assess each metric:\n",
      "\n",
      "1. **Coherence**: The model's response should logically align with the context provided and present a consistent and stable message. In this case, the model's response starts with just a salutation and fails to address any specific query or details from the input.\n",
      "\n",
      "2. **Completeness**: This metric measures if the response sufficiently answers the question posed. The model's response does not provide any information or answer to the questions about early bronchiectasis vs. bronchiectasis, treatment options, life expectancy, or recommendations for managing mucus, which are primary concerns in the input.\n",
      "\n",
      "3. **Naturalness**: This metric evaluates whether the response sounds fluent and human-like. Despite the brevity, the salutation alone can be considered appropriate. However, its lack of context makes it insufficient to be rated highly.\n",
      "\n",
      "Given these evaluations, the ratings are as follows:\n",
      "\n",
      "- Coherence: 1.0 - The response does not align with the context and lacks any logical components related to the input query.\n",
      "- Completeness: 1.0 - The response does not address any part of the question, missing answers about medical conditions, treatment, and life expectancy concerns.\n",
      "- Naturalness: 1.5 - While the greeting is human-like, the lack of substantive content limits its rating.\n",
      "\n",
      "Overall, the model's response is highly deficient in addressing the provided input.\n"
     ]
    },
    {
     "name": "stderr",
     "output_type": "stream",
     "text": [
      "Some weights of RobertaModel were not initialized from the model checkpoint at roberta-large and are newly initialized: ['roberta.pooler.dense.bias', 'roberta.pooler.dense.weight']\n",
      "You should probably TRAIN this model on a down-stream task to be able to use it for predictions and inference.\n"
     ]
    },
    {
     "name": "stdout",
     "output_type": "stream",
     "text": [
      "Evaluation result:\n",
      "- Coherence: 4.0\n",
      "  - The model's response is generally coherent in understanding the medical context and acknowledging the symptoms and medications mentioned. However, it misses the specific context about potential causes of abdominal pain and stress mentioned in the true answer.\n",
      "\n",
      "- Completeness: 2.5\n",
      "  - The model does not provide a complete response since it fails to suggest any specific course of action or potential causes for the symptoms, such as stress or medication effects, which are mentioned in the true answer. It primarily focuses on the importance of consulting a doctor without offering any interim advice or potential treatments like the true answer does.\n",
      "\n",
      "- Naturalness: 4.5\n",
      "  - The model's response is fluent and sounds human-like with a polite tone and logical structure. However, its repetitive nature regarding the importance of consulting a doctor slightly reduces its naturalness. The response would benefit from more varied expression or additional specific advice to break the repetition.\n"
     ]
    },
    {
     "name": "stderr",
     "output_type": "stream",
     "text": [
      "Some weights of RobertaModel were not initialized from the model checkpoint at roberta-large and are newly initialized: ['roberta.pooler.dense.bias', 'roberta.pooler.dense.weight']\n",
      "You should probably TRAIN this model on a down-stream task to be able to use it for predictions and inference.\n"
     ]
    },
    {
     "name": "stdout",
     "output_type": "stream",
     "text": [
      "Evaluation result:\n",
      "- Coherence: 4.5\n",
      "  - The model’s response logically aligns with the input context. It addresses the concerns about the lightened area on the MRI, potential causes of brain atrophy, and the need to consult a medical professional. However, it does not address every specific detail from the input, such as the mention of acetyl carnitine or the individual's medication effects, which slightly impacts coherence.\n",
      "  \n",
      "- Completeness: 3.5\n",
      "  - The model provides general answers to the questions asked but lacks depth the true answer supplies, such as specific suggestions regarding follow-up actions (e.g., consulting a neurologist directly, taking aspirin), potential causes of brain atrophy, and lifestyle recommendations. This makes it less complete in terms of fully addressing each concern presented in the input.\n",
      "  \n",
      "- Naturalness: 4.8\n",
      "  - The response sounds fluent and human-like, using a compassionate and understanding tone that is typical in medical consultations. It avoids technical jargon that might be difficult for someone without a medical background and sounds quite natural throughout.\n"
     ]
    },
    {
     "name": "stderr",
     "output_type": "stream",
     "text": [
      "Some weights of RobertaModel were not initialized from the model checkpoint at roberta-large and are newly initialized: ['roberta.pooler.dense.bias', 'roberta.pooler.dense.weight']\n",
      "You should probably TRAIN this model on a down-stream task to be able to use it for predictions and inference.\n"
     ]
    },
    {
     "name": "stdout",
     "output_type": "stream",
     "text": [
      "Evaluation result:\n",
      "- Coherence: 4.5  \n",
      "  The model's response is generally coherent with the context provided, addressing the possible causes of bleeding after intercourse and suggesting monitoring and medical consultation. However, it lacks specific medical tests or evaluations that could provide a more complete alignment with the inquiry.\n",
      "\n",
      "- Completeness: 3.0  \n",
      "  The model gives a basic answer regarding bleeding after intercourse but misses several important points that the true answer addresses, such as specific medical examinations (blood hCG test, speculum examination, TSH and blood sugar levels, etc.) that could help diagnose the cause of the bleeding.\n",
      "\n",
      "- Naturalness: 4.8  \n",
      "  The response is quite fluent and human-like, maintaining a polite and informative tone expected in a professional medical setting. The language is clear and easy to understand but perhaps slightly repetitive in recommending consulting a doctor twice.\n"
     ]
    },
    {
     "name": "stderr",
     "output_type": "stream",
     "text": [
      "Some weights of RobertaModel were not initialized from the model checkpoint at roberta-large and are newly initialized: ['roberta.pooler.dense.bias', 'roberta.pooler.dense.weight']\n",
      "You should probably TRAIN this model on a down-stream task to be able to use it for predictions and inference.\n"
     ]
    },
    {
     "name": "stdout",
     "output_type": "stream",
     "text": [
      "Evaluation result:\n",
      "Based on the provided input and the model's response, here's the evaluation:\n",
      "\n",
      "- **Coherence: 1.0**  \n",
      "  The model's response is entirely incoherent as it consists only of a greeting with no further information. It does not align with the medical context or address the concerns provided in the input.\n",
      "\n",
      "- **Completeness: 1.0**  \n",
      "  The response is completely incomplete because it does not answer any part of the question or provide advice. The model has simply provided an opening salutation without engaging with the specific medical query or offering any guidance.\n",
      "\n",
      "- **Naturalness: 2.0**  \n",
      "  Although the response starts with a natural, human-like greeting, it abruptly ends without continuing as a realistic conversation. It lacks the elaboration expected in a natural exchange, especially in a medical consultation context. The model's response sounds incomplete and unnatural overall.\n",
      "\n",
      "The model's response fails to deliver a meaningful and appropriate reply to the input query in all assessed dimensions.\n"
     ]
    },
    {
     "name": "stderr",
     "output_type": "stream",
     "text": [
      "Some weights of RobertaModel were not initialized from the model checkpoint at roberta-large and are newly initialized: ['roberta.pooler.dense.bias', 'roberta.pooler.dense.weight']\n",
      "You should probably TRAIN this model on a down-stream task to be able to use it for predictions and inference.\n"
     ]
    },
    {
     "name": "stdout",
     "output_type": "stream",
     "text": [
      "Evaluation result:\n",
      "- Coherence: 4.0\n",
      "  - The model's response is coherent with the given context, accurately restating the details provided by the patient about their medical history and concerns. However, it fails to offer guidance or an actionable recommendation, which is necessary for full coherence with the intent of the inquiry.\n",
      "  \n",
      "- Completeness: 2.0\n",
      "  - The response reiterates the patient's information but does not provide any guidance or address the core concern of changing medications, making it incomplete. The inquiry seeks advice on alternatives due to concerns about weight gain and kidney damage, but the model fails to offer a solution or direction.\n",
      "  \n",
      "- Naturalness: 4.5\n",
      "  - The language used is fluent and human-like. It reads like a typical medical professional's acknowledgment and summary of a patient's concerns, though it lacks the engagement or closure that would be expected in a natural doctor-patient interaction focused on providing solutions.\n"
     ]
    },
    {
     "name": "stderr",
     "output_type": "stream",
     "text": [
      "Some weights of RobertaModel were not initialized from the model checkpoint at roberta-large and are newly initialized: ['roberta.pooler.dense.bias', 'roberta.pooler.dense.weight']\n",
      "You should probably TRAIN this model on a down-stream task to be able to use it for predictions and inference.\n"
     ]
    },
    {
     "name": "stdout",
     "output_type": "stream",
     "text": [
      "Evaluation result:\n",
      "- Coherence: 4.0  \n",
      "  The model's response logically aligns with the context provided in the input. It addresses the question regarding protein intake by explaining the low protein diet plan. However, it does not directly address the specific question about fish and other non-vegetarian foods.\n",
      "\n",
      "- Completeness: 2.5  \n",
      "  The response partially answers the question by explaining the overall protein restriction. However, it lacks information on the specific concerns about consuming fish and other non-vegetarian foods, which the user explicitly asked about.\n",
      "\n",
      "- Naturalness: 4.5  \n",
      "  The response is fluent and human-like in tone and structure. The polite and informative language is appropriate for the context of a medical query.\n"
     ]
    },
    {
     "name": "stderr",
     "output_type": "stream",
     "text": [
      "Some weights of RobertaModel were not initialized from the model checkpoint at roberta-large and are newly initialized: ['roberta.pooler.dense.bias', 'roberta.pooler.dense.weight']\n",
      "You should probably TRAIN this model on a down-stream task to be able to use it for predictions and inference.\n"
     ]
    },
    {
     "name": "stdout",
     "output_type": "stream",
     "text": [
      "Evaluation result:\n",
      "- Coherence: 4.8  \n",
      "  The model's response is coherent and aligns well with the context provided. It accurately mentions prediabetes, references both fasting blood sugar and HbA1c tests, and provides information relevant to the patient's concerns.\n",
      "\n",
      "- Completeness: 4.5  \n",
      "  The response is mostly complete, offering advice on preventing diabetes through lifestyle modifications and monitoring blood sugar levels. However, it could be slightly enhanced by acknowledging the patient's current stress or emphasizing the reliability of the HbA1c test more explicitly like the true answer does.\n",
      "\n",
      "- Naturalness: 5.0  \n",
      "  The response is fluent and human-like. It uses empathetic language and provides information in a clear and professional manner, resembling a response one might expect from a healthcare provider.\n"
     ]
    },
    {
     "name": "stderr",
     "output_type": "stream",
     "text": [
      "Some weights of RobertaModel were not initialized from the model checkpoint at roberta-large and are newly initialized: ['roberta.pooler.dense.bias', 'roberta.pooler.dense.weight']\n",
      "You should probably TRAIN this model on a down-stream task to be able to use it for predictions and inference.\n"
     ]
    },
    {
     "name": "stdout",
     "output_type": "stream",
     "text": [
      "Evaluation result:\n",
      "- Coherence: 4.5  \n",
      "  The model's response logically aligns with the context provided in the input. It acknowledges the user's medical situation and discusses the suggestion of stent placement, which is relevant to the issue of artery blockage.\n",
      "\n",
      "- Completeness: 3.5  \n",
      "  The model's response discusses stent placement as a recommended treatment and suggests lifestyle changes to prevent further complications. However, it doesn't address that no medicine can open such severe blockages, nor does it suggest any alternative treatments apart from stenting. It also misses asking for or discussing variables like blood work or other health issues which are relevant for a complete diagnosis.\n",
      "\n",
      "- Naturalness: 4.5  \n",
      "  The response is fluent and human-like, maintaining a compassionate and professional tone that is typical of doctor-patient communication. There are no grammatical or structural issues affecting the readability or naturalness of the response.\n"
     ]
    },
    {
     "name": "stderr",
     "output_type": "stream",
     "text": [
      "Some weights of RobertaModel were not initialized from the model checkpoint at roberta-large and are newly initialized: ['roberta.pooler.dense.bias', 'roberta.pooler.dense.weight']\n",
      "You should probably TRAIN this model on a down-stream task to be able to use it for predictions and inference.\n"
     ]
    },
    {
     "name": "stdout",
     "output_type": "stream",
     "text": [
      "Evaluation result:\n",
      "- Coherence: 1.0 - The model's response suggests penile cancer as a possible cause of the patient's symptoms without considering other more common or likely explanations given the context and patient's medication.\n",
      "- Completeness: 1.0 - The model's response is insufficient, as it fails to consider or mention several plausible explanations for the pain, such as those provided in the true answer, and does not offer any advice or next steps for the patient.\n",
      "- Naturalness: 3.0 - The language used in the model's response is somewhat formal and professional, making it sound like it was written by a human, but it lacks empathy and reassurance, which are important in medical communication.\n"
     ]
    },
    {
     "name": "stderr",
     "output_type": "stream",
     "text": [
      "Some weights of RobertaModel were not initialized from the model checkpoint at roberta-large and are newly initialized: ['roberta.pooler.dense.bias', 'roberta.pooler.dense.weight']\n",
      "You should probably TRAIN this model on a down-stream task to be able to use it for predictions and inference.\n"
     ]
    },
    {
     "name": "stdout",
     "output_type": "stream",
     "text": [
      "Evaluation result:\n",
      "- Coherence: 3.0  \n",
      "  The response is somewhat coherent as it acknowledges the context of the father's fever and uncontrolled blood sugar levels. However, it fails to address both the antibiotic for the fever and specific anti-diabetic medication queries, which is a crucial part of the request.\n",
      "\n",
      "- Completeness: 1.5  \n",
      "  The model's response is quite incomplete. It doesn't answer the main question about which antibiotic should be administered for the fever or suggest a specific anti-diabetic medication for blood sugar control. It merely advises consulting a specialist without providing direct answers or suggestions.\n",
      "\n",
      "- Naturalness: 4.5  \n",
      "  The response is very natural and sounds fluent and human-like. It uses polite language and acknowledges the concern appropriately. However, a slightly more specific engagement with the actual questions might enhance its naturalness in context.\n"
     ]
    },
    {
     "name": "stderr",
     "output_type": "stream",
     "text": [
      "Some weights of RobertaModel were not initialized from the model checkpoint at roberta-large and are newly initialized: ['roberta.pooler.dense.bias', 'roberta.pooler.dense.weight']\n",
      "You should probably TRAIN this model on a down-stream task to be able to use it for predictions and inference.\n"
     ]
    },
    {
     "name": "stdout",
     "output_type": "stream",
     "text": [
      "Evaluation result:\n",
      "- Coherence: 1.0  \n",
      "  The model's response does not logically align with the context provided as it is incomplete and not addressing the patient's concerns.\n",
      "  \n",
      "- Completeness: 1.0  \n",
      "  The model's response does not answer the question at all. It lacks any relevant information or guidance based on the patient's symptoms.\n",
      "\n",
      "- Naturalness: 1.0  \n",
      "  The model's response is not fluent or human-like. It appears as an incomplete or improperly formatted response rather than a conversational reply.\n"
     ]
    },
    {
     "name": "stderr",
     "output_type": "stream",
     "text": [
      "Some weights of RobertaModel were not initialized from the model checkpoint at roberta-large and are newly initialized: ['roberta.pooler.dense.bias', 'roberta.pooler.dense.weight']\n",
      "You should probably TRAIN this model on a down-stream task to be able to use it for predictions and inference.\n"
     ]
    },
    {
     "name": "stdout",
     "output_type": "stream",
     "text": [
      "Evaluation result:\n",
      "Based on the provided input, here is the evaluation of the model's response:\n",
      "\n",
      "- **Coherence: 1.0**\n",
      "  - The model's response does not logically align with the context. It simply states \"Dear [Patient],\" without addressing any of the concerns or questions.\n",
      "\n",
      "- **Completeness: 1.0**\n",
      "  - The response does not answer any of the specific questions posed by the user, leaving all main queries unaddressed.\n",
      "\n",
      "- **Naturalness: 1.0**\n",
      "  - The response is not fluent or human-like as it merely begins with a greeting without providing any meaningful content or continuation.\n"
     ]
    },
    {
     "name": "stderr",
     "output_type": "stream",
     "text": [
      "Some weights of RobertaModel were not initialized from the model checkpoint at roberta-large and are newly initialized: ['roberta.pooler.dense.bias', 'roberta.pooler.dense.weight']\n",
      "You should probably TRAIN this model on a down-stream task to be able to use it for predictions and inference.\n"
     ]
    },
    {
     "name": "stdout",
     "output_type": "stream",
     "text": [
      "Evaluation result:\n",
      "- Coherence: 4.5  \n",
      "  The model's response logically aligns with the context provided. It identifies diabetic cystopathy as a potential cause of the symptoms, which is reasonable given the patient's condition and symptoms.\n",
      "\n",
      "- Completeness: 4.0  \n",
      "  The model offers a potential explanation (diabetic cystopathy) and suggests collaborating with a healthcare provider for further diagnosis and management, which is quite complete. However, it could have provided additional suggestions or asked for more specific details as the \"True Answer\" does.\n",
      "\n",
      "- Naturalness: 4.7  \n",
      "  The response is fluent and human-like. It uses clear, empathetic language typical of a human healthcare provider, making it reassuring and easy to understand.\n"
     ]
    },
    {
     "name": "stderr",
     "output_type": "stream",
     "text": [
      "Some weights of RobertaModel were not initialized from the model checkpoint at roberta-large and are newly initialized: ['roberta.pooler.dense.bias', 'roberta.pooler.dense.weight']\n",
      "You should probably TRAIN this model on a down-stream task to be able to use it for predictions and inference.\n"
     ]
    },
    {
     "name": "stdout",
     "output_type": "stream",
     "text": [
      "Evaluation result:\n",
      "- Coherence: 5.0  \n",
      "  The model's response is logically aligned with the question. It addresses the concern about menstrual cycle effects on blood test results with relevant information about hormonal fluctuations and fasting glucose tests.\n",
      "\n",
      "- Completeness: 4.5  \n",
      "  The response sufficiently answers the question by explaining the potential impact of the menstrual cycle and states that it should not significantly affect a fasting blood glucose test. While it could offer further advice such as consulting a specialist for more comprehensive understanding, the core question is addressed.\n",
      "\n",
      "- Naturalness: 5.0  \n",
      "  The response is fluent and human-like. It uses appropriate medical terminology and provides a clear explanation, maintaining a professional and empathetic tone.\n"
     ]
    },
    {
     "name": "stderr",
     "output_type": "stream",
     "text": [
      "Some weights of RobertaModel were not initialized from the model checkpoint at roberta-large and are newly initialized: ['roberta.pooler.dense.bias', 'roberta.pooler.dense.weight']\n",
      "You should probably TRAIN this model on a down-stream task to be able to use it for predictions and inference.\n"
     ]
    },
    {
     "name": "stdout",
     "output_type": "stream",
     "text": [
      "Evaluation result:\n",
      "- Coherence: 4.5  \n",
      "  The model's response logically aligns with the context of the input. It correctly identifies possible reasons for an elevated WBC count, which is relevant to the patient's conditions such as hypertension, diabetes, and a recently placed stent. The advice to consult with a hematologist is coherent with the concern raised by the patient.\n",
      "\n",
      "- Completeness: 4.0  \n",
      "  The model provides a satisfactory answer by listing potential causes for an elevated WBC count and suggesting further consultation with a healthcare professional. However, it could be more complete by explicitly linking the patient's existing medical conditions and the stent implantation with the current issue of elevated WBCs if relevant.\n",
      "\n",
      "- Naturalness: 4.8  \n",
      "  The response sounds natural, fluent, and human-like. The tone is empathetic, and the language used is appropriate for addressing a concerned patient. The model exhibits a good command of English grammar and style, contributing to a natural and friendly interaction.\n"
     ]
    },
    {
     "name": "stderr",
     "output_type": "stream",
     "text": [
      "Some weights of RobertaModel were not initialized from the model checkpoint at roberta-large and are newly initialized: ['roberta.pooler.dense.bias', 'roberta.pooler.dense.weight']\n",
      "You should probably TRAIN this model on a down-stream task to be able to use it for predictions and inference.\n"
     ]
    },
    {
     "name": "stdout",
     "output_type": "stream",
     "text": [
      "Evaluation result:\n",
      "- Coherence: 1.0\n",
      "- Completeness: 1.0\n",
      "- Naturalness: 1.0\n",
      "\n",
      "The model's response is completely inadequate for the given input. It does not provide any advice or information relevant to the patient's situation and fails to engage with the question asked, thereby scoring low across all evaluated metrics.\n"
     ]
    },
    {
     "name": "stderr",
     "output_type": "stream",
     "text": [
      "Some weights of RobertaModel were not initialized from the model checkpoint at roberta-large and are newly initialized: ['roberta.pooler.dense.bias', 'roberta.pooler.dense.weight']\n",
      "You should probably TRAIN this model on a down-stream task to be able to use it for predictions and inference.\n"
     ]
    },
    {
     "name": "stdout",
     "output_type": "stream",
     "text": [
      "Evaluation result:\n",
      "- Coherence: 4.5  \n",
      "  The model’s response is coherent with the context provided. It acknowledges the concern about varying blood glucose levels and suggests additional testing, which aligns with the situation described.\n",
      "\n",
      "- Completeness: 3.5  \n",
      "  While the response advises repeat testing and consultation with a healthcare provider, it lacks specific recommendations found in the true answer, such as the variability of glucometer results and the suggestion to undertake specific tests like HbA1c, FBS, and PPBS.\n",
      "\n",
      "- Naturalness: 4.5  \n",
      "  The response is fluent and human-like, with polite language and a professional tone appropriate to a healthcare context. However, it could be slightly more conversational or empathetic to further enhance naturalness.\n"
     ]
    },
    {
     "name": "stderr",
     "output_type": "stream",
     "text": [
      "Some weights of RobertaModel were not initialized from the model checkpoint at roberta-large and are newly initialized: ['roberta.pooler.dense.bias', 'roberta.pooler.dense.weight']\n",
      "You should probably TRAIN this model on a down-stream task to be able to use it for predictions and inference.\n"
     ]
    },
    {
     "name": "stdout",
     "output_type": "stream",
     "text": [
      "Evaluation result:\n",
      "- Coherence: 4.5  \n",
      "  The model's response is generally coherent and aligns well with the input context. It addresses the question by discussing several methods to improve the chances of pregnancy and explains the timing of ovulation and the importance of a healthy lifestyle. However, it lacks a mention of seeing a gynecologist for specific health concerns, which is present in the true answer.\n",
      "\n",
      "- Completeness: 4.0  \n",
      "  The response provides a comprehensive list of actions that can improve the chances of getting pregnant, including regular cycles, timing of intercourse, and lifestyle factors like diet and exercise. However, it misses some medical recommendations highlighted in the true answer, such as specific health checks, the importance of age considerations, and partner health assessments.\n",
      "\n",
      "- Naturalness: 4.8  \n",
      "  The response is mostly fluent and human-like, with a friendly and informative tone. It is structured logically, making it easy to read and understand. The salutation and closing would make it sound more conversational, though the current form is still quite natural.\n"
     ]
    },
    {
     "name": "stderr",
     "output_type": "stream",
     "text": [
      "Some weights of RobertaModel were not initialized from the model checkpoint at roberta-large and are newly initialized: ['roberta.pooler.dense.bias', 'roberta.pooler.dense.weight']\n",
      "You should probably TRAIN this model on a down-stream task to be able to use it for predictions and inference.\n"
     ]
    },
    {
     "name": "stdout",
     "output_type": "stream",
     "text": [
      "Evaluation result:\n",
      "- Coherence: 1.0\n",
      "- Completeness: 1.0\n",
      "- Naturalness: 1.0\n",
      "\n",
      "The model's response \"Dear [Patient],\" is not coherent as it doesn't logically connect to the context of the input or address the specific concerns mentioned. It lacks completeness because it fails to provide any useful information or guidance in response to the problem described. Additionally, the response lacks naturalness as it doesn't reflect a human-like conversation and appears to be an incomplete templated response.\n"
     ]
    },
    {
     "name": "stderr",
     "output_type": "stream",
     "text": [
      "Some weights of RobertaModel were not initialized from the model checkpoint at roberta-large and are newly initialized: ['roberta.pooler.dense.bias', 'roberta.pooler.dense.weight']\n",
      "You should probably TRAIN this model on a down-stream task to be able to use it for predictions and inference.\n"
     ]
    },
    {
     "name": "stdout",
     "output_type": "stream",
     "text": [
      "Evaluation result:\n",
      "- Coherence: 4.0 \n",
      "  - The model's response logically aligns with the context by explaining possible causes of miscarriages. It provides relevant information about general risk factors, though it does not completely address the personal details in the query.\n",
      "\n",
      "- Completeness: 2.5 \n",
      "  - The model provides some potential causes of miscarriages but does not offer specific diagnostic actions or recommendations as suggested in the true answer. It lacks specific guidance relevant to proceeding with health follow-ups.\n",
      "\n",
      "- Naturalness: 4.5 \n",
      "  - The response is fluent and sounds human-like, using empathetic language and coherent structure. It reads as something a real doctor might say in explaining general causes of miscarriage.\n"
     ]
    },
    {
     "name": "stderr",
     "output_type": "stream",
     "text": [
      "Some weights of RobertaModel were not initialized from the model checkpoint at roberta-large and are newly initialized: ['roberta.pooler.dense.bias', 'roberta.pooler.dense.weight']\n",
      "You should probably TRAIN this model on a down-stream task to be able to use it for predictions and inference.\n"
     ]
    },
    {
     "name": "stdout",
     "output_type": "stream",
     "text": [
      "Evaluation result:\n",
      "- Coherence: 4.0  \n",
      "  - The model's response logically aligns with the context provided in the input, discussing diet, lifestyle, and general health advice. However, it lacks specificity regarding the details of the test results, especially concerning the notable vitamin D level.\n",
      "\n",
      "- Completeness: 3.0  \n",
      "  - While the model provides general advice on maintaining a healthy lifestyle, it misses addressing the key concern about the borderline vitamin D level, which is pointed out in the true answer. The recommendation for specific supplements or preventive measures tailored to the test results is absent.\n",
      "\n",
      "- Naturalness: 4.5  \n",
      "  - The model's language is fluent and human-like, offering broad health advice. It reads like a professional healthcare response, though it is somewhat generic and less personalized regarding the test results.\n"
     ]
    },
    {
     "name": "stderr",
     "output_type": "stream",
     "text": [
      "Some weights of RobertaModel were not initialized from the model checkpoint at roberta-large and are newly initialized: ['roberta.pooler.dense.bias', 'roberta.pooler.dense.weight']\n",
      "You should probably TRAIN this model on a down-stream task to be able to use it for predictions and inference.\n"
     ]
    },
    {
     "name": "stdout",
     "output_type": "stream",
     "text": [
      "Evaluation result:\n",
      "- Coherence: 4.5 - The model's response logically addresses the concern about high blood sugar levels and suggests immediate consultation with a doctor, aligning with the context. However, it does not directly address all aspects of the specific situation mentioned, such as the medication and fasting inquiry.\n",
      "  \n",
      "- Completeness: 2.0 - The response does not adequately answer all parts of the user's question. It fails to address the inquiry about whether the patient can continue fasting and taking the current medication. Additionally, it lacks detailed advice on immediate steps to lower blood sugar.\n",
      "  \n",
      "- Naturalness: 4.7 - The response is fluent and human-like in tone. It appears polite and provides comfort while suggesting action, although more detail could be included to enhance its helpfulness.\n"
     ]
    },
    {
     "name": "stderr",
     "output_type": "stream",
     "text": [
      "Some weights of RobertaModel were not initialized from the model checkpoint at roberta-large and are newly initialized: ['roberta.pooler.dense.bias', 'roberta.pooler.dense.weight']\n",
      "You should probably TRAIN this model on a down-stream task to be able to use it for predictions and inference.\n"
     ]
    },
    {
     "name": "stdout",
     "output_type": "stream",
     "text": [
      "Evaluation result:\n",
      "- Coherence: 4.5  \n",
      "  The model's response logically aligns with the context provided in the input. It acknowledges the recurrence of high blood sugar levels and the need for consultation with a healthcare professional, which is coherent with the user's situation.\n",
      "\n",
      "- Completeness: 4.0  \n",
      "  The model sufficiently answers the question by suggesting monitoring blood sugar, modifying lifestyle, and consulting a physician. However, it falls short of providing specific target blood sugar levels or addressing potential causes and details about the patient's condition, such as age or future pregnancy, that were mentioned in the true answer.\n",
      "\n",
      "- Naturalness: 4.8  \n",
      "  The response is mostly fluent and reads in a human-like manner. It uses polite language and typical conversational constructs expected in a medical advice context. The structure is coherent and sound, making it quite natural.\n"
     ]
    },
    {
     "name": "stderr",
     "output_type": "stream",
     "text": [
      "Some weights of RobertaModel were not initialized from the model checkpoint at roberta-large and are newly initialized: ['roberta.pooler.dense.bias', 'roberta.pooler.dense.weight']\n",
      "You should probably TRAIN this model on a down-stream task to be able to use it for predictions and inference.\n"
     ]
    },
    {
     "name": "stdout",
     "output_type": "stream",
     "text": [
      "Evaluation result:\n",
      "- Coherence: 1.0  \n",
      "  The model's response doesn't address the details in the input or provide any relevant information regarding the patient's condition or inquiry. \n",
      "\n",
      "- Completeness: 1.0  \n",
      "  The response lacks any diagnostic suggestion, potential treatment options, or advice, leaving the question unanswered.\n",
      "\n",
      "- Naturalness: 1.0  \n",
      "  The response is merely an incomplete salutation (\"Dear Patient\") and lacks any substantive content, thus failing to provide a human-like, fluent reply.\n"
     ]
    },
    {
     "name": "stderr",
     "output_type": "stream",
     "text": [
      "Some weights of RobertaModel were not initialized from the model checkpoint at roberta-large and are newly initialized: ['roberta.pooler.dense.bias', 'roberta.pooler.dense.weight']\n",
      "You should probably TRAIN this model on a down-stream task to be able to use it for predictions and inference.\n"
     ]
    },
    {
     "name": "stdout",
     "output_type": "stream",
     "text": [
      "Evaluation result:\n",
      "- Coherence: 3.0  \n",
      "  The model’s response is coherent in terms of addressing the concern about chest pain. It advises that there are many causes of chest pain and cautions against jumping to conclusions. However, it stops abruptly, which affects the logical flow.\n",
      "\n",
      "- Completeness: 2.0  \n",
      "  The response does not provide a comprehensive answer to the user's question about whether the pain could be serious. It offers no additional guidance or follow-up questions that a doctor might ask, as indicated in the true answer, which gathers more detailed information before evaluating the seriousness.\n",
      "\n",
      "- Naturalness: 4.0  \n",
      "  The response is somewhat natural in tone, resembling how a doctor might begin to reassure a patient conversationally. However, the abrupt ending makes it feel less human-like and more like a cut-off statement.\n"
     ]
    },
    {
     "name": "stderr",
     "output_type": "stream",
     "text": [
      "Some weights of RobertaModel were not initialized from the model checkpoint at roberta-large and are newly initialized: ['roberta.pooler.dense.bias', 'roberta.pooler.dense.weight']\n",
      "You should probably TRAIN this model on a down-stream task to be able to use it for predictions and inference.\n"
     ]
    },
    {
     "name": "stdout",
     "output_type": "stream",
     "text": [
      "Evaluation result:\n",
      "- Coherence: 1.0\n",
      "- Completeness: 1.0\n",
      "- Naturalness: 1.0\n",
      "\n",
      "**Evaluation:**\n",
      "\n",
      "1. **Coherence**: The model's response only contains a salutation (\"Dear [Patient],\"), which does not logically align with the context provided in the input or address any specific details regarding the patient's conditions or question. Therefore, the coherence is rated very low.\n",
      "\n",
      "2. **Completeness**: The response does not provide any answer to the patient’s question about the elevated CRP level and the discrepancy with the normal ESR. It lacks any form of explanation or information, resulting in a minimal completeness score.\n",
      "\n",
      "3. **Naturalness**: The response appears as an incomplete fragment and does not resemble a natural or fluent communication. It lacks the necessary content and structure typical of a human-like interaction, hence a low score for naturalness.\n"
     ]
    },
    {
     "name": "stderr",
     "output_type": "stream",
     "text": [
      "Some weights of RobertaModel were not initialized from the model checkpoint at roberta-large and are newly initialized: ['roberta.pooler.dense.bias', 'roberta.pooler.dense.weight']\n",
      "You should probably TRAIN this model on a down-stream task to be able to use it for predictions and inference.\n"
     ]
    },
    {
     "name": "stdout",
     "output_type": "stream",
     "text": [
      "평균 점수:\n",
      "Coherence       3.014000\n",
      "Completeness    2.252000\n",
      "Naturalness     3.451000\n",
      "BLEURT          0.548402\n",
      "BERTScore_F1    0.516729\n",
      "dtype: float64\n"
     ]
    }
   ],
   "source": [
    "# generation\n",
    "\n",
    "import openai\n",
    "import pandas as pd\n",
    "import re\n",
    "from sklearn.metrics import f1_score\n",
    "from bert_score import score as bert_score\n",
    "from transformers import AutoTokenizer, AutoModelForSequenceClassification\n",
    "import torch\n",
    "import os\n",
    "from dotenv import load_dotenv\n",
    "\n",
    "load_dotenv()\n",
    "openai.api_key = os.getenv(\"OPENAI_API_KEY\")\n",
    "\n",
    "# BLEURT 모델 로드\n",
    "bleurt_model_name = \"Elron/bleurt-large-512\"\n",
    "tokenizer = AutoTokenizer.from_pretrained(bleurt_model_name)\n",
    "bleurt_model = AutoModelForSequenceClassification.from_pretrained(bleurt_model_name)\n",
    "bleurt_model.eval()\n",
    "\n",
    "device = torch.device(\"cuda\" if torch.cuda.is_available() else \"cpu\")\n",
    "bleurt_model = bleurt_model.to(device)\n",
    "\n",
    "MAX_CONTEXT_LENGTH = 8192\n",
    "\n",
    "# GPT-4 평가 함수\n",
    "def evaluate_with_gpt4(input_text, model_output, true_output):\n",
    "    input_text = str(input_text)[:MAX_CONTEXT_LENGTH]\n",
    "    model_output = str(model_output)[:MAX_CONTEXT_LENGTH]\n",
    "    true_output = str(true_output)[:MAX_CONTEXT_LENGTH]\n",
    "\n",
    "    prompt = f\"\"\"\n",
    "    You are tasked with evaluating the quality of a QA model's responses based on the following metrics:\n",
    "    1. **Coherence**: Does the model's response logically align with the context provided in the input?\n",
    "    2. **Completeness**: Does the model's response sufficiently answer the question in the input?\n",
    "    3. **Naturalness**: Does the model's response sound fluent and human-like?\n",
    "\n",
    "    **Input**:\n",
    "    {input_text}\n",
    "\n",
    "    **Model's Response**:\n",
    "    {model_output}\n",
    "\n",
    "    **True Answer**:\n",
    "    {true_output}\n",
    "\n",
    "    Please rate each metric on a scale from 1 to 5. \n",
    "    Example response format:\n",
    "    - Coherence: X.X\n",
    "    - Completeness: X.X\n",
    "    - Naturalness: X.X\n",
    "    \"\"\"\n",
    "    try:\n",
    "        client = openai.OpenAI()\n",
    "        response = client.chat.completions.create(\n",
    "            model=\"gpt-4o\",\n",
    "            messages=[\n",
    "                {\"role\": \"system\", \"content\": \"You are an expert evaluator for Summarization models.\"},\n",
    "                {\"role\": \"user\", \"content\": prompt}\n",
    "            ]\n",
    "        )\n",
    "        return response.choices[0].message.content\n",
    "    except Exception as e:\n",
    "        print(\"Error with GPT-4 API:\", e)\n",
    "        return None\n",
    "\n",
    "# GPT-4 점수 추출\n",
    "def extract_scores(evaluation):\n",
    "    if evaluation is None:\n",
    "        return {\"Coherence\": 0.0, \"Completeness\": 0.0, \"Naturalness\": 0.0}\n",
    "    coherence = re.search(r\"Coherence: (\\d\\.\\d)\", evaluation)\n",
    "    completeness = re.search(r\"Completeness: (\\d\\.\\d)\", evaluation)\n",
    "    naturalness = re.search(r\"Naturalness: (\\d\\.\\d)\", evaluation)\n",
    "    \n",
    "    return {\n",
    "        \"Coherence\": float(coherence.group(1)) if coherence else 0.0,\n",
    "        \"Completeness\": float(completeness.group(1)) if completeness else 0.0,\n",
    "        \"Naturalness\": float(naturalness.group(1)) if naturalness else 0.0\n",
    "    }\n",
    "\n",
    "# BLEURT 점수 계산\n",
    "def calculate_bleurt(y_true, y_pred):\n",
    "    inputs = tokenizer(y_pred, y_true, return_tensors=\"pt\", padding=True, truncation=True, max_length=512)\n",
    "    inputs = {key: value.to(device) for key, value in inputs.items()}\n",
    "    \n",
    "    with torch.no_grad():\n",
    "        scores = bleurt_model(**inputs).logits\n",
    "\n",
    "    if scores.numel() == 1:\n",
    "        return float(scores.squeeze().item())  \n",
    "    return [float(score) for score in scores.squeeze().tolist()]  \n",
    "\n",
    "# BLEURT 및 BERTScore 계산\n",
    "def calculate_bleurt_and_bertscore(y_true, y_pred):\n",
    "    bleurt_score_value = calculate_bleurt(y_true, y_pred)\n",
    "    _, _, bert_f1 = bert_score(y_pred, y_true, lang=\"en\", rescale_with_baseline=True)\n",
    "    bert_f1_avg = sum(bert_f1) / len(bert_f1) if len(bert_f1) > 0 else 0\n",
    "\n",
    "    return {\n",
    "        \"BLEURT\": bleurt_score_value if isinstance(bleurt_score_value, float) else sum(bleurt_score_value) / len(bleurt_score_value),\n",
    "        \"BERTScore_F1\": bert_f1_avg\n",
    "    }\n",
    "\n",
    "# 점수 정규화 함수\n",
    "def normalize_scores(df, column):\n",
    "    if column not in df.columns:\n",
    "        print(f\"Warning: Column {column} not found in DataFrame. Skipping normalization.\")\n",
    "        return df\n",
    "    df[column] = df[column].apply(lambda x: float(x) if isinstance(x, torch.Tensor) else x)\n",
    "    min_val, max_val = df[column].min(), df[column].max()\n",
    "    df[column] = df[column].apply(lambda x: (x - min_val) / (max_val - min_val) if max_val > min_val else 0.5)\n",
    "    return df\n",
    "\n",
    "generation = df[df['task'] == 'generation']\n",
    "results = []\n",
    "\n",
    "for _, row in generation.iterrows():\n",
    "    input_text = str(row['input'])\n",
    "    model_output = str(row['model_output_512'])\n",
    "    true_output = str(row['output'])\n",
    "    \n",
    "    evaluation = evaluate_with_gpt4(input_text, model_output, true_output)\n",
    "    print(f\"Evaluation result:\\n{evaluation}\")\n",
    "    \n",
    "    scores = extract_scores(evaluation)\n",
    "    metric_scores = calculate_bleurt_and_bertscore([true_output], [model_output])\n",
    "\n",
    "    results.append({\n",
    "        \"input\": input_text,\n",
    "        \"model_output\": model_output,\n",
    "        \"true_output\": true_output,\n",
    "        \"evaluation\": evaluation,\n",
    "        \"Coherence\": scores[\"Coherence\"],\n",
    "        \"Completeness\": scores[\"Completeness\"],\n",
    "        \"Naturalness\": scores[\"Naturalness\"],\n",
    "        \"BLEURT\": metric_scores.get(\"BLEURT\", 0.0),  # 기본값 설정\n",
    "        \"BERTScore_F1\": metric_scores.get(\"BERTScore_F1\", 0.0)\n",
    "    })\n",
    "\n",
    "evaluation_df = pd.DataFrame(results)\n",
    "\n",
    "# 'BLEURT' 컬럼이 존재하는지 확인 후 정규화 수행\n",
    "evaluation_df = normalize_scores(evaluation_df, \"BLEURT\")\n",
    "evaluation_df = normalize_scores(evaluation_df, \"BERTScore_F1\")\n",
    "\n",
    "average_scores = evaluation_df[[\"Coherence\", \"Completeness\", \"Naturalness\", \"BLEURT\", \"BERTScore_F1\"]].mean()\n",
    "print(\"평균 점수:\")\n",
    "print(average_scores)\n"
   ]
  },
  {
   "cell_type": "code",
   "execution_count": 20,
   "metadata": {},
   "outputs": [
    {
     "name": "stdout",
     "output_type": "stream",
     "text": [
      "Warning: Column BLEURT not found in DataFrame. Skipping normalization.\n",
      "Warning: Column BERTScore_F1 not found in DataFrame. Skipping normalization.\n"
     ]
    },
    {
     "ename": "KeyError",
     "evalue": "\"None of [Index(['Coherence', 'Completeness', 'Naturalness', 'BLEURT', 'BERTScore_F1'], dtype='object')] are in the [columns]\"",
     "output_type": "error",
     "traceback": [
      "\u001b[0;31m---------------------------------------------------------------------------\u001b[0m",
      "\u001b[0;31mKeyError\u001b[0m                                  Traceback (most recent call last)",
      "Cell \u001b[0;32mIn[20], line 147\u001b[0m\n\u001b[1;32m    144\u001b[0m evaluation_df \u001b[38;5;241m=\u001b[39m normalize_scores(evaluation_df, \u001b[38;5;124m\"\u001b[39m\u001b[38;5;124mBLEURT\u001b[39m\u001b[38;5;124m\"\u001b[39m)\n\u001b[1;32m    145\u001b[0m evaluation_df \u001b[38;5;241m=\u001b[39m normalize_scores(evaluation_df, \u001b[38;5;124m\"\u001b[39m\u001b[38;5;124mBERTScore_F1\u001b[39m\u001b[38;5;124m\"\u001b[39m)\n\u001b[0;32m--> 147\u001b[0m average_scores \u001b[38;5;241m=\u001b[39m evaluation_df[[\u001b[38;5;124m\"\u001b[39m\u001b[38;5;124mCoherence\u001b[39m\u001b[38;5;124m\"\u001b[39m, \u001b[38;5;124m\"\u001b[39m\u001b[38;5;124mCompleteness\u001b[39m\u001b[38;5;124m\"\u001b[39m, \u001b[38;5;124m\"\u001b[39m\u001b[38;5;124mNaturalness\u001b[39m\u001b[38;5;124m\"\u001b[39m, \u001b[38;5;124m\"\u001b[39m\u001b[38;5;124mBLEURT\u001b[39m\u001b[38;5;124m\"\u001b[39m, \u001b[38;5;124m\"\u001b[39m\u001b[38;5;124mBERTScore_F1\u001b[39m\u001b[38;5;124m\"\u001b[39m]]\u001b[38;5;241m.\u001b[39mmean()\n\u001b[1;32m    148\u001b[0m \u001b[38;5;28mprint\u001b[39m(\u001b[38;5;124m\"\u001b[39m\u001b[38;5;124m평균 점수:\u001b[39m\u001b[38;5;124m\"\u001b[39m)\n\u001b[1;32m    149\u001b[0m \u001b[38;5;28mprint\u001b[39m(average_scores)\n",
      "File \u001b[0;32m~/anaconda3/envs/unsloth_env/lib/python3.11/site-packages/pandas/core/frame.py:4108\u001b[0m, in \u001b[0;36mDataFrame.__getitem__\u001b[0;34m(self, key)\u001b[0m\n\u001b[1;32m   4106\u001b[0m     \u001b[38;5;28;01mif\u001b[39;00m is_iterator(key):\n\u001b[1;32m   4107\u001b[0m         key \u001b[38;5;241m=\u001b[39m \u001b[38;5;28mlist\u001b[39m(key)\n\u001b[0;32m-> 4108\u001b[0m     indexer \u001b[38;5;241m=\u001b[39m \u001b[38;5;28mself\u001b[39m\u001b[38;5;241m.\u001b[39mcolumns\u001b[38;5;241m.\u001b[39m_get_indexer_strict(key, \u001b[38;5;124m\"\u001b[39m\u001b[38;5;124mcolumns\u001b[39m\u001b[38;5;124m\"\u001b[39m)[\u001b[38;5;241m1\u001b[39m]\n\u001b[1;32m   4110\u001b[0m \u001b[38;5;66;03m# take() does not accept boolean indexers\u001b[39;00m\n\u001b[1;32m   4111\u001b[0m \u001b[38;5;28;01mif\u001b[39;00m \u001b[38;5;28mgetattr\u001b[39m(indexer, \u001b[38;5;124m\"\u001b[39m\u001b[38;5;124mdtype\u001b[39m\u001b[38;5;124m\"\u001b[39m, \u001b[38;5;28;01mNone\u001b[39;00m) \u001b[38;5;241m==\u001b[39m \u001b[38;5;28mbool\u001b[39m:\n",
      "File \u001b[0;32m~/anaconda3/envs/unsloth_env/lib/python3.11/site-packages/pandas/core/indexes/base.py:6200\u001b[0m, in \u001b[0;36mIndex._get_indexer_strict\u001b[0;34m(self, key, axis_name)\u001b[0m\n\u001b[1;32m   6197\u001b[0m \u001b[38;5;28;01melse\u001b[39;00m:\n\u001b[1;32m   6198\u001b[0m     keyarr, indexer, new_indexer \u001b[38;5;241m=\u001b[39m \u001b[38;5;28mself\u001b[39m\u001b[38;5;241m.\u001b[39m_reindex_non_unique(keyarr)\n\u001b[0;32m-> 6200\u001b[0m \u001b[38;5;28mself\u001b[39m\u001b[38;5;241m.\u001b[39m_raise_if_missing(keyarr, indexer, axis_name)\n\u001b[1;32m   6202\u001b[0m keyarr \u001b[38;5;241m=\u001b[39m \u001b[38;5;28mself\u001b[39m\u001b[38;5;241m.\u001b[39mtake(indexer)\n\u001b[1;32m   6203\u001b[0m \u001b[38;5;28;01mif\u001b[39;00m \u001b[38;5;28misinstance\u001b[39m(key, Index):\n\u001b[1;32m   6204\u001b[0m     \u001b[38;5;66;03m# GH 42790 - Preserve name from an Index\u001b[39;00m\n",
      "File \u001b[0;32m~/anaconda3/envs/unsloth_env/lib/python3.11/site-packages/pandas/core/indexes/base.py:6249\u001b[0m, in \u001b[0;36mIndex._raise_if_missing\u001b[0;34m(self, key, indexer, axis_name)\u001b[0m\n\u001b[1;32m   6247\u001b[0m \u001b[38;5;28;01mif\u001b[39;00m nmissing:\n\u001b[1;32m   6248\u001b[0m     \u001b[38;5;28;01mif\u001b[39;00m nmissing \u001b[38;5;241m==\u001b[39m \u001b[38;5;28mlen\u001b[39m(indexer):\n\u001b[0;32m-> 6249\u001b[0m         \u001b[38;5;28;01mraise\u001b[39;00m \u001b[38;5;167;01mKeyError\u001b[39;00m(\u001b[38;5;124mf\u001b[39m\u001b[38;5;124m\"\u001b[39m\u001b[38;5;124mNone of [\u001b[39m\u001b[38;5;132;01m{\u001b[39;00mkey\u001b[38;5;132;01m}\u001b[39;00m\u001b[38;5;124m] are in the [\u001b[39m\u001b[38;5;132;01m{\u001b[39;00maxis_name\u001b[38;5;132;01m}\u001b[39;00m\u001b[38;5;124m]\u001b[39m\u001b[38;5;124m\"\u001b[39m)\n\u001b[1;32m   6251\u001b[0m     not_found \u001b[38;5;241m=\u001b[39m \u001b[38;5;28mlist\u001b[39m(ensure_index(key)[missing_mask\u001b[38;5;241m.\u001b[39mnonzero()[\u001b[38;5;241m0\u001b[39m]]\u001b[38;5;241m.\u001b[39munique())\n\u001b[1;32m   6252\u001b[0m     \u001b[38;5;28;01mraise\u001b[39;00m \u001b[38;5;167;01mKeyError\u001b[39;00m(\u001b[38;5;124mf\u001b[39m\u001b[38;5;124m\"\u001b[39m\u001b[38;5;132;01m{\u001b[39;00mnot_found\u001b[38;5;132;01m}\u001b[39;00m\u001b[38;5;124m not in index\u001b[39m\u001b[38;5;124m\"\u001b[39m)\n",
      "\u001b[0;31mKeyError\u001b[0m: \"None of [Index(['Coherence', 'Completeness', 'Naturalness', 'BLEURT', 'BERTScore_F1'], dtype='object')] are in the [columns]\""
     ]
    }
   ],
   "source": [
    "# daily_diets\n",
    "\n",
    "import openai\n",
    "import pandas as pd\n",
    "import re\n",
    "from sklearn.metrics import f1_score\n",
    "from bert_score import score as bert_score\n",
    "from transformers import AutoTokenizer, AutoModelForSequenceClassification\n",
    "import torch\n",
    "import os\n",
    "from dotenv import load_dotenv\n",
    "\n",
    "load_dotenv()\n",
    "openai.api_key = os.getenv(\"OPENAI_API_KEY\")\n",
    "\n",
    "# BLEURT 모델 로드\n",
    "bleurt_model_name = \"Elron/bleurt-large-512\"\n",
    "tokenizer = AutoTokenizer.from_pretrained(bleurt_model_name)\n",
    "bleurt_model = AutoModelForSequenceClassification.from_pretrained(bleurt_model_name)\n",
    "bleurt_model.eval()\n",
    "\n",
    "device = torch.device(\"cuda\" if torch.cuda.is_available() else \"cpu\")\n",
    "bleurt_model = bleurt_model.to(device)\n",
    "\n",
    "MAX_CONTEXT_LENGTH = 8192\n",
    "\n",
    "# GPT-4 평가 함수\n",
    "def evaluate_with_gpt4(input_text, model_output, true_output):\n",
    "    input_text = str(input_text)[:MAX_CONTEXT_LENGTH]\n",
    "    model_output = str(model_output)[:MAX_CONTEXT_LENGTH]\n",
    "    true_output = str(true_output)[:MAX_CONTEXT_LENGTH]\n",
    "\n",
    "    prompt = f\"\"\"\n",
    "    You are tasked with evaluating the quality of a QA model's responses based on the following metrics:\n",
    "    1. **Coherence**: Does the model's response logically align with the context provided in the input?\n",
    "    2. **Completeness**: Does the model's response sufficiently answer the question in the input?\n",
    "    3. **Naturalness**: Does the model's response sound fluent and human-like?\n",
    "\n",
    "    **Input**:\n",
    "    {input_text}\n",
    "\n",
    "    **Model's Response**:\n",
    "    {model_output}\n",
    "\n",
    "    **True Answer**:\n",
    "    {true_output}\n",
    "\n",
    "    Please rate each metric on a scale from 1 to 5. \n",
    "    Example response format:\n",
    "    - Coherence: X.X\n",
    "    - Completeness: X.X\n",
    "    - Naturalness: X.X\n",
    "    \"\"\"\n",
    "    try:\n",
    "        response = openai.ChatCompletion.create(\n",
    "            model=\"gpt-4o\",\n",
    "            messages=[\n",
    "                {\"role\": \"system\", \"content\": \"You are an expert evaluator for Summarization models.\"},\n",
    "                {\"role\": \"user\", \"content\": prompt}\n",
    "            ]\n",
    "        )\n",
    "        return response[\"choices\"][0][\"message\"][\"content\"]\n",
    "    except Exception as e:\n",
    "        print(\"Error with GPT-4 API:\", e)\n",
    "        return None\n",
    "\n",
    "# GPT-4 점수 추출\n",
    "def extract_scores(evaluation):\n",
    "    if evaluation is None:\n",
    "        return {\"Coherence\": 0.0, \"Completeness\": 0.0, \"Naturalness\": 0.0}\n",
    "    coherence = re.search(r\"Coherence: (\\d\\.\\d)\", evaluation)\n",
    "    completeness = re.search(r\"Completeness: (\\d\\.\\d)\", evaluation)\n",
    "    naturalness = re.search(r\"Naturalness: (\\d\\.\\d)\", evaluation)\n",
    "    \n",
    "    return {\n",
    "        \"Coherence\": float(coherence.group(1)) if coherence else 0.0,\n",
    "        \"Completeness\": float(completeness.group(1)) if completeness else 0.0,\n",
    "        \"Naturalness\": float(naturalness.group(1)) if naturalness else 0.0\n",
    "    }\n",
    "\n",
    "# BLEURT 점수 계산\n",
    "def calculate_bleurt(y_true, y_pred):\n",
    "    inputs = tokenizer(y_pred, y_true, return_tensors=\"pt\", padding=True, truncation=True, max_length=512)\n",
    "    inputs = {key: value.to(device) for key, value in inputs.items()}\n",
    "    \n",
    "    with torch.no_grad():\n",
    "        scores = bleurt_model(**inputs).logits\n",
    "\n",
    "    if scores.numel() == 1:\n",
    "        return float(scores.squeeze().item())  \n",
    "    return [float(score) for score in scores.squeeze().tolist()]  \n",
    "\n",
    "# BLEURT 및 BERTScore 계산\n",
    "def calculate_bleurt_and_bertscore(y_true, y_pred):\n",
    "    bleurt_score_value = calculate_bleurt(y_true, y_pred)\n",
    "    _, _, bert_f1 = bert_score(y_pred, y_true, lang=\"en\", rescale_with_baseline=True)\n",
    "    bert_f1_avg = sum(bert_f1) / len(bert_f1) if len(bert_f1) > 0 else 0\n",
    "\n",
    "    return {\n",
    "        \"BLEURT\": bleurt_score_value if isinstance(bleurt_score_value, float) else sum(bleurt_score_value) / len(bleurt_score_value),\n",
    "        \"BERTScore_F1\": bert_f1_avg\n",
    "    }\n",
    "\n",
    "# 점수 정규화 함수\n",
    "def normalize_scores(df, column):\n",
    "    if column not in df.columns:\n",
    "        print(f\"Warning: Column {column} not found in DataFrame. Skipping normalization.\")\n",
    "        return df\n",
    "    df[column] = df[column].apply(lambda x: float(x) if isinstance(x, torch.Tensor) else x)\n",
    "    min_val, max_val = df[column].min(), df[column].max()\n",
    "    df[column] = df[column].apply(lambda x: (x - min_val) / (max_val - min_val) if max_val > min_val else 0.5)\n",
    "    return df\n",
    "\n",
    "daily = df[df['task'] == 'daily_diets']\n",
    "results = []\n",
    "\n",
    "for i, row in daily.iterrows():\n",
    "    input_text = str(row['input'])\n",
    "    model_output = str(row['model_outpu_1024'])\n",
    "    true_output = str(row['output'])\n",
    "    \n",
    "    evaluation = evaluate_with_gpt4(input_text, model_output, true_output)\n",
    "    if i % 10 == 0:\n",
    "        print(f\"Evaluation {i+1} result:\\n{evaluation}\")\n",
    "    \n",
    "    scores = extract_scores(evaluation)\n",
    "    metric_scores = calculate_bleurt_and_bertscore([true_output], [model_output])\n",
    "\n",
    "    results.append({\n",
    "        \"input\": input_text,\n",
    "        \"model_output\": model_output,\n",
    "        \"true_output\": true_output,\n",
    "        \"evaluation\": evaluation,\n",
    "        \"Coherence\": scores[\"Coherence\"],\n",
    "        \"Completeness\": scores[\"Completeness\"],\n",
    "        \"Naturalness\": scores[\"Naturalness\"],\n",
    "        \"BLEURT\": metric_scores.get(\"BLEURT\", 0.0),  # 기본값 설정\n",
    "        \"BERTScore_F1\": metric_scores.get(\"BERTScore_F1\", 0.0)\n",
    "    })\n",
    "\n",
    "evaluation_df = pd.DataFrame(results)\n",
    "\n",
    "# 'BLEURT' 컬럼이 존재하는지 확인 후 정규화 수행\n",
    "evaluation_df = normalize_scores(evaluation_df, \"BLEURT\")\n",
    "evaluation_df = normalize_scores(evaluation_df, \"BERTScore_F1\")\n",
    "\n",
    "average_scores = evaluation_df[[\"Coherence\", \"Completeness\", \"Naturalness\", \"BLEURT\", \"BERTScore_F1\"]].mean()\n",
    "print(\"평균 점수:\")\n",
    "print(average_scores)\n"
   ]
  },
  {
   "cell_type": "code",
   "execution_count": 13,
   "metadata": {},
   "outputs": [
    {
     "name": "stderr",
     "output_type": "stream",
     "text": [
      "Some weights of RobertaModel were not initialized from the model checkpoint at roberta-large and are newly initialized: ['roberta.pooler.dense.bias', 'roberta.pooler.dense.weight']\n",
      "You should probably TRAIN this model on a down-stream task to be able to use it for predictions and inference.\n",
      "Some weights of RobertaModel were not initialized from the model checkpoint at roberta-large and are newly initialized: ['roberta.pooler.dense.bias', 'roberta.pooler.dense.weight']\n",
      "You should probably TRAIN this model on a down-stream task to be able to use it for predictions and inference.\n",
      "Some weights of RobertaModel were not initialized from the model checkpoint at roberta-large and are newly initialized: ['roberta.pooler.dense.bias', 'roberta.pooler.dense.weight']\n",
      "You should probably TRAIN this model on a down-stream task to be able to use it for predictions and inference.\n",
      "Some weights of RobertaModel were not initialized from the model checkpoint at roberta-large and are newly initialized: ['roberta.pooler.dense.bias', 'roberta.pooler.dense.weight']\n",
      "You should probably TRAIN this model on a down-stream task to be able to use it for predictions and inference.\n",
      "Some weights of RobertaModel were not initialized from the model checkpoint at roberta-large and are newly initialized: ['roberta.pooler.dense.bias', 'roberta.pooler.dense.weight']\n",
      "You should probably TRAIN this model on a down-stream task to be able to use it for predictions and inference.\n",
      "Some weights of RobertaModel were not initialized from the model checkpoint at roberta-large and are newly initialized: ['roberta.pooler.dense.bias', 'roberta.pooler.dense.weight']\n",
      "You should probably TRAIN this model on a down-stream task to be able to use it for predictions and inference.\n",
      "Some weights of RobertaModel were not initialized from the model checkpoint at roberta-large and are newly initialized: ['roberta.pooler.dense.bias', 'roberta.pooler.dense.weight']\n",
      "You should probably TRAIN this model on a down-stream task to be able to use it for predictions and inference.\n",
      "Some weights of RobertaModel were not initialized from the model checkpoint at roberta-large and are newly initialized: ['roberta.pooler.dense.bias', 'roberta.pooler.dense.weight']\n",
      "You should probably TRAIN this model on a down-stream task to be able to use it for predictions and inference.\n",
      "Some weights of RobertaModel were not initialized from the model checkpoint at roberta-large and are newly initialized: ['roberta.pooler.dense.bias', 'roberta.pooler.dense.weight']\n",
      "You should probably TRAIN this model on a down-stream task to be able to use it for predictions and inference.\n",
      "Some weights of RobertaModel were not initialized from the model checkpoint at roberta-large and are newly initialized: ['roberta.pooler.dense.bias', 'roberta.pooler.dense.weight']\n",
      "You should probably TRAIN this model on a down-stream task to be able to use it for predictions and inference.\n",
      "Some weights of RobertaModel were not initialized from the model checkpoint at roberta-large and are newly initialized: ['roberta.pooler.dense.bias', 'roberta.pooler.dense.weight']\n",
      "You should probably TRAIN this model on a down-stream task to be able to use it for predictions and inference.\n",
      "Some weights of RobertaModel were not initialized from the model checkpoint at roberta-large and are newly initialized: ['roberta.pooler.dense.bias', 'roberta.pooler.dense.weight']\n",
      "You should probably TRAIN this model on a down-stream task to be able to use it for predictions and inference.\n",
      "Some weights of RobertaModel were not initialized from the model checkpoint at roberta-large and are newly initialized: ['roberta.pooler.dense.bias', 'roberta.pooler.dense.weight']\n",
      "You should probably TRAIN this model on a down-stream task to be able to use it for predictions and inference.\n",
      "Some weights of RobertaModel were not initialized from the model checkpoint at roberta-large and are newly initialized: ['roberta.pooler.dense.bias', 'roberta.pooler.dense.weight']\n",
      "You should probably TRAIN this model on a down-stream task to be able to use it for predictions and inference.\n",
      "Some weights of RobertaModel were not initialized from the model checkpoint at roberta-large and are newly initialized: ['roberta.pooler.dense.bias', 'roberta.pooler.dense.weight']\n",
      "You should probably TRAIN this model on a down-stream task to be able to use it for predictions and inference.\n",
      "Some weights of RobertaModel were not initialized from the model checkpoint at roberta-large and are newly initialized: ['roberta.pooler.dense.bias', 'roberta.pooler.dense.weight']\n",
      "You should probably TRAIN this model on a down-stream task to be able to use it for predictions and inference.\n",
      "Some weights of RobertaModel were not initialized from the model checkpoint at roberta-large and are newly initialized: ['roberta.pooler.dense.bias', 'roberta.pooler.dense.weight']\n",
      "You should probably TRAIN this model on a down-stream task to be able to use it for predictions and inference.\n",
      "Some weights of RobertaModel were not initialized from the model checkpoint at roberta-large and are newly initialized: ['roberta.pooler.dense.bias', 'roberta.pooler.dense.weight']\n",
      "You should probably TRAIN this model on a down-stream task to be able to use it for predictions and inference.\n",
      "Some weights of RobertaModel were not initialized from the model checkpoint at roberta-large and are newly initialized: ['roberta.pooler.dense.bias', 'roberta.pooler.dense.weight']\n",
      "You should probably TRAIN this model on a down-stream task to be able to use it for predictions and inference.\n",
      "Some weights of RobertaModel were not initialized from the model checkpoint at roberta-large and are newly initialized: ['roberta.pooler.dense.bias', 'roberta.pooler.dense.weight']\n",
      "You should probably TRAIN this model on a down-stream task to be able to use it for predictions and inference.\n",
      "Some weights of RobertaModel were not initialized from the model checkpoint at roberta-large and are newly initialized: ['roberta.pooler.dense.bias', 'roberta.pooler.dense.weight']\n",
      "You should probably TRAIN this model on a down-stream task to be able to use it for predictions and inference.\n",
      "Some weights of RobertaModel were not initialized from the model checkpoint at roberta-large and are newly initialized: ['roberta.pooler.dense.bias', 'roberta.pooler.dense.weight']\n",
      "You should probably TRAIN this model on a down-stream task to be able to use it for predictions and inference.\n",
      "Some weights of RobertaModel were not initialized from the model checkpoint at roberta-large and are newly initialized: ['roberta.pooler.dense.bias', 'roberta.pooler.dense.weight']\n",
      "You should probably TRAIN this model on a down-stream task to be able to use it for predictions and inference.\n",
      "Some weights of RobertaModel were not initialized from the model checkpoint at roberta-large and are newly initialized: ['roberta.pooler.dense.bias', 'roberta.pooler.dense.weight']\n",
      "You should probably TRAIN this model on a down-stream task to be able to use it for predictions and inference.\n",
      "Some weights of RobertaModel were not initialized from the model checkpoint at roberta-large and are newly initialized: ['roberta.pooler.dense.bias', 'roberta.pooler.dense.weight']\n",
      "You should probably TRAIN this model on a down-stream task to be able to use it for predictions and inference.\n",
      "Some weights of RobertaModel were not initialized from the model checkpoint at roberta-large and are newly initialized: ['roberta.pooler.dense.bias', 'roberta.pooler.dense.weight']\n",
      "You should probably TRAIN this model on a down-stream task to be able to use it for predictions and inference.\n",
      "Some weights of RobertaModel were not initialized from the model checkpoint at roberta-large and are newly initialized: ['roberta.pooler.dense.bias', 'roberta.pooler.dense.weight']\n",
      "You should probably TRAIN this model on a down-stream task to be able to use it for predictions and inference.\n",
      "Some weights of RobertaModel were not initialized from the model checkpoint at roberta-large and are newly initialized: ['roberta.pooler.dense.bias', 'roberta.pooler.dense.weight']\n",
      "You should probably TRAIN this model on a down-stream task to be able to use it for predictions and inference.\n",
      "Some weights of RobertaModel were not initialized from the model checkpoint at roberta-large and are newly initialized: ['roberta.pooler.dense.bias', 'roberta.pooler.dense.weight']\n",
      "You should probably TRAIN this model on a down-stream task to be able to use it for predictions and inference.\n",
      "Some weights of RobertaModel were not initialized from the model checkpoint at roberta-large and are newly initialized: ['roberta.pooler.dense.bias', 'roberta.pooler.dense.weight']\n",
      "You should probably TRAIN this model on a down-stream task to be able to use it for predictions and inference.\n",
      "Some weights of RobertaModel were not initialized from the model checkpoint at roberta-large and are newly initialized: ['roberta.pooler.dense.bias', 'roberta.pooler.dense.weight']\n",
      "You should probably TRAIN this model on a down-stream task to be able to use it for predictions and inference.\n",
      "Some weights of RobertaModel were not initialized from the model checkpoint at roberta-large and are newly initialized: ['roberta.pooler.dense.bias', 'roberta.pooler.dense.weight']\n",
      "You should probably TRAIN this model on a down-stream task to be able to use it for predictions and inference.\n",
      "Some weights of RobertaModel were not initialized from the model checkpoint at roberta-large and are newly initialized: ['roberta.pooler.dense.bias', 'roberta.pooler.dense.weight']\n",
      "You should probably TRAIN this model on a down-stream task to be able to use it for predictions and inference.\n",
      "Some weights of RobertaModel were not initialized from the model checkpoint at roberta-large and are newly initialized: ['roberta.pooler.dense.bias', 'roberta.pooler.dense.weight']\n",
      "You should probably TRAIN this model on a down-stream task to be able to use it for predictions and inference.\n",
      "Some weights of RobertaModel were not initialized from the model checkpoint at roberta-large and are newly initialized: ['roberta.pooler.dense.bias', 'roberta.pooler.dense.weight']\n",
      "You should probably TRAIN this model on a down-stream task to be able to use it for predictions and inference.\n",
      "Some weights of RobertaModel were not initialized from the model checkpoint at roberta-large and are newly initialized: ['roberta.pooler.dense.bias', 'roberta.pooler.dense.weight']\n",
      "You should probably TRAIN this model on a down-stream task to be able to use it for predictions and inference.\n",
      "Some weights of RobertaModel were not initialized from the model checkpoint at roberta-large and are newly initialized: ['roberta.pooler.dense.bias', 'roberta.pooler.dense.weight']\n",
      "You should probably TRAIN this model on a down-stream task to be able to use it for predictions and inference.\n",
      "Some weights of RobertaModel were not initialized from the model checkpoint at roberta-large and are newly initialized: ['roberta.pooler.dense.bias', 'roberta.pooler.dense.weight']\n",
      "You should probably TRAIN this model on a down-stream task to be able to use it for predictions and inference.\n",
      "Some weights of RobertaModel were not initialized from the model checkpoint at roberta-large and are newly initialized: ['roberta.pooler.dense.bias', 'roberta.pooler.dense.weight']\n",
      "You should probably TRAIN this model on a down-stream task to be able to use it for predictions and inference.\n",
      "Some weights of RobertaModel were not initialized from the model checkpoint at roberta-large and are newly initialized: ['roberta.pooler.dense.bias', 'roberta.pooler.dense.weight']\n",
      "You should probably TRAIN this model on a down-stream task to be able to use it for predictions and inference.\n",
      "Some weights of RobertaModel were not initialized from the model checkpoint at roberta-large and are newly initialized: ['roberta.pooler.dense.bias', 'roberta.pooler.dense.weight']\n",
      "You should probably TRAIN this model on a down-stream task to be able to use it for predictions and inference.\n",
      "Some weights of RobertaModel were not initialized from the model checkpoint at roberta-large and are newly initialized: ['roberta.pooler.dense.bias', 'roberta.pooler.dense.weight']\n",
      "You should probably TRAIN this model on a down-stream task to be able to use it for predictions and inference.\n",
      "Some weights of RobertaModel were not initialized from the model checkpoint at roberta-large and are newly initialized: ['roberta.pooler.dense.bias', 'roberta.pooler.dense.weight']\n",
      "You should probably TRAIN this model on a down-stream task to be able to use it for predictions and inference.\n",
      "Some weights of RobertaModel were not initialized from the model checkpoint at roberta-large and are newly initialized: ['roberta.pooler.dense.bias', 'roberta.pooler.dense.weight']\n",
      "You should probably TRAIN this model on a down-stream task to be able to use it for predictions and inference.\n",
      "Some weights of RobertaModel were not initialized from the model checkpoint at roberta-large and are newly initialized: ['roberta.pooler.dense.bias', 'roberta.pooler.dense.weight']\n",
      "You should probably TRAIN this model on a down-stream task to be able to use it for predictions and inference.\n",
      "Some weights of RobertaModel were not initialized from the model checkpoint at roberta-large and are newly initialized: ['roberta.pooler.dense.bias', 'roberta.pooler.dense.weight']\n",
      "You should probably TRAIN this model on a down-stream task to be able to use it for predictions and inference.\n",
      "Some weights of RobertaModel were not initialized from the model checkpoint at roberta-large and are newly initialized: ['roberta.pooler.dense.bias', 'roberta.pooler.dense.weight']\n",
      "You should probably TRAIN this model on a down-stream task to be able to use it for predictions and inference.\n",
      "Some weights of RobertaModel were not initialized from the model checkpoint at roberta-large and are newly initialized: ['roberta.pooler.dense.bias', 'roberta.pooler.dense.weight']\n",
      "You should probably TRAIN this model on a down-stream task to be able to use it for predictions and inference.\n",
      "Some weights of RobertaModel were not initialized from the model checkpoint at roberta-large and are newly initialized: ['roberta.pooler.dense.bias', 'roberta.pooler.dense.weight']\n",
      "You should probably TRAIN this model on a down-stream task to be able to use it for predictions and inference.\n",
      "Some weights of RobertaModel were not initialized from the model checkpoint at roberta-large and are newly initialized: ['roberta.pooler.dense.bias', 'roberta.pooler.dense.weight']\n",
      "You should probably TRAIN this model on a down-stream task to be able to use it for predictions and inference.\n",
      "Some weights of RobertaModel were not initialized from the model checkpoint at roberta-large and are newly initialized: ['roberta.pooler.dense.bias', 'roberta.pooler.dense.weight']\n",
      "You should probably TRAIN this model on a down-stream task to be able to use it for predictions and inference.\n",
      "Some weights of RobertaModel were not initialized from the model checkpoint at roberta-large and are newly initialized: ['roberta.pooler.dense.bias', 'roberta.pooler.dense.weight']\n",
      "You should probably TRAIN this model on a down-stream task to be able to use it for predictions and inference.\n",
      "Some weights of RobertaModel were not initialized from the model checkpoint at roberta-large and are newly initialized: ['roberta.pooler.dense.bias', 'roberta.pooler.dense.weight']\n",
      "You should probably TRAIN this model on a down-stream task to be able to use it for predictions and inference.\n",
      "Some weights of RobertaModel were not initialized from the model checkpoint at roberta-large and are newly initialized: ['roberta.pooler.dense.bias', 'roberta.pooler.dense.weight']\n",
      "You should probably TRAIN this model on a down-stream task to be able to use it for predictions and inference.\n",
      "Some weights of RobertaModel were not initialized from the model checkpoint at roberta-large and are newly initialized: ['roberta.pooler.dense.bias', 'roberta.pooler.dense.weight']\n",
      "You should probably TRAIN this model on a down-stream task to be able to use it for predictions and inference.\n",
      "Some weights of RobertaModel were not initialized from the model checkpoint at roberta-large and are newly initialized: ['roberta.pooler.dense.bias', 'roberta.pooler.dense.weight']\n",
      "You should probably TRAIN this model on a down-stream task to be able to use it for predictions and inference.\n",
      "Some weights of RobertaModel were not initialized from the model checkpoint at roberta-large and are newly initialized: ['roberta.pooler.dense.bias', 'roberta.pooler.dense.weight']\n",
      "You should probably TRAIN this model on a down-stream task to be able to use it for predictions and inference.\n",
      "Some weights of RobertaModel were not initialized from the model checkpoint at roberta-large and are newly initialized: ['roberta.pooler.dense.bias', 'roberta.pooler.dense.weight']\n",
      "You should probably TRAIN this model on a down-stream task to be able to use it for predictions and inference.\n",
      "Some weights of RobertaModel were not initialized from the model checkpoint at roberta-large and are newly initialized: ['roberta.pooler.dense.bias', 'roberta.pooler.dense.weight']\n",
      "You should probably TRAIN this model on a down-stream task to be able to use it for predictions and inference.\n",
      "Some weights of RobertaModel were not initialized from the model checkpoint at roberta-large and are newly initialized: ['roberta.pooler.dense.bias', 'roberta.pooler.dense.weight']\n",
      "You should probably TRAIN this model on a down-stream task to be able to use it for predictions and inference.\n",
      "Some weights of RobertaModel were not initialized from the model checkpoint at roberta-large and are newly initialized: ['roberta.pooler.dense.bias', 'roberta.pooler.dense.weight']\n",
      "You should probably TRAIN this model on a down-stream task to be able to use it for predictions and inference.\n",
      "Some weights of RobertaModel were not initialized from the model checkpoint at roberta-large and are newly initialized: ['roberta.pooler.dense.bias', 'roberta.pooler.dense.weight']\n",
      "You should probably TRAIN this model on a down-stream task to be able to use it for predictions and inference.\n",
      "Some weights of RobertaModel were not initialized from the model checkpoint at roberta-large and are newly initialized: ['roberta.pooler.dense.bias', 'roberta.pooler.dense.weight']\n",
      "You should probably TRAIN this model on a down-stream task to be able to use it for predictions and inference.\n",
      "Some weights of RobertaModel were not initialized from the model checkpoint at roberta-large and are newly initialized: ['roberta.pooler.dense.bias', 'roberta.pooler.dense.weight']\n",
      "You should probably TRAIN this model on a down-stream task to be able to use it for predictions and inference.\n",
      "Some weights of RobertaModel were not initialized from the model checkpoint at roberta-large and are newly initialized: ['roberta.pooler.dense.bias', 'roberta.pooler.dense.weight']\n",
      "You should probably TRAIN this model on a down-stream task to be able to use it for predictions and inference.\n",
      "Some weights of RobertaModel were not initialized from the model checkpoint at roberta-large and are newly initialized: ['roberta.pooler.dense.bias', 'roberta.pooler.dense.weight']\n",
      "You should probably TRAIN this model on a down-stream task to be able to use it for predictions and inference.\n",
      "Some weights of RobertaModel were not initialized from the model checkpoint at roberta-large and are newly initialized: ['roberta.pooler.dense.bias', 'roberta.pooler.dense.weight']\n",
      "You should probably TRAIN this model on a down-stream task to be able to use it for predictions and inference.\n",
      "Some weights of RobertaModel were not initialized from the model checkpoint at roberta-large and are newly initialized: ['roberta.pooler.dense.bias', 'roberta.pooler.dense.weight']\n",
      "You should probably TRAIN this model on a down-stream task to be able to use it for predictions and inference.\n",
      "Some weights of RobertaModel were not initialized from the model checkpoint at roberta-large and are newly initialized: ['roberta.pooler.dense.bias', 'roberta.pooler.dense.weight']\n",
      "You should probably TRAIN this model on a down-stream task to be able to use it for predictions and inference.\n",
      "Some weights of RobertaModel were not initialized from the model checkpoint at roberta-large and are newly initialized: ['roberta.pooler.dense.bias', 'roberta.pooler.dense.weight']\n",
      "You should probably TRAIN this model on a down-stream task to be able to use it for predictions and inference.\n",
      "Some weights of RobertaModel were not initialized from the model checkpoint at roberta-large and are newly initialized: ['roberta.pooler.dense.bias', 'roberta.pooler.dense.weight']\n",
      "You should probably TRAIN this model on a down-stream task to be able to use it for predictions and inference.\n",
      "Some weights of RobertaModel were not initialized from the model checkpoint at roberta-large and are newly initialized: ['roberta.pooler.dense.bias', 'roberta.pooler.dense.weight']\n",
      "You should probably TRAIN this model on a down-stream task to be able to use it for predictions and inference.\n",
      "Some weights of RobertaModel were not initialized from the model checkpoint at roberta-large and are newly initialized: ['roberta.pooler.dense.bias', 'roberta.pooler.dense.weight']\n",
      "You should probably TRAIN this model on a down-stream task to be able to use it for predictions and inference.\n",
      "Some weights of RobertaModel were not initialized from the model checkpoint at roberta-large and are newly initialized: ['roberta.pooler.dense.bias', 'roberta.pooler.dense.weight']\n",
      "You should probably TRAIN this model on a down-stream task to be able to use it for predictions and inference.\n",
      "Some weights of RobertaModel were not initialized from the model checkpoint at roberta-large and are newly initialized: ['roberta.pooler.dense.bias', 'roberta.pooler.dense.weight']\n",
      "You should probably TRAIN this model on a down-stream task to be able to use it for predictions and inference.\n",
      "Some weights of RobertaModel were not initialized from the model checkpoint at roberta-large and are newly initialized: ['roberta.pooler.dense.bias', 'roberta.pooler.dense.weight']\n",
      "You should probably TRAIN this model on a down-stream task to be able to use it for predictions and inference.\n",
      "Some weights of RobertaModel were not initialized from the model checkpoint at roberta-large and are newly initialized: ['roberta.pooler.dense.bias', 'roberta.pooler.dense.weight']\n",
      "You should probably TRAIN this model on a down-stream task to be able to use it for predictions and inference.\n",
      "Some weights of RobertaModel were not initialized from the model checkpoint at roberta-large and are newly initialized: ['roberta.pooler.dense.bias', 'roberta.pooler.dense.weight']\n",
      "You should probably TRAIN this model on a down-stream task to be able to use it for predictions and inference.\n",
      "Some weights of RobertaModel were not initialized from the model checkpoint at roberta-large and are newly initialized: ['roberta.pooler.dense.bias', 'roberta.pooler.dense.weight']\n",
      "You should probably TRAIN this model on a down-stream task to be able to use it for predictions and inference.\n",
      "Some weights of RobertaModel were not initialized from the model checkpoint at roberta-large and are newly initialized: ['roberta.pooler.dense.bias', 'roberta.pooler.dense.weight']\n",
      "You should probably TRAIN this model on a down-stream task to be able to use it for predictions and inference.\n",
      "Some weights of RobertaModel were not initialized from the model checkpoint at roberta-large and are newly initialized: ['roberta.pooler.dense.bias', 'roberta.pooler.dense.weight']\n",
      "You should probably TRAIN this model on a down-stream task to be able to use it for predictions and inference.\n",
      "Some weights of RobertaModel were not initialized from the model checkpoint at roberta-large and are newly initialized: ['roberta.pooler.dense.bias', 'roberta.pooler.dense.weight']\n",
      "You should probably TRAIN this model on a down-stream task to be able to use it for predictions and inference.\n",
      "Some weights of RobertaModel were not initialized from the model checkpoint at roberta-large and are newly initialized: ['roberta.pooler.dense.bias', 'roberta.pooler.dense.weight']\n",
      "You should probably TRAIN this model on a down-stream task to be able to use it for predictions and inference.\n",
      "Some weights of RobertaModel were not initialized from the model checkpoint at roberta-large and are newly initialized: ['roberta.pooler.dense.bias', 'roberta.pooler.dense.weight']\n",
      "You should probably TRAIN this model on a down-stream task to be able to use it for predictions and inference.\n",
      "Some weights of RobertaModel were not initialized from the model checkpoint at roberta-large and are newly initialized: ['roberta.pooler.dense.bias', 'roberta.pooler.dense.weight']\n",
      "You should probably TRAIN this model on a down-stream task to be able to use it for predictions and inference.\n",
      "Some weights of RobertaModel were not initialized from the model checkpoint at roberta-large and are newly initialized: ['roberta.pooler.dense.bias', 'roberta.pooler.dense.weight']\n",
      "You should probably TRAIN this model on a down-stream task to be able to use it for predictions and inference.\n",
      "Some weights of RobertaModel were not initialized from the model checkpoint at roberta-large and are newly initialized: ['roberta.pooler.dense.bias', 'roberta.pooler.dense.weight']\n",
      "You should probably TRAIN this model on a down-stream task to be able to use it for predictions and inference.\n",
      "Some weights of RobertaModel were not initialized from the model checkpoint at roberta-large and are newly initialized: ['roberta.pooler.dense.bias', 'roberta.pooler.dense.weight']\n",
      "You should probably TRAIN this model on a down-stream task to be able to use it for predictions and inference.\n",
      "Some weights of RobertaModel were not initialized from the model checkpoint at roberta-large and are newly initialized: ['roberta.pooler.dense.bias', 'roberta.pooler.dense.weight']\n",
      "You should probably TRAIN this model on a down-stream task to be able to use it for predictions and inference.\n",
      "Some weights of RobertaModel were not initialized from the model checkpoint at roberta-large and are newly initialized: ['roberta.pooler.dense.bias', 'roberta.pooler.dense.weight']\n",
      "You should probably TRAIN this model on a down-stream task to be able to use it for predictions and inference.\n",
      "Some weights of RobertaModel were not initialized from the model checkpoint at roberta-large and are newly initialized: ['roberta.pooler.dense.bias', 'roberta.pooler.dense.weight']\n",
      "You should probably TRAIN this model on a down-stream task to be able to use it for predictions and inference.\n",
      "Some weights of RobertaModel were not initialized from the model checkpoint at roberta-large and are newly initialized: ['roberta.pooler.dense.bias', 'roberta.pooler.dense.weight']\n",
      "You should probably TRAIN this model on a down-stream task to be able to use it for predictions and inference.\n",
      "Some weights of RobertaModel were not initialized from the model checkpoint at roberta-large and are newly initialized: ['roberta.pooler.dense.bias', 'roberta.pooler.dense.weight']\n",
      "You should probably TRAIN this model on a down-stream task to be able to use it for predictions and inference.\n",
      "Some weights of RobertaModel were not initialized from the model checkpoint at roberta-large and are newly initialized: ['roberta.pooler.dense.bias', 'roberta.pooler.dense.weight']\n",
      "You should probably TRAIN this model on a down-stream task to be able to use it for predictions and inference.\n",
      "Some weights of RobertaModel were not initialized from the model checkpoint at roberta-large and are newly initialized: ['roberta.pooler.dense.bias', 'roberta.pooler.dense.weight']\n",
      "You should probably TRAIN this model on a down-stream task to be able to use it for predictions and inference.\n",
      "Some weights of RobertaModel were not initialized from the model checkpoint at roberta-large and are newly initialized: ['roberta.pooler.dense.bias', 'roberta.pooler.dense.weight']\n",
      "You should probably TRAIN this model on a down-stream task to be able to use it for predictions and inference.\n",
      "Some weights of RobertaModel were not initialized from the model checkpoint at roberta-large and are newly initialized: ['roberta.pooler.dense.bias', 'roberta.pooler.dense.weight']\n",
      "You should probably TRAIN this model on a down-stream task to be able to use it for predictions and inference.\n",
      "Some weights of RobertaModel were not initialized from the model checkpoint at roberta-large and are newly initialized: ['roberta.pooler.dense.bias', 'roberta.pooler.dense.weight']\n",
      "You should probably TRAIN this model on a down-stream task to be able to use it for predictions and inference.\n",
      "Some weights of RobertaModel were not initialized from the model checkpoint at roberta-large and are newly initialized: ['roberta.pooler.dense.bias', 'roberta.pooler.dense.weight']\n",
      "You should probably TRAIN this model on a down-stream task to be able to use it for predictions and inference.\n",
      "Some weights of RobertaModel were not initialized from the model checkpoint at roberta-large and are newly initialized: ['roberta.pooler.dense.bias', 'roberta.pooler.dense.weight']\n",
      "You should probably TRAIN this model on a down-stream task to be able to use it for predictions and inference.\n",
      "Some weights of RobertaModel were not initialized from the model checkpoint at roberta-large and are newly initialized: ['roberta.pooler.dense.bias', 'roberta.pooler.dense.weight']\n",
      "You should probably TRAIN this model on a down-stream task to be able to use it for predictions and inference.\n",
      "Some weights of RobertaModel were not initialized from the model checkpoint at roberta-large and are newly initialized: ['roberta.pooler.dense.bias', 'roberta.pooler.dense.weight']\n",
      "You should probably TRAIN this model on a down-stream task to be able to use it for predictions and inference.\n",
      "Some weights of RobertaModel were not initialized from the model checkpoint at roberta-large and are newly initialized: ['roberta.pooler.dense.bias', 'roberta.pooler.dense.weight']\n",
      "You should probably TRAIN this model on a down-stream task to be able to use it for predictions and inference.\n",
      "Some weights of RobertaModel were not initialized from the model checkpoint at roberta-large and are newly initialized: ['roberta.pooler.dense.bias', 'roberta.pooler.dense.weight']\n",
      "You should probably TRAIN this model on a down-stream task to be able to use it for predictions and inference.\n",
      "Some weights of RobertaModel were not initialized from the model checkpoint at roberta-large and are newly initialized: ['roberta.pooler.dense.bias', 'roberta.pooler.dense.weight']\n",
      "You should probably TRAIN this model on a down-stream task to be able to use it for predictions and inference.\n",
      "Some weights of RobertaModel were not initialized from the model checkpoint at roberta-large and are newly initialized: ['roberta.pooler.dense.bias', 'roberta.pooler.dense.weight']\n",
      "You should probably TRAIN this model on a down-stream task to be able to use it for predictions and inference.\n",
      "Some weights of RobertaModel were not initialized from the model checkpoint at roberta-large and are newly initialized: ['roberta.pooler.dense.bias', 'roberta.pooler.dense.weight']\n",
      "You should probably TRAIN this model on a down-stream task to be able to use it for predictions and inference.\n",
      "Some weights of RobertaModel were not initialized from the model checkpoint at roberta-large and are newly initialized: ['roberta.pooler.dense.bias', 'roberta.pooler.dense.weight']\n",
      "You should probably TRAIN this model on a down-stream task to be able to use it for predictions and inference.\n",
      "Some weights of RobertaModel were not initialized from the model checkpoint at roberta-large and are newly initialized: ['roberta.pooler.dense.bias', 'roberta.pooler.dense.weight']\n",
      "You should probably TRAIN this model on a down-stream task to be able to use it for predictions and inference.\n",
      "Some weights of RobertaModel were not initialized from the model checkpoint at roberta-large and are newly initialized: ['roberta.pooler.dense.bias', 'roberta.pooler.dense.weight']\n",
      "You should probably TRAIN this model on a down-stream task to be able to use it for predictions and inference.\n",
      "Some weights of RobertaModel were not initialized from the model checkpoint at roberta-large and are newly initialized: ['roberta.pooler.dense.bias', 'roberta.pooler.dense.weight']\n",
      "You should probably TRAIN this model on a down-stream task to be able to use it for predictions and inference.\n",
      "Some weights of RobertaModel were not initialized from the model checkpoint at roberta-large and are newly initialized: ['roberta.pooler.dense.bias', 'roberta.pooler.dense.weight']\n",
      "You should probably TRAIN this model on a down-stream task to be able to use it for predictions and inference.\n",
      "Some weights of RobertaModel were not initialized from the model checkpoint at roberta-large and are newly initialized: ['roberta.pooler.dense.bias', 'roberta.pooler.dense.weight']\n",
      "You should probably TRAIN this model on a down-stream task to be able to use it for predictions and inference.\n",
      "Some weights of RobertaModel were not initialized from the model checkpoint at roberta-large and are newly initialized: ['roberta.pooler.dense.bias', 'roberta.pooler.dense.weight']\n",
      "You should probably TRAIN this model on a down-stream task to be able to use it for predictions and inference.\n",
      "Some weights of RobertaModel were not initialized from the model checkpoint at roberta-large and are newly initialized: ['roberta.pooler.dense.bias', 'roberta.pooler.dense.weight']\n",
      "You should probably TRAIN this model on a down-stream task to be able to use it for predictions and inference.\n",
      "Some weights of RobertaModel were not initialized from the model checkpoint at roberta-large and are newly initialized: ['roberta.pooler.dense.bias', 'roberta.pooler.dense.weight']\n",
      "You should probably TRAIN this model on a down-stream task to be able to use it for predictions and inference.\n",
      "Some weights of RobertaModel were not initialized from the model checkpoint at roberta-large and are newly initialized: ['roberta.pooler.dense.bias', 'roberta.pooler.dense.weight']\n",
      "You should probably TRAIN this model on a down-stream task to be able to use it for predictions and inference.\n",
      "Some weights of RobertaModel were not initialized from the model checkpoint at roberta-large and are newly initialized: ['roberta.pooler.dense.bias', 'roberta.pooler.dense.weight']\n",
      "You should probably TRAIN this model on a down-stream task to be able to use it for predictions and inference.\n",
      "Some weights of RobertaModel were not initialized from the model checkpoint at roberta-large and are newly initialized: ['roberta.pooler.dense.bias', 'roberta.pooler.dense.weight']\n",
      "You should probably TRAIN this model on a down-stream task to be able to use it for predictions and inference.\n",
      "Some weights of RobertaModel were not initialized from the model checkpoint at roberta-large and are newly initialized: ['roberta.pooler.dense.bias', 'roberta.pooler.dense.weight']\n",
      "You should probably TRAIN this model on a down-stream task to be able to use it for predictions and inference.\n",
      "Some weights of RobertaModel were not initialized from the model checkpoint at roberta-large and are newly initialized: ['roberta.pooler.dense.bias', 'roberta.pooler.dense.weight']\n",
      "You should probably TRAIN this model on a down-stream task to be able to use it for predictions and inference.\n",
      "Some weights of RobertaModel were not initialized from the model checkpoint at roberta-large and are newly initialized: ['roberta.pooler.dense.bias', 'roberta.pooler.dense.weight']\n",
      "You should probably TRAIN this model on a down-stream task to be able to use it for predictions and inference.\n",
      "Some weights of RobertaModel were not initialized from the model checkpoint at roberta-large and are newly initialized: ['roberta.pooler.dense.bias', 'roberta.pooler.dense.weight']\n",
      "You should probably TRAIN this model on a down-stream task to be able to use it for predictions and inference.\n",
      "Some weights of RobertaModel were not initialized from the model checkpoint at roberta-large and are newly initialized: ['roberta.pooler.dense.bias', 'roberta.pooler.dense.weight']\n",
      "You should probably TRAIN this model on a down-stream task to be able to use it for predictions and inference.\n",
      "Some weights of RobertaModel were not initialized from the model checkpoint at roberta-large and are newly initialized: ['roberta.pooler.dense.bias', 'roberta.pooler.dense.weight']\n",
      "You should probably TRAIN this model on a down-stream task to be able to use it for predictions and inference.\n",
      "Some weights of RobertaModel were not initialized from the model checkpoint at roberta-large and are newly initialized: ['roberta.pooler.dense.bias', 'roberta.pooler.dense.weight']\n",
      "You should probably TRAIN this model on a down-stream task to be able to use it for predictions and inference.\n",
      "Some weights of RobertaModel were not initialized from the model checkpoint at roberta-large and are newly initialized: ['roberta.pooler.dense.bias', 'roberta.pooler.dense.weight']\n",
      "You should probably TRAIN this model on a down-stream task to be able to use it for predictions and inference.\n",
      "Some weights of RobertaModel were not initialized from the model checkpoint at roberta-large and are newly initialized: ['roberta.pooler.dense.bias', 'roberta.pooler.dense.weight']\n",
      "You should probably TRAIN this model on a down-stream task to be able to use it for predictions and inference.\n",
      "Some weights of RobertaModel were not initialized from the model checkpoint at roberta-large and are newly initialized: ['roberta.pooler.dense.bias', 'roberta.pooler.dense.weight']\n",
      "You should probably TRAIN this model on a down-stream task to be able to use it for predictions and inference.\n",
      "Some weights of RobertaModel were not initialized from the model checkpoint at roberta-large and are newly initialized: ['roberta.pooler.dense.bias', 'roberta.pooler.dense.weight']\n",
      "You should probably TRAIN this model on a down-stream task to be able to use it for predictions and inference.\n",
      "Some weights of RobertaModel were not initialized from the model checkpoint at roberta-large and are newly initialized: ['roberta.pooler.dense.bias', 'roberta.pooler.dense.weight']\n",
      "You should probably TRAIN this model on a down-stream task to be able to use it for predictions and inference.\n",
      "Some weights of RobertaModel were not initialized from the model checkpoint at roberta-large and are newly initialized: ['roberta.pooler.dense.bias', 'roberta.pooler.dense.weight']\n",
      "You should probably TRAIN this model on a down-stream task to be able to use it for predictions and inference.\n",
      "Some weights of RobertaModel were not initialized from the model checkpoint at roberta-large and are newly initialized: ['roberta.pooler.dense.bias', 'roberta.pooler.dense.weight']\n",
      "You should probably TRAIN this model on a down-stream task to be able to use it for predictions and inference.\n",
      "Some weights of RobertaModel were not initialized from the model checkpoint at roberta-large and are newly initialized: ['roberta.pooler.dense.bias', 'roberta.pooler.dense.weight']\n",
      "You should probably TRAIN this model on a down-stream task to be able to use it for predictions and inference.\n",
      "Some weights of RobertaModel were not initialized from the model checkpoint at roberta-large and are newly initialized: ['roberta.pooler.dense.bias', 'roberta.pooler.dense.weight']\n",
      "You should probably TRAIN this model on a down-stream task to be able to use it for predictions and inference.\n",
      "Some weights of RobertaModel were not initialized from the model checkpoint at roberta-large and are newly initialized: ['roberta.pooler.dense.bias', 'roberta.pooler.dense.weight']\n",
      "You should probably TRAIN this model on a down-stream task to be able to use it for predictions and inference.\n",
      "Some weights of RobertaModel were not initialized from the model checkpoint at roberta-large and are newly initialized: ['roberta.pooler.dense.bias', 'roberta.pooler.dense.weight']\n",
      "You should probably TRAIN this model on a down-stream task to be able to use it for predictions and inference.\n",
      "Some weights of RobertaModel were not initialized from the model checkpoint at roberta-large and are newly initialized: ['roberta.pooler.dense.bias', 'roberta.pooler.dense.weight']\n",
      "You should probably TRAIN this model on a down-stream task to be able to use it for predictions and inference.\n",
      "Some weights of RobertaModel were not initialized from the model checkpoint at roberta-large and are newly initialized: ['roberta.pooler.dense.bias', 'roberta.pooler.dense.weight']\n",
      "You should probably TRAIN this model on a down-stream task to be able to use it for predictions and inference.\n",
      "Some weights of RobertaModel were not initialized from the model checkpoint at roberta-large and are newly initialized: ['roberta.pooler.dense.bias', 'roberta.pooler.dense.weight']\n",
      "You should probably TRAIN this model on a down-stream task to be able to use it for predictions and inference.\n",
      "Some weights of RobertaModel were not initialized from the model checkpoint at roberta-large and are newly initialized: ['roberta.pooler.dense.bias', 'roberta.pooler.dense.weight']\n",
      "You should probably TRAIN this model on a down-stream task to be able to use it for predictions and inference.\n",
      "Some weights of RobertaModel were not initialized from the model checkpoint at roberta-large and are newly initialized: ['roberta.pooler.dense.bias', 'roberta.pooler.dense.weight']\n",
      "You should probably TRAIN this model on a down-stream task to be able to use it for predictions and inference.\n",
      "Some weights of RobertaModel were not initialized from the model checkpoint at roberta-large and are newly initialized: ['roberta.pooler.dense.bias', 'roberta.pooler.dense.weight']\n",
      "You should probably TRAIN this model on a down-stream task to be able to use it for predictions and inference.\n",
      "Some weights of RobertaModel were not initialized from the model checkpoint at roberta-large and are newly initialized: ['roberta.pooler.dense.bias', 'roberta.pooler.dense.weight']\n",
      "You should probably TRAIN this model on a down-stream task to be able to use it for predictions and inference.\n",
      "Some weights of RobertaModel were not initialized from the model checkpoint at roberta-large and are newly initialized: ['roberta.pooler.dense.bias', 'roberta.pooler.dense.weight']\n",
      "You should probably TRAIN this model on a down-stream task to be able to use it for predictions and inference.\n",
      "Some weights of RobertaModel were not initialized from the model checkpoint at roberta-large and are newly initialized: ['roberta.pooler.dense.bias', 'roberta.pooler.dense.weight']\n",
      "You should probably TRAIN this model on a down-stream task to be able to use it for predictions and inference.\n",
      "Some weights of RobertaModel were not initialized from the model checkpoint at roberta-large and are newly initialized: ['roberta.pooler.dense.bias', 'roberta.pooler.dense.weight']\n",
      "You should probably TRAIN this model on a down-stream task to be able to use it for predictions and inference.\n",
      "Some weights of RobertaModel were not initialized from the model checkpoint at roberta-large and are newly initialized: ['roberta.pooler.dense.bias', 'roberta.pooler.dense.weight']\n",
      "You should probably TRAIN this model on a down-stream task to be able to use it for predictions and inference.\n",
      "Some weights of RobertaModel were not initialized from the model checkpoint at roberta-large and are newly initialized: ['roberta.pooler.dense.bias', 'roberta.pooler.dense.weight']\n",
      "You should probably TRAIN this model on a down-stream task to be able to use it for predictions and inference.\n",
      "Some weights of RobertaModel were not initialized from the model checkpoint at roberta-large and are newly initialized: ['roberta.pooler.dense.bias', 'roberta.pooler.dense.weight']\n",
      "You should probably TRAIN this model on a down-stream task to be able to use it for predictions and inference.\n",
      "Some weights of RobertaModel were not initialized from the model checkpoint at roberta-large and are newly initialized: ['roberta.pooler.dense.bias', 'roberta.pooler.dense.weight']\n",
      "You should probably TRAIN this model on a down-stream task to be able to use it for predictions and inference.\n",
      "Some weights of RobertaModel were not initialized from the model checkpoint at roberta-large and are newly initialized: ['roberta.pooler.dense.bias', 'roberta.pooler.dense.weight']\n",
      "You should probably TRAIN this model on a down-stream task to be able to use it for predictions and inference.\n",
      "Some weights of RobertaModel were not initialized from the model checkpoint at roberta-large and are newly initialized: ['roberta.pooler.dense.bias', 'roberta.pooler.dense.weight']\n",
      "You should probably TRAIN this model on a down-stream task to be able to use it for predictions and inference.\n",
      "Some weights of RobertaModel were not initialized from the model checkpoint at roberta-large and are newly initialized: ['roberta.pooler.dense.bias', 'roberta.pooler.dense.weight']\n",
      "You should probably TRAIN this model on a down-stream task to be able to use it for predictions and inference.\n",
      "Some weights of RobertaModel were not initialized from the model checkpoint at roberta-large and are newly initialized: ['roberta.pooler.dense.bias', 'roberta.pooler.dense.weight']\n",
      "You should probably TRAIN this model on a down-stream task to be able to use it for predictions and inference.\n",
      "Some weights of RobertaModel were not initialized from the model checkpoint at roberta-large and are newly initialized: ['roberta.pooler.dense.bias', 'roberta.pooler.dense.weight']\n",
      "You should probably TRAIN this model on a down-stream task to be able to use it for predictions and inference.\n",
      "Some weights of RobertaModel were not initialized from the model checkpoint at roberta-large and are newly initialized: ['roberta.pooler.dense.bias', 'roberta.pooler.dense.weight']\n",
      "You should probably TRAIN this model on a down-stream task to be able to use it for predictions and inference.\n",
      "Some weights of RobertaModel were not initialized from the model checkpoint at roberta-large and are newly initialized: ['roberta.pooler.dense.bias', 'roberta.pooler.dense.weight']\n",
      "You should probably TRAIN this model on a down-stream task to be able to use it for predictions and inference.\n",
      "Some weights of RobertaModel were not initialized from the model checkpoint at roberta-large and are newly initialized: ['roberta.pooler.dense.bias', 'roberta.pooler.dense.weight']\n",
      "You should probably TRAIN this model on a down-stream task to be able to use it for predictions and inference.\n",
      "Some weights of RobertaModel were not initialized from the model checkpoint at roberta-large and are newly initialized: ['roberta.pooler.dense.bias', 'roberta.pooler.dense.weight']\n",
      "You should probably TRAIN this model on a down-stream task to be able to use it for predictions and inference.\n",
      "Some weights of RobertaModel were not initialized from the model checkpoint at roberta-large and are newly initialized: ['roberta.pooler.dense.bias', 'roberta.pooler.dense.weight']\n",
      "You should probably TRAIN this model on a down-stream task to be able to use it for predictions and inference.\n",
      "Some weights of RobertaModel were not initialized from the model checkpoint at roberta-large and are newly initialized: ['roberta.pooler.dense.bias', 'roberta.pooler.dense.weight']\n",
      "You should probably TRAIN this model on a down-stream task to be able to use it for predictions and inference.\n",
      "Some weights of RobertaModel were not initialized from the model checkpoint at roberta-large and are newly initialized: ['roberta.pooler.dense.bias', 'roberta.pooler.dense.weight']\n",
      "You should probably TRAIN this model on a down-stream task to be able to use it for predictions and inference.\n",
      "Some weights of RobertaModel were not initialized from the model checkpoint at roberta-large and are newly initialized: ['roberta.pooler.dense.bias', 'roberta.pooler.dense.weight']\n",
      "You should probably TRAIN this model on a down-stream task to be able to use it for predictions and inference.\n",
      "Some weights of RobertaModel were not initialized from the model checkpoint at roberta-large and are newly initialized: ['roberta.pooler.dense.bias', 'roberta.pooler.dense.weight']\n",
      "You should probably TRAIN this model on a down-stream task to be able to use it for predictions and inference.\n",
      "Some weights of RobertaModel were not initialized from the model checkpoint at roberta-large and are newly initialized: ['roberta.pooler.dense.bias', 'roberta.pooler.dense.weight']\n",
      "You should probably TRAIN this model on a down-stream task to be able to use it for predictions and inference.\n",
      "Some weights of RobertaModel were not initialized from the model checkpoint at roberta-large and are newly initialized: ['roberta.pooler.dense.bias', 'roberta.pooler.dense.weight']\n",
      "You should probably TRAIN this model on a down-stream task to be able to use it for predictions and inference.\n",
      "Some weights of RobertaModel were not initialized from the model checkpoint at roberta-large and are newly initialized: ['roberta.pooler.dense.bias', 'roberta.pooler.dense.weight']\n",
      "You should probably TRAIN this model on a down-stream task to be able to use it for predictions and inference.\n",
      "Some weights of RobertaModel were not initialized from the model checkpoint at roberta-large and are newly initialized: ['roberta.pooler.dense.bias', 'roberta.pooler.dense.weight']\n",
      "You should probably TRAIN this model on a down-stream task to be able to use it for predictions and inference.\n",
      "Some weights of RobertaModel were not initialized from the model checkpoint at roberta-large and are newly initialized: ['roberta.pooler.dense.bias', 'roberta.pooler.dense.weight']\n",
      "You should probably TRAIN this model on a down-stream task to be able to use it for predictions and inference.\n",
      "Some weights of RobertaModel were not initialized from the model checkpoint at roberta-large and are newly initialized: ['roberta.pooler.dense.bias', 'roberta.pooler.dense.weight']\n",
      "You should probably TRAIN this model on a down-stream task to be able to use it for predictions and inference.\n",
      "Some weights of RobertaModel were not initialized from the model checkpoint at roberta-large and are newly initialized: ['roberta.pooler.dense.bias', 'roberta.pooler.dense.weight']\n",
      "You should probably TRAIN this model on a down-stream task to be able to use it for predictions and inference.\n",
      "Some weights of RobertaModel were not initialized from the model checkpoint at roberta-large and are newly initialized: ['roberta.pooler.dense.bias', 'roberta.pooler.dense.weight']\n",
      "You should probably TRAIN this model on a down-stream task to be able to use it for predictions and inference.\n",
      "Some weights of RobertaModel were not initialized from the model checkpoint at roberta-large and are newly initialized: ['roberta.pooler.dense.bias', 'roberta.pooler.dense.weight']\n",
      "You should probably TRAIN this model on a down-stream task to be able to use it for predictions and inference.\n",
      "Some weights of RobertaModel were not initialized from the model checkpoint at roberta-large and are newly initialized: ['roberta.pooler.dense.bias', 'roberta.pooler.dense.weight']\n",
      "You should probably TRAIN this model on a down-stream task to be able to use it for predictions and inference.\n",
      "Some weights of RobertaModel were not initialized from the model checkpoint at roberta-large and are newly initialized: ['roberta.pooler.dense.bias', 'roberta.pooler.dense.weight']\n",
      "You should probably TRAIN this model on a down-stream task to be able to use it for predictions and inference.\n",
      "Some weights of RobertaModel were not initialized from the model checkpoint at roberta-large and are newly initialized: ['roberta.pooler.dense.bias', 'roberta.pooler.dense.weight']\n",
      "You should probably TRAIN this model on a down-stream task to be able to use it for predictions and inference.\n",
      "Some weights of RobertaModel were not initialized from the model checkpoint at roberta-large and are newly initialized: ['roberta.pooler.dense.bias', 'roberta.pooler.dense.weight']\n",
      "You should probably TRAIN this model on a down-stream task to be able to use it for predictions and inference.\n",
      "Some weights of RobertaModel were not initialized from the model checkpoint at roberta-large and are newly initialized: ['roberta.pooler.dense.bias', 'roberta.pooler.dense.weight']\n",
      "You should probably TRAIN this model on a down-stream task to be able to use it for predictions and inference.\n",
      "Some weights of RobertaModel were not initialized from the model checkpoint at roberta-large and are newly initialized: ['roberta.pooler.dense.bias', 'roberta.pooler.dense.weight']\n",
      "You should probably TRAIN this model on a down-stream task to be able to use it for predictions and inference.\n",
      "Some weights of RobertaModel were not initialized from the model checkpoint at roberta-large and are newly initialized: ['roberta.pooler.dense.bias', 'roberta.pooler.dense.weight']\n",
      "You should probably TRAIN this model on a down-stream task to be able to use it for predictions and inference.\n",
      "Some weights of RobertaModel were not initialized from the model checkpoint at roberta-large and are newly initialized: ['roberta.pooler.dense.bias', 'roberta.pooler.dense.weight']\n",
      "You should probably TRAIN this model on a down-stream task to be able to use it for predictions and inference.\n",
      "Some weights of RobertaModel were not initialized from the model checkpoint at roberta-large and are newly initialized: ['roberta.pooler.dense.bias', 'roberta.pooler.dense.weight']\n",
      "You should probably TRAIN this model on a down-stream task to be able to use it for predictions and inference.\n",
      "Some weights of RobertaModel were not initialized from the model checkpoint at roberta-large and are newly initialized: ['roberta.pooler.dense.bias', 'roberta.pooler.dense.weight']\n",
      "You should probably TRAIN this model on a down-stream task to be able to use it for predictions and inference.\n",
      "Some weights of RobertaModel were not initialized from the model checkpoint at roberta-large and are newly initialized: ['roberta.pooler.dense.bias', 'roberta.pooler.dense.weight']\n",
      "You should probably TRAIN this model on a down-stream task to be able to use it for predictions and inference.\n",
      "Some weights of RobertaModel were not initialized from the model checkpoint at roberta-large and are newly initialized: ['roberta.pooler.dense.bias', 'roberta.pooler.dense.weight']\n",
      "You should probably TRAIN this model on a down-stream task to be able to use it for predictions and inference.\n",
      "Some weights of RobertaModel were not initialized from the model checkpoint at roberta-large and are newly initialized: ['roberta.pooler.dense.bias', 'roberta.pooler.dense.weight']\n",
      "You should probably TRAIN this model on a down-stream task to be able to use it for predictions and inference.\n",
      "Some weights of RobertaModel were not initialized from the model checkpoint at roberta-large and are newly initialized: ['roberta.pooler.dense.bias', 'roberta.pooler.dense.weight']\n",
      "You should probably TRAIN this model on a down-stream task to be able to use it for predictions and inference.\n",
      "Some weights of RobertaModel were not initialized from the model checkpoint at roberta-large and are newly initialized: ['roberta.pooler.dense.bias', 'roberta.pooler.dense.weight']\n",
      "You should probably TRAIN this model on a down-stream task to be able to use it for predictions and inference.\n",
      "Some weights of RobertaModel were not initialized from the model checkpoint at roberta-large and are newly initialized: ['roberta.pooler.dense.bias', 'roberta.pooler.dense.weight']\n",
      "You should probably TRAIN this model on a down-stream task to be able to use it for predictions and inference.\n",
      "Some weights of RobertaModel were not initialized from the model checkpoint at roberta-large and are newly initialized: ['roberta.pooler.dense.bias', 'roberta.pooler.dense.weight']\n",
      "You should probably TRAIN this model on a down-stream task to be able to use it for predictions and inference.\n",
      "Some weights of RobertaModel were not initialized from the model checkpoint at roberta-large and are newly initialized: ['roberta.pooler.dense.bias', 'roberta.pooler.dense.weight']\n",
      "You should probably TRAIN this model on a down-stream task to be able to use it for predictions and inference.\n",
      "Some weights of RobertaModel were not initialized from the model checkpoint at roberta-large and are newly initialized: ['roberta.pooler.dense.bias', 'roberta.pooler.dense.weight']\n",
      "You should probably TRAIN this model on a down-stream task to be able to use it for predictions and inference.\n",
      "Some weights of RobertaModel were not initialized from the model checkpoint at roberta-large and are newly initialized: ['roberta.pooler.dense.bias', 'roberta.pooler.dense.weight']\n",
      "You should probably TRAIN this model on a down-stream task to be able to use it for predictions and inference.\n",
      "Some weights of RobertaModel were not initialized from the model checkpoint at roberta-large and are newly initialized: ['roberta.pooler.dense.bias', 'roberta.pooler.dense.weight']\n",
      "You should probably TRAIN this model on a down-stream task to be able to use it for predictions and inference.\n",
      "Some weights of RobertaModel were not initialized from the model checkpoint at roberta-large and are newly initialized: ['roberta.pooler.dense.bias', 'roberta.pooler.dense.weight']\n",
      "You should probably TRAIN this model on a down-stream task to be able to use it for predictions and inference.\n",
      "Some weights of RobertaModel were not initialized from the model checkpoint at roberta-large and are newly initialized: ['roberta.pooler.dense.bias', 'roberta.pooler.dense.weight']\n",
      "You should probably TRAIN this model on a down-stream task to be able to use it for predictions and inference.\n",
      "Some weights of RobertaModel were not initialized from the model checkpoint at roberta-large and are newly initialized: ['roberta.pooler.dense.bias', 'roberta.pooler.dense.weight']\n",
      "You should probably TRAIN this model on a down-stream task to be able to use it for predictions and inference.\n",
      "Some weights of RobertaModel were not initialized from the model checkpoint at roberta-large and are newly initialized: ['roberta.pooler.dense.bias', 'roberta.pooler.dense.weight']\n",
      "You should probably TRAIN this model on a down-stream task to be able to use it for predictions and inference.\n",
      "Some weights of RobertaModel were not initialized from the model checkpoint at roberta-large and are newly initialized: ['roberta.pooler.dense.bias', 'roberta.pooler.dense.weight']\n",
      "You should probably TRAIN this model on a down-stream task to be able to use it for predictions and inference.\n",
      "Some weights of RobertaModel were not initialized from the model checkpoint at roberta-large and are newly initialized: ['roberta.pooler.dense.bias', 'roberta.pooler.dense.weight']\n",
      "You should probably TRAIN this model on a down-stream task to be able to use it for predictions and inference.\n",
      "Some weights of RobertaModel were not initialized from the model checkpoint at roberta-large and are newly initialized: ['roberta.pooler.dense.bias', 'roberta.pooler.dense.weight']\n",
      "You should probably TRAIN this model on a down-stream task to be able to use it for predictions and inference.\n",
      "Some weights of RobertaModel were not initialized from the model checkpoint at roberta-large and are newly initialized: ['roberta.pooler.dense.bias', 'roberta.pooler.dense.weight']\n",
      "You should probably TRAIN this model on a down-stream task to be able to use it for predictions and inference.\n",
      "Some weights of RobertaModel were not initialized from the model checkpoint at roberta-large and are newly initialized: ['roberta.pooler.dense.bias', 'roberta.pooler.dense.weight']\n",
      "You should probably TRAIN this model on a down-stream task to be able to use it for predictions and inference.\n",
      "Some weights of RobertaModel were not initialized from the model checkpoint at roberta-large and are newly initialized: ['roberta.pooler.dense.bias', 'roberta.pooler.dense.weight']\n",
      "You should probably TRAIN this model on a down-stream task to be able to use it for predictions and inference.\n",
      "Some weights of RobertaModel were not initialized from the model checkpoint at roberta-large and are newly initialized: ['roberta.pooler.dense.bias', 'roberta.pooler.dense.weight']\n",
      "You should probably TRAIN this model on a down-stream task to be able to use it for predictions and inference.\n",
      "Some weights of RobertaModel were not initialized from the model checkpoint at roberta-large and are newly initialized: ['roberta.pooler.dense.bias', 'roberta.pooler.dense.weight']\n",
      "You should probably TRAIN this model on a down-stream task to be able to use it for predictions and inference.\n",
      "Some weights of RobertaModel were not initialized from the model checkpoint at roberta-large and are newly initialized: ['roberta.pooler.dense.bias', 'roberta.pooler.dense.weight']\n",
      "You should probably TRAIN this model on a down-stream task to be able to use it for predictions and inference.\n",
      "Some weights of RobertaModel were not initialized from the model checkpoint at roberta-large and are newly initialized: ['roberta.pooler.dense.bias', 'roberta.pooler.dense.weight']\n",
      "You should probably TRAIN this model on a down-stream task to be able to use it for predictions and inference.\n",
      "Some weights of RobertaModel were not initialized from the model checkpoint at roberta-large and are newly initialized: ['roberta.pooler.dense.bias', 'roberta.pooler.dense.weight']\n",
      "You should probably TRAIN this model on a down-stream task to be able to use it for predictions and inference.\n",
      "Some weights of RobertaModel were not initialized from the model checkpoint at roberta-large and are newly initialized: ['roberta.pooler.dense.bias', 'roberta.pooler.dense.weight']\n",
      "You should probably TRAIN this model on a down-stream task to be able to use it for predictions and inference.\n",
      "Some weights of RobertaModel were not initialized from the model checkpoint at roberta-large and are newly initialized: ['roberta.pooler.dense.bias', 'roberta.pooler.dense.weight']\n",
      "You should probably TRAIN this model on a down-stream task to be able to use it for predictions and inference.\n",
      "Some weights of RobertaModel were not initialized from the model checkpoint at roberta-large and are newly initialized: ['roberta.pooler.dense.bias', 'roberta.pooler.dense.weight']\n",
      "You should probably TRAIN this model on a down-stream task to be able to use it for predictions and inference.\n",
      "Some weights of RobertaModel were not initialized from the model checkpoint at roberta-large and are newly initialized: ['roberta.pooler.dense.bias', 'roberta.pooler.dense.weight']\n",
      "You should probably TRAIN this model on a down-stream task to be able to use it for predictions and inference.\n",
      "Some weights of RobertaModel were not initialized from the model checkpoint at roberta-large and are newly initialized: ['roberta.pooler.dense.bias', 'roberta.pooler.dense.weight']\n",
      "You should probably TRAIN this model on a down-stream task to be able to use it for predictions and inference.\n",
      "Some weights of RobertaModel were not initialized from the model checkpoint at roberta-large and are newly initialized: ['roberta.pooler.dense.bias', 'roberta.pooler.dense.weight']\n",
      "You should probably TRAIN this model on a down-stream task to be able to use it for predictions and inference.\n",
      "Some weights of RobertaModel were not initialized from the model checkpoint at roberta-large and are newly initialized: ['roberta.pooler.dense.bias', 'roberta.pooler.dense.weight']\n",
      "You should probably TRAIN this model on a down-stream task to be able to use it for predictions and inference.\n",
      "Some weights of RobertaModel were not initialized from the model checkpoint at roberta-large and are newly initialized: ['roberta.pooler.dense.bias', 'roberta.pooler.dense.weight']\n",
      "You should probably TRAIN this model on a down-stream task to be able to use it for predictions and inference.\n",
      "Some weights of RobertaModel were not initialized from the model checkpoint at roberta-large and are newly initialized: ['roberta.pooler.dense.bias', 'roberta.pooler.dense.weight']\n",
      "You should probably TRAIN this model on a down-stream task to be able to use it for predictions and inference.\n",
      "Some weights of RobertaModel were not initialized from the model checkpoint at roberta-large and are newly initialized: ['roberta.pooler.dense.bias', 'roberta.pooler.dense.weight']\n",
      "You should probably TRAIN this model on a down-stream task to be able to use it for predictions and inference.\n",
      "Some weights of RobertaModel were not initialized from the model checkpoint at roberta-large and are newly initialized: ['roberta.pooler.dense.bias', 'roberta.pooler.dense.weight']\n",
      "You should probably TRAIN this model on a down-stream task to be able to use it for predictions and inference.\n",
      "Some weights of RobertaModel were not initialized from the model checkpoint at roberta-large and are newly initialized: ['roberta.pooler.dense.bias', 'roberta.pooler.dense.weight']\n",
      "You should probably TRAIN this model on a down-stream task to be able to use it for predictions and inference.\n",
      "Some weights of RobertaModel were not initialized from the model checkpoint at roberta-large and are newly initialized: ['roberta.pooler.dense.bias', 'roberta.pooler.dense.weight']\n",
      "You should probably TRAIN this model on a down-stream task to be able to use it for predictions and inference.\n",
      "Some weights of RobertaModel were not initialized from the model checkpoint at roberta-large and are newly initialized: ['roberta.pooler.dense.bias', 'roberta.pooler.dense.weight']\n",
      "You should probably TRAIN this model on a down-stream task to be able to use it for predictions and inference.\n",
      "Some weights of RobertaModel were not initialized from the model checkpoint at roberta-large and are newly initialized: ['roberta.pooler.dense.bias', 'roberta.pooler.dense.weight']\n",
      "You should probably TRAIN this model on a down-stream task to be able to use it for predictions and inference.\n",
      "Some weights of RobertaModel were not initialized from the model checkpoint at roberta-large and are newly initialized: ['roberta.pooler.dense.bias', 'roberta.pooler.dense.weight']\n",
      "You should probably TRAIN this model on a down-stream task to be able to use it for predictions and inference.\n",
      "Some weights of RobertaModel were not initialized from the model checkpoint at roberta-large and are newly initialized: ['roberta.pooler.dense.bias', 'roberta.pooler.dense.weight']\n",
      "You should probably TRAIN this model on a down-stream task to be able to use it for predictions and inference.\n",
      "Some weights of RobertaModel were not initialized from the model checkpoint at roberta-large and are newly initialized: ['roberta.pooler.dense.bias', 'roberta.pooler.dense.weight']\n",
      "You should probably TRAIN this model on a down-stream task to be able to use it for predictions and inference.\n",
      "Some weights of RobertaModel were not initialized from the model checkpoint at roberta-large and are newly initialized: ['roberta.pooler.dense.bias', 'roberta.pooler.dense.weight']\n",
      "You should probably TRAIN this model on a down-stream task to be able to use it for predictions and inference.\n",
      "Some weights of RobertaModel were not initialized from the model checkpoint at roberta-large and are newly initialized: ['roberta.pooler.dense.bias', 'roberta.pooler.dense.weight']\n",
      "You should probably TRAIN this model on a down-stream task to be able to use it for predictions and inference.\n",
      "Some weights of RobertaModel were not initialized from the model checkpoint at roberta-large and are newly initialized: ['roberta.pooler.dense.bias', 'roberta.pooler.dense.weight']\n",
      "You should probably TRAIN this model on a down-stream task to be able to use it for predictions and inference.\n",
      "Some weights of RobertaModel were not initialized from the model checkpoint at roberta-large and are newly initialized: ['roberta.pooler.dense.bias', 'roberta.pooler.dense.weight']\n",
      "You should probably TRAIN this model on a down-stream task to be able to use it for predictions and inference.\n",
      "Some weights of RobertaModel were not initialized from the model checkpoint at roberta-large and are newly initialized: ['roberta.pooler.dense.bias', 'roberta.pooler.dense.weight']\n",
      "You should probably TRAIN this model on a down-stream task to be able to use it for predictions and inference.\n",
      "Some weights of RobertaModel were not initialized from the model checkpoint at roberta-large and are newly initialized: ['roberta.pooler.dense.bias', 'roberta.pooler.dense.weight']\n",
      "You should probably TRAIN this model on a down-stream task to be able to use it for predictions and inference.\n",
      "Some weights of RobertaModel were not initialized from the model checkpoint at roberta-large and are newly initialized: ['roberta.pooler.dense.bias', 'roberta.pooler.dense.weight']\n",
      "You should probably TRAIN this model on a down-stream task to be able to use it for predictions and inference.\n",
      "Some weights of RobertaModel were not initialized from the model checkpoint at roberta-large and are newly initialized: ['roberta.pooler.dense.bias', 'roberta.pooler.dense.weight']\n",
      "You should probably TRAIN this model on a down-stream task to be able to use it for predictions and inference.\n",
      "Some weights of RobertaModel were not initialized from the model checkpoint at roberta-large and are newly initialized: ['roberta.pooler.dense.bias', 'roberta.pooler.dense.weight']\n",
      "You should probably TRAIN this model on a down-stream task to be able to use it for predictions and inference.\n",
      "Some weights of RobertaModel were not initialized from the model checkpoint at roberta-large and are newly initialized: ['roberta.pooler.dense.bias', 'roberta.pooler.dense.weight']\n",
      "You should probably TRAIN this model on a down-stream task to be able to use it for predictions and inference.\n",
      "Some weights of RobertaModel were not initialized from the model checkpoint at roberta-large and are newly initialized: ['roberta.pooler.dense.bias', 'roberta.pooler.dense.weight']\n",
      "You should probably TRAIN this model on a down-stream task to be able to use it for predictions and inference.\n",
      "Some weights of RobertaModel were not initialized from the model checkpoint at roberta-large and are newly initialized: ['roberta.pooler.dense.bias', 'roberta.pooler.dense.weight']\n",
      "You should probably TRAIN this model on a down-stream task to be able to use it for predictions and inference.\n",
      "Some weights of RobertaModel were not initialized from the model checkpoint at roberta-large and are newly initialized: ['roberta.pooler.dense.bias', 'roberta.pooler.dense.weight']\n",
      "You should probably TRAIN this model on a down-stream task to be able to use it for predictions and inference.\n",
      "Some weights of RobertaModel were not initialized from the model checkpoint at roberta-large and are newly initialized: ['roberta.pooler.dense.bias', 'roberta.pooler.dense.weight']\n",
      "You should probably TRAIN this model on a down-stream task to be able to use it for predictions and inference.\n",
      "Some weights of RobertaModel were not initialized from the model checkpoint at roberta-large and are newly initialized: ['roberta.pooler.dense.bias', 'roberta.pooler.dense.weight']\n",
      "You should probably TRAIN this model on a down-stream task to be able to use it for predictions and inference.\n",
      "Some weights of RobertaModel were not initialized from the model checkpoint at roberta-large and are newly initialized: ['roberta.pooler.dense.bias', 'roberta.pooler.dense.weight']\n",
      "You should probably TRAIN this model on a down-stream task to be able to use it for predictions and inference.\n",
      "Some weights of RobertaModel were not initialized from the model checkpoint at roberta-large and are newly initialized: ['roberta.pooler.dense.bias', 'roberta.pooler.dense.weight']\n",
      "You should probably TRAIN this model on a down-stream task to be able to use it for predictions and inference.\n",
      "Some weights of RobertaModel were not initialized from the model checkpoint at roberta-large and are newly initialized: ['roberta.pooler.dense.bias', 'roberta.pooler.dense.weight']\n",
      "You should probably TRAIN this model on a down-stream task to be able to use it for predictions and inference.\n"
     ]
    },
    {
     "name": "stdout",
     "output_type": "stream",
     "text": [
      "평균 점수:\n",
      "Coherence       3.223577\n",
      "Completeness    2.880081\n",
      "Naturalness     3.008130\n",
      "BLEURT          0.488236\n",
      "BERTScore_F1    0.627131\n",
      "dtype: float64\n"
     ]
    }
   ],
   "source": [
    "# alternative_diets\n",
    "\n",
    "import openai\n",
    "import pandas as pd\n",
    "import re\n",
    "from sklearn.metrics import f1_score\n",
    "from bert_score import score as bert_score\n",
    "from transformers import AutoTokenizer, AutoModelForSequenceClassification\n",
    "import torch\n",
    "import os\n",
    "from dotenv import load_dotenv\n",
    "\n",
    "load_dotenv()\n",
    "openai.api_key = os.getenv(\"OPENAI_API_KEY\")\n",
    "\n",
    "# BLEURT 모델 로드\n",
    "bleurt_model_name = \"Elron/bleurt-large-512\"\n",
    "tokenizer = AutoTokenizer.from_pretrained(bleurt_model_name)\n",
    "bleurt_model = AutoModelForSequenceClassification.from_pretrained(bleurt_model_name)\n",
    "bleurt_model.eval()\n",
    "\n",
    "device = torch.device(\"cuda\" if torch.cuda.is_available() else \"cpu\")\n",
    "bleurt_model = bleurt_model.to(device)\n",
    "\n",
    "MAX_CONTEXT_LENGTH = 8192\n",
    "\n",
    "# GPT-4 평가 함수\n",
    "def evaluate_with_gpt4(input_text, model_output, true_output):\n",
    "    input_text = str(input_text)[:MAX_CONTEXT_LENGTH]\n",
    "    model_output = str(model_output)[:MAX_CONTEXT_LENGTH]\n",
    "    true_output = str(true_output)[:MAX_CONTEXT_LENGTH]\n",
    "\n",
    "    prompt = f\"\"\"\n",
    "    You are tasked with evaluating the quality of a QA model's responses based on the following metrics:\n",
    "    1. **Coherence**: Does the model's response logically align with the context provided in the input?\n",
    "    2. **Completeness**: Does the model's response sufficiently answer the question in the input?\n",
    "    3. **Naturalness**: Does the model's response sound fluent and human-like?\n",
    "\n",
    "    **Input**:\n",
    "    {input_text}\n",
    "\n",
    "    **Model's Response**:\n",
    "    {model_output}\n",
    "\n",
    "    **True Answer**:\n",
    "    {true_output}\n",
    "\n",
    "    Please rate each metric on a scale from 1 to 5. \n",
    "    Example response format:\n",
    "    - Coherence: X.X\n",
    "    - Completeness: X.X\n",
    "    - Naturalness: X.X\n",
    "    \"\"\"\n",
    "    try:\n",
    "        response = openai.ChatCompletion.create(\n",
    "            model=\"gpt-3.5-turbo-0125\",\n",
    "            messages=[\n",
    "                {\"role\": \"system\", \"content\": \"You are an expert evaluator for Summarization models.\"},\n",
    "                {\"role\": \"user\", \"content\": prompt}\n",
    "            ]\n",
    "        )\n",
    "        return response[\"choices\"][0][\"message\"][\"content\"]\n",
    "    except Exception as e:\n",
    "        print(\"Error with GPT-4 API:\", e)\n",
    "        return None\n",
    "\n",
    "# GPT-4 점수 추출\n",
    "def extract_scores(evaluation):\n",
    "    if evaluation is None:\n",
    "        return {\"Coherence\": 0.0, \"Completeness\": 0.0, \"Naturalness\": 0.0}\n",
    "    coherence = re.search(r\"Coherence: (\\d\\.\\d)\", evaluation)\n",
    "    completeness = re.search(r\"Completeness: (\\d\\.\\d)\", evaluation)\n",
    "    naturalness = re.search(r\"Naturalness: (\\d\\.\\d)\", evaluation)\n",
    "    \n",
    "    return {\n",
    "        \"Coherence\": float(coherence.group(1)) if coherence else 0.0,\n",
    "        \"Completeness\": float(completeness.group(1)) if completeness else 0.0,\n",
    "        \"Naturalness\": float(naturalness.group(1)) if naturalness else 0.0\n",
    "    }\n",
    "\n",
    "# BLEURT 점수 계산\n",
    "def calculate_bleurt(y_true, y_pred):\n",
    "    inputs = tokenizer(y_pred, y_true, return_tensors=\"pt\", padding=True, truncation=True, max_length=512)\n",
    "    inputs = {key: value.to(device) for key, value in inputs.items()}\n",
    "    \n",
    "    with torch.no_grad():\n",
    "        scores = bleurt_model(**inputs).logits\n",
    "\n",
    "    if scores.numel() == 1:\n",
    "        return float(scores.squeeze().item())  \n",
    "    return [float(score) for score in scores.squeeze().tolist()]  \n",
    "\n",
    "# BLEURT 및 BERTScore 계산\n",
    "def calculate_bleurt_and_bertscore(y_true, y_pred):\n",
    "    bleurt_score_value = calculate_bleurt(y_true, y_pred)\n",
    "    _, _, bert_f1 = bert_score(y_pred, y_true, lang=\"en\", rescale_with_baseline=True)\n",
    "    bert_f1_avg = sum(bert_f1) / len(bert_f1) if len(bert_f1) > 0 else 0\n",
    "\n",
    "    return {\n",
    "        \"BLEURT\": bleurt_score_value if isinstance(bleurt_score_value, float) else sum(bleurt_score_value) / len(bleurt_score_value),\n",
    "        \"BERTScore_F1\": bert_f1_avg\n",
    "    }\n",
    "\n",
    "# 점수 정규화 함수\n",
    "def normalize_scores(df, column):\n",
    "    if column not in df.columns:\n",
    "        print(f\"Warning: Column {column} not found in DataFrame. Skipping normalization.\")\n",
    "        return df\n",
    "    df[column] = df[column].apply(lambda x: float(x) if isinstance(x, torch.Tensor) else x)\n",
    "    min_val, max_val = df[column].min(), df[column].max()\n",
    "    df[column] = df[column].apply(lambda x: (x - min_val) / (max_val - min_val) if max_val > min_val else 0.5)\n",
    "    return df\n",
    "\n",
    "alternative = df[df['task'] == 'alternative_diet']\n",
    "results = []\n",
    "\n",
    "for _, row in alternative.iterrows():\n",
    "    input_text = str(row['input'])\n",
    "    model_output = str(row['model_output'])\n",
    "    true_output = str(row['output'])\n",
    "    \n",
    "    evaluation = evaluate_with_gpt4(input_text, model_output, true_output)\n",
    "    if i % 10 == 0:\n",
    "        print(f\"Evaluation {i+1} result:\\n{evaluation}\")\n",
    "            \n",
    "    scores = extract_scores(evaluation)\n",
    "    metric_scores = calculate_bleurt_and_bertscore([true_output], [model_output])\n",
    "\n",
    "    results.append({\n",
    "        \"input\": input_text,\n",
    "        \"model_output\": model_output,\n",
    "        \"true_output\": true_output,\n",
    "        \"evaluation\": evaluation,\n",
    "        \"Coherence\": scores[\"Coherence\"],\n",
    "        \"Completeness\": scores[\"Completeness\"],\n",
    "        \"Naturalness\": scores[\"Naturalness\"],\n",
    "        \"BLEURT\": metric_scores.get(\"BLEURT\", 0.0),  # 기본값 설정\n",
    "        \"BERTScore_F1\": metric_scores.get(\"BERTScore_F1\", 0.0)\n",
    "    })\n",
    "\n",
    "evaluation_df = pd.DataFrame(results)\n",
    "\n",
    "# 'BLEURT' 컬럼이 존재하는지 확인 후 정규화 수행\n",
    "evaluation_df = normalize_scores(evaluation_df, \"BLEURT\")\n",
    "evaluation_df = normalize_scores(evaluation_df, \"BERTScore_F1\")\n",
    "\n",
    "average_scores = evaluation_df[[\"Coherence\", \"Completeness\", \"Naturalness\", \"BLEURT\", \"BERTScore_F1\"]].mean()\n",
    "print(\"평균 점수:\")\n",
    "print(average_scores)\n"
   ]
  },
  {
   "cell_type": "code",
   "execution_count": 29,
   "metadata": {},
   "outputs": [
    {
     "data": {
      "text/html": [
       "<div>\n",
       "<style scoped>\n",
       "    .dataframe tbody tr th:only-of-type {\n",
       "        vertical-align: middle;\n",
       "    }\n",
       "\n",
       "    .dataframe tbody tr th {\n",
       "        vertical-align: top;\n",
       "    }\n",
       "\n",
       "    .dataframe thead th {\n",
       "        text-align: right;\n",
       "    }\n",
       "</style>\n",
       "<table border=\"1\" class=\"dataframe\">\n",
       "  <thead>\n",
       "    <tr style=\"text-align: right;\">\n",
       "      <th></th>\n",
       "      <th>title</th>\n",
       "      <th>description</th>\n",
       "      <th>prep_time</th>\n",
       "      <th>cook_time</th>\n",
       "      <th>servings</th>\n",
       "      <th>steps</th>\n",
       "      <th>tags</th>\n",
       "      <th>nutrition_facts</th>\n",
       "      <th>ingredients</th>\n",
       "    </tr>\n",
       "  </thead>\n",
       "  <tbody>\n",
       "    <tr>\n",
       "      <th>0</th>\n",
       "      <td>Raspberry Swirl Frozen Yogurt Bark</td>\n",
       "      <td>Raspberry Swirl Frozen Yogurt Bark: Dive into ...</td>\n",
       "      <td>10 min</td>\n",
       "      <td>4 hr</td>\n",
       "      <td>6 Servings</td>\n",
       "      <td>['Cover a freezer-safe tray with parchment pap...</td>\n",
       "      <td>['Kid Friendly', 'Vegetarian', 'Dessert', 'Sna...</td>\n",
       "      <td>{'Servings': '6 Servings', 'Serving Size': '1 ...</td>\n",
       "      <td>[{'label': 'Plain Nonfat Greek yogurt', 'us_me...</td>\n",
       "    </tr>\n",
       "    <tr>\n",
       "      <th>1</th>\n",
       "      <td>Maple-Pumpkin Spice Oatmeal Cookies</td>\n",
       "      <td>Description not found</td>\n",
       "      <td>10 min</td>\n",
       "      <td>25 min</td>\n",
       "      <td>14 Servings</td>\n",
       "      <td>['Preheat the oven to 350 degrees F. Line two ...</td>\n",
       "      <td>['Kid Friendly', 'Vegetarian', 'Snacks', 'Glut...</td>\n",
       "      <td>{'Servings': '14 Servings', 'Serving Size': '1...</td>\n",
       "      <td>[{'label': 'old-fashioned rolled oats', 'us_me...</td>\n",
       "    </tr>\n",
       "  </tbody>\n",
       "</table>\n",
       "</div>"
      ],
      "text/plain": [
       "                                 title  \\\n",
       "0   Raspberry Swirl Frozen Yogurt Bark   \n",
       "1  Maple-Pumpkin Spice Oatmeal Cookies   \n",
       "\n",
       "                                         description prep_time cook_time  \\\n",
       "0  Raspberry Swirl Frozen Yogurt Bark: Dive into ...    10 min      4 hr   \n",
       "1                              Description not found    10 min    25 min   \n",
       "\n",
       "      servings                                              steps  \\\n",
       "0   6 Servings  ['Cover a freezer-safe tray with parchment pap...   \n",
       "1  14 Servings  ['Preheat the oven to 350 degrees F. Line two ...   \n",
       "\n",
       "                                                tags  \\\n",
       "0  ['Kid Friendly', 'Vegetarian', 'Dessert', 'Sna...   \n",
       "1  ['Kid Friendly', 'Vegetarian', 'Snacks', 'Glut...   \n",
       "\n",
       "                                     nutrition_facts  \\\n",
       "0  {'Servings': '6 Servings', 'Serving Size': '1 ...   \n",
       "1  {'Servings': '14 Servings', 'Serving Size': '1...   \n",
       "\n",
       "                                         ingredients  \n",
       "0  [{'label': 'Plain Nonfat Greek yogurt', 'us_me...  \n",
       "1  [{'label': 'old-fashioned rolled oats', 'us_me...  "
      ]
     },
     "execution_count": 29,
     "metadata": {},
     "output_type": "execute_result"
    }
   ],
   "source": [
    "import pandas as pd\n",
    "\n",
    "dfh = pd.read_csv(\"/data/jaesung/llm_for_diabetes/src/data/data2_daily_diets/diabetes_food_hub_new_nutri_facts.csv\")\n",
    "dfh.head(2)"
   ]
  },
  {
   "cell_type": "code",
   "execution_count": null,
   "metadata": {},
   "outputs": [],
   "source": []
  },
  {
   "cell_type": "code",
   "execution_count": 31,
   "metadata": {},
   "outputs": [
    {
     "name": "stderr",
     "output_type": "stream",
     "text": [
      "100%|██████████| 274/274 [00:00<00:00, 22063.42it/s]"
     ]
    },
    {
     "name": "stdout",
     "output_type": "stream",
     "text": [
      "=== Results for Each Row ===\n",
      "Row Index: 661\n",
      "Output Scores: {}\n",
      "Model Output Scores: {}\n",
      "\n",
      "Row Index: 662\n",
      "Output Scores: {}\n",
      "Model Output Scores: {}\n",
      "\n",
      "Row Index: 663\n",
      "Output Scores: {}\n",
      "Model Output Scores: {}\n",
      "\n",
      "Row Index: 664\n",
      "Output Scores: {}\n",
      "Model Output Scores: {}\n",
      "\n",
      "Row Index: 665\n",
      "Output Scores: {}\n",
      "Model Output Scores: {}\n",
      "\n",
      "Row Index: 666\n",
      "Output Scores: {}\n",
      "Model Output Scores: {}\n",
      "\n",
      "Row Index: 667\n",
      "Output Scores: {}\n",
      "Model Output Scores: {}\n",
      "\n",
      "Row Index: 668\n",
      "Output Scores: {}\n",
      "Model Output Scores: {}\n",
      "\n",
      "Row Index: 669\n",
      "Output Scores: {}\n",
      "Model Output Scores: {}\n",
      "\n",
      "Row Index: 670\n",
      "Output Scores: {}\n",
      "Model Output Scores: {}\n",
      "\n",
      "Row Index: 671\n",
      "Output Scores: {}\n",
      "Model Output Scores: {}\n",
      "\n",
      "Row Index: 672\n",
      "Output Scores: {}\n",
      "Model Output Scores: {}\n",
      "\n",
      "Row Index: 673\n",
      "Output Scores: {}\n",
      "Model Output Scores: {}\n",
      "\n",
      "Row Index: 674\n",
      "Output Scores: {}\n",
      "Model Output Scores: {}\n",
      "\n",
      "Row Index: 675\n",
      "Output Scores: {}\n",
      "Model Output Scores: {}\n",
      "\n",
      "Row Index: 676\n",
      "Output Scores: {}\n",
      "Model Output Scores: {}\n",
      "\n",
      "Row Index: 677\n",
      "Output Scores: {}\n",
      "Model Output Scores: {}\n",
      "\n",
      "Row Index: 678\n",
      "Output Scores: {}\n",
      "Model Output Scores: {}\n",
      "\n",
      "Row Index: 679\n",
      "Output Scores: {}\n",
      "Model Output Scores: {}\n",
      "\n",
      "Row Index: 680\n",
      "Output Scores: {}\n",
      "Model Output Scores: {}\n",
      "\n",
      "Row Index: 681\n",
      "Output Scores: {}\n",
      "Model Output Scores: {}\n",
      "\n",
      "Row Index: 682\n",
      "Output Scores: {}\n",
      "Model Output Scores: {}\n",
      "\n",
      "Row Index: 683\n",
      "Output Scores: {}\n",
      "Model Output Scores: {}\n",
      "\n",
      "Row Index: 684\n",
      "Output Scores: {}\n",
      "Model Output Scores: {}\n",
      "\n",
      "Row Index: 685\n",
      "Output Scores: {}\n",
      "Model Output Scores: {}\n",
      "\n",
      "Row Index: 686\n",
      "Output Scores: {}\n",
      "Model Output Scores: {}\n",
      "\n",
      "Row Index: 687\n",
      "Output Scores: {}\n",
      "Model Output Scores: {}\n",
      "\n",
      "Row Index: 688\n",
      "Output Scores: {}\n",
      "Model Output Scores: {}\n",
      "\n",
      "Row Index: 689\n",
      "Output Scores: {}\n",
      "Model Output Scores: {}\n",
      "\n",
      "Row Index: 690\n",
      "Output Scores: {}\n",
      "Model Output Scores: {}\n",
      "\n",
      "Row Index: 691\n",
      "Output Scores: {}\n",
      "Model Output Scores: {}\n",
      "\n",
      "Row Index: 692\n",
      "Output Scores: {}\n",
      "Model Output Scores: {}\n",
      "\n",
      "Row Index: 693\n",
      "Output Scores: {}\n",
      "Model Output Scores: {}\n",
      "\n",
      "Row Index: 694\n",
      "Output Scores: {}\n",
      "Model Output Scores: {}\n",
      "\n",
      "Row Index: 695\n",
      "Output Scores: {}\n",
      "Model Output Scores: {}\n",
      "\n",
      "Row Index: 696\n",
      "Output Scores: {}\n",
      "Model Output Scores: {}\n",
      "\n",
      "Row Index: 697\n",
      "Output Scores: {}\n",
      "Model Output Scores: {}\n",
      "\n",
      "Row Index: 698\n",
      "Output Scores: {}\n",
      "Model Output Scores: {}\n",
      "\n",
      "Row Index: 699\n",
      "Output Scores: {}\n",
      "Model Output Scores: {}\n",
      "\n",
      "Row Index: 700\n",
      "Output Scores: {}\n",
      "Model Output Scores: {}\n",
      "\n",
      "Row Index: 701\n",
      "Output Scores: {}\n",
      "Model Output Scores: {}\n",
      "\n",
      "Row Index: 702\n",
      "Output Scores: {}\n",
      "Model Output Scores: {}\n",
      "\n",
      "Row Index: 703\n",
      "Output Scores: {}\n",
      "Model Output Scores: {}\n",
      "\n",
      "Row Index: 704\n",
      "Output Scores: {}\n",
      "Model Output Scores: {}\n",
      "\n",
      "Row Index: 705\n",
      "Output Scores: {}\n",
      "Model Output Scores: {}\n",
      "\n",
      "Row Index: 706\n",
      "Output Scores: {}\n",
      "Model Output Scores: {}\n",
      "\n",
      "Row Index: 707\n",
      "Output Scores: {}\n",
      "Model Output Scores: {}\n",
      "\n",
      "Row Index: 708\n",
      "Output Scores: {}\n",
      "Model Output Scores: {}\n",
      "\n",
      "Row Index: 709\n",
      "Output Scores: {}\n",
      "Model Output Scores: {}\n",
      "\n",
      "Row Index: 710\n",
      "Output Scores: {}\n",
      "Model Output Scores: {}\n",
      "\n",
      "Row Index: 711\n",
      "Output Scores: {}\n",
      "Model Output Scores: {}\n",
      "\n",
      "Row Index: 712\n",
      "Output Scores: {}\n",
      "Model Output Scores: {}\n",
      "\n",
      "Row Index: 713\n",
      "Output Scores: {}\n",
      "Model Output Scores: {}\n",
      "\n",
      "Row Index: 714\n",
      "Output Scores: {}\n",
      "Model Output Scores: {}\n",
      "\n",
      "Row Index: 715\n",
      "Output Scores: {}\n",
      "Model Output Scores: {}\n",
      "\n",
      "Row Index: 716\n",
      "Output Scores: {}\n",
      "Model Output Scores: {}\n",
      "\n",
      "Row Index: 717\n",
      "Output Scores: {}\n",
      "Model Output Scores: {}\n",
      "\n",
      "Row Index: 718\n",
      "Output Scores: {}\n",
      "Model Output Scores: {}\n",
      "\n",
      "Row Index: 719\n",
      "Output Scores: {}\n",
      "Model Output Scores: {}\n",
      "\n",
      "Row Index: 720\n",
      "Output Scores: {}\n",
      "Model Output Scores: {}\n",
      "\n",
      "Row Index: 721\n",
      "Output Scores: {}\n",
      "Model Output Scores: {}\n",
      "\n",
      "Row Index: 722\n",
      "Output Scores: {}\n",
      "Model Output Scores: {}\n",
      "\n",
      "Row Index: 723\n",
      "Output Scores: {}\n",
      "Model Output Scores: {}\n",
      "\n",
      "Row Index: 724\n",
      "Output Scores: {}\n",
      "Model Output Scores: {}\n",
      "\n",
      "Row Index: 725\n",
      "Output Scores: {}\n",
      "Model Output Scores: {}\n",
      "\n",
      "Row Index: 726\n",
      "Output Scores: {}\n",
      "Model Output Scores: {}\n",
      "\n",
      "Row Index: 727\n",
      "Output Scores: {}\n",
      "Model Output Scores: {}\n",
      "\n",
      "Row Index: 728\n",
      "Output Scores: {}\n",
      "Model Output Scores: {}\n",
      "\n",
      "Row Index: 729\n",
      "Output Scores: {}\n",
      "Model Output Scores: {}\n",
      "\n",
      "Row Index: 730\n",
      "Output Scores: {}\n",
      "Model Output Scores: {}\n",
      "\n",
      "Row Index: 731\n",
      "Output Scores: {}\n",
      "Model Output Scores: {}\n",
      "\n",
      "Row Index: 732\n",
      "Output Scores: {}\n",
      "Model Output Scores: {}\n",
      "\n",
      "Row Index: 733\n",
      "Output Scores: {}\n",
      "Model Output Scores: {}\n",
      "\n",
      "Row Index: 734\n",
      "Output Scores: {}\n",
      "Model Output Scores: {}\n",
      "\n",
      "Row Index: 735\n",
      "Output Scores: {}\n",
      "Model Output Scores: {}\n",
      "\n",
      "Row Index: 736\n",
      "Output Scores: {}\n",
      "Model Output Scores: {}\n",
      "\n",
      "Row Index: 737\n",
      "Output Scores: {}\n",
      "Model Output Scores: {}\n",
      "\n",
      "Row Index: 738\n",
      "Output Scores: {}\n",
      "Model Output Scores: {}\n",
      "\n",
      "Row Index: 739\n",
      "Output Scores: {}\n",
      "Model Output Scores: {}\n",
      "\n",
      "Row Index: 740\n",
      "Output Scores: {}\n",
      "Model Output Scores: {}\n",
      "\n",
      "Row Index: 741\n",
      "Output Scores: {}\n",
      "Model Output Scores: {}\n",
      "\n",
      "Row Index: 742\n",
      "Output Scores: {}\n",
      "Model Output Scores: {}\n",
      "\n",
      "Row Index: 743\n",
      "Output Scores: {}\n",
      "Model Output Scores: {}\n",
      "\n",
      "Row Index: 744\n",
      "Output Scores: {}\n",
      "Model Output Scores: {}\n",
      "\n",
      "Row Index: 745\n",
      "Output Scores: {}\n",
      "Model Output Scores: {}\n",
      "\n",
      "Row Index: 746\n",
      "Output Scores: {}\n",
      "Model Output Scores: {}\n",
      "\n",
      "Row Index: 747\n",
      "Output Scores: {}\n",
      "Model Output Scores: {}\n",
      "\n",
      "Row Index: 748\n",
      "Output Scores: {}\n",
      "Model Output Scores: {}\n",
      "\n",
      "Row Index: 749\n",
      "Output Scores: {}\n",
      "Model Output Scores: {}\n",
      "\n",
      "Row Index: 750\n",
      "Output Scores: {}\n",
      "Model Output Scores: {}\n",
      "\n",
      "Row Index: 751\n",
      "Output Scores: {}\n",
      "Model Output Scores: {}\n",
      "\n",
      "Row Index: 752\n",
      "Output Scores: {}\n",
      "Model Output Scores: {}\n",
      "\n",
      "Row Index: 753\n",
      "Output Scores: {}\n",
      "Model Output Scores: {}\n",
      "\n",
      "Row Index: 754\n",
      "Output Scores: {}\n",
      "Model Output Scores: {}\n",
      "\n",
      "Row Index: 755\n",
      "Output Scores: {}\n",
      "Model Output Scores: {}\n",
      "\n",
      "Row Index: 756\n",
      "Output Scores: {}\n",
      "Model Output Scores: {}\n",
      "\n",
      "Row Index: 757\n",
      "Output Scores: {}\n",
      "Model Output Scores: {}\n",
      "\n",
      "Row Index: 758\n",
      "Output Scores: {}\n",
      "Model Output Scores: {}\n",
      "\n",
      "Row Index: 759\n",
      "Output Scores: {}\n",
      "Model Output Scores: {}\n",
      "\n",
      "Row Index: 760\n",
      "Output Scores: {}\n",
      "Model Output Scores: {}\n",
      "\n",
      "Row Index: 761\n",
      "Output Scores: {}\n",
      "Model Output Scores: {}\n",
      "\n",
      "Row Index: 762\n",
      "Output Scores: {}\n",
      "Model Output Scores: {}\n",
      "\n",
      "Row Index: 763\n",
      "Output Scores: {}\n",
      "Model Output Scores: {}\n",
      "\n",
      "Row Index: 764\n",
      "Output Scores: {}\n",
      "Model Output Scores: {}\n",
      "\n",
      "Row Index: 765\n",
      "Output Scores: {}\n",
      "Model Output Scores: {}\n",
      "\n",
      "Row Index: 766\n",
      "Output Scores: {}\n",
      "Model Output Scores: {}\n",
      "\n",
      "Row Index: 767\n",
      "Output Scores: {}\n",
      "Model Output Scores: {}\n",
      "\n",
      "Row Index: 768\n",
      "Output Scores: {}\n",
      "Model Output Scores: {}\n",
      "\n",
      "Row Index: 769\n",
      "Output Scores: {}\n",
      "Model Output Scores: {}\n",
      "\n",
      "Row Index: 770\n",
      "Output Scores: {}\n",
      "Model Output Scores: {}\n",
      "\n",
      "Row Index: 771\n",
      "Output Scores: {}\n",
      "Model Output Scores: {}\n",
      "\n",
      "Row Index: 772\n",
      "Output Scores: {}\n",
      "Model Output Scores: {}\n",
      "\n",
      "Row Index: 773\n",
      "Output Scores: {}\n",
      "Model Output Scores: {}\n",
      "\n",
      "Row Index: 774\n",
      "Output Scores: {}\n",
      "Model Output Scores: {}\n",
      "\n",
      "Row Index: 775\n",
      "Output Scores: {}\n",
      "Model Output Scores: {}\n",
      "\n",
      "Row Index: 776\n",
      "Output Scores: {}\n",
      "Model Output Scores: {}\n",
      "\n",
      "Row Index: 777\n",
      "Output Scores: {}\n",
      "Model Output Scores: {}\n",
      "\n",
      "Row Index: 778\n",
      "Output Scores: {}\n",
      "Model Output Scores: {}\n",
      "\n",
      "Row Index: 779\n",
      "Output Scores: {}\n",
      "Model Output Scores: {}\n",
      "\n",
      "Row Index: 780\n",
      "Output Scores: {}\n",
      "Model Output Scores: {}\n",
      "\n",
      "Row Index: 781\n",
      "Output Scores: {}\n",
      "Model Output Scores: {}\n",
      "\n",
      "Row Index: 782\n",
      "Output Scores: {}\n",
      "Model Output Scores: {}\n",
      "\n",
      "Row Index: 783\n",
      "Output Scores: {}\n",
      "Model Output Scores: {}\n",
      "\n",
      "Row Index: 784\n",
      "Output Scores: {}\n",
      "Model Output Scores: {}\n",
      "\n",
      "Row Index: 785\n",
      "Output Scores: {}\n",
      "Model Output Scores: {}\n",
      "\n",
      "Row Index: 786\n",
      "Output Scores: {}\n",
      "Model Output Scores: {}\n",
      "\n",
      "Row Index: 787\n",
      "Output Scores: {}\n",
      "Model Output Scores: {}\n",
      "\n",
      "Row Index: 788\n",
      "Output Scores: {}\n",
      "Model Output Scores: {}\n",
      "\n",
      "Row Index: 789\n",
      "Output Scores: {}\n",
      "Model Output Scores: {}\n",
      "\n",
      "Row Index: 790\n",
      "Output Scores: {}\n",
      "Model Output Scores: {}\n",
      "\n",
      "Row Index: 791\n",
      "Output Scores: {}\n",
      "Model Output Scores: {}\n",
      "\n",
      "Row Index: 792\n",
      "Output Scores: {}\n",
      "Model Output Scores: {}\n",
      "\n",
      "Row Index: 793\n",
      "Output Scores: {}\n",
      "Model Output Scores: {}\n",
      "\n",
      "Row Index: 794\n",
      "Output Scores: {}\n",
      "Model Output Scores: {}\n",
      "\n",
      "Row Index: 795\n",
      "Output Scores: {}\n",
      "Model Output Scores: {}\n",
      "\n",
      "Row Index: 796\n",
      "Output Scores: {}\n",
      "Model Output Scores: {}\n",
      "\n",
      "Row Index: 797\n",
      "Output Scores: {}\n",
      "Model Output Scores: {}\n",
      "\n",
      "Row Index: 798\n",
      "Output Scores: {}\n",
      "Model Output Scores: {}\n",
      "\n",
      "Row Index: 799\n",
      "Output Scores: {}\n",
      "Model Output Scores: {}\n",
      "\n",
      "Row Index: 800\n",
      "Output Scores: {}\n",
      "Model Output Scores: {}\n",
      "\n",
      "Row Index: 801\n",
      "Output Scores: {}\n",
      "Model Output Scores: {}\n",
      "\n",
      "Row Index: 802\n",
      "Output Scores: {}\n",
      "Model Output Scores: {}\n",
      "\n",
      "Row Index: 803\n",
      "Output Scores: {}\n",
      "Model Output Scores: {}\n",
      "\n",
      "Row Index: 804\n",
      "Output Scores: {}\n",
      "Model Output Scores: {}\n",
      "\n",
      "Row Index: 805\n",
      "Output Scores: {}\n",
      "Model Output Scores: {}\n",
      "\n",
      "Row Index: 806\n",
      "Output Scores: {}\n",
      "Model Output Scores: {}\n",
      "\n",
      "Row Index: 807\n",
      "Output Scores: {}\n",
      "Model Output Scores: {}\n",
      "\n",
      "Row Index: 808\n",
      "Output Scores: {}\n",
      "Model Output Scores: {}\n",
      "\n",
      "Row Index: 809\n",
      "Output Scores: {}\n",
      "Model Output Scores: {}\n",
      "\n",
      "Row Index: 810\n",
      "Output Scores: {}\n",
      "Model Output Scores: {}\n",
      "\n",
      "Row Index: 811\n",
      "Output Scores: {}\n",
      "Model Output Scores: {}\n",
      "\n",
      "Row Index: 812\n",
      "Output Scores: {}\n",
      "Model Output Scores: {}\n",
      "\n",
      "Row Index: 813\n",
      "Output Scores: {}\n",
      "Model Output Scores: {}\n",
      "\n",
      "Row Index: 814\n",
      "Output Scores: {}\n",
      "Model Output Scores: {}\n",
      "\n",
      "Row Index: 815\n",
      "Output Scores: {}\n",
      "Model Output Scores: {}\n",
      "\n",
      "Row Index: 816\n",
      "Output Scores: {}\n",
      "Model Output Scores: {}\n",
      "\n",
      "Row Index: 817\n",
      "Output Scores: {}\n",
      "Model Output Scores: {}\n",
      "\n",
      "Row Index: 818\n",
      "Output Scores: {}\n",
      "Model Output Scores: {}\n",
      "\n",
      "Row Index: 819\n",
      "Output Scores: {}\n",
      "Model Output Scores: {}\n",
      "\n",
      "Row Index: 820\n",
      "Output Scores: {}\n",
      "Model Output Scores: {}\n",
      "\n",
      "Row Index: 821\n",
      "Output Scores: {}\n",
      "Model Output Scores: {}\n",
      "\n",
      "Row Index: 822\n",
      "Output Scores: {}\n",
      "Model Output Scores: {}\n",
      "\n",
      "Row Index: 823\n",
      "Output Scores: {}\n",
      "Model Output Scores: {}\n",
      "\n",
      "Row Index: 824\n",
      "Output Scores: {}\n",
      "Model Output Scores: {}\n",
      "\n",
      "Row Index: 825\n",
      "Output Scores: {}\n",
      "Model Output Scores: {}\n",
      "\n",
      "Row Index: 826\n",
      "Output Scores: {}\n",
      "Model Output Scores: {}\n",
      "\n",
      "Row Index: 827\n",
      "Output Scores: {}\n",
      "Model Output Scores: {}\n",
      "\n",
      "Row Index: 828\n",
      "Output Scores: {}\n",
      "Model Output Scores: {}\n",
      "\n",
      "Row Index: 829\n",
      "Output Scores: {}\n",
      "Model Output Scores: {}\n",
      "\n",
      "Row Index: 830\n",
      "Output Scores: {}\n",
      "Model Output Scores: {}\n",
      "\n",
      "Row Index: 831\n",
      "Output Scores: {}\n",
      "Model Output Scores: {}\n",
      "\n",
      "Row Index: 832\n",
      "Output Scores: {}\n",
      "Model Output Scores: {}\n",
      "\n",
      "Row Index: 833\n",
      "Output Scores: {}\n",
      "Model Output Scores: {}\n",
      "\n",
      "Row Index: 834\n",
      "Output Scores: {}\n",
      "Model Output Scores: {}\n",
      "\n",
      "Row Index: 835\n",
      "Output Scores: {}\n",
      "Model Output Scores: {}\n",
      "\n",
      "Row Index: 836\n",
      "Output Scores: {}\n",
      "Model Output Scores: {}\n",
      "\n",
      "Row Index: 837\n",
      "Output Scores: {}\n",
      "Model Output Scores: {}\n",
      "\n",
      "Row Index: 838\n",
      "Output Scores: {}\n",
      "Model Output Scores: {}\n",
      "\n",
      "Row Index: 839\n",
      "Output Scores: {}\n",
      "Model Output Scores: {}\n",
      "\n",
      "Row Index: 840\n",
      "Output Scores: {}\n",
      "Model Output Scores: {}\n",
      "\n",
      "Row Index: 841\n",
      "Output Scores: {}\n",
      "Model Output Scores: {}\n",
      "\n",
      "Row Index: 842\n",
      "Output Scores: {}\n",
      "Model Output Scores: {}\n",
      "\n",
      "Row Index: 843\n",
      "Output Scores: {}\n",
      "Model Output Scores: {}\n",
      "\n",
      "Row Index: 844\n",
      "Output Scores: {}\n",
      "Model Output Scores: {}\n",
      "\n",
      "Row Index: 845\n",
      "Output Scores: {}\n",
      "Model Output Scores: {}\n",
      "\n",
      "Row Index: 846\n",
      "Output Scores: {}\n",
      "Model Output Scores: {}\n",
      "\n",
      "Row Index: 847\n",
      "Output Scores: {}\n",
      "Model Output Scores: {}\n",
      "\n",
      "Row Index: 848\n",
      "Output Scores: {}\n",
      "Model Output Scores: {}\n",
      "\n",
      "Row Index: 849\n",
      "Output Scores: {}\n",
      "Model Output Scores: {}\n",
      "\n",
      "Row Index: 850\n",
      "Output Scores: {}\n",
      "Model Output Scores: {}\n",
      "\n",
      "Row Index: 851\n",
      "Output Scores: {}\n",
      "Model Output Scores: {}\n",
      "\n",
      "Row Index: 852\n",
      "Output Scores: {}\n",
      "Model Output Scores: {}\n",
      "\n",
      "Row Index: 853\n",
      "Output Scores: {}\n",
      "Model Output Scores: {}\n",
      "\n",
      "Row Index: 854\n",
      "Output Scores: {}\n",
      "Model Output Scores: {}\n",
      "\n",
      "Row Index: 855\n",
      "Output Scores: {}\n",
      "Model Output Scores: {}\n",
      "\n",
      "Row Index: 856\n",
      "Output Scores: {}\n",
      "Model Output Scores: {}\n",
      "\n",
      "Row Index: 857\n",
      "Output Scores: {}\n",
      "Model Output Scores: {}\n",
      "\n",
      "Row Index: 858\n",
      "Output Scores: {}\n",
      "Model Output Scores: {}\n",
      "\n",
      "Row Index: 859\n",
      "Output Scores: {}\n",
      "Model Output Scores: {}\n",
      "\n",
      "Row Index: 860\n",
      "Output Scores: {}\n",
      "Model Output Scores: {}\n",
      "\n",
      "Row Index: 861\n",
      "Output Scores: {}\n",
      "Model Output Scores: {}\n",
      "\n",
      "Row Index: 862\n",
      "Output Scores: {}\n",
      "Model Output Scores: {}\n",
      "\n",
      "Row Index: 863\n",
      "Output Scores: {}\n",
      "Model Output Scores: {}\n",
      "\n",
      "Row Index: 864\n",
      "Output Scores: {}\n",
      "Model Output Scores: {}\n",
      "\n",
      "Row Index: 865\n",
      "Output Scores: {}\n",
      "Model Output Scores: {}\n",
      "\n",
      "Row Index: 866\n",
      "Output Scores: {}\n",
      "Model Output Scores: {}\n",
      "\n",
      "Row Index: 867\n",
      "Output Scores: {}\n",
      "Model Output Scores: {}\n",
      "\n",
      "Row Index: 868\n",
      "Output Scores: {}\n",
      "Model Output Scores: {}\n",
      "\n",
      "Row Index: 869\n",
      "Output Scores: {}\n",
      "Model Output Scores: {}\n",
      "\n",
      "Row Index: 870\n",
      "Output Scores: {}\n",
      "Model Output Scores: {}\n",
      "\n",
      "Row Index: 871\n",
      "Output Scores: {}\n",
      "Model Output Scores: {}\n",
      "\n",
      "Row Index: 872\n",
      "Output Scores: {}\n",
      "Model Output Scores: {}\n",
      "\n",
      "Row Index: 873\n",
      "Output Scores: {}\n",
      "Model Output Scores: {}\n",
      "\n",
      "Row Index: 874\n",
      "Output Scores: {}\n",
      "Model Output Scores: {}\n",
      "\n",
      "Row Index: 875\n",
      "Output Scores: {}\n",
      "Model Output Scores: {}\n",
      "\n",
      "Row Index: 876\n",
      "Output Scores: {}\n",
      "Model Output Scores: {}\n",
      "\n",
      "Row Index: 877\n",
      "Output Scores: {}\n",
      "Model Output Scores: {}\n",
      "\n",
      "Row Index: 878\n",
      "Output Scores: {}\n",
      "Model Output Scores: {}\n",
      "\n",
      "Row Index: 879\n",
      "Output Scores: {}\n",
      "Model Output Scores: {}\n",
      "\n",
      "Row Index: 880\n",
      "Output Scores: {}\n",
      "Model Output Scores: {}\n",
      "\n",
      "Row Index: 881\n",
      "Output Scores: {}\n",
      "Model Output Scores: {}\n",
      "\n",
      "Row Index: 882\n",
      "Output Scores: {}\n",
      "Model Output Scores: {}\n",
      "\n",
      "Row Index: 883\n",
      "Output Scores: {}\n",
      "Model Output Scores: {}\n",
      "\n",
      "Row Index: 884\n",
      "Output Scores: {}\n",
      "Model Output Scores: {}\n",
      "\n",
      "Row Index: 885\n",
      "Output Scores: {}\n",
      "Model Output Scores: {}\n",
      "\n",
      "Row Index: 886\n",
      "Output Scores: {}\n",
      "Model Output Scores: {}\n",
      "\n",
      "Row Index: 887\n",
      "Output Scores: {}\n",
      "Model Output Scores: {}\n",
      "\n",
      "Row Index: 888\n",
      "Output Scores: {}\n",
      "Model Output Scores: {}\n",
      "\n",
      "Row Index: 889\n",
      "Output Scores: {}\n",
      "Model Output Scores: {}\n",
      "\n",
      "Row Index: 890\n",
      "Output Scores: {}\n",
      "Model Output Scores: {}\n",
      "\n",
      "Row Index: 891\n",
      "Output Scores: {}\n",
      "Model Output Scores: {}\n",
      "\n",
      "Row Index: 892\n",
      "Output Scores: {}\n",
      "Model Output Scores: {}\n",
      "\n",
      "Row Index: 893\n",
      "Output Scores: {}\n",
      "Model Output Scores: {}\n",
      "\n",
      "Row Index: 894\n",
      "Output Scores: {}\n",
      "Model Output Scores: {}\n",
      "\n",
      "Row Index: 895\n",
      "Output Scores: {}\n",
      "Model Output Scores: {}\n",
      "\n",
      "Row Index: 896\n",
      "Output Scores: {}\n",
      "Model Output Scores: {}\n",
      "\n",
      "Row Index: 897\n",
      "Output Scores: {}\n",
      "Model Output Scores: {}\n",
      "\n",
      "Row Index: 898\n",
      "Output Scores: {}\n",
      "Model Output Scores: {}\n",
      "\n",
      "Row Index: 899\n",
      "Output Scores: {}\n",
      "Model Output Scores: {}\n",
      "\n",
      "Row Index: 900\n",
      "Output Scores: {}\n",
      "Model Output Scores: {}\n",
      "\n",
      "Row Index: 901\n",
      "Output Scores: {}\n",
      "Model Output Scores: {}\n",
      "\n",
      "Row Index: 902\n",
      "Output Scores: {}\n",
      "Model Output Scores: {}\n",
      "\n",
      "Row Index: 903\n",
      "Output Scores: {}\n",
      "Model Output Scores: {}\n",
      "\n",
      "Row Index: 904\n",
      "Output Scores: {}\n",
      "Model Output Scores: {}\n",
      "\n",
      "Row Index: 905\n",
      "Output Scores: {}\n",
      "Model Output Scores: {}\n",
      "\n",
      "Row Index: 906\n",
      "Output Scores: {}\n",
      "Model Output Scores: {}\n",
      "\n",
      "Row Index: 907\n",
      "Output Scores: {}\n",
      "Model Output Scores: {}\n",
      "\n",
      "Row Index: 908\n",
      "Output Scores: {}\n",
      "Model Output Scores: {}\n",
      "\n",
      "Row Index: 909\n",
      "Output Scores: {}\n",
      "Model Output Scores: {}\n",
      "\n",
      "Row Index: 910\n",
      "Output Scores: {}\n",
      "Model Output Scores: {}\n",
      "\n",
      "Row Index: 911\n",
      "Output Scores: {}\n",
      "Model Output Scores: {}\n",
      "\n",
      "Row Index: 912\n",
      "Output Scores: {}\n",
      "Model Output Scores: {}\n",
      "\n",
      "Row Index: 913\n",
      "Output Scores: {}\n",
      "Model Output Scores: {}\n",
      "\n",
      "Row Index: 914\n",
      "Output Scores: {}\n",
      "Model Output Scores: {}\n",
      "\n",
      "Row Index: 915\n",
      "Output Scores: {}\n",
      "Model Output Scores: {}\n",
      "\n",
      "Row Index: 916\n",
      "Output Scores: {}\n",
      "Model Output Scores: {}\n",
      "\n",
      "Row Index: 917\n",
      "Output Scores: {}\n",
      "Model Output Scores: {}\n",
      "\n",
      "Row Index: 918\n",
      "Output Scores: {}\n",
      "Model Output Scores: {}\n",
      "\n",
      "Row Index: 919\n",
      "Output Scores: {}\n",
      "Model Output Scores: {}\n",
      "\n",
      "Row Index: 920\n",
      "Output Scores: {}\n",
      "Model Output Scores: {}\n",
      "\n",
      "Row Index: 921\n",
      "Output Scores: {}\n",
      "Model Output Scores: {}\n",
      "\n",
      "Row Index: 922\n",
      "Output Scores: {}\n",
      "Model Output Scores: {}\n",
      "\n",
      "Row Index: 923\n",
      "Output Scores: {}\n",
      "Model Output Scores: {}\n",
      "\n",
      "Row Index: 924\n",
      "Output Scores: {}\n",
      "Model Output Scores: {}\n",
      "\n",
      "Row Index: 925\n",
      "Output Scores: {}\n",
      "Model Output Scores: {}\n",
      "\n",
      "Row Index: 926\n",
      "Output Scores: {}\n",
      "Model Output Scores: {}\n",
      "\n",
      "Row Index: 927\n",
      "Output Scores: {}\n",
      "Model Output Scores: {}\n",
      "\n",
      "Row Index: 928\n",
      "Output Scores: {}\n",
      "Model Output Scores: {}\n",
      "\n",
      "Row Index: 929\n",
      "Output Scores: {}\n",
      "Model Output Scores: {}\n",
      "\n",
      "Row Index: 930\n",
      "Output Scores: {}\n",
      "Model Output Scores: {}\n",
      "\n",
      "Row Index: 931\n",
      "Output Scores: {}\n",
      "Model Output Scores: {}\n",
      "\n",
      "Row Index: 932\n",
      "Output Scores: {}\n",
      "Model Output Scores: {}\n",
      "\n",
      "Row Index: 933\n",
      "Output Scores: {}\n",
      "Model Output Scores: {}\n",
      "\n",
      "Row Index: 934\n",
      "Output Scores: {}\n",
      "Model Output Scores: {}\n",
      "\n",
      "=== Overall Averages ===\n",
      "Output Average Nutri-Score: None\n",
      "Model Output Average Nutri-Score: None\n"
     ]
    },
    {
     "name": "stderr",
     "output_type": "stream",
     "text": [
      "\n"
     ]
    }
   ],
   "source": [
    "# daily diet - nutri score\n",
    "\n",
    "import ast\n",
    "import pandas as pd\n",
    "import json\n",
    "import re\n",
    "import openai\n",
    "from sklearn.metrics.pairwise import cosine_similarity\n",
    "from sklearn.feature_extraction.text import TfidfVectorizer\n",
    "from dotenv import load_dotenv\n",
    "import os\n",
    "from tqdm import tqdm\n",
    "\n",
    "# Load environment variables\n",
    "load_dotenv()\n",
    "openai.api_key = os.getenv(\"OPENAI_API_KEY\")\n",
    "\n",
    "def extract_numeric_value(value):\n",
    "    try:\n",
    "        if isinstance(value, str):\n",
    "            match = re.search(r\"(\\d+(\\.\\d+)?)\", value)\n",
    "            if match:\n",
    "                return float(match.group(1))\n",
    "        elif isinstance(value, (int, float)):\n",
    "            return float(value)\n",
    "    except Exception as e:\n",
    "        print(f\"Error in extract_numeric_value: {e}, value: {value}\")\n",
    "    return 0.0\n",
    "\n",
    "def is_valid_meal_structure(json_string):\n",
    "    try:\n",
    "        data = json.loads(json_string)\n",
    "        return all(key in data for key in ['Breakfast', 'Lunch', 'Dinner'])\n",
    "    except (json.JSONDecodeError, TypeError):\n",
    "        return False\n",
    "\n",
    "def find_most_similar_row(title, dfh):\n",
    "    try:\n",
    "        dfh['title'] = dfh['title'].fillna('')  # Handle NaN values\n",
    "        vectorizer = TfidfVectorizer()\n",
    "        tfidf_matrix = vectorizer.fit_transform(dfh['title'])\n",
    "        input_vector = vectorizer.transform([title])\n",
    "        similarities = cosine_similarity(input_vector, tfidf_matrix)\n",
    "        most_similar_idx = similarities.argmax()\n",
    "        return dfh.iloc[most_similar_idx]\n",
    "    except Exception as e:\n",
    "        print(f\"Error in find_most_similar_row: {e}, title: {title}\")\n",
    "        return None\n",
    "\n",
    "def identify_fruit_veg(ingredients_list):\n",
    "    try:\n",
    "        prompt = f\"Identify which items in the following ingredient list are fruits or vegetables:\\n\\n{ingredients_list}\\n\\nReturn only the names of items that are fruits or vegetables in a Python list format.\"\n",
    "        response = openai.ChatCompletion.create(\n",
    "            model=\"gpt-3.5-turbo\",\n",
    "            messages=[\n",
    "                {\"role\": \"system\", \"content\": \"You are an assistant identifying fruits and vegetables.\"},\n",
    "                {\"role\": \"user\", \"content\": prompt}\n",
    "            ],\n",
    "            max_tokens=100,\n",
    "            temperature=0\n",
    "        )\n",
    "        fruits_vegetables = response['choices'][0]['message']['content']\n",
    "        return ast.literal_eval(fruits_vegetables)\n",
    "    except Exception as e:\n",
    "        print(f\"Error identifying fruits and vegetables: {e}\")\n",
    "        return []\n",
    "\n",
    "def calculate_fruit_veg_points(ingredients, total_weight):\n",
    "    try:\n",
    "        ingredients_list = ast.literal_eval(ingredients)\n",
    "        fruit_veg_labels = identify_fruit_veg(ingredients_list)\n",
    "\n",
    "        fruit_veg_weight = 0\n",
    "        for ingredient in ingredients_list:\n",
    "            label = ingredient.get('label', '')\n",
    "            weight = extract_numeric_value(ingredient.get('metric_measure', 0))\n",
    "            if label in fruit_veg_labels:\n",
    "                fruit_veg_weight += weight\n",
    "\n",
    "        # 과일/채소 비율을 100g 기준으로 변환\n",
    "        fruit_veg_ratio = (fruit_veg_weight / total_weight) * 100 if total_weight > 0 else 0\n",
    "\n",
    "        if fruit_veg_ratio > 80:\n",
    "            return 5\n",
    "        elif fruit_veg_ratio > 60:\n",
    "            return 2\n",
    "        elif fruit_veg_ratio > 40:\n",
    "            return 1\n",
    "        else:\n",
    "            return 0\n",
    "    except Exception as e:\n",
    "        print(f\"Error calculating fruit_veg_points: {e}\")\n",
    "        return 0\n",
    "\n",
    "def extract_nested_value(data, keys, default=0):\n",
    "    try:\n",
    "        for key in keys:\n",
    "            if isinstance(data, dict):\n",
    "                data = data.get(key, {})\n",
    "            else:\n",
    "                return default\n",
    "        return extract_numeric_value(data) if isinstance(data, (int, float, str)) else default\n",
    "    except Exception as e:\n",
    "        print(f\"Error in extract_nested_value: {e}, keys: {keys}, data: {data}\")\n",
    "        return default\n",
    "\n",
    "def calculate_nutri_score(nutrition_facts, ingredients):\n",
    "    try:\n",
    "        if isinstance(nutrition_facts, str):\n",
    "            nutrition_facts = ast.literal_eval(nutrition_facts)\n",
    "\n",
    "        # 전체 무게 계산\n",
    "        total_weight = sum(\n",
    "            extract_numeric_value(ingredient.get('metric_measure', 0)) \n",
    "            for ingredient in ast.literal_eval(ingredients)\n",
    "        )\n",
    "        if total_weight == 0:\n",
    "            print(\"Warning: Total weight is zero. Skipping calculation.\")\n",
    "            return None\n",
    "\n",
    "        # 100g 기준으로 성분 정규화\n",
    "        energy = extract_nested_value(nutrition_facts, ['Amount per Serving', 'Calories']) / total_weight * 100\n",
    "        saturated_fat = extract_nested_value(nutrition_facts, ['Amount per Serving', 'Total Fat', 'Amount']) / total_weight * 100\n",
    "        sugar = extract_nested_value(nutrition_facts, ['Amount per Serving', 'Total Carbohydrates', 'Total Sugars']) / total_weight * 100\n",
    "        sodium = extract_nested_value(nutrition_facts, ['Amount per Serving', 'Sodium']) / total_weight * 100\n",
    "        fiber = extract_nested_value(nutrition_facts, ['Amount per Serving', 'Total Carbohydrates', 'Dietary Fiber']) / total_weight * 100\n",
    "        protein = extract_nested_value(nutrition_facts, ['Amount per Serving', 'Protein']) / total_weight * 100\n",
    "\n",
    "        # Unfavorable points calculation\n",
    "        energy_points = min(energy / 80, 800)\n",
    "        saturated_fat_points = min(saturated_fat / 1, 10)\n",
    "        sugar_points = min(sugar / 4.5, 45)\n",
    "        sodium_points = min(sodium / 90, 900)\n",
    "\n",
    "        unfavorable_points = energy_points + saturated_fat_points + sugar_points + sodium_points\n",
    "\n",
    "        # Favorable points calculation\n",
    "        fiber_points = min(fiber / 0.7, 3.5)\n",
    "        protein_points = min(protein / 1.6, 8.0)\n",
    "        fruit_veg_points = calculate_fruit_veg_points(ingredients, total_weight)\n",
    "\n",
    "        favorable_points = fiber_points + protein_points + fruit_veg_points\n",
    "\n",
    "        # Final Nutri-Score calculation\n",
    "        total_score = unfavorable_points - favorable_points\n",
    "        return total_score\n",
    "    except Exception as e:\n",
    "        print(f\"Error in calculate_nutri_score: {e}, nutrition_facts: {nutrition_facts}\")\n",
    "        return None\n",
    "\n",
    "def get_nutri_score_grade(score):\n",
    "    if score <= -1:\n",
    "        return \"A\"\n",
    "    elif score <= 2:\n",
    "        return \"B\"\n",
    "    elif score <= 10:\n",
    "        return \"C\"\n",
    "    elif score <= 18:\n",
    "        return \"D\"\n",
    "    else:\n",
    "        return \"E\"\n",
    "\n",
    "def calculate_meal_nutri_score(meal_data, dfh):\n",
    "    meal_scores = {}\n",
    "\n",
    "    for meal, title in meal_data.items():\n",
    "        matched_row = find_most_similar_row(title, dfh)\n",
    "        if matched_row is None:\n",
    "            continue\n",
    "\n",
    "        nutrition_facts = matched_row['nutrition_facts']\n",
    "        ingredients = matched_row['ingredients']\n",
    "        score = calculate_nutri_score(nutrition_facts, ingredients)\n",
    "\n",
    "        if score is None:\n",
    "            print(f\"Warning: Nutri-Score calculation failed for meal '{meal}' with title '{title}'.\")\n",
    "            grade = \"N/A\"\n",
    "        else:\n",
    "            grade = get_nutri_score_grade(score)\n",
    "\n",
    "        meal_scores[meal] = {'score': score, 'grade': grade}\n",
    "\n",
    "    return meal_scores\n",
    "\n",
    "def calculate_scores_with_comparison(df, dfh):\n",
    "    results = []\n",
    "    for idx, row in tqdm(df.iterrows(), total=len(df)):\n",
    "        output_scores = {}\n",
    "        model_scores = {}\n",
    "        if is_valid_meal_structure(row.get('output', '')):\n",
    "            output_data = json.loads(row['output'])\n",
    "            output_scores = calculate_meal_nutri_score(output_data, dfh)\n",
    "        if is_valid_meal_structure(row.get('model_output_512', '')):\n",
    "            model_data = json.loads(row['model_output_512'])\n",
    "            model_scores = calculate_meal_nutri_score(model_data, dfh)\n",
    "        results.append({'row_index': idx, 'output_scores': output_scores, 'model_scores': model_scores})\n",
    "    return results\n",
    "\n",
    "def calculate_average_scores(results):\n",
    "    \"\"\"\n",
    "    Calculate the average Nutri-Scores for outputs and model outputs.\n",
    "    \"\"\"\n",
    "    output_total_score = 0\n",
    "    model_total_score = 0\n",
    "    output_count = 0\n",
    "    model_count = 0\n",
    "\n",
    "    for result in results:\n",
    "        # Extract output scores\n",
    "        for meal, score_data in result['output_scores'].items():\n",
    "            if score_data['score'] is not None:\n",
    "                output_total_score += score_data['score']\n",
    "                output_count += 1\n",
    "\n",
    "        # Extract model scores\n",
    "        for meal, score_data in result['model_scores'].items():\n",
    "            if score_data['score'] is not None:\n",
    "                model_total_score += score_data['score']\n",
    "                model_count += 1\n",
    "\n",
    "    # Calculate averages\n",
    "    output_avg = output_total_score / output_count if output_count > 0 else None\n",
    "    model_avg = model_total_score / model_count if model_count > 0 else None\n",
    "\n",
    "    return output_avg, model_avg\n",
    "\n",
    "\n",
    "# 'daily_diets' task Nutri-Score calculation\n",
    "filtered_df = df[df['task'] == 'daily_diets']\n",
    "results = calculate_scores_with_comparison(filtered_df, dfh)\n",
    "\n",
    "# Calculate overall averages\n",
    "output_avg, model_avg = calculate_average_scores(results)\n",
    "\n",
    "# Print results\n",
    "print(\"=== Results for Each Row ===\")\n",
    "for result in results:\n",
    "    print(f\"Row Index: {result['row_index']}\")\n",
    "    print(f\"Output Scores: {result['output_scores']}\")\n",
    "    print(f\"Model Output Scores: {result['model_scores']}\")\n",
    "    print()\n",
    "\n",
    "print(\"=== Overall Averages ===\")\n",
    "print(f\"Output Average Nutri-Score: {output_avg}\")\n",
    "print(f\"Model Output Average Nutri-Score: {model_avg}\")\n"
   ]
  },
  {
   "cell_type": "code",
   "execution_count": 32,
   "metadata": {},
   "outputs": [
    {
     "name": "stderr",
     "output_type": "stream",
     "text": [
      "  0%|          | 0/246 [00:00<?, ?it/s]"
     ]
    },
    {
     "name": "stderr",
     "output_type": "stream",
     "text": [
      " 64%|██████▍   | 158/246 [03:34<01:46,  1.21s/it]"
     ]
    },
    {
     "name": "stdout",
     "output_type": "stream",
     "text": [
      "Error identifying fruits and vegetables: unterminated string literal (detected at line 1) (<unknown>, line 1)\n"
     ]
    },
    {
     "name": "stderr",
     "output_type": "stream",
     "text": [
      " 84%|████████▍ | 207/246 [04:37<00:40,  1.03s/it]"
     ]
    },
    {
     "name": "stdout",
     "output_type": "stream",
     "text": [
      "Warning: Total weight is zero. Skipping calculation.\n"
     ]
    },
    {
     "name": "stderr",
     "output_type": "stream",
     "text": [
      "100%|██████████| 246/246 [05:27<00:00,  1.33s/it]\n"
     ]
    },
    {
     "ename": "TypeError",
     "evalue": "unsupported operand type(s) for +: 'float' and 'NoneType'",
     "output_type": "error",
     "traceback": [
      "\u001b[0;31m---------------------------------------------------------------------------\u001b[0m",
      "\u001b[0;31mTypeError\u001b[0m                                 Traceback (most recent call last)",
      "Cell \u001b[0;32mIn[32], line 216\u001b[0m\n\u001b[1;32m    214\u001b[0m \u001b[38;5;66;03m# Execution\u001b[39;00m\n\u001b[1;32m    215\u001b[0m filtered_df \u001b[38;5;241m=\u001b[39m df[df[\u001b[38;5;124m'\u001b[39m\u001b[38;5;124mtask\u001b[39m\u001b[38;5;124m'\u001b[39m] \u001b[38;5;241m==\u001b[39m \u001b[38;5;124m'\u001b[39m\u001b[38;5;124malternative_diet\u001b[39m\u001b[38;5;124m'\u001b[39m]\n\u001b[0;32m--> 216\u001b[0m results \u001b[38;5;241m=\u001b[39m \u001b[43mcalculate_scores_with_comparison_no_meals\u001b[49m\u001b[43m(\u001b[49m\u001b[43mfiltered_df\u001b[49m\u001b[43m,\u001b[49m\u001b[43m \u001b[49m\u001b[43mdfh\u001b[49m\u001b[43m)\u001b[49m\n\u001b[1;32m    218\u001b[0m \u001b[38;5;66;03m# Print results\u001b[39;00m\n\u001b[1;32m    219\u001b[0m \u001b[38;5;28;01mfor\u001b[39;00m result \u001b[38;5;129;01min\u001b[39;00m results:\n",
      "Cell \u001b[0;32mIn[32], line 207\u001b[0m, in \u001b[0;36mcalculate_scores_with_comparison_no_meals\u001b[0;34m(df, dfh)\u001b[0m\n\u001b[1;32m    200\u001b[0m         results\u001b[38;5;241m.\u001b[39mappend({\n\u001b[1;32m    201\u001b[0m             \u001b[38;5;124m'\u001b[39m\u001b[38;5;124mrow_index\u001b[39m\u001b[38;5;124m'\u001b[39m: idx,\n\u001b[1;32m    202\u001b[0m             \u001b[38;5;124m'\u001b[39m\u001b[38;5;124moutput_score\u001b[39m\u001b[38;5;124m'\u001b[39m: \u001b[38;5;28;01mNone\u001b[39;00m,\n\u001b[1;32m    203\u001b[0m             \u001b[38;5;124m'\u001b[39m\u001b[38;5;124mmodel_output_score\u001b[39m\u001b[38;5;124m'\u001b[39m: \u001b[38;5;28;01mNone\u001b[39;00m\n\u001b[1;32m    204\u001b[0m         })\n\u001b[1;32m    206\u001b[0m final_output_avg \u001b[38;5;241m=\u001b[39m \u001b[38;5;28msum\u001b[39m(output_scores_list) \u001b[38;5;241m/\u001b[39m \u001b[38;5;28mlen\u001b[39m(output_scores_list) \u001b[38;5;28;01mif\u001b[39;00m output_scores_list \u001b[38;5;28;01melse\u001b[39;00m \u001b[38;5;28;01mNone\u001b[39;00m\n\u001b[0;32m--> 207\u001b[0m final_model_output_avg \u001b[38;5;241m=\u001b[39m \u001b[38;5;28;43msum\u001b[39;49m\u001b[43m(\u001b[49m\u001b[43mmodel_output_scores_list\u001b[49m\u001b[43m)\u001b[49m \u001b[38;5;241m/\u001b[39m \u001b[38;5;28mlen\u001b[39m(model_output_scores_list) \u001b[38;5;28;01mif\u001b[39;00m model_output_scores_list \u001b[38;5;28;01melse\u001b[39;00m \u001b[38;5;28;01mNone\u001b[39;00m\n\u001b[1;32m    209\u001b[0m \u001b[38;5;28mprint\u001b[39m(\u001b[38;5;124mf\u001b[39m\u001b[38;5;124m\"\u001b[39m\u001b[38;5;124mOutput Average Nutri-Score: \u001b[39m\u001b[38;5;132;01m{\u001b[39;00mfinal_output_avg\u001b[38;5;132;01m}\u001b[39;00m\u001b[38;5;124m\"\u001b[39m)\n\u001b[1;32m    210\u001b[0m \u001b[38;5;28mprint\u001b[39m(\u001b[38;5;124mf\u001b[39m\u001b[38;5;124m\"\u001b[39m\u001b[38;5;124mModel Output Average Nutri-Score: \u001b[39m\u001b[38;5;132;01m{\u001b[39;00mfinal_model_output_avg\u001b[38;5;132;01m}\u001b[39;00m\u001b[38;5;124m\"\u001b[39m)\n",
      "\u001b[0;31mTypeError\u001b[0m: unsupported operand type(s) for +: 'float' and 'NoneType'"
     ]
    }
   ],
   "source": [
    "# alternative diet - nutri score\n",
    "\n",
    "import ast\n",
    "import pandas as pd\n",
    "import json\n",
    "import re\n",
    "import openai\n",
    "from sklearn.metrics.pairwise import cosine_similarity\n",
    "from sklearn.feature_extraction.text import TfidfVectorizer\n",
    "from dotenv import load_dotenv\n",
    "import os\n",
    "from tqdm import tqdm\n",
    "\n",
    "# Load environment variables\n",
    "load_dotenv()\n",
    "openai.api_key = os.getenv(\"OPENAI_API_KEY\")\n",
    "\n",
    "def extract_numeric_value(value):\n",
    "    try:\n",
    "        if isinstance(value, str):\n",
    "            match = re.search(r\"(\\d+(\\.\\d+)?)\", value)\n",
    "            if match:\n",
    "                return float(match.group(1))\n",
    "        elif isinstance(value, (int, float)):\n",
    "            return float(value)\n",
    "    except Exception as e:\n",
    "        print(f\"Error in extract_numeric_value: {e}, value: {value}\")\n",
    "    return 0.0\n",
    "\n",
    "def is_valid_meal_structure(json_string):\n",
    "    try:\n",
    "        data = json.loads(json_string)\n",
    "        return isinstance(data, dict)\n",
    "    except (json.JSONDecodeError, TypeError):\n",
    "        return False\n",
    "\n",
    "def find_most_similar_row(title, dfh):\n",
    "    try:\n",
    "        dfh['title'] = dfh['title'].fillna('')  # Handle NaN values\n",
    "        vectorizer = TfidfVectorizer()\n",
    "        tfidf_matrix = vectorizer.fit_transform(dfh['title'])\n",
    "        input_vector = vectorizer.transform([title])\n",
    "        similarities = cosine_similarity(input_vector, tfidf_matrix)\n",
    "        most_similar_idx = similarities.argmax()\n",
    "        return dfh.iloc[most_similar_idx]\n",
    "    except Exception as e:\n",
    "        print(f\"Error in find_most_similar_row: {e}, title: {title}\")\n",
    "        return None\n",
    "\n",
    "def identify_fruit_veg(ingredients_list):\n",
    "    try:\n",
    "        prompt = f\"Identify which items in the following ingredient list are fruits or vegetables:\\n\\n{ingredients_list}\\n\\nReturn only the names of items that are fruits or vegetables in a Python list format.\"\n",
    "        response = openai.ChatCompletion.create(\n",
    "            model=\"gpt-3.5-turbo\",\n",
    "            messages=[\n",
    "                {\"role\": \"system\", \"content\": \"You are an assistant identifying fruits and vegetables.\"},\n",
    "                {\"role\": \"user\", \"content\": prompt}\n",
    "            ],\n",
    "            max_tokens=100,\n",
    "            temperature=0\n",
    "        )\n",
    "        fruits_vegetables = response['choices'][0]['message']['content']\n",
    "        return ast.literal_eval(fruits_vegetables)\n",
    "    except Exception as e:\n",
    "        print(f\"Error identifying fruits and vegetables: {e}\")\n",
    "        return []\n",
    "\n",
    "def calculate_fruit_veg_points(ingredients, total_weight):\n",
    "    try:\n",
    "        ingredients_list = ast.literal_eval(ingredients)\n",
    "        fruit_veg_labels = identify_fruit_veg(ingredients_list)\n",
    "\n",
    "        fruit_veg_weight = 0\n",
    "        for ingredient in ingredients_list:\n",
    "            label = ingredient.get('label', '')\n",
    "            weight = extract_numeric_value(ingredient.get('metric_measure', 0))\n",
    "            if label in fruit_veg_labels:\n",
    "                fruit_veg_weight += weight\n",
    "\n",
    "        # 과일/채소 비율을 100g 기준으로 변환\n",
    "        fruit_veg_ratio = (fruit_veg_weight / total_weight) * 100 if total_weight > 0 else 0\n",
    "\n",
    "        if fruit_veg_ratio > 80:\n",
    "            return 5\n",
    "        elif fruit_veg_ratio > 60:\n",
    "            return 2\n",
    "        elif fruit_veg_ratio > 40:\n",
    "            return 1\n",
    "        else:\n",
    "            return 0\n",
    "    except Exception as e:\n",
    "        print(f\"Error calculating fruit_veg_points: {e}\")\n",
    "        return 0\n",
    "\n",
    "def extract_nested_value(data, keys, default=0):\n",
    "    try:\n",
    "        for key in keys:\n",
    "            if isinstance(data, dict):\n",
    "                data = data.get(key, {})\n",
    "            else:\n",
    "                return default\n",
    "        return extract_numeric_value(data)\n",
    "    except Exception as e:\n",
    "        print(f\"Error in extract_nested_value: {e}, keys: {keys}, data: {data}\")\n",
    "        return default\n",
    "\n",
    "def calculate_nutri_score(nutrition_facts, ingredients):\n",
    "    try:\n",
    "        if isinstance(nutrition_facts, str):\n",
    "            nutrition_facts = ast.literal_eval(nutrition_facts)\n",
    "\n",
    "        # 전체 무게 계산\n",
    "        total_weight = sum(\n",
    "            extract_numeric_value(ingredient.get('metric_measure', 0)) \n",
    "            for ingredient in ast.literal_eval(ingredients)\n",
    "        )\n",
    "        if total_weight == 0:\n",
    "            print(\"Warning: Total weight is zero. Skipping calculation.\")\n",
    "            return None\n",
    "\n",
    "        # 100g 기준으로 성분 정규화\n",
    "        energy = extract_nested_value(nutrition_facts, ['Amount per Serving', 'Calories']) / total_weight * 100\n",
    "        saturated_fat = extract_nested_value(nutrition_facts, ['Amount per Serving', 'Total Fat', 'Amount']) / total_weight * 100\n",
    "        sugar = extract_nested_value(nutrition_facts, ['Amount per Serving', 'Total Carbohydrates', 'Total Sugars']) / total_weight * 100\n",
    "        sodium = extract_nested_value(nutrition_facts, ['Amount per Serving', 'Sodium']) / total_weight * 100\n",
    "        fiber = extract_nested_value(nutrition_facts, ['Amount per Serving', 'Total Carbohydrates', 'Dietary Fiber']) / total_weight * 100\n",
    "        protein = extract_nested_value(nutrition_facts, ['Amount per Serving', 'Protein']) / total_weight * 100\n",
    "\n",
    "        # Unfavorable points calculation\n",
    "        energy_points = min(energy / 80, 800)\n",
    "        saturated_fat_points = min(saturated_fat / 1, 10)\n",
    "        sugar_points = min(sugar / 4.5, 45)\n",
    "        sodium_points = min(sodium / 90, 900)\n",
    "\n",
    "        unfavorable_points = energy_points + saturated_fat_points + sugar_points + sodium_points\n",
    "\n",
    "        # Favorable points calculation\n",
    "        fiber_points = min(fiber / 0.7, 3.5)\n",
    "        protein_points = min(protein / 1.6, 8.0)\n",
    "        fruit_veg_points = calculate_fruit_veg_points(ingredients, total_weight)\n",
    "\n",
    "        favorable_points = fiber_points + protein_points + fruit_veg_points\n",
    "\n",
    "        # Final Nutri-Score calculation\n",
    "        total_score = unfavorable_points - favorable_points\n",
    "        return total_score\n",
    "    except Exception as e:\n",
    "        print(f\"Error in calculate_nutri_score: {e}, nutrition_facts: {nutrition_facts}\")\n",
    "        return None\n",
    "\n",
    "def get_nutri_score_grade(score):\n",
    "    if score <= -1:\n",
    "        return \"A\"\n",
    "    elif score <= 2:\n",
    "        return \"B\"\n",
    "    elif score <= 10:\n",
    "        return \"C\"\n",
    "    elif score <= 18:\n",
    "        return \"D\"\n",
    "    else:\n",
    "        return \"E\"\n",
    "\n",
    "def calculate_scores_with_comparison_no_meals(df, dfh):\n",
    "    results = []\n",
    "    output_scores_list = []\n",
    "    model_output_scores_list = []\n",
    "\n",
    "    for idx, row in tqdm(df.iterrows(), total=len(df)):\n",
    "        try:\n",
    "            output_text = row.get('output', '')\n",
    "            if output_text:\n",
    "                matched_row = find_most_similar_row(output_text, dfh)\n",
    "                if matched_row is not None:\n",
    "                    nutrition_facts = matched_row['nutrition_facts']\n",
    "                    ingredients = matched_row['ingredients']\n",
    "                    output_score = calculate_nutri_score(nutrition_facts, ingredients)\n",
    "                    output_scores_list.append(output_score)\n",
    "                else:\n",
    "                    output_score = None\n",
    "\n",
    "            model_output_text = row.get('model_output_512', '')\n",
    "            if model_output_text:\n",
    "                matched_row = find_most_similar_row(model_output_text, dfh)\n",
    "                if matched_row is not None:\n",
    "                    nutrition_facts = matched_row['nutrition_facts']\n",
    "                    ingredients = matched_row['ingredients']\n",
    "                    model_output_score = calculate_nutri_score(nutrition_facts, ingredients)\n",
    "                    model_output_scores_list.append(model_output_score)\n",
    "                else:\n",
    "                    model_output_score = None\n",
    "\n",
    "            results.append({\n",
    "                'row_index': idx,\n",
    "                'output_score': output_score,\n",
    "                'model_output_score': model_output_score\n",
    "            })\n",
    "\n",
    "        except Exception as e:\n",
    "            print(f\"Error processing row {idx}: {e}\")\n",
    "            results.append({\n",
    "                'row_index': idx,\n",
    "                'output_score': None,\n",
    "                'model_output_score': None\n",
    "            })\n",
    "\n",
    "    final_output_avg = sum(output_scores_list) / len(output_scores_list) if output_scores_list else None\n",
    "    final_model_output_avg = sum(model_output_scores_list) / len(model_output_scores_list) if model_output_scores_list else None\n",
    "\n",
    "    print(f\"Output Average Nutri-Score: {final_output_avg}\")\n",
    "    print(f\"Model Output Average Nutri-Score: {final_model_output_avg}\")\n",
    "\n",
    "    return results\n",
    "\n",
    "# Execution\n",
    "filtered_df = df[df['task'] == 'alternative_diet']\n",
    "results = calculate_scores_with_comparison_no_meals(filtered_df, dfh)\n",
    "\n",
    "# Print results\n",
    "for result in results:\n",
    "    print(result)\n"
   ]
  },
  {
   "cell_type": "code",
   "execution_count": null,
   "metadata": {},
   "outputs": [],
   "source": []
  }
 ],
 "metadata": {
  "kernelspec": {
   "display_name": "unsloth_env_kernel",
   "language": "python",
   "name": "unsloth_env"
  },
  "language_info": {
   "codemirror_mode": {
    "name": "ipython",
    "version": 3
   },
   "file_extension": ".py",
   "mimetype": "text/x-python",
   "name": "python",
   "nbconvert_exporter": "python",
   "pygments_lexer": "ipython3",
   "version": "3.11.11"
  }
 },
 "nbformat": 4,
 "nbformat_minor": 2
}
